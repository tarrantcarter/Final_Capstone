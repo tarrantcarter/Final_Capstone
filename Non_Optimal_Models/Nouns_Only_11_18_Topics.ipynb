{
  "nbformat": 4,
  "nbformat_minor": 0,
  "metadata": {
    "kernelspec": {
      "display_name": "Python 3",
      "language": "python",
      "name": "python3"
    },
    "language_info": {
      "codemirror_mode": {
        "name": "ipython",
        "version": 3
      },
      "file_extension": ".py",
      "mimetype": "text/x-python",
      "name": "python",
      "nbconvert_exporter": "python",
      "pygments_lexer": "ipython3",
      "version": "3.7.6"
    },
    "colab": {
      "name": "Nouns_Only_11-18_Topics.ipynb",
      "provenance": [],
      "collapsed_sections": [],
      "machine_shape": "hm"
    }
  },
  "cells": [
    {
      "cell_type": "code",
      "metadata": {
        "id": "nlGN9q2hB1ms",
        "colab": {
          "base_uri": "https://localhost:8080/"
        },
        "outputId": "caef64b4-e58c-4381-97a5-6640bdcc755f"
      },
      "source": [
        "!pip install pyLDAvis --quiet\n",
        "!pip install chart_studio --quiet\n"
      ],
      "execution_count": 1,
      "outputs": [
        {
          "output_type": "stream",
          "text": [
            "\u001b[K     |████████████████████████████████| 1.6MB 10.4MB/s \n",
            "\u001b[?25h  Building wheel for pyLDAvis (setup.py) ... \u001b[?25l\u001b[?25hdone\n",
            "\u001b[K     |████████████████████████████████| 71kB 4.1MB/s \n",
            "\u001b[?25h"
          ],
          "name": "stdout"
        }
      ]
    },
    {
      "cell_type": "code",
      "metadata": {
        "id": "S39PKkWJTM6_"
      },
      "source": [
        "import pandas as pd\n",
        "import numpy as np\n",
        "import time\n",
        "import re\n",
        "import warnings\n",
        "import matplotlib.pyplot as plt\n",
        "import seaborn as sns\n",
        "from sklearn.decomposition import LatentDirichletAllocation\n",
        "import gensim\n",
        "from spacy.tokenizer import Tokenizer\n",
        "import gensim.corpora as corpora\n",
        "from gensim.models.ldamulticore import LdaMulticore\n",
        "from pprint import pprint\n",
        "from gensim.models.coherencemodel import CoherenceModel\n",
        "import plotly.express as px\n",
        "import pyLDAvis.gensim\n",
        "import chart_studio\n",
        "import chart_studio.plotly as py \n",
        "import chart_studio.tools as tls\n",
        "from operator import itemgetter\n",
        "from ipywidgets import interact\n",
        "import tqdm\n",
        "from IPython.display import display, Markdown, clear_output\n",
        "# widget packages\n",
        "import ipywidgets as widgets\n",
        "\n",
        "\n",
        "# supress warnings\n",
        "warnings.filterwarnings(\"ignore\")"
      ],
      "execution_count": 2,
      "outputs": []
    },
    {
      "cell_type": "code",
      "metadata": {
        "colab": {
          "base_uri": "https://localhost:8080/"
        },
        "id": "rOCdohTeTVXy",
        "outputId": "2e4a3c9f-fc81-49ac-b3b0-350aa9498629"
      },
      "source": [
        "from google.colab import drive\n",
        "drive.mount('/content/drive')"
      ],
      "execution_count": 3,
      "outputs": [
        {
          "output_type": "stream",
          "text": [
            "Mounted at /content/drive\n"
          ],
          "name": "stdout"
        }
      ]
    },
    {
      "cell_type": "markdown",
      "metadata": {
        "id": "6IvJKQxX02eY"
      },
      "source": [
        "We will load in our preprocessed tweets from our [data cleaning notebook](https://github.com/tarrantcarter/Final_Capstone/blob/main/Modern_Motivation_Data_Cleaning_Feature_Engineering.ipynb). The csv can be found [here](https://drive.google.com/file/d/1-d-61YuocweY0F3rSnf-idL1ixbuKq4H/view?usp=sharing). "
      ]
    },
    {
      "cell_type": "code",
      "metadata": {
        "id": "4BbNTyvSTM6_"
      },
      "source": [
        "# load in cleaned tweets from data cleaning notebook\n",
        "tweets_cleaned = pd.read_json(\"/content/drive/MyDrive/Data/NLP_Capstone/motivational_tweets_cleaned.json\")"
      ],
      "execution_count": 4,
      "outputs": []
    },
    {
      "cell_type": "code",
      "metadata": {
        "colab": {
          "base_uri": "https://localhost:8080/",
          "height": 598
        },
        "id": "7f_G-wOgTM7A",
        "outputId": "394488bf-f4e1-4f57-9889-0655e42cc550"
      },
      "source": [
        "tweets_cleaned.head()"
      ],
      "execution_count": 5,
      "outputs": [
        {
          "output_type": "execute_result",
          "data": {
            "text/html": [
              "<div>\n",
              "<style scoped>\n",
              "    .dataframe tbody tr th:only-of-type {\n",
              "        vertical-align: middle;\n",
              "    }\n",
              "\n",
              "    .dataframe tbody tr th {\n",
              "        vertical-align: top;\n",
              "    }\n",
              "\n",
              "    .dataframe thead th {\n",
              "        text-align: right;\n",
              "    }\n",
              "</style>\n",
              "<table border=\"1\" class=\"dataframe\">\n",
              "  <thead>\n",
              "    <tr style=\"text-align: right;\">\n",
              "      <th></th>\n",
              "      <th>date</th>\n",
              "      <th>user_name</th>\n",
              "      <th>content</th>\n",
              "      <th>content_preprocessed</th>\n",
              "      <th>unigram_tokens</th>\n",
              "      <th>ngrams</th>\n",
              "      <th>ngram_tokens</th>\n",
              "      <th>nouns_only</th>\n",
              "      <th>nouns_verbs</th>\n",
              "      <th>bigrams_trigrams</th>\n",
              "      <th>bigrams_trigrams_strings</th>\n",
              "    </tr>\n",
              "  </thead>\n",
              "  <tbody>\n",
              "    <tr>\n",
              "      <th>44</th>\n",
              "      <td>2021-01-17 22:13:17</td>\n",
              "      <td>LewisHowes</td>\n",
              "      <td>Know this. Everything is happening for a reaso...</td>\n",
              "      <td>know happen reason favor betterment future pai...</td>\n",
              "      <td>[know, happen, reason, favor, betterment, futu...</td>\n",
              "      <td>know_happen_reason favor betterment future pai...</td>\n",
              "      <td>[know_happen_reason, favor, betterment, future...</td>\n",
              "      <td>[reason, favor, betterment, future, pain, feel...</td>\n",
              "      <td>[know, reason, favor, betterment, future, pain...</td>\n",
              "      <td>[know_happen_reason]</td>\n",
              "      <td>know_happen_reason</td>\n",
              "    </tr>\n",
              "    <tr>\n",
              "      <th>61</th>\n",
              "      <td>2021-01-15 15:28:06</td>\n",
              "      <td>LewisHowes</td>\n",
              "      <td>Protect your inner peace at all costs. Create ...</td>\n",
              "      <td>protect inner peace cost create daily practice...</td>\n",
              "      <td>[protect, inner, peace, cost, create, daily, p...</td>\n",
              "      <td>protect inner_peace cost create daily_practice...</td>\n",
              "      <td>[protect, inner_peace, cost, create, daily_pra...</td>\n",
              "      <td>[peace, cost, practice, communicate, stress, d...</td>\n",
              "      <td>[peace, cost, practice, communicate, stress, d...</td>\n",
              "      <td>[inner_peace, daily_practice]</td>\n",
              "      <td>inner_peace daily_practice</td>\n",
              "    </tr>\n",
              "    <tr>\n",
              "      <th>161</th>\n",
              "      <td>2021-01-07 16:00:29</td>\n",
              "      <td>LewisHowes</td>\n",
              "      <td>Always remember to ask for exactly what you wa...</td>\n",
              "      <td>remember ask exactly want ask love good health...</td>\n",
              "      <td>[remember, ask, exactly, want, ask, love, good...</td>\n",
              "      <td>remember ask exactly want ask love good health...</td>\n",
              "      <td>[remember, ask, exactly, want, ask, love, good...</td>\n",
              "      <td>[health, abundance, peace, ask, wisdom, creati...</td>\n",
              "      <td>[remember, health, abundance, peace, ask, wisd...</td>\n",
              "      <td>[health_abundance, ask_wisdom]</td>\n",
              "      <td>health_abundance ask_wisdom</td>\n",
              "    </tr>\n",
              "    <tr>\n",
              "      <th>274</th>\n",
              "      <td>2021-01-01 02:44:46</td>\n",
              "      <td>LewisHowes</td>\n",
              "      <td>This will be your greatest year ever. All your...</td>\n",
              "      <td>great year work start pay earn happy love deep...</td>\n",
              "      <td>[great, year, work, start, pay, earn, happy, l...</td>\n",
              "      <td>great year work start pay earn happy love deep...</td>\n",
              "      <td>[great, year, work, start, pay, earn, happy, l...</td>\n",
              "      <td>[year, work, start, earn, love, embrace, fear,...</td>\n",
              "      <td>[year, work, start, pay, earn, love, embrace, ...</td>\n",
              "      <td>[massive_action]</td>\n",
              "      <td>massive_action</td>\n",
              "    </tr>\n",
              "    <tr>\n",
              "      <th>317</th>\n",
              "      <td>2020-12-30 01:38:35</td>\n",
              "      <td>LewisHowes</td>\n",
              "      <td>Be grateful for the breakdown this year. It's ...</td>\n",
              "      <td>grateful breakdown year set massive breakthrou...</td>\n",
              "      <td>[grateful, breakdown, year, set, massive, brea...</td>\n",
              "      <td>grateful breakdown year set massive breakthrou...</td>\n",
              "      <td>[grateful, breakdown, year, set, massive, brea...</td>\n",
              "      <td>[year, breakthrough, money, mission, get, rela...</td>\n",
              "      <td>[year, set, breakthrough, money, come, mission...</td>\n",
              "      <td>[real_friend]</td>\n",
              "      <td>real_friend</td>\n",
              "    </tr>\n",
              "  </tbody>\n",
              "</table>\n",
              "</div>"
            ],
            "text/plain": [
              "                   date  ...     bigrams_trigrams_strings\n",
              "44  2021-01-17 22:13:17  ...           know_happen_reason\n",
              "61  2021-01-15 15:28:06  ...   inner_peace daily_practice\n",
              "161 2021-01-07 16:00:29  ...  health_abundance ask_wisdom\n",
              "274 2021-01-01 02:44:46  ...               massive_action\n",
              "317 2020-12-30 01:38:35  ...                  real_friend\n",
              "\n",
              "[5 rows x 11 columns]"
            ]
          },
          "metadata": {
            "tags": []
          },
          "execution_count": 5
        }
      ]
    },
    {
      "cell_type": "code",
      "metadata": {
        "colab": {
          "base_uri": "https://localhost:8080/",
          "height": 609
        },
        "id": "X5gUYa2fu5rc",
        "outputId": "6a07fece-7fb0-4b64-9e58-06b70db7586e"
      },
      "source": [
        "tweets_cleaned.applymap(type)"
      ],
      "execution_count": 6,
      "outputs": [
        {
          "output_type": "execute_result",
          "data": {
            "text/html": [
              "<div>\n",
              "<style scoped>\n",
              "    .dataframe tbody tr th:only-of-type {\n",
              "        vertical-align: middle;\n",
              "    }\n",
              "\n",
              "    .dataframe tbody tr th {\n",
              "        vertical-align: top;\n",
              "    }\n",
              "\n",
              "    .dataframe thead th {\n",
              "        text-align: right;\n",
              "    }\n",
              "</style>\n",
              "<table border=\"1\" class=\"dataframe\">\n",
              "  <thead>\n",
              "    <tr style=\"text-align: right;\">\n",
              "      <th></th>\n",
              "      <th>date</th>\n",
              "      <th>user_name</th>\n",
              "      <th>content</th>\n",
              "      <th>content_preprocessed</th>\n",
              "      <th>unigram_tokens</th>\n",
              "      <th>ngrams</th>\n",
              "      <th>ngram_tokens</th>\n",
              "      <th>nouns_only</th>\n",
              "      <th>nouns_verbs</th>\n",
              "      <th>bigrams_trigrams</th>\n",
              "      <th>bigrams_trigrams_strings</th>\n",
              "    </tr>\n",
              "  </thead>\n",
              "  <tbody>\n",
              "    <tr>\n",
              "      <th>44</th>\n",
              "      <td>&lt;class 'pandas._libs.tslibs.timestamps.Timesta...</td>\n",
              "      <td>&lt;class 'str'&gt;</td>\n",
              "      <td>&lt;class 'str'&gt;</td>\n",
              "      <td>&lt;class 'str'&gt;</td>\n",
              "      <td>&lt;class 'list'&gt;</td>\n",
              "      <td>&lt;class 'str'&gt;</td>\n",
              "      <td>&lt;class 'list'&gt;</td>\n",
              "      <td>&lt;class 'list'&gt;</td>\n",
              "      <td>&lt;class 'list'&gt;</td>\n",
              "      <td>&lt;class 'list'&gt;</td>\n",
              "      <td>&lt;class 'str'&gt;</td>\n",
              "    </tr>\n",
              "    <tr>\n",
              "      <th>61</th>\n",
              "      <td>&lt;class 'pandas._libs.tslibs.timestamps.Timesta...</td>\n",
              "      <td>&lt;class 'str'&gt;</td>\n",
              "      <td>&lt;class 'str'&gt;</td>\n",
              "      <td>&lt;class 'str'&gt;</td>\n",
              "      <td>&lt;class 'list'&gt;</td>\n",
              "      <td>&lt;class 'str'&gt;</td>\n",
              "      <td>&lt;class 'list'&gt;</td>\n",
              "      <td>&lt;class 'list'&gt;</td>\n",
              "      <td>&lt;class 'list'&gt;</td>\n",
              "      <td>&lt;class 'list'&gt;</td>\n",
              "      <td>&lt;class 'str'&gt;</td>\n",
              "    </tr>\n",
              "    <tr>\n",
              "      <th>161</th>\n",
              "      <td>&lt;class 'pandas._libs.tslibs.timestamps.Timesta...</td>\n",
              "      <td>&lt;class 'str'&gt;</td>\n",
              "      <td>&lt;class 'str'&gt;</td>\n",
              "      <td>&lt;class 'str'&gt;</td>\n",
              "      <td>&lt;class 'list'&gt;</td>\n",
              "      <td>&lt;class 'str'&gt;</td>\n",
              "      <td>&lt;class 'list'&gt;</td>\n",
              "      <td>&lt;class 'list'&gt;</td>\n",
              "      <td>&lt;class 'list'&gt;</td>\n",
              "      <td>&lt;class 'list'&gt;</td>\n",
              "      <td>&lt;class 'str'&gt;</td>\n",
              "    </tr>\n",
              "    <tr>\n",
              "      <th>274</th>\n",
              "      <td>&lt;class 'pandas._libs.tslibs.timestamps.Timesta...</td>\n",
              "      <td>&lt;class 'str'&gt;</td>\n",
              "      <td>&lt;class 'str'&gt;</td>\n",
              "      <td>&lt;class 'str'&gt;</td>\n",
              "      <td>&lt;class 'list'&gt;</td>\n",
              "      <td>&lt;class 'str'&gt;</td>\n",
              "      <td>&lt;class 'list'&gt;</td>\n",
              "      <td>&lt;class 'list'&gt;</td>\n",
              "      <td>&lt;class 'list'&gt;</td>\n",
              "      <td>&lt;class 'list'&gt;</td>\n",
              "      <td>&lt;class 'str'&gt;</td>\n",
              "    </tr>\n",
              "    <tr>\n",
              "      <th>317</th>\n",
              "      <td>&lt;class 'pandas._libs.tslibs.timestamps.Timesta...</td>\n",
              "      <td>&lt;class 'str'&gt;</td>\n",
              "      <td>&lt;class 'str'&gt;</td>\n",
              "      <td>&lt;class 'str'&gt;</td>\n",
              "      <td>&lt;class 'list'&gt;</td>\n",
              "      <td>&lt;class 'str'&gt;</td>\n",
              "      <td>&lt;class 'list'&gt;</td>\n",
              "      <td>&lt;class 'list'&gt;</td>\n",
              "      <td>&lt;class 'list'&gt;</td>\n",
              "      <td>&lt;class 'list'&gt;</td>\n",
              "      <td>&lt;class 'str'&gt;</td>\n",
              "    </tr>\n",
              "    <tr>\n",
              "      <th>...</th>\n",
              "      <td>...</td>\n",
              "      <td>...</td>\n",
              "      <td>...</td>\n",
              "      <td>...</td>\n",
              "      <td>...</td>\n",
              "      <td>...</td>\n",
              "      <td>...</td>\n",
              "      <td>...</td>\n",
              "      <td>...</td>\n",
              "      <td>...</td>\n",
              "      <td>...</td>\n",
              "    </tr>\n",
              "    <tr>\n",
              "      <th>977598</th>\n",
              "      <td>&lt;class 'pandas._libs.tslibs.timestamps.Timesta...</td>\n",
              "      <td>&lt;class 'str'&gt;</td>\n",
              "      <td>&lt;class 'str'&gt;</td>\n",
              "      <td>&lt;class 'str'&gt;</td>\n",
              "      <td>&lt;class 'list'&gt;</td>\n",
              "      <td>&lt;class 'str'&gt;</td>\n",
              "      <td>&lt;class 'list'&gt;</td>\n",
              "      <td>&lt;class 'list'&gt;</td>\n",
              "      <td>&lt;class 'list'&gt;</td>\n",
              "      <td>&lt;class 'list'&gt;</td>\n",
              "      <td>&lt;class 'str'&gt;</td>\n",
              "    </tr>\n",
              "    <tr>\n",
              "      <th>977599</th>\n",
              "      <td>&lt;class 'pandas._libs.tslibs.timestamps.Timesta...</td>\n",
              "      <td>&lt;class 'str'&gt;</td>\n",
              "      <td>&lt;class 'str'&gt;</td>\n",
              "      <td>&lt;class 'str'&gt;</td>\n",
              "      <td>&lt;class 'list'&gt;</td>\n",
              "      <td>&lt;class 'str'&gt;</td>\n",
              "      <td>&lt;class 'list'&gt;</td>\n",
              "      <td>&lt;class 'list'&gt;</td>\n",
              "      <td>&lt;class 'list'&gt;</td>\n",
              "      <td>&lt;class 'list'&gt;</td>\n",
              "      <td>&lt;class 'str'&gt;</td>\n",
              "    </tr>\n",
              "    <tr>\n",
              "      <th>977606</th>\n",
              "      <td>&lt;class 'pandas._libs.tslibs.timestamps.Timesta...</td>\n",
              "      <td>&lt;class 'str'&gt;</td>\n",
              "      <td>&lt;class 'str'&gt;</td>\n",
              "      <td>&lt;class 'str'&gt;</td>\n",
              "      <td>&lt;class 'list'&gt;</td>\n",
              "      <td>&lt;class 'str'&gt;</td>\n",
              "      <td>&lt;class 'list'&gt;</td>\n",
              "      <td>&lt;class 'list'&gt;</td>\n",
              "      <td>&lt;class 'list'&gt;</td>\n",
              "      <td>&lt;class 'list'&gt;</td>\n",
              "      <td>&lt;class 'str'&gt;</td>\n",
              "    </tr>\n",
              "    <tr>\n",
              "      <th>977608</th>\n",
              "      <td>&lt;class 'pandas._libs.tslibs.timestamps.Timesta...</td>\n",
              "      <td>&lt;class 'str'&gt;</td>\n",
              "      <td>&lt;class 'str'&gt;</td>\n",
              "      <td>&lt;class 'str'&gt;</td>\n",
              "      <td>&lt;class 'list'&gt;</td>\n",
              "      <td>&lt;class 'str'&gt;</td>\n",
              "      <td>&lt;class 'list'&gt;</td>\n",
              "      <td>&lt;class 'list'&gt;</td>\n",
              "      <td>&lt;class 'list'&gt;</td>\n",
              "      <td>&lt;class 'list'&gt;</td>\n",
              "      <td>&lt;class 'str'&gt;</td>\n",
              "    </tr>\n",
              "    <tr>\n",
              "      <th>977610</th>\n",
              "      <td>&lt;class 'pandas._libs.tslibs.timestamps.Timesta...</td>\n",
              "      <td>&lt;class 'str'&gt;</td>\n",
              "      <td>&lt;class 'str'&gt;</td>\n",
              "      <td>&lt;class 'str'&gt;</td>\n",
              "      <td>&lt;class 'list'&gt;</td>\n",
              "      <td>&lt;class 'str'&gt;</td>\n",
              "      <td>&lt;class 'list'&gt;</td>\n",
              "      <td>&lt;class 'list'&gt;</td>\n",
              "      <td>&lt;class 'list'&gt;</td>\n",
              "      <td>&lt;class 'list'&gt;</td>\n",
              "      <td>&lt;class 'str'&gt;</td>\n",
              "    </tr>\n",
              "  </tbody>\n",
              "</table>\n",
              "<p>621449 rows × 11 columns</p>\n",
              "</div>"
            ],
            "text/plain": [
              "                                                     date  ... bigrams_trigrams_strings\n",
              "44      <class 'pandas._libs.tslibs.timestamps.Timesta...  ...            <class 'str'>\n",
              "61      <class 'pandas._libs.tslibs.timestamps.Timesta...  ...            <class 'str'>\n",
              "161     <class 'pandas._libs.tslibs.timestamps.Timesta...  ...            <class 'str'>\n",
              "274     <class 'pandas._libs.tslibs.timestamps.Timesta...  ...            <class 'str'>\n",
              "317     <class 'pandas._libs.tslibs.timestamps.Timesta...  ...            <class 'str'>\n",
              "...                                                   ...  ...                      ...\n",
              "977598  <class 'pandas._libs.tslibs.timestamps.Timesta...  ...            <class 'str'>\n",
              "977599  <class 'pandas._libs.tslibs.timestamps.Timesta...  ...            <class 'str'>\n",
              "977606  <class 'pandas._libs.tslibs.timestamps.Timesta...  ...            <class 'str'>\n",
              "977608  <class 'pandas._libs.tslibs.timestamps.Timesta...  ...            <class 'str'>\n",
              "977610  <class 'pandas._libs.tslibs.timestamps.Timesta...  ...            <class 'str'>\n",
              "\n",
              "[621449 rows x 11 columns]"
            ]
          },
          "metadata": {
            "tags": []
          },
          "execution_count": 6
        }
      ]
    },
    {
      "cell_type": "code",
      "metadata": {
        "colab": {
          "base_uri": "https://localhost:8080/"
        },
        "id": "30qByL1knIDP",
        "outputId": "47e5f0f8-c845-49ff-f4a9-0063008602b2"
      },
      "source": [
        "tweets_cleaned.info()"
      ],
      "execution_count": 7,
      "outputs": [
        {
          "output_type": "stream",
          "text": [
            "<class 'pandas.core.frame.DataFrame'>\n",
            "Int64Index: 621449 entries, 44 to 977610\n",
            "Data columns (total 11 columns):\n",
            " #   Column                    Non-Null Count   Dtype         \n",
            "---  ------                    --------------   -----         \n",
            " 0   date                      621449 non-null  datetime64[ns]\n",
            " 1   user_name                 621449 non-null  object        \n",
            " 2   content                   621449 non-null  object        \n",
            " 3   content_preprocessed      621449 non-null  object        \n",
            " 4   unigram_tokens            621449 non-null  object        \n",
            " 5   ngrams                    621449 non-null  object        \n",
            " 6   ngram_tokens              621449 non-null  object        \n",
            " 7   nouns_only                621449 non-null  object        \n",
            " 8   nouns_verbs               621449 non-null  object        \n",
            " 9   bigrams_trigrams          621449 non-null  object        \n",
            " 10  bigrams_trigrams_strings  621449 non-null  object        \n",
            "dtypes: datetime64[ns](1), object(10)\n",
            "memory usage: 56.9+ MB\n"
          ],
          "name": "stdout"
        }
      ]
    },
    {
      "cell_type": "code",
      "metadata": {
        "colab": {
          "base_uri": "https://localhost:8080/"
        },
        "id": "8xOh3ReEndgg",
        "outputId": "ccc3b016-be66-42f8-ef27-02f49e923865"
      },
      "source": [
        "tweets_cleaned.shape"
      ],
      "execution_count": 8,
      "outputs": [
        {
          "output_type": "execute_result",
          "data": {
            "text/plain": [
              "(621449, 11)"
            ]
          },
          "metadata": {
            "tags": []
          },
          "execution_count": 8
        }
      ]
    },
    {
      "cell_type": "markdown",
      "metadata": {
        "id": "pHgDycOJX7MU"
      },
      "source": [
        "# Topic Modeling"
      ]
    },
    {
      "cell_type": "code",
      "metadata": {
        "colab": {
          "base_uri": "https://localhost:8080/"
        },
        "id": "g7hq1gAeTM7O",
        "outputId": "21bdf6b7-b2a5-42ac-818a-731b38db3295"
      },
      "source": [
        "# create dictionary\n",
        "id2word = corpora.Dictionary(tweets_cleaned['nouns_only'])\n",
        "# create texts corpus\n",
        "texts = tweets_cleaned['nouns_only']\n",
        "# term document frequency\n",
        "corpus = [id2word.doc2bow(text) for text in texts]\n",
        "# print first 30 tuples from corpus\n",
        "print(corpus[:1][0][:30])"
      ],
      "execution_count": 9,
      "outputs": [
        {
          "output_type": "stream",
          "text": [
            "[(0, 1), (1, 1), (2, 1), (3, 1), (4, 1), (5, 1), (6, 1), (7, 1), (8, 1), (9, 1)]\n"
          ],
          "name": "stdout"
        }
      ]
    },
    {
      "cell_type": "code",
      "metadata": {
        "id": "fOrtT9glftHi"
      },
      "source": [
        "# number of topics\n",
        "num_topics = 10\n",
        "# build LDA model\n",
        "base_model = gensim.models.LdaMulticore(corpus=corpus,\n",
        "                                       id2word=id2word,\n",
        "                                       num_topics=num_topics)\n",
        "# # print the keyword in the 10 topics\n",
        "# pprint(base_model.print_topics())\n",
        "# doc_lda = base_model[corpus]"
      ],
      "execution_count": 10,
      "outputs": []
    },
    {
      "cell_type": "code",
      "metadata": {
        "colab": {
          "base_uri": "https://localhost:8080/"
        },
        "id": "l8N7x_QGk4Om",
        "outputId": "01884367-b81a-4d6c-afbd-519bf8264b85"
      },
      "source": [
        "# filtering for words \n",
        "words = [re.findall(r'\"([^\"]*)\"',t[1]) for t in base_model.print_topics()]\n",
        "\n",
        "# create topic sorted by 10 most relevent words\n",
        "topics = [' '.join(t[0:10]) for t in words]\n",
        "\n",
        "\n",
        "# print most relevent words for each topic\n",
        "for id, t in enumerate(topics): \n",
        "    print(f\"------ Topic {id} ------\")\n",
        "    print(t, end=\"\\n\\n\")"
      ],
      "execution_count": 11,
      "outputs": [
        {
          "output_type": "stream",
          "text": [
            "------ Topic 0 ------\n",
            "day success failure learn happiness jim practice trust rohn enemy\n",
            "\n",
            "------ Topic 1 ------\n",
            "thing power today time end henry napoleon look life robert\n",
            "\n",
            "------ Topic 2 ------\n",
            "mind peace energy peale fall vincent think ability fact path\n",
            "\n",
            "------ Topic 3 ------\n",
            "work matter opportunity churchill winston action fear step ralph thomas\n",
            "\n",
            "------ Topic 4 ------\n",
            "life change love power lama dalai hold gift release covey\n",
            "\n",
            "------ Topic 5 ------\n",
            "way life create person reality control question amp get mean\n",
            "\n",
            "------ Topic 6 ------\n",
            "man einstein john proverb time result lincoln experience woman albert\n",
            "\n",
            "------ Topic 7 ------\n",
            "dyer passion franklin wisdom respect eye goal care character self\n",
            "\n",
            "------ Topic 8 ------\n",
            "time world act man body treat moment courage judge truth\n",
            "\n",
            "------ Topic 9 ------\n",
            "heart amp choice look dream feel place roosevelt george miracle\n",
            "\n"
          ],
          "name": "stdout"
        }
      ]
    },
    {
      "cell_type": "code",
      "metadata": {
        "colab": {
          "base_uri": "https://localhost:8080/"
        },
        "id": "PBmHOCLAk5aZ",
        "outputId": "1d658879-06bc-4780-b8a5-0baf926c4fa5"
      },
      "source": [
        "# Compute Perplexity\n",
        "## a measure of how good the model is. lower the better\n",
        "base_perplexity = base_model.log_perplexity(corpus)\n",
        "print('\\nPerplexity: ', base_perplexity) \n",
        "\n",
        "# Compute Coherence Score\n",
        "coherence_model = CoherenceModel(model=base_model, texts=tweets_cleaned['nouns_only'], \n",
        "                                   dictionary=id2word, coherence='c_v')\n",
        "coherence_lda_model_base = coherence_model.get_coherence()\n",
        "print('\\nCoherence Score: ', coherence_lda_model_base)"
      ],
      "execution_count": 12,
      "outputs": [
        {
          "output_type": "stream",
          "text": [
            "\n",
            "Perplexity:  -6.931182445605554\n",
            "\n",
            "Coherence Score:  0.6223637004612268\n"
          ],
          "name": "stdout"
        }
      ]
    },
    {
      "cell_type": "code",
      "metadata": {
        "colab": {
          "base_uri": "https://localhost:8080/",
          "height": 881
        },
        "id": "3yKtvh9Qlvgu",
        "outputId": "1fc06aea-c1fc-40b9-f2ac-6d073ecba726"
      },
      "source": [
        "# topic distance visualization \n",
        "pyLDAvis.enable_notebook()\n",
        "pyLDAvis.gensim.prepare(base_model, corpus, id2word)"
      ],
      "execution_count": 13,
      "outputs": [
        {
          "output_type": "execute_result",
          "data": {
            "text/html": [
              "\n",
              "<link rel=\"stylesheet\" type=\"text/css\" href=\"https://cdn.rawgit.com/bmabey/pyLDAvis/files/ldavis.v1.0.0.css\">\n",
              "\n",
              "\n",
              "<div id=\"ldavis_el1111398100101178484195993473\"></div>\n",
              "<script type=\"text/javascript\">\n",
              "\n",
              "var ldavis_el1111398100101178484195993473_data = {\"mdsDat\": {\"x\": [0.011142563209345311, 0.12279799195400379, 0.08206850721609248, -0.1638435449327292, -0.22819064386732743, -0.0451011060878745, 0.23178683504004277, 0.0047775398798755335, -0.2565814862795429, 0.24114334386811428], \"y\": [-0.2863733792411043, -0.06108546177656347, 0.00481069192747968, -0.018364188784869295, 0.18527819261840545, -0.2392102647668918, 0.143304039822604, -0.03915518806705539, 0.13902592835981956, 0.1717696299081758], \"topics\": [1, 2, 3, 4, 5, 6, 7, 8, 9, 10], \"cluster\": [1, 1, 1, 1, 1, 1, 1, 1, 1, 1], \"Freq\": [11.74093952691129, 10.718523578769613, 10.598159414760104, 10.519777394569491, 10.029671341870054, 9.99048108908848, 9.834330543427914, 9.626017674769926, 9.080674500307893, 7.861424935525233]}, \"tinfo\": {\"Term\": [\"dyer\", \"thing\", \"life\", \"way\", \"day\", \"man\", \"change\", \"time\", \"heart\", \"world\", \"mind\", \"peace\", \"power\", \"amp\", \"choice\", \"look\", \"create\", \"person\", \"success\", \"matter\", \"act\", \"reality\", \"work\", \"opportunity\", \"einstein\", \"energy\", \"peale\", \"john\", \"proverb\", \"failure\", \"einstein\", \"proverb\", \"john\", \"lincoln\", \"woman\", \"albert\", \"fool\", \"bind\", \"abraham\", \"water\", \"carnegie\", \"frustration\", \"sun\", \"try\", \"gandhi\", \"mahatma\", \"stand\", \"dig\", \"truman\", \"harry\", \"pull\", \"ppl\", \"shakespeare\", \"sea\", \"wise\", \"rabindranath\", \"weakness\", \"imagination\", \"winfrey\", \"speech\", \"result\", \"rise\", \"fail\", \"u\", \"break\", \"tagore\", \"start\", \"hoffer\", \"future\", \"night\", \"experience\", \"man\", \"year\", \"aim\", \"strength\", \"desire\", \"time\", \"franklin\", \"wisdom\", \"defeat\", \"jump\", \"child\", \"conflict\", \"door\", \"force\", \"fire\", \"maxwell\", \"hubbard\", \"existence\", \"content\", \"dyer\", \"discover\", \"windshield\", \"longfellow\", \"wadsworth\", \"light\", \"scott\", \"earth\", \"hang\", \"precede\", \"god\", \"root\", \"tongue\", \"corner\", \"brian\", \"contentment\", \"realise\", \"passion\", \"self\", \"goal\", \"eye\", \"ask\", \"need\", \"mirror\", \"achievement\", \"respect\", \"care\", \"choose\", \"letter\", \"effort\", \"influence\", \"use\", \"form\", \"character\", \"fortune\", \"obstacle\", \"business\", \"soul\", \"benjamin\", \"spirit\", \"step\", \"desire\", \"jim\", \"rohn\", \"enemy\", \"bonaparte\", \"seneca\", \"climb\", \"victory\", \"monroe\", \"jung\", \"journey\", \"road\", \"rain\", \"stevenson\", \"carl\", \"repeat\", \"accomplishment\", \"reap\", \"discourage\", \"seed\", \"battle\", \"speed\", \"fantasy\", \"order\", \"consequence\", \"buffett\", \"trouble\", \"space\", \"till\", \"mother\", \"goethe\", \"day\", \"practice\", \"kind\", \"pass\", \"trust\", \"face\", \"enjoy\", \"failure\", \"voltaire\", \"smile\", \"read\", \"learn\", \"happiness\", \"success\", \"word\", \"lead\", \"amp\", \"robert\", \"peter\", \"tomorrow\", \"brault\", \"fuller\", \"hand\", \"attempt\", \"henry\", \"thoreau\", \"thinking\", \"drucker\", \"lewis\", \"hepburn\", \"kill\", \"rice\", \"norman\", \"solution\", \"die\", \"confucius\", \"perspiration\", \"gogh\", \"nietzsche\", \"elliot\", \"shine\", \"shadow\", \"fulfillment\", \"cornerstone\", \"pressure\", \"jack\", \"persistence\", \"patience\", \"thing\", \"napoleon\", \"end\", \"understand\", \"game\", \"mediocrity\", \"today\", \"drive\", \"dare\", \"power\", \"robert\", \"david\", \"abundance\", \"difference\", \"look\", \"time\", \"life\", \"hill\", \"person\", \"lama\", \"dalai\", \"covey\", \"shoe\", \"maya\", \"impact\", \"stephen\", \"ruth\", \"discouragement\", \"richard\", \"bach\", \"pickford\", \"strike\", \"course\", \"head\", \"sort\", \"deserve\", \"ease\", \"conversation\", \"thought\", \"mission\", \"advantage\", \"babe\", \"bittersweet\", \"allow\", \"opinion\", \"didion\", \"card\", \"exception\", \"jr\", \"change\", \"hold\", \"relationship\", \"complain\", \"gift\", \"willingness\", \"find\", \"endure\", \"focus\", \"release\", \"lengthen\", \"confuciu\", \"bar\", \"hope\", \"direction\", \"life\", \"love\", \"stop\", \"test\", \"attitude\", \"power\", \"wait\", \"moment\", \"happiness\", \"decision\", \"william\", \"treat\", \"solve\", \"courage\", \"intent\", \"truth\", \"consent\", \"percent\", \"asset\", \"stuff\", \"forget\", \"decide\", \"ego\", \"danger\", \"absence\", \"mountain\", \"presence\", \"prevent\", \"make\", \"cash\", \"childhood\", \"breath\", \"ignorance\", \"triviality\", \"disaster\", \"shore\", \"case\", \"gide\", \"optimism\", \"hurry\", \"act\", \"tzu\", \"anger\", \"suit\", \"lao\", \"define\", \"inspiration\", \"let\", \"honor\", \"world\", \"detach\", \"acceptance\", \"waste\", \"huie\", \"body\", \"edison\", \"judge\", \"time\", \"moment\", \"problem\", \"man\", \"person\", \"churchill\", \"winston\", \"ralph\", \"pessimist\", \"king\", \"waldo\", \"anthony\", \"kennedy\", \"emerson\", \"yogi\", \"speak\", \"search\", \"dr\", \"dog\", \"jefferson\", \"forgiveness\", \"martin\", \"version\", \"universe\", \"weather\", \"win\", \"perfection\", \"winner\", \"creation\", \"feeling\", \"optimist\", \"zen\", \"nader\", \"buy\", \"player\", \"matter\", \"opportunity\", \"fear\", \"thomas\", \"help\", \"grow\", \"hate\", \"level\", \"money\", \"show\", \"silence\", \"fight\", \"leader\", \"work\", \"action\", \"stone\", \"step\", \"difficulty\", \"lie\", \"strength\", \"miracle\", \"history\", \"george\", \"jonathan\", \"eliot\", \"eleanor\", \"denis\", \"heart\", \"talk\", \"rule\", \"inspire\", \"pocket\", \"race\", \"hemingway\", \"buddha\", \"genius\", \"lady\", \"victor\", \"coco\", \"foot\", \"impossibility\", \"rate\", \"waitley\", \"faith\", \"quote\", \"gain\", \"challenge\", \"beauty\", \"imperfection\", \"push\", \"feel\", \"roosevelt\", \"dance\", \"choice\", \"lesson\", \"base\", \"vision\", \"dream\", \"place\", \"benefit\", \"storm\", \"amp\", \"look\", \"reason\", \"problem\", \"harm\", \"consist\", \"memory\", \"page\", \"deal\", \"emotion\", \"worry\", \"frederick\", \"art\", \"point\", \"celebrate\", \"control\", \"stress\", \"glasgow\", \"imitation\", \"tension\", \"imagine\", \"move\", \"picture\", \"gilbert\", \"create\", \"conscience\", \"creativity\", \"quit\", \"greatness\", \"bierce\", \"ambrose\", \"bag\", \"role\", \"evidence\", \"way\", \"reality\", \"get\", \"answer\", \"mean\", \"habit\", \"michael\", \"attention\", \"bite\", \"book\", \"perseverance\", \"judgment\", \"study\", \"perception\", \"question\", \"person\", \"intention\", \"life\", \"limit\", \"amp\", \"attract\", \"chain\", \"love\", \"peace\", \"vincent\", \"energy\", \"fact\", \"hell\", \"communication\", \"wind\", \"mind\", \"state\", \"joy\", \"finger\", \"ground\", \"attain\", \"mandela\", \"risk\", \"shut\", \"mark\", \"heal\", \"chance\", \"keller\", \"darkness\", \"peale\", \"twain\", \"mouth\", \"delineate\", \"train\", \"expert\", \"effect\", \"embrace\", \"reach\", \"fall\", \"think\", \"path\", \"want\", \"freedom\", \"sail\", \"mistake\", \"job\", \"alcott\", \"refuse\", \"spell\", \"teach\", \"ability\", \"idea\", \"success\", \"doubt\"], \"Freq\": [100243.0, 43214.0, 65273.0, 30048.0, 23020.0, 31751.0, 20480.0, 32838.0, 16936.0, 16623.0, 12736.0, 11958.0, 16801.0, 24223.0, 11232.0, 14355.0, 9387.0, 16067.0, 14602.0, 9074.0, 9016.0, 8237.0, 10874.0, 8090.0, 8613.0, 7177.0, 7175.0, 8324.0, 8318.0, 8315.0, 8612.178743928245, 8317.766853734522, 8323.293585852449, 6442.3827594413, 5112.5322749334055, 4799.585114194238, 4156.292489332664, 3906.731645798556, 3949.9340104905737, 3297.9655781068345, 3189.5324415483406, 3157.5578265391136, 2846.4811173773437, 4288.149908289027, 2695.6650495295526, 2484.5019161746513, 2473.5529701520286, 1810.9682461603675, 1780.1443925952979, 1780.1421377607485, 1733.9862050836582, 1665.34187898403, 1654.1289846818, 1651.6625935967263, 1569.3514500184792, 1542.0448730758342, 1813.1083494224092, 1471.6807714016395, 1542.037843297533, 1413.8214515891596, 6442.833195801876, 2749.4449757301727, 2774.2221588576867, 2677.969638535099, 2321.316091263457, 1753.0342515331042, 3394.765094763644, 2459.815456978419, 3393.142409712028, 2271.23064515338, 5769.364518077546, 24871.497816497547, 2623.0166678194805, 2874.984878828398, 4791.676746242829, 3435.5807834037755, 6679.033746718758, 4685.632893464276, 4161.144122677825, 2535.3676990556673, 2259.5426689489877, 2209.1985278310513, 1600.1614164538078, 1757.711595103732, 1489.1393189861544, 1102.687177529865, 1054.8496604553432, 977.1848792877693, 966.536903576754, 964.4707338571845, 100144.40935787573, 900.820936828393, 808.9981071141676, 797.0622490145837, 797.0582531403055, 789.6934330407652, 732.5662953356119, 1219.5789721379715, 768.1591216636859, 681.4152297876811, 2677.3888204766754, 658.6695025252658, 654.8803239256536, 632.7739970912974, 632.8465282638014, 631.186424131865, 657.4655940400888, 4696.828606669152, 2727.2488553714547, 3513.0317199955207, 3694.9580637004583, 1544.5244371366687, 1281.2364020342409, 814.7001591655861, 2615.6644294144717, 3994.4067025397603, 3063.247877320403, 2384.8140540926443, 1441.5225436937276, 1474.6007542298305, 1381.520737706719, 2428.098575144924, 2325.721612221671, 2931.9579789912054, 1421.1910510179312, 2627.651325726427, 1844.9216723121915, 2566.609623730296, 2196.3100169774184, 2148.9533367743716, 1714.8162479887274, 1631.5932057001999, 6249.762675710316, 5145.345913355942, 4494.298776723684, 3934.079199366324, 3593.7884601860387, 3955.910523103246, 3229.9739315047996, 3171.9193386693805, 3171.843431531973, 2579.27160962922, 2828.394045507694, 1865.990318237618, 1867.028952964767, 1823.7714628300212, 1865.8176714045867, 1623.1324960148613, 1623.5882980213462, 1596.0835742635966, 1623.6475630576504, 1600.110843003321, 1548.6244923732495, 1546.0056961326814, 2311.4300426475434, 1512.7928514237437, 1444.6618854158075, 1435.2737050284957, 1400.9882230261255, 1379.438378279812, 1376.6352019262974, 1386.3319196844295, 22990.968329470943, 6061.674367401536, 3804.4712343355845, 3306.1538078069198, 5901.876194240719, 2636.161255387388, 1815.2784838092673, 8132.9914569623015, 2785.7644055757337, 2226.360650354489, 1854.4529122610206, 7934.8345577585, 6707.641712194777, 10202.970952612784, 3639.972086658712, 2614.8287157741893, 3384.585516033906, 2022.4903621962717, 3346.3173804579214, 4587.567417523995, 3212.366911660566, 3034.950268482841, 2993.1326684514884, 2518.0252351041136, 6260.151626178334, 2391.7647856966246, 2271.4407251214693, 2083.5690877265815, 1881.2385548463112, 1866.8929156581182, 1863.649602324854, 1862.7145545323172, 1830.9559676244905, 1871.6415988932713, 1839.4630248351111, 1659.0731958828958, 1655.846282726979, 1609.3106606616016, 1529.4562956868183, 1519.532524605477, 1521.56329439181, 1442.8006107874185, 1571.180961379868, 1581.1339675599593, 1280.9238486976321, 1272.5838831489725, 1208.9445398962666, 2341.5255757554696, 43163.334885248136, 5937.72509026153, 6484.7123617694015, 1700.7863339150565, 3163.0570451024355, 2643.8164968292263, 8113.235235984268, 2032.7591991504796, 1701.4749036799215, 12037.330864394386, 5042.234050119421, 3743.2672729766546, 3294.1681440651078, 3341.7500499085095, 5912.944659973197, 7601.548276640092, 5731.797332974511, 1932.1940247068383, 3511.716734263339, 3688.7489805441282, 3564.697301703129, 2902.075702083724, 2452.0179434575534, 2117.3313303194113, 2290.2546884021763, 2002.0256752020562, 1678.2885308368352, 1668.2056197713687, 1469.6522992017606, 1465.2718092007267, 1456.7011818331418, 1331.769461973079, 1422.8318962068251, 1597.2596066277015, 1605.7193082636443, 1702.5305053639086, 1148.7490296824012, 1147.1144897389202, 1185.4431257434135, 1039.2734905217776, 974.0090502968616, 963.4271433967153, 961.3427820491295, 962.7004042314938, 1645.172837693819, 927.4983102483793, 942.7759220478515, 920.8999287927728, 893.9809503855766, 20391.295732918767, 3376.9293840643404, 2837.5561298463613, 1979.4333102020269, 3096.0631654439567, 1834.735735353724, 1462.0779639264415, 1142.7824943376238, 1159.3308232774077, 2991.4260956585213, 1841.5967014702912, 2190.282164602684, 1415.6831350357427, 1894.2136821006443, 2064.5229773083192, 45038.59356324298, 8340.406733471425, 2394.1378257888923, 2066.897626423491, 1486.9121844180634, 4490.751764557929, 1741.5969844373017, 1907.2053627092303, 1940.520246287616, 1721.3774556702112, 3396.080855854933, 5314.664585678216, 3600.955018266179, 4957.50517681055, 2496.950071542937, 4452.140723242852, 2331.192890951398, 2264.622805678756, 2130.372746217996, 2135.8086512134205, 2424.9880976138, 1933.6835913243606, 1920.6906452467233, 1744.3140150075317, 1745.7627168703602, 1580.0064391780813, 3661.8578306079958, 1596.4149402942649, 1406.3742841023675, 1370.5061595453114, 1309.0275232003669, 1319.717398990307, 1345.5659375956388, 1177.057510096171, 1177.0647332902518, 1166.4461865418596, 1168.168241155683, 1166.4356903379608, 1169.7620840745724, 1158.8713131992604, 8983.202065012423, 3365.584078996205, 2848.0503492008943, 2904.1075269385756, 2197.478025027061, 3556.7305610569083, 1647.4691532317383, 2443.249235149299, 1415.5137690003105, 15881.15648302807, 1545.6566525892888, 2286.6700255366645, 2053.9427753002597, 2394.4240547601944, 6390.442870007433, 4289.036937851928, 4715.22028645637, 18463.79327442809, 5160.03134969591, 3691.0505952103263, 6619.44340354778, 3845.750871462695, 7249.196122064591, 7141.067183755731, 5074.809376125089, 4112.862756994443, 3890.2402766299415, 3096.5085969252227, 2231.2506719646794, 2239.2821957403803, 3594.9739013501294, 2157.9037465279744, 2245.433934999332, 2016.9045761959094, 1952.7834820736205, 4074.1365295883847, 1898.657464419056, 1939.1717090835402, 2117.244629581585, 1499.4092309983055, 1511.1415527667632, 1491.5876831526668, 3492.3647747392715, 1308.0761638692534, 1232.276741789094, 1197.3247484021267, 1968.14216592312, 1024.4938936628478, 1015.05419797522, 1011.7359116899789, 1005.5626193461428, 1011.0994290956256, 9053.189771308951, 8059.295703263617, 6140.13881095493, 4561.971719230098, 2859.655970011526, 2191.23481461356, 1896.9405501210745, 2638.478879514809, 1914.7596185987024, 2221.8375287888425, 2423.124899281739, 3104.1770512091543, 4472.637070940712, 9325.243918561424, 6984.688220882785, 2182.6784621110787, 6129.799551719304, 3309.6466089566916, 4010.3002917013764, 2434.8453335239974, 4141.925152585636, 3548.87327588569, 4671.8433410584375, 2854.7365527409843, 2736.941939391199, 2730.4920520121095, 2634.39186192159, 16930.74731950323, 3469.5359202926056, 2999.0590900619613, 2643.8637746962977, 1997.0115813293037, 2128.4180321321405, 3565.1206587683273, 1620.8690300556977, 1639.5247899241845, 1566.8460034926363, 1825.1711049525102, 1365.3340007647828, 2303.581975228649, 1347.8437705181111, 1333.3345687770195, 1302.2198866495924, 1331.7773394259848, 1327.1502368501106, 1560.4042719935278, 2392.4508358928347, 2281.3301247589498, 1162.6527710828566, 1723.3452696252123, 6952.763714407142, 5961.410195505542, 3026.747976362179, 11055.896891921659, 2720.7515389233617, 1529.5102336058528, 2851.539447788441, 7488.298368070044, 6147.295097209578, 1877.4065801138745, 2806.2051520317805, 13082.611753161415, 8432.630085274386, 3711.580906604852, 3512.1983497674983, 3558.80174244002, 1846.695779855021, 1765.6467748990754, 1502.6259956412582, 1369.0978235786208, 2150.3595464893065, 1860.8854492313772, 1247.3790567366766, 1219.3663543711707, 1818.3665022542275, 1502.9740642651502, 6198.214426742866, 1458.2649418915692, 1022.150548972825, 1012.9272946534919, 1028.6275182552556, 1199.1544720370857, 986.9986954895738, 993.2866018560502, 1512.514509325737, 9378.380698334358, 867.5352450921517, 878.0481895793507, 846.7934121211599, 3258.797569112165, 753.858627912547, 753.858627912547, 750.651328906953, 741.3117952521701, 751.1190108569451, 29849.50183526768, 8221.504407857306, 4511.788809248747, 3662.0688714269127, 4432.0262117621805, 4213.987736942614, 2716.7540864869966, 2015.3862690023352, 2866.248175560145, 1974.0932047412211, 1244.9712999811898, 1727.2506920522576, 1211.2587046155936, 1783.3343646814042, 4899.194009103837, 8610.12174412852, 2259.072672265228, 13995.445237706399, 2490.121301861236, 4818.595144177847, 2214.1916185584187, 1774.2778098945864, 2146.1068106001044, 11957.518731815167, 5203.982488843302, 7176.441055129459, 3577.6005712790175, 3001.3406773722536, 2670.793783090461, 2432.8932630987188, 12730.74675424136, 2446.6819770385046, 2774.4009682591695, 1676.5628540080113, 1627.8744663628936, 1658.4650559489517, 1762.51824730989, 2879.048834543081, 1466.7733352138248, 1789.7564191850179, 1273.5691721342785, 1393.7687290449442, 1881.3246343405258, 1200.279484349098, 7170.480096224149, 1347.8405708810099, 1053.4247075039252, 1002.364636194232, 1003.8466165466293, 1002.711352278355, 824.2600296266168, 762.9093112627507, 743.9709664879686, 6829.029407386958, 5195.204106512604, 3571.086855993692, 3211.5944973159776, 2719.1667159377294, 1677.4864829206338, 1819.4681403365269, 2662.51682468675, 1664.4897807734217, 3228.5562318125117, 1497.4472290229637, 1770.8204278877533, 3708.972929665883, 2425.1500556339365, 3271.3664319125655, 1666.5579990539172], \"Total\": [100243.0, 43214.0, 65273.0, 30048.0, 23020.0, 31751.0, 20480.0, 32838.0, 16936.0, 16623.0, 12736.0, 11958.0, 16801.0, 24223.0, 11232.0, 14355.0, 9387.0, 16067.0, 14602.0, 9074.0, 9016.0, 8237.0, 10874.0, 8090.0, 8613.0, 7177.0, 7175.0, 8324.0, 8318.0, 8315.0, 8613.087400449038, 8318.72297588554, 8324.417729114708, 6443.304121928592, 5113.419837704102, 4800.464472734939, 4157.168600624787, 3907.6077441942007, 3950.8490528557722, 3298.8417862353203, 3190.4161159946166, 3158.4388633328813, 2847.3589911550976, 4289.507314578034, 2696.5752235047744, 2485.48506845793, 2474.6938200603354, 1811.8558454659048, 1781.0205557317577, 1781.0289169135165, 1734.869327642297, 1666.2183209653251, 1655.0053185719005, 1652.5387046204976, 1570.2415626189074, 1542.9327120710846, 1814.163240198525, 1472.5569164502324, 1542.959600835253, 1414.7222941871473, 6448.335206096539, 2752.9349428601035, 2778.0966375609996, 2685.863115638444, 2329.004485421529, 1754.4494361246493, 3432.9243966230997, 2471.9828440377205, 3446.8762171395265, 2296.6491363420832, 6212.784742514391, 31751.51143112792, 2885.0014168578937, 3323.6212835393644, 8657.027026984468, 5193.939794177776, 32838.909177167414, 4686.535453017435, 4162.644214417981, 2536.3086610223395, 2260.444451911821, 2210.1122687607462, 1601.1423297904619, 1759.0028268887493, 1490.324678027721, 1103.5890686101832, 1055.7513671291772, 978.0980243061482, 967.4404723056502, 965.3771059322561, 100243.74958001274, 901.7338652418703, 809.9002682097554, 797.9661356777139, 797.9626524851377, 790.5951486888752, 733.4695473350827, 1221.1155875971244, 769.1298847572543, 682.3171335196253, 2680.9951555006137, 659.5726361673428, 655.78196423819, 633.6781270129427, 633.7537731540782, 632.0949266088584, 658.4173751472216, 4706.894377833509, 2734.2985084974093, 3537.804522984423, 3728.7418563417827, 1549.1863376998404, 1284.4536658426662, 816.1029395389775, 2651.6392476427195, 4068.59251076313, 3142.056134277135, 2449.58098601992, 1465.519988845064, 1509.6251433984653, 1412.960478966407, 2546.019747656499, 2454.9488665582717, 3164.1764715647687, 1462.3400635302999, 2919.628900289945, 2095.154822694363, 3959.209568499663, 3187.14905037536, 3938.5803204893114, 7955.618491923342, 5193.939794177776, 6250.634994314972, 5146.251610036611, 4495.158184799249, 3934.938666881715, 3594.647861737937, 3956.8605697722687, 3230.833659196365, 3172.779276915082, 3172.7066923317407, 2580.1675467607497, 2829.385407907514, 1866.8506917240582, 1867.9048917556422, 1824.6399295724948, 1866.7379962154898, 1623.9924454481625, 1624.4507900890835, 1596.9432285885987, 1624.52620223722, 1600.9806605312015, 1549.4841364661156, 1546.8654165911232, 2312.7300448025144, 1513.6522525026594, 1445.5212654148158, 1436.1331029832775, 1401.8500972032314, 1380.2978183979628, 1377.4946441685684, 1387.215927095841, 23020.329499888627, 6079.9155750718355, 3810.2967737475956, 3309.5072989294713, 5945.809589615499, 2640.479199855092, 1816.440449249649, 8315.316972225848, 2804.35323249093, 2236.357202675665, 1859.9315115899649, 8402.332224254209, 8650.643080876556, 14602.708310508835, 4929.4908951082025, 3111.273468832155, 24223.27982601473, 7076.8705729310195, 3347.176538922053, 4588.812206977513, 3213.240619235427, 3035.8094346196503, 2994.056383513656, 2518.8843404387494, 6262.360663454643, 2392.642532160853, 2272.3256212734186, 2084.437900102809, 1882.0978370802395, 1867.752144686261, 1864.5086886769157, 1863.5736304875657, 1831.8154696086622, 1872.546783415344, 1840.3916419848908, 1659.932329458686, 1656.706013534259, 1610.169845646045, 1530.3154270595355, 1520.3916571279974, 1522.423784921646, 1443.6597942353849, 1572.1621965680417, 1582.129629492099, 1281.7830589808314, 1273.4449925813558, 1209.8056537215775, 2343.218639188053, 43214.39037379257, 5951.571129837541, 6507.007996149921, 1702.0530215091806, 3228.8840512417723, 2690.611245273915, 8567.910954617353, 2104.0505343363243, 1720.068224176218, 16801.128754393594, 7076.8705729310195, 5027.807001696397, 4423.767074690256, 4889.486136423978, 14355.903194929302, 32838.909177167414, 65273.16626347952, 2101.0863358332754, 16067.536932714216, 3689.648721813181, 3565.5878782192713, 2903.0284778688065, 2452.889677525024, 2118.2061337818354, 2291.2203527498637, 2002.9071460469456, 1679.1590496625065, 1669.0761134340335, 1470.5227940184225, 1466.142302975699, 1457.571815231643, 1332.6400214061914, 1423.77049326532, 1598.3476609593208, 1606.837951995804, 1703.7354908877305, 1149.6197369133406, 1147.9851882422151, 1186.4044383750124, 1040.1881293675483, 974.8867873285994, 964.2976604698742, 962.213531854267, 963.573046292493, 1646.6674628254136, 928.3688287996252, 943.6644037708296, 921.7716682782088, 894.8535010326268, 20480.273020560435, 3381.2467823502893, 2841.778225353763, 1984.5889078962164, 3124.940702405335, 1842.550240445086, 1465.0482031888675, 1144.1115916954802, 1161.5185734147765, 3038.814910820439, 1863.419026341833, 2228.4174273648714, 1423.6601842930354, 1923.5998203891045, 2126.2047798613717, 65273.16626347952, 12105.538915880514, 3018.7821116515015, 2683.586034974839, 1510.8637350924616, 16801.128754393594, 3023.5012117991078, 7087.453057278033, 8650.643080876556, 4236.086430190532, 3396.9692811909845, 5316.087153726062, 3601.9302584847833, 4958.912979476644, 2497.849416611804, 4453.8267750257555, 2332.0937895208585, 2265.516687953686, 2131.2722999382167, 2136.7248951556544, 2426.137900102397, 1934.6173380793891, 1921.6412966078722, 1745.2058733437439, 1746.7449917997913, 1580.896340401977, 3663.949350250967, 1597.3398751512689, 1407.2888294254228, 1371.4024012696912, 1309.9245085541859, 1320.6360476047312, 1346.511145374315, 1177.947587157196, 1177.9588187437328, 1167.3355459347683, 1169.0597306933066, 1167.3287475854884, 1170.6633284276245, 1159.7652027758859, 9016.711932969427, 3370.3216726016103, 2850.537389367008, 2910.1518749082747, 2199.3615993287062, 3585.350299628687, 1649.0984945739333, 2457.4051971182175, 1416.8283506053685, 16623.035766454865, 1550.8601368094298, 2326.6446545933295, 2088.2244784769855, 2524.2818528005673, 7676.003177736212, 4995.742567588222, 5753.492319033938, 32838.909177167414, 7087.453057278033, 7308.688784156124, 31751.51143112792, 16067.536932714216, 7250.066505641023, 7141.942826040052, 5075.684403619234, 4113.752067427438, 3891.5466349716617, 3097.648459412644, 2232.1161117118613, 2240.1527514581767, 3596.394965028924, 2158.7690181007065, 2246.337393334631, 2017.7741643993504, 1953.6492892931906, 4075.943002266366, 1899.5684303922574, 1940.1691580481047, 2118.478670962394, 1500.2947039576052, 1512.043505895131, 1492.4935879010188, 3494.579718009738, 1308.9695886840125, 1233.159279289859, 1198.1951251391285, 1969.7568370614629, 1025.36572201145, 1015.9195134315461, 1012.606095071692, 1006.4278847684664, 1011.9707768616012, 9074.978471454331, 8090.0878984314095, 6151.436018402142, 4577.8967271281845, 2865.181993972064, 2193.6909894930277, 1898.9292898456895, 2653.7664125584674, 1920.7172817369387, 2236.6129575417126, 2444.378360719394, 3182.57081597222, 4714.398562376967, 10874.276812045106, 8501.412052541906, 2225.535860899164, 7955.618491923342, 4133.128766952202, 5485.176487785317, 8657.027026984468, 4142.934050224078, 3549.8714336765293, 4673.272795442636, 2855.617729232882, 2737.818787319684, 2731.3711098084873, 2635.2740237981443, 16936.916082999276, 3470.8109193046907, 3000.2758448239815, 2644.977714624447, 1997.9205531870346, 2129.4271541054304, 3566.8863714330537, 1621.7467263877982, 1640.4320010308822, 1567.7229680553853, 1826.2205589145574, 1366.2110555388406, 2305.0783993126033, 1348.7207180679113, 1334.2121774895354, 1303.1020204547883, 1332.7069100686033, 1328.1016985534534, 1561.538941721708, 2394.2004318255454, 2283.0326344154714, 1163.5296725166909, 1724.718580535174, 6962.348523407853, 5991.759949069636, 3032.4345898141532, 11232.54882468228, 2733.1030116474926, 1531.0894629260006, 2897.7224598431044, 8534.176028526816, 8031.351663916341, 1952.8865725266764, 3238.967409026849, 24223.27982601473, 14355.903194929302, 5689.199727267549, 7308.688784156124, 3559.6964280609586, 1847.5685469607836, 1766.5440477803331, 1503.5069343355553, 1369.963703995349, 2151.8197222205254, 1862.1641643649668, 1248.2439090555456, 1220.2502885684316, 1819.6995325559606, 1504.1036857814104, 6203.300065985392, 1459.4788943142432, 1023.0201459787447, 1013.7921331566903, 1029.5064372465054, 1200.2223809814159, 987.891540696818, 994.1973656053358, 1513.913331454849, 9387.528431398914, 868.3998691665716, 878.9308189533605, 847.7177421121435, 3262.43753428438, 754.7258563521849, 754.7258563521849, 751.5173425042798, 742.2023841941316, 752.041977192854, 30048.852891441165, 8237.401938673554, 4524.974179085655, 3666.676709816398, 4446.492953858682, 4230.727010816267, 2720.6962570470973, 2018.1236148168223, 2881.387397181615, 1979.2127381405055, 1246.5662449483539, 1736.4775698527496, 1214.765840902055, 1811.7817528744515, 6566.816302183521, 16067.536932714216, 2805.4488872049437, 65273.16626347952, 4115.357575733429, 24223.27982601473, 4452.881678084317, 2560.8498824151693, 12105.538915880514, 11958.98109197904, 5204.938392010829, 7177.9917552742745, 3578.6017137125195, 3002.220660946962, 2671.6598905485193, 2433.781211020812, 12736.281607474524, 2447.7973438059375, 2775.801196052307, 1677.4290288286818, 1628.740538609124, 1659.363089621568, 1763.4933510073502, 2880.6911179593967, 1467.639446725513, 1790.9119737974604, 1274.4377050859202, 1394.7483612462422, 1882.6567043495088, 1201.145552429092, 7175.76208246195, 1348.879690905634, 1054.2975240737762, 1003.2443799300868, 1004.7408634788035, 1003.7642984663992, 825.1394763766039, 763.7797047266168, 744.8380278478884, 6849.8514385652325, 5207.181343402997, 3576.9962220359384, 3217.426783310433, 2732.5842295118864, 1680.2538834861393, 1824.591416455601, 2690.8083867673513, 1671.685612102654, 3350.7333494114473, 1516.354986648587, 1869.7818982701422, 5579.613983304036, 3320.473776574908, 14602.708310508835, 2300.3376570447126], \"Category\": [\"Default\", \"Default\", \"Default\", \"Default\", \"Default\", \"Default\", \"Default\", \"Default\", \"Default\", \"Default\", \"Default\", \"Default\", \"Default\", \"Default\", \"Default\", \"Default\", \"Default\", \"Default\", \"Default\", \"Default\", \"Default\", \"Default\", \"Default\", \"Default\", \"Default\", \"Default\", \"Default\", \"Default\", \"Default\", \"Default\", \"Topic1\", \"Topic1\", \"Topic1\", \"Topic1\", \"Topic1\", \"Topic1\", \"Topic1\", \"Topic1\", \"Topic1\", \"Topic1\", \"Topic1\", \"Topic1\", \"Topic1\", \"Topic1\", \"Topic1\", \"Topic1\", \"Topic1\", \"Topic1\", \"Topic1\", \"Topic1\", \"Topic1\", \"Topic1\", \"Topic1\", \"Topic1\", \"Topic1\", \"Topic1\", \"Topic1\", \"Topic1\", \"Topic1\", \"Topic1\", \"Topic1\", \"Topic1\", \"Topic1\", \"Topic1\", \"Topic1\", \"Topic1\", \"Topic1\", \"Topic1\", \"Topic1\", \"Topic1\", \"Topic1\", \"Topic1\", \"Topic1\", \"Topic1\", \"Topic1\", \"Topic1\", \"Topic1\", \"Topic2\", \"Topic2\", \"Topic2\", \"Topic2\", \"Topic2\", \"Topic2\", \"Topic2\", \"Topic2\", \"Topic2\", \"Topic2\", \"Topic2\", \"Topic2\", \"Topic2\", \"Topic2\", \"Topic2\", \"Topic2\", \"Topic2\", \"Topic2\", \"Topic2\", \"Topic2\", \"Topic2\", \"Topic2\", \"Topic2\", \"Topic2\", \"Topic2\", \"Topic2\", \"Topic2\", \"Topic2\", \"Topic2\", \"Topic2\", \"Topic2\", \"Topic2\", \"Topic2\", \"Topic2\", \"Topic2\", \"Topic2\", \"Topic2\", \"Topic2\", \"Topic2\", \"Topic2\", \"Topic2\", \"Topic2\", \"Topic2\", \"Topic2\", \"Topic2\", \"Topic2\", \"Topic2\", \"Topic2\", \"Topic2\", \"Topic2\", \"Topic2\", \"Topic2\", \"Topic2\", \"Topic2\", \"Topic2\", \"Topic3\", \"Topic3\", \"Topic3\", \"Topic3\", \"Topic3\", \"Topic3\", \"Topic3\", \"Topic3\", \"Topic3\", \"Topic3\", \"Topic3\", \"Topic3\", \"Topic3\", \"Topic3\", \"Topic3\", \"Topic3\", \"Topic3\", \"Topic3\", \"Topic3\", \"Topic3\", \"Topic3\", \"Topic3\", \"Topic3\", \"Topic3\", \"Topic3\", \"Topic3\", \"Topic3\", \"Topic3\", \"Topic3\", \"Topic3\", \"Topic3\", \"Topic3\", \"Topic3\", \"Topic3\", \"Topic3\", \"Topic3\", \"Topic3\", \"Topic3\", \"Topic3\", \"Topic3\", \"Topic3\", \"Topic3\", \"Topic3\", \"Topic3\", \"Topic3\", \"Topic3\", \"Topic3\", \"Topic3\", \"Topic4\", \"Topic4\", \"Topic4\", \"Topic4\", \"Topic4\", \"Topic4\", \"Topic4\", \"Topic4\", \"Topic4\", \"Topic4\", \"Topic4\", \"Topic4\", \"Topic4\", \"Topic4\", \"Topic4\", \"Topic4\", \"Topic4\", \"Topic4\", \"Topic4\", \"Topic4\", \"Topic4\", \"Topic4\", \"Topic4\", \"Topic4\", \"Topic4\", \"Topic4\", \"Topic4\", \"Topic4\", \"Topic4\", \"Topic4\", \"Topic4\", \"Topic4\", \"Topic4\", \"Topic4\", \"Topic4\", \"Topic4\", \"Topic4\", \"Topic4\", \"Topic4\", \"Topic4\", \"Topic4\", \"Topic4\", \"Topic4\", \"Topic4\", \"Topic4\", \"Topic4\", \"Topic4\", \"Topic4\", \"Topic4\", \"Topic5\", \"Topic5\", \"Topic5\", \"Topic5\", \"Topic5\", \"Topic5\", \"Topic5\", \"Topic5\", \"Topic5\", \"Topic5\", \"Topic5\", \"Topic5\", \"Topic5\", \"Topic5\", \"Topic5\", \"Topic5\", \"Topic5\", \"Topic5\", \"Topic5\", \"Topic5\", \"Topic5\", \"Topic5\", \"Topic5\", \"Topic5\", \"Topic5\", \"Topic5\", \"Topic5\", \"Topic5\", \"Topic5\", \"Topic5\", \"Topic5\", \"Topic5\", \"Topic5\", \"Topic5\", \"Topic5\", \"Topic5\", \"Topic5\", \"Topic5\", \"Topic5\", \"Topic5\", \"Topic5\", \"Topic5\", \"Topic5\", \"Topic5\", \"Topic5\", \"Topic5\", \"Topic5\", \"Topic5\", \"Topic5\", \"Topic5\", \"Topic5\", \"Topic5\", \"Topic5\", \"Topic5\", \"Topic5\", \"Topic6\", \"Topic6\", \"Topic6\", \"Topic6\", \"Topic6\", \"Topic6\", \"Topic6\", \"Topic6\", \"Topic6\", \"Topic6\", \"Topic6\", \"Topic6\", \"Topic6\", \"Topic6\", \"Topic6\", \"Topic6\", \"Topic6\", \"Topic6\", \"Topic6\", \"Topic6\", \"Topic6\", \"Topic6\", \"Topic6\", \"Topic6\", \"Topic6\", \"Topic6\", \"Topic6\", \"Topic6\", \"Topic6\", \"Topic6\", \"Topic6\", \"Topic6\", \"Topic6\", \"Topic6\", \"Topic6\", \"Topic6\", \"Topic6\", \"Topic6\", \"Topic6\", \"Topic6\", \"Topic6\", \"Topic6\", \"Topic6\", \"Topic6\", \"Topic6\", \"Topic6\", \"Topic6\", \"Topic6\", \"Topic6\", \"Topic6\", \"Topic6\", \"Topic6\", \"Topic7\", \"Topic7\", \"Topic7\", \"Topic7\", \"Topic7\", \"Topic7\", \"Topic7\", \"Topic7\", \"Topic7\", \"Topic7\", \"Topic7\", \"Topic7\", \"Topic7\", \"Topic7\", \"Topic7\", \"Topic7\", \"Topic7\", \"Topic7\", \"Topic7\", \"Topic7\", \"Topic7\", \"Topic7\", \"Topic7\", \"Topic7\", \"Topic7\", \"Topic7\", \"Topic7\", \"Topic7\", \"Topic7\", \"Topic7\", \"Topic7\", \"Topic7\", \"Topic7\", \"Topic7\", \"Topic7\", \"Topic7\", \"Topic7\", \"Topic7\", \"Topic7\", \"Topic7\", \"Topic7\", \"Topic7\", \"Topic7\", \"Topic7\", \"Topic7\", \"Topic7\", \"Topic7\", \"Topic7\", \"Topic7\", \"Topic7\", \"Topic8\", \"Topic8\", \"Topic8\", \"Topic8\", \"Topic8\", \"Topic8\", \"Topic8\", \"Topic8\", \"Topic8\", \"Topic8\", \"Topic8\", \"Topic8\", \"Topic8\", \"Topic8\", \"Topic8\", \"Topic8\", \"Topic8\", \"Topic8\", \"Topic8\", \"Topic8\", \"Topic8\", \"Topic8\", \"Topic8\", \"Topic8\", \"Topic8\", \"Topic8\", \"Topic8\", \"Topic8\", \"Topic8\", \"Topic8\", \"Topic8\", \"Topic8\", \"Topic8\", \"Topic8\", \"Topic8\", \"Topic8\", \"Topic8\", \"Topic8\", \"Topic8\", \"Topic8\", \"Topic8\", \"Topic8\", \"Topic8\", \"Topic8\", \"Topic8\", \"Topic9\", \"Topic9\", \"Topic9\", \"Topic9\", \"Topic9\", \"Topic9\", \"Topic9\", \"Topic9\", \"Topic9\", \"Topic9\", \"Topic9\", \"Topic9\", \"Topic9\", \"Topic9\", \"Topic9\", \"Topic9\", \"Topic9\", \"Topic9\", \"Topic9\", \"Topic9\", \"Topic9\", \"Topic9\", \"Topic9\", \"Topic9\", \"Topic9\", \"Topic9\", \"Topic9\", \"Topic9\", \"Topic9\", \"Topic9\", \"Topic9\", \"Topic9\", \"Topic9\", \"Topic9\", \"Topic9\", \"Topic9\", \"Topic9\", \"Topic9\", \"Topic9\", \"Topic9\", \"Topic9\", \"Topic9\", \"Topic9\", \"Topic9\", \"Topic9\", \"Topic9\", \"Topic9\", \"Topic9\", \"Topic9\", \"Topic9\", \"Topic9\", \"Topic9\", \"Topic9\", \"Topic10\", \"Topic10\", \"Topic10\", \"Topic10\", \"Topic10\", \"Topic10\", \"Topic10\", \"Topic10\", \"Topic10\", \"Topic10\", \"Topic10\", \"Topic10\", \"Topic10\", \"Topic10\", \"Topic10\", \"Topic10\", \"Topic10\", \"Topic10\", \"Topic10\", \"Topic10\", \"Topic10\", \"Topic10\", \"Topic10\", \"Topic10\", \"Topic10\", \"Topic10\", \"Topic10\", \"Topic10\", \"Topic10\", \"Topic10\", \"Topic10\", \"Topic10\", \"Topic10\", \"Topic10\", \"Topic10\", \"Topic10\", \"Topic10\", \"Topic10\", \"Topic10\", \"Topic10\", \"Topic10\", \"Topic10\", \"Topic10\", \"Topic10\", \"Topic10\", \"Topic10\"], \"logprob\": [30.0, 29.0, 28.0, 27.0, 26.0, 25.0, 24.0, 23.0, 22.0, 21.0, 20.0, 19.0, 18.0, 17.0, 16.0, 15.0, 14.0, 13.0, 12.0, 11.0, 10.0, 9.0, 8.0, 7.0, 6.0, 5.0, 4.0, 3.0, 2.0, 1.0, -3.498699903488159, -3.5334999561309814, -3.532900094985962, -3.7890000343322754, -4.020199775695801, -4.083399772644043, -4.22730016708374, -4.2891998291015625, -4.278200149536133, -4.458600044250488, -4.492000102996826, -4.502099990844727, -4.605800151824951, -4.196100234985352, -4.660299777984619, -4.741799831390381, -4.746300220489502, -5.05810022354126, -5.075200080871582, -5.075200080871582, -5.101500034332275, -5.141900062561035, -5.148600101470947, -5.150100231170654, -5.201300144195557, -5.218800067901611, -5.0569000244140625, -5.265500068664551, -5.218800067901611, -5.305600166320801, -3.7888998985290527, -4.640500068664551, -4.631499767303467, -4.666900157928467, -4.809800148010254, -5.09060001373291, -4.429699897766113, -4.751800060272217, -4.430200099945068, -4.831600189208984, -3.899399995803833, -2.438199996948242, -4.687600135803223, -4.595900058746338, -4.085000038146973, -4.417699813842773, -3.7528998851776123, -4.016300201416016, -4.135000228881836, -4.630499839782715, -4.74560022354126, -4.768199920654297, -5.090700149536133, -4.996799945831299, -5.162600040435791, -5.463099956512451, -5.507400035858154, -5.583899974822998, -5.594799995422363, -5.5970001220703125, -0.954200029373169, -5.665299892425537, -5.772799968719482, -5.787600040435791, -5.787600040435791, -5.796899795532227, -5.872000217437744, -5.362299919128418, -5.8246002197265625, -5.944399833679199, -4.576000213623047, -5.978300094604492, -5.984099864959717, -6.018400192260742, -6.0183000564575195, -6.020999908447266, -5.980199813842773, -4.013899803161621, -4.557499885559082, -4.304299831390381, -4.253799915313721, -5.126100063323975, -5.313000202178955, -5.765699863433838, -4.599299907684326, -4.175899982452393, -4.441299915313721, -4.691699981689453, -5.195099830627441, -5.172399997711182, -5.237599849700928, -4.673699855804443, -4.716800212860107, -4.485099792480469, -5.2093000411987305, -4.594699859619141, -4.948400020599365, -4.618199825286865, -4.77400016784668, -4.79580020904541, -5.021500110626221, -5.071199893951416, -3.7170000076293945, -3.911400079727173, -4.0467000007629395, -4.179800033569336, -4.270299911499023, -4.174300193786621, -4.376999855041504, -4.395199775695801, -4.395199775695801, -4.6020002365112305, -4.509799957275391, -4.9257001876831055, -4.92519998550415, -4.948599815368652, -4.92579984664917, -5.065199851989746, -5.064899921417236, -5.081999778747559, -5.064799785614014, -5.079400062561035, -5.112100124359131, -5.113800048828125, -4.711599826812744, -5.1356000900268555, -5.181600093841553, -5.188199996948242, -5.212299823760986, -5.227799892425537, -5.229899883270264, -5.222899913787842, -2.414400100708008, -3.747499942779541, -4.2133002281188965, -4.353700160980225, -3.774199962615967, -4.5802001953125, -4.9532999992370605, -3.4535999298095703, -4.525000095367432, -4.749100208282471, -4.9319000244140625, -3.478300094604492, -3.6463000774383545, -3.226799964904785, -4.257500171661377, -4.5883002281188965, -4.3302998542785645, -4.845200061798096, -4.334199905395508, -4.018700122833252, -4.375100135803223, -4.4319000244140625, -4.445799827575684, -4.618599891662598, -3.707900047302246, -4.670100212097168, -4.721700191497803, -4.808000087738037, -4.910200119018555, -4.917799949645996, -4.919600009918213, -4.920100212097168, -4.937300205230713, -4.915299892425537, -4.932600021362305, -5.035799980163574, -5.037799835205078, -5.066299915313721, -5.117199897766113, -5.123700141906738, -5.122399806976318, -5.17549991607666, -5.0903000831604, -5.083899974822998, -5.29449987411499, -5.301000118255615, -5.35230016708374, -4.691299915313721, -1.7770999670028687, -3.7607998847961426, -3.672600030899048, -5.011000156402588, -4.390600204467773, -4.569900035858154, -3.4486000537872314, -4.832699775695801, -5.0106000900268555, -3.0541000366210938, -3.9242000579833984, -4.222099781036377, -4.349899768829346, -4.335599899291992, -3.764899969100952, -3.513700008392334, -3.796099901199341, -4.883399963378906, -4.285999774932861, -4.1890997886657715, -4.223299980163574, -4.428999900817871, -4.597499847412109, -4.744200229644775, -4.6656999588012695, -4.80019998550415, -4.976600170135498, -4.982600212097168, -5.109399795532227, -5.112299919128418, -5.118199825286865, -5.207900047302246, -5.14169979095459, -5.026100158691406, -5.0208001136779785, -4.962299823760986, -5.3557000160217285, -5.357100009918213, -5.3242998123168945, -5.455900192260742, -5.520699977874756, -5.531599998474121, -5.53380012512207, -5.532400131225586, -4.996500015258789, -5.5696001052856445, -5.553299903869629, -5.5767998695373535, -5.606500148773193, -2.479300022125244, -4.277400016784668, -4.451399803161621, -4.811600208282471, -4.364200115203857, -4.887499809265137, -5.114500045776367, -5.360899925231934, -5.346499919891357, -4.398600101470947, -4.883699893951416, -4.710400104522705, -5.1468000411987305, -4.855599880218506, -4.769499778747559, -1.686900019645691, -3.373300075531006, -4.621399879455566, -4.7683000564575195, -5.097700119018555, -3.9923999309539795, -4.939599990844727, -4.848700046539307, -4.831399917602539, -4.951300144195557, -4.2677998542785645, -3.819999933242798, -4.2093000411987305, -3.8896000385284424, -4.575399875640869, -3.9971001148223877, -4.644100189208984, -4.673099994659424, -4.7342000007629395, -4.731599807739258, -4.604599952697754, -4.830999851226807, -4.837800025939941, -4.934100151062012, -4.933300018310547, -5.0329999923706055, -4.192500114440918, -5.02269983291626, -5.149499893188477, -5.175300121307373, -5.221199989318848, -5.2129998207092285, -5.193699836730957, -5.327400207519531, -5.327400207519531, -5.33650016784668, -5.335000038146973, -5.33650016784668, -5.333700180053711, -5.3429999351501465, -3.295099973678589, -4.276899814605713, -4.44379997253418, -4.424300193786621, -4.703199863433838, -4.22160005569458, -4.991199970245361, -4.597099781036377, -5.14300012588501, -2.7253000736236572, -5.054999828338623, -4.663400173187256, -4.770699977874756, -4.617300033569336, -3.635699987411499, -4.03439998626709, -3.93969988822937, -2.574700117111206, -3.8494999408721924, -4.184599876403809, -3.6005001068115234, -4.143499851226807, -3.493799924850464, -3.5088999271392822, -3.850399971008301, -4.0605998039245605, -4.116199970245361, -4.344399929046631, -4.6722002029418945, -4.668600082397461, -4.195199966430664, -4.705599784851074, -4.665800094604492, -4.773099899291992, -4.805500030517578, -4.070099830627441, -4.833600044250488, -4.8125, -4.724599838256836, -5.0696001052856445, -5.061800003051758, -5.074900150299072, -4.224100112915039, -5.206200122833252, -5.2657999992370605, -5.294600009918213, -4.797599792480469, -5.450500011444092, -5.459799766540527, -5.4629998207092285, -5.469200134277344, -5.463699817657471, -3.2716000080108643, -3.3879001140594482, -3.659899950027466, -3.9570000171661377, -4.423999786376953, -4.690199851989746, -4.834499835968018, -4.504499912261963, -4.825099945068359, -4.676400184631348, -4.589700222015381, -4.3420000076293945, -3.9767000675201416, -3.242000102996826, -3.5309998989105225, -4.694200038909912, -3.661600112915039, -4.277900218963623, -4.0858001708984375, -4.584799766540527, -4.032100200653076, -4.186699867248535, -3.9117000102996826, -4.404300212860107, -4.446499824523926, -4.448800086975098, -4.4847002029418945, -2.6242001056671143, -4.2093000411987305, -4.355000019073486, -4.481100082397461, -4.76170015335083, -4.69789981842041, -4.18209981918335, -4.970300197601318, -4.958899974822998, -5.004199981689453, -4.851600170135498, -5.141900062561035, -4.618800163269043, -5.154799938201904, -5.165599822998047, -5.189199924468994, -5.166800022125244, -5.170300006866455, -5.008399963378906, -4.580999851226807, -4.628499984741211, -5.302599906921387, -4.908999919891357, -3.51419997215271, -3.6679999828338623, -4.345799922943115, -3.050299882888794, -4.452400207519531, -5.02839994430542, -4.405399799346924, -3.440000057220459, -3.6373000144958496, -4.823400020599365, -4.421500205993652, -2.881999969482422, -3.321199893951416, -4.1417999267578125, -4.1971001625061035, -4.1255998611450195, -4.781599998474121, -4.826499938964844, -4.987800121307373, -5.0808000564575195, -4.629300117492676, -4.773900032043457, -5.173900127410889, -5.196700096130371, -4.796999931335449, -4.987500190734863, -3.57069993019104, -5.0177001953125, -5.3730998039245605, -5.3821001052856445, -5.366799831390381, -5.213399887084961, -5.408100128173828, -5.401700019836426, -4.981200218200684, -3.156599998474121, -5.537099838256836, -5.525000095367432, -5.561299800872803, -4.213600158691406, -5.677499771118164, -5.677499771118164, -5.68179988861084, -5.694300174713135, -5.68120002746582, -1.9988000392913818, -3.2881999015808105, -3.8882999420166016, -4.0970001220703125, -3.906100034713745, -3.9565999507904053, -4.395500183105469, -4.694200038909912, -4.3420000076293945, -4.714900016784668, -5.175899982452393, -4.848499774932861, -5.2032999992370605, -4.816500186920166, -3.8059000968933105, -3.242000102996826, -4.579999923706055, -2.756200075149536, -4.482699871063232, -3.822499990463257, -4.600100040435791, -4.821599960327148, -4.63129997253418, -2.769399881362915, -3.6013998985290527, -3.2799999713897705, -3.976099967956543, -4.151700019836426, -4.268400192260742, -4.361700057983398, -2.7067999839782715, -4.356100082397461, -4.230400085449219, -4.734099864959717, -4.763500213623047, -4.744900226593018, -4.684100151062012, -4.193299770355225, -4.867700099945068, -4.668700218200684, -5.008999824523926, -4.918799877166748, -4.618800163269043, -5.06820011138916, -3.2808001041412354, -4.952300071716309, -5.198800086975098, -5.2484002113342285, -5.247000217437744, -5.2480998039245605, -5.4440999031066895, -5.521399974822998, -5.546599864959717, -3.3296000957489014, -3.603100061416626, -3.9779000282287598, -4.084000110626221, -4.250500202178955, -4.733500003814697, -4.652299880981445, -4.271500110626221, -4.741300106048584, -4.078800201416016, -4.8470001220703125, -4.6793999671936035, -3.940000057220459, -4.3649001121521, -4.0655999183654785, -4.739999771118164], \"loglift\": [30.0, 29.0, 28.0, 27.0, 26.0, 25.0, 24.0, 23.0, 22.0, 21.0, 20.0, 19.0, 18.0, 17.0, 16.0, 15.0, 14.0, 13.0, 12.0, 11.0, 10.0, 9.0, 8.0, 7.0, 6.0, 5.0, 4.0, 3.0, 2.0, 1.0, 2.142, 2.142, 2.142, 2.1419, 2.1419, 2.1419, 2.1419, 2.1419, 2.1419, 2.1418, 2.1418, 2.1418, 2.1418, 2.1418, 2.1418, 2.1417, 2.1416, 2.1416, 2.1416, 2.1416, 2.1416, 2.1416, 2.1416, 2.1416, 2.1415, 2.1415, 2.1415, 2.1415, 2.1415, 2.1415, 2.1412, 2.1408, 2.1407, 2.1391, 2.1388, 2.1413, 2.1309, 2.1372, 2.1264, 2.131, 2.068, 1.8979, 2.0469, 1.9971, 1.5506, 1.7288, 0.5494, 2.233, 2.2328, 2.2328, 2.2328, 2.2328, 2.2326, 2.2325, 2.2324, 2.2324, 2.2323, 2.2323, 2.2323, 2.2323, 2.2322, 2.2322, 2.2321, 2.2321, 2.2321, 2.2321, 2.232, 2.2319, 2.2319, 2.2319, 2.2319, 2.2318, 2.2318, 2.2318, 2.2318, 2.2318, 2.2318, 2.2311, 2.2306, 2.2262, 2.2241, 2.2302, 2.2307, 2.2315, 2.2195, 2.2148, 2.2078, 2.2064, 2.2167, 2.2097, 2.2107, 2.1858, 2.1791, 2.157, 2.2047, 2.1278, 2.106, 1.7997, 1.8608, 1.6274, 0.6986, 1.0753, 2.2444, 2.2443, 2.2443, 2.2443, 2.2443, 2.2442, 2.2442, 2.2442, 2.2442, 2.2441, 2.2441, 2.244, 2.244, 2.244, 2.244, 2.244, 2.244, 2.244, 2.2439, 2.2439, 2.2439, 2.2439, 2.2439, 2.2439, 2.2439, 2.2439, 2.2439, 2.2439, 2.2439, 2.2439, 2.2432, 2.2415, 2.243, 2.2435, 2.2371, 2.2429, 2.2438, 2.2223, 2.2378, 2.24, 2.2415, 2.1872, 1.9901, 1.886, 1.9412, 2.0707, 0.2764, 0.992, 2.2517, 2.2516, 2.2516, 2.2516, 2.2516, 2.2516, 2.2516, 2.2515, 2.2515, 2.2515, 2.2515, 2.2515, 2.2515, 2.2515, 2.2514, 2.2514, 2.2514, 2.2514, 2.2514, 2.2514, 2.2514, 2.2513, 2.2513, 2.2513, 2.2513, 2.2513, 2.2512, 2.2512, 2.2512, 2.2512, 2.2507, 2.2496, 2.2485, 2.2512, 2.2313, 2.2344, 2.1974, 2.2174, 2.241, 1.9185, 1.9129, 1.9569, 1.9571, 1.8713, 1.3649, 0.7887, -0.1806, 2.1681, 0.7312, 2.2994, 2.2994, 2.2993, 2.2993, 2.2992, 2.2992, 2.2992, 2.2991, 2.2991, 2.299, 2.299, 2.299, 2.299, 2.299, 2.2989, 2.2989, 2.2989, 2.2989, 2.2989, 2.2988, 2.2987, 2.2987, 2.2987, 2.2987, 2.2987, 2.2987, 2.2987, 2.2987, 2.2987, 2.2986, 2.2953, 2.2983, 2.2981, 2.297, 2.2903, 2.2954, 2.2976, 2.2985, 2.2977, 2.2839, 2.2878, 2.2824, 2.294, 2.2842, 2.2702, 1.9286, 1.9271, 2.0678, 2.0385, 2.2836, 0.9802, 1.748, 0.9869, 0.8049, 1.3991, 2.3033, 2.3033, 2.3033, 2.3033, 2.3032, 2.3032, 2.3032, 2.3031, 2.3031, 2.3031, 2.3031, 2.3031, 2.303, 2.303, 2.303, 2.303, 2.303, 2.303, 2.3029, 2.3029, 2.3029, 2.3028, 2.3028, 2.3028, 2.3028, 2.3028, 2.3028, 2.3028, 2.3028, 2.3028, 2.2998, 2.3021, 2.3027, 2.3015, 2.3027, 2.2955, 2.3025, 2.2978, 2.3026, 2.2579, 2.3002, 2.2862, 2.287, 2.2507, 2.1202, 2.151, 2.1045, 1.7277, 1.9862, 1.6204, 0.7356, 0.8737, 2.3192, 2.3192, 2.3191, 2.3191, 2.319, 2.3189, 2.3189, 2.3189, 2.3189, 2.3189, 2.3189, 2.3189, 2.3188, 2.3188, 2.3188, 2.3188, 2.3187, 2.3187, 2.3187, 2.3187, 2.3187, 2.3186, 2.3186, 2.3186, 2.3185, 2.3184, 2.3184, 2.3184, 2.3184, 2.3184, 2.3169, 2.3155, 2.3175, 2.3158, 2.3174, 2.3182, 2.3182, 2.3135, 2.3162, 2.3127, 2.3106, 2.2944, 2.2666, 2.1656, 2.1228, 2.2998, 2.0586, 2.0971, 2.0061, 1.0508, 2.3405, 2.3404, 2.3404, 2.3404, 2.3404, 2.3404, 2.3404, 2.3403, 2.3403, 2.3403, 2.3403, 2.3402, 2.3402, 2.3402, 2.3402, 2.3401, 2.3401, 2.3401, 2.3401, 2.3401, 2.3401, 2.34, 2.34, 2.34, 2.34, 2.34, 2.34, 2.34, 2.3399, 2.3399, 2.3393, 2.3356, 2.3388, 2.3248, 2.3362, 2.3397, 2.3246, 2.21, 2.0734, 2.3013, 2.1973, 1.7247, 1.8086, 1.9136, 1.6079, 2.3988, 2.3985, 2.3985, 2.3984, 2.3984, 2.3983, 2.3983, 2.3983, 2.3983, 2.3983, 2.3983, 2.3982, 2.3982, 2.3982, 2.3982, 2.3982, 2.3981, 2.3981, 2.3981, 2.3981, 2.398, 2.398, 2.398, 2.3979, 2.3979, 2.3979, 2.3979, 2.3979, 2.3978, 2.3978, 2.3924, 2.3971, 2.3961, 2.3978, 2.3958, 2.3951, 2.3976, 2.3977, 2.3938, 2.3964, 2.3977, 2.3937, 2.3961, 2.3832, 2.1061, 1.7752, 2.1824, 0.8592, 1.8966, 0.7842, 1.7004, 2.0321, 0.669, 2.5431, 2.543, 2.543, 2.5429, 2.5429, 2.5429, 2.5428, 2.5428, 2.5427, 2.5427, 2.5427, 2.5427, 2.5427, 2.5426, 2.5426, 2.5426, 2.5426, 2.5425, 2.5425, 2.5425, 2.5425, 2.5425, 2.5424, 2.5424, 2.5423, 2.5423, 2.5422, 2.5421, 2.5421, 2.542, 2.5402, 2.5409, 2.5415, 2.5414, 2.5383, 2.5416, 2.5404, 2.5326, 2.5389, 2.5061, 2.5307, 2.4888, 2.1348, 2.229, 1.0472, 2.2209]}, \"token.table\": {\"Topic\": [3, 5, 7, 8, 10, 1, 6, 4, 6, 7, 8, 2, 3, 5, 6, 8, 9, 3, 2, 3, 5, 6, 1, 2, 4, 6, 8, 1, 2, 4, 5, 6, 7, 9, 10, 5, 1, 5, 1, 1, 10, 5, 9, 1, 3, 4, 5, 6, 7, 8, 9, 10, 2, 6, 3, 9, 7, 9, 2, 8, 6, 10, 4, 6, 9, 1, 4, 5, 5, 7, 8, 9, 10, 5, 5, 9, 2, 5, 8, 6, 8, 3, 2, 8, 2, 8, 2, 6, 9, 1, 6, 9, 5, 1, 2, 6, 7, 8, 9, 3, 1, 9, 4, 1, 7, 6, 2, 8, 3, 2, 3, 4, 6, 7, 5, 1, 2, 5, 6, 9, 10, 3, 1, 6, 6, 9, 6, 9, 5, 8, 10, 4, 5, 6, 7, 10, 1, 2, 6, 2, 6, 5, 8, 2, 5, 6, 8, 7, 3, 8, 10, 3, 5, 2, 3, 5, 4, 9, 6, 3, 9, 2, 2, 4, 9, 5, 2, 4, 6, 5, 5, 1, 4, 6, 8, 9, 10, 7, 9, 5, 7, 8, 9, 6, 4, 7, 10, 1, 3, 4, 9, 10, 1, 2, 3, 4, 5, 6, 9, 6, 1, 5, 6, 2, 2, 5, 6, 8, 10, 10, 8, 5, 1, 2, 3, 4, 10, 2, 6, 5, 4, 1, 2, 4, 6, 10, 6, 7, 1, 4, 5, 9, 6, 3, 5, 2, 6, 7, 2, 1, 6, 10, 7, 1, 2, 4, 5, 8, 9, 4, 10, 4, 2, 3, 4, 5, 6, 7, 8, 9, 10, 2, 9, 5, 6, 7, 10, 2, 3, 6, 6, 1, 8, 8, 4, 10, 7, 8, 9, 2, 4, 5, 7, 8, 5, 8, 3, 10, 3, 9, 5, 2, 1, 5, 8, 9, 10, 10, 2, 4, 9, 3, 9, 10, 1, 7, 10, 1, 3, 5, 7, 10, 8, 1, 4, 10, 3, 3, 4, 5, 6, 7, 2, 5, 7, 8, 7, 10, 5, 7, 2, 5, 10, 2, 5, 1, 8, 9, 2, 6, 7, 2, 6, 2, 3, 5, 2, 9, 3, 9, 10, 1, 4, 4, 1, 3, 4, 9, 8, 4, 6, 1, 8, 5, 8, 1, 7, 9, 6, 1, 4, 5, 6, 7, 9, 9, 10, 9, 1, 2, 3, 5, 9, 2, 8, 3, 4, 8, 9, 10, 5, 7, 3, 5, 6, 9, 4, 2, 3, 4, 5, 6, 9, 1, 7, 10, 5, 10, 1, 3, 4, 5, 8, 10, 6, 7, 8, 3, 8, 1, 4, 4, 2, 4, 8, 1, 2, 9, 2, 5, 6, 4, 5, 2, 1, 6, 8, 6, 4, 9, 10, 6, 1, 9, 9, 5, 8, 8, 2, 5, 4, 6, 8, 6, 2, 9, 4, 7, 3, 3, 4, 10, 1, 8, 3, 10, 5, 1, 3, 6, 8, 1, 5, 9, 2, 3, 4, 10, 7, 4, 3, 9, 1, 7, 8, 5, 2, 6, 3, 5, 2, 3, 4, 7, 8, 1, 3, 4, 7, 8, 9, 10, 3, 5, 1, 2, 8, 5, 6, 9, 2, 7, 3, 7, 4, 7, 10, 1, 2, 3, 4, 5, 6, 7, 8, 9, 10, 2, 1, 2, 9, 1, 2, 1, 2, 4, 6, 8, 9, 1, 2, 3, 4, 5, 6, 7, 8, 9, 1, 6, 1, 3, 4, 6, 9, 10, 10, 7, 1, 4, 5, 7, 10, 2, 5, 2, 8, 9, 2, 3, 4, 8, 9, 7, 9, 1, 6, 7, 10, 8, 2, 6, 5, 1, 5, 10, 2, 3, 5, 6, 7, 8, 5, 6, 7, 8, 3, 3, 6, 10, 9, 7, 1, 4, 10, 2, 7, 4, 1, 7, 4, 1, 2, 5, 1, 5, 2, 4, 6, 7, 8, 10, 6, 7, 3, 9, 3, 4, 9, 2, 5, 7, 8, 9, 8, 10, 4, 9, 7, 10, 9, 10, 6, 6, 9, 7, 4, 9, 4, 1, 3, 4, 6, 7, 8, 9, 4, 7, 4, 5, 9, 2, 5, 8, 10, 7, 8, 9, 1, 2, 4, 5, 7, 8, 9, 1, 3, 7, 2, 6, 9, 4, 6, 2, 4, 6, 7, 8, 1, 1, 8, 3, 9, 9, 8, 1, 8, 3, 7, 8, 10, 3, 6, 2, 1, 3, 8, 9, 3, 1, 2, 5, 8, 10, 8, 10, 2, 4, 5, 5, 8, 3, 2, 5, 9, 10, 1, 4, 6, 9, 4, 5, 1, 4, 10, 3, 10, 3, 3, 4, 7, 3, 9, 4, 7, 8, 2, 8, 5, 1, 10, 2, 1, 7, 3, 2, 7, 10, 3, 4, 1, 4, 5, 6, 6, 7, 10, 2, 7, 8, 3, 6, 8, 4, 6, 5, 1, 2, 8, 3, 7, 1, 3, 2, 10, 2, 3, 4, 8, 10, 1, 1, 2, 5, 6, 9, 10, 2, 3, 7, 8, 9, 5, 3, 1, 7, 9, 1, 5, 8, 9, 8, 10, 1, 2, 6, 7, 10, 9, 5, 6, 9, 6, 1, 3, 4, 5, 6, 7, 10, 6, 8, 1, 1, 8, 8, 10, 9, 2, 5, 1, 2, 3, 4, 5, 6, 7, 8, 9, 10, 4, 5, 8, 10, 4, 6, 7, 4, 5, 3, 1, 2, 3, 4, 5, 6, 7, 8, 10, 1, 2, 4, 5, 9, 4, 2, 10, 6, 6, 3, 1, 3, 7, 1, 6, 1, 10, 2, 6, 1, 8, 10, 4, 7, 1, 2, 3, 6, 7, 8, 10, 7, 8, 3, 10, 1, 2, 3, 8, 3, 9, 2, 4, 5, 9, 10, 8, 7, 1, 4, 10, 3, 5, 6, 1, 2, 3, 4, 5, 6, 7, 8, 9, 1, 7, 6, 2, 5, 6, 7, 8, 10, 2, 1, 7, 7, 2, 1, 1, 3, 7, 1, 2, 3, 4, 5, 6, 7, 8, 9, 10, 2, 3, 4, 5, 6, 7, 8, 9, 10, 3, 9, 1, 3, 7, 9, 7, 7], \"Freq\": [0.00035844773598758454, 0.02849659501101297, 0.28353215916617935, 0.022761431235211616, 0.6647413263889755, 0.9997850961035429, 0.9995734971027318, 0.7446142494359607, 0.0009042067388414822, 0.07233653910731858, 0.1819716061918483, 0.01375371178268442, 0.00042980349320888815, 0.002149017466044441, 0.9829605889687272, 0.00042980349320888815, 0.00042980349320888815, 0.9993888854280424, 0.9865595413575197, 0.0007542504138818958, 0.0026398764485866355, 0.009805255380464645, 0.00033271552005898733, 0.0021071982937069197, 0.0008872413868239663, 0.9962611722299611, 0.00022181034670599157, 0.03564113798123732, 0.000941020144719137, 0.0015291577351685976, 0.0011762751808989213, 0.00023525503617978426, 0.8216282138578965, 0.00011762751808989213, 0.13868284382798282, 0.9990903689124463, 0.8650203361733133, 0.13479273412370238, 0.9999032442094766, 0.003589191625842357, 0.995402477566947, 0.9994052902427087, 0.999038251643195, 0.06960246556658735, 0.13974160494833818, 0.04825936076354721, 0.00012384780349926575, 0.0017751518501561423, 4.128260116642191e-05, 0.5401002710602979, 0.19894085502098718, 0.001403608439658345, 0.0007016220897366026, 0.9991098557849222, 0.001090906102872727, 0.9987245371799816, 0.9994999759618216, 0.9989753835093139, 0.9972977184229135, 0.0019365004241221622, 0.9994030326682078, 0.9991785464976934, 0.9996489158217581, 0.000991019571505055, 0.998452218291343, 0.005956857518622762, 0.00926622280674652, 0.9842052366880053, 0.22255251130462106, 0.00022457367437398696, 0.19290878628725477, 0.4972061150640071, 0.08691001198273295, 0.9986542947026938, 0.9992208785099641, 0.9993116027069238, 0.0014048296230137003, 0.9946193730936999, 0.004214488869041101, 0.0006531296989588983, 0.9992884394071143, 0.9993874626000316, 0.0004380138877235242, 0.9991096778973587, 0.03840468824718467, 0.9611413311995416, 0.6890170385164041, 0.31062243539673956, 0.999038251643195, 0.9998444715452559, 0.004858770470674608, 0.9946597263538162, 0.9987388123175441, 0.0001302761315811385, 0.000260552263162277, 0.832464480803475, 0.0006513806579056925, 0.036216764579556505, 0.13014585544955737, 0.9997614532369677, 0.0020210055861696044, 0.9973662567746997, 0.9996139040356953, 0.9965631300962994, 0.003005576006322316, 0.9995183778256812, 0.9988106214337363, 0.9995395542499652, 0.9996393927731901, 0.8806031802591732, 0.11502729888480256, 0.0033410418763220665, 0.000954583393234876, 0.999574848059218, 0.9992959321468791, 0.00827483625017463, 0.9748393628571113, 0.013685306106058042, 0.002546103461592194, 0.0003182629326990242, 0.0003182629326990242, 0.9996492844631298, 0.9998695731279282, 0.9990935187779686, 0.999706576808296, 0.9992662169557566, 0.3069293539606912, 0.6927387708985575, 0.00041767597512189637, 0.999080932491576, 0.9994634435378913, 9.765494815387332e-05, 0.9956410239028155, 4.882747407693666e-05, 0.0041015078224626795, 4.882747407693666e-05, 0.00031603799882421656, 0.9266234125526029, 0.07268873972956981, 0.9994967365339454, 0.999294227607661, 0.015579723064764866, 0.9842823897373734, 0.9736359049206814, 0.02408575194562692, 0.0016329323352967404, 0.0004082330838241851, 0.999852897123055, 0.9997825119796127, 0.9991135662868993, 0.999753003535048, 0.002015530765129712, 0.9971838460479249, 0.9992865532506336, 0.016603711470589654, 0.9827602194754416, 0.9994383328512013, 0.9995395333638691, 0.999530983905633, 0.9995690869540339, 0.9996922728730586, 0.9985735046710826, 0.9982677813683262, 0.0006448180738399604, 0.9991456054150186, 0.9991418110161128, 0.9989298557358461, 0.9992860069927003, 0.9998158912083308, 0.9994588360490931, 0.9996457224320577, 0.0001065243111973171, 0.0001065243111973171, 0.0001065243111973171, 0.0001065243111973171, 0.9989849904084398, 0.0005326215559865855, 0.999002562175347, 0.9989409644840206, 0.9998351244621224, 0.0003297680363358757, 0.9982078459886957, 0.0013190721453435028, 0.9993090366230355, 0.9889142628715496, 0.010464701194407932, 0.999046283419378, 0.0013922571008867643, 0.25140185364583856, 0.7444597612313084, 0.0011933632293315123, 0.0013922571008867643, 4.343986475106006e-05, 0.00017375945900424024, 0.9987259304916218, 0.0006081581065148408, 0.0001303195942531802, 0.0002606391885063604, 0.9992965477898877, 0.9996808991280922, 0.5734066195365016, 0.40627121952339207, 0.02006569067953999, 0.999484029273546, 0.0011156510984196594, 0.00027891277460491485, 0.9920927392696822, 0.0008367383238147446, 0.005857168266703213, 0.9987596442551978, 0.9995165497831956, 0.9995683068811654, 0.6615402057320023, 0.3142123445153166, 0.002310384886142034, 0.0001925320738451695, 0.02194865641834932, 0.002579213885933752, 0.9968661669133952, 0.9985255549764687, 0.9992438337834495, 0.22701772109161156, 0.00020452046945190232, 0.6835074089082576, 0.00020452046945190232, 0.08917092468102941, 0.19912275818275219, 0.8008460869804492, 0.9995276415239951, 0.0004703215840128061, 0.9712140709864446, 0.02774897345675556, 0.9991860337318453, 0.999409353712948, 0.9993552640138026, 0.9991861620482964, 0.0002453419980220443, 0.9995232999418084, 0.99942988898402, 0.01956234549401428, 0.2556146477884533, 0.7246762208560401, 0.9996676530957993, 0.09315486314584892, 0.0017576389272801684, 0.02718481540859994, 0.00011717592848534456, 0.87741335249826, 0.0003515277854560337, 0.9662315456892124, 0.03374443666696217, 0.9997899193337506, 0.9990049296795994, 1.9951368622775194e-05, 9.975684311387597e-06, 4.9878421556937984e-05, 0.00042895442538966663, 9.975684311387597e-06, 0.00020948937053913953, 0.00016958663329358915, 9.975684311387597e-05, 0.9990864193296233, 0.0008189232945324781, 0.9994609200821443, 0.8585310275646542, 0.1413203323526803, 0.998619049979759, 0.9770637475469458, 0.0026496644001273106, 0.01987248300095483, 0.9996662766308133, 0.9998737502130791, 0.9994980140913244, 0.9997009344360276, 0.9997423972131383, 0.9989791497184441, 0.9996121212929924, 0.000464722945734539, 0.9991543333292588, 0.0006147218510207345, 0.9966178009673657, 0.0004610413882655509, 0.00015368046275518362, 0.001997846015817387, 0.9990284237101095, 0.0008740406156693871, 0.999742348377602, 0.9997225191471123, 0.9992069934083201, 0.9986144693721175, 0.9991628422691161, 0.9995447034538462, 0.9285691101644726, 0.01014038029820797, 0.00032191683486374503, 0.06052036495438407, 0.00032191683486374503, 0.9992385677916948, 0.9909508736078377, 0.00026818697526599124, 0.00858198320851172, 0.9983036413029356, 0.0011361574066421876, 0.9998318578705716, 0.9985253797489938, 0.00035995868051513834, 0.0007199173610302767, 0.019842899621399845, 0.9780745613384543, 0.00012025999770545362, 0.0007215599862327217, 0.0010823399793490826, 0.9994695682424526, 0.0024818056497238157, 0.00043796570289243806, 0.9969559283508198, 0.9994405353033037, 0.00016256366757428354, 0.0004876910027228506, 0.0009753820054457012, 0.00016256366757428354, 0.9981409189061009, 0.0007181484786620041, 0.00028725939146480165, 0.00014362969573240083, 0.998657274427383, 0.9991080944467827, 0.0005076768772595441, 0.024508488423429585, 0.9753121546964799, 0.001365142795743335, 0.9979193836883778, 0.999744234288719, 0.9994662246782445, 0.9978316546352143, 0.9997188950612655, 0.9995321637160259, 0.0004338247238350807, 0.9991111480288484, 0.9995309829246107, 0.9993973937564903, 0.9474739094101572, 0.0521395788497421, 0.9717301983572145, 0.0006838354668242185, 0.026669583206144522, 0.9998857465130044, 0.9990034727615961, 0.002561677669218778, 0.0021957237164732385, 0.9950287975151225, 0.999861050553178, 0.9992607654791733, 0.9997333710705225, 0.9843695526773988, 0.00377153085317011, 0.0005802355158723246, 0.010734357043638006, 0.9990144711216672, 0.9795954112330436, 0.02013079409742265, 0.9997866836794462, 0.9997366541065946, 0.00021398280044237892, 0.9997276436667943, 0.0022099573620154144, 0.0004419914724030829, 0.997132761741355, 0.9988617194699978, 0.0012800242887556596, 0.002880054649700234, 0.9907387994968805, 0.003200060721889149, 0.0006400121443778298, 0.0009600182165667447, 0.9993967082290165, 0.0006605397939385436, 0.9990028094923109, 0.0002826611796958243, 0.9929887242714308, 0.0002826611796958243, 0.0014133058984791215, 0.004805240054829013, 0.9985098236778173, 0.0007459916501141705, 0.9991234766901887, 0.9992734644427678, 0.0009195578362722748, 0.9989463294704479, 0.9995453305228367, 0.0004558527179942991, 0.9987733051255092, 0.002836391941460848, 0.00023636599512173734, 0.000709097985365212, 0.996046303443001, 0.9996471731395999, 0.9985309571508706, 0.775433680165231, 0.00011559834230250909, 0.22437638240917016, 0.00011559834230250909, 0.9998043574571504, 0.9994222907310795, 0.9989840117501972, 0.0005266125523195557, 0.9991568411602567, 0.9996565504267698, 5.904262588888702e-05, 0.00017712787766666107, 5.904262588888702e-05, 5.904262588888702e-05, 0.9996506989247461, 0.9995934139809106, 0.0003490179688773202, 0.9981913909891357, 0.0010470539066319605, 0.00028035656196085496, 0.9994711433904478, 0.00015968419159179313, 0.999623039364625, 0.9995972995194244, 0.07995863717488431, 0.9195243275111696, 0.999754516834536, 0.9951525375402089, 0.004045335518456134, 0.0008090671036912267, 0.0008872466853527661, 0.9987440188120971, 0.9994153486517865, 0.01455604211604479, 0.9846122774210297, 0.9988773882792299, 0.00673458868356532, 0.9483885475561986, 0.04436905485643034, 0.9993402088853378, 0.2680340396839518, 0.0012046473693660754, 0.7303174676781832, 0.999620392763869, 0.9996218031072274, 0.998981537920984, 0.9992186434173406, 0.9994673787056758, 0.9995447709420722, 0.9994656283852866, 0.9780882201397063, 0.02193975023468227, 0.0006063919185484209, 0.9987274898492491, 0.999630350524679, 0.9996599408250334, 0.1942648117688507, 0.8052187335519885, 0.9996505600289387, 0.9997007581389737, 0.999898411230931, 0.007804346122627003, 0.0018581776482445246, 0.9896654154550338, 0.9998296902965658, 0.999783679297632, 0.9995474918819843, 0.9993511076892434, 0.9990462114394794, 0.0012166523585757324, 0.013209368464536523, 0.819502267240654, 0.16581233572589266, 0.0017276353303281625, 0.003455270660656325, 0.9945420718255789, 0.9998033785296316, 0.9997772588517405, 0.0005311642837962419, 0.999120017820731, 0.9994854139042856, 0.9997271728042862, 0.9983474322023997, 0.0010497869949552046, 0.00025696724048310986, 0.9996025654792974, 0.9995388419573376, 0.9998241778927772, 0.00045467739379701004, 0.9989262341720311, 0.8404918520330404, 0.1594202518578922, 0.000212116134596776, 0.000848464538387104, 0.04836247868806493, 0.9487954700513791, 0.0019090452113709841, 0.05296148594499287, 0.9443806538730751, 0.0003570437254718621, 0.0002380291503145747, 0.0002380291503145747, 0.0002380291503145747, 0.001666204052202023, 0.011269606944620559, 0.9885055234281461, 0.0014635379577547763, 0.0025611914260708587, 0.9955716957626866, 0.002848533082052912, 0.9941380456364663, 0.0024415997846167817, 0.9839510965226755, 0.01569408822470287, 0.005275520834745494, 0.994058854432758, 0.999416694999266, 0.7310612537134733, 0.2687242613400648, 0.00019916300593607835, 0.004473507517948836, 0.00033704508696874797, 0.08781556538658469, 0.6900078941811563, 0.000505567630453122, 0.00029108439329119144, 0.0016392647411661832, 0.21440663600580126, 0.00032172485574289577, 0.9992472143424328, 0.3907315392182965, 0.003887876012122353, 0.6050507043865412, 0.9997976004385462, 0.9987892522821243, 0.00013931551173362793, 0.00034828877933406986, 0.411886310440471, 0.00013931551173362793, 0.5874238552248422, 6.965775586681396e-05, 8.260681386833273e-05, 0.0003304272554733309, 0.00041303406934166365, 0.0008260681386833273, 0.688940827661895, 0.1300231250287557, 0.0018999567189716528, 0.00016521362773666546, 0.17727422256144204, 0.9998048395204276, 0.999084175615926, 0.7833012943005119, 0.007968124621367437, 0.00018896738232491945, 0.20846251726810697, 3.149456372081991e-05, 0.9997202422072823, 0.9994907768718936, 0.9993020128157711, 0.0018732826808872448, 0.00011019309887572028, 0.00022038619775144056, 0.9975781241218957, 0.00011019309887572028, 0.9992883105316545, 0.999430587154574, 0.0011244817099419853, 0.0017991707359071765, 0.9967405876925758, 0.008919906226570722, 0.0003716627594404468, 0.9826763359605413, 0.007804917948249382, 0.9996920270507736, 0.0011026589213071673, 0.9986414297305245, 0.00015703170372946706, 0.00015703170372946706, 7.851585186473353e-05, 0.9995853100899226, 0.9997745437864192, 0.9986485288980818, 0.001225335618279855, 0.9988577745371208, 0.0005480679076867365, 0.002192271630746946, 0.9969355240821737, 0.00014109440893906311, 0.001975321725146884, 0.26906703784679337, 0.7280471501255658, 0.00028218881787812623, 0.00028218881787812623, 0.0005206388308724345, 0.0015619164926173033, 0.9970233611207119, 0.001041277661744869, 0.9997543866600643, 0.9996409102781907, 0.9994330175995289, 0.9987692998948128, 0.9990975318037554, 0.9994014503026973, 0.00016802285954151016, 0.9977197399574873, 0.0020162743144981217, 0.997311179114896, 0.0015570822468616644, 0.9991404209640211, 0.9888319308612655, 0.01045000719536344, 0.9995548298274627, 0.09350503414077341, 0.9001143945859066, 0.00616516708620484, 0.0006072871557710642, 0.9989873712434005, 0.0023485529747685335, 0.00012360805130360702, 0.0009888644104288562, 0.996157285455769, 0.00024721610260721404, 0.00012360805130360702, 0.9994333738731567, 0.9986680635190622, 0.9992519469332781, 0.9996628320601798, 0.9989402353242715, 0.0003021597807998401, 0.0006043195615996803, 0.9978978967787965, 0.00021245431057670777, 0.00021245431057670777, 0.00021245431057670777, 0.0014871801740369544, 0.0013978208780869561, 0.998323671129704, 0.9994799293724996, 0.0004267634198857812, 8.361916389939824e-05, 0.9999179619090043, 0.0005574320823395569, 0.9991970075936558, 0.9997719337242434, 0.015454400043259668, 0.9841141170404282, 0.9992592733304161, 0.0008022036566868781, 0.9987435525751632, 0.9993340635174756, 0.00031118646379581547, 0.005788068226602167, 0.21857737217018078, 0.23936462795174124, 6.223729275916308e-05, 6.223729275916308e-05, 0.5358630906563941, 0.9995738450102243, 0.9998171821210634, 0.9996484980973152, 0.9996076932706385, 0.9987956459685379, 0.15115761963883614, 0.08317404441412071, 0.7653755254694611, 0.00012451204253610885, 0.9990407066253318, 0.9995392443480468, 0.9990660367134494, 0.00017855943156292297, 0.0008332773472936405, 0.7164399592409679, 0.26730346904969565, 0.00041663867364682023, 0.009939808357002712, 0.004761584841677945, 0.999268810725464, 0.9970533184465109, 0.002796091457207305, 0.9980696168175771, 0.9994679647384226, 0.00027292953706674567, 0.9993890861832314, 0.9991611834324602, 0.0002736468960527677, 0.012587757218427314, 0.5050153466653828, 0.0013682344802638385, 0.4805239494686601, 0.9999130905203076, 0.999498908863944, 0.9990035588677657, 0.25369980266480746, 0.7460236093966938, 0.9991533241826989, 0.9991704712412812, 0.9993954940071025, 0.99932979435212, 0.9995443172141032, 0.9998651603281823, 0.9990914657278752, 0.9988748857918683, 0.9968108978459673, 0.0026882710297895557, 0.9978472999031888, 0.00036419249932619915, 0.00012139749977539971, 0.0014567699973047966, 0.9981302431533364, 0.999722496925217, 0.27719188560768165, 0.04429445477053632, 0.0026365746887224, 0.6524643496358365, 0.023377628906671947, 0.03611149780726464, 0.9636696398318805, 0.0003518923437016319, 0.0007037846874032638, 0.9986704714252315, 0.984265277016319, 0.01513748002097983, 0.9996046599913936, 0.9816662615964116, 0.012535047406463945, 0.005161490108543977, 0.0004915704865279978, 0.9991726227117512, 0.0001550787867005667, 0.0001550787867005667, 0.0004652363601017001, 0.9996921879134899, 0.9996444842469977, 0.9985706371774934, 0.0003632486857684589, 0.0007264973715369178, 0.00034713891877042783, 0.9994129471400618, 0.9995103502323712, 0.2857195110695024, 0.7124618075234574, 0.0015543593579448694, 0.9997567919076926, 0.9983799779955744, 0.0003337917434944215, 0.0045061885371746905, 0.9948662914851234, 0.9991318072704315, 0.999574757492321, 0.9993097439681253, 0.0011902963115612392, 0.9980634572440992, 0.9993598270892246, 0.9996740139162905, 0.9996163275291113, 0.9996760887965392, 0.9973307565085788, 0.00036572451650479607, 0.0014628980660191843, 0.9998197704579541, 0.9995429711085537, 0.9993925587062354, 0.9997216380052366, 0.9996372941134793, 0.9988559022815511, 0.006259464764698298, 0.9934664790828298, 0.9995643025765356, 0.000818203937712568, 0.991254070538776, 0.007363835439413111, 0.9953687171873646, 0.00357724606356645, 0.00044715575794580624, 0.9997080001310585, 0.999741733343506, 0.9994785087103755, 0.08183451630795573, 0.6483617387732171, 0.2694982373474962, 0.9993935890827933, 0.9994046338103085, 0.9994894445432047, 0.999687549904693, 0.01187057130981129, 0.9872358472659722, 0.5456280753804756, 0.22901653047612333, 0.00812475496145892, 0.21657549944138937, 0.0005077971850911826, 0.9997196339786719, 0.9889527434217877, 0.006699827127747016, 0.0008738904949235238, 0.0002912968316411746, 0.002912968316411746, 0.9996742606948426, 0.21557092031764627, 0.008673115744558363, 0.7705246306397503, 0.003142433240782016, 0.00201115727410049, 0.9995470853210864, 0.9995155579068099, 0.018422529477208748, 0.9808873621645536, 0.00044932998724899387, 0.2030620221426457, 0.7930350424298431, 0.0019875564973179027, 0.0016562970810982522, 0.8663254814419591, 0.13337584033603933, 0.5535387593296234, 0.00843245605823508, 0.1561737067223812, 0.2812743904356496, 0.0005775654834407589, 0.9989866970190493, 0.9995197342148586, 0.0016464078365216867, 0.9968999450138814, 0.9996607447419656, 0.04430684954066957, 0.6987060059713316, 0.00691652519877531, 6.848044751262683e-05, 0.00041088268507576104, 0.025474726474697184, 0.22399954381380238, 0.9978860639675485, 0.0017181233883738784, 0.9995227187160737, 0.999173851297846, 0.999766360276159, 0.05241253008742155, 0.9471692937226894, 0.9995080776300342, 0.22954360023183512, 0.7702380222064987, 4.628087964912963e-05, 6.942131947369445e-05, 2.3140439824564815e-05, 0.9988108041476911, 0.00023140439824564815, 6.942131947369445e-05, 2.3140439824564815e-05, 2.3140439824564815e-05, 0.0006710727549123797, 2.3140439824564815e-05, 0.0003840849527035984, 0.0003840849527035984, 0.0013442973344625943, 0.9976606646475967, 0.9994166235415346, 0.0032766138893241988, 0.9965275042064663, 0.99973145501168, 0.9988162229256863, 0.9990597548002581, 0.20338678011399497, 0.0009744538050079112, 0.0010049054864144085, 0.2314936820521919, 0.0003958718582844639, 0.5622598454895648, 0.000274065132658475, 9.135504421949167e-05, 0.00015225840703248612, 0.05193798142360292, 0.00035014369499058144, 0.946905265819529, 0.0005835728249843024, 0.00011671456499686048, 0.9998230027857149, 0.9988075850193617, 0.9992626322808865, 0.9997954973847071, 0.9991955608487786, 0.9992110042022403, 0.9994269826204569, 0.9926318545935252, 0.007231984030417076, 0.0002245260200974514, 0.9995898414738537, 0.9996486042644311, 0.9993478359029607, 0.0011868303350737232, 0.998717726964538, 0.997072406410937, 0.0007446395865653002, 0.0018615989664132505, 0.9993813227344429, 0.9993098704560666, 0.0035349293768377524, 0.9536453918846737, 0.001571079723039001, 0.03652760356065678, 0.00039276993075975026, 0.0035349293768377524, 0.0007855398615195005, 0.9991370335746771, 0.9993316475884584, 0.9997419677754094, 0.9998197112165113, 0.006211775023124403, 0.008972563922290804, 0.00034509861239580015, 0.984221242552822, 0.9934554490931129, 0.006418592276983501, 0.9987936121043514, 0.0009922271531734815, 0.5761532336094015, 0.4226887672519031, 0.0003307423843911605, 0.9991543099178039, 0.9997906607476152, 0.0009324221503848112, 0.00031080738346160375, 0.9983133156786712, 0.001915502878750535, 0.013887395870941378, 0.9836107282383997, 0.9997448237018117, 6.65582811838272e-05, 0.0014642821860441984, 0.0037938220274781505, 0.0009318159365735807, 0.000166395702959568, 0.0001331165623676544, 6.65582811838272e-05, 0.9933823466686209, 0.9993588007006482, 0.9996692864176971, 0.9997146629507805, 0.0032563562546607367, 0.9959022878837419, 0.0005427260424434561, 0.9992617944880631, 0.0002861574440114728, 0.9996790134555751, 0.9988884209018163, 0.9993780777962472, 0.9990599111490881, 0.9998679874562123, 0.9996050072181798, 0.9992093174397724, 0.9999178949279685, 0.7384129674754378, 0.26128458849130876, 0.0017472426284894898, 0.0007356811067324168, 0.0002758804150246563, 0.004046246087028292, 0.0034944852569789796, 0.0003678405533662084, 0.8575282900349733, 0.02243827375533871, 0.006345249545567095, 0.10317927521922145, 0.009685354845045605, 0.0002406299340384001, 0.0004211023845672002, 6.015748350960003e-05, 0.9553609956159581, 0.00012031496701920005, 6.015748350960003e-05, 6.015748350960003e-05, 0.03404913566643362, 0.0005370095822572221, 0.9993748325806904, 0.9091849954294844, 0.08700169037468569, 0.0031195825233951047, 0.00034662028037723387, 0.9996437700864435, 0.9990948953933957], \"Term\": [\"ability\", \"ability\", \"ability\", \"ability\", \"ability\", \"abraham\", \"absence\", \"abundance\", \"abundance\", \"abundance\", \"abundance\", \"acceptance\", \"acceptance\", \"acceptance\", \"acceptance\", \"acceptance\", \"acceptance\", \"accomplishment\", \"achievement\", \"achievement\", \"achievement\", \"achievement\", \"act\", \"act\", \"act\", \"act\", \"act\", \"action\", \"action\", \"action\", \"action\", \"action\", \"action\", \"action\", \"action\", \"advantage\", \"aim\", \"aim\", \"albert\", \"alcott\", \"alcott\", \"allow\", \"ambrose\", \"amp\", \"amp\", \"amp\", \"amp\", \"amp\", \"amp\", \"amp\", \"amp\", \"amp\", \"anger\", \"anger\", \"answer\", \"answer\", \"anthony\", \"art\", \"ask\", \"ask\", \"asset\", \"attain\", \"attempt\", \"attention\", \"attention\", \"attitude\", \"attitude\", \"attitude\", \"attract\", \"attract\", \"attract\", \"attract\", \"attract\", \"babe\", \"bach\", \"bag\", \"bar\", \"bar\", \"bar\", \"base\", \"base\", \"battle\", \"beauty\", \"beauty\", \"benefit\", \"benefit\", \"benjamin\", \"benjamin\", \"bierce\", \"bind\", \"bite\", \"bite\", \"bittersweet\", \"body\", \"body\", \"body\", \"body\", \"body\", \"body\", \"bonaparte\", \"book\", \"book\", \"brault\", \"break\", \"break\", \"breath\", \"brian\", \"buddha\", \"buffett\", \"business\", \"business\", \"business\", \"business\", \"buy\", \"card\", \"care\", \"care\", \"care\", \"care\", \"care\", \"care\", \"carl\", \"carnegie\", \"case\", \"cash\", \"celebrate\", \"chain\", \"chain\", \"challenge\", \"challenge\", \"chance\", \"change\", \"change\", \"change\", \"change\", \"change\", \"character\", \"character\", \"character\", \"child\", \"childhood\", \"choice\", \"choice\", \"choose\", \"choose\", \"choose\", \"choose\", \"churchill\", \"climb\", \"coco\", \"communication\", \"complain\", \"complain\", \"conflict\", \"confuciu\", \"confuciu\", \"confucius\", \"conscience\", \"consent\", \"consequence\", \"consist\", \"content\", \"contentment\", \"control\", \"control\", \"conversation\", \"corner\", \"cornerstone\", \"courage\", \"course\", \"covey\", \"create\", \"create\", \"create\", \"create\", \"create\", \"create\", \"creation\", \"creativity\", \"dalai\", \"dance\", \"dance\", \"dance\", \"danger\", \"dare\", \"dare\", \"darkness\", \"david\", \"david\", \"david\", \"david\", \"david\", \"day\", \"day\", \"day\", \"day\", \"day\", \"day\", \"deal\", \"decide\", \"decision\", \"decision\", \"decision\", \"defeat\", \"define\", \"define\", \"define\", \"define\", \"define\", \"delineate\", \"denis\", \"deserve\", \"desire\", \"desire\", \"desire\", \"desire\", \"desire\", \"detach\", \"detach\", \"didion\", \"die\", \"difference\", \"difference\", \"difference\", \"difference\", \"difference\", \"difficulty\", \"difficulty\", \"dig\", \"direction\", \"direction\", \"direction\", \"disaster\", \"discourage\", \"discouragement\", \"discover\", \"dog\", \"dog\", \"door\", \"doubt\", \"doubt\", \"doubt\", \"dr\", \"dream\", \"dream\", \"dream\", \"dream\", \"dream\", \"dream\", \"drive\", \"drive\", \"drucker\", \"dyer\", \"dyer\", \"dyer\", \"dyer\", \"dyer\", \"dyer\", \"dyer\", \"dyer\", \"dyer\", \"earth\", \"earth\", \"ease\", \"edison\", \"edison\", \"effect\", \"effort\", \"effort\", \"effort\", \"ego\", \"einstein\", \"eleanor\", \"eliot\", \"elliot\", \"embrace\", \"emerson\", \"emotion\", \"emotion\", \"end\", \"end\", \"end\", \"end\", \"end\", \"endure\", \"endure\", \"enemy\", \"energy\", \"enjoy\", \"evidence\", \"exception\", \"existence\", \"experience\", \"experience\", \"experience\", \"experience\", \"experience\", \"expert\", \"eye\", \"eye\", \"eye\", \"face\", \"face\", \"fact\", \"fail\", \"fail\", \"fail\", \"failure\", \"failure\", \"failure\", \"failure\", \"failure\", \"faith\", \"fall\", \"fall\", \"fall\", \"fantasy\", \"fear\", \"fear\", \"fear\", \"fear\", \"fear\", \"feel\", \"feel\", \"feel\", \"feel\", \"feeling\", \"feeling\", \"fight\", \"fight\", \"find\", \"find\", \"finger\", \"fire\", \"focus\", \"fool\", \"foot\", \"foot\", \"force\", \"forget\", \"forgiveness\", \"form\", \"form\", \"fortune\", \"fortune\", \"fortune\", \"franklin\", \"frederick\", \"freedom\", \"freedom\", \"freedom\", \"frustration\", \"fulfillment\", \"fuller\", \"future\", \"future\", \"future\", \"future\", \"gain\", \"game\", \"game\", \"gandhi\", \"genius\", \"george\", \"george\", \"get\", \"get\", \"get\", \"gide\", \"gift\", \"gift\", \"gift\", \"gift\", \"gift\", \"gift\", \"gilbert\", \"gilbert\", \"glasgow\", \"goal\", \"goal\", \"goal\", \"goal\", \"goal\", \"god\", \"god\", \"goethe\", \"gogh\", \"greatness\", \"greatness\", \"ground\", \"grow\", \"grow\", \"habit\", \"habit\", \"habit\", \"habit\", \"hand\", \"hang\", \"happiness\", \"happiness\", \"happiness\", \"happiness\", \"harm\", \"harry\", \"hate\", \"hate\", \"head\", \"heal\", \"heart\", \"heart\", \"heart\", \"heart\", \"heart\", \"hell\", \"help\", \"help\", \"help\", \"hemingway\", \"hemingway\", \"henry\", \"henry\", \"hepburn\", \"hill\", \"hill\", \"history\", \"hoffer\", \"hoffer\", \"hoffer\", \"hold\", \"hold\", \"honor\", \"hope\", \"hope\", \"hubbard\", \"huie\", \"huie\", \"huie\", \"hurry\", \"idea\", \"idea\", \"idea\", \"ignorance\", \"imagination\", \"imagine\", \"imitation\", \"impact\", \"imperfection\", \"impossibility\", \"influence\", \"influence\", \"inspiration\", \"inspiration\", \"inspire\", \"intent\", \"intention\", \"intention\", \"jack\", \"jefferson\", \"jim\", \"job\", \"job\", \"job\", \"john\", \"jonathan\", \"journey\", \"joy\", \"jr\", \"judge\", \"judge\", \"judge\", \"judge\", \"judgment\", \"judgment\", \"judgment\", \"jump\", \"jung\", \"keller\", \"keller\", \"kennedy\", \"kill\", \"kind\", \"kind\", \"king\", \"king\", \"lady\", \"lama\", \"lao\", \"lao\", \"lead\", \"lead\", \"leader\", \"leader\", \"leader\", \"leader\", \"leader\", \"learn\", \"learn\", \"learn\", \"learn\", \"learn\", \"learn\", \"learn\", \"lengthen\", \"lengthen\", \"lesson\", \"lesson\", \"lesson\", \"let\", \"let\", \"let\", \"letter\", \"letter\", \"level\", \"level\", \"lewis\", \"lie\", \"lie\", \"life\", \"life\", \"life\", \"life\", \"life\", \"life\", \"life\", \"life\", \"life\", \"life\", \"light\", \"limit\", \"limit\", \"limit\", \"lincoln\", \"longfellow\", \"look\", \"look\", \"look\", \"look\", \"look\", \"look\", \"love\", \"love\", \"love\", \"love\", \"love\", \"love\", \"love\", \"love\", \"love\", \"mahatma\", \"make\", \"man\", \"man\", \"man\", \"man\", \"man\", \"mandela\", \"mark\", \"martin\", \"matter\", \"matter\", \"matter\", \"matter\", \"matter\", \"maxwell\", \"maya\", \"mean\", \"mean\", \"mean\", \"mediocrity\", \"mediocrity\", \"mediocrity\", \"mediocrity\", \"memory\", \"michael\", \"michael\", \"mind\", \"mind\", \"mind\", \"mind\", \"miracle\", \"mirror\", \"mirror\", \"mission\", \"mistake\", \"mistake\", \"mistake\", \"moment\", \"moment\", \"moment\", \"moment\", \"moment\", \"moment\", \"money\", \"money\", \"money\", \"money\", \"monroe\", \"mother\", \"mountain\", \"mouth\", \"move\", \"nader\", \"napoleon\", \"napoleon\", \"napoleon\", \"need\", \"need\", \"nietzsche\", \"night\", \"night\", \"norman\", \"obstacle\", \"obstacle\", \"obstacle\", \"opinion\", \"opinion\", \"opportunity\", \"opportunity\", \"opportunity\", \"opportunity\", \"opportunity\", \"opportunity\", \"optimism\", \"optimist\", \"order\", \"page\", \"pass\", \"pass\", \"pass\", \"passion\", \"passion\", \"passion\", \"passion\", \"passion\", \"path\", \"path\", \"patience\", \"patience\", \"peace\", \"peace\", \"peale\", \"peale\", \"percent\", \"perception\", \"perception\", \"perfection\", \"perseverance\", \"perseverance\", \"persistence\", \"person\", \"person\", \"person\", \"person\", \"person\", \"person\", \"person\", \"perspiration\", \"pessimist\", \"peter\", \"pickford\", \"picture\", \"place\", \"place\", \"place\", \"place\", \"player\", \"pocket\", \"point\", \"power\", \"power\", \"power\", \"power\", \"power\", \"power\", \"power\", \"ppl\", \"practice\", \"practice\", \"precede\", \"presence\", \"presence\", \"pressure\", \"prevent\", \"problem\", \"problem\", \"problem\", \"problem\", \"problem\", \"proverb\", \"pull\", \"push\", \"question\", \"question\", \"quit\", \"quote\", \"rabindranath\", \"race\", \"rain\", \"ralph\", \"rate\", \"reach\", \"read\", \"read\", \"realise\", \"reality\", \"reality\", \"reality\", \"reality\", \"reap\", \"reason\", \"reason\", \"reason\", \"reason\", \"reason\", \"refuse\", \"refuse\", \"relationship\", \"relationship\", \"relationship\", \"release\", \"release\", \"repeat\", \"respect\", \"respect\", \"respect\", \"respect\", \"result\", \"result\", \"result\", \"result\", \"rice\", \"richard\", \"rise\", \"rise\", \"rise\", \"risk\", \"risk\", \"road\", \"robert\", \"robert\", \"robert\", \"rohn\", \"role\", \"roosevelt\", \"roosevelt\", \"roosevelt\", \"root\", \"rule\", \"ruth\", \"sail\", \"sail\", \"scott\", \"sea\", \"search\", \"seed\", \"self\", \"self\", \"self\", \"seneca\", \"shadow\", \"shakespeare\", \"shine\", \"shoe\", \"shore\", \"show\", \"show\", \"shut\", \"silence\", \"silence\", \"silence\", \"smile\", \"smile\", \"smile\", \"solution\", \"solve\", \"sort\", \"soul\", \"soul\", \"soul\", \"space\", \"speak\", \"speech\", \"speed\", \"spell\", \"spell\", \"spirit\", \"spirit\", \"spirit\", \"spirit\", \"spirit\", \"stand\", \"start\", \"start\", \"start\", \"start\", \"start\", \"state\", \"step\", \"step\", \"step\", \"step\", \"step\", \"stephen\", \"stevenson\", \"stone\", \"stone\", \"stone\", \"stop\", \"stop\", \"stop\", \"stop\", \"storm\", \"storm\", \"strength\", \"strength\", \"strength\", \"strength\", \"strength\", \"stress\", \"strike\", \"study\", \"study\", \"stuff\", \"success\", \"success\", \"success\", \"success\", \"success\", \"success\", \"success\", \"suit\", \"suit\", \"sun\", \"tagore\", \"talk\", \"teach\", \"teach\", \"tension\", \"test\", \"test\", \"thing\", \"thing\", \"thing\", \"thing\", \"thing\", \"thing\", \"thing\", \"thing\", \"thing\", \"thing\", \"think\", \"think\", \"think\", \"think\", \"thinking\", \"thomas\", \"thomas\", \"thoreau\", \"thought\", \"till\", \"time\", \"time\", \"time\", \"time\", \"time\", \"time\", \"time\", \"time\", \"time\", \"today\", \"today\", \"today\", \"today\", \"today\", \"tomorrow\", \"tongue\", \"train\", \"treat\", \"triviality\", \"trouble\", \"truman\", \"trust\", \"trust\", \"truth\", \"truth\", \"try\", \"twain\", \"tzu\", \"tzu\", \"u\", \"u\", \"u\", \"understand\", \"universe\", \"use\", \"use\", \"use\", \"use\", \"use\", \"use\", \"use\", \"version\", \"victor\", \"victory\", \"vincent\", \"vision\", \"vision\", \"vision\", \"vision\", \"voltaire\", \"voltaire\", \"wadsworth\", \"wait\", \"wait\", \"wait\", \"wait\", \"waitley\", \"waldo\", \"want\", \"want\", \"want\", \"waste\", \"waste\", \"waste\", \"water\", \"way\", \"way\", \"way\", \"way\", \"way\", \"way\", \"way\", \"way\", \"weakness\", \"weather\", \"william\", \"willingness\", \"willingness\", \"willingness\", \"win\", \"win\", \"wind\", \"windshield\", \"winfrey\", \"winner\", \"winston\", \"wisdom\", \"wise\", \"woman\", \"word\", \"word\", \"work\", \"work\", \"work\", \"work\", \"work\", \"work\", \"work\", \"work\", \"work\", \"work\", \"world\", \"world\", \"world\", \"world\", \"world\", \"world\", \"world\", \"world\", \"world\", \"worry\", \"worry\", \"year\", \"year\", \"year\", \"year\", \"yogi\", \"zen\"]}, \"R\": 30, \"lambda.step\": 0.01, \"plot.opts\": {\"xlab\": \"PC1\", \"ylab\": \"PC2\"}, \"topic.order\": [7, 8, 1, 2, 5, 9, 4, 10, 6, 3]};\n",
              "\n",
              "function LDAvis_load_lib(url, callback){\n",
              "  var s = document.createElement('script');\n",
              "  s.src = url;\n",
              "  s.async = true;\n",
              "  s.onreadystatechange = s.onload = callback;\n",
              "  s.onerror = function(){console.warn(\"failed to load library \" + url);};\n",
              "  document.getElementsByTagName(\"head\")[0].appendChild(s);\n",
              "}\n",
              "\n",
              "if(typeof(LDAvis) !== \"undefined\"){\n",
              "   // already loaded: just create the visualization\n",
              "   !function(LDAvis){\n",
              "       new LDAvis(\"#\" + \"ldavis_el1111398100101178484195993473\", ldavis_el1111398100101178484195993473_data);\n",
              "   }(LDAvis);\n",
              "}else if(typeof define === \"function\" && define.amd){\n",
              "   // require.js is available: use it to load d3/LDAvis\n",
              "   require.config({paths: {d3: \"https://cdnjs.cloudflare.com/ajax/libs/d3/3.5.5/d3.min\"}});\n",
              "   require([\"d3\"], function(d3){\n",
              "      window.d3 = d3;\n",
              "      LDAvis_load_lib(\"https://cdn.rawgit.com/bmabey/pyLDAvis/files/ldavis.v1.0.0.js\", function(){\n",
              "        new LDAvis(\"#\" + \"ldavis_el1111398100101178484195993473\", ldavis_el1111398100101178484195993473_data);\n",
              "      });\n",
              "    });\n",
              "}else{\n",
              "    // require.js not available: dynamically load d3 & LDAvis\n",
              "    LDAvis_load_lib(\"https://cdnjs.cloudflare.com/ajax/libs/d3/3.5.5/d3.min.js\", function(){\n",
              "         LDAvis_load_lib(\"https://cdn.rawgit.com/bmabey/pyLDAvis/files/ldavis.v1.0.0.js\", function(){\n",
              "                 new LDAvis(\"#\" + \"ldavis_el1111398100101178484195993473\", ldavis_el1111398100101178484195993473_data);\n",
              "            })\n",
              "         });\n",
              "}\n",
              "</script>"
            ],
            "text/plain": [
              "PreparedData(topic_coordinates=              x         y  topics  cluster       Freq\n",
              "topic                                                \n",
              "6      0.011143 -0.286373       1        1  11.740940\n",
              "7      0.122798 -0.061085       2        1  10.718524\n",
              "0      0.082069  0.004811       3        1  10.598159\n",
              "1     -0.163844 -0.018364       4        1  10.519777\n",
              "4     -0.228191  0.185278       5        1  10.029671\n",
              "8     -0.045101 -0.239210       6        1   9.990481\n",
              "3      0.231787  0.143304       7        1   9.834331\n",
              "9      0.004778 -0.039155       8        1   9.626018\n",
              "5     -0.256581  0.139026       9        1   9.080675\n",
              "2      0.241143  0.171770      10        1   7.861425, topic_info=         Term           Freq          Total Category  logprob  loglift\n",
              "1336     dyer  100243.000000  100243.000000  Default  30.0000  30.0000\n",
              "60      thing   43214.000000   43214.000000  Default  29.0000  29.0000\n",
              "65       life   65273.000000   65273.000000  Default  28.0000  28.0000\n",
              "95        way   30048.000000   30048.000000  Default  27.0000  27.0000\n",
              "82        day   23020.000000   23020.000000  Default  26.0000  26.0000\n",
              "...       ...            ...            ...      ...      ...      ...\n",
              "866     teach    1770.820428    1869.781898  Topic10  -4.6794   2.4888\n",
              "150   ability    3708.972930    5579.613983  Topic10  -3.9400   2.1348\n",
              "511      idea    2425.150056    3320.473777  Topic10  -4.3649   2.2290\n",
              "91    success    3271.366432   14602.708311  Topic10  -4.0656   1.0472\n",
              "139     doubt    1666.557999    2300.337657  Topic10  -4.7400   2.2209\n",
              "\n",
              "[530 rows x 6 columns], token_table=      Topic      Freq     Term\n",
              "term                          \n",
              "150       3  0.000358  ability\n",
              "150       5  0.028497  ability\n",
              "150       7  0.283532  ability\n",
              "150       8  0.022761  ability\n",
              "150      10  0.664741  ability\n",
              "...     ...       ...      ...\n",
              "38        3  0.087002     year\n",
              "38        7  0.003120     year\n",
              "38        9  0.000347     year\n",
              "3167      7  0.999644     yogi\n",
              "3174      7  0.999095      zen\n",
              "\n",
              "[978 rows x 3 columns], R=30, lambda_step=0.01, plot_opts={'xlab': 'PC1', 'ylab': 'PC2'}, topic_order=[7, 8, 1, 2, 5, 9, 4, 10, 6, 3])"
            ]
          },
          "metadata": {
            "tags": []
          },
          "execution_count": 13
        }
      ]
    },
    {
      "cell_type": "code",
      "metadata": {
        "id": "70Msw50ipaxD"
      },
      "source": [
        "# supporting function\n",
        "def compute_coherence_values(corpus, dictionary, k, a, b):\n",
        "    \n",
        "    lda_model = gensim.models.LdaMulticore(corpus=corpus,\n",
        "                                           id2word=dictionary,\n",
        "                                           num_topics=k, \n",
        "                                           alpha=a,\n",
        "                                           eta=b,\n",
        "                                           random_state=222)\n",
        "    \n",
        "    coherence_model_lda = CoherenceModel(model=lda_model, texts=texts, dictionary=id2word, coherence='c_v')\n",
        "    \n",
        "    return coherence_model_lda.get_coherence()"
      ],
      "execution_count": 14,
      "outputs": []
    },
    {
      "cell_type": "code",
      "metadata": {
        "id": "CHqifw2LoPta",
        "colab": {
          "base_uri": "https://localhost:8080/"
        },
        "outputId": "75a30672-b18f-445d-d850-da003dce20bf"
      },
      "source": [
        "# start preprocess runtime\n",
        "start_time = time.time() \n",
        "\n",
        "# Topics range\n",
        "min_topics = 11\n",
        "max_topics = 18\n",
        "step_size = 1\n",
        "topics_range = range(min_topics, max_topics, step_size)\n",
        "# Alpha parameter\n",
        "alpha = [.01,.1,.5,1,'symmetric','asymmetric']\n",
        "# Beta parameter\n",
        "beta = [.01,.1,.5,1,'symmetric']\n",
        "\n",
        "# model results dict\n",
        "model_results = {'Topics': [],\n",
        "                 'Alpha': [],\n",
        "                 'Beta': [],\n",
        "                 'Coherence': []\n",
        "                }\n",
        "# Can take a long time to run\n",
        "if 1 == 1:\n",
        "    pbar = tqdm.tqdm(total=210)\n",
        "\n",
        "    # iterate through number of topics\n",
        "    for k in topics_range:\n",
        "        # iterate through alpha values\n",
        "        for a in alpha:\n",
        "            # iterare through beta values\n",
        "            for b in beta:\n",
        "                # get the coherence score for the given parameters\n",
        "                cv = compute_coherence_values(corpus=corpus, dictionary=id2word, \n",
        "                                              k=k, a=a, b=b)\n",
        "                # Save the model results\n",
        "                model_results['Topics'].append(k)\n",
        "                model_results['Alpha'].append(a)\n",
        "                model_results['Beta'].append(b)\n",
        "                model_results['Coherence'].append(cv)\n",
        "                \n",
        "                pbar.update(1)\n",
        "    lda_tuning_results = pd.DataFrame(model_results)                \n",
        "    lda_tuning_results.to_csv('/content/drive/MyDrive/Data/NLP_Capstone/lda_tuning_nouns_11-18_topics.csv', index=False)\n",
        "    pbar.close()\n",
        "\n",
        "# print preprocess runtime\n",
        "print(time.strftime(f'%H hours, %M minutes, %S seconds', time.gmtime(time.time() - start_time)))"
      ],
      "execution_count": 15,
      "outputs": [
        {
          "output_type": "stream",
          "text": [
            "100%|██████████| 210/210 [4:08:32<00:00, 71.01s/it]"
          ],
          "name": "stderr"
        },
        {
          "output_type": "stream",
          "text": [
            "04 hours, 08 minutes, 32 seconds\n"
          ],
          "name": "stdout"
        },
        {
          "output_type": "stream",
          "text": [
            "\n"
          ],
          "name": "stderr"
        }
      ]
    },
    {
      "cell_type": "code",
      "metadata": {
        "id": "WIrLrAIDLN4K",
        "colab": {
          "base_uri": "https://localhost:8080/",
          "height": 979
        },
        "outputId": "002262de-f28e-469f-9315-e7f36b239ac3"
      },
      "source": [
        "lda_tuning_results.sort_values('Coherence',ascending=False).head(30)"
      ],
      "execution_count": 16,
      "outputs": [
        {
          "output_type": "execute_result",
          "data": {
            "text/html": [
              "<div>\n",
              "<style scoped>\n",
              "    .dataframe tbody tr th:only-of-type {\n",
              "        vertical-align: middle;\n",
              "    }\n",
              "\n",
              "    .dataframe tbody tr th {\n",
              "        vertical-align: top;\n",
              "    }\n",
              "\n",
              "    .dataframe thead th {\n",
              "        text-align: right;\n",
              "    }\n",
              "</style>\n",
              "<table border=\"1\" class=\"dataframe\">\n",
              "  <thead>\n",
              "    <tr style=\"text-align: right;\">\n",
              "      <th></th>\n",
              "      <th>Topics</th>\n",
              "      <th>Alpha</th>\n",
              "      <th>Beta</th>\n",
              "      <th>Coherence</th>\n",
              "    </tr>\n",
              "  </thead>\n",
              "  <tbody>\n",
              "    <tr>\n",
              "      <th>205</th>\n",
              "      <td>17</td>\n",
              "      <td>asymmetric</td>\n",
              "      <td>0.01</td>\n",
              "      <td>0.671243</td>\n",
              "    </tr>\n",
              "    <tr>\n",
              "      <th>209</th>\n",
              "      <td>17</td>\n",
              "      <td>asymmetric</td>\n",
              "      <td>symmetric</td>\n",
              "      <td>0.663430</td>\n",
              "    </tr>\n",
              "    <tr>\n",
              "      <th>206</th>\n",
              "      <td>17</td>\n",
              "      <td>asymmetric</td>\n",
              "      <td>0.1</td>\n",
              "      <td>0.663355</td>\n",
              "    </tr>\n",
              "    <tr>\n",
              "      <th>185</th>\n",
              "      <td>17</td>\n",
              "      <td>0.1</td>\n",
              "      <td>0.01</td>\n",
              "      <td>0.660780</td>\n",
              "    </tr>\n",
              "    <tr>\n",
              "      <th>125</th>\n",
              "      <td>15</td>\n",
              "      <td>0.1</td>\n",
              "      <td>0.01</td>\n",
              "      <td>0.659381</td>\n",
              "    </tr>\n",
              "    <tr>\n",
              "      <th>119</th>\n",
              "      <td>14</td>\n",
              "      <td>asymmetric</td>\n",
              "      <td>symmetric</td>\n",
              "      <td>0.658538</td>\n",
              "    </tr>\n",
              "    <tr>\n",
              "      <th>145</th>\n",
              "      <td>15</td>\n",
              "      <td>asymmetric</td>\n",
              "      <td>0.01</td>\n",
              "      <td>0.656685</td>\n",
              "    </tr>\n",
              "    <tr>\n",
              "      <th>189</th>\n",
              "      <td>17</td>\n",
              "      <td>0.1</td>\n",
              "      <td>symmetric</td>\n",
              "      <td>0.655817</td>\n",
              "    </tr>\n",
              "    <tr>\n",
              "      <th>146</th>\n",
              "      <td>15</td>\n",
              "      <td>asymmetric</td>\n",
              "      <td>0.1</td>\n",
              "      <td>0.654794</td>\n",
              "    </tr>\n",
              "    <tr>\n",
              "      <th>149</th>\n",
              "      <td>15</td>\n",
              "      <td>asymmetric</td>\n",
              "      <td>symmetric</td>\n",
              "      <td>0.654689</td>\n",
              "    </tr>\n",
              "    <tr>\n",
              "      <th>140</th>\n",
              "      <td>15</td>\n",
              "      <td>symmetric</td>\n",
              "      <td>0.01</td>\n",
              "      <td>0.654267</td>\n",
              "    </tr>\n",
              "    <tr>\n",
              "      <th>141</th>\n",
              "      <td>15</td>\n",
              "      <td>symmetric</td>\n",
              "      <td>0.1</td>\n",
              "      <td>0.654050</td>\n",
              "    </tr>\n",
              "    <tr>\n",
              "      <th>69</th>\n",
              "      <td>13</td>\n",
              "      <td>0.1</td>\n",
              "      <td>symmetric</td>\n",
              "      <td>0.651681</td>\n",
              "    </tr>\n",
              "    <tr>\n",
              "      <th>126</th>\n",
              "      <td>15</td>\n",
              "      <td>0.1</td>\n",
              "      <td>0.1</td>\n",
              "      <td>0.651358</td>\n",
              "    </tr>\n",
              "    <tr>\n",
              "      <th>129</th>\n",
              "      <td>15</td>\n",
              "      <td>0.1</td>\n",
              "      <td>symmetric</td>\n",
              "      <td>0.650278</td>\n",
              "    </tr>\n",
              "    <tr>\n",
              "      <th>204</th>\n",
              "      <td>17</td>\n",
              "      <td>symmetric</td>\n",
              "      <td>symmetric</td>\n",
              "      <td>0.649591</td>\n",
              "    </tr>\n",
              "    <tr>\n",
              "      <th>186</th>\n",
              "      <td>17</td>\n",
              "      <td>0.1</td>\n",
              "      <td>0.1</td>\n",
              "      <td>0.649147</td>\n",
              "    </tr>\n",
              "    <tr>\n",
              "      <th>115</th>\n",
              "      <td>14</td>\n",
              "      <td>asymmetric</td>\n",
              "      <td>0.01</td>\n",
              "      <td>0.648974</td>\n",
              "    </tr>\n",
              "    <tr>\n",
              "      <th>200</th>\n",
              "      <td>17</td>\n",
              "      <td>symmetric</td>\n",
              "      <td>0.01</td>\n",
              "      <td>0.647481</td>\n",
              "    </tr>\n",
              "    <tr>\n",
              "      <th>89</th>\n",
              "      <td>13</td>\n",
              "      <td>asymmetric</td>\n",
              "      <td>symmetric</td>\n",
              "      <td>0.646366</td>\n",
              "    </tr>\n",
              "    <tr>\n",
              "      <th>116</th>\n",
              "      <td>14</td>\n",
              "      <td>asymmetric</td>\n",
              "      <td>0.1</td>\n",
              "      <td>0.645706</td>\n",
              "    </tr>\n",
              "    <tr>\n",
              "      <th>120</th>\n",
              "      <td>15</td>\n",
              "      <td>0.01</td>\n",
              "      <td>0.01</td>\n",
              "      <td>0.645671</td>\n",
              "    </tr>\n",
              "    <tr>\n",
              "      <th>170</th>\n",
              "      <td>16</td>\n",
              "      <td>symmetric</td>\n",
              "      <td>0.01</td>\n",
              "      <td>0.644285</td>\n",
              "    </tr>\n",
              "    <tr>\n",
              "      <th>155</th>\n",
              "      <td>16</td>\n",
              "      <td>0.1</td>\n",
              "      <td>0.01</td>\n",
              "      <td>0.644152</td>\n",
              "    </tr>\n",
              "    <tr>\n",
              "      <th>86</th>\n",
              "      <td>13</td>\n",
              "      <td>asymmetric</td>\n",
              "      <td>0.1</td>\n",
              "      <td>0.644106</td>\n",
              "    </tr>\n",
              "    <tr>\n",
              "      <th>174</th>\n",
              "      <td>16</td>\n",
              "      <td>symmetric</td>\n",
              "      <td>symmetric</td>\n",
              "      <td>0.644060</td>\n",
              "    </tr>\n",
              "    <tr>\n",
              "      <th>144</th>\n",
              "      <td>15</td>\n",
              "      <td>symmetric</td>\n",
              "      <td>symmetric</td>\n",
              "      <td>0.642903</td>\n",
              "    </tr>\n",
              "    <tr>\n",
              "      <th>159</th>\n",
              "      <td>16</td>\n",
              "      <td>0.1</td>\n",
              "      <td>symmetric</td>\n",
              "      <td>0.642040</td>\n",
              "    </tr>\n",
              "    <tr>\n",
              "      <th>201</th>\n",
              "      <td>17</td>\n",
              "      <td>symmetric</td>\n",
              "      <td>0.1</td>\n",
              "      <td>0.641575</td>\n",
              "    </tr>\n",
              "    <tr>\n",
              "      <th>95</th>\n",
              "      <td>14</td>\n",
              "      <td>0.1</td>\n",
              "      <td>0.01</td>\n",
              "      <td>0.640238</td>\n",
              "    </tr>\n",
              "  </tbody>\n",
              "</table>\n",
              "</div>"
            ],
            "text/plain": [
              "     Topics       Alpha       Beta  Coherence\n",
              "205      17  asymmetric       0.01   0.671243\n",
              "209      17  asymmetric  symmetric   0.663430\n",
              "206      17  asymmetric        0.1   0.663355\n",
              "185      17         0.1       0.01   0.660780\n",
              "125      15         0.1       0.01   0.659381\n",
              "119      14  asymmetric  symmetric   0.658538\n",
              "145      15  asymmetric       0.01   0.656685\n",
              "189      17         0.1  symmetric   0.655817\n",
              "146      15  asymmetric        0.1   0.654794\n",
              "149      15  asymmetric  symmetric   0.654689\n",
              "140      15   symmetric       0.01   0.654267\n",
              "141      15   symmetric        0.1   0.654050\n",
              "69       13         0.1  symmetric   0.651681\n",
              "126      15         0.1        0.1   0.651358\n",
              "129      15         0.1  symmetric   0.650278\n",
              "204      17   symmetric  symmetric   0.649591\n",
              "186      17         0.1        0.1   0.649147\n",
              "115      14  asymmetric       0.01   0.648974\n",
              "200      17   symmetric       0.01   0.647481\n",
              "89       13  asymmetric  symmetric   0.646366\n",
              "116      14  asymmetric        0.1   0.645706\n",
              "120      15        0.01       0.01   0.645671\n",
              "170      16   symmetric       0.01   0.644285\n",
              "155      16         0.1       0.01   0.644152\n",
              "86       13  asymmetric        0.1   0.644106\n",
              "174      16   symmetric  symmetric   0.644060\n",
              "144      15   symmetric  symmetric   0.642903\n",
              "159      16         0.1  symmetric   0.642040\n",
              "201      17   symmetric        0.1   0.641575\n",
              "95       14         0.1       0.01   0.640238"
            ]
          },
          "metadata": {
            "tags": []
          },
          "execution_count": 16
        }
      ]
    }
  ]
}