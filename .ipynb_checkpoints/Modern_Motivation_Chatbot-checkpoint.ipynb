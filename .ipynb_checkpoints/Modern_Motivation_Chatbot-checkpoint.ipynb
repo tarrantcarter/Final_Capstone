{
 "cells": [
  {
   "cell_type": "code",
   "execution_count": 1,
   "metadata": {},
   "outputs": [
    {
     "data": {
      "application/javascript": [
       "\n",
       "            setTimeout(function() {\n",
       "                var nbb_cell_id = 1;\n",
       "                var nbb_unformatted_code = \"%load_ext nb_black\";\n",
       "                var nbb_formatted_code = \"%load_ext nb_black\";\n",
       "                var nbb_cells = Jupyter.notebook.get_cells();\n",
       "                for (var i = 0; i < nbb_cells.length; ++i) {\n",
       "                    if (nbb_cells[i].input_prompt_number == nbb_cell_id) {\n",
       "                        if (nbb_cells[i].get_text() == nbb_unformatted_code) {\n",
       "                             nbb_cells[i].set_text(nbb_formatted_code);\n",
       "                        }\n",
       "                        break;\n",
       "                    }\n",
       "                }\n",
       "            }, 500);\n",
       "            "
      ],
      "text/plain": [
       "<IPython.core.display.Javascript object>"
      ]
     },
     "metadata": {},
     "output_type": "display_data"
    }
   ],
   "source": [
    "%load_ext nb_black"
   ]
  },
  {
   "cell_type": "code",
   "execution_count": 2,
   "metadata": {},
   "outputs": [
    {
     "data": {
      "application/javascript": [
       "\n",
       "            setTimeout(function() {\n",
       "                var nbb_cell_id = 2;\n",
       "                var nbb_unformatted_code = \"import pandas as pd\\nimport numpy as np\\nimport time\\nimport string\\nimport re\";\n",
       "                var nbb_formatted_code = \"import pandas as pd\\nimport numpy as np\\nimport time\\nimport string\\nimport re\";\n",
       "                var nbb_cells = Jupyter.notebook.get_cells();\n",
       "                for (var i = 0; i < nbb_cells.length; ++i) {\n",
       "                    if (nbb_cells[i].input_prompt_number == nbb_cell_id) {\n",
       "                        if (nbb_cells[i].get_text() == nbb_unformatted_code) {\n",
       "                             nbb_cells[i].set_text(nbb_formatted_code);\n",
       "                        }\n",
       "                        break;\n",
       "                    }\n",
       "                }\n",
       "            }, 500);\n",
       "            "
      ],
      "text/plain": [
       "<IPython.core.display.Javascript object>"
      ]
     },
     "metadata": {},
     "output_type": "display_data"
    }
   ],
   "source": [
    "import pandas as pd\n",
    "import numpy as np\n",
    "import time\n",
    "import re"
   ]
  },
  {
   "cell_type": "code",
   "execution_count": 3,
   "metadata": {},
   "outputs": [
    {
     "name": "stderr",
     "output_type": "stream",
     "text": [
      "/opt/anaconda3/lib/python3.7/site-packages/IPython/core/interactiveshell.py:3063: DtypeWarning: Columns (4,10,11,12,17,19,20) have mixed types.Specify dtype option on import or set low_memory=False.\n",
      "  interactivity=interactivity, compiler=compiler, result=result)\n"
     ]
    },
    {
     "data": {
      "application/javascript": [
       "\n",
       "            setTimeout(function() {\n",
       "                var nbb_cell_id = 3;\n",
       "                var nbb_unformatted_code = \"# load in scraped tweets from https://github.com/tarrantcarter/Final_Capstone/blob/main/Modern_Motivation_Web_Scrape.ipynb\\ntweets = pd.read_csv(\\n    r\\\"/Users/tarrantcarter/Dropbox/Data Science/Final_Capstone/motivational_tweets.csv\\\"\\n)\";\n",
       "                var nbb_formatted_code = \"# load in scraped tweets from https://github.com/tarrantcarter/Final_Capstone/blob/main/Modern_Motivation_Web_Scrape.ipynb\\ntweets = pd.read_csv(\\n    r\\\"/Users/tarrantcarter/Dropbox/Data Science/Final_Capstone/motivational_tweets.csv\\\"\\n)\";\n",
       "                var nbb_cells = Jupyter.notebook.get_cells();\n",
       "                for (var i = 0; i < nbb_cells.length; ++i) {\n",
       "                    if (nbb_cells[i].input_prompt_number == nbb_cell_id) {\n",
       "                        if (nbb_cells[i].get_text() == nbb_unformatted_code) {\n",
       "                             nbb_cells[i].set_text(nbb_formatted_code);\n",
       "                        }\n",
       "                        break;\n",
       "                    }\n",
       "                }\n",
       "            }, 500);\n",
       "            "
      ],
      "text/plain": [
       "<IPython.core.display.Javascript object>"
      ]
     },
     "metadata": {},
     "output_type": "display_data"
    }
   ],
   "source": [
    "# load in scraped tweets from https://github.com/tarrantcarter/Final_Capstone/blob/main/Modern_Motivation_Web_Scrape.ipynb\n",
    "tweets = pd.read_csv(\n",
    "    r\"/Users/tarrantcarter/Dropbox/Data Science/Final_Capstone/motivational_tweets.csv\"\n",
    ")"
   ]
  },
  {
   "cell_type": "code",
   "execution_count": 4,
   "metadata": {},
   "outputs": [
    {
     "data": {
      "text/html": [
       "<div>\n",
       "<style scoped>\n",
       "    .dataframe tbody tr th:only-of-type {\n",
       "        vertical-align: middle;\n",
       "    }\n",
       "\n",
       "    .dataframe tbody tr th {\n",
       "        vertical-align: top;\n",
       "    }\n",
       "\n",
       "    .dataframe thead th {\n",
       "        text-align: right;\n",
       "    }\n",
       "</style>\n",
       "<table border=\"1\" class=\"dataframe\">\n",
       "  <thead>\n",
       "    <tr style=\"text-align: right;\">\n",
       "      <th></th>\n",
       "      <th>url</th>\n",
       "      <th>date</th>\n",
       "      <th>content</th>\n",
       "      <th>renderedContent</th>\n",
       "      <th>id</th>\n",
       "      <th>user</th>\n",
       "      <th>outlinks</th>\n",
       "      <th>tcooutlinks</th>\n",
       "      <th>replyCount</th>\n",
       "      <th>retweetCount</th>\n",
       "      <th>...</th>\n",
       "      <th>quoteCount</th>\n",
       "      <th>conversationId</th>\n",
       "      <th>lang</th>\n",
       "      <th>source</th>\n",
       "      <th>sourceUrl</th>\n",
       "      <th>sourceLabel</th>\n",
       "      <th>media</th>\n",
       "      <th>retweetedTweet</th>\n",
       "      <th>quotedTweet</th>\n",
       "      <th>mentionedUsers</th>\n",
       "    </tr>\n",
       "  </thead>\n",
       "  <tbody>\n",
       "    <tr>\n",
       "      <th>0</th>\n",
       "      <td>https://twitter.com/LewisHowes/status/13509295...</td>\n",
       "      <td>2021-01-17 22:14:40+00:00</td>\n",
       "      <td>@businessbarista The School of Greatness has h...</td>\n",
       "      <td>@businessbarista The School of Greatness has h...</td>\n",
       "      <td>1350929560020410372</td>\n",
       "      <td>{'username': 'LewisHowes', 'displayname': 'Lew...</td>\n",
       "      <td>[]</td>\n",
       "      <td>[]</td>\n",
       "      <td>1.0</td>\n",
       "      <td>0.0</td>\n",
       "      <td>...</td>\n",
       "      <td>0</td>\n",
       "      <td>1350896644489940992</td>\n",
       "      <td>en</td>\n",
       "      <td>&lt;a href=\"http://twitter.com/download/iphone\" r...</td>\n",
       "      <td>http://twitter.com/download/iphone</td>\n",
       "      <td>Twitter for iPhone</td>\n",
       "      <td>NaN</td>\n",
       "      <td>NaN</td>\n",
       "      <td>NaN</td>\n",
       "      <td>[{'username': 'businessbarista', 'displayname'...</td>\n",
       "    </tr>\n",
       "    <tr>\n",
       "      <th>1</th>\n",
       "      <td>https://twitter.com/LewisHowes/status/13509292...</td>\n",
       "      <td>2021-01-17 22:13:17+00:00</td>\n",
       "      <td>Know this. Everything is happening for a reaso...</td>\n",
       "      <td>Know this. Everything is happening for a reaso...</td>\n",
       "      <td>1350929208520929282</td>\n",
       "      <td>{'username': 'LewisHowes', 'displayname': 'Lew...</td>\n",
       "      <td>[]</td>\n",
       "      <td>[]</td>\n",
       "      <td>4.0</td>\n",
       "      <td>11.0</td>\n",
       "      <td>...</td>\n",
       "      <td>1</td>\n",
       "      <td>1350929208520929282</td>\n",
       "      <td>en</td>\n",
       "      <td>&lt;a href=\"http://twitter.com/download/iphone\" r...</td>\n",
       "      <td>http://twitter.com/download/iphone</td>\n",
       "      <td>Twitter for iPhone</td>\n",
       "      <td>NaN</td>\n",
       "      <td>NaN</td>\n",
       "      <td>NaN</td>\n",
       "      <td>NaN</td>\n",
       "    </tr>\n",
       "    <tr>\n",
       "      <th>2</th>\n",
       "      <td>https://twitter.com/LewisHowes/status/13506630...</td>\n",
       "      <td>2021-01-17 04:35:28+00:00</td>\n",
       "      <td>@emilsterndorff @awilkinson @supercast @thecap...</td>\n",
       "      <td>@emilsterndorff @awilkinson @supercast @thecap...</td>\n",
       "      <td>1350663002639400960</td>\n",
       "      <td>{'username': 'LewisHowes', 'displayname': 'Lew...</td>\n",
       "      <td>[]</td>\n",
       "      <td>[]</td>\n",
       "      <td>0.0</td>\n",
       "      <td>0.0</td>\n",
       "      <td>...</td>\n",
       "      <td>0</td>\n",
       "      <td>1350132120094556160</td>\n",
       "      <td>en</td>\n",
       "      <td>&lt;a href=\"http://twitter.com/download/iphone\" r...</td>\n",
       "      <td>http://twitter.com/download/iphone</td>\n",
       "      <td>Twitter for iPhone</td>\n",
       "      <td>NaN</td>\n",
       "      <td>NaN</td>\n",
       "      <td>NaN</td>\n",
       "      <td>[{'username': 'emilsterndorff', 'displayname':...</td>\n",
       "    </tr>\n",
       "    <tr>\n",
       "      <th>3</th>\n",
       "      <td>https://twitter.com/LewisHowes/status/13503847...</td>\n",
       "      <td>2021-01-16 10:09:58+00:00</td>\n",
       "      <td>@theclaudmon Thank you!</td>\n",
       "      <td>@theclaudmon Thank you!</td>\n",
       "      <td>1350384793637314561</td>\n",
       "      <td>{'username': 'LewisHowes', 'displayname': 'Lew...</td>\n",
       "      <td>[]</td>\n",
       "      <td>[]</td>\n",
       "      <td>1.0</td>\n",
       "      <td>0.0</td>\n",
       "      <td>...</td>\n",
       "      <td>0</td>\n",
       "      <td>1350062690539102209</td>\n",
       "      <td>en</td>\n",
       "      <td>&lt;a href=\"http://www.zendesk.com\" rel=\"nofollow...</td>\n",
       "      <td>http://www.zendesk.com</td>\n",
       "      <td>Zendesk</td>\n",
       "      <td>NaN</td>\n",
       "      <td>NaN</td>\n",
       "      <td>NaN</td>\n",
       "      <td>[{'username': 'theclaudmon', 'displayname': 'C...</td>\n",
       "    </tr>\n",
       "    <tr>\n",
       "      <th>4</th>\n",
       "      <td>https://twitter.com/LewisHowes/status/13503805...</td>\n",
       "      <td>2021-01-16 09:53:06+00:00</td>\n",
       "      <td>@MonsieurHolly Thank you!</td>\n",
       "      <td>@MonsieurHolly Thank you!</td>\n",
       "      <td>1350380547806289921</td>\n",
       "      <td>{'username': 'LewisHowes', 'displayname': 'Lew...</td>\n",
       "      <td>[]</td>\n",
       "      <td>[]</td>\n",
       "      <td>0.0</td>\n",
       "      <td>0.0</td>\n",
       "      <td>...</td>\n",
       "      <td>0</td>\n",
       "      <td>1349879719446110209</td>\n",
       "      <td>en</td>\n",
       "      <td>&lt;a href=\"http://www.zendesk.com\" rel=\"nofollow...</td>\n",
       "      <td>http://www.zendesk.com</td>\n",
       "      <td>Zendesk</td>\n",
       "      <td>NaN</td>\n",
       "      <td>NaN</td>\n",
       "      <td>NaN</td>\n",
       "      <td>[{'username': 'MonsieurHolly', 'displayname': ...</td>\n",
       "    </tr>\n",
       "  </tbody>\n",
       "</table>\n",
       "<p>5 rows × 21 columns</p>\n",
       "</div>"
      ],
      "text/plain": [
       "                                                 url  \\\n",
       "0  https://twitter.com/LewisHowes/status/13509295...   \n",
       "1  https://twitter.com/LewisHowes/status/13509292...   \n",
       "2  https://twitter.com/LewisHowes/status/13506630...   \n",
       "3  https://twitter.com/LewisHowes/status/13503847...   \n",
       "4  https://twitter.com/LewisHowes/status/13503805...   \n",
       "\n",
       "                        date  \\\n",
       "0  2021-01-17 22:14:40+00:00   \n",
       "1  2021-01-17 22:13:17+00:00   \n",
       "2  2021-01-17 04:35:28+00:00   \n",
       "3  2021-01-16 10:09:58+00:00   \n",
       "4  2021-01-16 09:53:06+00:00   \n",
       "\n",
       "                                             content  \\\n",
       "0  @businessbarista The School of Greatness has h...   \n",
       "1  Know this. Everything is happening for a reaso...   \n",
       "2  @emilsterndorff @awilkinson @supercast @thecap...   \n",
       "3                            @theclaudmon Thank you!   \n",
       "4                          @MonsieurHolly Thank you!   \n",
       "\n",
       "                                     renderedContent                   id  \\\n",
       "0  @businessbarista The School of Greatness has h...  1350929560020410372   \n",
       "1  Know this. Everything is happening for a reaso...  1350929208520929282   \n",
       "2  @emilsterndorff @awilkinson @supercast @thecap...  1350663002639400960   \n",
       "3                            @theclaudmon Thank you!  1350384793637314561   \n",
       "4                          @MonsieurHolly Thank you!  1350380547806289921   \n",
       "\n",
       "                                                user outlinks tcooutlinks  \\\n",
       "0  {'username': 'LewisHowes', 'displayname': 'Lew...       []          []   \n",
       "1  {'username': 'LewisHowes', 'displayname': 'Lew...       []          []   \n",
       "2  {'username': 'LewisHowes', 'displayname': 'Lew...       []          []   \n",
       "3  {'username': 'LewisHowes', 'displayname': 'Lew...       []          []   \n",
       "4  {'username': 'LewisHowes', 'displayname': 'Lew...       []          []   \n",
       "\n",
       "   replyCount  retweetCount  ... quoteCount       conversationId lang  \\\n",
       "0         1.0           0.0  ...          0  1350896644489940992   en   \n",
       "1         4.0          11.0  ...          1  1350929208520929282   en   \n",
       "2         0.0           0.0  ...          0  1350132120094556160   en   \n",
       "3         1.0           0.0  ...          0  1350062690539102209   en   \n",
       "4         0.0           0.0  ...          0  1349879719446110209   en   \n",
       "\n",
       "                                              source  \\\n",
       "0  <a href=\"http://twitter.com/download/iphone\" r...   \n",
       "1  <a href=\"http://twitter.com/download/iphone\" r...   \n",
       "2  <a href=\"http://twitter.com/download/iphone\" r...   \n",
       "3  <a href=\"http://www.zendesk.com\" rel=\"nofollow...   \n",
       "4  <a href=\"http://www.zendesk.com\" rel=\"nofollow...   \n",
       "\n",
       "                            sourceUrl         sourceLabel media  \\\n",
       "0  http://twitter.com/download/iphone  Twitter for iPhone   NaN   \n",
       "1  http://twitter.com/download/iphone  Twitter for iPhone   NaN   \n",
       "2  http://twitter.com/download/iphone  Twitter for iPhone   NaN   \n",
       "3              http://www.zendesk.com             Zendesk   NaN   \n",
       "4              http://www.zendesk.com             Zendesk   NaN   \n",
       "\n",
       "  retweetedTweet  quotedTweet  \\\n",
       "0            NaN          NaN   \n",
       "1            NaN          NaN   \n",
       "2            NaN          NaN   \n",
       "3            NaN          NaN   \n",
       "4            NaN          NaN   \n",
       "\n",
       "                                      mentionedUsers  \n",
       "0  [{'username': 'businessbarista', 'displayname'...  \n",
       "1                                                NaN  \n",
       "2  [{'username': 'emilsterndorff', 'displayname':...  \n",
       "3  [{'username': 'theclaudmon', 'displayname': 'C...  \n",
       "4  [{'username': 'MonsieurHolly', 'displayname': ...  \n",
       "\n",
       "[5 rows x 21 columns]"
      ]
     },
     "execution_count": 4,
     "metadata": {},
     "output_type": "execute_result"
    },
    {
     "data": {
      "application/javascript": [
       "\n",
       "            setTimeout(function() {\n",
       "                var nbb_cell_id = 4;\n",
       "                var nbb_unformatted_code = \"tweets.head()\";\n",
       "                var nbb_formatted_code = \"tweets.head()\";\n",
       "                var nbb_cells = Jupyter.notebook.get_cells();\n",
       "                for (var i = 0; i < nbb_cells.length; ++i) {\n",
       "                    if (nbb_cells[i].input_prompt_number == nbb_cell_id) {\n",
       "                        if (nbb_cells[i].get_text() == nbb_unformatted_code) {\n",
       "                             nbb_cells[i].set_text(nbb_formatted_code);\n",
       "                        }\n",
       "                        break;\n",
       "                    }\n",
       "                }\n",
       "            }, 500);\n",
       "            "
      ],
      "text/plain": [
       "<IPython.core.display.Javascript object>"
      ]
     },
     "metadata": {},
     "output_type": "display_data"
    }
   ],
   "source": [
    "tweets.head()"
   ]
  },
  {
   "cell_type": "code",
   "execution_count": 5,
   "metadata": {},
   "outputs": [
    {
     "name": "stdout",
     "output_type": "stream",
     "text": [
      "<class 'pandas.core.frame.DataFrame'>\n",
      "RangeIndex: 977162 entries, 0 to 977161\n",
      "Data columns (total 21 columns):\n",
      " #   Column           Non-Null Count   Dtype  \n",
      "---  ------           --------------   -----  \n",
      " 0   url              977162 non-null  object \n",
      " 1   date             977162 non-null  object \n",
      " 2   content          977155 non-null  object \n",
      " 3   renderedContent  977148 non-null  object \n",
      " 4   id               977148 non-null  object \n",
      " 5   user             977148 non-null  object \n",
      " 6   outlinks         977148 non-null  object \n",
      " 7   tcooutlinks      977148 non-null  object \n",
      " 8   replyCount       977148 non-null  float64\n",
      " 9   retweetCount     977148 non-null  float64\n",
      " 10  likeCount        977148 non-null  object \n",
      " 11  quoteCount       977148 non-null  object \n",
      " 12  conversationId   977148 non-null  object \n",
      " 13  lang             977148 non-null  object \n",
      " 14  source           977140 non-null  object \n",
      " 15  sourceUrl        977140 non-null  object \n",
      " 16  sourceLabel      977140 non-null  object \n",
      " 17  media            33102 non-null   object \n",
      " 18  retweetedTweet   0 non-null       float64\n",
      " 19  quotedTweet      2111 non-null    object \n",
      " 20  mentionedUsers   158486 non-null  object \n",
      "dtypes: float64(3), object(18)\n",
      "memory usage: 156.6+ MB\n"
     ]
    },
    {
     "data": {
      "application/javascript": [
       "\n",
       "            setTimeout(function() {\n",
       "                var nbb_cell_id = 5;\n",
       "                var nbb_unformatted_code = \"tweets.info()\";\n",
       "                var nbb_formatted_code = \"tweets.info()\";\n",
       "                var nbb_cells = Jupyter.notebook.get_cells();\n",
       "                for (var i = 0; i < nbb_cells.length; ++i) {\n",
       "                    if (nbb_cells[i].input_prompt_number == nbb_cell_id) {\n",
       "                        if (nbb_cells[i].get_text() == nbb_unformatted_code) {\n",
       "                             nbb_cells[i].set_text(nbb_formatted_code);\n",
       "                        }\n",
       "                        break;\n",
       "                    }\n",
       "                }\n",
       "            }, 500);\n",
       "            "
      ],
      "text/plain": [
       "<IPython.core.display.Javascript object>"
      ]
     },
     "metadata": {},
     "output_type": "display_data"
    }
   ],
   "source": [
    "tweets.info()"
   ]
  },
  {
   "cell_type": "code",
   "execution_count": 6,
   "metadata": {},
   "outputs": [
    {
     "data": {
      "text/plain": [
       "0                                                                                                                                                                @businessbarista The School of Greatness has helped launched many million dollar brands but I’ll keep it the best kept secret 🤫 😝\n",
       "1     Know this. Everything is happening for a reason and in your favor for the betterment of your future. The pain you feel now will help later if you:\\n\\n1. Look at what’s not serving you\\n2. Listen to your intuition\\n3. Learn the meaning behind it\\n4. Let go of limits that hold you back\n",
       "2                                                                                                                                                                                                               @emilsterndorff @awilkinson @supercast @thecapital_io Love hearing that congrats!!\n",
       "3                                                                                                                                                                                                                                                                          @theclaudmon Thank you!\n",
       "4                                                                                                                                                                                                                                                                        @MonsieurHolly Thank you!\n",
       "5                                                                                                                                                                                                                                                                       @BrightPacheco Thank youu!\n",
       "6                                                                                                                                                                                                                                                                            @MubBaig Thank you! ❤\n",
       "7                                                                                                                                                                                                                                                                   @sjain_19 Thank you so much! ❤\n",
       "8                                                                                                                                                                                                                                                                     @jamesmcswiggan Thank you!!!\n",
       "9                                                                                                                                                                                                                                                                   @imchrisjordan Wow! Thank you!\n",
       "10                                                                                                                                                                                                                                                                  @positivitygal Thanks a lot! 🙏\n",
       "11                                                                                                                                                                                                                                                                @CoachGuevara205 Thanks a lot! 🙌\n",
       "12                                                                                                                                                                                                                                                           @ClarityWhisper Thanks for sharing! 💯\n",
       "13                                                                                                                                                                                                                                                                         @RudyDootDoo Thank you!\n",
       "14                                                                                                                                                                                                                                                                     @TaylorRochestie Thank you!\n",
       "15                                                                                                                                                                                                                                                  @The_GreatBonnie Awesome! Thank you so much! 🙌\n",
       "16                                                                                                                                                                                                                                                                               @_Jose_Miguel_S 💯\n",
       "17          CALLING ALL HIGH ACHIEVERS:\\n\\nIf you are an entrepreneur, brand, or business owner ready to invest in a premium high-performance coaching program...\\n\\nClick here: https://t.co/cQuLdxqiTH if you want to put yourself on an accelerated path to greatness.🔥 https://t.co/IgwaulAlX5\n",
       "18           Protect your inner peace at all costs. Create daily practices and communicate boundaries to make sure the stress and drama of others doesn’t consume you. You don’t need to be someone else’s emotional punching bag. Your energy and happiness is too important. Protect your peace!\n",
       "19                                                                                                                                                                                                                                          @everliz41 Wow, that's great! Thanks for joining us! 🙌\n",
       "Name: content, dtype: object"
      ]
     },
     "execution_count": 6,
     "metadata": {},
     "output_type": "execute_result"
    },
    {
     "data": {
      "application/javascript": [
       "\n",
       "            setTimeout(function() {\n",
       "                var nbb_cell_id = 6;\n",
       "                var nbb_unformatted_code = \"# pd.set_option(\\\"\\\")\\npd.set_option(\\\"display.max_colwidth\\\", None)\\n\\ntweets[\\\"content\\\"][:20]\";\n",
       "                var nbb_formatted_code = \"# pd.set_option(\\\"\\\")\\npd.set_option(\\\"display.max_colwidth\\\", None)\\n\\ntweets[\\\"content\\\"][:20]\";\n",
       "                var nbb_cells = Jupyter.notebook.get_cells();\n",
       "                for (var i = 0; i < nbb_cells.length; ++i) {\n",
       "                    if (nbb_cells[i].input_prompt_number == nbb_cell_id) {\n",
       "                        if (nbb_cells[i].get_text() == nbb_unformatted_code) {\n",
       "                             nbb_cells[i].set_text(nbb_formatted_code);\n",
       "                        }\n",
       "                        break;\n",
       "                    }\n",
       "                }\n",
       "            }, 500);\n",
       "            "
      ],
      "text/plain": [
       "<IPython.core.display.Javascript object>"
      ]
     },
     "metadata": {},
     "output_type": "display_data"
    }
   ],
   "source": [
    "# extend max col width so all the text can be seen\n",
    "pd.set_option(\"display.max_colwidth\", None)\n",
    "\n",
    "tweets[\"content\"][:20]"
   ]
  },
  {
   "cell_type": "code",
   "execution_count": 7,
   "metadata": {},
   "outputs": [
    {
     "data": {
      "text/plain": [
       "0                                                                                                                                                                    @businessbarista The School of Greatness has helped launched many million dollar brands but I’ll keep it the best kept secret 🤫 😝\n",
       "1         Know this. Everything is happening for a reason and in your favor for the betterment of your future. The pain you feel now will help later if you:\\n\\n1. Look at what’s not serving you\\n2. Listen to your intuition\\n3. Learn the meaning behind it\\n4. Let go of limits that hold you back\n",
       "2                                                                                                                                                                                                                   @emilsterndorff @awilkinson @supercast @thecapital_io Love hearing that congrats!!\n",
       "3                                                                                                                                                                                                                                                                              @theclaudmon Thank you!\n",
       "4                                                                                                                                                                                                                                                                            @MonsieurHolly Thank you!\n",
       "                                                                                                                                                      ...                                                                                                                                             \n",
       "977147                                                                                                                                                                Make big plans; aim high in hope and work, remembering that a noble, logical diagram once recorded will not die.\\nDaniel Burnham\n",
       "977148                                                                                                                                                                                                      If we don't change, we don't grow. If we don't grow, we aren't really living.\\nGail Sheehy\n",
       "977149                                                                                                                                                                                   He that will not apply new remedies must expect new evils; for time is the greatest innovator.\\nFrancis Bacon\n",
       "977150                                                                                                                                                                     Never esteem anything as of advantage to you that will make you break your word or lose your self-respect. ~Marcus Aurelius\n",
       "977151                                                                                                                                                                                                                  Excerpts from\\n  Healing Yourself\\nby Christian D. Larson http://t.co/FFTENPst\n",
       "Name: content, Length: 977152, dtype: object"
      ]
     },
     "execution_count": 7,
     "metadata": {},
     "output_type": "execute_result"
    },
    {
     "data": {
      "application/javascript": [
       "\n",
       "            setTimeout(function() {\n",
       "                var nbb_cell_id = 7;\n",
       "                var nbb_unformatted_code = \"tweets[\\\"content\\\"][:-10]\";\n",
       "                var nbb_formatted_code = \"tweets[\\\"content\\\"][:-10]\";\n",
       "                var nbb_cells = Jupyter.notebook.get_cells();\n",
       "                for (var i = 0; i < nbb_cells.length; ++i) {\n",
       "                    if (nbb_cells[i].input_prompt_number == nbb_cell_id) {\n",
       "                        if (nbb_cells[i].get_text() == nbb_unformatted_code) {\n",
       "                             nbb_cells[i].set_text(nbb_formatted_code);\n",
       "                        }\n",
       "                        break;\n",
       "                    }\n",
       "                }\n",
       "            }, 500);\n",
       "            "
      ],
      "text/plain": [
       "<IPython.core.display.Javascript object>"
      ]
     },
     "metadata": {},
     "output_type": "display_data"
    }
   ],
   "source": [
    "tweets[\"content\"][:-10]"
   ]
  },
  {
   "cell_type": "markdown",
   "metadata": {},
   "source": [
    "After further inspection of the content column, tweets that start with @ are specific tweets to other user. These tweets will be removed becuase we want motinational tweets that are geared towards a general audience. We also have to remove tweets that have hyperlinks since those tweets are more calls to action and not general motivational advise. We will also have to deal with emojis.  "
   ]
  },
  {
   "cell_type": "code",
   "execution_count": 8,
   "metadata": {},
   "outputs": [
    {
     "data": {
      "application/javascript": [
       "\n",
       "            setTimeout(function() {\n",
       "                var nbb_cell_id = 8;\n",
       "                var nbb_unformatted_code = \"tweets[\\\"content\\\"] = tweets[\\\"content\\\"].map(str)\";\n",
       "                var nbb_formatted_code = \"tweets[\\\"content\\\"] = tweets[\\\"content\\\"].map(str)\";\n",
       "                var nbb_cells = Jupyter.notebook.get_cells();\n",
       "                for (var i = 0; i < nbb_cells.length; ++i) {\n",
       "                    if (nbb_cells[i].input_prompt_number == nbb_cell_id) {\n",
       "                        if (nbb_cells[i].get_text() == nbb_unformatted_code) {\n",
       "                             nbb_cells[i].set_text(nbb_formatted_code);\n",
       "                        }\n",
       "                        break;\n",
       "                    }\n",
       "                }\n",
       "            }, 500);\n",
       "            "
      ],
      "text/plain": [
       "<IPython.core.display.Javascript object>"
      ]
     },
     "metadata": {},
     "output_type": "display_data"
    }
   ],
   "source": [
    "# convert any non-text to text in the content column\n",
    "tweets[\"content\"] = tweets[\"content\"].map(str)"
   ]
  },
  {
   "cell_type": "code",
   "execution_count": 9,
   "metadata": {},
   "outputs": [
    {
     "data": {
      "application/javascript": [
       "\n",
       "            setTimeout(function() {\n",
       "                var nbb_cell_id = 9;\n",
       "                var nbb_unformatted_code = \"# remove all tweets that contain @\\ntweets2 = tweets[~tweets['content'].str.contains(\\\"@\\\")]\";\n",
       "                var nbb_formatted_code = \"# remove all tweets that contain @\\ntweets2 = tweets[~tweets[\\\"content\\\"].str.contains(\\\"@\\\")]\";\n",
       "                var nbb_cells = Jupyter.notebook.get_cells();\n",
       "                for (var i = 0; i < nbb_cells.length; ++i) {\n",
       "                    if (nbb_cells[i].input_prompt_number == nbb_cell_id) {\n",
       "                        if (nbb_cells[i].get_text() == nbb_unformatted_code) {\n",
       "                             nbb_cells[i].set_text(nbb_formatted_code);\n",
       "                        }\n",
       "                        break;\n",
       "                    }\n",
       "                }\n",
       "            }, 500);\n",
       "            "
      ],
      "text/plain": [
       "<IPython.core.display.Javascript object>"
      ]
     },
     "metadata": {},
     "output_type": "display_data"
    }
   ],
   "source": [
    "# remove all tweets that contain @\n",
    "tweets2 = tweets[~tweets['content'].str.contains(\"@\")]\n"
   ]
  },
  {
   "cell_type": "code",
   "execution_count": 10,
   "metadata": {},
   "outputs": [
    {
     "name": "stdout",
     "output_type": "stream",
     "text": [
      "<class 'pandas.core.frame.DataFrame'>\n",
      "Int64Index: 795833 entries, 1 to 977161\n",
      "Data columns (total 21 columns):\n",
      " #   Column           Non-Null Count   Dtype  \n",
      "---  ------           --------------   -----  \n",
      " 0   url              795833 non-null  object \n",
      " 1   date             795833 non-null  object \n",
      " 2   content          795833 non-null  object \n",
      " 3   renderedContent  795820 non-null  object \n",
      " 4   id               795820 non-null  object \n",
      " 5   user             795820 non-null  object \n",
      " 6   outlinks         795820 non-null  object \n",
      " 7   tcooutlinks      795820 non-null  object \n",
      " 8   replyCount       795820 non-null  float64\n",
      " 9   retweetCount     795820 non-null  float64\n",
      " 10  likeCount        795820 non-null  object \n",
      " 11  quoteCount       795820 non-null  object \n",
      " 12  conversationId   795820 non-null  object \n",
      " 13  lang             795820 non-null  object \n",
      " 14  source           795814 non-null  object \n",
      " 15  sourceUrl        795814 non-null  object \n",
      " 16  sourceLabel      795814 non-null  object \n",
      " 17  media            30765 non-null   object \n",
      " 18  retweetedTweet   0 non-null       float64\n",
      " 19  quotedTweet      1705 non-null    object \n",
      " 20  mentionedUsers   0 non-null       object \n",
      "dtypes: float64(3), object(18)\n",
      "memory usage: 133.6+ MB\n"
     ]
    },
    {
     "data": {
      "application/javascript": [
       "\n",
       "            setTimeout(function() {\n",
       "                var nbb_cell_id = 10;\n",
       "                var nbb_unformatted_code = \"tweets2.info()\";\n",
       "                var nbb_formatted_code = \"tweets2.info()\";\n",
       "                var nbb_cells = Jupyter.notebook.get_cells();\n",
       "                for (var i = 0; i < nbb_cells.length; ++i) {\n",
       "                    if (nbb_cells[i].input_prompt_number == nbb_cell_id) {\n",
       "                        if (nbb_cells[i].get_text() == nbb_unformatted_code) {\n",
       "                             nbb_cells[i].set_text(nbb_formatted_code);\n",
       "                        }\n",
       "                        break;\n",
       "                    }\n",
       "                }\n",
       "            }, 500);\n",
       "            "
      ],
      "text/plain": [
       "<IPython.core.display.Javascript object>"
      ]
     },
     "metadata": {},
     "output_type": "display_data"
    }
   ],
   "source": [
    "tweets2.info()"
   ]
  },
  {
   "cell_type": "markdown",
   "metadata": {},
   "source": [
    "That removed about 180,000 rows. "
   ]
  },
  {
   "cell_type": "code",
   "execution_count": 11,
   "metadata": {},
   "outputs": [
    {
     "data": {
      "text/plain": [
       "1                           Know this. Everything is happening for a reason and in your favor for the betterment of your future. The pain you feel now will help later if you:\\n\\n1. Look at what’s not serving you\\n2. Listen to your intuition\\n3. Learn the meaning behind it\\n4. Let go of limits that hold you back\n",
       "17                                CALLING ALL HIGH ACHIEVERS:\\n\\nIf you are an entrepreneur, brand, or business owner ready to invest in a premium high-performance coaching program...\\n\\nClick here: https://t.co/cQuLdxqiTH if you want to put yourself on an accelerated path to greatness.🔥 https://t.co/IgwaulAlX5\n",
       "18                                 Protect your inner peace at all costs. Create daily practices and communicate boundaries to make sure the stress and drama of others doesn’t consume you. You don’t need to be someone else’s emotional punching bag. Your energy and happiness is too important. Protect your peace!\n",
       "27                                                                                                                                                                                   About to reach 1 million subscribers on YouTube- would mean a lot if you subscribed now to get us there ❤️👏 https://t.co/gu7tZJku5r\n",
       "40               With more than 20 years of experience as a Navy SEAL Officer, Rich Diviney has lots of amazing lessons and techniques to share. I am so glad I got to sit down with him and hear his perspective!🙌\\n\\nCheck out the full interview with Rich Diviney at https://t.co/HSRxxcPUyw https://t.co/2kBdPh0SGN\n",
       "53                      \"Knowledge on its own is not power, you have to apply it.\" - Rich Diviney\\n\\nFormer Navy SEAL Officer, Rich Diviney dives deep into the mindset of a Navy SEAL and he shares some mind-blowing wisdom🤯\\n\\n👉 Check out the full interview here: https://t.co/HSRxxcPUyw 👈 https://t.co/G9iC6ca4tT\n",
       "65                                    You are stronger than you think. The painful moments that hurt you in the past were meant for you. They broke you down so you could become stronger than ever before. I know it was hard. I know you wouldn’t wish it on anyone else. But I also know you wouldn’t change a thing!\n",
       "118                                                           Always remember to ask for exactly what you want. Ask for love, good health, abundance and peace. Ask for wisdom, creativity and positive energy. Don’t be shy in your dreams. Be bold and live in gratitude because everything you want is coming to you.\n",
       "163                                                              What if you treated yourself like someone you were madly in love with? Imagine what you could do with all that positive energy. Stop beating yourself up for not being perfect and start loving yourself the way you would with someone you care about.\n",
       "165                               I hope you realize no one is coming to save you. You will want a great team but never someone to rescue you. Greatness happens when 1. You have a clear vision 2. Turn adversity into your advantage 3. Have a growth mindset 4. Develop champion habits. 5. Live in Service to others\n",
       "231                              This will be your greatest year ever. All your work will start to pay off.  You will earn more, be happier, love deeper and be healthier.  It will all manifest because you built better habits, embraced your fears, added more value to others and took massive action on your goals.\n",
       "238                                                               Life without play is not a meaningful life. How do you guys make sure to stay in touch with your inner child? 😇 Comment below!\\n\\n👉 Check out my 2020 recap episode with my COO Matt Cesaratto here: https://t.co/eFtN4Ynv66 👈 https://t.co/5gD0Yb0twi\n",
       "262    \"I think when you're not clear on your mission or your vision, what you're working towards, you may not be excited to get up in the morning.\" Do you agree?🔥\\n\\nCheck out today's episode where I recap 2020 with my COO and longtime friend Matt Cesaratto here: https://t.co/eFtN4Ynv66 https://t.co/BiKqusAtzR\n",
       "274                             Be grateful for the breakdown this year. It’s setting you up for a massive breakthrough.  Money is coming. Your Mission is getting clear.  You found out if the Relationship was right for you. You are finally making your Health a priority.  And you found who your real Friends are!\n",
       "293                                                                                                                                                                                                                                                                 Who else is with me on this? https://t.co/uWwPkoWsTx\n",
       "295                           I hope you realize 2021 won’t magically be your best year ever unless you 1. Take ownership for your actions 2. Change your habits to support your growth 3. Make health &amp; happiness a priority 4. Learn to say no &amp; develop boundaries 5. Surround yourself with positive people.\n",
       "316                             It’s easy to comment and leave harsh messages online of people you don’t know. It’s hard to take consistent action and fail over and over again until you get your desired results.  I applaud everyone going after their dreams no matter what the critics say! https://t.co/dpz3r2Jaew\n",
       "361                               Your season is coming:\\n\\nThings have been breaking down in order to build you up and align your dreams to your reality.  Keep being grateful. Keep being kind to yourself. Keep improving daily. Keep adding value to others and watch as abundance and goals begin to manifest soon!\n",
       "368                                                                                                       Can you guess what female Entreprenuer and #1 New York Times bestselling author I have coming on the show tomorrow? Share below and make sure to subscribe at https://t.co/EM7gGAWYaN to get it when it drops!\n",
       "396                                     Great things are coming for you. Things are breaking down and aligning all in your favor to achieve your dreams. All of this is preparing you for something magical. Remember to:\\n\\n1.  Love yourself fully\\n2. Forgive others\\n3. Calm your inner critic\\n4. Be a giving heart\n",
       "Name: content, dtype: object"
      ]
     },
     "execution_count": 11,
     "metadata": {},
     "output_type": "execute_result"
    },
    {
     "data": {
      "application/javascript": [
       "\n",
       "            setTimeout(function() {\n",
       "                var nbb_cell_id = 11;\n",
       "                var nbb_unformatted_code = \"tweets2[\\\"content\\\"][:20]\";\n",
       "                var nbb_formatted_code = \"tweets2[\\\"content\\\"][:20]\";\n",
       "                var nbb_cells = Jupyter.notebook.get_cells();\n",
       "                for (var i = 0; i < nbb_cells.length; ++i) {\n",
       "                    if (nbb_cells[i].input_prompt_number == nbb_cell_id) {\n",
       "                        if (nbb_cells[i].get_text() == nbb_unformatted_code) {\n",
       "                             nbb_cells[i].set_text(nbb_formatted_code);\n",
       "                        }\n",
       "                        break;\n",
       "                    }\n",
       "                }\n",
       "            }, 500);\n",
       "            "
      ],
      "text/plain": [
       "<IPython.core.display.Javascript object>"
      ]
     },
     "metadata": {},
     "output_type": "display_data"
    }
   ],
   "source": [
    "tweets2[\"content\"][:20]"
   ]
  },
  {
   "cell_type": "code",
   "execution_count": 12,
   "metadata": {},
   "outputs": [
    {
     "data": {
      "application/javascript": [
       "\n",
       "            setTimeout(function() {\n",
       "                var nbb_cell_id = 12;\n",
       "                var nbb_unformatted_code = \"# drop rows containing http links\\ntweets3 = tweets2[~(tweets2[\\\"content\\\"].str.contains(\\\"http\\\"))]\";\n",
       "                var nbb_formatted_code = \"# drop rows containing http links\\ntweets3 = tweets2[~(tweets2[\\\"content\\\"].str.contains(\\\"http\\\"))]\";\n",
       "                var nbb_cells = Jupyter.notebook.get_cells();\n",
       "                for (var i = 0; i < nbb_cells.length; ++i) {\n",
       "                    if (nbb_cells[i].input_prompt_number == nbb_cell_id) {\n",
       "                        if (nbb_cells[i].get_text() == nbb_unformatted_code) {\n",
       "                             nbb_cells[i].set_text(nbb_formatted_code);\n",
       "                        }\n",
       "                        break;\n",
       "                    }\n",
       "                }\n",
       "            }, 500);\n",
       "            "
      ],
      "text/plain": [
       "<IPython.core.display.Javascript object>"
      ]
     },
     "metadata": {},
     "output_type": "display_data"
    }
   ],
   "source": [
    "# drop rows containing http links\n",
    "tweets3 = tweets2[~(tweets2[\"content\"].str.contains(\"http\"))]"
   ]
  },
  {
   "cell_type": "code",
   "execution_count": 13,
   "metadata": {},
   "outputs": [
    {
     "data": {
      "text/plain": [
       "1       Know this. Everything is happening for a reason and in your favor for the betterment of your future. The pain you feel now will help later if you:\\n\\n1. Look at what’s not serving you\\n2. Listen to your intuition\\n3. Learn the meaning behind it\\n4. Let go of limits that hold you back\n",
       "18             Protect your inner peace at all costs. Create daily practices and communicate boundaries to make sure the stress and drama of others doesn’t consume you. You don’t need to be someone else’s emotional punching bag. Your energy and happiness is too important. Protect your peace!\n",
       "65                You are stronger than you think. The painful moments that hurt you in the past were meant for you. They broke you down so you could become stronger than ever before. I know it was hard. I know you wouldn’t wish it on anyone else. But I also know you wouldn’t change a thing!\n",
       "118                                       Always remember to ask for exactly what you want. Ask for love, good health, abundance and peace. Ask for wisdom, creativity and positive energy. Don’t be shy in your dreams. Be bold and live in gratitude because everything you want is coming to you.\n",
       "163                                          What if you treated yourself like someone you were madly in love with? Imagine what you could do with all that positive energy. Stop beating yourself up for not being perfect and start loving yourself the way you would with someone you care about.\n",
       "165           I hope you realize no one is coming to save you. You will want a great team but never someone to rescue you. Greatness happens when 1. You have a clear vision 2. Turn adversity into your advantage 3. Have a growth mindset 4. Develop champion habits. 5. Live in Service to others\n",
       "231          This will be your greatest year ever. All your work will start to pay off.  You will earn more, be happier, love deeper and be healthier.  It will all manifest because you built better habits, embraced your fears, added more value to others and took massive action on your goals.\n",
       "274         Be grateful for the breakdown this year. It’s setting you up for a massive breakthrough.  Money is coming. Your Mission is getting clear.  You found out if the Relationship was right for you. You are finally making your Health a priority.  And you found who your real Friends are!\n",
       "295       I hope you realize 2021 won’t magically be your best year ever unless you 1. Take ownership for your actions 2. Change your habits to support your growth 3. Make health &amp; happiness a priority 4. Learn to say no &amp; develop boundaries 5. Surround yourself with positive people.\n",
       "361           Your season is coming:\\n\\nThings have been breaking down in order to build you up and align your dreams to your reality.  Keep being grateful. Keep being kind to yourself. Keep improving daily. Keep adding value to others and watch as abundance and goals begin to manifest soon!\n",
       "396                 Great things are coming for you. Things are breaking down and aligning all in your favor to achieve your dreams. All of this is preparing you for something magical. Remember to:\\n\\n1.  Love yourself fully\\n2. Forgive others\\n3. Calm your inner critic\\n4. Be a giving heart\n",
       "492                                                                                                7 Things to Give Up For a Happier Life:\\n\\n- Your Excuses\\n- Negative Self Talk\\n- Toxic Relationships\\n- Playing Small\\n- Unhealthy Eating\\n- Bad Sleep Habits\\n- Hoping Someone will Rescue You\n",
       "511    Real facts:  \\n\\nNot everyone is your friend or has your best interest in mind. Wish them well and find better friends. Friends that support you, call you on your crap, clap &amp; celebrate your success and want the best for you... these are the people you want in you corner for life!\n",
       "561                                                                                    Anyone can give their all for 8 days... will you?\\n\\nIf you are in then reshare this post on your page or stories and use the hashtag #8Great to lock in the start day this Tuesday, December 8th!\\n\\n#8Great\n",
       "562                                                                                                    This will be challenging.\\n\\nYou will need to plan your time.\\n\\nYou will need to step up in your life.\\n\\nYou will need to eliminate distractions.\\n\\nAnd you will need to give it your all.\n",
       "563                                                                                                                                                                                     You must find 1 partner to do this with you.\\n\\nIf they do not finish, you do not finish so choose wisely 😜.\n",
       "564                                                                                                                                No smoking, drinking, or recreational drugs, as this is a time to clear your mind (most of you know I swear by the benefits as I’ve never been drunk in my life).\n",
       "565                                                                                                                                   8 kilometers is almost 5 miles, and you can walk, run, or hike indoors or outdoors but you must complete the distance (8 miles daily for the advanced version)\n",
       "566                                                         Follow each of the 8 steps 💯 and you complete the challenge.\\n\\nPost a photo or video when you complete with the hashtag #8Great and that you completed it (I recommend posting daily for progress updates and accountability mentally).\n",
       "578           Kids have imaginary friends. Adults have imaginary enemies. Your cognitive biases make you THINK people are:\\n\\n- judging you\\n- out to get you\\n- scheming behind your back\\n\\nIn reality, people are too focused on themselves to be thinking about you that much.\\n\\n- Joey Doughty\n",
       "Name: content, dtype: object"
      ]
     },
     "execution_count": 13,
     "metadata": {},
     "output_type": "execute_result"
    },
    {
     "data": {
      "application/javascript": [
       "\n",
       "            setTimeout(function() {\n",
       "                var nbb_cell_id = 13;\n",
       "                var nbb_unformatted_code = \"tweets3[\\\"content\\\"][:20]\";\n",
       "                var nbb_formatted_code = \"tweets3[\\\"content\\\"][:20]\";\n",
       "                var nbb_cells = Jupyter.notebook.get_cells();\n",
       "                for (var i = 0; i < nbb_cells.length; ++i) {\n",
       "                    if (nbb_cells[i].input_prompt_number == nbb_cell_id) {\n",
       "                        if (nbb_cells[i].get_text() == nbb_unformatted_code) {\n",
       "                             nbb_cells[i].set_text(nbb_formatted_code);\n",
       "                        }\n",
       "                        break;\n",
       "                    }\n",
       "                }\n",
       "            }, 500);\n",
       "            "
      ],
      "text/plain": [
       "<IPython.core.display.Javascript object>"
      ]
     },
     "metadata": {},
     "output_type": "display_data"
    }
   ],
   "source": [
    "tweets3[\"content\"][:20]"
   ]
  },
  {
   "cell_type": "code",
   "execution_count": 14,
   "metadata": {},
   "outputs": [
    {
     "data": {
      "text/plain": [
       "697374"
      ]
     },
     "execution_count": 14,
     "metadata": {},
     "output_type": "execute_result"
    },
    {
     "data": {
      "application/javascript": [
       "\n",
       "            setTimeout(function() {\n",
       "                var nbb_cell_id = 14;\n",
       "                var nbb_unformatted_code = \"len(tweets3)\";\n",
       "                var nbb_formatted_code = \"len(tweets3)\";\n",
       "                var nbb_cells = Jupyter.notebook.get_cells();\n",
       "                for (var i = 0; i < nbb_cells.length; ++i) {\n",
       "                    if (nbb_cells[i].input_prompt_number == nbb_cell_id) {\n",
       "                        if (nbb_cells[i].get_text() == nbb_unformatted_code) {\n",
       "                             nbb_cells[i].set_text(nbb_formatted_code);\n",
       "                        }\n",
       "                        break;\n",
       "                    }\n",
       "                }\n",
       "            }, 500);\n",
       "            "
      ],
      "text/plain": [
       "<IPython.core.display.Javascript object>"
      ]
     },
     "metadata": {},
     "output_type": "display_data"
    }
   ],
   "source": [
    "len(tweets3)"
   ]
  },
  {
   "cell_type": "markdown",
   "metadata": {},
   "source": [
    "We have removed about a quarter of our initial database. We still need to remove line breaks, non-english text, emojis, and emoticons."
   ]
  },
  {
   "cell_type": "code",
   "execution_count": 15,
   "metadata": {},
   "outputs": [
    {
     "name": "stdout",
     "output_type": "stream",
     "text": [
      "<class 'pandas.core.frame.DataFrame'>\n",
      "Int64Index: 697374 entries, 1 to 977161\n",
      "Data columns (total 21 columns):\n",
      " #   Column           Non-Null Count   Dtype  \n",
      "---  ------           --------------   -----  \n",
      " 0   url              697374 non-null  object \n",
      " 1   date             697374 non-null  object \n",
      " 2   content          697374 non-null  object \n",
      " 3   renderedContent  697361 non-null  object \n",
      " 4   id               697361 non-null  object \n",
      " 5   user             697361 non-null  object \n",
      " 6   outlinks         697361 non-null  object \n",
      " 7   tcooutlinks      697361 non-null  object \n",
      " 8   replyCount       697361 non-null  float64\n",
      " 9   retweetCount     697361 non-null  float64\n",
      " 10  likeCount        697361 non-null  object \n",
      " 11  quoteCount       697361 non-null  object \n",
      " 12  conversationId   697361 non-null  object \n",
      " 13  lang             697361 non-null  object \n",
      " 14  source           697361 non-null  object \n",
      " 15  sourceUrl        697361 non-null  object \n",
      " 16  sourceLabel      697361 non-null  object \n",
      " 17  media            0 non-null       object \n",
      " 18  retweetedTweet   0 non-null       float64\n",
      " 19  quotedTweet      0 non-null       object \n",
      " 20  mentionedUsers   0 non-null       object \n",
      "dtypes: float64(3), object(18)\n",
      "memory usage: 117.1+ MB\n"
     ]
    },
    {
     "data": {
      "application/javascript": [
       "\n",
       "            setTimeout(function() {\n",
       "                var nbb_cell_id = 15;\n",
       "                var nbb_unformatted_code = \"tweets3.info()\";\n",
       "                var nbb_formatted_code = \"tweets3.info()\";\n",
       "                var nbb_cells = Jupyter.notebook.get_cells();\n",
       "                for (var i = 0; i < nbb_cells.length; ++i) {\n",
       "                    if (nbb_cells[i].input_prompt_number == nbb_cell_id) {\n",
       "                        if (nbb_cells[i].get_text() == nbb_unformatted_code) {\n",
       "                             nbb_cells[i].set_text(nbb_formatted_code);\n",
       "                        }\n",
       "                        break;\n",
       "                    }\n",
       "                }\n",
       "            }, 500);\n",
       "            "
      ],
      "text/plain": [
       "<IPython.core.display.Javascript object>"
      ]
     },
     "metadata": {},
     "output_type": "display_data"
    }
   ],
   "source": [
    "tweets3.info()"
   ]
  },
  {
   "cell_type": "code",
   "execution_count": 17,
   "metadata": {},
   "outputs": [
    {
     "name": "stderr",
     "output_type": "stream",
     "text": [
      "/opt/anaconda3/lib/python3.7/site-packages/ipykernel_launcher.py:4: SettingWithCopyWarning: \n",
      "A value is trying to be set on a copy of a slice from a DataFrame.\n",
      "Try using .loc[row_indexer,col_indexer] = value instead\n",
      "\n",
      "See the caveats in the documentation: https://pandas.pydata.org/pandas-docs/stable/user_guide/indexing.html#returning-a-view-versus-a-copy\n",
      "  after removing the cwd from sys.path.\n"
     ]
    },
    {
     "data": {
      "application/javascript": [
       "\n",
       "            setTimeout(function() {\n",
       "                var nbb_cell_id = 17;\n",
       "                var nbb_unformatted_code = \"tweets3[\\\"content\\\"] = (\\n    tweets3[\\\"content\\\"]\\n    .str.replace(\\\"\\\\n\\\", \\\" \\\")\\n    .str.replace(\\\"\\u2019\\\", \\\"'\\\")\\n)\";\n",
       "                var nbb_formatted_code = \"tweets3[\\\"content\\\"] = tweets3[\\\"content\\\"].str.replace(\\\"\\\\n\\\", \\\" \\\").str.replace(\\\"\\u2019\\\", \\\"'\\\")\";\n",
       "                var nbb_cells = Jupyter.notebook.get_cells();\n",
       "                for (var i = 0; i < nbb_cells.length; ++i) {\n",
       "                    if (nbb_cells[i].input_prompt_number == nbb_cell_id) {\n",
       "                        if (nbb_cells[i].get_text() == nbb_unformatted_code) {\n",
       "                             nbb_cells[i].set_text(nbb_formatted_code);\n",
       "                        }\n",
       "                        break;\n",
       "                    }\n",
       "                }\n",
       "            }, 500);\n",
       "            "
      ],
      "text/plain": [
       "<IPython.core.display.Javascript object>"
      ]
     },
     "metadata": {},
     "output_type": "display_data"
    }
   ],
   "source": [
    "# remove line breaks and change non-latin apostrophe to latin counterpart\n",
    "tweets3[\"content\"] = tweets3[\"content\"].str.replace(\"\\n\", \" \").str.replace(\"’\", \"'\")"
   ]
  },
  {
   "cell_type": "code",
   "execution_count": 18,
   "metadata": {},
   "outputs": [
    {
     "data": {
      "text/plain": [
       "1          Know this. Everything is happening for a reason and in your favor for the betterment of your future. The pain you feel now will help later if you:  1. Look at what's not serving you 2. Listen to your intuition 3. Learn the meaning behind it 4. Let go of limits that hold you back\n",
       "18           Protect your inner peace at all costs. Create daily practices and communicate boundaries to make sure the stress and drama of others doesn't consume you. You don't need to be someone else's emotional punching bag. Your energy and happiness is too important. Protect your peace!\n",
       "65              You are stronger than you think. The painful moments that hurt you in the past were meant for you. They broke you down so you could become stronger than ever before. I know it was hard. I know you wouldn't wish it on anyone else. But I also know you wouldn't change a thing!\n",
       "118                                     Always remember to ask for exactly what you want. Ask for love, good health, abundance and peace. Ask for wisdom, creativity and positive energy. Don't be shy in your dreams. Be bold and live in gratitude because everything you want is coming to you.\n",
       "163                                        What if you treated yourself like someone you were madly in love with? Imagine what you could do with all that positive energy. Stop beating yourself up for not being perfect and start loving yourself the way you would with someone you care about.\n",
       "165         I hope you realize no one is coming to save you. You will want a great team but never someone to rescue you. Greatness happens when 1. You have a clear vision 2. Turn adversity into your advantage 3. Have a growth mindset 4. Develop champion habits. 5. Live in Service to others\n",
       "231        This will be your greatest year ever. All your work will start to pay off.  You will earn more, be happier, love deeper and be healthier.  It will all manifest because you built better habits, embraced your fears, added more value to others and took massive action on your goals.\n",
       "274       Be grateful for the breakdown this year. It's setting you up for a massive breakthrough.  Money is coming. Your Mission is getting clear.  You found out if the Relationship was right for you. You are finally making your Health a priority.  And you found who your real Friends are!\n",
       "295     I hope you realize 2021 won't magically be your best year ever unless you 1. Take ownership for your actions 2. Change your habits to support your growth 3. Make health &amp; happiness a priority 4. Learn to say no &amp; develop boundaries 5. Surround yourself with positive people.\n",
       "361           Your season is coming:  Things have been breaking down in order to build you up and align your dreams to your reality.  Keep being grateful. Keep being kind to yourself. Keep improving daily. Keep adding value to others and watch as abundance and goals begin to manifest soon!\n",
       "396                    Great things are coming for you. Things are breaking down and aligning all in your favor to achieve your dreams. All of this is preparing you for something magical. Remember to:  1.  Love yourself fully 2. Forgive others 3. Calm your inner critic 4. Be a giving heart\n",
       "492                                                                                                      7 Things to Give Up For a Happier Life:  - Your Excuses - Negative Self Talk - Toxic Relationships - Playing Small - Unhealthy Eating - Bad Sleep Habits - Hoping Someone will Rescue You\n",
       "511    Real facts:    Not everyone is your friend or has your best interest in mind. Wish them well and find better friends. Friends that support you, call you on your crap, clap &amp; celebrate your success and want the best for you... these are the people you want in you corner for life!\n",
       "561                                                                                      Anyone can give their all for 8 days... will you?  If you are in then reshare this post on your page or stories and use the hashtag #8Great to lock in the start day this Tuesday, December 8th!  #8Great\n",
       "562                                                                                                          This will be challenging.  You will need to plan your time.  You will need to step up in your life.  You will need to eliminate distractions.  And you will need to give it your all.\n",
       "563                                                                                                                                                                                     You must find 1 partner to do this with you.  If they do not finish, you do not finish so choose wisely 😜.\n",
       "564                                                                                                                              No smoking, drinking, or recreational drugs, as this is a time to clear your mind (most of you know I swear by the benefits as I've never been drunk in my life).\n",
       "565                                                                                                                                 8 kilometers is almost 5 miles, and you can walk, run, or hike indoors or outdoors but you must complete the distance (8 miles daily for the advanced version)\n",
       "566                                                         Follow each of the 8 steps 💯 and you complete the challenge.  Post a photo or video when you complete with the hashtag #8Great and that you completed it (I recommend posting daily for progress updates and accountability mentally).\n",
       "578                 Kids have imaginary friends. Adults have imaginary enemies. Your cognitive biases make you THINK people are:  - judging you - out to get you - scheming behind your back  In reality, people are too focused on themselves to be thinking about you that much.  - Joey Doughty\n",
       "Name: content, dtype: object"
      ]
     },
     "execution_count": 18,
     "metadata": {},
     "output_type": "execute_result"
    },
    {
     "data": {
      "application/javascript": [
       "\n",
       "            setTimeout(function() {\n",
       "                var nbb_cell_id = 18;\n",
       "                var nbb_unformatted_code = \"tweets3[\\\"content\\\"][:20]\";\n",
       "                var nbb_formatted_code = \"tweets3[\\\"content\\\"][:20]\";\n",
       "                var nbb_cells = Jupyter.notebook.get_cells();\n",
       "                for (var i = 0; i < nbb_cells.length; ++i) {\n",
       "                    if (nbb_cells[i].input_prompt_number == nbb_cell_id) {\n",
       "                        if (nbb_cells[i].get_text() == nbb_unformatted_code) {\n",
       "                             nbb_cells[i].set_text(nbb_formatted_code);\n",
       "                        }\n",
       "                        break;\n",
       "                    }\n",
       "                }\n",
       "            }, 500);\n",
       "            "
      ],
      "text/plain": [
       "<IPython.core.display.Javascript object>"
      ]
     },
     "metadata": {},
     "output_type": "display_data"
    }
   ],
   "source": [
    "tweets3[\"content\"][:20]"
   ]
  },
  {
   "cell_type": "markdown",
   "metadata": {},
   "source": [
    "Next we will remove text that contains more than one character outside of the latin alphabet. This will include emojis and emoticons by taking advantage of the ord() function. This step won't completely remove all non-english tweets, but it will deal with emojis and emoticons. Languages like French, German, and Spanish use a latin alphabet. We will remove the rest of the non-english text later. "
   ]
  },
  {
   "cell_type": "code",
   "execution_count": 20,
   "metadata": {},
   "outputs": [
    {
     "data": {
      "application/javascript": [
       "\n",
       "            setTimeout(function() {\n",
       "                var nbb_cell_id = 20;\n",
       "                var nbb_unformatted_code = \"# function that returns True if no more than one character is non-latin\\ndef is_latin_alphabet(string):\\n    non_ascii = 0\\n\\n    for character in string:\\n        if ord(character) > 127:\\n            non_ascii += 1\\n\\n    if non_ascii > 1:\\n        return False\\n    else:\\n        return True\";\n",
       "                var nbb_formatted_code = \"# function that returns True if no more than one character is non-latin\\ndef is_latin_alphabet(string):\\n    non_ascii = 0\\n\\n    for character in string:\\n        if ord(character) > 127:\\n            non_ascii += 1\\n\\n    if non_ascii > 1:\\n        return False\\n    else:\\n        return True\";\n",
       "                var nbb_cells = Jupyter.notebook.get_cells();\n",
       "                for (var i = 0; i < nbb_cells.length; ++i) {\n",
       "                    if (nbb_cells[i].input_prompt_number == nbb_cell_id) {\n",
       "                        if (nbb_cells[i].get_text() == nbb_unformatted_code) {\n",
       "                             nbb_cells[i].set_text(nbb_formatted_code);\n",
       "                        }\n",
       "                        break;\n",
       "                    }\n",
       "                }\n",
       "            }, 500);\n",
       "            "
      ],
      "text/plain": [
       "<IPython.core.display.Javascript object>"
      ]
     },
     "metadata": {},
     "output_type": "display_data"
    }
   ],
   "source": [
    "# function that returns True if no more than one character is non-latin\n",
    "def is_latin_alphabet(string):\n",
    "    non_ascii = 0\n",
    "\n",
    "    for character in string:\n",
    "        if ord(character) > 127:\n",
    "            non_ascii += 1\n",
    "\n",
    "    if non_ascii > 1:\n",
    "        return False\n",
    "    else:\n",
    "        return True"
   ]
  },
  {
   "cell_type": "code",
   "execution_count": 21,
   "metadata": {},
   "outputs": [
    {
     "data": {
      "text/plain": [
       "697374"
      ]
     },
     "execution_count": 21,
     "metadata": {},
     "output_type": "execute_result"
    },
    {
     "data": {
      "application/javascript": [
       "\n",
       "            setTimeout(function() {\n",
       "                var nbb_cell_id = 21;\n",
       "                var nbb_unformatted_code = \"# make a dictionary with emoji less text or append with none\\nlatin_emojiless_text = []\\n\\nfor text in tweets3[\\\"content\\\"]:\\n    if is_latin_alphabet(text) == True:\\n        latin_emojiless_text.append(text)\\n    else:\\n        latin_emojiless_text.append(None)\\n\\n\\nlen(latin_emojiless_text)\";\n",
       "                var nbb_formatted_code = \"# make a dictionary with emoji less text or append with none\\nlatin_emojiless_text = []\\n\\nfor text in tweets3[\\\"content\\\"]:\\n    if is_latin_alphabet(text) == True:\\n        latin_emojiless_text.append(text)\\n    else:\\n        latin_emojiless_text.append(None)\\n\\n\\nlen(latin_emojiless_text)\";\n",
       "                var nbb_cells = Jupyter.notebook.get_cells();\n",
       "                for (var i = 0; i < nbb_cells.length; ++i) {\n",
       "                    if (nbb_cells[i].input_prompt_number == nbb_cell_id) {\n",
       "                        if (nbb_cells[i].get_text() == nbb_unformatted_code) {\n",
       "                             nbb_cells[i].set_text(nbb_formatted_code);\n",
       "                        }\n",
       "                        break;\n",
       "                    }\n",
       "                }\n",
       "            }, 500);\n",
       "            "
      ],
      "text/plain": [
       "<IPython.core.display.Javascript object>"
      ]
     },
     "metadata": {},
     "output_type": "display_data"
    }
   ],
   "source": [
    "# make a dictionary with emoji less text or append with none\n",
    "latin_emojiless_text = []\n",
    "\n",
    "for text in tweets3[\"content\"]:\n",
    "    if is_latin_alphabet(text) == True:\n",
    "        latin_emojiless_text.append(text)\n",
    "    else:\n",
    "        latin_emojiless_text.append(None)\n",
    "\n",
    "\n",
    "len(latin_emojiless_text)"
   ]
  },
  {
   "cell_type": "code",
   "execution_count": 22,
   "metadata": {},
   "outputs": [
    {
     "data": {
      "application/javascript": [
       "\n",
       "            setTimeout(function() {\n",
       "                var nbb_cell_id = 22;\n",
       "                var nbb_unformatted_code = \"# save emojiless text to new dataframe\\ntweets4 = tweets3.copy()\\ntweets4[\\\"content\\\"] = latin_emojiless_text\";\n",
       "                var nbb_formatted_code = \"# save emojiless text to new dataframe\\ntweets4 = tweets3.copy()\\ntweets4[\\\"content\\\"] = latin_emojiless_text\";\n",
       "                var nbb_cells = Jupyter.notebook.get_cells();\n",
       "                for (var i = 0; i < nbb_cells.length; ++i) {\n",
       "                    if (nbb_cells[i].input_prompt_number == nbb_cell_id) {\n",
       "                        if (nbb_cells[i].get_text() == nbb_unformatted_code) {\n",
       "                             nbb_cells[i].set_text(nbb_formatted_code);\n",
       "                        }\n",
       "                        break;\n",
       "                    }\n",
       "                }\n",
       "            }, 500);\n",
       "            "
      ],
      "text/plain": [
       "<IPython.core.display.Javascript object>"
      ]
     },
     "metadata": {},
     "output_type": "display_data"
    }
   ],
   "source": [
    "# save emojiless text to new dataframe\n",
    "tweets4 = tweets3.copy()\n",
    "tweets4[\"content\"] = latin_emojiless_text"
   ]
  },
  {
   "cell_type": "code",
   "execution_count": 23,
   "metadata": {},
   "outputs": [
    {
     "data": {
      "text/html": [
       "<div>\n",
       "<style scoped>\n",
       "    .dataframe tbody tr th:only-of-type {\n",
       "        vertical-align: middle;\n",
       "    }\n",
       "\n",
       "    .dataframe tbody tr th {\n",
       "        vertical-align: top;\n",
       "    }\n",
       "\n",
       "    .dataframe thead th {\n",
       "        text-align: right;\n",
       "    }\n",
       "</style>\n",
       "<table border=\"1\" class=\"dataframe\">\n",
       "  <thead>\n",
       "    <tr style=\"text-align: right;\">\n",
       "      <th></th>\n",
       "      <th>url</th>\n",
       "      <th>date</th>\n",
       "      <th>content</th>\n",
       "      <th>renderedContent</th>\n",
       "      <th>id</th>\n",
       "      <th>user</th>\n",
       "      <th>outlinks</th>\n",
       "      <th>tcooutlinks</th>\n",
       "      <th>replyCount</th>\n",
       "      <th>retweetCount</th>\n",
       "      <th>...</th>\n",
       "      <th>quoteCount</th>\n",
       "      <th>conversationId</th>\n",
       "      <th>lang</th>\n",
       "      <th>source</th>\n",
       "      <th>sourceUrl</th>\n",
       "      <th>sourceLabel</th>\n",
       "      <th>media</th>\n",
       "      <th>retweetedTweet</th>\n",
       "      <th>quotedTweet</th>\n",
       "      <th>mentionedUsers</th>\n",
       "    </tr>\n",
       "  </thead>\n",
       "  <tbody>\n",
       "    <tr>\n",
       "      <th>1</th>\n",
       "      <td>https://twitter.com/LewisHowes/status/1350929208520929282</td>\n",
       "      <td>2021-01-17 22:13:17+00:00</td>\n",
       "      <td>Know this. Everything is happening for a reason and in your favor for the betterment of your future. The pain you feel now will help later if you:  1. Look at what's not serving you 2. Listen to your intuition 3. Learn the meaning behind it 4. Let go of limits that hold you back</td>\n",
       "      <td>Know this. Everything is happening for a reason and in your favor for the betterment of your future. The pain you feel now will help later if you:\\n\\n1. Look at what’s not serving you\\n2. Listen to your intuition\\n3. Learn the meaning behind it\\n4. Let go of limits that hold you back</td>\n",
       "      <td>1350929208520929282</td>\n",
       "      <td>{'username': 'LewisHowes', 'displayname': 'Lewis Howes', 'id': 14777649, 'description': 'NY Times Bestselling author. Top Podcast with 300 million downloads. Former pro football current @usath text me here and stay connected! 📲 614-350-3960', 'rawDescription': 'NY Times Bestselling author. Top Podcast with 300 million downloads. Former pro football current @usath text me here and stay connected! 📲 614-350-3960', 'descriptionUrls': [], 'verified': True, 'created': '2008-05-14T19:54:36+00:00', 'followersCount': 193364, 'friendsCount': 34020, 'statusesCount': 131967, 'favouritesCount': 152105, 'listedCount': 5437, 'mediaCount': 4229, 'location': 'Ohio boy in NYC and LA', 'protected': False, 'linkUrl': 'http://lewishowes.com', 'linkTcourl': 'https://t.co/hLkL1LJ3d4', 'profileImageUrl': 'https://pbs.twimg.com/profile_images/904400279113687041/bSzT-5v4_normal.jpg', 'profileBannerUrl': 'https://pbs.twimg.com/profile_banners/14777649/1600464122', 'url': 'https://twitter.com/LewisHowes'}</td>\n",
       "      <td>[]</td>\n",
       "      <td>[]</td>\n",
       "      <td>4.0</td>\n",
       "      <td>11.0</td>\n",
       "      <td>...</td>\n",
       "      <td>1</td>\n",
       "      <td>1350929208520929282</td>\n",
       "      <td>en</td>\n",
       "      <td>&lt;a href=\"http://twitter.com/download/iphone\" rel=\"nofollow\"&gt;Twitter for iPhone&lt;/a&gt;</td>\n",
       "      <td>http://twitter.com/download/iphone</td>\n",
       "      <td>Twitter for iPhone</td>\n",
       "      <td>NaN</td>\n",
       "      <td>NaN</td>\n",
       "      <td>NaN</td>\n",
       "      <td>NaN</td>\n",
       "    </tr>\n",
       "    <tr>\n",
       "      <th>18</th>\n",
       "      <td>https://twitter.com/LewisHowes/status/1350102468126883842</td>\n",
       "      <td>2021-01-15 15:28:06+00:00</td>\n",
       "      <td>Protect your inner peace at all costs. Create daily practices and communicate boundaries to make sure the stress and drama of others doesn't consume you. You don't need to be someone else's emotional punching bag. Your energy and happiness is too important. Protect your peace!</td>\n",
       "      <td>Protect your inner peace at all costs. Create daily practices and communicate boundaries to make sure the stress and drama of others doesn’t consume you. You don’t need to be someone else’s emotional punching bag. Your energy and happiness is too important. Protect your peace!</td>\n",
       "      <td>1350102468126883842</td>\n",
       "      <td>{'username': 'LewisHowes', 'displayname': 'Lewis Howes', 'id': 14777649, 'description': 'NY Times Bestselling author. Top Podcast with 300 million downloads. Former pro football current @usath text me here and stay connected! 📲 614-350-3960', 'rawDescription': 'NY Times Bestselling author. Top Podcast with 300 million downloads. Former pro football current @usath text me here and stay connected! 📲 614-350-3960', 'descriptionUrls': [], 'verified': True, 'created': '2008-05-14T19:54:36+00:00', 'followersCount': 193364, 'friendsCount': 34020, 'statusesCount': 131967, 'favouritesCount': 152105, 'listedCount': 5437, 'mediaCount': 4229, 'location': 'Ohio boy in NYC and LA', 'protected': False, 'linkUrl': 'http://lewishowes.com', 'linkTcourl': 'https://t.co/hLkL1LJ3d4', 'profileImageUrl': 'https://pbs.twimg.com/profile_images/904400279113687041/bSzT-5v4_normal.jpg', 'profileBannerUrl': 'https://pbs.twimg.com/profile_banners/14777649/1600464122', 'url': 'https://twitter.com/LewisHowes'}</td>\n",
       "      <td>[]</td>\n",
       "      <td>[]</td>\n",
       "      <td>28.0</td>\n",
       "      <td>157.0</td>\n",
       "      <td>...</td>\n",
       "      <td>13</td>\n",
       "      <td>1350102468126883842</td>\n",
       "      <td>en</td>\n",
       "      <td>&lt;a href=\"http://twitter.com/download/iphone\" rel=\"nofollow\"&gt;Twitter for iPhone&lt;/a&gt;</td>\n",
       "      <td>http://twitter.com/download/iphone</td>\n",
       "      <td>Twitter for iPhone</td>\n",
       "      <td>NaN</td>\n",
       "      <td>NaN</td>\n",
       "      <td>NaN</td>\n",
       "      <td>NaN</td>\n",
       "    </tr>\n",
       "    <tr>\n",
       "      <th>65</th>\n",
       "      <td>https://twitter.com/LewisHowes/status/1349033591230001153</td>\n",
       "      <td>2021-01-12 16:40:46+00:00</td>\n",
       "      <td>You are stronger than you think. The painful moments that hurt you in the past were meant for you. They broke you down so you could become stronger than ever before. I know it was hard. I know you wouldn't wish it on anyone else. But I also know you wouldn't change a thing!</td>\n",
       "      <td>You are stronger than you think. The painful moments that hurt you in the past were meant for you. They broke you down so you could become stronger than ever before. I know it was hard. I know you wouldn’t wish it on anyone else. But I also know you wouldn’t change a thing!</td>\n",
       "      <td>1349033591230001153</td>\n",
       "      <td>{'username': 'LewisHowes', 'displayname': 'Lewis Howes', 'id': 14777649, 'description': 'NY Times Bestselling author. Top Podcast with 300 million downloads. Former pro football current @usath text me here and stay connected! 📲 614-350-3960', 'rawDescription': 'NY Times Bestselling author. Top Podcast with 300 million downloads. Former pro football current @usath text me here and stay connected! 📲 614-350-3960', 'descriptionUrls': [], 'verified': True, 'created': '2008-05-14T19:54:36+00:00', 'followersCount': 193364, 'friendsCount': 34020, 'statusesCount': 131967, 'favouritesCount': 152105, 'listedCount': 5437, 'mediaCount': 4229, 'location': 'Ohio boy in NYC and LA', 'protected': False, 'linkUrl': 'http://lewishowes.com', 'linkTcourl': 'https://t.co/hLkL1LJ3d4', 'profileImageUrl': 'https://pbs.twimg.com/profile_images/904400279113687041/bSzT-5v4_normal.jpg', 'profileBannerUrl': 'https://pbs.twimg.com/profile_banners/14777649/1600464122', 'url': 'https://twitter.com/LewisHowes'}</td>\n",
       "      <td>[]</td>\n",
       "      <td>[]</td>\n",
       "      <td>22.0</td>\n",
       "      <td>143.0</td>\n",
       "      <td>...</td>\n",
       "      <td>11</td>\n",
       "      <td>1349033591230001153</td>\n",
       "      <td>en</td>\n",
       "      <td>&lt;a href=\"http://twitter.com/download/iphone\" rel=\"nofollow\"&gt;Twitter for iPhone&lt;/a&gt;</td>\n",
       "      <td>http://twitter.com/download/iphone</td>\n",
       "      <td>Twitter for iPhone</td>\n",
       "      <td>NaN</td>\n",
       "      <td>NaN</td>\n",
       "      <td>NaN</td>\n",
       "      <td>NaN</td>\n",
       "    </tr>\n",
       "    <tr>\n",
       "      <th>118</th>\n",
       "      <td>https://twitter.com/LewisHowes/status/1347211512696344577</td>\n",
       "      <td>2021-01-07 16:00:29+00:00</td>\n",
       "      <td>Always remember to ask for exactly what you want. Ask for love, good health, abundance and peace. Ask for wisdom, creativity and positive energy. Don't be shy in your dreams. Be bold and live in gratitude because everything you want is coming to you.</td>\n",
       "      <td>Always remember to ask for exactly what you want. Ask for love, good health, abundance and peace. Ask for wisdom, creativity and positive energy. Don’t be shy in your dreams. Be bold and live in gratitude because everything you want is coming to you.</td>\n",
       "      <td>1347211512696344577</td>\n",
       "      <td>{'username': 'LewisHowes', 'displayname': 'Lewis Howes', 'id': 14777649, 'description': 'NY Times Bestselling author. Top Podcast with 300 million downloads. Former pro football current @usath text me here and stay connected! 📲 614-350-3960', 'rawDescription': 'NY Times Bestselling author. Top Podcast with 300 million downloads. Former pro football current @usath text me here and stay connected! 📲 614-350-3960', 'descriptionUrls': [], 'verified': True, 'created': '2008-05-14T19:54:36+00:00', 'followersCount': 193364, 'friendsCount': 34020, 'statusesCount': 131967, 'favouritesCount': 152105, 'listedCount': 5437, 'mediaCount': 4229, 'location': 'Ohio boy in NYC and LA', 'protected': False, 'linkUrl': 'http://lewishowes.com', 'linkTcourl': 'https://t.co/hLkL1LJ3d4', 'profileImageUrl': 'https://pbs.twimg.com/profile_images/904400279113687041/bSzT-5v4_normal.jpg', 'profileBannerUrl': 'https://pbs.twimg.com/profile_banners/14777649/1600464122', 'url': 'https://twitter.com/LewisHowes'}</td>\n",
       "      <td>[]</td>\n",
       "      <td>[]</td>\n",
       "      <td>33.0</td>\n",
       "      <td>210.0</td>\n",
       "      <td>...</td>\n",
       "      <td>15</td>\n",
       "      <td>1347211512696344577</td>\n",
       "      <td>en</td>\n",
       "      <td>&lt;a href=\"http://twitter.com/download/iphone\" rel=\"nofollow\"&gt;Twitter for iPhone&lt;/a&gt;</td>\n",
       "      <td>http://twitter.com/download/iphone</td>\n",
       "      <td>Twitter for iPhone</td>\n",
       "      <td>NaN</td>\n",
       "      <td>NaN</td>\n",
       "      <td>NaN</td>\n",
       "      <td>NaN</td>\n",
       "    </tr>\n",
       "    <tr>\n",
       "      <th>163</th>\n",
       "      <td>https://twitter.com/LewisHowes/status/1346247892957237249</td>\n",
       "      <td>2021-01-05 00:11:24+00:00</td>\n",
       "      <td>What if you treated yourself like someone you were madly in love with? Imagine what you could do with all that positive energy. Stop beating yourself up for not being perfect and start loving yourself the way you would with someone you care about.</td>\n",
       "      <td>What if you treated yourself like someone you were madly in love with? Imagine what you could do with all that positive energy. Stop beating yourself up for not being perfect and start loving yourself the way you would with someone you care about.</td>\n",
       "      <td>1346247892957237249</td>\n",
       "      <td>{'username': 'LewisHowes', 'displayname': 'Lewis Howes', 'id': 14777649, 'description': 'NY Times Bestselling author. Top Podcast with 300 million downloads. Former pro football current @usath text me here and stay connected! 📲 614-350-3960', 'rawDescription': 'NY Times Bestselling author. Top Podcast with 300 million downloads. Former pro football current @usath text me here and stay connected! 📲 614-350-3960', 'descriptionUrls': [], 'verified': True, 'created': '2008-05-14T19:54:36+00:00', 'followersCount': 193364, 'friendsCount': 34020, 'statusesCount': 131967, 'favouritesCount': 152105, 'listedCount': 5437, 'mediaCount': 4229, 'location': 'Ohio boy in NYC and LA', 'protected': False, 'linkUrl': 'http://lewishowes.com', 'linkTcourl': 'https://t.co/hLkL1LJ3d4', 'profileImageUrl': 'https://pbs.twimg.com/profile_images/904400279113687041/bSzT-5v4_normal.jpg', 'profileBannerUrl': 'https://pbs.twimg.com/profile_banners/14777649/1600464122', 'url': 'https://twitter.com/LewisHowes'}</td>\n",
       "      <td>[]</td>\n",
       "      <td>[]</td>\n",
       "      <td>26.0</td>\n",
       "      <td>192.0</td>\n",
       "      <td>...</td>\n",
       "      <td>22</td>\n",
       "      <td>1346247892957237249</td>\n",
       "      <td>en</td>\n",
       "      <td>&lt;a href=\"http://twitter.com/download/iphone\" rel=\"nofollow\"&gt;Twitter for iPhone&lt;/a&gt;</td>\n",
       "      <td>http://twitter.com/download/iphone</td>\n",
       "      <td>Twitter for iPhone</td>\n",
       "      <td>NaN</td>\n",
       "      <td>NaN</td>\n",
       "      <td>NaN</td>\n",
       "      <td>NaN</td>\n",
       "    </tr>\n",
       "  </tbody>\n",
       "</table>\n",
       "<p>5 rows × 21 columns</p>\n",
       "</div>"
      ],
      "text/plain": [
       "                                                           url  \\\n",
       "1    https://twitter.com/LewisHowes/status/1350929208520929282   \n",
       "18   https://twitter.com/LewisHowes/status/1350102468126883842   \n",
       "65   https://twitter.com/LewisHowes/status/1349033591230001153   \n",
       "118  https://twitter.com/LewisHowes/status/1347211512696344577   \n",
       "163  https://twitter.com/LewisHowes/status/1346247892957237249   \n",
       "\n",
       "                          date  \\\n",
       "1    2021-01-17 22:13:17+00:00   \n",
       "18   2021-01-15 15:28:06+00:00   \n",
       "65   2021-01-12 16:40:46+00:00   \n",
       "118  2021-01-07 16:00:29+00:00   \n",
       "163  2021-01-05 00:11:24+00:00   \n",
       "\n",
       "                                                                                                                                                                                                                                                                                     content  \\\n",
       "1    Know this. Everything is happening for a reason and in your favor for the betterment of your future. The pain you feel now will help later if you:  1. Look at what's not serving you 2. Listen to your intuition 3. Learn the meaning behind it 4. Let go of limits that hold you back   \n",
       "18     Protect your inner peace at all costs. Create daily practices and communicate boundaries to make sure the stress and drama of others doesn't consume you. You don't need to be someone else's emotional punching bag. Your energy and happiness is too important. Protect your peace!   \n",
       "65        You are stronger than you think. The painful moments that hurt you in the past were meant for you. They broke you down so you could become stronger than ever before. I know it was hard. I know you wouldn't wish it on anyone else. But I also know you wouldn't change a thing!   \n",
       "118                               Always remember to ask for exactly what you want. Ask for love, good health, abundance and peace. Ask for wisdom, creativity and positive energy. Don't be shy in your dreams. Be bold and live in gratitude because everything you want is coming to you.   \n",
       "163                                  What if you treated yourself like someone you were madly in love with? Imagine what you could do with all that positive energy. Stop beating yourself up for not being perfect and start loving yourself the way you would with someone you care about.   \n",
       "\n",
       "                                                                                                                                                                                                                                                                                  renderedContent  \\\n",
       "1    Know this. Everything is happening for a reason and in your favor for the betterment of your future. The pain you feel now will help later if you:\\n\\n1. Look at what’s not serving you\\n2. Listen to your intuition\\n3. Learn the meaning behind it\\n4. Let go of limits that hold you back   \n",
       "18          Protect your inner peace at all costs. Create daily practices and communicate boundaries to make sure the stress and drama of others doesn’t consume you. You don’t need to be someone else’s emotional punching bag. Your energy and happiness is too important. Protect your peace!   \n",
       "65             You are stronger than you think. The painful moments that hurt you in the past were meant for you. They broke you down so you could become stronger than ever before. I know it was hard. I know you wouldn’t wish it on anyone else. But I also know you wouldn’t change a thing!   \n",
       "118                                    Always remember to ask for exactly what you want. Ask for love, good health, abundance and peace. Ask for wisdom, creativity and positive energy. Don’t be shy in your dreams. Be bold and live in gratitude because everything you want is coming to you.   \n",
       "163                                       What if you treated yourself like someone you were madly in love with? Imagine what you could do with all that positive energy. Stop beating yourself up for not being perfect and start loving yourself the way you would with someone you care about.   \n",
       "\n",
       "                      id  \\\n",
       "1    1350929208520929282   \n",
       "18   1350102468126883842   \n",
       "65   1349033591230001153   \n",
       "118  1347211512696344577   \n",
       "163  1346247892957237249   \n",
       "\n",
       "                                                                                                                                                                                                                                                                                                                                                                                                                                                                                                                                                                                                                                                                                                                                                                                                                                                                                                                                                                                                                                  user  \\\n",
       "1    {'username': 'LewisHowes', 'displayname': 'Lewis Howes', 'id': 14777649, 'description': 'NY Times Bestselling author. Top Podcast with 300 million downloads. Former pro football current @usath text me here and stay connected! 📲 614-350-3960', 'rawDescription': 'NY Times Bestselling author. Top Podcast with 300 million downloads. Former pro football current @usath text me here and stay connected! 📲 614-350-3960', 'descriptionUrls': [], 'verified': True, 'created': '2008-05-14T19:54:36+00:00', 'followersCount': 193364, 'friendsCount': 34020, 'statusesCount': 131967, 'favouritesCount': 152105, 'listedCount': 5437, 'mediaCount': 4229, 'location': 'Ohio boy in NYC and LA', 'protected': False, 'linkUrl': 'http://lewishowes.com', 'linkTcourl': 'https://t.co/hLkL1LJ3d4', 'profileImageUrl': 'https://pbs.twimg.com/profile_images/904400279113687041/bSzT-5v4_normal.jpg', 'profileBannerUrl': 'https://pbs.twimg.com/profile_banners/14777649/1600464122', 'url': 'https://twitter.com/LewisHowes'}   \n",
       "18   {'username': 'LewisHowes', 'displayname': 'Lewis Howes', 'id': 14777649, 'description': 'NY Times Bestselling author. Top Podcast with 300 million downloads. Former pro football current @usath text me here and stay connected! 📲 614-350-3960', 'rawDescription': 'NY Times Bestselling author. Top Podcast with 300 million downloads. Former pro football current @usath text me here and stay connected! 📲 614-350-3960', 'descriptionUrls': [], 'verified': True, 'created': '2008-05-14T19:54:36+00:00', 'followersCount': 193364, 'friendsCount': 34020, 'statusesCount': 131967, 'favouritesCount': 152105, 'listedCount': 5437, 'mediaCount': 4229, 'location': 'Ohio boy in NYC and LA', 'protected': False, 'linkUrl': 'http://lewishowes.com', 'linkTcourl': 'https://t.co/hLkL1LJ3d4', 'profileImageUrl': 'https://pbs.twimg.com/profile_images/904400279113687041/bSzT-5v4_normal.jpg', 'profileBannerUrl': 'https://pbs.twimg.com/profile_banners/14777649/1600464122', 'url': 'https://twitter.com/LewisHowes'}   \n",
       "65   {'username': 'LewisHowes', 'displayname': 'Lewis Howes', 'id': 14777649, 'description': 'NY Times Bestselling author. Top Podcast with 300 million downloads. Former pro football current @usath text me here and stay connected! 📲 614-350-3960', 'rawDescription': 'NY Times Bestselling author. Top Podcast with 300 million downloads. Former pro football current @usath text me here and stay connected! 📲 614-350-3960', 'descriptionUrls': [], 'verified': True, 'created': '2008-05-14T19:54:36+00:00', 'followersCount': 193364, 'friendsCount': 34020, 'statusesCount': 131967, 'favouritesCount': 152105, 'listedCount': 5437, 'mediaCount': 4229, 'location': 'Ohio boy in NYC and LA', 'protected': False, 'linkUrl': 'http://lewishowes.com', 'linkTcourl': 'https://t.co/hLkL1LJ3d4', 'profileImageUrl': 'https://pbs.twimg.com/profile_images/904400279113687041/bSzT-5v4_normal.jpg', 'profileBannerUrl': 'https://pbs.twimg.com/profile_banners/14777649/1600464122', 'url': 'https://twitter.com/LewisHowes'}   \n",
       "118  {'username': 'LewisHowes', 'displayname': 'Lewis Howes', 'id': 14777649, 'description': 'NY Times Bestselling author. Top Podcast with 300 million downloads. Former pro football current @usath text me here and stay connected! 📲 614-350-3960', 'rawDescription': 'NY Times Bestselling author. Top Podcast with 300 million downloads. Former pro football current @usath text me here and stay connected! 📲 614-350-3960', 'descriptionUrls': [], 'verified': True, 'created': '2008-05-14T19:54:36+00:00', 'followersCount': 193364, 'friendsCount': 34020, 'statusesCount': 131967, 'favouritesCount': 152105, 'listedCount': 5437, 'mediaCount': 4229, 'location': 'Ohio boy in NYC and LA', 'protected': False, 'linkUrl': 'http://lewishowes.com', 'linkTcourl': 'https://t.co/hLkL1LJ3d4', 'profileImageUrl': 'https://pbs.twimg.com/profile_images/904400279113687041/bSzT-5v4_normal.jpg', 'profileBannerUrl': 'https://pbs.twimg.com/profile_banners/14777649/1600464122', 'url': 'https://twitter.com/LewisHowes'}   \n",
       "163  {'username': 'LewisHowes', 'displayname': 'Lewis Howes', 'id': 14777649, 'description': 'NY Times Bestselling author. Top Podcast with 300 million downloads. Former pro football current @usath text me here and stay connected! 📲 614-350-3960', 'rawDescription': 'NY Times Bestselling author. Top Podcast with 300 million downloads. Former pro football current @usath text me here and stay connected! 📲 614-350-3960', 'descriptionUrls': [], 'verified': True, 'created': '2008-05-14T19:54:36+00:00', 'followersCount': 193364, 'friendsCount': 34020, 'statusesCount': 131967, 'favouritesCount': 152105, 'listedCount': 5437, 'mediaCount': 4229, 'location': 'Ohio boy in NYC and LA', 'protected': False, 'linkUrl': 'http://lewishowes.com', 'linkTcourl': 'https://t.co/hLkL1LJ3d4', 'profileImageUrl': 'https://pbs.twimg.com/profile_images/904400279113687041/bSzT-5v4_normal.jpg', 'profileBannerUrl': 'https://pbs.twimg.com/profile_banners/14777649/1600464122', 'url': 'https://twitter.com/LewisHowes'}   \n",
       "\n",
       "    outlinks tcooutlinks  replyCount  retweetCount  ... quoteCount  \\\n",
       "1         []          []         4.0          11.0  ...          1   \n",
       "18        []          []        28.0         157.0  ...         13   \n",
       "65        []          []        22.0         143.0  ...         11   \n",
       "118       []          []        33.0         210.0  ...         15   \n",
       "163       []          []        26.0         192.0  ...         22   \n",
       "\n",
       "          conversationId lang  \\\n",
       "1    1350929208520929282   en   \n",
       "18   1350102468126883842   en   \n",
       "65   1349033591230001153   en   \n",
       "118  1347211512696344577   en   \n",
       "163  1346247892957237249   en   \n",
       "\n",
       "                                                                                 source  \\\n",
       "1    <a href=\"http://twitter.com/download/iphone\" rel=\"nofollow\">Twitter for iPhone</a>   \n",
       "18   <a href=\"http://twitter.com/download/iphone\" rel=\"nofollow\">Twitter for iPhone</a>   \n",
       "65   <a href=\"http://twitter.com/download/iphone\" rel=\"nofollow\">Twitter for iPhone</a>   \n",
       "118  <a href=\"http://twitter.com/download/iphone\" rel=\"nofollow\">Twitter for iPhone</a>   \n",
       "163  <a href=\"http://twitter.com/download/iphone\" rel=\"nofollow\">Twitter for iPhone</a>   \n",
       "\n",
       "                              sourceUrl         sourceLabel media  \\\n",
       "1    http://twitter.com/download/iphone  Twitter for iPhone   NaN   \n",
       "18   http://twitter.com/download/iphone  Twitter for iPhone   NaN   \n",
       "65   http://twitter.com/download/iphone  Twitter for iPhone   NaN   \n",
       "118  http://twitter.com/download/iphone  Twitter for iPhone   NaN   \n",
       "163  http://twitter.com/download/iphone  Twitter for iPhone   NaN   \n",
       "\n",
       "    retweetedTweet  quotedTweet mentionedUsers  \n",
       "1              NaN          NaN            NaN  \n",
       "18             NaN          NaN            NaN  \n",
       "65             NaN          NaN            NaN  \n",
       "118            NaN          NaN            NaN  \n",
       "163            NaN          NaN            NaN  \n",
       "\n",
       "[5 rows x 21 columns]"
      ]
     },
     "execution_count": 23,
     "metadata": {},
     "output_type": "execute_result"
    },
    {
     "data": {
      "application/javascript": [
       "\n",
       "            setTimeout(function() {\n",
       "                var nbb_cell_id = 23;\n",
       "                var nbb_unformatted_code = \"tweets4.head()\";\n",
       "                var nbb_formatted_code = \"tweets4.head()\";\n",
       "                var nbb_cells = Jupyter.notebook.get_cells();\n",
       "                for (var i = 0; i < nbb_cells.length; ++i) {\n",
       "                    if (nbb_cells[i].input_prompt_number == nbb_cell_id) {\n",
       "                        if (nbb_cells[i].get_text() == nbb_unformatted_code) {\n",
       "                             nbb_cells[i].set_text(nbb_formatted_code);\n",
       "                        }\n",
       "                        break;\n",
       "                    }\n",
       "                }\n",
       "            }, 500);\n",
       "            "
      ],
      "text/plain": [
       "<IPython.core.display.Javascript object>"
      ]
     },
     "metadata": {},
     "output_type": "display_data"
    }
   ],
   "source": [
    "tweets4.head()"
   ]
  },
  {
   "cell_type": "code",
   "execution_count": 25,
   "metadata": {},
   "outputs": [
    {
     "data": {
      "text/plain": [
       "1         Know this. Everything is happening for a reason and in your favor for the betterment of your future. The pain you feel now will help later if you:  1. Look at what's not serving you 2. Listen to your intuition 3. Learn the meaning behind it 4. Let go of limits that hold you back\n",
       "18          Protect your inner peace at all costs. Create daily practices and communicate boundaries to make sure the stress and drama of others doesn't consume you. You don't need to be someone else's emotional punching bag. Your energy and happiness is too important. Protect your peace!\n",
       "65             You are stronger than you think. The painful moments that hurt you in the past were meant for you. They broke you down so you could become stronger than ever before. I know it was hard. I know you wouldn't wish it on anyone else. But I also know you wouldn't change a thing!\n",
       "118                                    Always remember to ask for exactly what you want. Ask for love, good health, abundance and peace. Ask for wisdom, creativity and positive energy. Don't be shy in your dreams. Be bold and live in gratitude because everything you want is coming to you.\n",
       "163                                       What if you treated yourself like someone you were madly in love with? Imagine what you could do with all that positive energy. Stop beating yourself up for not being perfect and start loving yourself the way you would with someone you care about.\n",
       "                                                                                                                                                   ...                                                                                                                                           \n",
       "977135                                                                                                                                                               \"You can easily judge the character of a man by how he treats those who can do nothing for him.\" -James Miles #quote #quotes\n",
       "977136                                                                                                                                                                                                                    Learning is a gift, even when pain is your teacher. #lifelesson #quotes\n",
       "977137                                                                                                                                                              \"Education is the passport to the future, for tomorrow belongs to those who prepare for it today.\" - Malcolm X #quote #quotes\n",
       "977138                                                                                                                                                           \"Life is like a finger, pointing to the Moon. If you look at the finger... you will miss all the heavenly glory.\" #quote #quotes\n",
       "977139                                                                                                                                                                                 Go as far as you can see; when you get there, you'll be able to see farther. - J. P. Morgan #quote #quotes\n",
       "Name: content, Length: 697354, dtype: object"
      ]
     },
     "execution_count": 25,
     "metadata": {},
     "output_type": "execute_result"
    },
    {
     "data": {
      "application/javascript": [
       "\n",
       "            setTimeout(function() {\n",
       "                var nbb_cell_id = 25;\n",
       "                var nbb_unformatted_code = \"tweets4[\\\"content\\\"][:-20]\";\n",
       "                var nbb_formatted_code = \"tweets4[\\\"content\\\"][:-20]\";\n",
       "                var nbb_cells = Jupyter.notebook.get_cells();\n",
       "                for (var i = 0; i < nbb_cells.length; ++i) {\n",
       "                    if (nbb_cells[i].input_prompt_number == nbb_cell_id) {\n",
       "                        if (nbb_cells[i].get_text() == nbb_unformatted_code) {\n",
       "                             nbb_cells[i].set_text(nbb_formatted_code);\n",
       "                        }\n",
       "                        break;\n",
       "                    }\n",
       "                }\n",
       "            }, 500);\n",
       "            "
      ],
      "text/plain": [
       "<IPython.core.display.Javascript object>"
      ]
     },
     "metadata": {},
     "output_type": "display_data"
    }
   ],
   "source": [
    "tweets4[\"content\"][:-20]"
   ]
  },
  {
   "cell_type": "markdown",
   "metadata": {},
   "source": [
    "We do see we will have to remove hashtage as well from our tweets. "
   ]
  },
  {
   "cell_type": "code",
   "execution_count": 26,
   "metadata": {},
   "outputs": [
    {
     "data": {
      "application/javascript": [
       "\n",
       "            setTimeout(function() {\n",
       "                var nbb_cell_id = 26;\n",
       "                var nbb_unformatted_code = \"def remove_hashtags(text):\\n    text = re.sub(\\\"#\\\\S+\\\", \\\"\\\", str(text))\\n    return text\";\n",
       "                var nbb_formatted_code = \"def remove_hashtags(text):\\n    text = re.sub(\\\"#\\\\S+\\\", \\\"\\\", str(text))\\n    return text\";\n",
       "                var nbb_cells = Jupyter.notebook.get_cells();\n",
       "                for (var i = 0; i < nbb_cells.length; ++i) {\n",
       "                    if (nbb_cells[i].input_prompt_number == nbb_cell_id) {\n",
       "                        if (nbb_cells[i].get_text() == nbb_unformatted_code) {\n",
       "                             nbb_cells[i].set_text(nbb_formatted_code);\n",
       "                        }\n",
       "                        break;\n",
       "                    }\n",
       "                }\n",
       "            }, 500);\n",
       "            "
      ],
      "text/plain": [
       "<IPython.core.display.Javascript object>"
      ]
     },
     "metadata": {},
     "output_type": "display_data"
    }
   ],
   "source": [
    "def remove_hashtags(text):\n",
    "    text = re.sub(\"#\\S+\", \"\", str(text))\n",
    "    return text"
   ]
  },
  {
   "cell_type": "code",
   "execution_count": 27,
   "metadata": {},
   "outputs": [
    {
     "data": {
      "application/javascript": [
       "\n",
       "            setTimeout(function() {\n",
       "                var nbb_cell_id = 27;\n",
       "                var nbb_unformatted_code = \"tweets5 = tweets4.copy()\\n\\nno_hashtags = [remove_hashtags(text) for text in tweets5[\\\"content\\\"]]\";\n",
       "                var nbb_formatted_code = \"tweets5 = tweets4.copy()\\n\\nno_hashtags = [remove_hashtags(text) for text in tweets5[\\\"content\\\"]]\";\n",
       "                var nbb_cells = Jupyter.notebook.get_cells();\n",
       "                for (var i = 0; i < nbb_cells.length; ++i) {\n",
       "                    if (nbb_cells[i].input_prompt_number == nbb_cell_id) {\n",
       "                        if (nbb_cells[i].get_text() == nbb_unformatted_code) {\n",
       "                             nbb_cells[i].set_text(nbb_formatted_code);\n",
       "                        }\n",
       "                        break;\n",
       "                    }\n",
       "                }\n",
       "            }, 500);\n",
       "            "
      ],
      "text/plain": [
       "<IPython.core.display.Javascript object>"
      ]
     },
     "metadata": {},
     "output_type": "display_data"
    }
   ],
   "source": [
    "tweets5 = tweets4.copy()\n",
    "\n",
    "no_hashtags = [remove_hashtags(text) for text in tweets5[\"content\"]]"
   ]
  },
  {
   "cell_type": "code",
   "execution_count": 29,
   "metadata": {},
   "outputs": [
    {
     "data": {
      "text/plain": [
       "1         Know this. Everything is happening for a reason and in your favor for the betterment of your future. The pain you feel now will help later if you:  1. Look at what's not serving you 2. Listen to your intuition 3. Learn the meaning behind it 4. Let go of limits that hold you back\n",
       "18          Protect your inner peace at all costs. Create daily practices and communicate boundaries to make sure the stress and drama of others doesn't consume you. You don't need to be someone else's emotional punching bag. Your energy and happiness is too important. Protect your peace!\n",
       "65             You are stronger than you think. The painful moments that hurt you in the past were meant for you. They broke you down so you could become stronger than ever before. I know it was hard. I know you wouldn't wish it on anyone else. But I also know you wouldn't change a thing!\n",
       "118                                    Always remember to ask for exactly what you want. Ask for love, good health, abundance and peace. Ask for wisdom, creativity and positive energy. Don't be shy in your dreams. Be bold and live in gratitude because everything you want is coming to you.\n",
       "163                                       What if you treated yourself like someone you were madly in love with? Imagine what you could do with all that positive energy. Stop beating yourself up for not being perfect and start loving yourself the way you would with someone you care about.\n",
       "                                                                                                                                                   ...                                                                                                                                           \n",
       "977135                                                                                                                                                                            \"You can easily judge the character of a man by how he treats those who can do nothing for him.\" -James Miles  \n",
       "977136                                                                                                                                                                                                                                      Learning is a gift, even when pain is your teacher.  \n",
       "977137                                                                                                                                                                           \"Education is the passport to the future, for tomorrow belongs to those who prepare for it today.\" - Malcolm X  \n",
       "977138                                                                                                                                                                        \"Life is like a finger, pointing to the Moon. If you look at the finger... you will miss all the heavenly glory.\"  \n",
       "977139                                                                                                                                                                                              Go as far as you can see; when you get there, you'll be able to see farther. - J. P. Morgan  \n",
       "Name: content, Length: 697354, dtype: object"
      ]
     },
     "execution_count": 29,
     "metadata": {},
     "output_type": "execute_result"
    },
    {
     "data": {
      "application/javascript": [
       "\n",
       "            setTimeout(function() {\n",
       "                var nbb_cell_id = 29;\n",
       "                var nbb_unformatted_code = \"tweets5[\\\"content\\\"] = no_hashtags\\n\\ntweets5[\\\"content\\\"][:-20]\";\n",
       "                var nbb_formatted_code = \"tweets5[\\\"content\\\"] = no_hashtags\\n\\ntweets5[\\\"content\\\"][:-20]\";\n",
       "                var nbb_cells = Jupyter.notebook.get_cells();\n",
       "                for (var i = 0; i < nbb_cells.length; ++i) {\n",
       "                    if (nbb_cells[i].input_prompt_number == nbb_cell_id) {\n",
       "                        if (nbb_cells[i].get_text() == nbb_unformatted_code) {\n",
       "                             nbb_cells[i].set_text(nbb_formatted_code);\n",
       "                        }\n",
       "                        break;\n",
       "                    }\n",
       "                }\n",
       "            }, 500);\n",
       "            "
      ],
      "text/plain": [
       "<IPython.core.display.Javascript object>"
      ]
     },
     "metadata": {},
     "output_type": "display_data"
    }
   ],
   "source": [
    "tweets5[\"content\"] = no_hashtags\n",
    "\n",
    "tweets5[\"content\"][:-20]"
   ]
  },
  {
   "cell_type": "code",
   "execution_count": 32,
   "metadata": {},
   "outputs": [
    {
     "data": {
      "text/plain": [
       "(697374, 21)"
      ]
     },
     "execution_count": 32,
     "metadata": {},
     "output_type": "execute_result"
    },
    {
     "data": {
      "application/javascript": [
       "\n",
       "            setTimeout(function() {\n",
       "                var nbb_cell_id = 32;\n",
       "                var nbb_unformatted_code = \"tweets5.shape\";\n",
       "                var nbb_formatted_code = \"tweets5.shape\";\n",
       "                var nbb_cells = Jupyter.notebook.get_cells();\n",
       "                for (var i = 0; i < nbb_cells.length; ++i) {\n",
       "                    if (nbb_cells[i].input_prompt_number == nbb_cell_id) {\n",
       "                        if (nbb_cells[i].get_text() == nbb_unformatted_code) {\n",
       "                             nbb_cells[i].set_text(nbb_formatted_code);\n",
       "                        }\n",
       "                        break;\n",
       "                    }\n",
       "                }\n",
       "            }, 500);\n",
       "            "
      ],
      "text/plain": [
       "<IPython.core.display.Javascript object>"
      ]
     },
     "metadata": {},
     "output_type": "display_data"
    }
   ],
   "source": [
    "tweets5.shape"
   ]
  },
  {
   "cell_type": "code",
   "execution_count": 33,
   "metadata": {
    "scrolled": true
   },
   "outputs": [
    {
     "data": {
      "text/plain": [
       "en     696632\n",
       "fr        253\n",
       "tl        236\n",
       "es         55\n",
       "de         47\n",
       "ca         42\n",
       "und        28\n",
       "et         17\n",
       "it         10\n",
       "vi          8\n",
       "ro          6\n",
       "da          6\n",
       "in          5\n",
       "no          5\n",
       "cy          3\n",
       "pt          3\n",
       "nl          2\n",
       "ht          1\n",
       "cs          1\n",
       "lt          1\n",
       "Name: lang, dtype: int64"
      ]
     },
     "execution_count": 33,
     "metadata": {},
     "output_type": "execute_result"
    },
    {
     "data": {
      "application/javascript": [
       "\n",
       "            setTimeout(function() {\n",
       "                var nbb_cell_id = 33;\n",
       "                var nbb_unformatted_code = \"tweets5[\\\"lang\\\"].value_counts()\";\n",
       "                var nbb_formatted_code = \"tweets5[\\\"lang\\\"].value_counts()\";\n",
       "                var nbb_cells = Jupyter.notebook.get_cells();\n",
       "                for (var i = 0; i < nbb_cells.length; ++i) {\n",
       "                    if (nbb_cells[i].input_prompt_number == nbb_cell_id) {\n",
       "                        if (nbb_cells[i].get_text() == nbb_unformatted_code) {\n",
       "                             nbb_cells[i].set_text(nbb_formatted_code);\n",
       "                        }\n",
       "                        break;\n",
       "                    }\n",
       "                }\n",
       "            }, 500);\n",
       "            "
      ],
      "text/plain": [
       "<IPython.core.display.Javascript object>"
      ]
     },
     "metadata": {},
     "output_type": "display_data"
    }
   ],
   "source": [
    "tweets5[\"lang\"].value_counts()"
   ]
  },
  {
   "cell_type": "code",
   "execution_count": 34,
   "metadata": {},
   "outputs": [
    {
     "name": "stderr",
     "output_type": "stream",
     "text": [
      "/opt/anaconda3/lib/python3.7/site-packages/ipykernel_launcher.py:2: UserWarning: Boolean Series key will be reindexed to match DataFrame index.\n",
      "  \n"
     ]
    },
    {
     "data": {
      "text/plain": [
       "en    696632\n",
       "Name: lang, dtype: int64"
      ]
     },
     "execution_count": 34,
     "metadata": {},
     "output_type": "execute_result"
    },
    {
     "data": {
      "application/javascript": [
       "\n",
       "            setTimeout(function() {\n",
       "                var nbb_cell_id = 34;\n",
       "                var nbb_unformatted_code = \"# remove non-english tweets\\ntweets6 = tweets5[tweets['lang'] == 'en']\\n\\ntweets6[\\\"lang\\\"].value_counts()\";\n",
       "                var nbb_formatted_code = \"# remove non-english tweets\\ntweets6 = tweets5[tweets[\\\"lang\\\"] == \\\"en\\\"]\\n\\ntweets6[\\\"lang\\\"].value_counts()\";\n",
       "                var nbb_cells = Jupyter.notebook.get_cells();\n",
       "                for (var i = 0; i < nbb_cells.length; ++i) {\n",
       "                    if (nbb_cells[i].input_prompt_number == nbb_cell_id) {\n",
       "                        if (nbb_cells[i].get_text() == nbb_unformatted_code) {\n",
       "                             nbb_cells[i].set_text(nbb_formatted_code);\n",
       "                        }\n",
       "                        break;\n",
       "                    }\n",
       "                }\n",
       "            }, 500);\n",
       "            "
      ],
      "text/plain": [
       "<IPython.core.display.Javascript object>"
      ]
     },
     "metadata": {},
     "output_type": "display_data"
    }
   ],
   "source": [
    "# remove non-english tweets\n",
    "tweets6 = tweets5[tweets[\"lang\"] == \"en\"]\n",
    "\n",
    "tweets6[\"lang\"].value_counts()"
   ]
  },
  {
   "cell_type": "markdown",
   "metadata": {},
   "source": [
    "Next, we will remove unnecessary columns for our chatbot. "
   ]
  },
  {
   "cell_type": "code",
   "execution_count": null,
   "metadata": {},
   "outputs": [],
   "source": [
    "# remove cuss words"
   ]
  },
  {
   "cell_type": "code",
   "execution_count": null,
   "metadata": {},
   "outputs": [],
   "source": [
    "# tweet bot will have a drop down for topic and seperate one for twitter user account\n"
   ]
  },
  {
   "cell_type": "code",
   "execution_count": null,
   "metadata": {},
   "outputs": [],
   "source": []
  }
 ],
 "metadata": {
  "kernelspec": {
   "display_name": "Python 3",
   "language": "python",
   "name": "python3"
  },
  "language_info": {
   "codemirror_mode": {
    "name": "ipython",
    "version": 3
   },
   "file_extension": ".py",
   "mimetype": "text/x-python",
   "name": "python",
   "nbconvert_exporter": "python",
   "pygments_lexer": "ipython3",
   "version": "3.7.6"
  }
 },
 "nbformat": 4,
 "nbformat_minor": 4
}
