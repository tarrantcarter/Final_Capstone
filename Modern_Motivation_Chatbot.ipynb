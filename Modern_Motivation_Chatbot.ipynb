{
 "cells": [
  {
   "cell_type": "code",
   "execution_count": 2,
   "metadata": {},
   "outputs": [
    {
     "data": {
      "application/javascript": [
       "\n",
       "            setTimeout(function() {\n",
       "                var nbb_cell_id = 2;\n",
       "                var nbb_unformatted_code = \"%load_ext nb_black\";\n",
       "                var nbb_formatted_code = \"%load_ext nb_black\";\n",
       "                var nbb_cells = Jupyter.notebook.get_cells();\n",
       "                for (var i = 0; i < nbb_cells.length; ++i) {\n",
       "                    if (nbb_cells[i].input_prompt_number == nbb_cell_id) {\n",
       "                        if (nbb_cells[i].get_text() == nbb_unformatted_code) {\n",
       "                             nbb_cells[i].set_text(nbb_formatted_code);\n",
       "                        }\n",
       "                        break;\n",
       "                    }\n",
       "                }\n",
       "            }, 500);\n",
       "            "
      ],
      "text/plain": [
       "<IPython.core.display.Javascript object>"
      ]
     },
     "metadata": {},
     "output_type": "display_data"
    }
   ],
   "source": [
    "%load_ext nb_black"
   ]
  },
  {
   "cell_type": "code",
   "execution_count": 3,
   "metadata": {},
   "outputs": [
    {
     "data": {
      "application/javascript": [
       "\n",
       "            setTimeout(function() {\n",
       "                var nbb_cell_id = 3;\n",
       "                var nbb_unformatted_code = \"import pandas as pd\\nimport numpy as np\\nimport time\";\n",
       "                var nbb_formatted_code = \"import pandas as pd\\nimport numpy as np\\nimport time\";\n",
       "                var nbb_cells = Jupyter.notebook.get_cells();\n",
       "                for (var i = 0; i < nbb_cells.length; ++i) {\n",
       "                    if (nbb_cells[i].input_prompt_number == nbb_cell_id) {\n",
       "                        if (nbb_cells[i].get_text() == nbb_unformatted_code) {\n",
       "                             nbb_cells[i].set_text(nbb_formatted_code);\n",
       "                        }\n",
       "                        break;\n",
       "                    }\n",
       "                }\n",
       "            }, 500);\n",
       "            "
      ],
      "text/plain": [
       "<IPython.core.display.Javascript object>"
      ]
     },
     "metadata": {},
     "output_type": "display_data"
    }
   ],
   "source": [
    "import pandas as pd\n",
    "import numpy as np\n",
    "import time"
   ]
  },
  {
   "cell_type": "code",
   "execution_count": 6,
   "metadata": {},
   "outputs": [
    {
     "name": "stderr",
     "output_type": "stream",
     "text": [
      "/opt/anaconda3/lib/python3.7/site-packages/IPython/core/interactiveshell.py:3063: DtypeWarning: Columns (4,10,11,12,17,19,20) have mixed types.Specify dtype option on import or set low_memory=False.\n",
      "  interactivity=interactivity, compiler=compiler, result=result)\n"
     ]
    },
    {
     "data": {
      "application/javascript": [
       "\n",
       "            setTimeout(function() {\n",
       "                var nbb_cell_id = 6;\n",
       "                var nbb_unformatted_code = \"tweets = pd.read_csv(\\n    r\\\"/Users/tarrantcarter/Dropbox/Data Science/Final_Capstone/motivational_tweets.csv\\\"\\n)\";\n",
       "                var nbb_formatted_code = \"tweets = pd.read_csv(\\n    r\\\"/Users/tarrantcarter/Dropbox/Data Science/Final_Capstone/motivational_tweets.csv\\\"\\n)\";\n",
       "                var nbb_cells = Jupyter.notebook.get_cells();\n",
       "                for (var i = 0; i < nbb_cells.length; ++i) {\n",
       "                    if (nbb_cells[i].input_prompt_number == nbb_cell_id) {\n",
       "                        if (nbb_cells[i].get_text() == nbb_unformatted_code) {\n",
       "                             nbb_cells[i].set_text(nbb_formatted_code);\n",
       "                        }\n",
       "                        break;\n",
       "                    }\n",
       "                }\n",
       "            }, 500);\n",
       "            "
      ],
      "text/plain": [
       "<IPython.core.display.Javascript object>"
      ]
     },
     "metadata": {},
     "output_type": "display_data"
    }
   ],
   "source": [
    "# load in scraped tweets from https://github.com/tarrantcarter/Final_Capstone/blob/main/Modern_Motivation_Web_Scrape.ipynb\n",
    "tweets = pd.read_csv(\n",
    "    r\"/Users/tarrantcarter/Dropbox/Data Science/Final_Capstone/motivational_tweets.csv\"\n",
    ")"
   ]
  },
  {
   "cell_type": "code",
   "execution_count": 7,
   "metadata": {},
   "outputs": [
    {
     "data": {
      "text/html": [
       "<div>\n",
       "<style scoped>\n",
       "    .dataframe tbody tr th:only-of-type {\n",
       "        vertical-align: middle;\n",
       "    }\n",
       "\n",
       "    .dataframe tbody tr th {\n",
       "        vertical-align: top;\n",
       "    }\n",
       "\n",
       "    .dataframe thead th {\n",
       "        text-align: right;\n",
       "    }\n",
       "</style>\n",
       "<table border=\"1\" class=\"dataframe\">\n",
       "  <thead>\n",
       "    <tr style=\"text-align: right;\">\n",
       "      <th></th>\n",
       "      <th>url</th>\n",
       "      <th>date</th>\n",
       "      <th>content</th>\n",
       "      <th>renderedContent</th>\n",
       "      <th>id</th>\n",
       "      <th>user</th>\n",
       "      <th>outlinks</th>\n",
       "      <th>tcooutlinks</th>\n",
       "      <th>replyCount</th>\n",
       "      <th>retweetCount</th>\n",
       "      <th>...</th>\n",
       "      <th>quoteCount</th>\n",
       "      <th>conversationId</th>\n",
       "      <th>lang</th>\n",
       "      <th>source</th>\n",
       "      <th>sourceUrl</th>\n",
       "      <th>sourceLabel</th>\n",
       "      <th>media</th>\n",
       "      <th>retweetedTweet</th>\n",
       "      <th>quotedTweet</th>\n",
       "      <th>mentionedUsers</th>\n",
       "    </tr>\n",
       "  </thead>\n",
       "  <tbody>\n",
       "    <tr>\n",
       "      <th>0</th>\n",
       "      <td>https://twitter.com/LewisHowes/status/13509295...</td>\n",
       "      <td>2021-01-17 22:14:40+00:00</td>\n",
       "      <td>@businessbarista The School of Greatness has h...</td>\n",
       "      <td>@businessbarista The School of Greatness has h...</td>\n",
       "      <td>1350929560020410372</td>\n",
       "      <td>{'username': 'LewisHowes', 'displayname': 'Lew...</td>\n",
       "      <td>[]</td>\n",
       "      <td>[]</td>\n",
       "      <td>1.0</td>\n",
       "      <td>0.0</td>\n",
       "      <td>...</td>\n",
       "      <td>0</td>\n",
       "      <td>1350896644489940992</td>\n",
       "      <td>en</td>\n",
       "      <td>&lt;a href=\"http://twitter.com/download/iphone\" r...</td>\n",
       "      <td>http://twitter.com/download/iphone</td>\n",
       "      <td>Twitter for iPhone</td>\n",
       "      <td>NaN</td>\n",
       "      <td>NaN</td>\n",
       "      <td>NaN</td>\n",
       "      <td>[{'username': 'businessbarista', 'displayname'...</td>\n",
       "    </tr>\n",
       "    <tr>\n",
       "      <th>1</th>\n",
       "      <td>https://twitter.com/LewisHowes/status/13509292...</td>\n",
       "      <td>2021-01-17 22:13:17+00:00</td>\n",
       "      <td>Know this. Everything is happening for a reaso...</td>\n",
       "      <td>Know this. Everything is happening for a reaso...</td>\n",
       "      <td>1350929208520929282</td>\n",
       "      <td>{'username': 'LewisHowes', 'displayname': 'Lew...</td>\n",
       "      <td>[]</td>\n",
       "      <td>[]</td>\n",
       "      <td>4.0</td>\n",
       "      <td>11.0</td>\n",
       "      <td>...</td>\n",
       "      <td>1</td>\n",
       "      <td>1350929208520929282</td>\n",
       "      <td>en</td>\n",
       "      <td>&lt;a href=\"http://twitter.com/download/iphone\" r...</td>\n",
       "      <td>http://twitter.com/download/iphone</td>\n",
       "      <td>Twitter for iPhone</td>\n",
       "      <td>NaN</td>\n",
       "      <td>NaN</td>\n",
       "      <td>NaN</td>\n",
       "      <td>NaN</td>\n",
       "    </tr>\n",
       "    <tr>\n",
       "      <th>2</th>\n",
       "      <td>https://twitter.com/LewisHowes/status/13506630...</td>\n",
       "      <td>2021-01-17 04:35:28+00:00</td>\n",
       "      <td>@emilsterndorff @awilkinson @supercast @thecap...</td>\n",
       "      <td>@emilsterndorff @awilkinson @supercast @thecap...</td>\n",
       "      <td>1350663002639400960</td>\n",
       "      <td>{'username': 'LewisHowes', 'displayname': 'Lew...</td>\n",
       "      <td>[]</td>\n",
       "      <td>[]</td>\n",
       "      <td>0.0</td>\n",
       "      <td>0.0</td>\n",
       "      <td>...</td>\n",
       "      <td>0</td>\n",
       "      <td>1350132120094556160</td>\n",
       "      <td>en</td>\n",
       "      <td>&lt;a href=\"http://twitter.com/download/iphone\" r...</td>\n",
       "      <td>http://twitter.com/download/iphone</td>\n",
       "      <td>Twitter for iPhone</td>\n",
       "      <td>NaN</td>\n",
       "      <td>NaN</td>\n",
       "      <td>NaN</td>\n",
       "      <td>[{'username': 'emilsterndorff', 'displayname':...</td>\n",
       "    </tr>\n",
       "    <tr>\n",
       "      <th>3</th>\n",
       "      <td>https://twitter.com/LewisHowes/status/13503847...</td>\n",
       "      <td>2021-01-16 10:09:58+00:00</td>\n",
       "      <td>@theclaudmon Thank you!</td>\n",
       "      <td>@theclaudmon Thank you!</td>\n",
       "      <td>1350384793637314561</td>\n",
       "      <td>{'username': 'LewisHowes', 'displayname': 'Lew...</td>\n",
       "      <td>[]</td>\n",
       "      <td>[]</td>\n",
       "      <td>1.0</td>\n",
       "      <td>0.0</td>\n",
       "      <td>...</td>\n",
       "      <td>0</td>\n",
       "      <td>1350062690539102209</td>\n",
       "      <td>en</td>\n",
       "      <td>&lt;a href=\"http://www.zendesk.com\" rel=\"nofollow...</td>\n",
       "      <td>http://www.zendesk.com</td>\n",
       "      <td>Zendesk</td>\n",
       "      <td>NaN</td>\n",
       "      <td>NaN</td>\n",
       "      <td>NaN</td>\n",
       "      <td>[{'username': 'theclaudmon', 'displayname': 'C...</td>\n",
       "    </tr>\n",
       "    <tr>\n",
       "      <th>4</th>\n",
       "      <td>https://twitter.com/LewisHowes/status/13503805...</td>\n",
       "      <td>2021-01-16 09:53:06+00:00</td>\n",
       "      <td>@MonsieurHolly Thank you!</td>\n",
       "      <td>@MonsieurHolly Thank you!</td>\n",
       "      <td>1350380547806289921</td>\n",
       "      <td>{'username': 'LewisHowes', 'displayname': 'Lew...</td>\n",
       "      <td>[]</td>\n",
       "      <td>[]</td>\n",
       "      <td>0.0</td>\n",
       "      <td>0.0</td>\n",
       "      <td>...</td>\n",
       "      <td>0</td>\n",
       "      <td>1349879719446110209</td>\n",
       "      <td>en</td>\n",
       "      <td>&lt;a href=\"http://www.zendesk.com\" rel=\"nofollow...</td>\n",
       "      <td>http://www.zendesk.com</td>\n",
       "      <td>Zendesk</td>\n",
       "      <td>NaN</td>\n",
       "      <td>NaN</td>\n",
       "      <td>NaN</td>\n",
       "      <td>[{'username': 'MonsieurHolly', 'displayname': ...</td>\n",
       "    </tr>\n",
       "  </tbody>\n",
       "</table>\n",
       "<p>5 rows × 21 columns</p>\n",
       "</div>"
      ],
      "text/plain": [
       "                                                 url  \\\n",
       "0  https://twitter.com/LewisHowes/status/13509295...   \n",
       "1  https://twitter.com/LewisHowes/status/13509292...   \n",
       "2  https://twitter.com/LewisHowes/status/13506630...   \n",
       "3  https://twitter.com/LewisHowes/status/13503847...   \n",
       "4  https://twitter.com/LewisHowes/status/13503805...   \n",
       "\n",
       "                        date  \\\n",
       "0  2021-01-17 22:14:40+00:00   \n",
       "1  2021-01-17 22:13:17+00:00   \n",
       "2  2021-01-17 04:35:28+00:00   \n",
       "3  2021-01-16 10:09:58+00:00   \n",
       "4  2021-01-16 09:53:06+00:00   \n",
       "\n",
       "                                             content  \\\n",
       "0  @businessbarista The School of Greatness has h...   \n",
       "1  Know this. Everything is happening for a reaso...   \n",
       "2  @emilsterndorff @awilkinson @supercast @thecap...   \n",
       "3                            @theclaudmon Thank you!   \n",
       "4                          @MonsieurHolly Thank you!   \n",
       "\n",
       "                                     renderedContent                   id  \\\n",
       "0  @businessbarista The School of Greatness has h...  1350929560020410372   \n",
       "1  Know this. Everything is happening for a reaso...  1350929208520929282   \n",
       "2  @emilsterndorff @awilkinson @supercast @thecap...  1350663002639400960   \n",
       "3                            @theclaudmon Thank you!  1350384793637314561   \n",
       "4                          @MonsieurHolly Thank you!  1350380547806289921   \n",
       "\n",
       "                                                user outlinks tcooutlinks  \\\n",
       "0  {'username': 'LewisHowes', 'displayname': 'Lew...       []          []   \n",
       "1  {'username': 'LewisHowes', 'displayname': 'Lew...       []          []   \n",
       "2  {'username': 'LewisHowes', 'displayname': 'Lew...       []          []   \n",
       "3  {'username': 'LewisHowes', 'displayname': 'Lew...       []          []   \n",
       "4  {'username': 'LewisHowes', 'displayname': 'Lew...       []          []   \n",
       "\n",
       "   replyCount  retweetCount  ... quoteCount       conversationId lang  \\\n",
       "0         1.0           0.0  ...          0  1350896644489940992   en   \n",
       "1         4.0          11.0  ...          1  1350929208520929282   en   \n",
       "2         0.0           0.0  ...          0  1350132120094556160   en   \n",
       "3         1.0           0.0  ...          0  1350062690539102209   en   \n",
       "4         0.0           0.0  ...          0  1349879719446110209   en   \n",
       "\n",
       "                                              source  \\\n",
       "0  <a href=\"http://twitter.com/download/iphone\" r...   \n",
       "1  <a href=\"http://twitter.com/download/iphone\" r...   \n",
       "2  <a href=\"http://twitter.com/download/iphone\" r...   \n",
       "3  <a href=\"http://www.zendesk.com\" rel=\"nofollow...   \n",
       "4  <a href=\"http://www.zendesk.com\" rel=\"nofollow...   \n",
       "\n",
       "                            sourceUrl         sourceLabel media  \\\n",
       "0  http://twitter.com/download/iphone  Twitter for iPhone   NaN   \n",
       "1  http://twitter.com/download/iphone  Twitter for iPhone   NaN   \n",
       "2  http://twitter.com/download/iphone  Twitter for iPhone   NaN   \n",
       "3              http://www.zendesk.com             Zendesk   NaN   \n",
       "4              http://www.zendesk.com             Zendesk   NaN   \n",
       "\n",
       "  retweetedTweet  quotedTweet  \\\n",
       "0            NaN          NaN   \n",
       "1            NaN          NaN   \n",
       "2            NaN          NaN   \n",
       "3            NaN          NaN   \n",
       "4            NaN          NaN   \n",
       "\n",
       "                                      mentionedUsers  \n",
       "0  [{'username': 'businessbarista', 'displayname'...  \n",
       "1                                                NaN  \n",
       "2  [{'username': 'emilsterndorff', 'displayname':...  \n",
       "3  [{'username': 'theclaudmon', 'displayname': 'C...  \n",
       "4  [{'username': 'MonsieurHolly', 'displayname': ...  \n",
       "\n",
       "[5 rows x 21 columns]"
      ]
     },
     "execution_count": 7,
     "metadata": {},
     "output_type": "execute_result"
    },
    {
     "data": {
      "application/javascript": [
       "\n",
       "            setTimeout(function() {\n",
       "                var nbb_cell_id = 7;\n",
       "                var nbb_unformatted_code = \"tweets.head()\";\n",
       "                var nbb_formatted_code = \"tweets.head()\";\n",
       "                var nbb_cells = Jupyter.notebook.get_cells();\n",
       "                for (var i = 0; i < nbb_cells.length; ++i) {\n",
       "                    if (nbb_cells[i].input_prompt_number == nbb_cell_id) {\n",
       "                        if (nbb_cells[i].get_text() == nbb_unformatted_code) {\n",
       "                             nbb_cells[i].set_text(nbb_formatted_code);\n",
       "                        }\n",
       "                        break;\n",
       "                    }\n",
       "                }\n",
       "            }, 500);\n",
       "            "
      ],
      "text/plain": [
       "<IPython.core.display.Javascript object>"
      ]
     },
     "metadata": {},
     "output_type": "display_data"
    }
   ],
   "source": [
    "tweets.head()"
   ]
  },
  {
   "cell_type": "code",
   "execution_count": 8,
   "metadata": {},
   "outputs": [
    {
     "name": "stdout",
     "output_type": "stream",
     "text": [
      "<class 'pandas.core.frame.DataFrame'>\n",
      "RangeIndex: 977162 entries, 0 to 977161\n",
      "Data columns (total 21 columns):\n",
      " #   Column           Non-Null Count   Dtype  \n",
      "---  ------           --------------   -----  \n",
      " 0   url              977162 non-null  object \n",
      " 1   date             977162 non-null  object \n",
      " 2   content          977155 non-null  object \n",
      " 3   renderedContent  977148 non-null  object \n",
      " 4   id               977148 non-null  object \n",
      " 5   user             977148 non-null  object \n",
      " 6   outlinks         977148 non-null  object \n",
      " 7   tcooutlinks      977148 non-null  object \n",
      " 8   replyCount       977148 non-null  float64\n",
      " 9   retweetCount     977148 non-null  float64\n",
      " 10  likeCount        977148 non-null  object \n",
      " 11  quoteCount       977148 non-null  object \n",
      " 12  conversationId   977148 non-null  object \n",
      " 13  lang             977148 non-null  object \n",
      " 14  source           977140 non-null  object \n",
      " 15  sourceUrl        977140 non-null  object \n",
      " 16  sourceLabel      977140 non-null  object \n",
      " 17  media            33102 non-null   object \n",
      " 18  retweetedTweet   0 non-null       float64\n",
      " 19  quotedTweet      2111 non-null    object \n",
      " 20  mentionedUsers   158486 non-null  object \n",
      "dtypes: float64(3), object(18)\n",
      "memory usage: 156.6+ MB\n"
     ]
    },
    {
     "data": {
      "application/javascript": [
       "\n",
       "            setTimeout(function() {\n",
       "                var nbb_cell_id = 8;\n",
       "                var nbb_unformatted_code = \"tweets.info()\";\n",
       "                var nbb_formatted_code = \"tweets.info()\";\n",
       "                var nbb_cells = Jupyter.notebook.get_cells();\n",
       "                for (var i = 0; i < nbb_cells.length; ++i) {\n",
       "                    if (nbb_cells[i].input_prompt_number == nbb_cell_id) {\n",
       "                        if (nbb_cells[i].get_text() == nbb_unformatted_code) {\n",
       "                             nbb_cells[i].set_text(nbb_formatted_code);\n",
       "                        }\n",
       "                        break;\n",
       "                    }\n",
       "                }\n",
       "            }, 500);\n",
       "            "
      ],
      "text/plain": [
       "<IPython.core.display.Javascript object>"
      ]
     },
     "metadata": {},
     "output_type": "display_data"
    }
   ],
   "source": [
    "tweets.info()"
   ]
  },
  {
   "cell_type": "code",
   "execution_count": 14,
   "metadata": {},
   "outputs": [
    {
     "data": {
      "text/plain": [
       "0                                                                                                                                                                @businessbarista The School of Greatness has helped launched many million dollar brands but I’ll keep it the best kept secret 🤫 😝\n",
       "1     Know this. Everything is happening for a reason and in your favor for the betterment of your future. The pain you feel now will help later if you:\\n\\n1. Look at what’s not serving you\\n2. Listen to your intuition\\n3. Learn the meaning behind it\\n4. Let go of limits that hold you back\n",
       "2                                                                                                                                                                                                               @emilsterndorff @awilkinson @supercast @thecapital_io Love hearing that congrats!!\n",
       "3                                                                                                                                                                                                                                                                          @theclaudmon Thank you!\n",
       "4                                                                                                                                                                                                                                                                        @MonsieurHolly Thank you!\n",
       "5                                                                                                                                                                                                                                                                       @BrightPacheco Thank youu!\n",
       "6                                                                                                                                                                                                                                                                            @MubBaig Thank you! ❤\n",
       "7                                                                                                                                                                                                                                                                   @sjain_19 Thank you so much! ❤\n",
       "8                                                                                                                                                                                                                                                                     @jamesmcswiggan Thank you!!!\n",
       "9                                                                                                                                                                                                                                                                   @imchrisjordan Wow! Thank you!\n",
       "10                                                                                                                                                                                                                                                                  @positivitygal Thanks a lot! 🙏\n",
       "11                                                                                                                                                                                                                                                                @CoachGuevara205 Thanks a lot! 🙌\n",
       "12                                                                                                                                                                                                                                                           @ClarityWhisper Thanks for sharing! 💯\n",
       "13                                                                                                                                                                                                                                                                         @RudyDootDoo Thank you!\n",
       "14                                                                                                                                                                                                                                                                     @TaylorRochestie Thank you!\n",
       "15                                                                                                                                                                                                                                                  @The_GreatBonnie Awesome! Thank you so much! 🙌\n",
       "16                                                                                                                                                                                                                                                                               @_Jose_Miguel_S 💯\n",
       "17          CALLING ALL HIGH ACHIEVERS:\\n\\nIf you are an entrepreneur, brand, or business owner ready to invest in a premium high-performance coaching program...\\n\\nClick here: https://t.co/cQuLdxqiTH if you want to put yourself on an accelerated path to greatness.🔥 https://t.co/IgwaulAlX5\n",
       "18           Protect your inner peace at all costs. Create daily practices and communicate boundaries to make sure the stress and drama of others doesn’t consume you. You don’t need to be someone else’s emotional punching bag. Your energy and happiness is too important. Protect your peace!\n",
       "19                                                                                                                                                                                                                                          @everliz41 Wow, that's great! Thanks for joining us! 🙌\n",
       "Name: content, dtype: object"
      ]
     },
     "execution_count": 14,
     "metadata": {},
     "output_type": "execute_result"
    },
    {
     "data": {
      "application/javascript": [
       "\n",
       "            setTimeout(function() {\n",
       "                var nbb_cell_id = 14;\n",
       "                var nbb_unformatted_code = \"#pd.set_option(\\\"\\\")\\npd.set_option(\\\"display.max_colwidth\\\", None)\\n\\ntweets[\\\"content\\\"][:20]\";\n",
       "                var nbb_formatted_code = \"# pd.set_option(\\\"\\\")\\npd.set_option(\\\"display.max_colwidth\\\", None)\\n\\ntweets[\\\"content\\\"][:20]\";\n",
       "                var nbb_cells = Jupyter.notebook.get_cells();\n",
       "                for (var i = 0; i < nbb_cells.length; ++i) {\n",
       "                    if (nbb_cells[i].input_prompt_number == nbb_cell_id) {\n",
       "                        if (nbb_cells[i].get_text() == nbb_unformatted_code) {\n",
       "                             nbb_cells[i].set_text(nbb_formatted_code);\n",
       "                        }\n",
       "                        break;\n",
       "                    }\n",
       "                }\n",
       "            }, 500);\n",
       "            "
      ],
      "text/plain": [
       "<IPython.core.display.Javascript object>"
      ]
     },
     "metadata": {},
     "output_type": "display_data"
    }
   ],
   "source": [
    "# pd.set_option(\"\")\n",
    "pd.set_option(\"display.max_colwidth\", None)\n",
    "\n",
    "tweets[\"content\"][:20]"
   ]
  },
  {
   "cell_type": "markdown",
   "metadata": {},
   "source": [
    "After further inspection of the content column, tweets that start with @ are specific tweets to other user. These tweets will be removed becuase we want motinational tweets that are geared towards a general audience. We also have to remove tweets that have hyperlinks since those tweets are more calls to action and not general motivational advise. We will also have to deal with emojis.  "
   ]
  },
  {
   "cell_type": "code",
   "execution_count": null,
   "metadata": {},
   "outputs": [],
   "source": []
  }
 ],
 "metadata": {
  "kernelspec": {
   "display_name": "Python 3",
   "language": "python",
   "name": "python3"
  },
  "language_info": {
   "codemirror_mode": {
    "name": "ipython",
    "version": 3
   },
   "file_extension": ".py",
   "mimetype": "text/x-python",
   "name": "python",
   "nbconvert_exporter": "python",
   "pygments_lexer": "ipython3",
   "version": "3.7.6"
  }
 },
 "nbformat": 4,
 "nbformat_minor": 4
}
