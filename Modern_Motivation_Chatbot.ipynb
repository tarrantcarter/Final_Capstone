{
 "cells": [
  {
   "cell_type": "code",
   "execution_count": 1,
   "metadata": {},
   "outputs": [
    {
     "data": {
      "application/javascript": [
       "\n",
       "            setTimeout(function() {\n",
       "                var nbb_cell_id = 1;\n",
       "                var nbb_unformatted_code = \"%load_ext nb_black\";\n",
       "                var nbb_formatted_code = \"%load_ext nb_black\";\n",
       "                var nbb_cells = Jupyter.notebook.get_cells();\n",
       "                for (var i = 0; i < nbb_cells.length; ++i) {\n",
       "                    if (nbb_cells[i].input_prompt_number == nbb_cell_id) {\n",
       "                        if (nbb_cells[i].get_text() == nbb_unformatted_code) {\n",
       "                             nbb_cells[i].set_text(nbb_formatted_code);\n",
       "                        }\n",
       "                        break;\n",
       "                    }\n",
       "                }\n",
       "            }, 500);\n",
       "            "
      ],
      "text/plain": [
       "<IPython.core.display.Javascript object>"
      ]
     },
     "metadata": {},
     "output_type": "display_data"
    }
   ],
   "source": [
    "%load_ext nb_black"
   ]
  },
  {
   "cell_type": "code",
   "execution_count": 2,
   "metadata": {
    "colab": {
     "base_uri": "https://localhost:8080/"
    },
    "id": "nlGN9q2hB1ms",
    "outputId": "ed6a9e5c-b5c5-4b8d-8285-19f8236d4d3a"
   },
   "outputs": [
    {
     "name": "stdout",
     "output_type": "stream",
     "text": [
      "\u001b[38;5;2m✔ Download and installation successful\u001b[0m\n",
      "You can now load the model via spacy.load('en_core_web_sm')\n",
      "\u001b[31mERROR: pip's dependency resolver does not currently take into account all the packages that are installed. This behaviour is the source of the following dependency conflicts.\n",
      "distributed 2021.1.0 requires cloudpickle>=1.5.0, but you have cloudpickle 1.4.1 which is incompatible.\n",
      "chatterbot-corpus 1.2.0 requires PyYAML<4.0,>=3.12, but you have pyyaml 5.4.1 which is incompatible.\u001b[0m\n",
      "Collecting ruamel-yaml\n",
      "  Using cached ruamel.yaml-0.16.12-py2.py3-none-any.whl (111 kB)\n",
      "Collecting ruamel.yaml.clib>=0.1.2\n",
      "  Using cached ruamel.yaml.clib-0.2.2-cp38-cp38-macosx_10_9_x86_64.whl (149 kB)\n",
      "Installing collected packages: ruamel.yaml.clib, ruamel-yaml\n",
      "\u001b[31mERROR: pip's dependency resolver does not currently take into account all the packages that are installed. This behaviour is the source of the following dependency conflicts.\n",
      "rasa 2.2.5 requires aiohttp<3.7,>=3.6, but you have aiohttp 3.7.3 which is incompatible.\n",
      "rasa 2.2.5 requires cloudpickle<1.5,>=1.2, but you have cloudpickle 1.6.0 which is incompatible.\n",
      "rasa 2.2.5 requires joblib<0.16.0,>=0.15.1, but you have joblib 1.0.0 which is incompatible.\n",
      "rasa 2.2.5 requires multidict<5.0,>=4.6, but you have multidict 5.1.0 which is incompatible.\n",
      "rasa 2.2.5 requires prompt-toolkit<3.0,>=2.0, but you have prompt-toolkit 3.0.7 which is incompatible.\n",
      "rasa 2.2.5 requires regex<2020.10,>=2020.6, but you have regex 2020.11.13 which is incompatible.\u001b[0m\n",
      "Successfully installed ruamel-yaml-0.15.87 ruamel.yaml.clib-0.2.2\n",
      "Requirement already satisfied: gensim in /Users/tarrantcarter/miniconda3/lib/python3.8/site-packages (3.8.3)\n",
      "Requirement already satisfied: scipy>=0.18.1 in /Users/tarrantcarter/miniconda3/lib/python3.8/site-packages (from gensim) (1.6.0)\n",
      "Requirement already satisfied: numpy>=1.11.3 in /Users/tarrantcarter/miniconda3/lib/python3.8/site-packages (from gensim) (1.19.5)\n",
      "Requirement already satisfied: smart-open>=1.8.1 in /Users/tarrantcarter/miniconda3/lib/python3.8/site-packages (from gensim) (4.1.2)\n",
      "Requirement already satisfied: six>=1.5.0 in /Users/tarrantcarter/miniconda3/lib/python3.8/site-packages (from gensim) (1.15.0)\n"
     ]
    },
    {
     "data": {
      "application/javascript": [
       "\n",
       "            setTimeout(function() {\n",
       "                var nbb_cell_id = 2;\n",
       "                var nbb_unformatted_code = \"!python -m spacy download en_core_web_sm --quiet\\n!pip install rasa --ignore-installed ruamel.yaml --quiet\\n!pip install chatterbot_corpus --quiet\\n!pip install pyLDAvis --quiet\\n!pip install --ignore-installed ruamel-yaml\\n!pip install chart_studio --quiet\\n!python -m pip install -U gensim\";\n",
       "                var nbb_formatted_code = \"!python -m spacy download en_core_web_sm --quiet\\n!pip install rasa --ignore-installed ruamel.yaml --quiet\\n!pip install chatterbot_corpus --quiet\\n!pip install pyLDAvis --quiet\\n!pip install --ignore-installed ruamel-yaml\\n!pip install chart_studio --quiet\\n!python -m pip install -U gensim\";\n",
       "                var nbb_cells = Jupyter.notebook.get_cells();\n",
       "                for (var i = 0; i < nbb_cells.length; ++i) {\n",
       "                    if (nbb_cells[i].input_prompt_number == nbb_cell_id) {\n",
       "                        if (nbb_cells[i].get_text() == nbb_unformatted_code) {\n",
       "                             nbb_cells[i].set_text(nbb_formatted_code);\n",
       "                        }\n",
       "                        break;\n",
       "                    }\n",
       "                }\n",
       "            }, 500);\n",
       "            "
      ],
      "text/plain": [
       "<IPython.core.display.Javascript object>"
      ]
     },
     "metadata": {},
     "output_type": "display_data"
    }
   ],
   "source": [
    "!python -m spacy download en_core_web_sm --quiet\n",
    "!pip install rasa --ignore-installed ruamel.yaml --quiet\n",
    "!pip install chatterbot_corpus --quiet\n",
    "!pip install pyLDAvis --quiet\n",
    "!pip install --ignore-installed ruamel-yaml\n",
    "!pip install chart_studio --quiet\n",
    "!python -m pip install -U gensim"
   ]
  },
  {
   "cell_type": "code",
   "execution_count": 3,
   "metadata": {},
   "outputs": [
    {
     "data": {
      "application/javascript": [
       "\n",
       "            setTimeout(function() {\n",
       "                var nbb_cell_id = 3;\n",
       "                var nbb_unformatted_code = \"!pip install plotly_express==0.4.0 --quiet\";\n",
       "                var nbb_formatted_code = \"!pip install plotly_express==0.4.0 --quiet\";\n",
       "                var nbb_cells = Jupyter.notebook.get_cells();\n",
       "                for (var i = 0; i < nbb_cells.length; ++i) {\n",
       "                    if (nbb_cells[i].input_prompt_number == nbb_cell_id) {\n",
       "                        if (nbb_cells[i].get_text() == nbb_unformatted_code) {\n",
       "                             nbb_cells[i].set_text(nbb_formatted_code);\n",
       "                        }\n",
       "                        break;\n",
       "                    }\n",
       "                }\n",
       "            }, 500);\n",
       "            "
      ],
      "text/plain": [
       "<IPython.core.display.Javascript object>"
      ]
     },
     "metadata": {},
     "output_type": "display_data"
    }
   ],
   "source": [
    "!pip install plotly_express==0.4.0 --quiet"
   ]
  },
  {
   "cell_type": "code",
   "execution_count": 4,
   "metadata": {
    "id": "S39PKkWJTM6_"
   },
   "outputs": [
    {
     "data": {
      "application/javascript": [
       "\n",
       "            setTimeout(function() {\n",
       "                var nbb_cell_id = 4;\n",
       "                var nbb_unformatted_code = \"import pandas as pd\\nimport numpy as np\\nimport time\\nimport re\\nimport string\\nimport warnings\\nfrom wordcloud import WordCloud, STOPWORDS\\nfrom nltk.stem.wordnet import WordNetLemmatizer\\nfrom nltk import word_tokenize\\nfrom nltk.corpus import stopwords\\nfrom nltk.probability import FreqDist\\nimport spacy\\n\\n# from profanity_filter import ProfanityFilter\\nfrom spacy.lang.en.stop_words import STOP_WORDS\\nimport time\\nimport matplotlib.pyplot as plt\\nimport seaborn as sns\\nfrom wordcloud import WordCloud, STOPWORDS\\nfrom PIL import Image\\nfrom sklearn.decomposition import LatentDirichletAllocation\\n\\n# import gensim\\nfrom spacy.tokenizer import Tokenizer\\n\\n# from gensim.models.ldamulticore import LdaMulticore\\nfrom pprint import pprint\\n\\n# from gensim.models.coherencemodel import CoherenceModel\\n# import plotly.express as px\\n# import pyLDAvis.gensim\\n# import chart_studio\\n# import chart_studio.plotly as py\\n# import chart_studio.tools as tls\\n\\n# supress warnings\\nwarnings.filterwarnings(\\\"ignore\\\")\";\n",
       "                var nbb_formatted_code = \"import pandas as pd\\nimport numpy as np\\nimport time\\nimport re\\nimport string\\nimport warnings\\nfrom wordcloud import WordCloud, STOPWORDS\\nfrom nltk.stem.wordnet import WordNetLemmatizer\\nfrom nltk import word_tokenize\\nfrom nltk.corpus import stopwords\\nfrom nltk.probability import FreqDist\\nimport spacy\\n\\n# from profanity_filter import ProfanityFilter\\nfrom spacy.lang.en.stop_words import STOP_WORDS\\nimport time\\nimport matplotlib.pyplot as plt\\nimport seaborn as sns\\nfrom wordcloud import WordCloud, STOPWORDS\\nfrom PIL import Image\\nfrom sklearn.decomposition import LatentDirichletAllocation\\n\\n# import gensim\\nfrom spacy.tokenizer import Tokenizer\\n\\n# from gensim.models.ldamulticore import LdaMulticore\\nfrom pprint import pprint\\n\\n# from gensim.models.coherencemodel import CoherenceModel\\n# import plotly.express as px\\n# import pyLDAvis.gensim\\n# import chart_studio\\n# import chart_studio.plotly as py\\n# import chart_studio.tools as tls\\n\\n# supress warnings\\nwarnings.filterwarnings(\\\"ignore\\\")\";\n",
       "                var nbb_cells = Jupyter.notebook.get_cells();\n",
       "                for (var i = 0; i < nbb_cells.length; ++i) {\n",
       "                    if (nbb_cells[i].input_prompt_number == nbb_cell_id) {\n",
       "                        if (nbb_cells[i].get_text() == nbb_unformatted_code) {\n",
       "                             nbb_cells[i].set_text(nbb_formatted_code);\n",
       "                        }\n",
       "                        break;\n",
       "                    }\n",
       "                }\n",
       "            }, 500);\n",
       "            "
      ],
      "text/plain": [
       "<IPython.core.display.Javascript object>"
      ]
     },
     "metadata": {},
     "output_type": "display_data"
    }
   ],
   "source": [
    "import pandas as pd\n",
    "import numpy as np\n",
    "import time\n",
    "import re\n",
    "import string\n",
    "import warnings\n",
    "from wordcloud import WordCloud, STOPWORDS\n",
    "from nltk.stem.wordnet import WordNetLemmatizer\n",
    "from nltk import word_tokenize\n",
    "from nltk.corpus import stopwords\n",
    "from nltk.probability import FreqDist\n",
    "import spacy\n",
    "\n",
    "# from profanity_filter import ProfanityFilter\n",
    "from spacy.lang.en.stop_words import STOP_WORDS\n",
    "import time\n",
    "import matplotlib.pyplot as plt\n",
    "import seaborn as sns\n",
    "from wordcloud import WordCloud, STOPWORDS\n",
    "from PIL import Image\n",
    "from sklearn.decomposition import LatentDirichletAllocation\n",
    "\n",
    "# import gensim\n",
    "from spacy.tokenizer import Tokenizer\n",
    "\n",
    "# from gensim.models.ldamulticore import LdaMulticore\n",
    "from pprint import pprint\n",
    "\n",
    "# from gensim.models.coherencemodel import CoherenceModel\n",
    "# import plotly.express as px\n",
    "# import pyLDAvis.gensim\n",
    "# import chart_studio\n",
    "# import chart_studio.plotly as py\n",
    "# import chart_studio.tools as tls\n",
    "\n",
    "# supress warnings\n",
    "warnings.filterwarnings(\"ignore\")"
   ]
  },
  {
   "cell_type": "code",
   "execution_count": 7,
   "metadata": {
    "colab": {
     "base_uri": "https://localhost:8080/"
    },
    "id": "bYBK5P4nGUsg",
    "outputId": "7577350c-9901-477a-d3b0-4f2662dcead7"
   },
   "outputs": [
    {
     "name": "stderr",
     "output_type": "stream",
     "text": [
      "[nltk_data] Downloading package punkt to\n",
      "[nltk_data]     /Users/tarrantcarter/nltk_data...\n",
      "[nltk_data]   Package punkt is already up-to-date!\n",
      "[nltk_data] Downloading package stopwords to\n",
      "[nltk_data]     /Users/tarrantcarter/nltk_data...\n",
      "[nltk_data]   Package stopwords is already up-to-date!\n",
      "[nltk_data] Downloading package wordnet to\n",
      "[nltk_data]     /Users/tarrantcarter/nltk_data...\n",
      "[nltk_data]   Package wordnet is already up-to-date!\n"
     ]
    },
    {
     "data": {
      "text/plain": [
       "True"
      ]
     },
     "execution_count": 7,
     "metadata": {},
     "output_type": "execute_result"
    },
    {
     "data": {
      "application/javascript": [
       "\n",
       "            setTimeout(function() {\n",
       "                var nbb_cell_id = 7;\n",
       "                var nbb_unformatted_code = \"import nltk\\n\\nnltk.download(\\\"punkt\\\")\\nnltk.download(\\\"stopwords\\\")\\nnltk.download(\\\"wordnet\\\")\";\n",
       "                var nbb_formatted_code = \"import nltk\\n\\nnltk.download(\\\"punkt\\\")\\nnltk.download(\\\"stopwords\\\")\\nnltk.download(\\\"wordnet\\\")\";\n",
       "                var nbb_cells = Jupyter.notebook.get_cells();\n",
       "                for (var i = 0; i < nbb_cells.length; ++i) {\n",
       "                    if (nbb_cells[i].input_prompt_number == nbb_cell_id) {\n",
       "                        if (nbb_cells[i].get_text() == nbb_unformatted_code) {\n",
       "                             nbb_cells[i].set_text(nbb_formatted_code);\n",
       "                        }\n",
       "                        break;\n",
       "                    }\n",
       "                }\n",
       "            }, 500);\n",
       "            "
      ],
      "text/plain": [
       "<IPython.core.display.Javascript object>"
      ]
     },
     "metadata": {},
     "output_type": "display_data"
    }
   ],
   "source": [
    "import nltk\n",
    "\n",
    "nltk.download(\"punkt\")\n",
    "nltk.download(\"stopwords\")\n",
    "nltk.download(\"wordnet\")"
   ]
  },
  {
   "cell_type": "code",
   "execution_count": 8,
   "metadata": {
    "id": "4BbNTyvSTM6_"
   },
   "outputs": [
    {
     "data": {
      "application/javascript": [
       "\n",
       "            setTimeout(function() {\n",
       "                var nbb_cell_id = 8;\n",
       "                var nbb_unformatted_code = \"# load in scraped tweets from https://github.com/tarrantcarter/Final_Capstone/blob/main/Modern_Motivation_Web_Scrape.ipynb\\ntweets = pd.read_json(\\n    r\\\"/Users/tarrantcarter/Dropbox/Data Science/Final_Capstone/motivational_tweets.json\\\",\\n)\";\n",
       "                var nbb_formatted_code = \"# load in scraped tweets from https://github.com/tarrantcarter/Final_Capstone/blob/main/Modern_Motivation_Web_Scrape.ipynb\\ntweets = pd.read_json(\\n    r\\\"/Users/tarrantcarter/Dropbox/Data Science/Final_Capstone/motivational_tweets.json\\\",\\n)\";\n",
       "                var nbb_cells = Jupyter.notebook.get_cells();\n",
       "                for (var i = 0; i < nbb_cells.length; ++i) {\n",
       "                    if (nbb_cells[i].input_prompt_number == nbb_cell_id) {\n",
       "                        if (nbb_cells[i].get_text() == nbb_unformatted_code) {\n",
       "                             nbb_cells[i].set_text(nbb_formatted_code);\n",
       "                        }\n",
       "                        break;\n",
       "                    }\n",
       "                }\n",
       "            }, 500);\n",
       "            "
      ],
      "text/plain": [
       "<IPython.core.display.Javascript object>"
      ]
     },
     "metadata": {},
     "output_type": "display_data"
    }
   ],
   "source": [
    "# load in scraped tweets from https://github.com/tarrantcarter/Final_Capstone/blob/main/Modern_Motivation_Web_Scrape.ipynb\n",
    "tweets = pd.read_json(\n",
    "    r\"/Users/tarrantcarter/Dropbox/Data Science/Final_Capstone/motivational_tweets.json\",\n",
    ")"
   ]
  },
  {
   "cell_type": "code",
   "execution_count": 9,
   "metadata": {
    "colab": {
     "base_uri": "https://localhost:8080/",
     "height": 479
    },
    "id": "7f_G-wOgTM7A",
    "outputId": "ce26154c-e196-4bfb-d408-749c32261f0c"
   },
   "outputs": [
    {
     "data": {
      "text/html": [
       "<div>\n",
       "<style scoped>\n",
       "    .dataframe tbody tr th:only-of-type {\n",
       "        vertical-align: middle;\n",
       "    }\n",
       "\n",
       "    .dataframe tbody tr th {\n",
       "        vertical-align: top;\n",
       "    }\n",
       "\n",
       "    .dataframe thead th {\n",
       "        text-align: right;\n",
       "    }\n",
       "</style>\n",
       "<table border=\"1\" class=\"dataframe\">\n",
       "  <thead>\n",
       "    <tr style=\"text-align: right;\">\n",
       "      <th></th>\n",
       "      <th>index</th>\n",
       "      <th>url</th>\n",
       "      <th>date</th>\n",
       "      <th>content</th>\n",
       "      <th>renderedContent</th>\n",
       "      <th>id</th>\n",
       "      <th>user</th>\n",
       "      <th>outlinks</th>\n",
       "      <th>tcooutlinks</th>\n",
       "      <th>replyCount</th>\n",
       "      <th>...</th>\n",
       "      <th>quoteCount</th>\n",
       "      <th>conversationId</th>\n",
       "      <th>lang</th>\n",
       "      <th>source</th>\n",
       "      <th>sourceUrl</th>\n",
       "      <th>sourceLabel</th>\n",
       "      <th>media</th>\n",
       "      <th>retweetedTweet</th>\n",
       "      <th>quotedTweet</th>\n",
       "      <th>mentionedUsers</th>\n",
       "    </tr>\n",
       "  </thead>\n",
       "  <tbody>\n",
       "    <tr>\n",
       "      <th>0</th>\n",
       "      <td>0</td>\n",
       "      <td>https://twitter.com/LewisHowes/status/13515332...</td>\n",
       "      <td>2021-01-19 14:13:23</td>\n",
       "      <td>My guest @MrJamesNestor has spent years in lab...</td>\n",
       "      <td>My guest @MrJamesNestor has spent years in lab...</td>\n",
       "      <td>1351533215459258369</td>\n",
       "      <td>{'username': 'LewisHowes', 'displayname': 'Lew...</td>\n",
       "      <td>[https://link.chtbl.com/1060-tw]</td>\n",
       "      <td>[https://t.co/xMjUvSkJtD]</td>\n",
       "      <td>3</td>\n",
       "      <td>...</td>\n",
       "      <td>1</td>\n",
       "      <td>1351533215459258369</td>\n",
       "      <td>en</td>\n",
       "      <td>&lt;a href=\"https://mobile.twitter.com\" rel=\"nofo...</td>\n",
       "      <td>https://mobile.twitter.com</td>\n",
       "      <td>Twitter Web App</td>\n",
       "      <td>[{'thumbnailUrl': 'https://pbs.twimg.com/ext_t...</td>\n",
       "      <td>NaN</td>\n",
       "      <td>None</td>\n",
       "      <td>[{'username': 'MrJamesNestor', 'displayname': ...</td>\n",
       "    </tr>\n",
       "    <tr>\n",
       "      <th>1</th>\n",
       "      <td>1</td>\n",
       "      <td>https://twitter.com/LewisHowes/status/13515234...</td>\n",
       "      <td>2021-01-19 13:34:33</td>\n",
       "      <td>@EDGcoach Thanks, I appreciate it! ❤</td>\n",
       "      <td>@EDGcoach Thanks, I appreciate it! ❤</td>\n",
       "      <td>1351523443234263045</td>\n",
       "      <td>{'username': 'LewisHowes', 'displayname': 'Lew...</td>\n",
       "      <td>[]</td>\n",
       "      <td>[]</td>\n",
       "      <td>1</td>\n",
       "      <td>...</td>\n",
       "      <td>0</td>\n",
       "      <td>1351168601496150023</td>\n",
       "      <td>en</td>\n",
       "      <td>&lt;a href=\"http://www.zendesk.com\" rel=\"nofollow...</td>\n",
       "      <td>http://www.zendesk.com</td>\n",
       "      <td>Zendesk</td>\n",
       "      <td>None</td>\n",
       "      <td>NaN</td>\n",
       "      <td>None</td>\n",
       "      <td>[{'username': 'EDGcoach', 'displayname': 'Empo...</td>\n",
       "    </tr>\n",
       "    <tr>\n",
       "      <th>2</th>\n",
       "      <td>2</td>\n",
       "      <td>https://twitter.com/LewisHowes/status/13514478...</td>\n",
       "      <td>2021-01-19 08:34:12</td>\n",
       "      <td>@imchrisjordan 💯</td>\n",
       "      <td>@imchrisjordan 💯</td>\n",
       "      <td>1351447858629799940</td>\n",
       "      <td>{'username': 'LewisHowes', 'displayname': 'Lew...</td>\n",
       "      <td>[]</td>\n",
       "      <td>[]</td>\n",
       "      <td>0</td>\n",
       "      <td>...</td>\n",
       "      <td>0</td>\n",
       "      <td>1351051353116831745</td>\n",
       "      <td>und</td>\n",
       "      <td>&lt;a href=\"http://www.zendesk.com\" rel=\"nofollow...</td>\n",
       "      <td>http://www.zendesk.com</td>\n",
       "      <td>Zendesk</td>\n",
       "      <td>None</td>\n",
       "      <td>NaN</td>\n",
       "      <td>None</td>\n",
       "      <td>[{'username': 'imchrisjordan', 'displayname': ...</td>\n",
       "    </tr>\n",
       "    <tr>\n",
       "      <th>3</th>\n",
       "      <td>3</td>\n",
       "      <td>https://twitter.com/LewisHowes/status/13514317...</td>\n",
       "      <td>2021-01-19 07:30:13</td>\n",
       "      <td>@MKenkadze Glad you loved it!</td>\n",
       "      <td>@MKenkadze Glad you loved it!</td>\n",
       "      <td>1351431756688347137</td>\n",
       "      <td>{'username': 'LewisHowes', 'displayname': 'Lew...</td>\n",
       "      <td>[]</td>\n",
       "      <td>[]</td>\n",
       "      <td>0</td>\n",
       "      <td>...</td>\n",
       "      <td>0</td>\n",
       "      <td>1350102468126883842</td>\n",
       "      <td>en</td>\n",
       "      <td>&lt;a href=\"http://www.zendesk.com\" rel=\"nofollow...</td>\n",
       "      <td>http://www.zendesk.com</td>\n",
       "      <td>Zendesk</td>\n",
       "      <td>None</td>\n",
       "      <td>NaN</td>\n",
       "      <td>None</td>\n",
       "      <td>[{'username': 'MKenkadze', 'displayname': 'Mar...</td>\n",
       "    </tr>\n",
       "    <tr>\n",
       "      <th>4</th>\n",
       "      <td>4</td>\n",
       "      <td>https://twitter.com/LewisHowes/status/13514300...</td>\n",
       "      <td>2021-01-19 07:23:25</td>\n",
       "      <td>@sueizzo My pleasure! ❤</td>\n",
       "      <td>@sueizzo My pleasure! ❤</td>\n",
       "      <td>1351430042384003072</td>\n",
       "      <td>{'username': 'LewisHowes', 'displayname': 'Lew...</td>\n",
       "      <td>[]</td>\n",
       "      <td>[]</td>\n",
       "      <td>0</td>\n",
       "      <td>...</td>\n",
       "      <td>0</td>\n",
       "      <td>1351040232003612673</td>\n",
       "      <td>en</td>\n",
       "      <td>&lt;a href=\"http://www.zendesk.com\" rel=\"nofollow...</td>\n",
       "      <td>http://www.zendesk.com</td>\n",
       "      <td>Zendesk</td>\n",
       "      <td>None</td>\n",
       "      <td>NaN</td>\n",
       "      <td>None</td>\n",
       "      <td>[{'username': 'sueizzo', 'displayname': 'Sue I...</td>\n",
       "    </tr>\n",
       "  </tbody>\n",
       "</table>\n",
       "<p>5 rows × 22 columns</p>\n",
       "</div>"
      ],
      "text/plain": [
       "   index                                                url  \\\n",
       "0      0  https://twitter.com/LewisHowes/status/13515332...   \n",
       "1      1  https://twitter.com/LewisHowes/status/13515234...   \n",
       "2      2  https://twitter.com/LewisHowes/status/13514478...   \n",
       "3      3  https://twitter.com/LewisHowes/status/13514317...   \n",
       "4      4  https://twitter.com/LewisHowes/status/13514300...   \n",
       "\n",
       "                 date                                            content  \\\n",
       "0 2021-01-19 14:13:23  My guest @MrJamesNestor has spent years in lab...   \n",
       "1 2021-01-19 13:34:33               @EDGcoach Thanks, I appreciate it! ❤   \n",
       "2 2021-01-19 08:34:12                                   @imchrisjordan 💯   \n",
       "3 2021-01-19 07:30:13                      @MKenkadze Glad you loved it!   \n",
       "4 2021-01-19 07:23:25                            @sueizzo My pleasure! ❤   \n",
       "\n",
       "                                     renderedContent                   id  \\\n",
       "0  My guest @MrJamesNestor has spent years in lab...  1351533215459258369   \n",
       "1               @EDGcoach Thanks, I appreciate it! ❤  1351523443234263045   \n",
       "2                                   @imchrisjordan 💯  1351447858629799940   \n",
       "3                      @MKenkadze Glad you loved it!  1351431756688347137   \n",
       "4                            @sueizzo My pleasure! ❤  1351430042384003072   \n",
       "\n",
       "                                                user  \\\n",
       "0  {'username': 'LewisHowes', 'displayname': 'Lew...   \n",
       "1  {'username': 'LewisHowes', 'displayname': 'Lew...   \n",
       "2  {'username': 'LewisHowes', 'displayname': 'Lew...   \n",
       "3  {'username': 'LewisHowes', 'displayname': 'Lew...   \n",
       "4  {'username': 'LewisHowes', 'displayname': 'Lew...   \n",
       "\n",
       "                           outlinks                tcooutlinks  replyCount  \\\n",
       "0  [https://link.chtbl.com/1060-tw]  [https://t.co/xMjUvSkJtD]           3   \n",
       "1                                []                         []           1   \n",
       "2                                []                         []           0   \n",
       "3                                []                         []           0   \n",
       "4                                []                         []           0   \n",
       "\n",
       "   ...  quoteCount       conversationId  lang  \\\n",
       "0  ...           1  1351533215459258369    en   \n",
       "1  ...           0  1351168601496150023    en   \n",
       "2  ...           0  1351051353116831745   und   \n",
       "3  ...           0  1350102468126883842    en   \n",
       "4  ...           0  1351040232003612673    en   \n",
       "\n",
       "                                              source  \\\n",
       "0  <a href=\"https://mobile.twitter.com\" rel=\"nofo...   \n",
       "1  <a href=\"http://www.zendesk.com\" rel=\"nofollow...   \n",
       "2  <a href=\"http://www.zendesk.com\" rel=\"nofollow...   \n",
       "3  <a href=\"http://www.zendesk.com\" rel=\"nofollow...   \n",
       "4  <a href=\"http://www.zendesk.com\" rel=\"nofollow...   \n",
       "\n",
       "                    sourceUrl      sourceLabel  \\\n",
       "0  https://mobile.twitter.com  Twitter Web App   \n",
       "1      http://www.zendesk.com          Zendesk   \n",
       "2      http://www.zendesk.com          Zendesk   \n",
       "3      http://www.zendesk.com          Zendesk   \n",
       "4      http://www.zendesk.com          Zendesk   \n",
       "\n",
       "                                               media retweetedTweet  \\\n",
       "0  [{'thumbnailUrl': 'https://pbs.twimg.com/ext_t...            NaN   \n",
       "1                                               None            NaN   \n",
       "2                                               None            NaN   \n",
       "3                                               None            NaN   \n",
       "4                                               None            NaN   \n",
       "\n",
       "  quotedTweet                                     mentionedUsers  \n",
       "0        None  [{'username': 'MrJamesNestor', 'displayname': ...  \n",
       "1        None  [{'username': 'EDGcoach', 'displayname': 'Empo...  \n",
       "2        None  [{'username': 'imchrisjordan', 'displayname': ...  \n",
       "3        None  [{'username': 'MKenkadze', 'displayname': 'Mar...  \n",
       "4        None  [{'username': 'sueizzo', 'displayname': 'Sue I...  \n",
       "\n",
       "[5 rows x 22 columns]"
      ]
     },
     "execution_count": 9,
     "metadata": {},
     "output_type": "execute_result"
    },
    {
     "data": {
      "application/javascript": [
       "\n",
       "            setTimeout(function() {\n",
       "                var nbb_cell_id = 9;\n",
       "                var nbb_unformatted_code = \"tweets.head()\";\n",
       "                var nbb_formatted_code = \"tweets.head()\";\n",
       "                var nbb_cells = Jupyter.notebook.get_cells();\n",
       "                for (var i = 0; i < nbb_cells.length; ++i) {\n",
       "                    if (nbb_cells[i].input_prompt_number == nbb_cell_id) {\n",
       "                        if (nbb_cells[i].get_text() == nbb_unformatted_code) {\n",
       "                             nbb_cells[i].set_text(nbb_formatted_code);\n",
       "                        }\n",
       "                        break;\n",
       "                    }\n",
       "                }\n",
       "            }, 500);\n",
       "            "
      ],
      "text/plain": [
       "<IPython.core.display.Javascript object>"
      ]
     },
     "metadata": {},
     "output_type": "display_data"
    }
   ],
   "source": [
    "tweets.head()"
   ]
  },
  {
   "cell_type": "code",
   "execution_count": 10,
   "metadata": {
    "colab": {
     "base_uri": "https://localhost:8080/"
    },
    "id": "ZjcpyHv9TM7A",
    "outputId": "51aead88-71e5-4f3c-9ab4-67cb1a4d4ca8"
   },
   "outputs": [
    {
     "name": "stdout",
     "output_type": "stream",
     "text": [
      "<class 'pandas.core.frame.DataFrame'>\n",
      "Int64Index: 977611 entries, 0 to 977610\n",
      "Data columns (total 22 columns):\n",
      " #   Column           Non-Null Count   Dtype         \n",
      "---  ------           --------------   -----         \n",
      " 0   index            977611 non-null  int64         \n",
      " 1   url              977611 non-null  object        \n",
      " 2   date             977611 non-null  datetime64[ns]\n",
      " 3   content          977611 non-null  object        \n",
      " 4   renderedContent  977611 non-null  object        \n",
      " 5   id               977611 non-null  int64         \n",
      " 6   user             977611 non-null  object        \n",
      " 7   outlinks         977611 non-null  object        \n",
      " 8   tcooutlinks      977611 non-null  object        \n",
      " 9   replyCount       977611 non-null  int64         \n",
      " 10  retweetCount     977611 non-null  int64         \n",
      " 11  likeCount        977611 non-null  int64         \n",
      " 12  quoteCount       977611 non-null  int64         \n",
      " 13  conversationId   977611 non-null  int64         \n",
      " 14  lang             977611 non-null  object        \n",
      " 15  source           977611 non-null  object        \n",
      " 16  sourceUrl        977610 non-null  object        \n",
      " 17  sourceLabel      977610 non-null  object        \n",
      " 18  media            33109 non-null   object        \n",
      " 19  retweetedTweet   0 non-null       float64       \n",
      " 20  quotedTweet      2107 non-null    object        \n",
      " 21  mentionedUsers   158593 non-null  object        \n",
      "dtypes: datetime64[ns](1), float64(1), int64(7), object(13)\n",
      "memory usage: 171.5+ MB\n"
     ]
    },
    {
     "data": {
      "application/javascript": [
       "\n",
       "            setTimeout(function() {\n",
       "                var nbb_cell_id = 10;\n",
       "                var nbb_unformatted_code = \"tweets.info()\";\n",
       "                var nbb_formatted_code = \"tweets.info()\";\n",
       "                var nbb_cells = Jupyter.notebook.get_cells();\n",
       "                for (var i = 0; i < nbb_cells.length; ++i) {\n",
       "                    if (nbb_cells[i].input_prompt_number == nbb_cell_id) {\n",
       "                        if (nbb_cells[i].get_text() == nbb_unformatted_code) {\n",
       "                             nbb_cells[i].set_text(nbb_formatted_code);\n",
       "                        }\n",
       "                        break;\n",
       "                    }\n",
       "                }\n",
       "            }, 500);\n",
       "            "
      ],
      "text/plain": [
       "<IPython.core.display.Javascript object>"
      ]
     },
     "metadata": {},
     "output_type": "display_data"
    }
   ],
   "source": [
    "tweets.info()"
   ]
  },
  {
   "cell_type": "code",
   "execution_count": 11,
   "metadata": {
    "colab": {
     "base_uri": "https://localhost:8080/",
     "height": 609
    },
    "id": "NXG57pWfTM7B",
    "outputId": "e0f094f7-8965-42de-b0a9-1a321ee5ec1d"
   },
   "outputs": [
    {
     "data": {
      "text/html": [
       "<div>\n",
       "<style scoped>\n",
       "    .dataframe tbody tr th:only-of-type {\n",
       "        vertical-align: middle;\n",
       "    }\n",
       "\n",
       "    .dataframe tbody tr th {\n",
       "        vertical-align: top;\n",
       "    }\n",
       "\n",
       "    .dataframe thead th {\n",
       "        text-align: right;\n",
       "    }\n",
       "</style>\n",
       "<table border=\"1\" class=\"dataframe\">\n",
       "  <thead>\n",
       "    <tr style=\"text-align: right;\">\n",
       "      <th></th>\n",
       "      <th>index</th>\n",
       "      <th>url</th>\n",
       "      <th>date</th>\n",
       "      <th>content</th>\n",
       "      <th>renderedContent</th>\n",
       "      <th>id</th>\n",
       "      <th>user</th>\n",
       "      <th>outlinks</th>\n",
       "      <th>tcooutlinks</th>\n",
       "      <th>replyCount</th>\n",
       "      <th>...</th>\n",
       "      <th>quoteCount</th>\n",
       "      <th>conversationId</th>\n",
       "      <th>lang</th>\n",
       "      <th>source</th>\n",
       "      <th>sourceUrl</th>\n",
       "      <th>sourceLabel</th>\n",
       "      <th>media</th>\n",
       "      <th>retweetedTweet</th>\n",
       "      <th>quotedTweet</th>\n",
       "      <th>mentionedUsers</th>\n",
       "    </tr>\n",
       "  </thead>\n",
       "  <tbody>\n",
       "    <tr>\n",
       "      <th>0</th>\n",
       "      <td>&lt;class 'int'&gt;</td>\n",
       "      <td>&lt;class 'str'&gt;</td>\n",
       "      <td>&lt;class 'pandas._libs.tslibs.timestamps.Timesta...</td>\n",
       "      <td>&lt;class 'str'&gt;</td>\n",
       "      <td>&lt;class 'str'&gt;</td>\n",
       "      <td>&lt;class 'int'&gt;</td>\n",
       "      <td>&lt;class 'dict'&gt;</td>\n",
       "      <td>&lt;class 'list'&gt;</td>\n",
       "      <td>&lt;class 'list'&gt;</td>\n",
       "      <td>&lt;class 'int'&gt;</td>\n",
       "      <td>...</td>\n",
       "      <td>&lt;class 'int'&gt;</td>\n",
       "      <td>&lt;class 'int'&gt;</td>\n",
       "      <td>&lt;class 'str'&gt;</td>\n",
       "      <td>&lt;class 'str'&gt;</td>\n",
       "      <td>&lt;class 'str'&gt;</td>\n",
       "      <td>&lt;class 'str'&gt;</td>\n",
       "      <td>&lt;class 'list'&gt;</td>\n",
       "      <td>&lt;class 'float'&gt;</td>\n",
       "      <td>&lt;class 'NoneType'&gt;</td>\n",
       "      <td>&lt;class 'list'&gt;</td>\n",
       "    </tr>\n",
       "    <tr>\n",
       "      <th>1</th>\n",
       "      <td>&lt;class 'int'&gt;</td>\n",
       "      <td>&lt;class 'str'&gt;</td>\n",
       "      <td>&lt;class 'pandas._libs.tslibs.timestamps.Timesta...</td>\n",
       "      <td>&lt;class 'str'&gt;</td>\n",
       "      <td>&lt;class 'str'&gt;</td>\n",
       "      <td>&lt;class 'int'&gt;</td>\n",
       "      <td>&lt;class 'dict'&gt;</td>\n",
       "      <td>&lt;class 'list'&gt;</td>\n",
       "      <td>&lt;class 'list'&gt;</td>\n",
       "      <td>&lt;class 'int'&gt;</td>\n",
       "      <td>...</td>\n",
       "      <td>&lt;class 'int'&gt;</td>\n",
       "      <td>&lt;class 'int'&gt;</td>\n",
       "      <td>&lt;class 'str'&gt;</td>\n",
       "      <td>&lt;class 'str'&gt;</td>\n",
       "      <td>&lt;class 'str'&gt;</td>\n",
       "      <td>&lt;class 'str'&gt;</td>\n",
       "      <td>&lt;class 'NoneType'&gt;</td>\n",
       "      <td>&lt;class 'float'&gt;</td>\n",
       "      <td>&lt;class 'NoneType'&gt;</td>\n",
       "      <td>&lt;class 'list'&gt;</td>\n",
       "    </tr>\n",
       "    <tr>\n",
       "      <th>2</th>\n",
       "      <td>&lt;class 'int'&gt;</td>\n",
       "      <td>&lt;class 'str'&gt;</td>\n",
       "      <td>&lt;class 'pandas._libs.tslibs.timestamps.Timesta...</td>\n",
       "      <td>&lt;class 'str'&gt;</td>\n",
       "      <td>&lt;class 'str'&gt;</td>\n",
       "      <td>&lt;class 'int'&gt;</td>\n",
       "      <td>&lt;class 'dict'&gt;</td>\n",
       "      <td>&lt;class 'list'&gt;</td>\n",
       "      <td>&lt;class 'list'&gt;</td>\n",
       "      <td>&lt;class 'int'&gt;</td>\n",
       "      <td>...</td>\n",
       "      <td>&lt;class 'int'&gt;</td>\n",
       "      <td>&lt;class 'int'&gt;</td>\n",
       "      <td>&lt;class 'str'&gt;</td>\n",
       "      <td>&lt;class 'str'&gt;</td>\n",
       "      <td>&lt;class 'str'&gt;</td>\n",
       "      <td>&lt;class 'str'&gt;</td>\n",
       "      <td>&lt;class 'NoneType'&gt;</td>\n",
       "      <td>&lt;class 'float'&gt;</td>\n",
       "      <td>&lt;class 'NoneType'&gt;</td>\n",
       "      <td>&lt;class 'list'&gt;</td>\n",
       "    </tr>\n",
       "    <tr>\n",
       "      <th>3</th>\n",
       "      <td>&lt;class 'int'&gt;</td>\n",
       "      <td>&lt;class 'str'&gt;</td>\n",
       "      <td>&lt;class 'pandas._libs.tslibs.timestamps.Timesta...</td>\n",
       "      <td>&lt;class 'str'&gt;</td>\n",
       "      <td>&lt;class 'str'&gt;</td>\n",
       "      <td>&lt;class 'int'&gt;</td>\n",
       "      <td>&lt;class 'dict'&gt;</td>\n",
       "      <td>&lt;class 'list'&gt;</td>\n",
       "      <td>&lt;class 'list'&gt;</td>\n",
       "      <td>&lt;class 'int'&gt;</td>\n",
       "      <td>...</td>\n",
       "      <td>&lt;class 'int'&gt;</td>\n",
       "      <td>&lt;class 'int'&gt;</td>\n",
       "      <td>&lt;class 'str'&gt;</td>\n",
       "      <td>&lt;class 'str'&gt;</td>\n",
       "      <td>&lt;class 'str'&gt;</td>\n",
       "      <td>&lt;class 'str'&gt;</td>\n",
       "      <td>&lt;class 'NoneType'&gt;</td>\n",
       "      <td>&lt;class 'float'&gt;</td>\n",
       "      <td>&lt;class 'NoneType'&gt;</td>\n",
       "      <td>&lt;class 'list'&gt;</td>\n",
       "    </tr>\n",
       "    <tr>\n",
       "      <th>4</th>\n",
       "      <td>&lt;class 'int'&gt;</td>\n",
       "      <td>&lt;class 'str'&gt;</td>\n",
       "      <td>&lt;class 'pandas._libs.tslibs.timestamps.Timesta...</td>\n",
       "      <td>&lt;class 'str'&gt;</td>\n",
       "      <td>&lt;class 'str'&gt;</td>\n",
       "      <td>&lt;class 'int'&gt;</td>\n",
       "      <td>&lt;class 'dict'&gt;</td>\n",
       "      <td>&lt;class 'list'&gt;</td>\n",
       "      <td>&lt;class 'list'&gt;</td>\n",
       "      <td>&lt;class 'int'&gt;</td>\n",
       "      <td>...</td>\n",
       "      <td>&lt;class 'int'&gt;</td>\n",
       "      <td>&lt;class 'int'&gt;</td>\n",
       "      <td>&lt;class 'str'&gt;</td>\n",
       "      <td>&lt;class 'str'&gt;</td>\n",
       "      <td>&lt;class 'str'&gt;</td>\n",
       "      <td>&lt;class 'str'&gt;</td>\n",
       "      <td>&lt;class 'NoneType'&gt;</td>\n",
       "      <td>&lt;class 'float'&gt;</td>\n",
       "      <td>&lt;class 'NoneType'&gt;</td>\n",
       "      <td>&lt;class 'list'&gt;</td>\n",
       "    </tr>\n",
       "    <tr>\n",
       "      <th>...</th>\n",
       "      <td>...</td>\n",
       "      <td>...</td>\n",
       "      <td>...</td>\n",
       "      <td>...</td>\n",
       "      <td>...</td>\n",
       "      <td>...</td>\n",
       "      <td>...</td>\n",
       "      <td>...</td>\n",
       "      <td>...</td>\n",
       "      <td>...</td>\n",
       "      <td>...</td>\n",
       "      <td>...</td>\n",
       "      <td>...</td>\n",
       "      <td>...</td>\n",
       "      <td>...</td>\n",
       "      <td>...</td>\n",
       "      <td>...</td>\n",
       "      <td>...</td>\n",
       "      <td>...</td>\n",
       "      <td>...</td>\n",
       "      <td>...</td>\n",
       "    </tr>\n",
       "    <tr>\n",
       "      <th>977606</th>\n",
       "      <td>&lt;class 'int'&gt;</td>\n",
       "      <td>&lt;class 'str'&gt;</td>\n",
       "      <td>&lt;class 'pandas._libs.tslibs.timestamps.Timesta...</td>\n",
       "      <td>&lt;class 'str'&gt;</td>\n",
       "      <td>&lt;class 'str'&gt;</td>\n",
       "      <td>&lt;class 'int'&gt;</td>\n",
       "      <td>&lt;class 'dict'&gt;</td>\n",
       "      <td>&lt;class 'list'&gt;</td>\n",
       "      <td>&lt;class 'list'&gt;</td>\n",
       "      <td>&lt;class 'int'&gt;</td>\n",
       "      <td>...</td>\n",
       "      <td>&lt;class 'int'&gt;</td>\n",
       "      <td>&lt;class 'int'&gt;</td>\n",
       "      <td>&lt;class 'str'&gt;</td>\n",
       "      <td>&lt;class 'str'&gt;</td>\n",
       "      <td>&lt;class 'str'&gt;</td>\n",
       "      <td>&lt;class 'str'&gt;</td>\n",
       "      <td>&lt;class 'NoneType'&gt;</td>\n",
       "      <td>&lt;class 'float'&gt;</td>\n",
       "      <td>&lt;class 'NoneType'&gt;</td>\n",
       "      <td>&lt;class 'NoneType'&gt;</td>\n",
       "    </tr>\n",
       "    <tr>\n",
       "      <th>977607</th>\n",
       "      <td>&lt;class 'int'&gt;</td>\n",
       "      <td>&lt;class 'str'&gt;</td>\n",
       "      <td>&lt;class 'pandas._libs.tslibs.timestamps.Timesta...</td>\n",
       "      <td>&lt;class 'str'&gt;</td>\n",
       "      <td>&lt;class 'str'&gt;</td>\n",
       "      <td>&lt;class 'int'&gt;</td>\n",
       "      <td>&lt;class 'dict'&gt;</td>\n",
       "      <td>&lt;class 'list'&gt;</td>\n",
       "      <td>&lt;class 'list'&gt;</td>\n",
       "      <td>&lt;class 'int'&gt;</td>\n",
       "      <td>...</td>\n",
       "      <td>&lt;class 'int'&gt;</td>\n",
       "      <td>&lt;class 'int'&gt;</td>\n",
       "      <td>&lt;class 'str'&gt;</td>\n",
       "      <td>&lt;class 'str'&gt;</td>\n",
       "      <td>&lt;class 'str'&gt;</td>\n",
       "      <td>&lt;class 'str'&gt;</td>\n",
       "      <td>&lt;class 'NoneType'&gt;</td>\n",
       "      <td>&lt;class 'float'&gt;</td>\n",
       "      <td>&lt;class 'NoneType'&gt;</td>\n",
       "      <td>&lt;class 'NoneType'&gt;</td>\n",
       "    </tr>\n",
       "    <tr>\n",
       "      <th>977608</th>\n",
       "      <td>&lt;class 'int'&gt;</td>\n",
       "      <td>&lt;class 'str'&gt;</td>\n",
       "      <td>&lt;class 'pandas._libs.tslibs.timestamps.Timesta...</td>\n",
       "      <td>&lt;class 'str'&gt;</td>\n",
       "      <td>&lt;class 'str'&gt;</td>\n",
       "      <td>&lt;class 'int'&gt;</td>\n",
       "      <td>&lt;class 'dict'&gt;</td>\n",
       "      <td>&lt;class 'list'&gt;</td>\n",
       "      <td>&lt;class 'list'&gt;</td>\n",
       "      <td>&lt;class 'int'&gt;</td>\n",
       "      <td>...</td>\n",
       "      <td>&lt;class 'int'&gt;</td>\n",
       "      <td>&lt;class 'int'&gt;</td>\n",
       "      <td>&lt;class 'str'&gt;</td>\n",
       "      <td>&lt;class 'str'&gt;</td>\n",
       "      <td>&lt;class 'str'&gt;</td>\n",
       "      <td>&lt;class 'str'&gt;</td>\n",
       "      <td>&lt;class 'NoneType'&gt;</td>\n",
       "      <td>&lt;class 'float'&gt;</td>\n",
       "      <td>&lt;class 'NoneType'&gt;</td>\n",
       "      <td>&lt;class 'NoneType'&gt;</td>\n",
       "    </tr>\n",
       "    <tr>\n",
       "      <th>977609</th>\n",
       "      <td>&lt;class 'int'&gt;</td>\n",
       "      <td>&lt;class 'str'&gt;</td>\n",
       "      <td>&lt;class 'pandas._libs.tslibs.timestamps.Timesta...</td>\n",
       "      <td>&lt;class 'str'&gt;</td>\n",
       "      <td>&lt;class 'str'&gt;</td>\n",
       "      <td>&lt;class 'int'&gt;</td>\n",
       "      <td>&lt;class 'dict'&gt;</td>\n",
       "      <td>&lt;class 'list'&gt;</td>\n",
       "      <td>&lt;class 'list'&gt;</td>\n",
       "      <td>&lt;class 'int'&gt;</td>\n",
       "      <td>...</td>\n",
       "      <td>&lt;class 'int'&gt;</td>\n",
       "      <td>&lt;class 'int'&gt;</td>\n",
       "      <td>&lt;class 'str'&gt;</td>\n",
       "      <td>&lt;class 'str'&gt;</td>\n",
       "      <td>&lt;class 'str'&gt;</td>\n",
       "      <td>&lt;class 'str'&gt;</td>\n",
       "      <td>&lt;class 'NoneType'&gt;</td>\n",
       "      <td>&lt;class 'float'&gt;</td>\n",
       "      <td>&lt;class 'NoneType'&gt;</td>\n",
       "      <td>&lt;class 'NoneType'&gt;</td>\n",
       "    </tr>\n",
       "    <tr>\n",
       "      <th>977610</th>\n",
       "      <td>&lt;class 'int'&gt;</td>\n",
       "      <td>&lt;class 'str'&gt;</td>\n",
       "      <td>&lt;class 'pandas._libs.tslibs.timestamps.Timesta...</td>\n",
       "      <td>&lt;class 'str'&gt;</td>\n",
       "      <td>&lt;class 'str'&gt;</td>\n",
       "      <td>&lt;class 'int'&gt;</td>\n",
       "      <td>&lt;class 'dict'&gt;</td>\n",
       "      <td>&lt;class 'list'&gt;</td>\n",
       "      <td>&lt;class 'list'&gt;</td>\n",
       "      <td>&lt;class 'int'&gt;</td>\n",
       "      <td>...</td>\n",
       "      <td>&lt;class 'int'&gt;</td>\n",
       "      <td>&lt;class 'int'&gt;</td>\n",
       "      <td>&lt;class 'str'&gt;</td>\n",
       "      <td>&lt;class 'str'&gt;</td>\n",
       "      <td>&lt;class 'str'&gt;</td>\n",
       "      <td>&lt;class 'str'&gt;</td>\n",
       "      <td>&lt;class 'NoneType'&gt;</td>\n",
       "      <td>&lt;class 'float'&gt;</td>\n",
       "      <td>&lt;class 'NoneType'&gt;</td>\n",
       "      <td>&lt;class 'NoneType'&gt;</td>\n",
       "    </tr>\n",
       "  </tbody>\n",
       "</table>\n",
       "<p>977611 rows × 22 columns</p>\n",
       "</div>"
      ],
      "text/plain": [
       "                index            url  \\\n",
       "0       <class 'int'>  <class 'str'>   \n",
       "1       <class 'int'>  <class 'str'>   \n",
       "2       <class 'int'>  <class 'str'>   \n",
       "3       <class 'int'>  <class 'str'>   \n",
       "4       <class 'int'>  <class 'str'>   \n",
       "...               ...            ...   \n",
       "977606  <class 'int'>  <class 'str'>   \n",
       "977607  <class 'int'>  <class 'str'>   \n",
       "977608  <class 'int'>  <class 'str'>   \n",
       "977609  <class 'int'>  <class 'str'>   \n",
       "977610  <class 'int'>  <class 'str'>   \n",
       "\n",
       "                                                     date        content  \\\n",
       "0       <class 'pandas._libs.tslibs.timestamps.Timesta...  <class 'str'>   \n",
       "1       <class 'pandas._libs.tslibs.timestamps.Timesta...  <class 'str'>   \n",
       "2       <class 'pandas._libs.tslibs.timestamps.Timesta...  <class 'str'>   \n",
       "3       <class 'pandas._libs.tslibs.timestamps.Timesta...  <class 'str'>   \n",
       "4       <class 'pandas._libs.tslibs.timestamps.Timesta...  <class 'str'>   \n",
       "...                                                   ...            ...   \n",
       "977606  <class 'pandas._libs.tslibs.timestamps.Timesta...  <class 'str'>   \n",
       "977607  <class 'pandas._libs.tslibs.timestamps.Timesta...  <class 'str'>   \n",
       "977608  <class 'pandas._libs.tslibs.timestamps.Timesta...  <class 'str'>   \n",
       "977609  <class 'pandas._libs.tslibs.timestamps.Timesta...  <class 'str'>   \n",
       "977610  <class 'pandas._libs.tslibs.timestamps.Timesta...  <class 'str'>   \n",
       "\n",
       "       renderedContent             id            user        outlinks  \\\n",
       "0        <class 'str'>  <class 'int'>  <class 'dict'>  <class 'list'>   \n",
       "1        <class 'str'>  <class 'int'>  <class 'dict'>  <class 'list'>   \n",
       "2        <class 'str'>  <class 'int'>  <class 'dict'>  <class 'list'>   \n",
       "3        <class 'str'>  <class 'int'>  <class 'dict'>  <class 'list'>   \n",
       "4        <class 'str'>  <class 'int'>  <class 'dict'>  <class 'list'>   \n",
       "...                ...            ...             ...             ...   \n",
       "977606   <class 'str'>  <class 'int'>  <class 'dict'>  <class 'list'>   \n",
       "977607   <class 'str'>  <class 'int'>  <class 'dict'>  <class 'list'>   \n",
       "977608   <class 'str'>  <class 'int'>  <class 'dict'>  <class 'list'>   \n",
       "977609   <class 'str'>  <class 'int'>  <class 'dict'>  <class 'list'>   \n",
       "977610   <class 'str'>  <class 'int'>  <class 'dict'>  <class 'list'>   \n",
       "\n",
       "           tcooutlinks     replyCount  ...     quoteCount conversationId  \\\n",
       "0       <class 'list'>  <class 'int'>  ...  <class 'int'>  <class 'int'>   \n",
       "1       <class 'list'>  <class 'int'>  ...  <class 'int'>  <class 'int'>   \n",
       "2       <class 'list'>  <class 'int'>  ...  <class 'int'>  <class 'int'>   \n",
       "3       <class 'list'>  <class 'int'>  ...  <class 'int'>  <class 'int'>   \n",
       "4       <class 'list'>  <class 'int'>  ...  <class 'int'>  <class 'int'>   \n",
       "...                ...            ...  ...            ...            ...   \n",
       "977606  <class 'list'>  <class 'int'>  ...  <class 'int'>  <class 'int'>   \n",
       "977607  <class 'list'>  <class 'int'>  ...  <class 'int'>  <class 'int'>   \n",
       "977608  <class 'list'>  <class 'int'>  ...  <class 'int'>  <class 'int'>   \n",
       "977609  <class 'list'>  <class 'int'>  ...  <class 'int'>  <class 'int'>   \n",
       "977610  <class 'list'>  <class 'int'>  ...  <class 'int'>  <class 'int'>   \n",
       "\n",
       "                 lang         source      sourceUrl    sourceLabel  \\\n",
       "0       <class 'str'>  <class 'str'>  <class 'str'>  <class 'str'>   \n",
       "1       <class 'str'>  <class 'str'>  <class 'str'>  <class 'str'>   \n",
       "2       <class 'str'>  <class 'str'>  <class 'str'>  <class 'str'>   \n",
       "3       <class 'str'>  <class 'str'>  <class 'str'>  <class 'str'>   \n",
       "4       <class 'str'>  <class 'str'>  <class 'str'>  <class 'str'>   \n",
       "...               ...            ...            ...            ...   \n",
       "977606  <class 'str'>  <class 'str'>  <class 'str'>  <class 'str'>   \n",
       "977607  <class 'str'>  <class 'str'>  <class 'str'>  <class 'str'>   \n",
       "977608  <class 'str'>  <class 'str'>  <class 'str'>  <class 'str'>   \n",
       "977609  <class 'str'>  <class 'str'>  <class 'str'>  <class 'str'>   \n",
       "977610  <class 'str'>  <class 'str'>  <class 'str'>  <class 'str'>   \n",
       "\n",
       "                     media   retweetedTweet         quotedTweet  \\\n",
       "0           <class 'list'>  <class 'float'>  <class 'NoneType'>   \n",
       "1       <class 'NoneType'>  <class 'float'>  <class 'NoneType'>   \n",
       "2       <class 'NoneType'>  <class 'float'>  <class 'NoneType'>   \n",
       "3       <class 'NoneType'>  <class 'float'>  <class 'NoneType'>   \n",
       "4       <class 'NoneType'>  <class 'float'>  <class 'NoneType'>   \n",
       "...                    ...              ...                 ...   \n",
       "977606  <class 'NoneType'>  <class 'float'>  <class 'NoneType'>   \n",
       "977607  <class 'NoneType'>  <class 'float'>  <class 'NoneType'>   \n",
       "977608  <class 'NoneType'>  <class 'float'>  <class 'NoneType'>   \n",
       "977609  <class 'NoneType'>  <class 'float'>  <class 'NoneType'>   \n",
       "977610  <class 'NoneType'>  <class 'float'>  <class 'NoneType'>   \n",
       "\n",
       "            mentionedUsers  \n",
       "0           <class 'list'>  \n",
       "1           <class 'list'>  \n",
       "2           <class 'list'>  \n",
       "3           <class 'list'>  \n",
       "4           <class 'list'>  \n",
       "...                    ...  \n",
       "977606  <class 'NoneType'>  \n",
       "977607  <class 'NoneType'>  \n",
       "977608  <class 'NoneType'>  \n",
       "977609  <class 'NoneType'>  \n",
       "977610  <class 'NoneType'>  \n",
       "\n",
       "[977611 rows x 22 columns]"
      ]
     },
     "execution_count": 11,
     "metadata": {},
     "output_type": "execute_result"
    },
    {
     "data": {
      "application/javascript": [
       "\n",
       "            setTimeout(function() {\n",
       "                var nbb_cell_id = 11;\n",
       "                var nbb_unformatted_code = \"tweets.applymap(type)\";\n",
       "                var nbb_formatted_code = \"tweets.applymap(type)\";\n",
       "                var nbb_cells = Jupyter.notebook.get_cells();\n",
       "                for (var i = 0; i < nbb_cells.length; ++i) {\n",
       "                    if (nbb_cells[i].input_prompt_number == nbb_cell_id) {\n",
       "                        if (nbb_cells[i].get_text() == nbb_unformatted_code) {\n",
       "                             nbb_cells[i].set_text(nbb_formatted_code);\n",
       "                        }\n",
       "                        break;\n",
       "                    }\n",
       "                }\n",
       "            }, 500);\n",
       "            "
      ],
      "text/plain": [
       "<IPython.core.display.Javascript object>"
      ]
     },
     "metadata": {},
     "output_type": "display_data"
    }
   ],
   "source": [
    "tweets.applymap(type)"
   ]
  },
  {
   "cell_type": "markdown",
   "metadata": {
    "id": "bCdJ9E1hWH9B"
   },
   "source": [
    "The only columns we need for our analysis are the content column ('content'), a column that identifies the author of the tweet ('user'), the date ('date'), and the language column ('lang'). Let's remove all unnecessary columns. "
   ]
  },
  {
   "cell_type": "code",
   "execution_count": 12,
   "metadata": {
    "colab": {
     "base_uri": "https://localhost:8080/",
     "height": 204
    },
    "id": "6ILdTdzGWE0x",
    "outputId": "6020f0ca-a91c-4542-b202-89e454968d49"
   },
   "outputs": [
    {
     "data": {
      "text/html": [
       "<div>\n",
       "<style scoped>\n",
       "    .dataframe tbody tr th:only-of-type {\n",
       "        vertical-align: middle;\n",
       "    }\n",
       "\n",
       "    .dataframe tbody tr th {\n",
       "        vertical-align: top;\n",
       "    }\n",
       "\n",
       "    .dataframe thead th {\n",
       "        text-align: right;\n",
       "    }\n",
       "</style>\n",
       "<table border=\"1\" class=\"dataframe\">\n",
       "  <thead>\n",
       "    <tr style=\"text-align: right;\">\n",
       "      <th></th>\n",
       "      <th>date</th>\n",
       "      <th>content</th>\n",
       "      <th>user</th>\n",
       "      <th>lang</th>\n",
       "    </tr>\n",
       "  </thead>\n",
       "  <tbody>\n",
       "    <tr>\n",
       "      <th>0</th>\n",
       "      <td>2021-01-19 14:13:23</td>\n",
       "      <td>My guest @MrJamesNestor has spent years in lab...</td>\n",
       "      <td>{'username': 'LewisHowes', 'displayname': 'Lew...</td>\n",
       "      <td>en</td>\n",
       "    </tr>\n",
       "    <tr>\n",
       "      <th>1</th>\n",
       "      <td>2021-01-19 13:34:33</td>\n",
       "      <td>@EDGcoach Thanks, I appreciate it! ❤</td>\n",
       "      <td>{'username': 'LewisHowes', 'displayname': 'Lew...</td>\n",
       "      <td>en</td>\n",
       "    </tr>\n",
       "    <tr>\n",
       "      <th>2</th>\n",
       "      <td>2021-01-19 08:34:12</td>\n",
       "      <td>@imchrisjordan 💯</td>\n",
       "      <td>{'username': 'LewisHowes', 'displayname': 'Lew...</td>\n",
       "      <td>und</td>\n",
       "    </tr>\n",
       "    <tr>\n",
       "      <th>3</th>\n",
       "      <td>2021-01-19 07:30:13</td>\n",
       "      <td>@MKenkadze Glad you loved it!</td>\n",
       "      <td>{'username': 'LewisHowes', 'displayname': 'Lew...</td>\n",
       "      <td>en</td>\n",
       "    </tr>\n",
       "    <tr>\n",
       "      <th>4</th>\n",
       "      <td>2021-01-19 07:23:25</td>\n",
       "      <td>@sueizzo My pleasure! ❤</td>\n",
       "      <td>{'username': 'LewisHowes', 'displayname': 'Lew...</td>\n",
       "      <td>en</td>\n",
       "    </tr>\n",
       "  </tbody>\n",
       "</table>\n",
       "</div>"
      ],
      "text/plain": [
       "                 date                                            content  \\\n",
       "0 2021-01-19 14:13:23  My guest @MrJamesNestor has spent years in lab...   \n",
       "1 2021-01-19 13:34:33               @EDGcoach Thanks, I appreciate it! ❤   \n",
       "2 2021-01-19 08:34:12                                   @imchrisjordan 💯   \n",
       "3 2021-01-19 07:30:13                      @MKenkadze Glad you loved it!   \n",
       "4 2021-01-19 07:23:25                            @sueizzo My pleasure! ❤   \n",
       "\n",
       "                                                user lang  \n",
       "0  {'username': 'LewisHowes', 'displayname': 'Lew...   en  \n",
       "1  {'username': 'LewisHowes', 'displayname': 'Lew...   en  \n",
       "2  {'username': 'LewisHowes', 'displayname': 'Lew...  und  \n",
       "3  {'username': 'LewisHowes', 'displayname': 'Lew...   en  \n",
       "4  {'username': 'LewisHowes', 'displayname': 'Lew...   en  "
      ]
     },
     "execution_count": 12,
     "metadata": {},
     "output_type": "execute_result"
    },
    {
     "data": {
      "application/javascript": [
       "\n",
       "            setTimeout(function() {\n",
       "                var nbb_cell_id = 12;\n",
       "                var nbb_unformatted_code = \"#remove unnecessary columns\\ntweets2 = tweets[['date','content','user','lang']]\\n\\ntweets2.head()\";\n",
       "                var nbb_formatted_code = \"# remove unnecessary columns\\ntweets2 = tweets[[\\\"date\\\", \\\"content\\\", \\\"user\\\", \\\"lang\\\"]]\\n\\ntweets2.head()\";\n",
       "                var nbb_cells = Jupyter.notebook.get_cells();\n",
       "                for (var i = 0; i < nbb_cells.length; ++i) {\n",
       "                    if (nbb_cells[i].input_prompt_number == nbb_cell_id) {\n",
       "                        if (nbb_cells[i].get_text() == nbb_unformatted_code) {\n",
       "                             nbb_cells[i].set_text(nbb_formatted_code);\n",
       "                        }\n",
       "                        break;\n",
       "                    }\n",
       "                }\n",
       "            }, 500);\n",
       "            "
      ],
      "text/plain": [
       "<IPython.core.display.Javascript object>"
      ]
     },
     "metadata": {},
     "output_type": "display_data"
    }
   ],
   "source": [
    "# remove unnecessary columns\n",
    "tweets2 = tweets[[\"date\", \"content\", \"user\", \"lang\"]]\n",
    "\n",
    "tweets2.head()"
   ]
  },
  {
   "cell_type": "code",
   "execution_count": 13,
   "metadata": {
    "colab": {
     "base_uri": "https://localhost:8080/"
    },
    "id": "drF08P8STM7B",
    "outputId": "8b80d423-3da9-4548-ff01-88217b7bd1e9"
   },
   "outputs": [
    {
     "data": {
      "text/plain": [
       "1                          @EDGcoach Thanks, I appreciate it! ❤\n",
       "2                                              @imchrisjordan 💯\n",
       "3                                 @MKenkadze Glad you loved it!\n",
       "4                                       @sueizzo My pleasure! ❤\n",
       "5                                               @obe_amouda11 ❤\n",
       "6                                 @CarlsContent Wow, thank you!\n",
       "7                            @indrabartona Glad you loved it! 😃\n",
       "8                                    @indrabartona Thank you! ❤\n",
       "9                                   @TheSciFiNovel Thank you! ❤\n",
       "10                               @Fran_Gea1 It's my pleasure! 🙌\n",
       "11                              @TedHardaway Glad to hear that!\n",
       "12                           @TheAntonioNeves It's my pleasure!\n",
       "13                                       @Jaydbullet Thank you!\n",
       "14                                        @IamCathyGoodall Yes!\n",
       "15                               @positivitygal Thanks a lot! 🙌\n",
       "16                                    @Arashdeep2002 Exactly! 💯\n",
       "17                                         @EDGcoach Thank you!\n",
       "18            @ogony_john Indeed! Thanks a lot for the tweet! 🙌\n",
       "19    I hope this speaks to you today 🙏 https://t.co/heACOl1v22\n",
       "Name: content, dtype: object"
      ]
     },
     "execution_count": 13,
     "metadata": {},
     "output_type": "execute_result"
    },
    {
     "data": {
      "application/javascript": [
       "\n",
       "            setTimeout(function() {\n",
       "                var nbb_cell_id = 13;\n",
       "                var nbb_unformatted_code = \"# extend max col width so all the text can be seen\\npd.set_option(\\\"display.max_colwidth\\\", None)\\n\\ntweets2[\\\"content\\\"][1:20]\";\n",
       "                var nbb_formatted_code = \"# extend max col width so all the text can be seen\\npd.set_option(\\\"display.max_colwidth\\\", None)\\n\\ntweets2[\\\"content\\\"][1:20]\";\n",
       "                var nbb_cells = Jupyter.notebook.get_cells();\n",
       "                for (var i = 0; i < nbb_cells.length; ++i) {\n",
       "                    if (nbb_cells[i].input_prompt_number == nbb_cell_id) {\n",
       "                        if (nbb_cells[i].get_text() == nbb_unformatted_code) {\n",
       "                             nbb_cells[i].set_text(nbb_formatted_code);\n",
       "                        }\n",
       "                        break;\n",
       "                    }\n",
       "                }\n",
       "            }, 500);\n",
       "            "
      ],
      "text/plain": [
       "<IPython.core.display.Javascript object>"
      ]
     },
     "metadata": {},
     "output_type": "display_data"
    }
   ],
   "source": [
    "# extend max col width so all the text can be seen\n",
    "pd.set_option(\"display.max_colwidth\", None)\n",
    "\n",
    "tweets2[\"content\"][1:20]"
   ]
  },
  {
   "cell_type": "code",
   "execution_count": 14,
   "metadata": {
    "colab": {
     "base_uri": "https://localhost:8080/"
    },
    "id": "ZjrJi8aGTM7C",
    "outputId": "8bf5007b-ab68-4e12-8553-6b57e1089953"
   },
   "outputs": [
    {
     "data": {
      "text/plain": [
       "1                                                                                                     @EDGcoach Thanks, I appreciate it! ❤\n",
       "2                                                                                                                         @imchrisjordan 💯\n",
       "3                                                                                                            @MKenkadze Glad you loved it!\n",
       "4                                                                                                                  @sueizzo My pleasure! ❤\n",
       "5                                                                                                                          @obe_amouda11 ❤\n",
       "                                                                        ...                                                               \n",
       "977596    Make big plans; aim high in hope and work, remembering that a noble, logical diagram once recorded will not die.\\nDaniel Burnham\n",
       "977597                                          If we don't change, we don't grow. If we don't grow, we aren't really living.\\nGail Sheehy\n",
       "977598                       He that will not apply new remedies must expect new evils; for time is the greatest innovator.\\nFrancis Bacon\n",
       "977599         Never esteem anything as of advantage to you that will make you break your word or lose your self-respect. ~Marcus Aurelius\n",
       "977600                                                      Excerpts from\\n  Healing Yourself\\nby Christian D. Larson http://t.co/FFTENPst\n",
       "Name: content, Length: 977600, dtype: object"
      ]
     },
     "execution_count": 14,
     "metadata": {},
     "output_type": "execute_result"
    },
    {
     "data": {
      "application/javascript": [
       "\n",
       "            setTimeout(function() {\n",
       "                var nbb_cell_id = 14;\n",
       "                var nbb_unformatted_code = \"tweets2[\\\"content\\\"][1:-10]\";\n",
       "                var nbb_formatted_code = \"tweets2[\\\"content\\\"][1:-10]\";\n",
       "                var nbb_cells = Jupyter.notebook.get_cells();\n",
       "                for (var i = 0; i < nbb_cells.length; ++i) {\n",
       "                    if (nbb_cells[i].input_prompt_number == nbb_cell_id) {\n",
       "                        if (nbb_cells[i].get_text() == nbb_unformatted_code) {\n",
       "                             nbb_cells[i].set_text(nbb_formatted_code);\n",
       "                        }\n",
       "                        break;\n",
       "                    }\n",
       "                }\n",
       "            }, 500);\n",
       "            "
      ],
      "text/plain": [
       "<IPython.core.display.Javascript object>"
      ]
     },
     "metadata": {},
     "output_type": "display_data"
    }
   ],
   "source": [
    "tweets2[\"content\"][1:-10]"
   ]
  },
  {
   "cell_type": "markdown",
   "metadata": {
    "id": "RXkXAB67TM7C"
   },
   "source": [
    "After further inspection of the content column, tweets that start with @ are specific tweets to other user. These tweets will be removed because we want motivational tweets that are geared towards a general audience. We also have to remove tweets that have hyperlinks since those tweets are more calls to action and not general motivational advise. We will also have to deal with emoticons and emojis.  "
   ]
  },
  {
   "cell_type": "code",
   "execution_count": 15,
   "metadata": {
    "id": "Fy4UDgYqTM7D"
   },
   "outputs": [
    {
     "data": {
      "application/javascript": [
       "\n",
       "            setTimeout(function() {\n",
       "                var nbb_cell_id = 15;\n",
       "                var nbb_unformatted_code = \"# convert any non-text to text in the content column\\ntweets2[\\\"content\\\"] = tweets2[\\\"content\\\"].map(str)\";\n",
       "                var nbb_formatted_code = \"# convert any non-text to text in the content column\\ntweets2[\\\"content\\\"] = tweets2[\\\"content\\\"].map(str)\";\n",
       "                var nbb_cells = Jupyter.notebook.get_cells();\n",
       "                for (var i = 0; i < nbb_cells.length; ++i) {\n",
       "                    if (nbb_cells[i].input_prompt_number == nbb_cell_id) {\n",
       "                        if (nbb_cells[i].get_text() == nbb_unformatted_code) {\n",
       "                             nbb_cells[i].set_text(nbb_formatted_code);\n",
       "                        }\n",
       "                        break;\n",
       "                    }\n",
       "                }\n",
       "            }, 500);\n",
       "            "
      ],
      "text/plain": [
       "<IPython.core.display.Javascript object>"
      ]
     },
     "metadata": {},
     "output_type": "display_data"
    }
   ],
   "source": [
    "# convert any non-text to text in the content column\n",
    "tweets2[\"content\"] = tweets2[\"content\"].map(str)"
   ]
  },
  {
   "cell_type": "code",
   "execution_count": 16,
   "metadata": {
    "id": "XtonJ-bkTM7D"
   },
   "outputs": [
    {
     "data": {
      "application/javascript": [
       "\n",
       "            setTimeout(function() {\n",
       "                var nbb_cell_id = 16;\n",
       "                var nbb_unformatted_code = \"def tweet_cleaner(df,text='content',lang='lang'):\\n  # remove all tweets that contain @\\n  df2 = df[~(df[text].str.contains(\\\"@\\\"))]\\n  # drop rows containing http links\\n  df3 = df2[~(df2[text].str.contains(\\\"http\\\"))]\\n  # remove line breaks\\n  df3[text] = df3[text].str.replace(\\\"\\\\n\\\", \\\" \\\")\\n  # change non-latin apostrophe to latin counterpart\\n  df3[text] = df3[text].str.replace(\\\"\\u2019\\\", \\\"'\\\")\\n  # remove non-english tweets\\n  cleaned_df = df3[df3[lang] == \\\"en\\\"]\\n  return cleaned_df\";\n",
       "                var nbb_formatted_code = \"def tweet_cleaner(df, text=\\\"content\\\", lang=\\\"lang\\\"):\\n    # remove all tweets that contain @\\n    df2 = df[~(df[text].str.contains(\\\"@\\\"))]\\n    # drop rows containing http links\\n    df3 = df2[~(df2[text].str.contains(\\\"http\\\"))]\\n    # remove line breaks\\n    df3[text] = df3[text].str.replace(\\\"\\\\n\\\", \\\" \\\")\\n    # change non-latin apostrophe to latin counterpart\\n    df3[text] = df3[text].str.replace(\\\"\\u2019\\\", \\\"'\\\")\\n    # remove non-english tweets\\n    cleaned_df = df3[df3[lang] == \\\"en\\\"]\\n    return cleaned_df\";\n",
       "                var nbb_cells = Jupyter.notebook.get_cells();\n",
       "                for (var i = 0; i < nbb_cells.length; ++i) {\n",
       "                    if (nbb_cells[i].input_prompt_number == nbb_cell_id) {\n",
       "                        if (nbb_cells[i].get_text() == nbb_unformatted_code) {\n",
       "                             nbb_cells[i].set_text(nbb_formatted_code);\n",
       "                        }\n",
       "                        break;\n",
       "                    }\n",
       "                }\n",
       "            }, 500);\n",
       "            "
      ],
      "text/plain": [
       "<IPython.core.display.Javascript object>"
      ]
     },
     "metadata": {},
     "output_type": "display_data"
    }
   ],
   "source": [
    "def tweet_cleaner(df,text='content',lang='lang'):\n",
    "  # remove all tweets that contain @\n",
    "  df2 = df[~(df[text].str.contains(\"@\"))]\n",
    "  # drop rows containing http links\n",
    "  df3 = df2[~(df2[text].str.contains(\"http\"))]\n",
    "  # remove line breaks\n",
    "  df3[text] = df3[text].str.replace(\"\\n\", \" \")\n",
    "  # change non-latin apostrophe to latin counterpart\n",
    "  df3[text] = df3[text].str.replace(\"’\", \"'\")\n",
    "  # remove non-english tweets\n",
    "  cleaned_df = df3[df3[lang] == \"en\"]\n",
    "  return cleaned_df\n",
    "\n"
   ]
  },
  {
   "cell_type": "code",
   "execution_count": 17,
   "metadata": {
    "colab": {
     "base_uri": "https://localhost:8080/",
     "height": 901
    },
    "id": "ApuPZA0sh_1P",
    "outputId": "d4a16686-c021-4622-9f3c-629416bbebc5"
   },
   "outputs": [
    {
     "data": {
      "text/html": [
       "<div>\n",
       "<style scoped>\n",
       "    .dataframe tbody tr th:only-of-type {\n",
       "        vertical-align: middle;\n",
       "    }\n",
       "\n",
       "    .dataframe tbody tr th {\n",
       "        vertical-align: top;\n",
       "    }\n",
       "\n",
       "    .dataframe thead th {\n",
       "        text-align: right;\n",
       "    }\n",
       "</style>\n",
       "<table border=\"1\" class=\"dataframe\">\n",
       "  <thead>\n",
       "    <tr style=\"text-align: right;\">\n",
       "      <th></th>\n",
       "      <th>date</th>\n",
       "      <th>content</th>\n",
       "      <th>user</th>\n",
       "      <th>lang</th>\n",
       "    </tr>\n",
       "  </thead>\n",
       "  <tbody>\n",
       "    <tr>\n",
       "      <th>44</th>\n",
       "      <td>2021-01-17 22:13:17</td>\n",
       "      <td>Know this. Everything is happening for a reason and in your favor for the betterment of your future. The pain you feel now will help later if you:  1. Look at what's not serving you 2. Listen to your intuition 3. Learn the meaning behind it 4. Let go of limits that hold you back</td>\n",
       "      <td>{'username': 'LewisHowes', 'displayname': 'Lewis Howes', 'id': 14777649, 'description': 'NY Times Bestselling author. Top Podcast with 300 million downloads. Former pro football current @usath text me here and stay connected! 📲 614-350-3960', 'rawDescription': 'NY Times Bestselling author. Top Podcast with 300 million downloads. Former pro football current @usath text me here and stay connected! 📲 614-350-3960', 'descriptionUrls': [], 'verified': True, 'created': '2008-05-14T19:54:36+00:00', 'followersCount': 193467, 'friendsCount': 34018, 'statusesCount': 132010, 'favouritesCount': 152172, 'listedCount': 5431, 'mediaCount': 4231, 'location': 'Ohio boy in NYC and LA', 'protected': False, 'linkUrl': 'http://lewishowes.com', 'linkTcourl': 'https://t.co/hLkL1LJ3d4', 'profileImageUrl': 'https://pbs.twimg.com/profile_images/904400279113687041/bSzT-5v4_normal.jpg', 'profileBannerUrl': 'https://pbs.twimg.com/profile_banners/14777649/1600464122', 'url': 'https://twitter.com/LewisHowes'}</td>\n",
       "      <td>en</td>\n",
       "    </tr>\n",
       "    <tr>\n",
       "      <th>61</th>\n",
       "      <td>2021-01-15 15:28:06</td>\n",
       "      <td>Protect your inner peace at all costs. Create daily practices and communicate boundaries to make sure the stress and drama of others doesn't consume you. You don't need to be someone else's emotional punching bag. Your energy and happiness is too important. Protect your peace!</td>\n",
       "      <td>{'username': 'LewisHowes', 'displayname': 'Lewis Howes', 'id': 14777649, 'description': 'NY Times Bestselling author. Top Podcast with 300 million downloads. Former pro football current @usath text me here and stay connected! 📲 614-350-3960', 'rawDescription': 'NY Times Bestselling author. Top Podcast with 300 million downloads. Former pro football current @usath text me here and stay connected! 📲 614-350-3960', 'descriptionUrls': [], 'verified': True, 'created': '2008-05-14T19:54:36+00:00', 'followersCount': 193467, 'friendsCount': 34018, 'statusesCount': 132010, 'favouritesCount': 152172, 'listedCount': 5431, 'mediaCount': 4231, 'location': 'Ohio boy in NYC and LA', 'protected': False, 'linkUrl': 'http://lewishowes.com', 'linkTcourl': 'https://t.co/hLkL1LJ3d4', 'profileImageUrl': 'https://pbs.twimg.com/profile_images/904400279113687041/bSzT-5v4_normal.jpg', 'profileBannerUrl': 'https://pbs.twimg.com/profile_banners/14777649/1600464122', 'url': 'https://twitter.com/LewisHowes'}</td>\n",
       "      <td>en</td>\n",
       "    </tr>\n",
       "    <tr>\n",
       "      <th>108</th>\n",
       "      <td>2021-01-12 16:40:46</td>\n",
       "      <td>You are stronger than you think. The painful moments that hurt you in the past were meant for you. They broke you down so you could become stronger than ever before. I know it was hard. I know you wouldn't wish it on anyone else. But I also know you wouldn't change a thing!</td>\n",
       "      <td>{'username': 'LewisHowes', 'displayname': 'Lewis Howes', 'id': 14777649, 'description': 'NY Times Bestselling author. Top Podcast with 300 million downloads. Former pro football current @usath text me here and stay connected! 📲 614-350-3960', 'rawDescription': 'NY Times Bestselling author. Top Podcast with 300 million downloads. Former pro football current @usath text me here and stay connected! 📲 614-350-3960', 'descriptionUrls': [], 'verified': True, 'created': '2008-05-14T19:54:36+00:00', 'followersCount': 193467, 'friendsCount': 34018, 'statusesCount': 132010, 'favouritesCount': 152172, 'listedCount': 5431, 'mediaCount': 4231, 'location': 'Ohio boy in NYC and LA', 'protected': False, 'linkUrl': 'http://lewishowes.com', 'linkTcourl': 'https://t.co/hLkL1LJ3d4', 'profileImageUrl': 'https://pbs.twimg.com/profile_images/904400279113687041/bSzT-5v4_normal.jpg', 'profileBannerUrl': 'https://pbs.twimg.com/profile_banners/14777649/1600464122', 'url': 'https://twitter.com/LewisHowes'}</td>\n",
       "      <td>en</td>\n",
       "    </tr>\n",
       "    <tr>\n",
       "      <th>161</th>\n",
       "      <td>2021-01-07 16:00:29</td>\n",
       "      <td>Always remember to ask for exactly what you want. Ask for love, good health, abundance and peace. Ask for wisdom, creativity and positive energy. Don't be shy in your dreams. Be bold and live in gratitude because everything you want is coming to you.</td>\n",
       "      <td>{'username': 'LewisHowes', 'displayname': 'Lewis Howes', 'id': 14777649, 'description': 'NY Times Bestselling author. Top Podcast with 300 million downloads. Former pro football current @usath text me here and stay connected! 📲 614-350-3960', 'rawDescription': 'NY Times Bestselling author. Top Podcast with 300 million downloads. Former pro football current @usath text me here and stay connected! 📲 614-350-3960', 'descriptionUrls': [], 'verified': True, 'created': '2008-05-14T19:54:36+00:00', 'followersCount': 193467, 'friendsCount': 34018, 'statusesCount': 132010, 'favouritesCount': 152172, 'listedCount': 5431, 'mediaCount': 4231, 'location': 'Ohio boy in NYC and LA', 'protected': False, 'linkUrl': 'http://lewishowes.com', 'linkTcourl': 'https://t.co/hLkL1LJ3d4', 'profileImageUrl': 'https://pbs.twimg.com/profile_images/904400279113687041/bSzT-5v4_normal.jpg', 'profileBannerUrl': 'https://pbs.twimg.com/profile_banners/14777649/1600464122', 'url': 'https://twitter.com/LewisHowes'}</td>\n",
       "      <td>en</td>\n",
       "    </tr>\n",
       "    <tr>\n",
       "      <th>206</th>\n",
       "      <td>2021-01-05 00:11:24</td>\n",
       "      <td>What if you treated yourself like someone you were madly in love with? Imagine what you could do with all that positive energy. Stop beating yourself up for not being perfect and start loving yourself the way you would with someone you care about.</td>\n",
       "      <td>{'username': 'LewisHowes', 'displayname': 'Lewis Howes', 'id': 14777649, 'description': 'NY Times Bestselling author. Top Podcast with 300 million downloads. Former pro football current @usath text me here and stay connected! 📲 614-350-3960', 'rawDescription': 'NY Times Bestselling author. Top Podcast with 300 million downloads. Former pro football current @usath text me here and stay connected! 📲 614-350-3960', 'descriptionUrls': [], 'verified': True, 'created': '2008-05-14T19:54:36+00:00', 'followersCount': 193467, 'friendsCount': 34018, 'statusesCount': 132010, 'favouritesCount': 152172, 'listedCount': 5431, 'mediaCount': 4231, 'location': 'Ohio boy in NYC and LA', 'protected': False, 'linkUrl': 'http://lewishowes.com', 'linkTcourl': 'https://t.co/hLkL1LJ3d4', 'profileImageUrl': 'https://pbs.twimg.com/profile_images/904400279113687041/bSzT-5v4_normal.jpg', 'profileBannerUrl': 'https://pbs.twimg.com/profile_banners/14777649/1600464122', 'url': 'https://twitter.com/LewisHowes'}</td>\n",
       "      <td>en</td>\n",
       "    </tr>\n",
       "  </tbody>\n",
       "</table>\n",
       "</div>"
      ],
      "text/plain": [
       "                   date  \\\n",
       "44  2021-01-17 22:13:17   \n",
       "61  2021-01-15 15:28:06   \n",
       "108 2021-01-12 16:40:46   \n",
       "161 2021-01-07 16:00:29   \n",
       "206 2021-01-05 00:11:24   \n",
       "\n",
       "                                                                                                                                                                                                                                                                                     content  \\\n",
       "44   Know this. Everything is happening for a reason and in your favor for the betterment of your future. The pain you feel now will help later if you:  1. Look at what's not serving you 2. Listen to your intuition 3. Learn the meaning behind it 4. Let go of limits that hold you back   \n",
       "61     Protect your inner peace at all costs. Create daily practices and communicate boundaries to make sure the stress and drama of others doesn't consume you. You don't need to be someone else's emotional punching bag. Your energy and happiness is too important. Protect your peace!   \n",
       "108       You are stronger than you think. The painful moments that hurt you in the past were meant for you. They broke you down so you could become stronger than ever before. I know it was hard. I know you wouldn't wish it on anyone else. But I also know you wouldn't change a thing!   \n",
       "161                               Always remember to ask for exactly what you want. Ask for love, good health, abundance and peace. Ask for wisdom, creativity and positive energy. Don't be shy in your dreams. Be bold and live in gratitude because everything you want is coming to you.   \n",
       "206                                  What if you treated yourself like someone you were madly in love with? Imagine what you could do with all that positive energy. Stop beating yourself up for not being perfect and start loving yourself the way you would with someone you care about.   \n",
       "\n",
       "                                                                                                                                                                                                                                                                                                                                                                                                                                                                                                                                                                                                                                                                                                                                                                                                                                                                                                                                                                                                                                  user  \\\n",
       "44   {'username': 'LewisHowes', 'displayname': 'Lewis Howes', 'id': 14777649, 'description': 'NY Times Bestselling author. Top Podcast with 300 million downloads. Former pro football current @usath text me here and stay connected! 📲 614-350-3960', 'rawDescription': 'NY Times Bestselling author. Top Podcast with 300 million downloads. Former pro football current @usath text me here and stay connected! 📲 614-350-3960', 'descriptionUrls': [], 'verified': True, 'created': '2008-05-14T19:54:36+00:00', 'followersCount': 193467, 'friendsCount': 34018, 'statusesCount': 132010, 'favouritesCount': 152172, 'listedCount': 5431, 'mediaCount': 4231, 'location': 'Ohio boy in NYC and LA', 'protected': False, 'linkUrl': 'http://lewishowes.com', 'linkTcourl': 'https://t.co/hLkL1LJ3d4', 'profileImageUrl': 'https://pbs.twimg.com/profile_images/904400279113687041/bSzT-5v4_normal.jpg', 'profileBannerUrl': 'https://pbs.twimg.com/profile_banners/14777649/1600464122', 'url': 'https://twitter.com/LewisHowes'}   \n",
       "61   {'username': 'LewisHowes', 'displayname': 'Lewis Howes', 'id': 14777649, 'description': 'NY Times Bestselling author. Top Podcast with 300 million downloads. Former pro football current @usath text me here and stay connected! 📲 614-350-3960', 'rawDescription': 'NY Times Bestselling author. Top Podcast with 300 million downloads. Former pro football current @usath text me here and stay connected! 📲 614-350-3960', 'descriptionUrls': [], 'verified': True, 'created': '2008-05-14T19:54:36+00:00', 'followersCount': 193467, 'friendsCount': 34018, 'statusesCount': 132010, 'favouritesCount': 152172, 'listedCount': 5431, 'mediaCount': 4231, 'location': 'Ohio boy in NYC and LA', 'protected': False, 'linkUrl': 'http://lewishowes.com', 'linkTcourl': 'https://t.co/hLkL1LJ3d4', 'profileImageUrl': 'https://pbs.twimg.com/profile_images/904400279113687041/bSzT-5v4_normal.jpg', 'profileBannerUrl': 'https://pbs.twimg.com/profile_banners/14777649/1600464122', 'url': 'https://twitter.com/LewisHowes'}   \n",
       "108  {'username': 'LewisHowes', 'displayname': 'Lewis Howes', 'id': 14777649, 'description': 'NY Times Bestselling author. Top Podcast with 300 million downloads. Former pro football current @usath text me here and stay connected! 📲 614-350-3960', 'rawDescription': 'NY Times Bestselling author. Top Podcast with 300 million downloads. Former pro football current @usath text me here and stay connected! 📲 614-350-3960', 'descriptionUrls': [], 'verified': True, 'created': '2008-05-14T19:54:36+00:00', 'followersCount': 193467, 'friendsCount': 34018, 'statusesCount': 132010, 'favouritesCount': 152172, 'listedCount': 5431, 'mediaCount': 4231, 'location': 'Ohio boy in NYC and LA', 'protected': False, 'linkUrl': 'http://lewishowes.com', 'linkTcourl': 'https://t.co/hLkL1LJ3d4', 'profileImageUrl': 'https://pbs.twimg.com/profile_images/904400279113687041/bSzT-5v4_normal.jpg', 'profileBannerUrl': 'https://pbs.twimg.com/profile_banners/14777649/1600464122', 'url': 'https://twitter.com/LewisHowes'}   \n",
       "161  {'username': 'LewisHowes', 'displayname': 'Lewis Howes', 'id': 14777649, 'description': 'NY Times Bestselling author. Top Podcast with 300 million downloads. Former pro football current @usath text me here and stay connected! 📲 614-350-3960', 'rawDescription': 'NY Times Bestselling author. Top Podcast with 300 million downloads. Former pro football current @usath text me here and stay connected! 📲 614-350-3960', 'descriptionUrls': [], 'verified': True, 'created': '2008-05-14T19:54:36+00:00', 'followersCount': 193467, 'friendsCount': 34018, 'statusesCount': 132010, 'favouritesCount': 152172, 'listedCount': 5431, 'mediaCount': 4231, 'location': 'Ohio boy in NYC and LA', 'protected': False, 'linkUrl': 'http://lewishowes.com', 'linkTcourl': 'https://t.co/hLkL1LJ3d4', 'profileImageUrl': 'https://pbs.twimg.com/profile_images/904400279113687041/bSzT-5v4_normal.jpg', 'profileBannerUrl': 'https://pbs.twimg.com/profile_banners/14777649/1600464122', 'url': 'https://twitter.com/LewisHowes'}   \n",
       "206  {'username': 'LewisHowes', 'displayname': 'Lewis Howes', 'id': 14777649, 'description': 'NY Times Bestselling author. Top Podcast with 300 million downloads. Former pro football current @usath text me here and stay connected! 📲 614-350-3960', 'rawDescription': 'NY Times Bestselling author. Top Podcast with 300 million downloads. Former pro football current @usath text me here and stay connected! 📲 614-350-3960', 'descriptionUrls': [], 'verified': True, 'created': '2008-05-14T19:54:36+00:00', 'followersCount': 193467, 'friendsCount': 34018, 'statusesCount': 132010, 'favouritesCount': 152172, 'listedCount': 5431, 'mediaCount': 4231, 'location': 'Ohio boy in NYC and LA', 'protected': False, 'linkUrl': 'http://lewishowes.com', 'linkTcourl': 'https://t.co/hLkL1LJ3d4', 'profileImageUrl': 'https://pbs.twimg.com/profile_images/904400279113687041/bSzT-5v4_normal.jpg', 'profileBannerUrl': 'https://pbs.twimg.com/profile_banners/14777649/1600464122', 'url': 'https://twitter.com/LewisHowes'}   \n",
       "\n",
       "    lang  \n",
       "44    en  \n",
       "61    en  \n",
       "108   en  \n",
       "161   en  \n",
       "206   en  "
      ]
     },
     "execution_count": 17,
     "metadata": {},
     "output_type": "execute_result"
    },
    {
     "data": {
      "application/javascript": [
       "\n",
       "            setTimeout(function() {\n",
       "                var nbb_cell_id = 17;\n",
       "                var nbb_unformatted_code = \"tweets3 = tweet_cleaner(tweets2)\\n\\ntweets3.head()\";\n",
       "                var nbb_formatted_code = \"tweets3 = tweet_cleaner(tweets2)\\n\\ntweets3.head()\";\n",
       "                var nbb_cells = Jupyter.notebook.get_cells();\n",
       "                for (var i = 0; i < nbb_cells.length; ++i) {\n",
       "                    if (nbb_cells[i].input_prompt_number == nbb_cell_id) {\n",
       "                        if (nbb_cells[i].get_text() == nbb_unformatted_code) {\n",
       "                             nbb_cells[i].set_text(nbb_formatted_code);\n",
       "                        }\n",
       "                        break;\n",
       "                    }\n",
       "                }\n",
       "            }, 500);\n",
       "            "
      ],
      "text/plain": [
       "<IPython.core.display.Javascript object>"
      ]
     },
     "metadata": {},
     "output_type": "display_data"
    }
   ],
   "source": [
    "tweets3 = tweet_cleaner(tweets2)\n",
    "\n",
    "tweets3.head()"
   ]
  },
  {
   "cell_type": "code",
   "execution_count": 18,
   "metadata": {
    "colab": {
     "base_uri": "https://localhost:8080/"
    },
    "id": "TF7QRlOzTM7K",
    "outputId": "e3fb5da9-9064-4924-9584-5b01047323e7",
    "scrolled": true
   },
   "outputs": [
    {
     "data": {
      "text/plain": [
       "en    696962\n",
       "Name: lang, dtype: int64"
      ]
     },
     "execution_count": 18,
     "metadata": {},
     "output_type": "execute_result"
    },
    {
     "data": {
      "application/javascript": [
       "\n",
       "            setTimeout(function() {\n",
       "                var nbb_cell_id = 18;\n",
       "                var nbb_unformatted_code = \"tweets3[\\\"lang\\\"].value_counts()\";\n",
       "                var nbb_formatted_code = \"tweets3[\\\"lang\\\"].value_counts()\";\n",
       "                var nbb_cells = Jupyter.notebook.get_cells();\n",
       "                for (var i = 0; i < nbb_cells.length; ++i) {\n",
       "                    if (nbb_cells[i].input_prompt_number == nbb_cell_id) {\n",
       "                        if (nbb_cells[i].get_text() == nbb_unformatted_code) {\n",
       "                             nbb_cells[i].set_text(nbb_formatted_code);\n",
       "                        }\n",
       "                        break;\n",
       "                    }\n",
       "                }\n",
       "            }, 500);\n",
       "            "
      ],
      "text/plain": [
       "<IPython.core.display.Javascript object>"
      ]
     },
     "metadata": {},
     "output_type": "display_data"
    }
   ],
   "source": [
    "tweets3[\"lang\"].value_counts()"
   ]
  },
  {
   "cell_type": "code",
   "execution_count": 19,
   "metadata": {
    "colab": {
     "base_uri": "https://localhost:8080/"
    },
    "id": "MHgWnlOpjCi1",
    "outputId": "fc1a2482-0946-4c09-b154-0f0bbf9d53a2"
   },
   "outputs": [
    {
     "data": {
      "text/plain": [
       "(696962, 4)"
      ]
     },
     "execution_count": 19,
     "metadata": {},
     "output_type": "execute_result"
    },
    {
     "data": {
      "application/javascript": [
       "\n",
       "            setTimeout(function() {\n",
       "                var nbb_cell_id = 19;\n",
       "                var nbb_unformatted_code = \"tweets3.shape\";\n",
       "                var nbb_formatted_code = \"tweets3.shape\";\n",
       "                var nbb_cells = Jupyter.notebook.get_cells();\n",
       "                for (var i = 0; i < nbb_cells.length; ++i) {\n",
       "                    if (nbb_cells[i].input_prompt_number == nbb_cell_id) {\n",
       "                        if (nbb_cells[i].get_text() == nbb_unformatted_code) {\n",
       "                             nbb_cells[i].set_text(nbb_formatted_code);\n",
       "                        }\n",
       "                        break;\n",
       "                    }\n",
       "                }\n",
       "            }, 500);\n",
       "            "
      ],
      "text/plain": [
       "<IPython.core.display.Javascript object>"
      ]
     },
     "metadata": {},
     "output_type": "display_data"
    }
   ],
   "source": [
    "tweets3.shape"
   ]
  },
  {
   "cell_type": "code",
   "execution_count": 20,
   "metadata": {
    "colab": {
     "base_uri": "https://localhost:8080/"
    },
    "id": "alJt3NarkfsM",
    "outputId": "44f8668f-c7c1-4a2b-d56e-97abb2212443"
   },
   "outputs": [
    {
     "data": {
      "text/plain": [
       "44         Know this. Everything is happening for a reason and in your favor for the betterment of your future. The pain you feel now will help later if you:  1. Look at what's not serving you 2. Listen to your intuition 3. Learn the meaning behind it 4. Let go of limits that hold you back\n",
       "61           Protect your inner peace at all costs. Create daily practices and communicate boundaries to make sure the stress and drama of others doesn't consume you. You don't need to be someone else's emotional punching bag. Your energy and happiness is too important. Protect your peace!\n",
       "108             You are stronger than you think. The painful moments that hurt you in the past were meant for you. They broke you down so you could become stronger than ever before. I know it was hard. I know you wouldn't wish it on anyone else. But I also know you wouldn't change a thing!\n",
       "161                                     Always remember to ask for exactly what you want. Ask for love, good health, abundance and peace. Ask for wisdom, creativity and positive energy. Don't be shy in your dreams. Be bold and live in gratitude because everything you want is coming to you.\n",
       "206                                        What if you treated yourself like someone you were madly in love with? Imagine what you could do with all that positive energy. Stop beating yourself up for not being perfect and start loving yourself the way you would with someone you care about.\n",
       "208         I hope you realize no one is coming to save you. You will want a great team but never someone to rescue you. Greatness happens when 1. You have a clear vision 2. Turn adversity into your advantage 3. Have a growth mindset 4. Develop champion habits. 5. Live in Service to others\n",
       "274        This will be your greatest year ever. All your work will start to pay off.  You will earn more, be happier, love deeper and be healthier.  It will all manifest because you built better habits, embraced your fears, added more value to others and took massive action on your goals.\n",
       "317       Be grateful for the breakdown this year. It's setting you up for a massive breakthrough.  Money is coming. Your Mission is getting clear.  You found out if the Relationship was right for you. You are finally making your Health a priority.  And you found who your real Friends are!\n",
       "338     I hope you realize 2021 won't magically be your best year ever unless you 1. Take ownership for your actions 2. Change your habits to support your growth 3. Make health &amp; happiness a priority 4. Learn to say no &amp; develop boundaries 5. Surround yourself with positive people.\n",
       "404           Your season is coming:  Things have been breaking down in order to build you up and align your dreams to your reality.  Keep being grateful. Keep being kind to yourself. Keep improving daily. Keep adding value to others and watch as abundance and goals begin to manifest soon!\n",
       "439                    Great things are coming for you. Things are breaking down and aligning all in your favor to achieve your dreams. All of this is preparing you for something magical. Remember to:  1.  Love yourself fully 2. Forgive others 3. Calm your inner critic 4. Be a giving heart\n",
       "535                                                                                                      7 Things to Give Up For a Happier Life:  - Your Excuses - Negative Self Talk - Toxic Relationships - Playing Small - Unhealthy Eating - Bad Sleep Habits - Hoping Someone will Rescue You\n",
       "554    Real facts:    Not everyone is your friend or has your best interest in mind. Wish them well and find better friends. Friends that support you, call you on your crap, clap &amp; celebrate your success and want the best for you... these are the people you want in you corner for life!\n",
       "604                                                                                      Anyone can give their all for 8 days... will you?  If you are in then reshare this post on your page or stories and use the hashtag #8Great to lock in the start day this Tuesday, December 8th!  #8Great\n",
       "605                                                                                                          This will be challenging.  You will need to plan your time.  You will need to step up in your life.  You will need to eliminate distractions.  And you will need to give it your all.\n",
       "606                                                                                                                                                                                     You must find 1 partner to do this with you.  If they do not finish, you do not finish so choose wisely 😜.\n",
       "607                                                                                                                              No smoking, drinking, or recreational drugs, as this is a time to clear your mind (most of you know I swear by the benefits as I've never been drunk in my life).\n",
       "608                                                                                                                                 8 kilometers is almost 5 miles, and you can walk, run, or hike indoors or outdoors but you must complete the distance (8 miles daily for the advanced version)\n",
       "609                                                         Follow each of the 8 steps 💯 and you complete the challenge.  Post a photo or video when you complete with the hashtag #8Great and that you completed it (I recommend posting daily for progress updates and accountability mentally).\n",
       "621                 Kids have imaginary friends. Adults have imaginary enemies. Your cognitive biases make you THINK people are:  - judging you - out to get you - scheming behind your back  In reality, people are too focused on themselves to be thinking about you that much.  - Joey Doughty\n",
       "Name: content, dtype: object"
      ]
     },
     "execution_count": 20,
     "metadata": {},
     "output_type": "execute_result"
    },
    {
     "data": {
      "application/javascript": [
       "\n",
       "            setTimeout(function() {\n",
       "                var nbb_cell_id = 20;\n",
       "                var nbb_unformatted_code = \"tweets3[\\\"content\\\"][:20]\";\n",
       "                var nbb_formatted_code = \"tweets3[\\\"content\\\"][:20]\";\n",
       "                var nbb_cells = Jupyter.notebook.get_cells();\n",
       "                for (var i = 0; i < nbb_cells.length; ++i) {\n",
       "                    if (nbb_cells[i].input_prompt_number == nbb_cell_id) {\n",
       "                        if (nbb_cells[i].get_text() == nbb_unformatted_code) {\n",
       "                             nbb_cells[i].set_text(nbb_formatted_code);\n",
       "                        }\n",
       "                        break;\n",
       "                    }\n",
       "                }\n",
       "            }, 500);\n",
       "            "
      ],
      "text/plain": [
       "<IPython.core.display.Javascript object>"
      ]
     },
     "metadata": {},
     "output_type": "display_data"
    }
   ],
   "source": [
    "tweets3[\"content\"][:20]"
   ]
  },
  {
   "cell_type": "markdown",
   "metadata": {
    "id": "RrnqHFHujJTG"
   },
   "source": [
    "We have removed almost 300,000 tweets from our database. We still need to remove emojis and hashtags.\n",
    "\n",
    "Next we will remove text that contains more than one character outside of the latin alphabet. This will include emojis and emoticons by taking advantage of the ord() function. This step won't completely remove all non-english tweets, but it will deal with emojis and emoticons. Languages like French, German, and Spanish use a latin alphabet. We will remove the rest of the non-english text later. "
   ]
  },
  {
   "cell_type": "code",
   "execution_count": 21,
   "metadata": {
    "id": "RjnPStUyTM7H"
   },
   "outputs": [
    {
     "data": {
      "application/javascript": [
       "\n",
       "            setTimeout(function() {\n",
       "                var nbb_cell_id = 21;\n",
       "                var nbb_unformatted_code = \"# function that returns True if no more than one character is non-latin\\ndef is_latin_alphabet(string):\\n    non_ascii = 0\\n\\n    for character in string:\\n        if ord(character) > 127:\\n            non_ascii += 1\\n\\n    if non_ascii > 1:\\n        return False\\n    else:\\n        return True\";\n",
       "                var nbb_formatted_code = \"# function that returns True if no more than one character is non-latin\\ndef is_latin_alphabet(string):\\n    non_ascii = 0\\n\\n    for character in string:\\n        if ord(character) > 127:\\n            non_ascii += 1\\n\\n    if non_ascii > 1:\\n        return False\\n    else:\\n        return True\";\n",
       "                var nbb_cells = Jupyter.notebook.get_cells();\n",
       "                for (var i = 0; i < nbb_cells.length; ++i) {\n",
       "                    if (nbb_cells[i].input_prompt_number == nbb_cell_id) {\n",
       "                        if (nbb_cells[i].get_text() == nbb_unformatted_code) {\n",
       "                             nbb_cells[i].set_text(nbb_formatted_code);\n",
       "                        }\n",
       "                        break;\n",
       "                    }\n",
       "                }\n",
       "            }, 500);\n",
       "            "
      ],
      "text/plain": [
       "<IPython.core.display.Javascript object>"
      ]
     },
     "metadata": {},
     "output_type": "display_data"
    }
   ],
   "source": [
    "# function that returns True if no more than one character is non-latin\n",
    "def is_latin_alphabet(string):\n",
    "    non_ascii = 0\n",
    "\n",
    "    for character in string:\n",
    "        if ord(character) > 127:\n",
    "            non_ascii += 1\n",
    "\n",
    "    if non_ascii > 1:\n",
    "        return False\n",
    "    else:\n",
    "        return True"
   ]
  },
  {
   "cell_type": "code",
   "execution_count": 22,
   "metadata": {
    "colab": {
     "base_uri": "https://localhost:8080/"
    },
    "id": "ABoEsxKxTM7I",
    "outputId": "1dbd76b8-2027-4744-ace2-f6bf4463f6be"
   },
   "outputs": [
    {
     "data": {
      "text/plain": [
       "696962"
      ]
     },
     "execution_count": 22,
     "metadata": {},
     "output_type": "execute_result"
    },
    {
     "data": {
      "application/javascript": [
       "\n",
       "            setTimeout(function() {\n",
       "                var nbb_cell_id = 22;\n",
       "                var nbb_unformatted_code = \"# make a list with emoji less text or append with none\\nlatin_emojiless_text = []\\n\\nfor text in tweets3[\\\"content\\\"]:\\n    if is_latin_alphabet(text) == True:\\n        latin_emojiless_text.append(text)\\n    else:\\n        latin_emojiless_text.append(None)\\n\\n\\nlen(latin_emojiless_text)\";\n",
       "                var nbb_formatted_code = \"# make a list with emoji less text or append with none\\nlatin_emojiless_text = []\\n\\nfor text in tweets3[\\\"content\\\"]:\\n    if is_latin_alphabet(text) == True:\\n        latin_emojiless_text.append(text)\\n    else:\\n        latin_emojiless_text.append(None)\\n\\n\\nlen(latin_emojiless_text)\";\n",
       "                var nbb_cells = Jupyter.notebook.get_cells();\n",
       "                for (var i = 0; i < nbb_cells.length; ++i) {\n",
       "                    if (nbb_cells[i].input_prompt_number == nbb_cell_id) {\n",
       "                        if (nbb_cells[i].get_text() == nbb_unformatted_code) {\n",
       "                             nbb_cells[i].set_text(nbb_formatted_code);\n",
       "                        }\n",
       "                        break;\n",
       "                    }\n",
       "                }\n",
       "            }, 500);\n",
       "            "
      ],
      "text/plain": [
       "<IPython.core.display.Javascript object>"
      ]
     },
     "metadata": {},
     "output_type": "display_data"
    }
   ],
   "source": [
    "# make a list with emoji less text or append with none\n",
    "latin_emojiless_text = []\n",
    "\n",
    "for text in tweets3[\"content\"]:\n",
    "    if is_latin_alphabet(text) == True:\n",
    "        latin_emojiless_text.append(text)\n",
    "    else:\n",
    "        latin_emojiless_text.append(None)\n",
    "\n",
    "\n",
    "len(latin_emojiless_text)"
   ]
  },
  {
   "cell_type": "code",
   "execution_count": 23,
   "metadata": {
    "id": "DP8cqeKBTM7I"
   },
   "outputs": [
    {
     "data": {
      "application/javascript": [
       "\n",
       "            setTimeout(function() {\n",
       "                var nbb_cell_id = 23;\n",
       "                var nbb_unformatted_code = \"# save emojiless text to new dataframe\\ntweets4 = tweets3.copy()\\ntweets4[\\\"content\\\"] = latin_emojiless_text\";\n",
       "                var nbb_formatted_code = \"# save emojiless text to new dataframe\\ntweets4 = tweets3.copy()\\ntweets4[\\\"content\\\"] = latin_emojiless_text\";\n",
       "                var nbb_cells = Jupyter.notebook.get_cells();\n",
       "                for (var i = 0; i < nbb_cells.length; ++i) {\n",
       "                    if (nbb_cells[i].input_prompt_number == nbb_cell_id) {\n",
       "                        if (nbb_cells[i].get_text() == nbb_unformatted_code) {\n",
       "                             nbb_cells[i].set_text(nbb_formatted_code);\n",
       "                        }\n",
       "                        break;\n",
       "                    }\n",
       "                }\n",
       "            }, 500);\n",
       "            "
      ],
      "text/plain": [
       "<IPython.core.display.Javascript object>"
      ]
     },
     "metadata": {},
     "output_type": "display_data"
    }
   ],
   "source": [
    "# save emojiless text to new dataframe\n",
    "tweets4 = tweets3.copy()\n",
    "tweets4[\"content\"] = latin_emojiless_text"
   ]
  },
  {
   "cell_type": "code",
   "execution_count": 24,
   "metadata": {
    "colab": {
     "base_uri": "https://localhost:8080/",
     "height": 901
    },
    "id": "uZcF8b6FTM7I",
    "outputId": "4607f010-8dc2-4a39-f455-86d06d39ff9b"
   },
   "outputs": [
    {
     "data": {
      "text/html": [
       "<div>\n",
       "<style scoped>\n",
       "    .dataframe tbody tr th:only-of-type {\n",
       "        vertical-align: middle;\n",
       "    }\n",
       "\n",
       "    .dataframe tbody tr th {\n",
       "        vertical-align: top;\n",
       "    }\n",
       "\n",
       "    .dataframe thead th {\n",
       "        text-align: right;\n",
       "    }\n",
       "</style>\n",
       "<table border=\"1\" class=\"dataframe\">\n",
       "  <thead>\n",
       "    <tr style=\"text-align: right;\">\n",
       "      <th></th>\n",
       "      <th>date</th>\n",
       "      <th>content</th>\n",
       "      <th>user</th>\n",
       "      <th>lang</th>\n",
       "    </tr>\n",
       "  </thead>\n",
       "  <tbody>\n",
       "    <tr>\n",
       "      <th>44</th>\n",
       "      <td>2021-01-17 22:13:17</td>\n",
       "      <td>Know this. Everything is happening for a reason and in your favor for the betterment of your future. The pain you feel now will help later if you:  1. Look at what's not serving you 2. Listen to your intuition 3. Learn the meaning behind it 4. Let go of limits that hold you back</td>\n",
       "      <td>{'username': 'LewisHowes', 'displayname': 'Lewis Howes', 'id': 14777649, 'description': 'NY Times Bestselling author. Top Podcast with 300 million downloads. Former pro football current @usath text me here and stay connected! 📲 614-350-3960', 'rawDescription': 'NY Times Bestselling author. Top Podcast with 300 million downloads. Former pro football current @usath text me here and stay connected! 📲 614-350-3960', 'descriptionUrls': [], 'verified': True, 'created': '2008-05-14T19:54:36+00:00', 'followersCount': 193467, 'friendsCount': 34018, 'statusesCount': 132010, 'favouritesCount': 152172, 'listedCount': 5431, 'mediaCount': 4231, 'location': 'Ohio boy in NYC and LA', 'protected': False, 'linkUrl': 'http://lewishowes.com', 'linkTcourl': 'https://t.co/hLkL1LJ3d4', 'profileImageUrl': 'https://pbs.twimg.com/profile_images/904400279113687041/bSzT-5v4_normal.jpg', 'profileBannerUrl': 'https://pbs.twimg.com/profile_banners/14777649/1600464122', 'url': 'https://twitter.com/LewisHowes'}</td>\n",
       "      <td>en</td>\n",
       "    </tr>\n",
       "    <tr>\n",
       "      <th>61</th>\n",
       "      <td>2021-01-15 15:28:06</td>\n",
       "      <td>Protect your inner peace at all costs. Create daily practices and communicate boundaries to make sure the stress and drama of others doesn't consume you. You don't need to be someone else's emotional punching bag. Your energy and happiness is too important. Protect your peace!</td>\n",
       "      <td>{'username': 'LewisHowes', 'displayname': 'Lewis Howes', 'id': 14777649, 'description': 'NY Times Bestselling author. Top Podcast with 300 million downloads. Former pro football current @usath text me here and stay connected! 📲 614-350-3960', 'rawDescription': 'NY Times Bestselling author. Top Podcast with 300 million downloads. Former pro football current @usath text me here and stay connected! 📲 614-350-3960', 'descriptionUrls': [], 'verified': True, 'created': '2008-05-14T19:54:36+00:00', 'followersCount': 193467, 'friendsCount': 34018, 'statusesCount': 132010, 'favouritesCount': 152172, 'listedCount': 5431, 'mediaCount': 4231, 'location': 'Ohio boy in NYC and LA', 'protected': False, 'linkUrl': 'http://lewishowes.com', 'linkTcourl': 'https://t.co/hLkL1LJ3d4', 'profileImageUrl': 'https://pbs.twimg.com/profile_images/904400279113687041/bSzT-5v4_normal.jpg', 'profileBannerUrl': 'https://pbs.twimg.com/profile_banners/14777649/1600464122', 'url': 'https://twitter.com/LewisHowes'}</td>\n",
       "      <td>en</td>\n",
       "    </tr>\n",
       "    <tr>\n",
       "      <th>108</th>\n",
       "      <td>2021-01-12 16:40:46</td>\n",
       "      <td>You are stronger than you think. The painful moments that hurt you in the past were meant for you. They broke you down so you could become stronger than ever before. I know it was hard. I know you wouldn't wish it on anyone else. But I also know you wouldn't change a thing!</td>\n",
       "      <td>{'username': 'LewisHowes', 'displayname': 'Lewis Howes', 'id': 14777649, 'description': 'NY Times Bestselling author. Top Podcast with 300 million downloads. Former pro football current @usath text me here and stay connected! 📲 614-350-3960', 'rawDescription': 'NY Times Bestselling author. Top Podcast with 300 million downloads. Former pro football current @usath text me here and stay connected! 📲 614-350-3960', 'descriptionUrls': [], 'verified': True, 'created': '2008-05-14T19:54:36+00:00', 'followersCount': 193467, 'friendsCount': 34018, 'statusesCount': 132010, 'favouritesCount': 152172, 'listedCount': 5431, 'mediaCount': 4231, 'location': 'Ohio boy in NYC and LA', 'protected': False, 'linkUrl': 'http://lewishowes.com', 'linkTcourl': 'https://t.co/hLkL1LJ3d4', 'profileImageUrl': 'https://pbs.twimg.com/profile_images/904400279113687041/bSzT-5v4_normal.jpg', 'profileBannerUrl': 'https://pbs.twimg.com/profile_banners/14777649/1600464122', 'url': 'https://twitter.com/LewisHowes'}</td>\n",
       "      <td>en</td>\n",
       "    </tr>\n",
       "    <tr>\n",
       "      <th>161</th>\n",
       "      <td>2021-01-07 16:00:29</td>\n",
       "      <td>Always remember to ask for exactly what you want. Ask for love, good health, abundance and peace. Ask for wisdom, creativity and positive energy. Don't be shy in your dreams. Be bold and live in gratitude because everything you want is coming to you.</td>\n",
       "      <td>{'username': 'LewisHowes', 'displayname': 'Lewis Howes', 'id': 14777649, 'description': 'NY Times Bestselling author. Top Podcast with 300 million downloads. Former pro football current @usath text me here and stay connected! 📲 614-350-3960', 'rawDescription': 'NY Times Bestselling author. Top Podcast with 300 million downloads. Former pro football current @usath text me here and stay connected! 📲 614-350-3960', 'descriptionUrls': [], 'verified': True, 'created': '2008-05-14T19:54:36+00:00', 'followersCount': 193467, 'friendsCount': 34018, 'statusesCount': 132010, 'favouritesCount': 152172, 'listedCount': 5431, 'mediaCount': 4231, 'location': 'Ohio boy in NYC and LA', 'protected': False, 'linkUrl': 'http://lewishowes.com', 'linkTcourl': 'https://t.co/hLkL1LJ3d4', 'profileImageUrl': 'https://pbs.twimg.com/profile_images/904400279113687041/bSzT-5v4_normal.jpg', 'profileBannerUrl': 'https://pbs.twimg.com/profile_banners/14777649/1600464122', 'url': 'https://twitter.com/LewisHowes'}</td>\n",
       "      <td>en</td>\n",
       "    </tr>\n",
       "    <tr>\n",
       "      <th>206</th>\n",
       "      <td>2021-01-05 00:11:24</td>\n",
       "      <td>What if you treated yourself like someone you were madly in love with? Imagine what you could do with all that positive energy. Stop beating yourself up for not being perfect and start loving yourself the way you would with someone you care about.</td>\n",
       "      <td>{'username': 'LewisHowes', 'displayname': 'Lewis Howes', 'id': 14777649, 'description': 'NY Times Bestselling author. Top Podcast with 300 million downloads. Former pro football current @usath text me here and stay connected! 📲 614-350-3960', 'rawDescription': 'NY Times Bestselling author. Top Podcast with 300 million downloads. Former pro football current @usath text me here and stay connected! 📲 614-350-3960', 'descriptionUrls': [], 'verified': True, 'created': '2008-05-14T19:54:36+00:00', 'followersCount': 193467, 'friendsCount': 34018, 'statusesCount': 132010, 'favouritesCount': 152172, 'listedCount': 5431, 'mediaCount': 4231, 'location': 'Ohio boy in NYC and LA', 'protected': False, 'linkUrl': 'http://lewishowes.com', 'linkTcourl': 'https://t.co/hLkL1LJ3d4', 'profileImageUrl': 'https://pbs.twimg.com/profile_images/904400279113687041/bSzT-5v4_normal.jpg', 'profileBannerUrl': 'https://pbs.twimg.com/profile_banners/14777649/1600464122', 'url': 'https://twitter.com/LewisHowes'}</td>\n",
       "      <td>en</td>\n",
       "    </tr>\n",
       "  </tbody>\n",
       "</table>\n",
       "</div>"
      ],
      "text/plain": [
       "                   date  \\\n",
       "44  2021-01-17 22:13:17   \n",
       "61  2021-01-15 15:28:06   \n",
       "108 2021-01-12 16:40:46   \n",
       "161 2021-01-07 16:00:29   \n",
       "206 2021-01-05 00:11:24   \n",
       "\n",
       "                                                                                                                                                                                                                                                                                     content  \\\n",
       "44   Know this. Everything is happening for a reason and in your favor for the betterment of your future. The pain you feel now will help later if you:  1. Look at what's not serving you 2. Listen to your intuition 3. Learn the meaning behind it 4. Let go of limits that hold you back   \n",
       "61     Protect your inner peace at all costs. Create daily practices and communicate boundaries to make sure the stress and drama of others doesn't consume you. You don't need to be someone else's emotional punching bag. Your energy and happiness is too important. Protect your peace!   \n",
       "108       You are stronger than you think. The painful moments that hurt you in the past were meant for you. They broke you down so you could become stronger than ever before. I know it was hard. I know you wouldn't wish it on anyone else. But I also know you wouldn't change a thing!   \n",
       "161                               Always remember to ask for exactly what you want. Ask for love, good health, abundance and peace. Ask for wisdom, creativity and positive energy. Don't be shy in your dreams. Be bold and live in gratitude because everything you want is coming to you.   \n",
       "206                                  What if you treated yourself like someone you were madly in love with? Imagine what you could do with all that positive energy. Stop beating yourself up for not being perfect and start loving yourself the way you would with someone you care about.   \n",
       "\n",
       "                                                                                                                                                                                                                                                                                                                                                                                                                                                                                                                                                                                                                                                                                                                                                                                                                                                                                                                                                                                                                                  user  \\\n",
       "44   {'username': 'LewisHowes', 'displayname': 'Lewis Howes', 'id': 14777649, 'description': 'NY Times Bestselling author. Top Podcast with 300 million downloads. Former pro football current @usath text me here and stay connected! 📲 614-350-3960', 'rawDescription': 'NY Times Bestselling author. Top Podcast with 300 million downloads. Former pro football current @usath text me here and stay connected! 📲 614-350-3960', 'descriptionUrls': [], 'verified': True, 'created': '2008-05-14T19:54:36+00:00', 'followersCount': 193467, 'friendsCount': 34018, 'statusesCount': 132010, 'favouritesCount': 152172, 'listedCount': 5431, 'mediaCount': 4231, 'location': 'Ohio boy in NYC and LA', 'protected': False, 'linkUrl': 'http://lewishowes.com', 'linkTcourl': 'https://t.co/hLkL1LJ3d4', 'profileImageUrl': 'https://pbs.twimg.com/profile_images/904400279113687041/bSzT-5v4_normal.jpg', 'profileBannerUrl': 'https://pbs.twimg.com/profile_banners/14777649/1600464122', 'url': 'https://twitter.com/LewisHowes'}   \n",
       "61   {'username': 'LewisHowes', 'displayname': 'Lewis Howes', 'id': 14777649, 'description': 'NY Times Bestselling author. Top Podcast with 300 million downloads. Former pro football current @usath text me here and stay connected! 📲 614-350-3960', 'rawDescription': 'NY Times Bestselling author. Top Podcast with 300 million downloads. Former pro football current @usath text me here and stay connected! 📲 614-350-3960', 'descriptionUrls': [], 'verified': True, 'created': '2008-05-14T19:54:36+00:00', 'followersCount': 193467, 'friendsCount': 34018, 'statusesCount': 132010, 'favouritesCount': 152172, 'listedCount': 5431, 'mediaCount': 4231, 'location': 'Ohio boy in NYC and LA', 'protected': False, 'linkUrl': 'http://lewishowes.com', 'linkTcourl': 'https://t.co/hLkL1LJ3d4', 'profileImageUrl': 'https://pbs.twimg.com/profile_images/904400279113687041/bSzT-5v4_normal.jpg', 'profileBannerUrl': 'https://pbs.twimg.com/profile_banners/14777649/1600464122', 'url': 'https://twitter.com/LewisHowes'}   \n",
       "108  {'username': 'LewisHowes', 'displayname': 'Lewis Howes', 'id': 14777649, 'description': 'NY Times Bestselling author. Top Podcast with 300 million downloads. Former pro football current @usath text me here and stay connected! 📲 614-350-3960', 'rawDescription': 'NY Times Bestselling author. Top Podcast with 300 million downloads. Former pro football current @usath text me here and stay connected! 📲 614-350-3960', 'descriptionUrls': [], 'verified': True, 'created': '2008-05-14T19:54:36+00:00', 'followersCount': 193467, 'friendsCount': 34018, 'statusesCount': 132010, 'favouritesCount': 152172, 'listedCount': 5431, 'mediaCount': 4231, 'location': 'Ohio boy in NYC and LA', 'protected': False, 'linkUrl': 'http://lewishowes.com', 'linkTcourl': 'https://t.co/hLkL1LJ3d4', 'profileImageUrl': 'https://pbs.twimg.com/profile_images/904400279113687041/bSzT-5v4_normal.jpg', 'profileBannerUrl': 'https://pbs.twimg.com/profile_banners/14777649/1600464122', 'url': 'https://twitter.com/LewisHowes'}   \n",
       "161  {'username': 'LewisHowes', 'displayname': 'Lewis Howes', 'id': 14777649, 'description': 'NY Times Bestselling author. Top Podcast with 300 million downloads. Former pro football current @usath text me here and stay connected! 📲 614-350-3960', 'rawDescription': 'NY Times Bestselling author. Top Podcast with 300 million downloads. Former pro football current @usath text me here and stay connected! 📲 614-350-3960', 'descriptionUrls': [], 'verified': True, 'created': '2008-05-14T19:54:36+00:00', 'followersCount': 193467, 'friendsCount': 34018, 'statusesCount': 132010, 'favouritesCount': 152172, 'listedCount': 5431, 'mediaCount': 4231, 'location': 'Ohio boy in NYC and LA', 'protected': False, 'linkUrl': 'http://lewishowes.com', 'linkTcourl': 'https://t.co/hLkL1LJ3d4', 'profileImageUrl': 'https://pbs.twimg.com/profile_images/904400279113687041/bSzT-5v4_normal.jpg', 'profileBannerUrl': 'https://pbs.twimg.com/profile_banners/14777649/1600464122', 'url': 'https://twitter.com/LewisHowes'}   \n",
       "206  {'username': 'LewisHowes', 'displayname': 'Lewis Howes', 'id': 14777649, 'description': 'NY Times Bestselling author. Top Podcast with 300 million downloads. Former pro football current @usath text me here and stay connected! 📲 614-350-3960', 'rawDescription': 'NY Times Bestselling author. Top Podcast with 300 million downloads. Former pro football current @usath text me here and stay connected! 📲 614-350-3960', 'descriptionUrls': [], 'verified': True, 'created': '2008-05-14T19:54:36+00:00', 'followersCount': 193467, 'friendsCount': 34018, 'statusesCount': 132010, 'favouritesCount': 152172, 'listedCount': 5431, 'mediaCount': 4231, 'location': 'Ohio boy in NYC and LA', 'protected': False, 'linkUrl': 'http://lewishowes.com', 'linkTcourl': 'https://t.co/hLkL1LJ3d4', 'profileImageUrl': 'https://pbs.twimg.com/profile_images/904400279113687041/bSzT-5v4_normal.jpg', 'profileBannerUrl': 'https://pbs.twimg.com/profile_banners/14777649/1600464122', 'url': 'https://twitter.com/LewisHowes'}   \n",
       "\n",
       "    lang  \n",
       "44    en  \n",
       "61    en  \n",
       "108   en  \n",
       "161   en  \n",
       "206   en  "
      ]
     },
     "execution_count": 24,
     "metadata": {},
     "output_type": "execute_result"
    },
    {
     "data": {
      "application/javascript": [
       "\n",
       "            setTimeout(function() {\n",
       "                var nbb_cell_id = 24;\n",
       "                var nbb_unformatted_code = \"tweets4.head()\";\n",
       "                var nbb_formatted_code = \"tweets4.head()\";\n",
       "                var nbb_cells = Jupyter.notebook.get_cells();\n",
       "                for (var i = 0; i < nbb_cells.length; ++i) {\n",
       "                    if (nbb_cells[i].input_prompt_number == nbb_cell_id) {\n",
       "                        if (nbb_cells[i].get_text() == nbb_unformatted_code) {\n",
       "                             nbb_cells[i].set_text(nbb_formatted_code);\n",
       "                        }\n",
       "                        break;\n",
       "                    }\n",
       "                }\n",
       "            }, 500);\n",
       "            "
      ],
      "text/plain": [
       "<IPython.core.display.Javascript object>"
      ]
     },
     "metadata": {},
     "output_type": "display_data"
    }
   ],
   "source": [
    "tweets4.head()"
   ]
  },
  {
   "cell_type": "code",
   "execution_count": 25,
   "metadata": {
    "colab": {
     "base_uri": "https://localhost:8080/"
    },
    "id": "BGI9EEzSqbuu",
    "outputId": "f844f9e7-6546-4a32-cea3-01d0bf34a774"
   },
   "outputs": [
    {
     "data": {
      "text/plain": [
       "date       0\n",
       "content    0\n",
       "user       0\n",
       "lang       0\n",
       "dtype: int64"
      ]
     },
     "execution_count": 25,
     "metadata": {},
     "output_type": "execute_result"
    },
    {
     "data": {
      "application/javascript": [
       "\n",
       "            setTimeout(function() {\n",
       "                var nbb_cell_id = 25;\n",
       "                var nbb_unformatted_code = \"tweets3.isnull().sum()\";\n",
       "                var nbb_formatted_code = \"tweets3.isnull().sum()\";\n",
       "                var nbb_cells = Jupyter.notebook.get_cells();\n",
       "                for (var i = 0; i < nbb_cells.length; ++i) {\n",
       "                    if (nbb_cells[i].input_prompt_number == nbb_cell_id) {\n",
       "                        if (nbb_cells[i].get_text() == nbb_unformatted_code) {\n",
       "                             nbb_cells[i].set_text(nbb_formatted_code);\n",
       "                        }\n",
       "                        break;\n",
       "                    }\n",
       "                }\n",
       "            }, 500);\n",
       "            "
      ],
      "text/plain": [
       "<IPython.core.display.Javascript object>"
      ]
     },
     "metadata": {},
     "output_type": "display_data"
    }
   ],
   "source": [
    "tweets3.isnull().sum()"
   ]
  },
  {
   "cell_type": "code",
   "execution_count": 26,
   "metadata": {
    "colab": {
     "base_uri": "https://localhost:8080/"
    },
    "id": "UkQrvT6lqs68",
    "outputId": "7c694623-a8f7-4218-c756-6e44c7546969"
   },
   "outputs": [
    {
     "data": {
      "text/plain": [
       "date           0\n",
       "content    11050\n",
       "user           0\n",
       "lang           0\n",
       "dtype: int64"
      ]
     },
     "execution_count": 26,
     "metadata": {},
     "output_type": "execute_result"
    },
    {
     "data": {
      "application/javascript": [
       "\n",
       "            setTimeout(function() {\n",
       "                var nbb_cell_id = 26;\n",
       "                var nbb_unformatted_code = \"tweets4.isnull().sum()\";\n",
       "                var nbb_formatted_code = \"tweets4.isnull().sum()\";\n",
       "                var nbb_cells = Jupyter.notebook.get_cells();\n",
       "                for (var i = 0; i < nbb_cells.length; ++i) {\n",
       "                    if (nbb_cells[i].input_prompt_number == nbb_cell_id) {\n",
       "                        if (nbb_cells[i].get_text() == nbb_unformatted_code) {\n",
       "                             nbb_cells[i].set_text(nbb_formatted_code);\n",
       "                        }\n",
       "                        break;\n",
       "                    }\n",
       "                }\n",
       "            }, 500);\n",
       "            "
      ],
      "text/plain": [
       "<IPython.core.display.Javascript object>"
      ]
     },
     "metadata": {},
     "output_type": "display_data"
    }
   ],
   "source": [
    "tweets4.isnull().sum()"
   ]
  },
  {
   "cell_type": "code",
   "execution_count": 27,
   "metadata": {
    "colab": {
     "base_uri": "https://localhost:8080/"
    },
    "id": "mqG4TdmSqH_O",
    "outputId": "74c19233-f002-4490-b412-c8b34dd34cea"
   },
   "outputs": [
    {
     "data": {
      "text/plain": [
       "date       0\n",
       "content    0\n",
       "user       0\n",
       "lang       0\n",
       "dtype: int64"
      ]
     },
     "execution_count": 27,
     "metadata": {},
     "output_type": "execute_result"
    },
    {
     "data": {
      "application/javascript": [
       "\n",
       "            setTimeout(function() {\n",
       "                var nbb_cell_id = 27;\n",
       "                var nbb_unformatted_code = \"tweets5 = tweets4.dropna()\\n\\ntweets5.isnull().sum()\";\n",
       "                var nbb_formatted_code = \"tweets5 = tweets4.dropna()\\n\\ntweets5.isnull().sum()\";\n",
       "                var nbb_cells = Jupyter.notebook.get_cells();\n",
       "                for (var i = 0; i < nbb_cells.length; ++i) {\n",
       "                    if (nbb_cells[i].input_prompt_number == nbb_cell_id) {\n",
       "                        if (nbb_cells[i].get_text() == nbb_unformatted_code) {\n",
       "                             nbb_cells[i].set_text(nbb_formatted_code);\n",
       "                        }\n",
       "                        break;\n",
       "                    }\n",
       "                }\n",
       "            }, 500);\n",
       "            "
      ],
      "text/plain": [
       "<IPython.core.display.Javascript object>"
      ]
     },
     "metadata": {},
     "output_type": "display_data"
    }
   ],
   "source": [
    "tweets5 = tweets4.dropna()\n",
    "\n",
    "tweets5.isnull().sum()"
   ]
  },
  {
   "cell_type": "code",
   "execution_count": 28,
   "metadata": {
    "colab": {
     "base_uri": "https://localhost:8080/"
    },
    "id": "7jjn-ZvGTM7J",
    "outputId": "8777d5da-adce-4d4f-f9aa-5ed0b4adba2f"
   },
   "outputs": [
    {
     "data": {
      "text/plain": [
       "44        Know this. Everything is happening for a reason and in your favor for the betterment of your future. The pain you feel now will help later if you:  1. Look at what's not serving you 2. Listen to your intuition 3. Learn the meaning behind it 4. Let go of limits that hold you back\n",
       "61          Protect your inner peace at all costs. Create daily practices and communicate boundaries to make sure the stress and drama of others doesn't consume you. You don't need to be someone else's emotional punching bag. Your energy and happiness is too important. Protect your peace!\n",
       "108            You are stronger than you think. The painful moments that hurt you in the past were meant for you. They broke you down so you could become stronger than ever before. I know it was hard. I know you wouldn't wish it on anyone else. But I also know you wouldn't change a thing!\n",
       "161                                    Always remember to ask for exactly what you want. Ask for love, good health, abundance and peace. Ask for wisdom, creativity and positive energy. Don't be shy in your dreams. Be bold and live in gratitude because everything you want is coming to you.\n",
       "206                                       What if you treated yourself like someone you were madly in love with? Imagine what you could do with all that positive energy. Stop beating yourself up for not being perfect and start loving yourself the way you would with someone you care about.\n",
       "                                                                                                                                                   ...                                                                                                                                           \n",
       "977584                                                                                                                                                               \"You can easily judge the character of a man by how he treats those who can do nothing for him.\" -James Miles #quote #quotes\n",
       "977585                                                                                                                                                                                                                    Learning is a gift, even when pain is your teacher. #lifelesson #quotes\n",
       "977586                                                                                                                                                              \"Education is the passport to the future, for tomorrow belongs to those who prepare for it today.\" - Malcolm X #quote #quotes\n",
       "977587                                                                                                                                                           \"Life is like a finger, pointing to the Moon. If you look at the finger... you will miss all the heavenly glory.\" #quote #quotes\n",
       "977588                                                                                                                                                                                 Go as far as you can see; when you get there, you'll be able to see farther. - J. P. Morgan #quote #quotes\n",
       "Name: content, Length: 685892, dtype: object"
      ]
     },
     "execution_count": 28,
     "metadata": {},
     "output_type": "execute_result"
    },
    {
     "data": {
      "application/javascript": [
       "\n",
       "            setTimeout(function() {\n",
       "                var nbb_cell_id = 28;\n",
       "                var nbb_unformatted_code = \"tweets5[\\\"content\\\"][:-20]\";\n",
       "                var nbb_formatted_code = \"tweets5[\\\"content\\\"][:-20]\";\n",
       "                var nbb_cells = Jupyter.notebook.get_cells();\n",
       "                for (var i = 0; i < nbb_cells.length; ++i) {\n",
       "                    if (nbb_cells[i].input_prompt_number == nbb_cell_id) {\n",
       "                        if (nbb_cells[i].get_text() == nbb_unformatted_code) {\n",
       "                             nbb_cells[i].set_text(nbb_formatted_code);\n",
       "                        }\n",
       "                        break;\n",
       "                    }\n",
       "                }\n",
       "            }, 500);\n",
       "            "
      ],
      "text/plain": [
       "<IPython.core.display.Javascript object>"
      ]
     },
     "metadata": {},
     "output_type": "display_data"
    }
   ],
   "source": [
    "tweets5[\"content\"][:-20]"
   ]
  },
  {
   "cell_type": "markdown",
   "metadata": {
    "id": "81gJGsHbTM7J"
   },
   "source": [
    "As we can see we still have to remove hashtags from our tweets. We will do so next."
   ]
  },
  {
   "cell_type": "code",
   "execution_count": 29,
   "metadata": {
    "id": "0FVFmyPzTM7J"
   },
   "outputs": [
    {
     "data": {
      "application/javascript": [
       "\n",
       "            setTimeout(function() {\n",
       "                var nbb_cell_id = 29;\n",
       "                var nbb_unformatted_code = \"def remove_hashtags(text):\\n    text = re.sub(\\\"#\\\\S+\\\", \\\"\\\", str(text))\\n    return text\";\n",
       "                var nbb_formatted_code = \"def remove_hashtags(text):\\n    text = re.sub(\\\"#\\\\S+\\\", \\\"\\\", str(text))\\n    return text\";\n",
       "                var nbb_cells = Jupyter.notebook.get_cells();\n",
       "                for (var i = 0; i < nbb_cells.length; ++i) {\n",
       "                    if (nbb_cells[i].input_prompt_number == nbb_cell_id) {\n",
       "                        if (nbb_cells[i].get_text() == nbb_unformatted_code) {\n",
       "                             nbb_cells[i].set_text(nbb_formatted_code);\n",
       "                        }\n",
       "                        break;\n",
       "                    }\n",
       "                }\n",
       "            }, 500);\n",
       "            "
      ],
      "text/plain": [
       "<IPython.core.display.Javascript object>"
      ]
     },
     "metadata": {},
     "output_type": "display_data"
    }
   ],
   "source": [
    "def remove_hashtags(text):\n",
    "    text = re.sub(\"#\\S+\", \"\", str(text))\n",
    "    return text"
   ]
  },
  {
   "cell_type": "code",
   "execution_count": 30,
   "metadata": {
    "id": "jpa36DluTM7J"
   },
   "outputs": [
    {
     "data": {
      "application/javascript": [
       "\n",
       "            setTimeout(function() {\n",
       "                var nbb_cell_id = 30;\n",
       "                var nbb_unformatted_code = \"tweets6 = tweets5.copy()\\n\\nno_hashtags = [remove_hashtags(text) for text in tweets6[\\\"content\\\"]]\";\n",
       "                var nbb_formatted_code = \"tweets6 = tweets5.copy()\\n\\nno_hashtags = [remove_hashtags(text) for text in tweets6[\\\"content\\\"]]\";\n",
       "                var nbb_cells = Jupyter.notebook.get_cells();\n",
       "                for (var i = 0; i < nbb_cells.length; ++i) {\n",
       "                    if (nbb_cells[i].input_prompt_number == nbb_cell_id) {\n",
       "                        if (nbb_cells[i].get_text() == nbb_unformatted_code) {\n",
       "                             nbb_cells[i].set_text(nbb_formatted_code);\n",
       "                        }\n",
       "                        break;\n",
       "                    }\n",
       "                }\n",
       "            }, 500);\n",
       "            "
      ],
      "text/plain": [
       "<IPython.core.display.Javascript object>"
      ]
     },
     "metadata": {},
     "output_type": "display_data"
    }
   ],
   "source": [
    "tweets6 = tweets5.copy()\n",
    "\n",
    "no_hashtags = [remove_hashtags(text) for text in tweets6[\"content\"]]"
   ]
  },
  {
   "cell_type": "code",
   "execution_count": 31,
   "metadata": {
    "colab": {
     "base_uri": "https://localhost:8080/"
    },
    "id": "Mpfpo7AaTM7K",
    "outputId": "5b9a148a-baa6-4ac0-b329-05d60cbf4275"
   },
   "outputs": [
    {
     "data": {
      "text/plain": [
       "44        Know this. Everything is happening for a reason and in your favor for the betterment of your future. The pain you feel now will help later if you:  1. Look at what's not serving you 2. Listen to your intuition 3. Learn the meaning behind it 4. Let go of limits that hold you back\n",
       "61          Protect your inner peace at all costs. Create daily practices and communicate boundaries to make sure the stress and drama of others doesn't consume you. You don't need to be someone else's emotional punching bag. Your energy and happiness is too important. Protect your peace!\n",
       "108            You are stronger than you think. The painful moments that hurt you in the past were meant for you. They broke you down so you could become stronger than ever before. I know it was hard. I know you wouldn't wish it on anyone else. But I also know you wouldn't change a thing!\n",
       "161                                    Always remember to ask for exactly what you want. Ask for love, good health, abundance and peace. Ask for wisdom, creativity and positive energy. Don't be shy in your dreams. Be bold and live in gratitude because everything you want is coming to you.\n",
       "206                                       What if you treated yourself like someone you were madly in love with? Imagine what you could do with all that positive energy. Stop beating yourself up for not being perfect and start loving yourself the way you would with someone you care about.\n",
       "                                                                                                                                                   ...                                                                                                                                           \n",
       "977584                                                                                                                                                                            \"You can easily judge the character of a man by how he treats those who can do nothing for him.\" -James Miles  \n",
       "977585                                                                                                                                                                                                                                      Learning is a gift, even when pain is your teacher.  \n",
       "977586                                                                                                                                                                           \"Education is the passport to the future, for tomorrow belongs to those who prepare for it today.\" - Malcolm X  \n",
       "977587                                                                                                                                                                        \"Life is like a finger, pointing to the Moon. If you look at the finger... you will miss all the heavenly glory.\"  \n",
       "977588                                                                                                                                                                                              Go as far as you can see; when you get there, you'll be able to see farther. - J. P. Morgan  \n",
       "Name: content, Length: 685892, dtype: object"
      ]
     },
     "execution_count": 31,
     "metadata": {},
     "output_type": "execute_result"
    },
    {
     "data": {
      "application/javascript": [
       "\n",
       "            setTimeout(function() {\n",
       "                var nbb_cell_id = 31;\n",
       "                var nbb_unformatted_code = \"tweets6[\\\"content\\\"] = no_hashtags\\n\\ntweets6[\\\"content\\\"][:-20]\";\n",
       "                var nbb_formatted_code = \"tweets6[\\\"content\\\"] = no_hashtags\\n\\ntweets6[\\\"content\\\"][:-20]\";\n",
       "                var nbb_cells = Jupyter.notebook.get_cells();\n",
       "                for (var i = 0; i < nbb_cells.length; ++i) {\n",
       "                    if (nbb_cells[i].input_prompt_number == nbb_cell_id) {\n",
       "                        if (nbb_cells[i].get_text() == nbb_unformatted_code) {\n",
       "                             nbb_cells[i].set_text(nbb_formatted_code);\n",
       "                        }\n",
       "                        break;\n",
       "                    }\n",
       "                }\n",
       "            }, 500);\n",
       "            "
      ],
      "text/plain": [
       "<IPython.core.display.Javascript object>"
      ]
     },
     "metadata": {},
     "output_type": "display_data"
    }
   ],
   "source": [
    "tweets6[\"content\"] = no_hashtags\n",
    "\n",
    "tweets6[\"content\"][:-20]"
   ]
  },
  {
   "cell_type": "code",
   "execution_count": 32,
   "metadata": {
    "colab": {
     "base_uri": "https://localhost:8080/"
    },
    "id": "_MX_rgV4TM7K",
    "outputId": "dfe40675-cb2b-4899-92fa-92441b2a7fa9"
   },
   "outputs": [
    {
     "data": {
      "text/plain": [
       "(685912, 4)"
      ]
     },
     "execution_count": 32,
     "metadata": {},
     "output_type": "execute_result"
    },
    {
     "data": {
      "application/javascript": [
       "\n",
       "            setTimeout(function() {\n",
       "                var nbb_cell_id = 32;\n",
       "                var nbb_unformatted_code = \"tweets6.shape\";\n",
       "                var nbb_formatted_code = \"tweets6.shape\";\n",
       "                var nbb_cells = Jupyter.notebook.get_cells();\n",
       "                for (var i = 0; i < nbb_cells.length; ++i) {\n",
       "                    if (nbb_cells[i].input_prompt_number == nbb_cell_id) {\n",
       "                        if (nbb_cells[i].get_text() == nbb_unformatted_code) {\n",
       "                             nbb_cells[i].set_text(nbb_formatted_code);\n",
       "                        }\n",
       "                        break;\n",
       "                    }\n",
       "                }\n",
       "            }, 500);\n",
       "            "
      ],
      "text/plain": [
       "<IPython.core.display.Javascript object>"
      ]
     },
     "metadata": {},
     "output_type": "display_data"
    }
   ],
   "source": [
    "tweets6.shape"
   ]
  },
  {
   "cell_type": "code",
   "execution_count": 33,
   "metadata": {
    "colab": {
     "base_uri": "https://localhost:8080/"
    },
    "id": "_TBA1KKbsIVT",
    "outputId": "8880a13a-0329-43b6-e9dc-b7341560ce61"
   },
   "outputs": [
    {
     "name": "stdout",
     "output_type": "stream",
     "text": [
      "<class 'pandas.core.frame.DataFrame'>\n",
      "Int64Index: 685912 entries, 44 to 977610\n",
      "Data columns (total 4 columns):\n",
      " #   Column   Non-Null Count   Dtype         \n",
      "---  ------   --------------   -----         \n",
      " 0   date     685912 non-null  datetime64[ns]\n",
      " 1   content  685912 non-null  object        \n",
      " 2   user     685912 non-null  object        \n",
      " 3   lang     685912 non-null  object        \n",
      "dtypes: datetime64[ns](1), object(3)\n",
      "memory usage: 26.2+ MB\n"
     ]
    },
    {
     "data": {
      "application/javascript": [
       "\n",
       "            setTimeout(function() {\n",
       "                var nbb_cell_id = 33;\n",
       "                var nbb_unformatted_code = \"tweets6.info()\";\n",
       "                var nbb_formatted_code = \"tweets6.info()\";\n",
       "                var nbb_cells = Jupyter.notebook.get_cells();\n",
       "                for (var i = 0; i < nbb_cells.length; ++i) {\n",
       "                    if (nbb_cells[i].input_prompt_number == nbb_cell_id) {\n",
       "                        if (nbb_cells[i].get_text() == nbb_unformatted_code) {\n",
       "                             nbb_cells[i].set_text(nbb_formatted_code);\n",
       "                        }\n",
       "                        break;\n",
       "                    }\n",
       "                }\n",
       "            }, 500);\n",
       "            "
      ],
      "text/plain": [
       "<IPython.core.display.Javascript object>"
      ]
     },
     "metadata": {},
     "output_type": "display_data"
    }
   ],
   "source": [
    "tweets6.info()"
   ]
  },
  {
   "cell_type": "markdown",
   "metadata": {
    "id": "soIjaR3bsMKe"
   },
   "source": [
    "Next we will shift our cleaning away from the 'content' column and deal with the remaining 3 columns. The 'date' column is correctly identified as a datetime object. We will take no further action with that column. The language column can now be dropped since we now have all english tweets. We will extract from the 'user' column the user name and display name and save them to a new column, while dropping the soon to be redundant user column. Later we will decided which entity identifier column to keep for our chabot's drop down menu (user_name or display_name). "
   ]
  },
  {
   "cell_type": "code",
   "execution_count": 34,
   "metadata": {
    "id": "APg0U2vmTM7L"
   },
   "outputs": [
    {
     "data": {
      "application/javascript": [
       "\n",
       "            setTimeout(function() {\n",
       "                var nbb_cell_id = 34;\n",
       "                var nbb_unformatted_code = \"# extract username and display names to seperate columns\\nuser_name = \\\"username\\\"\\ndisplay_name = \\\"displayname\\\"\\n\\ntweets6[\\\"user_name\\\"] = [\\n    value[user_name] for (key, value) in tweets6[\\\"user\\\"].items() if user_name in value\\n]\\n\\ntweets6[\\\"display_name\\\"] = [\\n    value[display_name]\\n    for (key, value) in tweets6[\\\"user\\\"].items()\\n    if display_name in value\\n]\";\n",
       "                var nbb_formatted_code = \"# extract username and display names to seperate columns\\nuser_name = \\\"username\\\"\\ndisplay_name = \\\"displayname\\\"\\n\\ntweets6[\\\"user_name\\\"] = [\\n    value[user_name] for (key, value) in tweets6[\\\"user\\\"].items() if user_name in value\\n]\\n\\ntweets6[\\\"display_name\\\"] = [\\n    value[display_name]\\n    for (key, value) in tweets6[\\\"user\\\"].items()\\n    if display_name in value\\n]\";\n",
       "                var nbb_cells = Jupyter.notebook.get_cells();\n",
       "                for (var i = 0; i < nbb_cells.length; ++i) {\n",
       "                    if (nbb_cells[i].input_prompt_number == nbb_cell_id) {\n",
       "                        if (nbb_cells[i].get_text() == nbb_unformatted_code) {\n",
       "                             nbb_cells[i].set_text(nbb_formatted_code);\n",
       "                        }\n",
       "                        break;\n",
       "                    }\n",
       "                }\n",
       "            }, 500);\n",
       "            "
      ],
      "text/plain": [
       "<IPython.core.display.Javascript object>"
      ]
     },
     "metadata": {},
     "output_type": "display_data"
    }
   ],
   "source": [
    "# extract username and display names to seperate columns\n",
    "user_name = \"username\"\n",
    "display_name = \"displayname\"\n",
    "\n",
    "tweets6[\"user_name\"] = [\n",
    "    value[user_name] for (key, value) in tweets6[\"user\"].items() if user_name in value\n",
    "]\n",
    "\n",
    "tweets6[\"display_name\"] = [\n",
    "    value[display_name]\n",
    "    for (key, value) in tweets6[\"user\"].items()\n",
    "    if display_name in value\n",
    "]"
   ]
  },
  {
   "cell_type": "code",
   "execution_count": 35,
   "metadata": {
    "colab": {
     "base_uri": "https://localhost:8080/",
     "height": 1000
    },
    "id": "GDsxQHm1TM7M",
    "outputId": "047c17ad-c594-4932-b47f-5079d2d54b91"
   },
   "outputs": [
    {
     "data": {
      "text/html": [
       "<div>\n",
       "<style scoped>\n",
       "    .dataframe tbody tr th:only-of-type {\n",
       "        vertical-align: middle;\n",
       "    }\n",
       "\n",
       "    .dataframe tbody tr th {\n",
       "        vertical-align: top;\n",
       "    }\n",
       "\n",
       "    .dataframe thead th {\n",
       "        text-align: right;\n",
       "    }\n",
       "</style>\n",
       "<table border=\"1\" class=\"dataframe\">\n",
       "  <thead>\n",
       "    <tr style=\"text-align: right;\">\n",
       "      <th></th>\n",
       "      <th>date</th>\n",
       "      <th>content</th>\n",
       "      <th>user</th>\n",
       "      <th>lang</th>\n",
       "      <th>user_name</th>\n",
       "      <th>display_name</th>\n",
       "    </tr>\n",
       "  </thead>\n",
       "  <tbody>\n",
       "    <tr>\n",
       "      <th>44</th>\n",
       "      <td>2021-01-17 22:13:17</td>\n",
       "      <td>Know this. Everything is happening for a reason and in your favor for the betterment of your future. The pain you feel now will help later if you:  1. Look at what's not serving you 2. Listen to your intuition 3. Learn the meaning behind it 4. Let go of limits that hold you back</td>\n",
       "      <td>{'username': 'LewisHowes', 'displayname': 'Lewis Howes', 'id': 14777649, 'description': 'NY Times Bestselling author. Top Podcast with 300 million downloads. Former pro football current @usath text me here and stay connected! 📲 614-350-3960', 'rawDescription': 'NY Times Bestselling author. Top Podcast with 300 million downloads. Former pro football current @usath text me here and stay connected! 📲 614-350-3960', 'descriptionUrls': [], 'verified': True, 'created': '2008-05-14T19:54:36+00:00', 'followersCount': 193467, 'friendsCount': 34018, 'statusesCount': 132010, 'favouritesCount': 152172, 'listedCount': 5431, 'mediaCount': 4231, 'location': 'Ohio boy in NYC and LA', 'protected': False, 'linkUrl': 'http://lewishowes.com', 'linkTcourl': 'https://t.co/hLkL1LJ3d4', 'profileImageUrl': 'https://pbs.twimg.com/profile_images/904400279113687041/bSzT-5v4_normal.jpg', 'profileBannerUrl': 'https://pbs.twimg.com/profile_banners/14777649/1600464122', 'url': 'https://twitter.com/LewisHowes'}</td>\n",
       "      <td>en</td>\n",
       "      <td>LewisHowes</td>\n",
       "      <td>Lewis Howes</td>\n",
       "    </tr>\n",
       "    <tr>\n",
       "      <th>61</th>\n",
       "      <td>2021-01-15 15:28:06</td>\n",
       "      <td>Protect your inner peace at all costs. Create daily practices and communicate boundaries to make sure the stress and drama of others doesn't consume you. You don't need to be someone else's emotional punching bag. Your energy and happiness is too important. Protect your peace!</td>\n",
       "      <td>{'username': 'LewisHowes', 'displayname': 'Lewis Howes', 'id': 14777649, 'description': 'NY Times Bestselling author. Top Podcast with 300 million downloads. Former pro football current @usath text me here and stay connected! 📲 614-350-3960', 'rawDescription': 'NY Times Bestselling author. Top Podcast with 300 million downloads. Former pro football current @usath text me here and stay connected! 📲 614-350-3960', 'descriptionUrls': [], 'verified': True, 'created': '2008-05-14T19:54:36+00:00', 'followersCount': 193467, 'friendsCount': 34018, 'statusesCount': 132010, 'favouritesCount': 152172, 'listedCount': 5431, 'mediaCount': 4231, 'location': 'Ohio boy in NYC and LA', 'protected': False, 'linkUrl': 'http://lewishowes.com', 'linkTcourl': 'https://t.co/hLkL1LJ3d4', 'profileImageUrl': 'https://pbs.twimg.com/profile_images/904400279113687041/bSzT-5v4_normal.jpg', 'profileBannerUrl': 'https://pbs.twimg.com/profile_banners/14777649/1600464122', 'url': 'https://twitter.com/LewisHowes'}</td>\n",
       "      <td>en</td>\n",
       "      <td>LewisHowes</td>\n",
       "      <td>Lewis Howes</td>\n",
       "    </tr>\n",
       "    <tr>\n",
       "      <th>108</th>\n",
       "      <td>2021-01-12 16:40:46</td>\n",
       "      <td>You are stronger than you think. The painful moments that hurt you in the past were meant for you. They broke you down so you could become stronger than ever before. I know it was hard. I know you wouldn't wish it on anyone else. But I also know you wouldn't change a thing!</td>\n",
       "      <td>{'username': 'LewisHowes', 'displayname': 'Lewis Howes', 'id': 14777649, 'description': 'NY Times Bestselling author. Top Podcast with 300 million downloads. Former pro football current @usath text me here and stay connected! 📲 614-350-3960', 'rawDescription': 'NY Times Bestselling author. Top Podcast with 300 million downloads. Former pro football current @usath text me here and stay connected! 📲 614-350-3960', 'descriptionUrls': [], 'verified': True, 'created': '2008-05-14T19:54:36+00:00', 'followersCount': 193467, 'friendsCount': 34018, 'statusesCount': 132010, 'favouritesCount': 152172, 'listedCount': 5431, 'mediaCount': 4231, 'location': 'Ohio boy in NYC and LA', 'protected': False, 'linkUrl': 'http://lewishowes.com', 'linkTcourl': 'https://t.co/hLkL1LJ3d4', 'profileImageUrl': 'https://pbs.twimg.com/profile_images/904400279113687041/bSzT-5v4_normal.jpg', 'profileBannerUrl': 'https://pbs.twimg.com/profile_banners/14777649/1600464122', 'url': 'https://twitter.com/LewisHowes'}</td>\n",
       "      <td>en</td>\n",
       "      <td>LewisHowes</td>\n",
       "      <td>Lewis Howes</td>\n",
       "    </tr>\n",
       "    <tr>\n",
       "      <th>161</th>\n",
       "      <td>2021-01-07 16:00:29</td>\n",
       "      <td>Always remember to ask for exactly what you want. Ask for love, good health, abundance and peace. Ask for wisdom, creativity and positive energy. Don't be shy in your dreams. Be bold and live in gratitude because everything you want is coming to you.</td>\n",
       "      <td>{'username': 'LewisHowes', 'displayname': 'Lewis Howes', 'id': 14777649, 'description': 'NY Times Bestselling author. Top Podcast with 300 million downloads. Former pro football current @usath text me here and stay connected! 📲 614-350-3960', 'rawDescription': 'NY Times Bestselling author. Top Podcast with 300 million downloads. Former pro football current @usath text me here and stay connected! 📲 614-350-3960', 'descriptionUrls': [], 'verified': True, 'created': '2008-05-14T19:54:36+00:00', 'followersCount': 193467, 'friendsCount': 34018, 'statusesCount': 132010, 'favouritesCount': 152172, 'listedCount': 5431, 'mediaCount': 4231, 'location': 'Ohio boy in NYC and LA', 'protected': False, 'linkUrl': 'http://lewishowes.com', 'linkTcourl': 'https://t.co/hLkL1LJ3d4', 'profileImageUrl': 'https://pbs.twimg.com/profile_images/904400279113687041/bSzT-5v4_normal.jpg', 'profileBannerUrl': 'https://pbs.twimg.com/profile_banners/14777649/1600464122', 'url': 'https://twitter.com/LewisHowes'}</td>\n",
       "      <td>en</td>\n",
       "      <td>LewisHowes</td>\n",
       "      <td>Lewis Howes</td>\n",
       "    </tr>\n",
       "    <tr>\n",
       "      <th>206</th>\n",
       "      <td>2021-01-05 00:11:24</td>\n",
       "      <td>What if you treated yourself like someone you were madly in love with? Imagine what you could do with all that positive energy. Stop beating yourself up for not being perfect and start loving yourself the way you would with someone you care about.</td>\n",
       "      <td>{'username': 'LewisHowes', 'displayname': 'Lewis Howes', 'id': 14777649, 'description': 'NY Times Bestselling author. Top Podcast with 300 million downloads. Former pro football current @usath text me here and stay connected! 📲 614-350-3960', 'rawDescription': 'NY Times Bestselling author. Top Podcast with 300 million downloads. Former pro football current @usath text me here and stay connected! 📲 614-350-3960', 'descriptionUrls': [], 'verified': True, 'created': '2008-05-14T19:54:36+00:00', 'followersCount': 193467, 'friendsCount': 34018, 'statusesCount': 132010, 'favouritesCount': 152172, 'listedCount': 5431, 'mediaCount': 4231, 'location': 'Ohio boy in NYC and LA', 'protected': False, 'linkUrl': 'http://lewishowes.com', 'linkTcourl': 'https://t.co/hLkL1LJ3d4', 'profileImageUrl': 'https://pbs.twimg.com/profile_images/904400279113687041/bSzT-5v4_normal.jpg', 'profileBannerUrl': 'https://pbs.twimg.com/profile_banners/14777649/1600464122', 'url': 'https://twitter.com/LewisHowes'}</td>\n",
       "      <td>en</td>\n",
       "      <td>LewisHowes</td>\n",
       "      <td>Lewis Howes</td>\n",
       "    </tr>\n",
       "  </tbody>\n",
       "</table>\n",
       "</div>"
      ],
      "text/plain": [
       "                   date  \\\n",
       "44  2021-01-17 22:13:17   \n",
       "61  2021-01-15 15:28:06   \n",
       "108 2021-01-12 16:40:46   \n",
       "161 2021-01-07 16:00:29   \n",
       "206 2021-01-05 00:11:24   \n",
       "\n",
       "                                                                                                                                                                                                                                                                                     content  \\\n",
       "44   Know this. Everything is happening for a reason and in your favor for the betterment of your future. The pain you feel now will help later if you:  1. Look at what's not serving you 2. Listen to your intuition 3. Learn the meaning behind it 4. Let go of limits that hold you back   \n",
       "61     Protect your inner peace at all costs. Create daily practices and communicate boundaries to make sure the stress and drama of others doesn't consume you. You don't need to be someone else's emotional punching bag. Your energy and happiness is too important. Protect your peace!   \n",
       "108       You are stronger than you think. The painful moments that hurt you in the past were meant for you. They broke you down so you could become stronger than ever before. I know it was hard. I know you wouldn't wish it on anyone else. But I also know you wouldn't change a thing!   \n",
       "161                               Always remember to ask for exactly what you want. Ask for love, good health, abundance and peace. Ask for wisdom, creativity and positive energy. Don't be shy in your dreams. Be bold and live in gratitude because everything you want is coming to you.   \n",
       "206                                  What if you treated yourself like someone you were madly in love with? Imagine what you could do with all that positive energy. Stop beating yourself up for not being perfect and start loving yourself the way you would with someone you care about.   \n",
       "\n",
       "                                                                                                                                                                                                                                                                                                                                                                                                                                                                                                                                                                                                                                                                                                                                                                                                                                                                                                                                                                                                                                  user  \\\n",
       "44   {'username': 'LewisHowes', 'displayname': 'Lewis Howes', 'id': 14777649, 'description': 'NY Times Bestselling author. Top Podcast with 300 million downloads. Former pro football current @usath text me here and stay connected! 📲 614-350-3960', 'rawDescription': 'NY Times Bestselling author. Top Podcast with 300 million downloads. Former pro football current @usath text me here and stay connected! 📲 614-350-3960', 'descriptionUrls': [], 'verified': True, 'created': '2008-05-14T19:54:36+00:00', 'followersCount': 193467, 'friendsCount': 34018, 'statusesCount': 132010, 'favouritesCount': 152172, 'listedCount': 5431, 'mediaCount': 4231, 'location': 'Ohio boy in NYC and LA', 'protected': False, 'linkUrl': 'http://lewishowes.com', 'linkTcourl': 'https://t.co/hLkL1LJ3d4', 'profileImageUrl': 'https://pbs.twimg.com/profile_images/904400279113687041/bSzT-5v4_normal.jpg', 'profileBannerUrl': 'https://pbs.twimg.com/profile_banners/14777649/1600464122', 'url': 'https://twitter.com/LewisHowes'}   \n",
       "61   {'username': 'LewisHowes', 'displayname': 'Lewis Howes', 'id': 14777649, 'description': 'NY Times Bestselling author. Top Podcast with 300 million downloads. Former pro football current @usath text me here and stay connected! 📲 614-350-3960', 'rawDescription': 'NY Times Bestselling author. Top Podcast with 300 million downloads. Former pro football current @usath text me here and stay connected! 📲 614-350-3960', 'descriptionUrls': [], 'verified': True, 'created': '2008-05-14T19:54:36+00:00', 'followersCount': 193467, 'friendsCount': 34018, 'statusesCount': 132010, 'favouritesCount': 152172, 'listedCount': 5431, 'mediaCount': 4231, 'location': 'Ohio boy in NYC and LA', 'protected': False, 'linkUrl': 'http://lewishowes.com', 'linkTcourl': 'https://t.co/hLkL1LJ3d4', 'profileImageUrl': 'https://pbs.twimg.com/profile_images/904400279113687041/bSzT-5v4_normal.jpg', 'profileBannerUrl': 'https://pbs.twimg.com/profile_banners/14777649/1600464122', 'url': 'https://twitter.com/LewisHowes'}   \n",
       "108  {'username': 'LewisHowes', 'displayname': 'Lewis Howes', 'id': 14777649, 'description': 'NY Times Bestselling author. Top Podcast with 300 million downloads. Former pro football current @usath text me here and stay connected! 📲 614-350-3960', 'rawDescription': 'NY Times Bestselling author. Top Podcast with 300 million downloads. Former pro football current @usath text me here and stay connected! 📲 614-350-3960', 'descriptionUrls': [], 'verified': True, 'created': '2008-05-14T19:54:36+00:00', 'followersCount': 193467, 'friendsCount': 34018, 'statusesCount': 132010, 'favouritesCount': 152172, 'listedCount': 5431, 'mediaCount': 4231, 'location': 'Ohio boy in NYC and LA', 'protected': False, 'linkUrl': 'http://lewishowes.com', 'linkTcourl': 'https://t.co/hLkL1LJ3d4', 'profileImageUrl': 'https://pbs.twimg.com/profile_images/904400279113687041/bSzT-5v4_normal.jpg', 'profileBannerUrl': 'https://pbs.twimg.com/profile_banners/14777649/1600464122', 'url': 'https://twitter.com/LewisHowes'}   \n",
       "161  {'username': 'LewisHowes', 'displayname': 'Lewis Howes', 'id': 14777649, 'description': 'NY Times Bestselling author. Top Podcast with 300 million downloads. Former pro football current @usath text me here and stay connected! 📲 614-350-3960', 'rawDescription': 'NY Times Bestselling author. Top Podcast with 300 million downloads. Former pro football current @usath text me here and stay connected! 📲 614-350-3960', 'descriptionUrls': [], 'verified': True, 'created': '2008-05-14T19:54:36+00:00', 'followersCount': 193467, 'friendsCount': 34018, 'statusesCount': 132010, 'favouritesCount': 152172, 'listedCount': 5431, 'mediaCount': 4231, 'location': 'Ohio boy in NYC and LA', 'protected': False, 'linkUrl': 'http://lewishowes.com', 'linkTcourl': 'https://t.co/hLkL1LJ3d4', 'profileImageUrl': 'https://pbs.twimg.com/profile_images/904400279113687041/bSzT-5v4_normal.jpg', 'profileBannerUrl': 'https://pbs.twimg.com/profile_banners/14777649/1600464122', 'url': 'https://twitter.com/LewisHowes'}   \n",
       "206  {'username': 'LewisHowes', 'displayname': 'Lewis Howes', 'id': 14777649, 'description': 'NY Times Bestselling author. Top Podcast with 300 million downloads. Former pro football current @usath text me here and stay connected! 📲 614-350-3960', 'rawDescription': 'NY Times Bestselling author. Top Podcast with 300 million downloads. Former pro football current @usath text me here and stay connected! 📲 614-350-3960', 'descriptionUrls': [], 'verified': True, 'created': '2008-05-14T19:54:36+00:00', 'followersCount': 193467, 'friendsCount': 34018, 'statusesCount': 132010, 'favouritesCount': 152172, 'listedCount': 5431, 'mediaCount': 4231, 'location': 'Ohio boy in NYC and LA', 'protected': False, 'linkUrl': 'http://lewishowes.com', 'linkTcourl': 'https://t.co/hLkL1LJ3d4', 'profileImageUrl': 'https://pbs.twimg.com/profile_images/904400279113687041/bSzT-5v4_normal.jpg', 'profileBannerUrl': 'https://pbs.twimg.com/profile_banners/14777649/1600464122', 'url': 'https://twitter.com/LewisHowes'}   \n",
       "\n",
       "    lang   user_name display_name  \n",
       "44    en  LewisHowes  Lewis Howes  \n",
       "61    en  LewisHowes  Lewis Howes  \n",
       "108   en  LewisHowes  Lewis Howes  \n",
       "161   en  LewisHowes  Lewis Howes  \n",
       "206   en  LewisHowes  Lewis Howes  "
      ]
     },
     "execution_count": 35,
     "metadata": {},
     "output_type": "execute_result"
    },
    {
     "data": {
      "application/javascript": [
       "\n",
       "            setTimeout(function() {\n",
       "                var nbb_cell_id = 35;\n",
       "                var nbb_unformatted_code = \"tweets6.head()\";\n",
       "                var nbb_formatted_code = \"tweets6.head()\";\n",
       "                var nbb_cells = Jupyter.notebook.get_cells();\n",
       "                for (var i = 0; i < nbb_cells.length; ++i) {\n",
       "                    if (nbb_cells[i].input_prompt_number == nbb_cell_id) {\n",
       "                        if (nbb_cells[i].get_text() == nbb_unformatted_code) {\n",
       "                             nbb_cells[i].set_text(nbb_formatted_code);\n",
       "                        }\n",
       "                        break;\n",
       "                    }\n",
       "                }\n",
       "            }, 500);\n",
       "            "
      ],
      "text/plain": [
       "<IPython.core.display.Javascript object>"
      ]
     },
     "metadata": {},
     "output_type": "display_data"
    }
   ],
   "source": [
    "tweets6.head()"
   ]
  },
  {
   "cell_type": "code",
   "execution_count": 36,
   "metadata": {
    "colab": {
     "base_uri": "https://localhost:8080/",
     "height": 374
    },
    "id": "SoyXLCi9TM7M",
    "outputId": "e6287ad9-a7da-4eda-f3f7-0d79f859419b"
   },
   "outputs": [
    {
     "data": {
      "text/html": [
       "<div>\n",
       "<style scoped>\n",
       "    .dataframe tbody tr th:only-of-type {\n",
       "        vertical-align: middle;\n",
       "    }\n",
       "\n",
       "    .dataframe tbody tr th {\n",
       "        vertical-align: top;\n",
       "    }\n",
       "\n",
       "    .dataframe thead th {\n",
       "        text-align: right;\n",
       "    }\n",
       "</style>\n",
       "<table border=\"1\" class=\"dataframe\">\n",
       "  <thead>\n",
       "    <tr style=\"text-align: right;\">\n",
       "      <th></th>\n",
       "      <th>date</th>\n",
       "      <th>user_name</th>\n",
       "      <th>display_name</th>\n",
       "      <th>content</th>\n",
       "    </tr>\n",
       "  </thead>\n",
       "  <tbody>\n",
       "    <tr>\n",
       "      <th>44</th>\n",
       "      <td>2021-01-17 22:13:17</td>\n",
       "      <td>LewisHowes</td>\n",
       "      <td>Lewis Howes</td>\n",
       "      <td>Know this. Everything is happening for a reason and in your favor for the betterment of your future. The pain you feel now will help later if you:  1. Look at what's not serving you 2. Listen to your intuition 3. Learn the meaning behind it 4. Let go of limits that hold you back</td>\n",
       "    </tr>\n",
       "    <tr>\n",
       "      <th>61</th>\n",
       "      <td>2021-01-15 15:28:06</td>\n",
       "      <td>LewisHowes</td>\n",
       "      <td>Lewis Howes</td>\n",
       "      <td>Protect your inner peace at all costs. Create daily practices and communicate boundaries to make sure the stress and drama of others doesn't consume you. You don't need to be someone else's emotional punching bag. Your energy and happiness is too important. Protect your peace!</td>\n",
       "    </tr>\n",
       "    <tr>\n",
       "      <th>108</th>\n",
       "      <td>2021-01-12 16:40:46</td>\n",
       "      <td>LewisHowes</td>\n",
       "      <td>Lewis Howes</td>\n",
       "      <td>You are stronger than you think. The painful moments that hurt you in the past were meant for you. They broke you down so you could become stronger than ever before. I know it was hard. I know you wouldn't wish it on anyone else. But I also know you wouldn't change a thing!</td>\n",
       "    </tr>\n",
       "    <tr>\n",
       "      <th>161</th>\n",
       "      <td>2021-01-07 16:00:29</td>\n",
       "      <td>LewisHowes</td>\n",
       "      <td>Lewis Howes</td>\n",
       "      <td>Always remember to ask for exactly what you want. Ask for love, good health, abundance and peace. Ask for wisdom, creativity and positive energy. Don't be shy in your dreams. Be bold and live in gratitude because everything you want is coming to you.</td>\n",
       "    </tr>\n",
       "    <tr>\n",
       "      <th>206</th>\n",
       "      <td>2021-01-05 00:11:24</td>\n",
       "      <td>LewisHowes</td>\n",
       "      <td>Lewis Howes</td>\n",
       "      <td>What if you treated yourself like someone you were madly in love with? Imagine what you could do with all that positive energy. Stop beating yourself up for not being perfect and start loving yourself the way you would with someone you care about.</td>\n",
       "    </tr>\n",
       "  </tbody>\n",
       "</table>\n",
       "</div>"
      ],
      "text/plain": [
       "                   date   user_name display_name  \\\n",
       "44  2021-01-17 22:13:17  LewisHowes  Lewis Howes   \n",
       "61  2021-01-15 15:28:06  LewisHowes  Lewis Howes   \n",
       "108 2021-01-12 16:40:46  LewisHowes  Lewis Howes   \n",
       "161 2021-01-07 16:00:29  LewisHowes  Lewis Howes   \n",
       "206 2021-01-05 00:11:24  LewisHowes  Lewis Howes   \n",
       "\n",
       "                                                                                                                                                                                                                                                                                     content  \n",
       "44   Know this. Everything is happening for a reason and in your favor for the betterment of your future. The pain you feel now will help later if you:  1. Look at what's not serving you 2. Listen to your intuition 3. Learn the meaning behind it 4. Let go of limits that hold you back  \n",
       "61     Protect your inner peace at all costs. Create daily practices and communicate boundaries to make sure the stress and drama of others doesn't consume you. You don't need to be someone else's emotional punching bag. Your energy and happiness is too important. Protect your peace!  \n",
       "108       You are stronger than you think. The painful moments that hurt you in the past were meant for you. They broke you down so you could become stronger than ever before. I know it was hard. I know you wouldn't wish it on anyone else. But I also know you wouldn't change a thing!  \n",
       "161                               Always remember to ask for exactly what you want. Ask for love, good health, abundance and peace. Ask for wisdom, creativity and positive energy. Don't be shy in your dreams. Be bold and live in gratitude because everything you want is coming to you.  \n",
       "206                                  What if you treated yourself like someone you were madly in love with? Imagine what you could do with all that positive energy. Stop beating yourself up for not being perfect and start loving yourself the way you would with someone you care about.  "
      ]
     },
     "execution_count": 36,
     "metadata": {},
     "output_type": "execute_result"
    },
    {
     "data": {
      "application/javascript": [
       "\n",
       "            setTimeout(function() {\n",
       "                var nbb_cell_id = 36;\n",
       "                var nbb_unformatted_code = \"# tweets cleaned will be used later for chatbot after topic modeling\\ntweets_cleaned = tweets6.drop([\\\"user\\\",'lang'], axis=1)\\n\\ntweets_cleaned = tweets_cleaned[['date','user_name','display_name','content']]\\ntweets_cleaned.head()\";\n",
       "                var nbb_formatted_code = \"# tweets cleaned will be used later for chatbot after topic modeling\\ntweets_cleaned = tweets6.drop([\\\"user\\\", \\\"lang\\\"], axis=1)\\n\\ntweets_cleaned = tweets_cleaned[[\\\"date\\\", \\\"user_name\\\", \\\"display_name\\\", \\\"content\\\"]]\\ntweets_cleaned.head()\";\n",
       "                var nbb_cells = Jupyter.notebook.get_cells();\n",
       "                for (var i = 0; i < nbb_cells.length; ++i) {\n",
       "                    if (nbb_cells[i].input_prompt_number == nbb_cell_id) {\n",
       "                        if (nbb_cells[i].get_text() == nbb_unformatted_code) {\n",
       "                             nbb_cells[i].set_text(nbb_formatted_code);\n",
       "                        }\n",
       "                        break;\n",
       "                    }\n",
       "                }\n",
       "            }, 500);\n",
       "            "
      ],
      "text/plain": [
       "<IPython.core.display.Javascript object>"
      ]
     },
     "metadata": {},
     "output_type": "display_data"
    }
   ],
   "source": [
    "# tweets cleaned will be used later for chatbot after topic modeling\n",
    "tweets_cleaned = tweets6.drop([\"user\", \"lang\"], axis=1)\n",
    "\n",
    "tweets_cleaned = tweets_cleaned[[\"date\", \"user_name\", \"display_name\", \"content\"]]\n",
    "tweets_cleaned.head()"
   ]
  },
  {
   "cell_type": "code",
   "execution_count": 37,
   "metadata": {
    "colab": {
     "base_uri": "https://localhost:8080/"
    },
    "id": "ZSD9XFIYTM7N",
    "outputId": "0cd207a3-fcc0-4e87-a79c-da896b5e198d"
   },
   "outputs": [
    {
     "name": "stdout",
     "output_type": "stream",
     "text": [
      "<class 'pandas.core.frame.DataFrame'>\n",
      "Int64Index: 685912 entries, 44 to 977610\n",
      "Data columns (total 4 columns):\n",
      " #   Column        Non-Null Count   Dtype         \n",
      "---  ------        --------------   -----         \n",
      " 0   date          685912 non-null  datetime64[ns]\n",
      " 1   user_name     685912 non-null  object        \n",
      " 2   display_name  685912 non-null  object        \n",
      " 3   content       685912 non-null  object        \n",
      "dtypes: datetime64[ns](1), object(3)\n",
      "memory usage: 26.2+ MB\n"
     ]
    },
    {
     "data": {
      "application/javascript": [
       "\n",
       "            setTimeout(function() {\n",
       "                var nbb_cell_id = 37;\n",
       "                var nbb_unformatted_code = \"tweets_cleaned.info()\";\n",
       "                var nbb_formatted_code = \"tweets_cleaned.info()\";\n",
       "                var nbb_cells = Jupyter.notebook.get_cells();\n",
       "                for (var i = 0; i < nbb_cells.length; ++i) {\n",
       "                    if (nbb_cells[i].input_prompt_number == nbb_cell_id) {\n",
       "                        if (nbb_cells[i].get_text() == nbb_unformatted_code) {\n",
       "                             nbb_cells[i].set_text(nbb_formatted_code);\n",
       "                        }\n",
       "                        break;\n",
       "                    }\n",
       "                }\n",
       "            }, 500);\n",
       "            "
      ],
      "text/plain": [
       "<IPython.core.display.Javascript object>"
      ]
     },
     "metadata": {},
     "output_type": "display_data"
    }
   ],
   "source": [
    "tweets_cleaned.info()"
   ]
  },
  {
   "cell_type": "code",
   "execution_count": 38,
   "metadata": {
    "id": "eAYMHTJ8Awi9"
   },
   "outputs": [
    {
     "data": {
      "application/javascript": [
       "\n",
       "            setTimeout(function() {\n",
       "                var nbb_cell_id = 38;\n",
       "                var nbb_unformatted_code = \"# tweets processed for EDA - punctuation removed, numbers, lower case all text, and remove any remaining web links\\ndef text_cleaner(text):\\n    # remove web links, special characters, and numbers\\n    text = re.sub(\\n        r\\\"\\\"\\\"(?i)\\\\b((?:https?://|www\\\\d{0,3}[.]|[a-z0-9.\\\\-]+[.][a-z]{2,4}/)(?:[^\\\\s()<>]+|\\\\(([^\\\\s()<>]+\\n        |(\\\\([^\\\\s()<>]+\\\\)))*\\\\))+(?:\\\\(([^\\\\s()<>]+|(\\\\([^\\\\s()<>]+\\\\)))*\\\\)|[^\\\\s`!()\\\\[\\\\]{};:'\\\".,<>?\\u00ab\\u00bb\\u201c\\u201d\\u2018\\u2019]))\\\"\\\"\\\",\\n        \\\"\\\",\\n        text,\\n    )\\n    # make alphanumeric\\n    text = re.sub(\\\"\\\\w*\\\\d\\\\w*\\\", \\\" \\\", text)\\n    # lower case and remove punctuation\\n    text = re.sub(\\\"[%s]\\\" % re.escape(string.punctuation), \\\" \\\", text.lower())\\n    text = \\\" \\\".join(text.split())\\n    return text\\n\\n\\ndef column_cleaner(column):\\n    temp = []\\n    for c in column:\\n        cleaned = text_cleaner(c)\\n        temp.append(cleaned)\\n\\n    column = temp\\n    return column\";\n",
       "                var nbb_formatted_code = \"# tweets processed for EDA - punctuation removed, numbers, lower case all text, and remove any remaining web links\\ndef text_cleaner(text):\\n    # remove web links, special characters, and numbers\\n    text = re.sub(\\n        r\\\"\\\"\\\"(?i)\\\\b((?:https?://|www\\\\d{0,3}[.]|[a-z0-9.\\\\-]+[.][a-z]{2,4}/)(?:[^\\\\s()<>]+|\\\\(([^\\\\s()<>]+\\n        |(\\\\([^\\\\s()<>]+\\\\)))*\\\\))+(?:\\\\(([^\\\\s()<>]+|(\\\\([^\\\\s()<>]+\\\\)))*\\\\)|[^\\\\s`!()\\\\[\\\\]{};:'\\\".,<>?\\u00ab\\u00bb\\u201c\\u201d\\u2018\\u2019]))\\\"\\\"\\\",\\n        \\\"\\\",\\n        text,\\n    )\\n    # make alphanumeric\\n    text = re.sub(\\\"\\\\w*\\\\d\\\\w*\\\", \\\" \\\", text)\\n    # lower case and remove punctuation\\n    text = re.sub(\\\"[%s]\\\" % re.escape(string.punctuation), \\\" \\\", text.lower())\\n    text = \\\" \\\".join(text.split())\\n    return text\\n\\n\\ndef column_cleaner(column):\\n    temp = []\\n    for c in column:\\n        cleaned = text_cleaner(c)\\n        temp.append(cleaned)\\n\\n    column = temp\\n    return column\";\n",
       "                var nbb_cells = Jupyter.notebook.get_cells();\n",
       "                for (var i = 0; i < nbb_cells.length; ++i) {\n",
       "                    if (nbb_cells[i].input_prompt_number == nbb_cell_id) {\n",
       "                        if (nbb_cells[i].get_text() == nbb_unformatted_code) {\n",
       "                             nbb_cells[i].set_text(nbb_formatted_code);\n",
       "                        }\n",
       "                        break;\n",
       "                    }\n",
       "                }\n",
       "            }, 500);\n",
       "            "
      ],
      "text/plain": [
       "<IPython.core.display.Javascript object>"
      ]
     },
     "metadata": {},
     "output_type": "display_data"
    }
   ],
   "source": [
    "# tweets processed for EDA - punctuation removed, numbers, lower case all text, and remove any remaining web links\n",
    "def text_cleaner(text):\n",
    "    # remove web links, special characters, and numbers\n",
    "    text = re.sub(\n",
    "        r\"\"\"(?i)\\b((?:https?://|www\\d{0,3}[.]|[a-z0-9.\\-]+[.][a-z]{2,4}/)(?:[^\\s()<>]+|\\(([^\\s()<>]+\n",
    "        |(\\([^\\s()<>]+\\)))*\\))+(?:\\(([^\\s()<>]+|(\\([^\\s()<>]+\\)))*\\)|[^\\s`!()\\[\\]{};:'\".,<>?«»“”‘’]))\"\"\",\n",
    "        \"\",\n",
    "        text,\n",
    "    )\n",
    "    # make alphanumeric\n",
    "    text = re.sub(\"\\w*\\d\\w*\", \" \", text)\n",
    "    # lower case and remove punctuation\n",
    "    text = re.sub(\"[%s]\" % re.escape(string.punctuation), \" \", text.lower())\n",
    "    text = \" \".join(text.split())\n",
    "    return text\n",
    "\n",
    "\n",
    "def column_cleaner(column):\n",
    "    temp = []\n",
    "    for c in column:\n",
    "        cleaned = text_cleaner(c)\n",
    "        temp.append(cleaned)\n",
    "\n",
    "    column = temp\n",
    "    return column"
   ]
  },
  {
   "cell_type": "code",
   "execution_count": 39,
   "metadata": {
    "id": "VXRegfA1BCZd"
   },
   "outputs": [
    {
     "data": {
      "application/javascript": [
       "\n",
       "            setTimeout(function() {\n",
       "                var nbb_cell_id = 39;\n",
       "                var nbb_unformatted_code = \"# tweets_cleaned['content_cleaned'] = column_cleaner(tweets_cleaned['content'])\\n\\n# tweets_cleaned.head()\";\n",
       "                var nbb_formatted_code = \"# tweets_cleaned['content_cleaned'] = column_cleaner(tweets_cleaned['content'])\\n\\n# tweets_cleaned.head()\";\n",
       "                var nbb_cells = Jupyter.notebook.get_cells();\n",
       "                for (var i = 0; i < nbb_cells.length; ++i) {\n",
       "                    if (nbb_cells[i].input_prompt_number == nbb_cell_id) {\n",
       "                        if (nbb_cells[i].get_text() == nbb_unformatted_code) {\n",
       "                             nbb_cells[i].set_text(nbb_formatted_code);\n",
       "                        }\n",
       "                        break;\n",
       "                    }\n",
       "                }\n",
       "            }, 500);\n",
       "            "
      ],
      "text/plain": [
       "<IPython.core.display.Javascript object>"
      ]
     },
     "metadata": {},
     "output_type": "display_data"
    }
   ],
   "source": [
    "# tweets_cleaned['content_cleaned'] = column_cleaner(tweets_cleaned['content'])\n",
    "\n",
    "# tweets_cleaned.head()"
   ]
  },
  {
   "cell_type": "code",
   "execution_count": 40,
   "metadata": {
    "id": "B4zsVAoaDNOt"
   },
   "outputs": [
    {
     "data": {
      "application/javascript": [
       "\n",
       "            setTimeout(function() {\n",
       "                var nbb_cell_id = 40;\n",
       "                var nbb_unformatted_code = \"# def nltk_preprocess(docs):\\n#   lemmatizer = WordNetLemmatizer()\\n#   preprocessed = []\\n\\n#   for doc in docs:\\n#     tokenized = word_tokenize(doc)\\n\\n#     cleaned = [lemmatizer.lemmatize(token.lower(),pos='v')\\n#               for token in tokenized\\n#               if token.lower() not in stopwords.words('english')\\n#               if token.isalpha()]\\n    \\n#     untokenized = ' '.join(cleaned)\\n\\n#     preprocessed.append(untokenized)\\n\\n#   return preprocessed\";\n",
       "                var nbb_formatted_code = \"# def nltk_preprocess(docs):\\n#   lemmatizer = WordNetLemmatizer()\\n#   preprocessed = []\\n\\n#   for doc in docs:\\n#     tokenized = word_tokenize(doc)\\n\\n#     cleaned = [lemmatizer.lemmatize(token.lower(),pos='v')\\n#               for token in tokenized\\n#               if token.lower() not in stopwords.words('english')\\n#               if token.isalpha()]\\n\\n#     untokenized = ' '.join(cleaned)\\n\\n#     preprocessed.append(untokenized)\\n\\n#   return preprocessed\";\n",
       "                var nbb_cells = Jupyter.notebook.get_cells();\n",
       "                for (var i = 0; i < nbb_cells.length; ++i) {\n",
       "                    if (nbb_cells[i].input_prompt_number == nbb_cell_id) {\n",
       "                        if (nbb_cells[i].get_text() == nbb_unformatted_code) {\n",
       "                             nbb_cells[i].set_text(nbb_formatted_code);\n",
       "                        }\n",
       "                        break;\n",
       "                    }\n",
       "                }\n",
       "            }, 500);\n",
       "            "
      ],
      "text/plain": [
       "<IPython.core.display.Javascript object>"
      ]
     },
     "metadata": {},
     "output_type": "display_data"
    }
   ],
   "source": [
    "# def nltk_preprocess(docs):\n",
    "#   lemmatizer = WordNetLemmatizer()\n",
    "#   preprocessed = []\n",
    "\n",
    "#   for doc in docs:\n",
    "#     tokenized = word_tokenize(doc)\n",
    "\n",
    "#     cleaned = [lemmatizer.lemmatize(token.lower(),pos='v')\n",
    "#               for token in tokenized\n",
    "#               if token.lower() not in stopwords.words('english')\n",
    "#               if token.isalpha()]\n",
    "\n",
    "#     untokenized = ' '.join(cleaned)\n",
    "\n",
    "#     preprocessed.append(untokenized)\n",
    "\n",
    "#   return preprocessed"
   ]
  },
  {
   "cell_type": "code",
   "execution_count": 41,
   "metadata": {
    "id": "8O8TdAMWCKwe"
   },
   "outputs": [
    {
     "data": {
      "application/javascript": [
       "\n",
       "            setTimeout(function() {\n",
       "                var nbb_cell_id = 41;\n",
       "                var nbb_unformatted_code = \"def spacy_preprocess(docs):\\n  nlp = spacy.load('en', disable=['ner'])\\n#   profanity_filter = ProfanityFilter(nlps={'en': nlp})\\n#   nlp.add_pipe(profanity_filter.spacy_component, last=True)\\n  preprocessed = []\\n\\n  for doc in docs:\\n    tokenized = nlp(doc)\\n\\n    cleaned = [str(token.lemma_).lower()\\n              for token in tokenized\\n              if token.text.lower() not in STOP_WORDS\\n              if token.is_alpha]\\n    \\n    untokenized = ' '.join(cleaned)\\n\\n    preprocessed.append(untokenized)\\n\\n  return preprocessed\";\n",
       "                var nbb_formatted_code = \"def spacy_preprocess(docs):\\n    nlp = spacy.load(\\\"en\\\", disable=[\\\"ner\\\"])\\n    #   profanity_filter = ProfanityFilter(nlps={'en': nlp})\\n    #   nlp.add_pipe(profanity_filter.spacy_component, last=True)\\n    preprocessed = []\\n\\n    for doc in docs:\\n        tokenized = nlp(doc)\\n\\n        cleaned = [\\n            str(token.lemma_).lower()\\n            for token in tokenized\\n            if token.text.lower() not in STOP_WORDS\\n            if token.is_alpha\\n        ]\\n\\n        untokenized = \\\" \\\".join(cleaned)\\n\\n        preprocessed.append(untokenized)\\n\\n    return preprocessed\";\n",
       "                var nbb_cells = Jupyter.notebook.get_cells();\n",
       "                for (var i = 0; i < nbb_cells.length; ++i) {\n",
       "                    if (nbb_cells[i].input_prompt_number == nbb_cell_id) {\n",
       "                        if (nbb_cells[i].get_text() == nbb_unformatted_code) {\n",
       "                             nbb_cells[i].set_text(nbb_formatted_code);\n",
       "                        }\n",
       "                        break;\n",
       "                    }\n",
       "                }\n",
       "            }, 500);\n",
       "            "
      ],
      "text/plain": [
       "<IPython.core.display.Javascript object>"
      ]
     },
     "metadata": {},
     "output_type": "display_data"
    }
   ],
   "source": [
    "def spacy_preprocess(docs):\n",
    "    nlp = spacy.load(\"en\", disable=[\"ner\"])\n",
    "    #   profanity_filter = ProfanityFilter(nlps={'en': nlp})\n",
    "    #   nlp.add_pipe(profanity_filter.spacy_component, last=True)\n",
    "    preprocessed = []\n",
    "\n",
    "    for doc in docs:\n",
    "        tokenized = nlp(doc)\n",
    "\n",
    "        cleaned = [\n",
    "            str(token.lemma_).lower()\n",
    "            for token in tokenized\n",
    "            if token.text.lower() not in STOP_WORDS\n",
    "            if token.is_alpha\n",
    "        ]\n",
    "\n",
    "        untokenized = \" \".join(cleaned)\n",
    "\n",
    "        preprocessed.append(untokenized)\n",
    "\n",
    "    return preprocessed"
   ]
  },
  {
   "cell_type": "code",
   "execution_count": 42,
   "metadata": {
    "colab": {
     "base_uri": "https://localhost:8080/"
    },
    "id": "UCxEhN3Xx_Vu",
    "outputId": "387a2402-bb72-4858-ffe8-33ceed2cf97d"
   },
   "outputs": [
    {
     "data": {
      "text/plain": [
       "['know happen reason favor betterment future pain feel help later look serve listen intuition learn meaning let limit hold',\n",
       " 'protect inner peace cost create daily practice communicate boundary sure stress drama consume need emotional punching bag energy happiness important protect peace',\n",
       " 'strong think painful moment hurt past mean break strong know hard know wish know change thing',\n",
       " 'remember ask exactly want ask love good health abundance peace ask wisdom creativity positive energy shy dream bold live gratitude want come',\n",
       " 'treat like madly love imagine positive energy stop beat perfect start love way care']"
      ]
     },
     "execution_count": 42,
     "metadata": {},
     "output_type": "execute_result"
    },
    {
     "data": {
      "application/javascript": [
       "\n",
       "            setTimeout(function() {\n",
       "                var nbb_cell_id = 42;\n",
       "                var nbb_unformatted_code = \"test3 = spacy_preprocess(tweets_cleaned['content'][:5])\\ntest3\";\n",
       "                var nbb_formatted_code = \"test3 = spacy_preprocess(tweets_cleaned[\\\"content\\\"][:5])\\ntest3\";\n",
       "                var nbb_cells = Jupyter.notebook.get_cells();\n",
       "                for (var i = 0; i < nbb_cells.length; ++i) {\n",
       "                    if (nbb_cells[i].input_prompt_number == nbb_cell_id) {\n",
       "                        if (nbb_cells[i].get_text() == nbb_unformatted_code) {\n",
       "                             nbb_cells[i].set_text(nbb_formatted_code);\n",
       "                        }\n",
       "                        break;\n",
       "                    }\n",
       "                }\n",
       "            }, 500);\n",
       "            "
      ],
      "text/plain": [
       "<IPython.core.display.Javascript object>"
      ]
     },
     "metadata": {},
     "output_type": "display_data"
    }
   ],
   "source": [
    "test3 = spacy_preprocess(tweets_cleaned[\"content\"][:5])\n",
    "test3"
   ]
  },
  {
   "cell_type": "code",
   "execution_count": 43,
   "metadata": {
    "colab": {
     "base_uri": "https://localhost:8080/"
    },
    "id": "odGLIIYJ7jwM",
    "outputId": "e729da29-0764-4900-a248-12af383afcdf"
   },
   "outputs": [
    {
     "name": "stdout",
     "output_type": "stream",
     "text": [
      "01 hours, 10 minutes, 36 seconds\n"
     ]
    },
    {
     "data": {
      "application/javascript": [
       "\n",
       "            setTimeout(function() {\n",
       "                var nbb_cell_id = 43;\n",
       "                var nbb_unformatted_code = \"# start preprocess runtime\\nstart_time = time.time() \\n\\ntweets_cleaned['content_preprocessed'] = spacy_preprocess(tweets_cleaned['content'])\\n\\n# print preprocess runtime\\nprint(time.strftime(f'%H hours, %M minutes, %S seconds', time.gmtime(time.time() - start_time)))\";\n",
       "                var nbb_formatted_code = \"# start preprocess runtime\\nstart_time = time.time()\\n\\ntweets_cleaned[\\\"content_preprocessed\\\"] = spacy_preprocess(tweets_cleaned[\\\"content\\\"])\\n\\n# print preprocess runtime\\nprint(\\n    time.strftime(\\n        f\\\"%H hours, %M minutes, %S seconds\\\", time.gmtime(time.time() - start_time)\\n    )\\n)\";\n",
       "                var nbb_cells = Jupyter.notebook.get_cells();\n",
       "                for (var i = 0; i < nbb_cells.length; ++i) {\n",
       "                    if (nbb_cells[i].input_prompt_number == nbb_cell_id) {\n",
       "                        if (nbb_cells[i].get_text() == nbb_unformatted_code) {\n",
       "                             nbb_cells[i].set_text(nbb_formatted_code);\n",
       "                        }\n",
       "                        break;\n",
       "                    }\n",
       "                }\n",
       "            }, 500);\n",
       "            "
      ],
      "text/plain": [
       "<IPython.core.display.Javascript object>"
      ]
     },
     "metadata": {},
     "output_type": "display_data"
    }
   ],
   "source": [
    "# start preprocess runtime\n",
    "start_time = time.time()\n",
    "\n",
    "tweets_cleaned[\"content_preprocessed\"] = spacy_preprocess(tweets_cleaned[\"content\"])\n",
    "\n",
    "# print preprocess runtime\n",
    "print(\n",
    "    time.strftime(\n",
    "        f\"%H hours, %M minutes, %S seconds\", time.gmtime(time.time() - start_time)\n",
    "    )\n",
    ")"
   ]
  },
  {
   "cell_type": "code",
   "execution_count": 44,
   "metadata": {
    "colab": {
     "base_uri": "https://localhost:8080/",
     "height": 459
    },
    "id": "sNA1XrnSNYXh",
    "outputId": "5ab55a55-1e5d-4fff-9e55-ea1249ff25e2"
   },
   "outputs": [
    {
     "data": {
      "text/html": [
       "<div>\n",
       "<style scoped>\n",
       "    .dataframe tbody tr th:only-of-type {\n",
       "        vertical-align: middle;\n",
       "    }\n",
       "\n",
       "    .dataframe tbody tr th {\n",
       "        vertical-align: top;\n",
       "    }\n",
       "\n",
       "    .dataframe thead th {\n",
       "        text-align: right;\n",
       "    }\n",
       "</style>\n",
       "<table border=\"1\" class=\"dataframe\">\n",
       "  <thead>\n",
       "    <tr style=\"text-align: right;\">\n",
       "      <th></th>\n",
       "      <th>date</th>\n",
       "      <th>user_name</th>\n",
       "      <th>display_name</th>\n",
       "      <th>content</th>\n",
       "      <th>content_preprocessed</th>\n",
       "    </tr>\n",
       "  </thead>\n",
       "  <tbody>\n",
       "    <tr>\n",
       "      <th>44</th>\n",
       "      <td>2021-01-17 22:13:17</td>\n",
       "      <td>LewisHowes</td>\n",
       "      <td>Lewis Howes</td>\n",
       "      <td>Know this. Everything is happening for a reason and in your favor for the betterment of your future. The pain you feel now will help later if you:  1. Look at what's not serving you 2. Listen to your intuition 3. Learn the meaning behind it 4. Let go of limits that hold you back</td>\n",
       "      <td>know happen reason favor betterment future pain feel help later look serve listen intuition learn meaning let limit hold</td>\n",
       "    </tr>\n",
       "    <tr>\n",
       "      <th>61</th>\n",
       "      <td>2021-01-15 15:28:06</td>\n",
       "      <td>LewisHowes</td>\n",
       "      <td>Lewis Howes</td>\n",
       "      <td>Protect your inner peace at all costs. Create daily practices and communicate boundaries to make sure the stress and drama of others doesn't consume you. You don't need to be someone else's emotional punching bag. Your energy and happiness is too important. Protect your peace!</td>\n",
       "      <td>protect inner peace cost create daily practice communicate boundary sure stress drama consume need emotional punching bag energy happiness important protect peace</td>\n",
       "    </tr>\n",
       "    <tr>\n",
       "      <th>108</th>\n",
       "      <td>2021-01-12 16:40:46</td>\n",
       "      <td>LewisHowes</td>\n",
       "      <td>Lewis Howes</td>\n",
       "      <td>You are stronger than you think. The painful moments that hurt you in the past were meant for you. They broke you down so you could become stronger than ever before. I know it was hard. I know you wouldn't wish it on anyone else. But I also know you wouldn't change a thing!</td>\n",
       "      <td>strong think painful moment hurt past mean break strong know hard know wish know change thing</td>\n",
       "    </tr>\n",
       "    <tr>\n",
       "      <th>161</th>\n",
       "      <td>2021-01-07 16:00:29</td>\n",
       "      <td>LewisHowes</td>\n",
       "      <td>Lewis Howes</td>\n",
       "      <td>Always remember to ask for exactly what you want. Ask for love, good health, abundance and peace. Ask for wisdom, creativity and positive energy. Don't be shy in your dreams. Be bold and live in gratitude because everything you want is coming to you.</td>\n",
       "      <td>remember ask exactly want ask love good health abundance peace ask wisdom creativity positive energy shy dream bold live gratitude want come</td>\n",
       "    </tr>\n",
       "    <tr>\n",
       "      <th>206</th>\n",
       "      <td>2021-01-05 00:11:24</td>\n",
       "      <td>LewisHowes</td>\n",
       "      <td>Lewis Howes</td>\n",
       "      <td>What if you treated yourself like someone you were madly in love with? Imagine what you could do with all that positive energy. Stop beating yourself up for not being perfect and start loving yourself the way you would with someone you care about.</td>\n",
       "      <td>treat like madly love imagine positive energy stop beat perfect start love way care</td>\n",
       "    </tr>\n",
       "  </tbody>\n",
       "</table>\n",
       "</div>"
      ],
      "text/plain": [
       "                   date   user_name display_name  \\\n",
       "44  2021-01-17 22:13:17  LewisHowes  Lewis Howes   \n",
       "61  2021-01-15 15:28:06  LewisHowes  Lewis Howes   \n",
       "108 2021-01-12 16:40:46  LewisHowes  Lewis Howes   \n",
       "161 2021-01-07 16:00:29  LewisHowes  Lewis Howes   \n",
       "206 2021-01-05 00:11:24  LewisHowes  Lewis Howes   \n",
       "\n",
       "                                                                                                                                                                                                                                                                                     content  \\\n",
       "44   Know this. Everything is happening for a reason and in your favor for the betterment of your future. The pain you feel now will help later if you:  1. Look at what's not serving you 2. Listen to your intuition 3. Learn the meaning behind it 4. Let go of limits that hold you back   \n",
       "61     Protect your inner peace at all costs. Create daily practices and communicate boundaries to make sure the stress and drama of others doesn't consume you. You don't need to be someone else's emotional punching bag. Your energy and happiness is too important. Protect your peace!   \n",
       "108       You are stronger than you think. The painful moments that hurt you in the past were meant for you. They broke you down so you could become stronger than ever before. I know it was hard. I know you wouldn't wish it on anyone else. But I also know you wouldn't change a thing!   \n",
       "161                               Always remember to ask for exactly what you want. Ask for love, good health, abundance and peace. Ask for wisdom, creativity and positive energy. Don't be shy in your dreams. Be bold and live in gratitude because everything you want is coming to you.   \n",
       "206                                  What if you treated yourself like someone you were madly in love with? Imagine what you could do with all that positive energy. Stop beating yourself up for not being perfect and start loving yourself the way you would with someone you care about.   \n",
       "\n",
       "                                                                                                                                                   content_preprocessed  \n",
       "44                                             know happen reason favor betterment future pain feel help later look serve listen intuition learn meaning let limit hold  \n",
       "61   protect inner peace cost create daily practice communicate boundary sure stress drama consume need emotional punching bag energy happiness important protect peace  \n",
       "108                                                                       strong think painful moment hurt past mean break strong know hard know wish know change thing  \n",
       "161                        remember ask exactly want ask love good health abundance peace ask wisdom creativity positive energy shy dream bold live gratitude want come  \n",
       "206                                                                                 treat like madly love imagine positive energy stop beat perfect start love way care  "
      ]
     },
     "execution_count": 44,
     "metadata": {},
     "output_type": "execute_result"
    },
    {
     "data": {
      "application/javascript": [
       "\n",
       "            setTimeout(function() {\n",
       "                var nbb_cell_id = 44;\n",
       "                var nbb_unformatted_code = \"tweets_cleaned.head()\";\n",
       "                var nbb_formatted_code = \"tweets_cleaned.head()\";\n",
       "                var nbb_cells = Jupyter.notebook.get_cells();\n",
       "                for (var i = 0; i < nbb_cells.length; ++i) {\n",
       "                    if (nbb_cells[i].input_prompt_number == nbb_cell_id) {\n",
       "                        if (nbb_cells[i].get_text() == nbb_unformatted_code) {\n",
       "                             nbb_cells[i].set_text(nbb_formatted_code);\n",
       "                        }\n",
       "                        break;\n",
       "                    }\n",
       "                }\n",
       "            }, 500);\n",
       "            "
      ],
      "text/plain": [
       "<IPython.core.display.Javascript object>"
      ]
     },
     "metadata": {},
     "output_type": "display_data"
    }
   ],
   "source": [
    "tweets_cleaned.head()"
   ]
  },
  {
   "cell_type": "code",
   "execution_count": null,
   "metadata": {
    "id": "8vucmNXnwCcn"
   },
   "outputs": [],
   "source": []
  },
  {
   "cell_type": "code",
   "execution_count": 45,
   "metadata": {
    "id": "F6SLEt9D8iiJ"
   },
   "outputs": [
    {
     "data": {
      "application/javascript": [
       "\n",
       "            setTimeout(function() {\n",
       "                var nbb_cell_id = 45;\n",
       "                var nbb_unformatted_code = \"words = \\\" \\\".join(tweets_cleaned['content_preprocessed'].tolist())\";\n",
       "                var nbb_formatted_code = \"words = \\\" \\\".join(tweets_cleaned[\\\"content_preprocessed\\\"].tolist())\";\n",
       "                var nbb_cells = Jupyter.notebook.get_cells();\n",
       "                for (var i = 0; i < nbb_cells.length; ++i) {\n",
       "                    if (nbb_cells[i].input_prompt_number == nbb_cell_id) {\n",
       "                        if (nbb_cells[i].get_text() == nbb_unformatted_code) {\n",
       "                             nbb_cells[i].set_text(nbb_formatted_code);\n",
       "                        }\n",
       "                        break;\n",
       "                    }\n",
       "                }\n",
       "            }, 500);\n",
       "            "
      ],
      "text/plain": [
       "<IPython.core.display.Javascript object>"
      ]
     },
     "metadata": {},
     "output_type": "display_data"
    }
   ],
   "source": [
    "words = \" \".join(tweets_cleaned[\"content_preprocessed\"].tolist())"
   ]
  },
  {
   "cell_type": "code",
   "execution_count": 46,
   "metadata": {
    "colab": {
     "base_uri": "https://localhost:8080/"
    },
    "id": "pUHBjrqU8uo5",
    "outputId": "c0c154ac-8e5b-4ea5-d30e-2e6b48e8a77c"
   },
   "outputs": [
    {
     "data": {
      "text/plain": [
       "4605730"
      ]
     },
     "execution_count": 46,
     "metadata": {},
     "output_type": "execute_result"
    },
    {
     "data": {
      "application/javascript": [
       "\n",
       "            setTimeout(function() {\n",
       "                var nbb_cell_id = 46;\n",
       "                var nbb_unformatted_code = \"words = words.split(\\\" \\\")\\nlen(words)\";\n",
       "                var nbb_formatted_code = \"words = words.split(\\\" \\\")\\nlen(words)\";\n",
       "                var nbb_cells = Jupyter.notebook.get_cells();\n",
       "                for (var i = 0; i < nbb_cells.length; ++i) {\n",
       "                    if (nbb_cells[i].input_prompt_number == nbb_cell_id) {\n",
       "                        if (nbb_cells[i].get_text() == nbb_unformatted_code) {\n",
       "                             nbb_cells[i].set_text(nbb_formatted_code);\n",
       "                        }\n",
       "                        break;\n",
       "                    }\n",
       "                }\n",
       "            }, 500);\n",
       "            "
      ],
      "text/plain": [
       "<IPython.core.display.Javascript object>"
      ]
     },
     "metadata": {},
     "output_type": "display_data"
    }
   ],
   "source": [
    "words = words.split(\" \")\n",
    "len(words)"
   ]
  },
  {
   "cell_type": "code",
   "execution_count": 47,
   "metadata": {
    "colab": {
     "base_uri": "https://localhost:8080/"
    },
    "id": "Yp1o0RMA9aP6",
    "outputId": "e0e53341-f8bf-49ea-bb5a-9f23c9c0a084"
   },
   "outputs": [
    {
     "data": {
      "text/plain": [
       "['know',\n",
       " 'happen',\n",
       " 'reason',\n",
       " 'favor',\n",
       " 'betterment',\n",
       " 'future',\n",
       " 'pain',\n",
       " 'feel',\n",
       " 'help',\n",
       " 'later',\n",
       " 'look',\n",
       " 'serve',\n",
       " 'listen',\n",
       " 'intuition',\n",
       " 'learn',\n",
       " 'meaning',\n",
       " 'let',\n",
       " 'limit',\n",
       " 'hold',\n",
       " 'protect']"
      ]
     },
     "execution_count": 47,
     "metadata": {},
     "output_type": "execute_result"
    },
    {
     "data": {
      "application/javascript": [
       "\n",
       "            setTimeout(function() {\n",
       "                var nbb_cell_id = 47;\n",
       "                var nbb_unformatted_code = \"words[:20]\";\n",
       "                var nbb_formatted_code = \"words[:20]\";\n",
       "                var nbb_cells = Jupyter.notebook.get_cells();\n",
       "                for (var i = 0; i < nbb_cells.length; ++i) {\n",
       "                    if (nbb_cells[i].input_prompt_number == nbb_cell_id) {\n",
       "                        if (nbb_cells[i].get_text() == nbb_unformatted_code) {\n",
       "                             nbb_cells[i].set_text(nbb_formatted_code);\n",
       "                        }\n",
       "                        break;\n",
       "                    }\n",
       "                }\n",
       "            }, 500);\n",
       "            "
      ],
      "text/plain": [
       "<IPython.core.display.Javascript object>"
      ]
     },
     "metadata": {},
     "output_type": "display_data"
    }
   ],
   "source": [
    "words[:20]"
   ]
  },
  {
   "cell_type": "code",
   "execution_count": 48,
   "metadata": {
    "id": "WWd3-puVHHUb"
   },
   "outputs": [
    {
     "data": {
      "application/javascript": [
       "\n",
       "            setTimeout(function() {\n",
       "                var nbb_cell_id = 48;\n",
       "                var nbb_unformatted_code = \"def word_frequency(doc):\\n  fdist = FreqDist(doc)\\n\\n  fdist_df = pd.DataFrame.from_dict(fdist, orient='index').reset_index()\\n  fdist_df.columns = ['Term', 'Freq']\\n\\n  ordered = fdist_df.sort_values('Freq', ascending=False)\\n\\n  filtered = ordered[ordered['Freq'] > 1]\\n\\n  return filtered\";\n",
       "                var nbb_formatted_code = \"def word_frequency(doc):\\n    fdist = FreqDist(doc)\\n\\n    fdist_df = pd.DataFrame.from_dict(fdist, orient=\\\"index\\\").reset_index()\\n    fdist_df.columns = [\\\"Term\\\", \\\"Freq\\\"]\\n\\n    ordered = fdist_df.sort_values(\\\"Freq\\\", ascending=False)\\n\\n    filtered = ordered[ordered[\\\"Freq\\\"] > 1]\\n\\n    return filtered\";\n",
       "                var nbb_cells = Jupyter.notebook.get_cells();\n",
       "                for (var i = 0; i < nbb_cells.length; ++i) {\n",
       "                    if (nbb_cells[i].input_prompt_number == nbb_cell_id) {\n",
       "                        if (nbb_cells[i].get_text() == nbb_unformatted_code) {\n",
       "                             nbb_cells[i].set_text(nbb_formatted_code);\n",
       "                        }\n",
       "                        break;\n",
       "                    }\n",
       "                }\n",
       "            }, 500);\n",
       "            "
      ],
      "text/plain": [
       "<IPython.core.display.Javascript object>"
      ]
     },
     "metadata": {},
     "output_type": "display_data"
    }
   ],
   "source": [
    "def word_frequency(doc):\n",
    "    fdist = FreqDist(doc)\n",
    "\n",
    "    fdist_df = pd.DataFrame.from_dict(fdist, orient=\"index\").reset_index()\n",
    "    fdist_df.columns = [\"Term\", \"Freq\"]\n",
    "\n",
    "    ordered = fdist_df.sort_values(\"Freq\", ascending=False)\n",
    "\n",
    "    filtered = ordered[ordered[\"Freq\"] > 1]\n",
    "\n",
    "    return filtered"
   ]
  },
  {
   "cell_type": "code",
   "execution_count": 49,
   "metadata": {
    "colab": {
     "base_uri": "https://localhost:8080/",
     "height": 1000
    },
    "id": "vOhfjTybHNlC",
    "outputId": "9eb80687-88a4-4165-822b-84d1a272d78e"
   },
   "outputs": [
    {
     "data": {
      "text/html": [
       "<div>\n",
       "<style scoped>\n",
       "    .dataframe tbody tr th:only-of-type {\n",
       "        vertical-align: middle;\n",
       "    }\n",
       "\n",
       "    .dataframe tbody tr th {\n",
       "        vertical-align: top;\n",
       "    }\n",
       "\n",
       "    .dataframe thead th {\n",
       "        text-align: right;\n",
       "    }\n",
       "</style>\n",
       "<table border=\"1\" class=\"dataframe\">\n",
       "  <thead>\n",
       "    <tr style=\"text-align: right;\">\n",
       "      <th></th>\n",
       "      <th>Term</th>\n",
       "      <th>Freq</th>\n",
       "    </tr>\n",
       "  </thead>\n",
       "  <tbody>\n",
       "    <tr>\n",
       "      <th>154</th>\n",
       "      <td>life</td>\n",
       "      <td>80700</td>\n",
       "    </tr>\n",
       "    <tr>\n",
       "      <th>4942</th>\n",
       "      <td>dyer</td>\n",
       "      <td>55087</td>\n",
       "    </tr>\n",
       "    <tr>\n",
       "      <th>135</th>\n",
       "      <td>people</td>\n",
       "      <td>49443</td>\n",
       "    </tr>\n",
       "    <tr>\n",
       "      <th>50</th>\n",
       "      <td>thing</td>\n",
       "      <td>49441</td>\n",
       "    </tr>\n",
       "    <tr>\n",
       "      <th>56</th>\n",
       "      <td>good</td>\n",
       "      <td>42219</td>\n",
       "    </tr>\n",
       "    <tr>\n",
       "      <th>188</th>\n",
       "      <td>time</td>\n",
       "      <td>36081</td>\n",
       "    </tr>\n",
       "    <tr>\n",
       "      <th>0</th>\n",
       "      <td>know</td>\n",
       "      <td>34970</td>\n",
       "    </tr>\n",
       "    <tr>\n",
       "      <th>40</th>\n",
       "      <td>think</td>\n",
       "      <td>33500</td>\n",
       "    </tr>\n",
       "    <tr>\n",
       "      <th>574</th>\n",
       "      <td>man</td>\n",
       "      <td>32967</td>\n",
       "    </tr>\n",
       "    <tr>\n",
       "      <th>55</th>\n",
       "      <td>love</td>\n",
       "      <td>30991</td>\n",
       "    </tr>\n",
       "    <tr>\n",
       "      <th>81</th>\n",
       "      <td>great</td>\n",
       "      <td>30584</td>\n",
       "    </tr>\n",
       "    <tr>\n",
       "      <th>69</th>\n",
       "      <td>like</td>\n",
       "      <td>28098</td>\n",
       "    </tr>\n",
       "    <tr>\n",
       "      <th>54</th>\n",
       "      <td>want</td>\n",
       "      <td>28072</td>\n",
       "    </tr>\n",
       "    <tr>\n",
       "      <th>76</th>\n",
       "      <td>way</td>\n",
       "      <td>26425</td>\n",
       "    </tr>\n",
       "    <tr>\n",
       "      <th>67</th>\n",
       "      <td>come</td>\n",
       "      <td>25239</td>\n",
       "    </tr>\n",
       "    <tr>\n",
       "      <th>49</th>\n",
       "      <td>change</td>\n",
       "      <td>24442</td>\n",
       "    </tr>\n",
       "    <tr>\n",
       "      <th>176</th>\n",
       "      <td>day</td>\n",
       "      <td>24254</td>\n",
       "    </tr>\n",
       "    <tr>\n",
       "      <th>133</th>\n",
       "      <td>amp</td>\n",
       "      <td>23947</td>\n",
       "    </tr>\n",
       "    <tr>\n",
       "      <th>242</th>\n",
       "      <td>world</td>\n",
       "      <td>23427</td>\n",
       "    </tr>\n",
       "    <tr>\n",
       "      <th>65</th>\n",
       "      <td>live</td>\n",
       "      <td>23420</td>\n",
       "    </tr>\n",
       "    <tr>\n",
       "      <th>105</th>\n",
       "      <td>well</td>\n",
       "      <td>21672</td>\n",
       "    </tr>\n",
       "    <tr>\n",
       "      <th>846</th>\n",
       "      <td>david</td>\n",
       "      <td>21488</td>\n",
       "    </tr>\n",
       "    <tr>\n",
       "      <th>421</th>\n",
       "      <td>person</td>\n",
       "      <td>20876</td>\n",
       "    </tr>\n",
       "    <tr>\n",
       "      <th>170</th>\n",
       "      <td>mind</td>\n",
       "      <td>20594</td>\n",
       "    </tr>\n",
       "    <tr>\n",
       "      <th>10</th>\n",
       "      <td>look</td>\n",
       "      <td>19870</td>\n",
       "    </tr>\n",
       "    <tr>\n",
       "      <th>3188</th>\n",
       "      <td>u</td>\n",
       "      <td>19342</td>\n",
       "    </tr>\n",
       "    <tr>\n",
       "      <th>16</th>\n",
       "      <td>let</td>\n",
       "      <td>19312</td>\n",
       "    </tr>\n",
       "    <tr>\n",
       "      <th>14</th>\n",
       "      <td>learn</td>\n",
       "      <td>19083</td>\n",
       "    </tr>\n",
       "    <tr>\n",
       "      <th>121</th>\n",
       "      <td>find</td>\n",
       "      <td>18649</td>\n",
       "    </tr>\n",
       "    <tr>\n",
       "      <th>174</th>\n",
       "      <td>success</td>\n",
       "      <td>18370</td>\n",
       "    </tr>\n",
       "    <tr>\n",
       "      <th>153</th>\n",
       "      <td>heart</td>\n",
       "      <td>18313</td>\n",
       "    </tr>\n",
       "    <tr>\n",
       "      <th>9798</th>\n",
       "      <td>goggins</td>\n",
       "      <td>18155</td>\n",
       "    </tr>\n",
       "    <tr>\n",
       "      <th>250</th>\n",
       "      <td>go</td>\n",
       "      <td>17034</td>\n",
       "    </tr>\n",
       "    <tr>\n",
       "      <th>47</th>\n",
       "      <td>hard</td>\n",
       "      <td>15962</td>\n",
       "    </tr>\n",
       "    <tr>\n",
       "      <th>294</th>\n",
       "      <td>thought</td>\n",
       "      <td>15716</td>\n",
       "    </tr>\n",
       "    <tr>\n",
       "      <th>7</th>\n",
       "      <td>feel</td>\n",
       "      <td>14917</td>\n",
       "    </tr>\n",
       "    <tr>\n",
       "      <th>290</th>\n",
       "      <td>try</td>\n",
       "      <td>14471</td>\n",
       "    </tr>\n",
       "    <tr>\n",
       "      <th>100</th>\n",
       "      <td>happy</td>\n",
       "      <td>14322</td>\n",
       "    </tr>\n",
       "    <tr>\n",
       "      <th>63</th>\n",
       "      <td>dream</td>\n",
       "      <td>13945</td>\n",
       "    </tr>\n",
       "    <tr>\n",
       "      <th>37</th>\n",
       "      <td>happiness</td>\n",
       "      <td>13778</td>\n",
       "    </tr>\n",
       "    <tr>\n",
       "      <th>300</th>\n",
       "      <td>power</td>\n",
       "      <td>13716</td>\n",
       "    </tr>\n",
       "    <tr>\n",
       "      <th>125</th>\n",
       "      <td>make</td>\n",
       "      <td>13606</td>\n",
       "    </tr>\n",
       "    <tr>\n",
       "      <th>45</th>\n",
       "      <td>mean</td>\n",
       "      <td>13464</td>\n",
       "    </tr>\n",
       "    <tr>\n",
       "      <th>352</th>\n",
       "      <td>believe</td>\n",
       "      <td>13302</td>\n",
       "    </tr>\n",
       "    <tr>\n",
       "      <th>120</th>\n",
       "      <td>get</td>\n",
       "      <td>13106</td>\n",
       "    </tr>\n",
       "    <tr>\n",
       "      <th>97</th>\n",
       "      <td>work</td>\n",
       "      <td>13042</td>\n",
       "    </tr>\n",
       "    <tr>\n",
       "      <th>389</th>\n",
       "      <td>today</td>\n",
       "      <td>12924</td>\n",
       "    </tr>\n",
       "    <tr>\n",
       "      <th>337</th>\n",
       "      <td>lose</td>\n",
       "      <td>12792</td>\n",
       "    </tr>\n",
       "    <tr>\n",
       "      <th>123</th>\n",
       "      <td>right</td>\n",
       "      <td>12754</td>\n",
       "    </tr>\n",
       "    <tr>\n",
       "      <th>1</th>\n",
       "      <td>happen</td>\n",
       "      <td>12754</td>\n",
       "    </tr>\n",
       "  </tbody>\n",
       "</table>\n",
       "</div>"
      ],
      "text/plain": [
       "           Term   Freq\n",
       "154        life  80700\n",
       "4942       dyer  55087\n",
       "135      people  49443\n",
       "50        thing  49441\n",
       "56         good  42219\n",
       "188        time  36081\n",
       "0          know  34970\n",
       "40        think  33500\n",
       "574         man  32967\n",
       "55         love  30991\n",
       "81        great  30584\n",
       "69         like  28098\n",
       "54         want  28072\n",
       "76          way  26425\n",
       "67         come  25239\n",
       "49       change  24442\n",
       "176         day  24254\n",
       "133         amp  23947\n",
       "242       world  23427\n",
       "65         live  23420\n",
       "105        well  21672\n",
       "846       david  21488\n",
       "421      person  20876\n",
       "170        mind  20594\n",
       "10         look  19870\n",
       "3188          u  19342\n",
       "16          let  19312\n",
       "14        learn  19083\n",
       "121        find  18649\n",
       "174     success  18370\n",
       "153       heart  18313\n",
       "9798    goggins  18155\n",
       "250          go  17034\n",
       "47         hard  15962\n",
       "294     thought  15716\n",
       "7          feel  14917\n",
       "290         try  14471\n",
       "100       happy  14322\n",
       "63        dream  13945\n",
       "37    happiness  13778\n",
       "300       power  13716\n",
       "125        make  13606\n",
       "45         mean  13464\n",
       "352     believe  13302\n",
       "120         get  13106\n",
       "97         work  13042\n",
       "389       today  12924\n",
       "337        lose  12792\n",
       "123       right  12754\n",
       "1        happen  12754"
      ]
     },
     "execution_count": 49,
     "metadata": {},
     "output_type": "execute_result"
    },
    {
     "data": {
      "application/javascript": [
       "\n",
       "            setTimeout(function() {\n",
       "                var nbb_cell_id = 49;\n",
       "                var nbb_unformatted_code = \"freq = word_frequency(words)\\nfreq.head(50)\";\n",
       "                var nbb_formatted_code = \"freq = word_frequency(words)\\nfreq.head(50)\";\n",
       "                var nbb_cells = Jupyter.notebook.get_cells();\n",
       "                for (var i = 0; i < nbb_cells.length; ++i) {\n",
       "                    if (nbb_cells[i].input_prompt_number == nbb_cell_id) {\n",
       "                        if (nbb_cells[i].get_text() == nbb_unformatted_code) {\n",
       "                             nbb_cells[i].set_text(nbb_formatted_code);\n",
       "                        }\n",
       "                        break;\n",
       "                    }\n",
       "                }\n",
       "            }, 500);\n",
       "            "
      ],
      "text/plain": [
       "<IPython.core.display.Javascript object>"
      ]
     },
     "metadata": {},
     "output_type": "display_data"
    }
   ],
   "source": [
    "freq = word_frequency(words)\n",
    "freq.head(50)"
   ]
  },
  {
   "cell_type": "code",
   "execution_count": 50,
   "metadata": {
    "colab": {
     "base_uri": "https://localhost:8080/",
     "height": 532
    },
    "id": "nkyu9zl1S77A",
    "outputId": "badcf1a7-ed12-43c9-ac53-a42215b70167"
   },
   "outputs": [
    {
     "data": {
      "image/png": "[encoded data removed]",
      "text/plain": [
       "<Figure size 1008x576 with 1 Axes>"
      ]
     },
     "metadata": {
      "needs_background": "light"
     },
     "output_type": "display_data"
    },
    {
     "data": {
      "application/javascript": [
       "\n",
       "            setTimeout(function() {\n",
       "                var nbb_cell_id = 50;\n",
       "                var nbb_unformatted_code = \"plt.figure(figsize=(14,8))\\nsns.barplot(data=freq.head(20), x='Freq', y='Term')\\nplt.title('Term Frequency Distribution \\\\n', fontsize=16)\\nplt.show()\";\n",
       "                var nbb_formatted_code = \"plt.figure(figsize=(14, 8))\\nsns.barplot(data=freq.head(20), x=\\\"Freq\\\", y=\\\"Term\\\")\\nplt.title(\\\"Term Frequency Distribution \\\\n\\\", fontsize=16)\\nplt.show()\";\n",
       "                var nbb_cells = Jupyter.notebook.get_cells();\n",
       "                for (var i = 0; i < nbb_cells.length; ++i) {\n",
       "                    if (nbb_cells[i].input_prompt_number == nbb_cell_id) {\n",
       "                        if (nbb_cells[i].get_text() == nbb_unformatted_code) {\n",
       "                             nbb_cells[i].set_text(nbb_formatted_code);\n",
       "                        }\n",
       "                        break;\n",
       "                    }\n",
       "                }\n",
       "            }, 500);\n",
       "            "
      ],
      "text/plain": [
       "<IPython.core.display.Javascript object>"
      ]
     },
     "metadata": {},
     "output_type": "display_data"
    }
   ],
   "source": [
    "plt.figure(figsize=(14, 8))\n",
    "sns.barplot(data=freq.head(20), x=\"Freq\", y=\"Term\")\n",
    "plt.title(\"Term Frequency Distribution \\n\", fontsize=16)\n",
    "plt.show()"
   ]
  },
  {
   "cell_type": "code",
   "execution_count": 51,
   "metadata": {
    "id": "FcQddf7PTQqr"
   },
   "outputs": [
    {
     "ename": "FileNotFoundError",
     "evalue": "[Errno 2] No such file or directory: '/content/drive/MyDrive/Data/NLP_Capstone/word_cloud_background.png'",
     "output_type": "error",
     "traceback": [
      "\u001b[0;31m---------------------------------------------------------------------------\u001b[0m",
      "\u001b[0;31mFileNotFoundError\u001b[0m                         Traceback (most recent call last)",
      "\u001b[0;32m<ipython-input-51-e33a09e45e7e>\u001b[0m in \u001b[0;36m<module>\u001b[0;34m\u001b[0m\n\u001b[0;32m----> 1\u001b[0;31m \u001b[0mmask\u001b[0m \u001b[0;34m=\u001b[0m \u001b[0mnp\u001b[0m\u001b[0;34m.\u001b[0m\u001b[0marray\u001b[0m\u001b[0;34m(\u001b[0m\u001b[0mImage\u001b[0m\u001b[0;34m.\u001b[0m\u001b[0mopen\u001b[0m\u001b[0;34m(\u001b[0m\u001b[0;34m'/content/drive/MyDrive/Data/NLP_Capstone/word_cloud_background.png'\u001b[0m\u001b[0;34m)\u001b[0m\u001b[0;34m)\u001b[0m\u001b[0;34m\u001b[0m\u001b[0;34m\u001b[0m\u001b[0m\n\u001b[0m",
      "\u001b[0;32m/opt/anaconda3/lib/python3.7/site-packages/PIL/Image.py\u001b[0m in \u001b[0;36mopen\u001b[0;34m(fp, mode)\u001b[0m\n\u001b[1;32m   2807\u001b[0m \u001b[0;34m\u001b[0m\u001b[0m\n\u001b[1;32m   2808\u001b[0m     \u001b[0;32mif\u001b[0m \u001b[0mfilename\u001b[0m\u001b[0;34m:\u001b[0m\u001b[0;34m\u001b[0m\u001b[0;34m\u001b[0m\u001b[0m\n\u001b[0;32m-> 2809\u001b[0;31m         \u001b[0mfp\u001b[0m \u001b[0;34m=\u001b[0m \u001b[0mbuiltins\u001b[0m\u001b[0;34m.\u001b[0m\u001b[0mopen\u001b[0m\u001b[0;34m(\u001b[0m\u001b[0mfilename\u001b[0m\u001b[0;34m,\u001b[0m \u001b[0;34m\"rb\"\u001b[0m\u001b[0;34m)\u001b[0m\u001b[0;34m\u001b[0m\u001b[0;34m\u001b[0m\u001b[0m\n\u001b[0m\u001b[1;32m   2810\u001b[0m         \u001b[0mexclusive_fp\u001b[0m \u001b[0;34m=\u001b[0m \u001b[0;32mTrue\u001b[0m\u001b[0;34m\u001b[0m\u001b[0;34m\u001b[0m\u001b[0m\n\u001b[1;32m   2811\u001b[0m \u001b[0;34m\u001b[0m\u001b[0m\n",
      "\u001b[0;31mFileNotFoundError\u001b[0m: [Errno 2] No such file or directory: '/content/drive/MyDrive/Data/NLP_Capstone/word_cloud_background.png'"
     ]
    },
    {
     "data": {
      "application/javascript": [
       "\n",
       "            setTimeout(function() {\n",
       "                var nbb_cell_id = 51;\n",
       "                var nbb_unformatted_code = \"mask = np.array(Image.open('/content/drive/MyDrive/Data/NLP_Capstone/word_cloud_background.png'))\";\n",
       "                var nbb_formatted_code = \"mask = np.array(\\n    Image.open(\\\"/content/drive/MyDrive/Data/NLP_Capstone/word_cloud_background.png\\\")\\n)\";\n",
       "                var nbb_cells = Jupyter.notebook.get_cells();\n",
       "                for (var i = 0; i < nbb_cells.length; ++i) {\n",
       "                    if (nbb_cells[i].input_prompt_number == nbb_cell_id) {\n",
       "                        if (nbb_cells[i].get_text() == nbb_unformatted_code) {\n",
       "                             nbb_cells[i].set_text(nbb_formatted_code);\n",
       "                        }\n",
       "                        break;\n",
       "                    }\n",
       "                }\n",
       "            }, 500);\n",
       "            "
      ],
      "text/plain": [
       "<IPython.core.display.Javascript object>"
      ]
     },
     "metadata": {},
     "output_type": "display_data"
    }
   ],
   "source": [
    "# mask = np.array(\n",
    "#     Image.open(\"/content/drive/MyDrive/Data/NLP_Capstone/word_cloud_background.png\")\n",
    "# )"
   ]
  },
  {
   "cell_type": "code",
   "execution_count": null,
   "metadata": {
    "id": "QP87pXg7W-kz"
   },
   "outputs": [],
   "source": [
    "def wordcloud(text, colormap='tab10', background_color='white'):\n",
    "  cloud = WordCloud(width=1600, height=800,\n",
    "                    mask=None, \n",
    "                    stopwords=None, \n",
    "                    colormap=colormap, \n",
    "                    background_color=background_color).generate(text)\n",
    "\n",
    "  plt.figure(figsize=(12,10))\n",
    "  plt.imshow(cloud)\n",
    "  plt.axis(\"off\")\n",
    "  plt.tight_layout(pad=0)\n",
    "  plt.show()"
   ]
  },
  {
   "cell_type": "code",
   "execution_count": null,
   "metadata": {
    "colab": {
     "base_uri": "https://localhost:8080/",
     "height": 463
    },
    "id": "yIWgvBfLXawk",
    "outputId": "baa3439c-b8bf-4345-dfef-fcb14a75386f"
   },
   "outputs": [],
   "source": [
    "wordcloud(\" \".join(freq['Term']))"
   ]
  },
  {
   "cell_type": "markdown",
   "metadata": {
    "id": "pHgDycOJX7MU"
   },
   "source": [
    "# Topic Modeling"
   ]
  },
  {
   "cell_type": "code",
   "execution_count": null,
   "metadata": {
    "id": "g7hq1gAeTM7O"
   },
   "outputs": [],
   "source": [
    "# create dictionary\n",
    "id2word = corpora.Dictionary(words)\n",
    "# create texts corpus\n",
    "texts = words\n",
    "# term document frequency\n",
    "corpus = [id2word.doc2bow(text) for text in texts]\n",
    "# print corpus\n",
    "print(corpus[:1][0][:30])"
   ]
  },
  {
   "cell_type": "code",
   "execution_count": null,
   "metadata": {
    "id": "fOrtT9glftHi"
   },
   "outputs": [],
   "source": [
    "# number of topics\n",
    "num_topics = 10\n",
    "# build LDA model\n",
    "base_model = gensim.models.LdaMulticore(corpus=corpus,\n",
    "                                       id2word=id2word,\n",
    "                                       num_topics=num_topics)\n",
    "# # print the keyword in the 10 topics\n",
    "# pprint(base_model.print_topics())\n",
    "# doc_lda = base_model[corpus]"
   ]
  },
  {
   "cell_type": "code",
   "execution_count": null,
   "metadata": {
    "id": "l8N7x_QGk4Om"
   },
   "outputs": [],
   "source": [
    "# filtering for words \n",
    "words = [re.findall(r'\"([^\"]*)\"',t[1]) for t in base_model.print_topics()]\n",
    "\n",
    "# create topic sorted by 10 most relevent words\n",
    "topics = [' '.join(t[0:10]) for t in words]\n",
    "\n",
    "\n",
    "# print most relevent words for each topic\n",
    "for id, t in enumerate(topics): \n",
    "    print(f\"------ Topic {id} ------\")\n",
    "    print(t, end=\"\\n\\n\")"
   ]
  },
  {
   "cell_type": "code",
   "execution_count": null,
   "metadata": {
    "id": "PBmHOCLAk5aZ"
   },
   "outputs": [],
   "source": [
    "# Compute Perplexity\n",
    "## a measure of how good the model is. lower the better\n",
    "base_perplexity = base_model.log_perplexity(corpus)\n",
    "print('\\nPerplexity: ', base_perplexity) \n",
    "\n",
    "# Compute Coherence Score\n",
    "coherence_model = CoherenceModel(model=base_model, texts=df['lemma_tokens'], \n",
    "                                   dictionary=id2word, coherence='c_v')\n",
    "coherence_lda_model_base = coherence_model.get_coherence()\n",
    "print('\\nCoherence Score: ', coherence_lda_model_base)"
   ]
  },
  {
   "cell_type": "code",
   "execution_count": null,
   "metadata": {
    "id": "3yKtvh9Qlvgu"
   },
   "outputs": [],
   "source": [
    "# topic distance visualization \n",
    "pyLDAvis.enable_notebook()\n",
    "pyLDAvis.gensim.prepare(base_model, corpus, id2word)"
   ]
  },
  {
   "cell_type": "code",
   "execution_count": null,
   "metadata": {
    "id": "xbH0VY_Gl3zw"
   },
   "outputs": [],
   "source": []
  },
  {
   "cell_type": "code",
   "execution_count": null,
   "metadata": {
    "id": "LQ2fTMJeTM7O"
   },
   "outputs": [],
   "source": [
    "# tweet bot will have a drop down for topic and seperate one for twitter user account\n"
   ]
  }
 ],
 "metadata": {
  "accelerator": "TPU",
  "colab": {
   "collapsed_sections": [],
   "machine_shape": "hm",
   "name": "Modern_Motivation_Chatbot.ipynb",
   "provenance": []
  },
  "kernelspec": {
   "display_name": "Python 3",
   "language": "python",
   "name": "python3"
  },
  "language_info": {
   "codemirror_mode": {
    "name": "ipython",
    "version": 3
   },
   "file_extension": ".py",
   "mimetype": "text/x-python",
   "name": "python",
   "nbconvert_exporter": "python",
   "pygments_lexer": "ipython3",
   "version": "3.7.6"
  }
 },
 "nbformat": 4,
 "nbformat_minor": 1
}
