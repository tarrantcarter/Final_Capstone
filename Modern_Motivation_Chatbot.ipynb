{
 "cells": [
  {
   "cell_type": "code",
   "execution_count": 1,
   "metadata": {},
   "outputs": [
    {
     "data": {
      "application/javascript": [
       "\n",
       "            setTimeout(function() {\n",
       "                var nbb_cell_id = 1;\n",
       "                var nbb_unformatted_code = \"%load_ext nb_black\";\n",
       "                var nbb_formatted_code = \"%load_ext nb_black\";\n",
       "                var nbb_cells = Jupyter.notebook.get_cells();\n",
       "                for (var i = 0; i < nbb_cells.length; ++i) {\n",
       "                    if (nbb_cells[i].input_prompt_number == nbb_cell_id) {\n",
       "                        if (nbb_cells[i].get_text() == nbb_unformatted_code) {\n",
       "                             nbb_cells[i].set_text(nbb_formatted_code);\n",
       "                        }\n",
       "                        break;\n",
       "                    }\n",
       "                }\n",
       "            }, 500);\n",
       "            "
      ],
      "text/plain": [
       "<IPython.core.display.Javascript object>"
      ]
     },
     "metadata": {},
     "output_type": "display_data"
    }
   ],
   "source": [
    "%load_ext nb_black"
   ]
  },
  {
   "cell_type": "code",
   "execution_count": 2,
   "metadata": {},
   "outputs": [
    {
     "data": {
      "application/javascript": [
       "\n",
       "            setTimeout(function() {\n",
       "                var nbb_cell_id = 2;\n",
       "                var nbb_unformatted_code = \"import pandas as pd\\nimport numpy as np\\nimport time\\nimport re\";\n",
       "                var nbb_formatted_code = \"import pandas as pd\\nimport numpy as np\\nimport time\\nimport re\";\n",
       "                var nbb_cells = Jupyter.notebook.get_cells();\n",
       "                for (var i = 0; i < nbb_cells.length; ++i) {\n",
       "                    if (nbb_cells[i].input_prompt_number == nbb_cell_id) {\n",
       "                        if (nbb_cells[i].get_text() == nbb_unformatted_code) {\n",
       "                             nbb_cells[i].set_text(nbb_formatted_code);\n",
       "                        }\n",
       "                        break;\n",
       "                    }\n",
       "                }\n",
       "            }, 500);\n",
       "            "
      ],
      "text/plain": [
       "<IPython.core.display.Javascript object>"
      ]
     },
     "metadata": {},
     "output_type": "display_data"
    }
   ],
   "source": [
    "import pandas as pd\n",
    "import numpy as np\n",
    "import time\n",
    "import re"
   ]
  },
  {
   "cell_type": "code",
   "execution_count": 3,
   "metadata": {},
   "outputs": [
    {
     "data": {
      "application/javascript": [
       "\n",
       "            setTimeout(function() {\n",
       "                var nbb_cell_id = 3;\n",
       "                var nbb_unformatted_code = \"# load in scraped tweets from https://github.com/tarrantcarter/Final_Capstone/blob/main/Modern_Motivation_Web_Scrape.ipynb\\ntweets = pd.read_json(\\n    r\\\"/Users/tarrantcarter/Dropbox/Data Science/Final_Capstone/motivational_tweets.json\\\",\\n)\";\n",
       "                var nbb_formatted_code = \"# load in scraped tweets from https://github.com/tarrantcarter/Final_Capstone/blob/main/Modern_Motivation_Web_Scrape.ipynb\\ntweets = pd.read_json(\\n    r\\\"/Users/tarrantcarter/Dropbox/Data Science/Final_Capstone/motivational_tweets.json\\\",\\n)\";\n",
       "                var nbb_cells = Jupyter.notebook.get_cells();\n",
       "                for (var i = 0; i < nbb_cells.length; ++i) {\n",
       "                    if (nbb_cells[i].input_prompt_number == nbb_cell_id) {\n",
       "                        if (nbb_cells[i].get_text() == nbb_unformatted_code) {\n",
       "                             nbb_cells[i].set_text(nbb_formatted_code);\n",
       "                        }\n",
       "                        break;\n",
       "                    }\n",
       "                }\n",
       "            }, 500);\n",
       "            "
      ],
      "text/plain": [
       "<IPython.core.display.Javascript object>"
      ]
     },
     "metadata": {},
     "output_type": "display_data"
    }
   ],
   "source": [
    "# load in scraped tweets from https://github.com/tarrantcarter/Final_Capstone/blob/main/Modern_Motivation_Web_Scrape.ipynb\n",
    "tweets = pd.read_json(\n",
    "    r\"/Users/tarrantcarter/Dropbox/Data Science/Final_Capstone/motivational_tweets.json\",\n",
    ")"
   ]
  },
  {
   "cell_type": "code",
   "execution_count": 4,
   "metadata": {},
   "outputs": [
    {
     "data": {
      "text/html": [
       "<div>\n",
       "<style scoped>\n",
       "    .dataframe tbody tr th:only-of-type {\n",
       "        vertical-align: middle;\n",
       "    }\n",
       "\n",
       "    .dataframe tbody tr th {\n",
       "        vertical-align: top;\n",
       "    }\n",
       "\n",
       "    .dataframe thead th {\n",
       "        text-align: right;\n",
       "    }\n",
       "</style>\n",
       "<table border=\"1\" class=\"dataframe\">\n",
       "  <thead>\n",
       "    <tr style=\"text-align: right;\">\n",
       "      <th></th>\n",
       "      <th>index</th>\n",
       "      <th>url</th>\n",
       "      <th>date</th>\n",
       "      <th>content</th>\n",
       "      <th>renderedContent</th>\n",
       "      <th>id</th>\n",
       "      <th>user</th>\n",
       "      <th>outlinks</th>\n",
       "      <th>tcooutlinks</th>\n",
       "      <th>replyCount</th>\n",
       "      <th>...</th>\n",
       "      <th>quoteCount</th>\n",
       "      <th>conversationId</th>\n",
       "      <th>lang</th>\n",
       "      <th>source</th>\n",
       "      <th>sourceUrl</th>\n",
       "      <th>sourceLabel</th>\n",
       "      <th>media</th>\n",
       "      <th>retweetedTweet</th>\n",
       "      <th>quotedTweet</th>\n",
       "      <th>mentionedUsers</th>\n",
       "    </tr>\n",
       "  </thead>\n",
       "  <tbody>\n",
       "    <tr>\n",
       "      <th>0</th>\n",
       "      <td>0</td>\n",
       "      <td>https://twitter.com/LewisHowes/status/13515332...</td>\n",
       "      <td>2021-01-19 14:13:23</td>\n",
       "      <td>My guest @MrJamesNestor has spent years in lab...</td>\n",
       "      <td>My guest @MrJamesNestor has spent years in lab...</td>\n",
       "      <td>1351533215459258369</td>\n",
       "      <td>{'username': 'LewisHowes', 'displayname': 'Lew...</td>\n",
       "      <td>[https://link.chtbl.com/1060-tw]</td>\n",
       "      <td>[https://t.co/xMjUvSkJtD]</td>\n",
       "      <td>3</td>\n",
       "      <td>...</td>\n",
       "      <td>1</td>\n",
       "      <td>1351533215459258369</td>\n",
       "      <td>en</td>\n",
       "      <td>&lt;a href=\"https://mobile.twitter.com\" rel=\"nofo...</td>\n",
       "      <td>https://mobile.twitter.com</td>\n",
       "      <td>Twitter Web App</td>\n",
       "      <td>[{'thumbnailUrl': 'https://pbs.twimg.com/ext_t...</td>\n",
       "      <td>NaN</td>\n",
       "      <td>None</td>\n",
       "      <td>[{'username': 'MrJamesNestor', 'displayname': ...</td>\n",
       "    </tr>\n",
       "    <tr>\n",
       "      <th>1</th>\n",
       "      <td>1</td>\n",
       "      <td>https://twitter.com/LewisHowes/status/13515234...</td>\n",
       "      <td>2021-01-19 13:34:33</td>\n",
       "      <td>@EDGcoach Thanks, I appreciate it! ❤</td>\n",
       "      <td>@EDGcoach Thanks, I appreciate it! ❤</td>\n",
       "      <td>1351523443234263045</td>\n",
       "      <td>{'username': 'LewisHowes', 'displayname': 'Lew...</td>\n",
       "      <td>[]</td>\n",
       "      <td>[]</td>\n",
       "      <td>1</td>\n",
       "      <td>...</td>\n",
       "      <td>0</td>\n",
       "      <td>1351168601496150023</td>\n",
       "      <td>en</td>\n",
       "      <td>&lt;a href=\"http://www.zendesk.com\" rel=\"nofollow...</td>\n",
       "      <td>http://www.zendesk.com</td>\n",
       "      <td>Zendesk</td>\n",
       "      <td>None</td>\n",
       "      <td>NaN</td>\n",
       "      <td>None</td>\n",
       "      <td>[{'username': 'EDGcoach', 'displayname': 'Empo...</td>\n",
       "    </tr>\n",
       "    <tr>\n",
       "      <th>2</th>\n",
       "      <td>2</td>\n",
       "      <td>https://twitter.com/LewisHowes/status/13514478...</td>\n",
       "      <td>2021-01-19 08:34:12</td>\n",
       "      <td>@imchrisjordan 💯</td>\n",
       "      <td>@imchrisjordan 💯</td>\n",
       "      <td>1351447858629799940</td>\n",
       "      <td>{'username': 'LewisHowes', 'displayname': 'Lew...</td>\n",
       "      <td>[]</td>\n",
       "      <td>[]</td>\n",
       "      <td>0</td>\n",
       "      <td>...</td>\n",
       "      <td>0</td>\n",
       "      <td>1351051353116831745</td>\n",
       "      <td>und</td>\n",
       "      <td>&lt;a href=\"http://www.zendesk.com\" rel=\"nofollow...</td>\n",
       "      <td>http://www.zendesk.com</td>\n",
       "      <td>Zendesk</td>\n",
       "      <td>None</td>\n",
       "      <td>NaN</td>\n",
       "      <td>None</td>\n",
       "      <td>[{'username': 'imchrisjordan', 'displayname': ...</td>\n",
       "    </tr>\n",
       "    <tr>\n",
       "      <th>3</th>\n",
       "      <td>3</td>\n",
       "      <td>https://twitter.com/LewisHowes/status/13514317...</td>\n",
       "      <td>2021-01-19 07:30:13</td>\n",
       "      <td>@MKenkadze Glad you loved it!</td>\n",
       "      <td>@MKenkadze Glad you loved it!</td>\n",
       "      <td>1351431756688347137</td>\n",
       "      <td>{'username': 'LewisHowes', 'displayname': 'Lew...</td>\n",
       "      <td>[]</td>\n",
       "      <td>[]</td>\n",
       "      <td>0</td>\n",
       "      <td>...</td>\n",
       "      <td>0</td>\n",
       "      <td>1350102468126883842</td>\n",
       "      <td>en</td>\n",
       "      <td>&lt;a href=\"http://www.zendesk.com\" rel=\"nofollow...</td>\n",
       "      <td>http://www.zendesk.com</td>\n",
       "      <td>Zendesk</td>\n",
       "      <td>None</td>\n",
       "      <td>NaN</td>\n",
       "      <td>None</td>\n",
       "      <td>[{'username': 'MKenkadze', 'displayname': 'Mar...</td>\n",
       "    </tr>\n",
       "    <tr>\n",
       "      <th>4</th>\n",
       "      <td>4</td>\n",
       "      <td>https://twitter.com/LewisHowes/status/13514300...</td>\n",
       "      <td>2021-01-19 07:23:25</td>\n",
       "      <td>@sueizzo My pleasure! ❤</td>\n",
       "      <td>@sueizzo My pleasure! ❤</td>\n",
       "      <td>1351430042384003072</td>\n",
       "      <td>{'username': 'LewisHowes', 'displayname': 'Lew...</td>\n",
       "      <td>[]</td>\n",
       "      <td>[]</td>\n",
       "      <td>0</td>\n",
       "      <td>...</td>\n",
       "      <td>0</td>\n",
       "      <td>1351040232003612673</td>\n",
       "      <td>en</td>\n",
       "      <td>&lt;a href=\"http://www.zendesk.com\" rel=\"nofollow...</td>\n",
       "      <td>http://www.zendesk.com</td>\n",
       "      <td>Zendesk</td>\n",
       "      <td>None</td>\n",
       "      <td>NaN</td>\n",
       "      <td>None</td>\n",
       "      <td>[{'username': 'sueizzo', 'displayname': 'Sue I...</td>\n",
       "    </tr>\n",
       "  </tbody>\n",
       "</table>\n",
       "<p>5 rows × 22 columns</p>\n",
       "</div>"
      ],
      "text/plain": [
       "   index                                                url  \\\n",
       "0      0  https://twitter.com/LewisHowes/status/13515332...   \n",
       "1      1  https://twitter.com/LewisHowes/status/13515234...   \n",
       "2      2  https://twitter.com/LewisHowes/status/13514478...   \n",
       "3      3  https://twitter.com/LewisHowes/status/13514317...   \n",
       "4      4  https://twitter.com/LewisHowes/status/13514300...   \n",
       "\n",
       "                 date                                            content  \\\n",
       "0 2021-01-19 14:13:23  My guest @MrJamesNestor has spent years in lab...   \n",
       "1 2021-01-19 13:34:33               @EDGcoach Thanks, I appreciate it! ❤   \n",
       "2 2021-01-19 08:34:12                                   @imchrisjordan 💯   \n",
       "3 2021-01-19 07:30:13                      @MKenkadze Glad you loved it!   \n",
       "4 2021-01-19 07:23:25                            @sueizzo My pleasure! ❤   \n",
       "\n",
       "                                     renderedContent                   id  \\\n",
       "0  My guest @MrJamesNestor has spent years in lab...  1351533215459258369   \n",
       "1               @EDGcoach Thanks, I appreciate it! ❤  1351523443234263045   \n",
       "2                                   @imchrisjordan 💯  1351447858629799940   \n",
       "3                      @MKenkadze Glad you loved it!  1351431756688347137   \n",
       "4                            @sueizzo My pleasure! ❤  1351430042384003072   \n",
       "\n",
       "                                                user  \\\n",
       "0  {'username': 'LewisHowes', 'displayname': 'Lew...   \n",
       "1  {'username': 'LewisHowes', 'displayname': 'Lew...   \n",
       "2  {'username': 'LewisHowes', 'displayname': 'Lew...   \n",
       "3  {'username': 'LewisHowes', 'displayname': 'Lew...   \n",
       "4  {'username': 'LewisHowes', 'displayname': 'Lew...   \n",
       "\n",
       "                           outlinks                tcooutlinks  replyCount  \\\n",
       "0  [https://link.chtbl.com/1060-tw]  [https://t.co/xMjUvSkJtD]           3   \n",
       "1                                []                         []           1   \n",
       "2                                []                         []           0   \n",
       "3                                []                         []           0   \n",
       "4                                []                         []           0   \n",
       "\n",
       "   ...  quoteCount       conversationId  lang  \\\n",
       "0  ...           1  1351533215459258369    en   \n",
       "1  ...           0  1351168601496150023    en   \n",
       "2  ...           0  1351051353116831745   und   \n",
       "3  ...           0  1350102468126883842    en   \n",
       "4  ...           0  1351040232003612673    en   \n",
       "\n",
       "                                              source  \\\n",
       "0  <a href=\"https://mobile.twitter.com\" rel=\"nofo...   \n",
       "1  <a href=\"http://www.zendesk.com\" rel=\"nofollow...   \n",
       "2  <a href=\"http://www.zendesk.com\" rel=\"nofollow...   \n",
       "3  <a href=\"http://www.zendesk.com\" rel=\"nofollow...   \n",
       "4  <a href=\"http://www.zendesk.com\" rel=\"nofollow...   \n",
       "\n",
       "                    sourceUrl      sourceLabel  \\\n",
       "0  https://mobile.twitter.com  Twitter Web App   \n",
       "1      http://www.zendesk.com          Zendesk   \n",
       "2      http://www.zendesk.com          Zendesk   \n",
       "3      http://www.zendesk.com          Zendesk   \n",
       "4      http://www.zendesk.com          Zendesk   \n",
       "\n",
       "                                               media retweetedTweet  \\\n",
       "0  [{'thumbnailUrl': 'https://pbs.twimg.com/ext_t...            NaN   \n",
       "1                                               None            NaN   \n",
       "2                                               None            NaN   \n",
       "3                                               None            NaN   \n",
       "4                                               None            NaN   \n",
       "\n",
       "  quotedTweet                                     mentionedUsers  \n",
       "0        None  [{'username': 'MrJamesNestor', 'displayname': ...  \n",
       "1        None  [{'username': 'EDGcoach', 'displayname': 'Empo...  \n",
       "2        None  [{'username': 'imchrisjordan', 'displayname': ...  \n",
       "3        None  [{'username': 'MKenkadze', 'displayname': 'Mar...  \n",
       "4        None  [{'username': 'sueizzo', 'displayname': 'Sue I...  \n",
       "\n",
       "[5 rows x 22 columns]"
      ]
     },
     "execution_count": 4,
     "metadata": {},
     "output_type": "execute_result"
    },
    {
     "data": {
      "application/javascript": [
       "\n",
       "            setTimeout(function() {\n",
       "                var nbb_cell_id = 4;\n",
       "                var nbb_unformatted_code = \"tweets.head()\";\n",
       "                var nbb_formatted_code = \"tweets.head()\";\n",
       "                var nbb_cells = Jupyter.notebook.get_cells();\n",
       "                for (var i = 0; i < nbb_cells.length; ++i) {\n",
       "                    if (nbb_cells[i].input_prompt_number == nbb_cell_id) {\n",
       "                        if (nbb_cells[i].get_text() == nbb_unformatted_code) {\n",
       "                             nbb_cells[i].set_text(nbb_formatted_code);\n",
       "                        }\n",
       "                        break;\n",
       "                    }\n",
       "                }\n",
       "            }, 500);\n",
       "            "
      ],
      "text/plain": [
       "<IPython.core.display.Javascript object>"
      ]
     },
     "metadata": {},
     "output_type": "display_data"
    }
   ],
   "source": [
    "tweets.head()"
   ]
  },
  {
   "cell_type": "code",
   "execution_count": 5,
   "metadata": {},
   "outputs": [
    {
     "name": "stdout",
     "output_type": "stream",
     "text": [
      "<class 'pandas.core.frame.DataFrame'>\n",
      "Int64Index: 977611 entries, 0 to 977610\n",
      "Data columns (total 22 columns):\n",
      " #   Column           Non-Null Count   Dtype         \n",
      "---  ------           --------------   -----         \n",
      " 0   index            977611 non-null  int64         \n",
      " 1   url              977611 non-null  object        \n",
      " 2   date             977611 non-null  datetime64[ns]\n",
      " 3   content          977611 non-null  object        \n",
      " 4   renderedContent  977611 non-null  object        \n",
      " 5   id               977611 non-null  int64         \n",
      " 6   user             977611 non-null  object        \n",
      " 7   outlinks         977611 non-null  object        \n",
      " 8   tcooutlinks      977611 non-null  object        \n",
      " 9   replyCount       977611 non-null  int64         \n",
      " 10  retweetCount     977611 non-null  int64         \n",
      " 11  likeCount        977611 non-null  int64         \n",
      " 12  quoteCount       977611 non-null  int64         \n",
      " 13  conversationId   977611 non-null  int64         \n",
      " 14  lang             977611 non-null  object        \n",
      " 15  source           977611 non-null  object        \n",
      " 16  sourceUrl        977610 non-null  object        \n",
      " 17  sourceLabel      977610 non-null  object        \n",
      " 18  media            33109 non-null   object        \n",
      " 19  retweetedTweet   0 non-null       float64       \n",
      " 20  quotedTweet      2107 non-null    object        \n",
      " 21  mentionedUsers   158593 non-null  object        \n",
      "dtypes: datetime64[ns](1), float64(1), int64(7), object(13)\n",
      "memory usage: 171.5+ MB\n"
     ]
    },
    {
     "data": {
      "application/javascript": [
       "\n",
       "            setTimeout(function() {\n",
       "                var nbb_cell_id = 5;\n",
       "                var nbb_unformatted_code = \"tweets.info()\";\n",
       "                var nbb_formatted_code = \"tweets.info()\";\n",
       "                var nbb_cells = Jupyter.notebook.get_cells();\n",
       "                for (var i = 0; i < nbb_cells.length; ++i) {\n",
       "                    if (nbb_cells[i].input_prompt_number == nbb_cell_id) {\n",
       "                        if (nbb_cells[i].get_text() == nbb_unformatted_code) {\n",
       "                             nbb_cells[i].set_text(nbb_formatted_code);\n",
       "                        }\n",
       "                        break;\n",
       "                    }\n",
       "                }\n",
       "            }, 500);\n",
       "            "
      ],
      "text/plain": [
       "<IPython.core.display.Javascript object>"
      ]
     },
     "metadata": {},
     "output_type": "display_data"
    }
   ],
   "source": [
    "tweets.info()"
   ]
  },
  {
   "cell_type": "code",
   "execution_count": 6,
   "metadata": {},
   "outputs": [
    {
     "data": {
      "text/html": [
       "<div>\n",
       "<style scoped>\n",
       "    .dataframe tbody tr th:only-of-type {\n",
       "        vertical-align: middle;\n",
       "    }\n",
       "\n",
       "    .dataframe tbody tr th {\n",
       "        vertical-align: top;\n",
       "    }\n",
       "\n",
       "    .dataframe thead th {\n",
       "        text-align: right;\n",
       "    }\n",
       "</style>\n",
       "<table border=\"1\" class=\"dataframe\">\n",
       "  <thead>\n",
       "    <tr style=\"text-align: right;\">\n",
       "      <th></th>\n",
       "      <th>index</th>\n",
       "      <th>url</th>\n",
       "      <th>date</th>\n",
       "      <th>content</th>\n",
       "      <th>renderedContent</th>\n",
       "      <th>id</th>\n",
       "      <th>user</th>\n",
       "      <th>outlinks</th>\n",
       "      <th>tcooutlinks</th>\n",
       "      <th>replyCount</th>\n",
       "      <th>...</th>\n",
       "      <th>quoteCount</th>\n",
       "      <th>conversationId</th>\n",
       "      <th>lang</th>\n",
       "      <th>source</th>\n",
       "      <th>sourceUrl</th>\n",
       "      <th>sourceLabel</th>\n",
       "      <th>media</th>\n",
       "      <th>retweetedTweet</th>\n",
       "      <th>quotedTweet</th>\n",
       "      <th>mentionedUsers</th>\n",
       "    </tr>\n",
       "  </thead>\n",
       "  <tbody>\n",
       "    <tr>\n",
       "      <th>0</th>\n",
       "      <td>&lt;class 'int'&gt;</td>\n",
       "      <td>&lt;class 'str'&gt;</td>\n",
       "      <td>&lt;class 'pandas._libs.tslibs.timestamps.Timesta...</td>\n",
       "      <td>&lt;class 'str'&gt;</td>\n",
       "      <td>&lt;class 'str'&gt;</td>\n",
       "      <td>&lt;class 'int'&gt;</td>\n",
       "      <td>&lt;class 'dict'&gt;</td>\n",
       "      <td>&lt;class 'list'&gt;</td>\n",
       "      <td>&lt;class 'list'&gt;</td>\n",
       "      <td>&lt;class 'int'&gt;</td>\n",
       "      <td>...</td>\n",
       "      <td>&lt;class 'int'&gt;</td>\n",
       "      <td>&lt;class 'int'&gt;</td>\n",
       "      <td>&lt;class 'str'&gt;</td>\n",
       "      <td>&lt;class 'str'&gt;</td>\n",
       "      <td>&lt;class 'str'&gt;</td>\n",
       "      <td>&lt;class 'str'&gt;</td>\n",
       "      <td>&lt;class 'list'&gt;</td>\n",
       "      <td>&lt;class 'float'&gt;</td>\n",
       "      <td>&lt;class 'NoneType'&gt;</td>\n",
       "      <td>&lt;class 'list'&gt;</td>\n",
       "    </tr>\n",
       "    <tr>\n",
       "      <th>1</th>\n",
       "      <td>&lt;class 'int'&gt;</td>\n",
       "      <td>&lt;class 'str'&gt;</td>\n",
       "      <td>&lt;class 'pandas._libs.tslibs.timestamps.Timesta...</td>\n",
       "      <td>&lt;class 'str'&gt;</td>\n",
       "      <td>&lt;class 'str'&gt;</td>\n",
       "      <td>&lt;class 'int'&gt;</td>\n",
       "      <td>&lt;class 'dict'&gt;</td>\n",
       "      <td>&lt;class 'list'&gt;</td>\n",
       "      <td>&lt;class 'list'&gt;</td>\n",
       "      <td>&lt;class 'int'&gt;</td>\n",
       "      <td>...</td>\n",
       "      <td>&lt;class 'int'&gt;</td>\n",
       "      <td>&lt;class 'int'&gt;</td>\n",
       "      <td>&lt;class 'str'&gt;</td>\n",
       "      <td>&lt;class 'str'&gt;</td>\n",
       "      <td>&lt;class 'str'&gt;</td>\n",
       "      <td>&lt;class 'str'&gt;</td>\n",
       "      <td>&lt;class 'NoneType'&gt;</td>\n",
       "      <td>&lt;class 'float'&gt;</td>\n",
       "      <td>&lt;class 'NoneType'&gt;</td>\n",
       "      <td>&lt;class 'list'&gt;</td>\n",
       "    </tr>\n",
       "    <tr>\n",
       "      <th>2</th>\n",
       "      <td>&lt;class 'int'&gt;</td>\n",
       "      <td>&lt;class 'str'&gt;</td>\n",
       "      <td>&lt;class 'pandas._libs.tslibs.timestamps.Timesta...</td>\n",
       "      <td>&lt;class 'str'&gt;</td>\n",
       "      <td>&lt;class 'str'&gt;</td>\n",
       "      <td>&lt;class 'int'&gt;</td>\n",
       "      <td>&lt;class 'dict'&gt;</td>\n",
       "      <td>&lt;class 'list'&gt;</td>\n",
       "      <td>&lt;class 'list'&gt;</td>\n",
       "      <td>&lt;class 'int'&gt;</td>\n",
       "      <td>...</td>\n",
       "      <td>&lt;class 'int'&gt;</td>\n",
       "      <td>&lt;class 'int'&gt;</td>\n",
       "      <td>&lt;class 'str'&gt;</td>\n",
       "      <td>&lt;class 'str'&gt;</td>\n",
       "      <td>&lt;class 'str'&gt;</td>\n",
       "      <td>&lt;class 'str'&gt;</td>\n",
       "      <td>&lt;class 'NoneType'&gt;</td>\n",
       "      <td>&lt;class 'float'&gt;</td>\n",
       "      <td>&lt;class 'NoneType'&gt;</td>\n",
       "      <td>&lt;class 'list'&gt;</td>\n",
       "    </tr>\n",
       "    <tr>\n",
       "      <th>3</th>\n",
       "      <td>&lt;class 'int'&gt;</td>\n",
       "      <td>&lt;class 'str'&gt;</td>\n",
       "      <td>&lt;class 'pandas._libs.tslibs.timestamps.Timesta...</td>\n",
       "      <td>&lt;class 'str'&gt;</td>\n",
       "      <td>&lt;class 'str'&gt;</td>\n",
       "      <td>&lt;class 'int'&gt;</td>\n",
       "      <td>&lt;class 'dict'&gt;</td>\n",
       "      <td>&lt;class 'list'&gt;</td>\n",
       "      <td>&lt;class 'list'&gt;</td>\n",
       "      <td>&lt;class 'int'&gt;</td>\n",
       "      <td>...</td>\n",
       "      <td>&lt;class 'int'&gt;</td>\n",
       "      <td>&lt;class 'int'&gt;</td>\n",
       "      <td>&lt;class 'str'&gt;</td>\n",
       "      <td>&lt;class 'str'&gt;</td>\n",
       "      <td>&lt;class 'str'&gt;</td>\n",
       "      <td>&lt;class 'str'&gt;</td>\n",
       "      <td>&lt;class 'NoneType'&gt;</td>\n",
       "      <td>&lt;class 'float'&gt;</td>\n",
       "      <td>&lt;class 'NoneType'&gt;</td>\n",
       "      <td>&lt;class 'list'&gt;</td>\n",
       "    </tr>\n",
       "    <tr>\n",
       "      <th>4</th>\n",
       "      <td>&lt;class 'int'&gt;</td>\n",
       "      <td>&lt;class 'str'&gt;</td>\n",
       "      <td>&lt;class 'pandas._libs.tslibs.timestamps.Timesta...</td>\n",
       "      <td>&lt;class 'str'&gt;</td>\n",
       "      <td>&lt;class 'str'&gt;</td>\n",
       "      <td>&lt;class 'int'&gt;</td>\n",
       "      <td>&lt;class 'dict'&gt;</td>\n",
       "      <td>&lt;class 'list'&gt;</td>\n",
       "      <td>&lt;class 'list'&gt;</td>\n",
       "      <td>&lt;class 'int'&gt;</td>\n",
       "      <td>...</td>\n",
       "      <td>&lt;class 'int'&gt;</td>\n",
       "      <td>&lt;class 'int'&gt;</td>\n",
       "      <td>&lt;class 'str'&gt;</td>\n",
       "      <td>&lt;class 'str'&gt;</td>\n",
       "      <td>&lt;class 'str'&gt;</td>\n",
       "      <td>&lt;class 'str'&gt;</td>\n",
       "      <td>&lt;class 'NoneType'&gt;</td>\n",
       "      <td>&lt;class 'float'&gt;</td>\n",
       "      <td>&lt;class 'NoneType'&gt;</td>\n",
       "      <td>&lt;class 'list'&gt;</td>\n",
       "    </tr>\n",
       "    <tr>\n",
       "      <th>...</th>\n",
       "      <td>...</td>\n",
       "      <td>...</td>\n",
       "      <td>...</td>\n",
       "      <td>...</td>\n",
       "      <td>...</td>\n",
       "      <td>...</td>\n",
       "      <td>...</td>\n",
       "      <td>...</td>\n",
       "      <td>...</td>\n",
       "      <td>...</td>\n",
       "      <td>...</td>\n",
       "      <td>...</td>\n",
       "      <td>...</td>\n",
       "      <td>...</td>\n",
       "      <td>...</td>\n",
       "      <td>...</td>\n",
       "      <td>...</td>\n",
       "      <td>...</td>\n",
       "      <td>...</td>\n",
       "      <td>...</td>\n",
       "      <td>...</td>\n",
       "    </tr>\n",
       "    <tr>\n",
       "      <th>977606</th>\n",
       "      <td>&lt;class 'int'&gt;</td>\n",
       "      <td>&lt;class 'str'&gt;</td>\n",
       "      <td>&lt;class 'pandas._libs.tslibs.timestamps.Timesta...</td>\n",
       "      <td>&lt;class 'str'&gt;</td>\n",
       "      <td>&lt;class 'str'&gt;</td>\n",
       "      <td>&lt;class 'int'&gt;</td>\n",
       "      <td>&lt;class 'dict'&gt;</td>\n",
       "      <td>&lt;class 'list'&gt;</td>\n",
       "      <td>&lt;class 'list'&gt;</td>\n",
       "      <td>&lt;class 'int'&gt;</td>\n",
       "      <td>...</td>\n",
       "      <td>&lt;class 'int'&gt;</td>\n",
       "      <td>&lt;class 'int'&gt;</td>\n",
       "      <td>&lt;class 'str'&gt;</td>\n",
       "      <td>&lt;class 'str'&gt;</td>\n",
       "      <td>&lt;class 'str'&gt;</td>\n",
       "      <td>&lt;class 'str'&gt;</td>\n",
       "      <td>&lt;class 'NoneType'&gt;</td>\n",
       "      <td>&lt;class 'float'&gt;</td>\n",
       "      <td>&lt;class 'NoneType'&gt;</td>\n",
       "      <td>&lt;class 'NoneType'&gt;</td>\n",
       "    </tr>\n",
       "    <tr>\n",
       "      <th>977607</th>\n",
       "      <td>&lt;class 'int'&gt;</td>\n",
       "      <td>&lt;class 'str'&gt;</td>\n",
       "      <td>&lt;class 'pandas._libs.tslibs.timestamps.Timesta...</td>\n",
       "      <td>&lt;class 'str'&gt;</td>\n",
       "      <td>&lt;class 'str'&gt;</td>\n",
       "      <td>&lt;class 'int'&gt;</td>\n",
       "      <td>&lt;class 'dict'&gt;</td>\n",
       "      <td>&lt;class 'list'&gt;</td>\n",
       "      <td>&lt;class 'list'&gt;</td>\n",
       "      <td>&lt;class 'int'&gt;</td>\n",
       "      <td>...</td>\n",
       "      <td>&lt;class 'int'&gt;</td>\n",
       "      <td>&lt;class 'int'&gt;</td>\n",
       "      <td>&lt;class 'str'&gt;</td>\n",
       "      <td>&lt;class 'str'&gt;</td>\n",
       "      <td>&lt;class 'str'&gt;</td>\n",
       "      <td>&lt;class 'str'&gt;</td>\n",
       "      <td>&lt;class 'NoneType'&gt;</td>\n",
       "      <td>&lt;class 'float'&gt;</td>\n",
       "      <td>&lt;class 'NoneType'&gt;</td>\n",
       "      <td>&lt;class 'NoneType'&gt;</td>\n",
       "    </tr>\n",
       "    <tr>\n",
       "      <th>977608</th>\n",
       "      <td>&lt;class 'int'&gt;</td>\n",
       "      <td>&lt;class 'str'&gt;</td>\n",
       "      <td>&lt;class 'pandas._libs.tslibs.timestamps.Timesta...</td>\n",
       "      <td>&lt;class 'str'&gt;</td>\n",
       "      <td>&lt;class 'str'&gt;</td>\n",
       "      <td>&lt;class 'int'&gt;</td>\n",
       "      <td>&lt;class 'dict'&gt;</td>\n",
       "      <td>&lt;class 'list'&gt;</td>\n",
       "      <td>&lt;class 'list'&gt;</td>\n",
       "      <td>&lt;class 'int'&gt;</td>\n",
       "      <td>...</td>\n",
       "      <td>&lt;class 'int'&gt;</td>\n",
       "      <td>&lt;class 'int'&gt;</td>\n",
       "      <td>&lt;class 'str'&gt;</td>\n",
       "      <td>&lt;class 'str'&gt;</td>\n",
       "      <td>&lt;class 'str'&gt;</td>\n",
       "      <td>&lt;class 'str'&gt;</td>\n",
       "      <td>&lt;class 'NoneType'&gt;</td>\n",
       "      <td>&lt;class 'float'&gt;</td>\n",
       "      <td>&lt;class 'NoneType'&gt;</td>\n",
       "      <td>&lt;class 'NoneType'&gt;</td>\n",
       "    </tr>\n",
       "    <tr>\n",
       "      <th>977609</th>\n",
       "      <td>&lt;class 'int'&gt;</td>\n",
       "      <td>&lt;class 'str'&gt;</td>\n",
       "      <td>&lt;class 'pandas._libs.tslibs.timestamps.Timesta...</td>\n",
       "      <td>&lt;class 'str'&gt;</td>\n",
       "      <td>&lt;class 'str'&gt;</td>\n",
       "      <td>&lt;class 'int'&gt;</td>\n",
       "      <td>&lt;class 'dict'&gt;</td>\n",
       "      <td>&lt;class 'list'&gt;</td>\n",
       "      <td>&lt;class 'list'&gt;</td>\n",
       "      <td>&lt;class 'int'&gt;</td>\n",
       "      <td>...</td>\n",
       "      <td>&lt;class 'int'&gt;</td>\n",
       "      <td>&lt;class 'int'&gt;</td>\n",
       "      <td>&lt;class 'str'&gt;</td>\n",
       "      <td>&lt;class 'str'&gt;</td>\n",
       "      <td>&lt;class 'str'&gt;</td>\n",
       "      <td>&lt;class 'str'&gt;</td>\n",
       "      <td>&lt;class 'NoneType'&gt;</td>\n",
       "      <td>&lt;class 'float'&gt;</td>\n",
       "      <td>&lt;class 'NoneType'&gt;</td>\n",
       "      <td>&lt;class 'NoneType'&gt;</td>\n",
       "    </tr>\n",
       "    <tr>\n",
       "      <th>977610</th>\n",
       "      <td>&lt;class 'int'&gt;</td>\n",
       "      <td>&lt;class 'str'&gt;</td>\n",
       "      <td>&lt;class 'pandas._libs.tslibs.timestamps.Timesta...</td>\n",
       "      <td>&lt;class 'str'&gt;</td>\n",
       "      <td>&lt;class 'str'&gt;</td>\n",
       "      <td>&lt;class 'int'&gt;</td>\n",
       "      <td>&lt;class 'dict'&gt;</td>\n",
       "      <td>&lt;class 'list'&gt;</td>\n",
       "      <td>&lt;class 'list'&gt;</td>\n",
       "      <td>&lt;class 'int'&gt;</td>\n",
       "      <td>...</td>\n",
       "      <td>&lt;class 'int'&gt;</td>\n",
       "      <td>&lt;class 'int'&gt;</td>\n",
       "      <td>&lt;class 'str'&gt;</td>\n",
       "      <td>&lt;class 'str'&gt;</td>\n",
       "      <td>&lt;class 'str'&gt;</td>\n",
       "      <td>&lt;class 'str'&gt;</td>\n",
       "      <td>&lt;class 'NoneType'&gt;</td>\n",
       "      <td>&lt;class 'float'&gt;</td>\n",
       "      <td>&lt;class 'NoneType'&gt;</td>\n",
       "      <td>&lt;class 'NoneType'&gt;</td>\n",
       "    </tr>\n",
       "  </tbody>\n",
       "</table>\n",
       "<p>977611 rows × 22 columns</p>\n",
       "</div>"
      ],
      "text/plain": [
       "                index            url  \\\n",
       "0       <class 'int'>  <class 'str'>   \n",
       "1       <class 'int'>  <class 'str'>   \n",
       "2       <class 'int'>  <class 'str'>   \n",
       "3       <class 'int'>  <class 'str'>   \n",
       "4       <class 'int'>  <class 'str'>   \n",
       "...               ...            ...   \n",
       "977606  <class 'int'>  <class 'str'>   \n",
       "977607  <class 'int'>  <class 'str'>   \n",
       "977608  <class 'int'>  <class 'str'>   \n",
       "977609  <class 'int'>  <class 'str'>   \n",
       "977610  <class 'int'>  <class 'str'>   \n",
       "\n",
       "                                                     date        content  \\\n",
       "0       <class 'pandas._libs.tslibs.timestamps.Timesta...  <class 'str'>   \n",
       "1       <class 'pandas._libs.tslibs.timestamps.Timesta...  <class 'str'>   \n",
       "2       <class 'pandas._libs.tslibs.timestamps.Timesta...  <class 'str'>   \n",
       "3       <class 'pandas._libs.tslibs.timestamps.Timesta...  <class 'str'>   \n",
       "4       <class 'pandas._libs.tslibs.timestamps.Timesta...  <class 'str'>   \n",
       "...                                                   ...            ...   \n",
       "977606  <class 'pandas._libs.tslibs.timestamps.Timesta...  <class 'str'>   \n",
       "977607  <class 'pandas._libs.tslibs.timestamps.Timesta...  <class 'str'>   \n",
       "977608  <class 'pandas._libs.tslibs.timestamps.Timesta...  <class 'str'>   \n",
       "977609  <class 'pandas._libs.tslibs.timestamps.Timesta...  <class 'str'>   \n",
       "977610  <class 'pandas._libs.tslibs.timestamps.Timesta...  <class 'str'>   \n",
       "\n",
       "       renderedContent             id            user        outlinks  \\\n",
       "0        <class 'str'>  <class 'int'>  <class 'dict'>  <class 'list'>   \n",
       "1        <class 'str'>  <class 'int'>  <class 'dict'>  <class 'list'>   \n",
       "2        <class 'str'>  <class 'int'>  <class 'dict'>  <class 'list'>   \n",
       "3        <class 'str'>  <class 'int'>  <class 'dict'>  <class 'list'>   \n",
       "4        <class 'str'>  <class 'int'>  <class 'dict'>  <class 'list'>   \n",
       "...                ...            ...             ...             ...   \n",
       "977606   <class 'str'>  <class 'int'>  <class 'dict'>  <class 'list'>   \n",
       "977607   <class 'str'>  <class 'int'>  <class 'dict'>  <class 'list'>   \n",
       "977608   <class 'str'>  <class 'int'>  <class 'dict'>  <class 'list'>   \n",
       "977609   <class 'str'>  <class 'int'>  <class 'dict'>  <class 'list'>   \n",
       "977610   <class 'str'>  <class 'int'>  <class 'dict'>  <class 'list'>   \n",
       "\n",
       "           tcooutlinks     replyCount  ...     quoteCount conversationId  \\\n",
       "0       <class 'list'>  <class 'int'>  ...  <class 'int'>  <class 'int'>   \n",
       "1       <class 'list'>  <class 'int'>  ...  <class 'int'>  <class 'int'>   \n",
       "2       <class 'list'>  <class 'int'>  ...  <class 'int'>  <class 'int'>   \n",
       "3       <class 'list'>  <class 'int'>  ...  <class 'int'>  <class 'int'>   \n",
       "4       <class 'list'>  <class 'int'>  ...  <class 'int'>  <class 'int'>   \n",
       "...                ...            ...  ...            ...            ...   \n",
       "977606  <class 'list'>  <class 'int'>  ...  <class 'int'>  <class 'int'>   \n",
       "977607  <class 'list'>  <class 'int'>  ...  <class 'int'>  <class 'int'>   \n",
       "977608  <class 'list'>  <class 'int'>  ...  <class 'int'>  <class 'int'>   \n",
       "977609  <class 'list'>  <class 'int'>  ...  <class 'int'>  <class 'int'>   \n",
       "977610  <class 'list'>  <class 'int'>  ...  <class 'int'>  <class 'int'>   \n",
       "\n",
       "                 lang         source      sourceUrl    sourceLabel  \\\n",
       "0       <class 'str'>  <class 'str'>  <class 'str'>  <class 'str'>   \n",
       "1       <class 'str'>  <class 'str'>  <class 'str'>  <class 'str'>   \n",
       "2       <class 'str'>  <class 'str'>  <class 'str'>  <class 'str'>   \n",
       "3       <class 'str'>  <class 'str'>  <class 'str'>  <class 'str'>   \n",
       "4       <class 'str'>  <class 'str'>  <class 'str'>  <class 'str'>   \n",
       "...               ...            ...            ...            ...   \n",
       "977606  <class 'str'>  <class 'str'>  <class 'str'>  <class 'str'>   \n",
       "977607  <class 'str'>  <class 'str'>  <class 'str'>  <class 'str'>   \n",
       "977608  <class 'str'>  <class 'str'>  <class 'str'>  <class 'str'>   \n",
       "977609  <class 'str'>  <class 'str'>  <class 'str'>  <class 'str'>   \n",
       "977610  <class 'str'>  <class 'str'>  <class 'str'>  <class 'str'>   \n",
       "\n",
       "                     media   retweetedTweet         quotedTweet  \\\n",
       "0           <class 'list'>  <class 'float'>  <class 'NoneType'>   \n",
       "1       <class 'NoneType'>  <class 'float'>  <class 'NoneType'>   \n",
       "2       <class 'NoneType'>  <class 'float'>  <class 'NoneType'>   \n",
       "3       <class 'NoneType'>  <class 'float'>  <class 'NoneType'>   \n",
       "4       <class 'NoneType'>  <class 'float'>  <class 'NoneType'>   \n",
       "...                    ...              ...                 ...   \n",
       "977606  <class 'NoneType'>  <class 'float'>  <class 'NoneType'>   \n",
       "977607  <class 'NoneType'>  <class 'float'>  <class 'NoneType'>   \n",
       "977608  <class 'NoneType'>  <class 'float'>  <class 'NoneType'>   \n",
       "977609  <class 'NoneType'>  <class 'float'>  <class 'NoneType'>   \n",
       "977610  <class 'NoneType'>  <class 'float'>  <class 'NoneType'>   \n",
       "\n",
       "            mentionedUsers  \n",
       "0           <class 'list'>  \n",
       "1           <class 'list'>  \n",
       "2           <class 'list'>  \n",
       "3           <class 'list'>  \n",
       "4           <class 'list'>  \n",
       "...                    ...  \n",
       "977606  <class 'NoneType'>  \n",
       "977607  <class 'NoneType'>  \n",
       "977608  <class 'NoneType'>  \n",
       "977609  <class 'NoneType'>  \n",
       "977610  <class 'NoneType'>  \n",
       "\n",
       "[977611 rows x 22 columns]"
      ]
     },
     "execution_count": 6,
     "metadata": {},
     "output_type": "execute_result"
    },
    {
     "data": {
      "application/javascript": [
       "\n",
       "            setTimeout(function() {\n",
       "                var nbb_cell_id = 6;\n",
       "                var nbb_unformatted_code = \"tweets.applymap(type)\";\n",
       "                var nbb_formatted_code = \"tweets.applymap(type)\";\n",
       "                var nbb_cells = Jupyter.notebook.get_cells();\n",
       "                for (var i = 0; i < nbb_cells.length; ++i) {\n",
       "                    if (nbb_cells[i].input_prompt_number == nbb_cell_id) {\n",
       "                        if (nbb_cells[i].get_text() == nbb_unformatted_code) {\n",
       "                             nbb_cells[i].set_text(nbb_formatted_code);\n",
       "                        }\n",
       "                        break;\n",
       "                    }\n",
       "                }\n",
       "            }, 500);\n",
       "            "
      ],
      "text/plain": [
       "<IPython.core.display.Javascript object>"
      ]
     },
     "metadata": {},
     "output_type": "display_data"
    }
   ],
   "source": [
    "tweets.applymap(type)"
   ]
  },
  {
   "cell_type": "code",
   "execution_count": 7,
   "metadata": {},
   "outputs": [
    {
     "data": {
      "text/plain": [
       "0     My guest @MrJamesNestor has spent years in laboratories and ancient burial sites, working with researchers to figure out that a lot of us may not be breathing correctly. And he’s learned how to fix it. 👃\\n\\nLearn more from @MrJamesNestor at https://t.co/xMjUvSkJtD https://t.co/YZHZAKaUge\n",
       "1                                                                                                                                                                                                                                                                 @EDGcoach Thanks, I appreciate it! ❤\n",
       "2                                                                                                                                                                                                                                                                                     @imchrisjordan 💯\n",
       "3                                                                                                                                                                                                                                                                        @MKenkadze Glad you loved it!\n",
       "4                                                                                                                                                                                                                                                                              @sueizzo My pleasure! ❤\n",
       "5                                                                                                                                                                                                                                                                                      @obe_amouda11 ❤\n",
       "6                                                                                                                                                                                                                                                                        @CarlsContent Wow, thank you!\n",
       "7                                                                                                                                                                                                                                                                   @indrabartona Glad you loved it! 😃\n",
       "8                                                                                                                                                                                                                                                                           @indrabartona Thank you! ❤\n",
       "9                                                                                                                                                                                                                                                                          @TheSciFiNovel Thank you! ❤\n",
       "10                                                                                                                                                                                                                                                                      @Fran_Gea1 It's my pleasure! 🙌\n",
       "11                                                                                                                                                                                                                                                                     @TedHardaway Glad to hear that!\n",
       "12                                                                                                                                                                                                                                                                  @TheAntonioNeves It's my pleasure!\n",
       "13                                                                                                                                                                                                                                                                              @Jaydbullet Thank you!\n",
       "14                                                                                                                                                                                                                                                                               @IamCathyGoodall Yes!\n",
       "15                                                                                                                                                                                                                                                                      @positivitygal Thanks a lot! 🙌\n",
       "16                                                                                                                                                                                                                                                                           @Arashdeep2002 Exactly! 💯\n",
       "17                                                                                                                                                                                                                                                                                @EDGcoach Thank you!\n",
       "18                                                                                                                                                                                                                                                   @ogony_john Indeed! Thanks a lot for the tweet! 🙌\n",
       "19                                                                                                                                                                                                                                           I hope this speaks to you today 🙏 https://t.co/heACOl1v22\n",
       "Name: content, dtype: object"
      ]
     },
     "execution_count": 7,
     "metadata": {},
     "output_type": "execute_result"
    },
    {
     "data": {
      "application/javascript": [
       "\n",
       "            setTimeout(function() {\n",
       "                var nbb_cell_id = 7;\n",
       "                var nbb_unformatted_code = \"# extend max col width so all the text can be seen\\npd.set_option(\\\"display.max_colwidth\\\", None)\\n\\ntweets[\\\"content\\\"][:20]\";\n",
       "                var nbb_formatted_code = \"# extend max col width so all the text can be seen\\npd.set_option(\\\"display.max_colwidth\\\", None)\\n\\ntweets[\\\"content\\\"][:20]\";\n",
       "                var nbb_cells = Jupyter.notebook.get_cells();\n",
       "                for (var i = 0; i < nbb_cells.length; ++i) {\n",
       "                    if (nbb_cells[i].input_prompt_number == nbb_cell_id) {\n",
       "                        if (nbb_cells[i].get_text() == nbb_unformatted_code) {\n",
       "                             nbb_cells[i].set_text(nbb_formatted_code);\n",
       "                        }\n",
       "                        break;\n",
       "                    }\n",
       "                }\n",
       "            }, 500);\n",
       "            "
      ],
      "text/plain": [
       "<IPython.core.display.Javascript object>"
      ]
     },
     "metadata": {},
     "output_type": "display_data"
    }
   ],
   "source": [
    "# extend max col width so all the text can be seen\n",
    "pd.set_option(\"display.max_colwidth\", None)\n",
    "\n",
    "tweets[\"content\"][:20]"
   ]
  },
  {
   "cell_type": "code",
   "execution_count": 8,
   "metadata": {},
   "outputs": [
    {
     "data": {
      "text/plain": [
       "0         My guest @MrJamesNestor has spent years in laboratories and ancient burial sites, working with researchers to figure out that a lot of us may not be breathing correctly. And he’s learned how to fix it. 👃\\n\\nLearn more from @MrJamesNestor at https://t.co/xMjUvSkJtD https://t.co/YZHZAKaUge\n",
       "1                                                                                                                                                                                                                                                                     @EDGcoach Thanks, I appreciate it! ❤\n",
       "2                                                                                                                                                                                                                                                                                         @imchrisjordan 💯\n",
       "3                                                                                                                                                                                                                                                                            @MKenkadze Glad you loved it!\n",
       "4                                                                                                                                                                                                                                                                                  @sueizzo My pleasure! ❤\n",
       "                                                                                                                                                        ...                                                                                                                                               \n",
       "977596                                                                                                                                                                    Make big plans; aim high in hope and work, remembering that a noble, logical diagram once recorded will not die.\\nDaniel Burnham\n",
       "977597                                                                                                                                                                                                          If we don't change, we don't grow. If we don't grow, we aren't really living.\\nGail Sheehy\n",
       "977598                                                                                                                                                                                       He that will not apply new remedies must expect new evils; for time is the greatest innovator.\\nFrancis Bacon\n",
       "977599                                                                                                                                                                         Never esteem anything as of advantage to you that will make you break your word or lose your self-respect. ~Marcus Aurelius\n",
       "977600                                                                                                                                                                                                                      Excerpts from\\n  Healing Yourself\\nby Christian D. Larson http://t.co/FFTENPst\n",
       "Name: content, Length: 977601, dtype: object"
      ]
     },
     "execution_count": 8,
     "metadata": {},
     "output_type": "execute_result"
    },
    {
     "data": {
      "application/javascript": [
       "\n",
       "            setTimeout(function() {\n",
       "                var nbb_cell_id = 8;\n",
       "                var nbb_unformatted_code = \"tweets[\\\"content\\\"][:-10]\";\n",
       "                var nbb_formatted_code = \"tweets[\\\"content\\\"][:-10]\";\n",
       "                var nbb_cells = Jupyter.notebook.get_cells();\n",
       "                for (var i = 0; i < nbb_cells.length; ++i) {\n",
       "                    if (nbb_cells[i].input_prompt_number == nbb_cell_id) {\n",
       "                        if (nbb_cells[i].get_text() == nbb_unformatted_code) {\n",
       "                             nbb_cells[i].set_text(nbb_formatted_code);\n",
       "                        }\n",
       "                        break;\n",
       "                    }\n",
       "                }\n",
       "            }, 500);\n",
       "            "
      ],
      "text/plain": [
       "<IPython.core.display.Javascript object>"
      ]
     },
     "metadata": {},
     "output_type": "display_data"
    }
   ],
   "source": [
    "tweets[\"content\"][:-10]"
   ]
  },
  {
   "cell_type": "markdown",
   "metadata": {},
   "source": [
    "After further inspection of the content column, tweets that start with @ are specific tweets to other user. These tweets will be removed because we want motivational tweets that are geared towards a general audience. We also have to remove tweets that have hyperlinks since those tweets are more calls to action and not general motivational advise. We will also have to deal with emoticons and emojis.  "
   ]
  },
  {
   "cell_type": "code",
   "execution_count": 9,
   "metadata": {},
   "outputs": [
    {
     "data": {
      "application/javascript": [
       "\n",
       "            setTimeout(function() {\n",
       "                var nbb_cell_id = 9;\n",
       "                var nbb_unformatted_code = \"# convert any non-text to text in the content column\\ntweets[\\\"content\\\"] = tweets[\\\"content\\\"].map(str)\";\n",
       "                var nbb_formatted_code = \"# convert any non-text to text in the content column\\ntweets[\\\"content\\\"] = tweets[\\\"content\\\"].map(str)\";\n",
       "                var nbb_cells = Jupyter.notebook.get_cells();\n",
       "                for (var i = 0; i < nbb_cells.length; ++i) {\n",
       "                    if (nbb_cells[i].input_prompt_number == nbb_cell_id) {\n",
       "                        if (nbb_cells[i].get_text() == nbb_unformatted_code) {\n",
       "                             nbb_cells[i].set_text(nbb_formatted_code);\n",
       "                        }\n",
       "                        break;\n",
       "                    }\n",
       "                }\n",
       "            }, 500);\n",
       "            "
      ],
      "text/plain": [
       "<IPython.core.display.Javascript object>"
      ]
     },
     "metadata": {},
     "output_type": "display_data"
    }
   ],
   "source": [
    "# convert any non-text to text in the content column\n",
    "tweets[\"content\"] = tweets[\"content\"].map(str)"
   ]
  },
  {
   "cell_type": "code",
   "execution_count": 10,
   "metadata": {},
   "outputs": [
    {
     "data": {
      "application/javascript": [
       "\n",
       "            setTimeout(function() {\n",
       "                var nbb_cell_id = 10;\n",
       "                var nbb_unformatted_code = \"# remove all tweets that contain @\\ntweets2 = tweets[~tweets['content'].str.contains(\\\"@\\\")]\";\n",
       "                var nbb_formatted_code = \"# remove all tweets that contain @\\ntweets2 = tweets[~tweets[\\\"content\\\"].str.contains(\\\"@\\\")]\";\n",
       "                var nbb_cells = Jupyter.notebook.get_cells();\n",
       "                for (var i = 0; i < nbb_cells.length; ++i) {\n",
       "                    if (nbb_cells[i].input_prompt_number == nbb_cell_id) {\n",
       "                        if (nbb_cells[i].get_text() == nbb_unformatted_code) {\n",
       "                             nbb_cells[i].set_text(nbb_formatted_code);\n",
       "                        }\n",
       "                        break;\n",
       "                    }\n",
       "                }\n",
       "            }, 500);\n",
       "            "
      ],
      "text/plain": [
       "<IPython.core.display.Javascript object>"
      ]
     },
     "metadata": {},
     "output_type": "display_data"
    }
   ],
   "source": [
    "# remove all tweets that contain @\n",
    "tweets2 = tweets[~tweets['content'].str.contains(\"@\")]\n"
   ]
  },
  {
   "cell_type": "code",
   "execution_count": 11,
   "metadata": {},
   "outputs": [
    {
     "name": "stdout",
     "output_type": "stream",
     "text": [
      "<class 'pandas.core.frame.DataFrame'>\n",
      "Int64Index: 796161 entries, 19 to 977610\n",
      "Data columns (total 22 columns):\n",
      " #   Column           Non-Null Count   Dtype         \n",
      "---  ------           --------------   -----         \n",
      " 0   index            796161 non-null  int64         \n",
      " 1   url              796161 non-null  object        \n",
      " 2   date             796161 non-null  datetime64[ns]\n",
      " 3   content          796161 non-null  object        \n",
      " 4   renderedContent  796161 non-null  object        \n",
      " 5   id               796161 non-null  int64         \n",
      " 6   user             796161 non-null  object        \n",
      " 7   outlinks         796161 non-null  object        \n",
      " 8   tcooutlinks      796161 non-null  object        \n",
      " 9   replyCount       796161 non-null  int64         \n",
      " 10  retweetCount     796161 non-null  int64         \n",
      " 11  likeCount        796161 non-null  int64         \n",
      " 12  quoteCount       796161 non-null  int64         \n",
      " 13  conversationId   796161 non-null  int64         \n",
      " 14  lang             796161 non-null  object        \n",
      " 15  source           796161 non-null  object        \n",
      " 16  sourceUrl        796160 non-null  object        \n",
      " 17  sourceLabel      796160 non-null  object        \n",
      " 18  media            30770 non-null   object        \n",
      " 19  retweetedTweet   0 non-null       float64       \n",
      " 20  quotedTweet      1701 non-null    object        \n",
      " 21  mentionedUsers   0 non-null       object        \n",
      "dtypes: datetime64[ns](1), float64(1), int64(7), object(13)\n",
      "memory usage: 139.7+ MB\n"
     ]
    },
    {
     "data": {
      "application/javascript": [
       "\n",
       "            setTimeout(function() {\n",
       "                var nbb_cell_id = 11;\n",
       "                var nbb_unformatted_code = \"tweets2.info()\";\n",
       "                var nbb_formatted_code = \"tweets2.info()\";\n",
       "                var nbb_cells = Jupyter.notebook.get_cells();\n",
       "                for (var i = 0; i < nbb_cells.length; ++i) {\n",
       "                    if (nbb_cells[i].input_prompt_number == nbb_cell_id) {\n",
       "                        if (nbb_cells[i].get_text() == nbb_unformatted_code) {\n",
       "                             nbb_cells[i].set_text(nbb_formatted_code);\n",
       "                        }\n",
       "                        break;\n",
       "                    }\n",
       "                }\n",
       "            }, 500);\n",
       "            "
      ],
      "text/plain": [
       "<IPython.core.display.Javascript object>"
      ]
     },
     "metadata": {},
     "output_type": "display_data"
    }
   ],
   "source": [
    "tweets2.info()"
   ]
  },
  {
   "cell_type": "markdown",
   "metadata": {},
   "source": [
    "That removed about 200,000 rows. "
   ]
  },
  {
   "cell_type": "code",
   "execution_count": 13,
   "metadata": {},
   "outputs": [
    {
     "data": {
      "text/plain": [
       "19                                                                                                                                                                                                                                                             I hope this speaks to you today 🙏 https://t.co/heACOl1v22\n",
       "44                          Know this. Everything is happening for a reason and in your favor for the betterment of your future. The pain you feel now will help later if you:\\n\\n1. Look at what’s not serving you\\n2. Listen to your intuition\\n3. Learn the meaning behind it\\n4. Let go of limits that hold you back\n",
       "60                                CALLING ALL HIGH ACHIEVERS:\\n\\nIf you are an entrepreneur, brand, or business owner ready to invest in a premium high-performance coaching program...\\n\\nClick here: https://t.co/cQuLdxqiTH if you want to put yourself on an accelerated path to greatness.🔥 https://t.co/IgwaulAlX5\n",
       "61                                 Protect your inner peace at all costs. Create daily practices and communicate boundaries to make sure the stress and drama of others doesn’t consume you. You don’t need to be someone else’s emotional punching bag. Your energy and happiness is too important. Protect your peace!\n",
       "70                                                                                                                                                                                   About to reach 1 million subscribers on YouTube- would mean a lot if you subscribed now to get us there ❤️👏 https://t.co/gu7tZJku5r\n",
       "83               With more than 20 years of experience as a Navy SEAL Officer, Rich Diviney has lots of amazing lessons and techniques to share. I am so glad I got to sit down with him and hear his perspective!🙌\\n\\nCheck out the full interview with Rich Diviney at https://t.co/HSRxxcPUyw https://t.co/2kBdPh0SGN\n",
       "96                      \"Knowledge on its own is not power, you have to apply it.\" - Rich Diviney\\n\\nFormer Navy SEAL Officer, Rich Diviney dives deep into the mindset of a Navy SEAL and he shares some mind-blowing wisdom🤯\\n\\n👉 Check out the full interview here: https://t.co/HSRxxcPUyw 👈 https://t.co/G9iC6ca4tT\n",
       "108                                   You are stronger than you think. The painful moments that hurt you in the past were meant for you. They broke you down so you could become stronger than ever before. I know it was hard. I know you wouldn’t wish it on anyone else. But I also know you wouldn’t change a thing!\n",
       "161                                                           Always remember to ask for exactly what you want. Ask for love, good health, abundance and peace. Ask for wisdom, creativity and positive energy. Don’t be shy in your dreams. Be bold and live in gratitude because everything you want is coming to you.\n",
       "206                                                              What if you treated yourself like someone you were madly in love with? Imagine what you could do with all that positive energy. Stop beating yourself up for not being perfect and start loving yourself the way you would with someone you care about.\n",
       "208                               I hope you realize no one is coming to save you. You will want a great team but never someone to rescue you. Greatness happens when 1. You have a clear vision 2. Turn adversity into your advantage 3. Have a growth mindset 4. Develop champion habits. 5. Live in Service to others\n",
       "274                              This will be your greatest year ever. All your work will start to pay off.  You will earn more, be happier, love deeper and be healthier.  It will all manifest because you built better habits, embraced your fears, added more value to others and took massive action on your goals.\n",
       "281                                                               Life without play is not a meaningful life. How do you guys make sure to stay in touch with your inner child? 😇 Comment below!\\n\\n👉 Check out my 2020 recap episode with my COO Matt Cesaratto here: https://t.co/eFtN4Ynv66 👈 https://t.co/5gD0Yb0twi\n",
       "305    \"I think when you're not clear on your mission or your vision, what you're working towards, you may not be excited to get up in the morning.\" Do you agree?🔥\\n\\nCheck out today's episode where I recap 2020 with my COO and longtime friend Matt Cesaratto here: https://t.co/eFtN4Ynv66 https://t.co/BiKqusAtzR\n",
       "317                             Be grateful for the breakdown this year. It’s setting you up for a massive breakthrough.  Money is coming. Your Mission is getting clear.  You found out if the Relationship was right for you. You are finally making your Health a priority.  And you found who your real Friends are!\n",
       "336                                                                                                                                                                                                                                                                 Who else is with me on this? https://t.co/uWwPkoWsTx\n",
       "338                           I hope you realize 2021 won’t magically be your best year ever unless you 1. Take ownership for your actions 2. Change your habits to support your growth 3. Make health &amp; happiness a priority 4. Learn to say no &amp; develop boundaries 5. Surround yourself with positive people.\n",
       "359                             It’s easy to comment and leave harsh messages online of people you don’t know. It’s hard to take consistent action and fail over and over again until you get your desired results.  I applaud everyone going after their dreams no matter what the critics say! https://t.co/dpz3r2Jaew\n",
       "404                               Your season is coming:\\n\\nThings have been breaking down in order to build you up and align your dreams to your reality.  Keep being grateful. Keep being kind to yourself. Keep improving daily. Keep adding value to others and watch as abundance and goals begin to manifest soon!\n",
       "411                                                                                                       Can you guess what female Entreprenuer and #1 New York Times bestselling author I have coming on the show tomorrow? Share below and make sure to subscribe at https://t.co/EM7gGAWYaN to get it when it drops!\n",
       "Name: content, dtype: object"
      ]
     },
     "execution_count": 13,
     "metadata": {},
     "output_type": "execute_result"
    },
    {
     "data": {
      "application/javascript": [
       "\n",
       "            setTimeout(function() {\n",
       "                var nbb_cell_id = 13;\n",
       "                var nbb_unformatted_code = \"tweets2[\\\"content\\\"][:20]\";\n",
       "                var nbb_formatted_code = \"tweets2[\\\"content\\\"][:20]\";\n",
       "                var nbb_cells = Jupyter.notebook.get_cells();\n",
       "                for (var i = 0; i < nbb_cells.length; ++i) {\n",
       "                    if (nbb_cells[i].input_prompt_number == nbb_cell_id) {\n",
       "                        if (nbb_cells[i].get_text() == nbb_unformatted_code) {\n",
       "                             nbb_cells[i].set_text(nbb_formatted_code);\n",
       "                        }\n",
       "                        break;\n",
       "                    }\n",
       "                }\n",
       "            }, 500);\n",
       "            "
      ],
      "text/plain": [
       "<IPython.core.display.Javascript object>"
      ]
     },
     "metadata": {},
     "output_type": "display_data"
    }
   ],
   "source": [
    "tweets2[\"content\"][:20]"
   ]
  },
  {
   "cell_type": "code",
   "execution_count": 14,
   "metadata": {},
   "outputs": [
    {
     "data": {
      "application/javascript": [
       "\n",
       "            setTimeout(function() {\n",
       "                var nbb_cell_id = 14;\n",
       "                var nbb_unformatted_code = \"# drop rows containing http links\\ntweets3 = tweets2[~(tweets2[\\\"content\\\"].str.contains(\\\"http\\\"))]\";\n",
       "                var nbb_formatted_code = \"# drop rows containing http links\\ntweets3 = tweets2[~(tweets2[\\\"content\\\"].str.contains(\\\"http\\\"))]\";\n",
       "                var nbb_cells = Jupyter.notebook.get_cells();\n",
       "                for (var i = 0; i < nbb_cells.length; ++i) {\n",
       "                    if (nbb_cells[i].input_prompt_number == nbb_cell_id) {\n",
       "                        if (nbb_cells[i].get_text() == nbb_unformatted_code) {\n",
       "                             nbb_cells[i].set_text(nbb_formatted_code);\n",
       "                        }\n",
       "                        break;\n",
       "                    }\n",
       "                }\n",
       "            }, 500);\n",
       "            "
      ],
      "text/plain": [
       "<IPython.core.display.Javascript object>"
      ]
     },
     "metadata": {},
     "output_type": "display_data"
    }
   ],
   "source": [
    "# drop rows containing http links\n",
    "tweets3 = tweets2[~(tweets2[\"content\"].str.contains(\"http\"))]"
   ]
  },
  {
   "cell_type": "code",
   "execution_count": 15,
   "metadata": {},
   "outputs": [
    {
     "data": {
      "text/plain": [
       "44      Know this. Everything is happening for a reason and in your favor for the betterment of your future. The pain you feel now will help later if you:\\n\\n1. Look at what’s not serving you\\n2. Listen to your intuition\\n3. Learn the meaning behind it\\n4. Let go of limits that hold you back\n",
       "61             Protect your inner peace at all costs. Create daily practices and communicate boundaries to make sure the stress and drama of others doesn’t consume you. You don’t need to be someone else’s emotional punching bag. Your energy and happiness is too important. Protect your peace!\n",
       "108               You are stronger than you think. The painful moments that hurt you in the past were meant for you. They broke you down so you could become stronger than ever before. I know it was hard. I know you wouldn’t wish it on anyone else. But I also know you wouldn’t change a thing!\n",
       "161                                       Always remember to ask for exactly what you want. Ask for love, good health, abundance and peace. Ask for wisdom, creativity and positive energy. Don’t be shy in your dreams. Be bold and live in gratitude because everything you want is coming to you.\n",
       "206                                          What if you treated yourself like someone you were madly in love with? Imagine what you could do with all that positive energy. Stop beating yourself up for not being perfect and start loving yourself the way you would with someone you care about.\n",
       "208           I hope you realize no one is coming to save you. You will want a great team but never someone to rescue you. Greatness happens when 1. You have a clear vision 2. Turn adversity into your advantage 3. Have a growth mindset 4. Develop champion habits. 5. Live in Service to others\n",
       "274          This will be your greatest year ever. All your work will start to pay off.  You will earn more, be happier, love deeper and be healthier.  It will all manifest because you built better habits, embraced your fears, added more value to others and took massive action on your goals.\n",
       "317         Be grateful for the breakdown this year. It’s setting you up for a massive breakthrough.  Money is coming. Your Mission is getting clear.  You found out if the Relationship was right for you. You are finally making your Health a priority.  And you found who your real Friends are!\n",
       "338       I hope you realize 2021 won’t magically be your best year ever unless you 1. Take ownership for your actions 2. Change your habits to support your growth 3. Make health &amp; happiness a priority 4. Learn to say no &amp; develop boundaries 5. Surround yourself with positive people.\n",
       "404           Your season is coming:\\n\\nThings have been breaking down in order to build you up and align your dreams to your reality.  Keep being grateful. Keep being kind to yourself. Keep improving daily. Keep adding value to others and watch as abundance and goals begin to manifest soon!\n",
       "439                 Great things are coming for you. Things are breaking down and aligning all in your favor to achieve your dreams. All of this is preparing you for something magical. Remember to:\\n\\n1.  Love yourself fully\\n2. Forgive others\\n3. Calm your inner critic\\n4. Be a giving heart\n",
       "535                                                                                                7 Things to Give Up For a Happier Life:\\n\\n- Your Excuses\\n- Negative Self Talk\\n- Toxic Relationships\\n- Playing Small\\n- Unhealthy Eating\\n- Bad Sleep Habits\\n- Hoping Someone will Rescue You\n",
       "554    Real facts:  \\n\\nNot everyone is your friend or has your best interest in mind. Wish them well and find better friends. Friends that support you, call you on your crap, clap &amp; celebrate your success and want the best for you... these are the people you want in you corner for life!\n",
       "604                                                                                    Anyone can give their all for 8 days... will you?\\n\\nIf you are in then reshare this post on your page or stories and use the hashtag #8Great to lock in the start day this Tuesday, December 8th!\\n\\n#8Great\n",
       "605                                                                                                    This will be challenging.\\n\\nYou will need to plan your time.\\n\\nYou will need to step up in your life.\\n\\nYou will need to eliminate distractions.\\n\\nAnd you will need to give it your all.\n",
       "606                                                                                                                                                                                     You must find 1 partner to do this with you.\\n\\nIf they do not finish, you do not finish so choose wisely 😜.\n",
       "607                                                                                                                                No smoking, drinking, or recreational drugs, as this is a time to clear your mind (most of you know I swear by the benefits as I’ve never been drunk in my life).\n",
       "608                                                                                                                                   8 kilometers is almost 5 miles, and you can walk, run, or hike indoors or outdoors but you must complete the distance (8 miles daily for the advanced version)\n",
       "609                                                         Follow each of the 8 steps 💯 and you complete the challenge.\\n\\nPost a photo or video when you complete with the hashtag #8Great and that you completed it (I recommend posting daily for progress updates and accountability mentally).\n",
       "621           Kids have imaginary friends. Adults have imaginary enemies. Your cognitive biases make you THINK people are:\\n\\n- judging you\\n- out to get you\\n- scheming behind your back\\n\\nIn reality, people are too focused on themselves to be thinking about you that much.\\n\\n- Joey Doughty\n",
       "Name: content, dtype: object"
      ]
     },
     "execution_count": 15,
     "metadata": {},
     "output_type": "execute_result"
    },
    {
     "data": {
      "application/javascript": [
       "\n",
       "            setTimeout(function() {\n",
       "                var nbb_cell_id = 15;\n",
       "                var nbb_unformatted_code = \"tweets3[\\\"content\\\"][:20]\";\n",
       "                var nbb_formatted_code = \"tweets3[\\\"content\\\"][:20]\";\n",
       "                var nbb_cells = Jupyter.notebook.get_cells();\n",
       "                for (var i = 0; i < nbb_cells.length; ++i) {\n",
       "                    if (nbb_cells[i].input_prompt_number == nbb_cell_id) {\n",
       "                        if (nbb_cells[i].get_text() == nbb_unformatted_code) {\n",
       "                             nbb_cells[i].set_text(nbb_formatted_code);\n",
       "                        }\n",
       "                        break;\n",
       "                    }\n",
       "                }\n",
       "            }, 500);\n",
       "            "
      ],
      "text/plain": [
       "<IPython.core.display.Javascript object>"
      ]
     },
     "metadata": {},
     "output_type": "display_data"
    }
   ],
   "source": [
    "tweets3[\"content\"][:20]"
   ]
  },
  {
   "cell_type": "code",
   "execution_count": 16,
   "metadata": {},
   "outputs": [
    {
     "data": {
      "text/plain": [
       "697691"
      ]
     },
     "execution_count": 16,
     "metadata": {},
     "output_type": "execute_result"
    },
    {
     "data": {
      "application/javascript": [
       "\n",
       "            setTimeout(function() {\n",
       "                var nbb_cell_id = 16;\n",
       "                var nbb_unformatted_code = \"len(tweets3)\";\n",
       "                var nbb_formatted_code = \"len(tweets3)\";\n",
       "                var nbb_cells = Jupyter.notebook.get_cells();\n",
       "                for (var i = 0; i < nbb_cells.length; ++i) {\n",
       "                    if (nbb_cells[i].input_prompt_number == nbb_cell_id) {\n",
       "                        if (nbb_cells[i].get_text() == nbb_unformatted_code) {\n",
       "                             nbb_cells[i].set_text(nbb_formatted_code);\n",
       "                        }\n",
       "                        break;\n",
       "                    }\n",
       "                }\n",
       "            }, 500);\n",
       "            "
      ],
      "text/plain": [
       "<IPython.core.display.Javascript object>"
      ]
     },
     "metadata": {},
     "output_type": "display_data"
    }
   ],
   "source": [
    "len(tweets3)"
   ]
  },
  {
   "cell_type": "markdown",
   "metadata": {},
   "source": [
    "We have removed almost a third of our initial database. We still need to remove line breaks, non-english text, emojis, and emoticons."
   ]
  },
  {
   "cell_type": "code",
   "execution_count": 17,
   "metadata": {},
   "outputs": [
    {
     "name": "stdout",
     "output_type": "stream",
     "text": [
      "<class 'pandas.core.frame.DataFrame'>\n",
      "Int64Index: 697691 entries, 44 to 977610\n",
      "Data columns (total 22 columns):\n",
      " #   Column           Non-Null Count   Dtype         \n",
      "---  ------           --------------   -----         \n",
      " 0   index            697691 non-null  int64         \n",
      " 1   url              697691 non-null  object        \n",
      " 2   date             697691 non-null  datetime64[ns]\n",
      " 3   content          697691 non-null  object        \n",
      " 4   renderedContent  697691 non-null  object        \n",
      " 5   id               697691 non-null  int64         \n",
      " 6   user             697691 non-null  object        \n",
      " 7   outlinks         697691 non-null  object        \n",
      " 8   tcooutlinks      697691 non-null  object        \n",
      " 9   replyCount       697691 non-null  int64         \n",
      " 10  retweetCount     697691 non-null  int64         \n",
      " 11  likeCount        697691 non-null  int64         \n",
      " 12  quoteCount       697691 non-null  int64         \n",
      " 13  conversationId   697691 non-null  int64         \n",
      " 14  lang             697691 non-null  object        \n",
      " 15  source           697691 non-null  object        \n",
      " 16  sourceUrl        697691 non-null  object        \n",
      " 17  sourceLabel      697691 non-null  object        \n",
      " 18  media            0 non-null       object        \n",
      " 19  retweetedTweet   0 non-null       float64       \n",
      " 20  quotedTweet      0 non-null       object        \n",
      " 21  mentionedUsers   0 non-null       object        \n",
      "dtypes: datetime64[ns](1), float64(1), int64(7), object(13)\n",
      "memory usage: 122.4+ MB\n"
     ]
    },
    {
     "data": {
      "application/javascript": [
       "\n",
       "            setTimeout(function() {\n",
       "                var nbb_cell_id = 17;\n",
       "                var nbb_unformatted_code = \"tweets3.info()\";\n",
       "                var nbb_formatted_code = \"tweets3.info()\";\n",
       "                var nbb_cells = Jupyter.notebook.get_cells();\n",
       "                for (var i = 0; i < nbb_cells.length; ++i) {\n",
       "                    if (nbb_cells[i].input_prompt_number == nbb_cell_id) {\n",
       "                        if (nbb_cells[i].get_text() == nbb_unformatted_code) {\n",
       "                             nbb_cells[i].set_text(nbb_formatted_code);\n",
       "                        }\n",
       "                        break;\n",
       "                    }\n",
       "                }\n",
       "            }, 500);\n",
       "            "
      ],
      "text/plain": [
       "<IPython.core.display.Javascript object>"
      ]
     },
     "metadata": {},
     "output_type": "display_data"
    }
   ],
   "source": [
    "tweets3.info()"
   ]
  },
  {
   "cell_type": "code",
   "execution_count": 18,
   "metadata": {},
   "outputs": [
    {
     "name": "stderr",
     "output_type": "stream",
     "text": [
      "/opt/anaconda3/lib/python3.7/site-packages/ipykernel_launcher.py:2: SettingWithCopyWarning: \n",
      "A value is trying to be set on a copy of a slice from a DataFrame.\n",
      "Try using .loc[row_indexer,col_indexer] = value instead\n",
      "\n",
      "See the caveats in the documentation: https://pandas.pydata.org/pandas-docs/stable/user_guide/indexing.html#returning-a-view-versus-a-copy\n",
      "  \n"
     ]
    },
    {
     "data": {
      "application/javascript": [
       "\n",
       "            setTimeout(function() {\n",
       "                var nbb_cell_id = 18;\n",
       "                var nbb_unformatted_code = \"# remove line breaks and change non-latin apostrophe to latin counterpart\\ntweets3[\\\"content\\\"] = tweets3[\\\"content\\\"].str.replace(\\\"\\\\n\\\", \\\" \\\").str.replace(\\\"\\u2019\\\", \\\"'\\\")\";\n",
       "                var nbb_formatted_code = \"# remove line breaks and change non-latin apostrophe to latin counterpart\\ntweets3[\\\"content\\\"] = tweets3[\\\"content\\\"].str.replace(\\\"\\\\n\\\", \\\" \\\").str.replace(\\\"\\u2019\\\", \\\"'\\\")\";\n",
       "                var nbb_cells = Jupyter.notebook.get_cells();\n",
       "                for (var i = 0; i < nbb_cells.length; ++i) {\n",
       "                    if (nbb_cells[i].input_prompt_number == nbb_cell_id) {\n",
       "                        if (nbb_cells[i].get_text() == nbb_unformatted_code) {\n",
       "                             nbb_cells[i].set_text(nbb_formatted_code);\n",
       "                        }\n",
       "                        break;\n",
       "                    }\n",
       "                }\n",
       "            }, 500);\n",
       "            "
      ],
      "text/plain": [
       "<IPython.core.display.Javascript object>"
      ]
     },
     "metadata": {},
     "output_type": "display_data"
    }
   ],
   "source": [
    "# remove line breaks and change non-latin apostrophe to latin counterpart\n",
    "tweets3[\"content\"] = tweets3[\"content\"].str.replace(\"\\n\", \" \").str.replace(\"’\", \"'\")"
   ]
  },
  {
   "cell_type": "code",
   "execution_count": 19,
   "metadata": {},
   "outputs": [
    {
     "data": {
      "text/plain": [
       "44         Know this. Everything is happening for a reason and in your favor for the betterment of your future. The pain you feel now will help later if you:  1. Look at what's not serving you 2. Listen to your intuition 3. Learn the meaning behind it 4. Let go of limits that hold you back\n",
       "61           Protect your inner peace at all costs. Create daily practices and communicate boundaries to make sure the stress and drama of others doesn't consume you. You don't need to be someone else's emotional punching bag. Your energy and happiness is too important. Protect your peace!\n",
       "108             You are stronger than you think. The painful moments that hurt you in the past were meant for you. They broke you down so you could become stronger than ever before. I know it was hard. I know you wouldn't wish it on anyone else. But I also know you wouldn't change a thing!\n",
       "161                                     Always remember to ask for exactly what you want. Ask for love, good health, abundance and peace. Ask for wisdom, creativity and positive energy. Don't be shy in your dreams. Be bold and live in gratitude because everything you want is coming to you.\n",
       "206                                        What if you treated yourself like someone you were madly in love with? Imagine what you could do with all that positive energy. Stop beating yourself up for not being perfect and start loving yourself the way you would with someone you care about.\n",
       "208         I hope you realize no one is coming to save you. You will want a great team but never someone to rescue you. Greatness happens when 1. You have a clear vision 2. Turn adversity into your advantage 3. Have a growth mindset 4. Develop champion habits. 5. Live in Service to others\n",
       "274        This will be your greatest year ever. All your work will start to pay off.  You will earn more, be happier, love deeper and be healthier.  It will all manifest because you built better habits, embraced your fears, added more value to others and took massive action on your goals.\n",
       "317       Be grateful for the breakdown this year. It's setting you up for a massive breakthrough.  Money is coming. Your Mission is getting clear.  You found out if the Relationship was right for you. You are finally making your Health a priority.  And you found who your real Friends are!\n",
       "338     I hope you realize 2021 won't magically be your best year ever unless you 1. Take ownership for your actions 2. Change your habits to support your growth 3. Make health &amp; happiness a priority 4. Learn to say no &amp; develop boundaries 5. Surround yourself with positive people.\n",
       "404           Your season is coming:  Things have been breaking down in order to build you up and align your dreams to your reality.  Keep being grateful. Keep being kind to yourself. Keep improving daily. Keep adding value to others and watch as abundance and goals begin to manifest soon!\n",
       "439                    Great things are coming for you. Things are breaking down and aligning all in your favor to achieve your dreams. All of this is preparing you for something magical. Remember to:  1.  Love yourself fully 2. Forgive others 3. Calm your inner critic 4. Be a giving heart\n",
       "535                                                                                                      7 Things to Give Up For a Happier Life:  - Your Excuses - Negative Self Talk - Toxic Relationships - Playing Small - Unhealthy Eating - Bad Sleep Habits - Hoping Someone will Rescue You\n",
       "554    Real facts:    Not everyone is your friend or has your best interest in mind. Wish them well and find better friends. Friends that support you, call you on your crap, clap &amp; celebrate your success and want the best for you... these are the people you want in you corner for life!\n",
       "604                                                                                      Anyone can give their all for 8 days... will you?  If you are in then reshare this post on your page or stories and use the hashtag #8Great to lock in the start day this Tuesday, December 8th!  #8Great\n",
       "605                                                                                                          This will be challenging.  You will need to plan your time.  You will need to step up in your life.  You will need to eliminate distractions.  And you will need to give it your all.\n",
       "606                                                                                                                                                                                     You must find 1 partner to do this with you.  If they do not finish, you do not finish so choose wisely 😜.\n",
       "607                                                                                                                              No smoking, drinking, or recreational drugs, as this is a time to clear your mind (most of you know I swear by the benefits as I've never been drunk in my life).\n",
       "608                                                                                                                                 8 kilometers is almost 5 miles, and you can walk, run, or hike indoors or outdoors but you must complete the distance (8 miles daily for the advanced version)\n",
       "609                                                         Follow each of the 8 steps 💯 and you complete the challenge.  Post a photo or video when you complete with the hashtag #8Great and that you completed it (I recommend posting daily for progress updates and accountability mentally).\n",
       "621                 Kids have imaginary friends. Adults have imaginary enemies. Your cognitive biases make you THINK people are:  - judging you - out to get you - scheming behind your back  In reality, people are too focused on themselves to be thinking about you that much.  - Joey Doughty\n",
       "Name: content, dtype: object"
      ]
     },
     "execution_count": 19,
     "metadata": {},
     "output_type": "execute_result"
    },
    {
     "data": {
      "application/javascript": [
       "\n",
       "            setTimeout(function() {\n",
       "                var nbb_cell_id = 19;\n",
       "                var nbb_unformatted_code = \"tweets3[\\\"content\\\"][:20]\";\n",
       "                var nbb_formatted_code = \"tweets3[\\\"content\\\"][:20]\";\n",
       "                var nbb_cells = Jupyter.notebook.get_cells();\n",
       "                for (var i = 0; i < nbb_cells.length; ++i) {\n",
       "                    if (nbb_cells[i].input_prompt_number == nbb_cell_id) {\n",
       "                        if (nbb_cells[i].get_text() == nbb_unformatted_code) {\n",
       "                             nbb_cells[i].set_text(nbb_formatted_code);\n",
       "                        }\n",
       "                        break;\n",
       "                    }\n",
       "                }\n",
       "            }, 500);\n",
       "            "
      ],
      "text/plain": [
       "<IPython.core.display.Javascript object>"
      ]
     },
     "metadata": {},
     "output_type": "display_data"
    }
   ],
   "source": [
    "tweets3[\"content\"][:20]"
   ]
  },
  {
   "cell_type": "markdown",
   "metadata": {},
   "source": [
    "Next we will remove text that contains more than one character outside of the latin alphabet. This will include emojis and emoticons by taking advantage of the ord() function. This step won't completely remove all non-english tweets, but it will deal with emojis and emoticons. Languages like French, German, and Spanish use a latin alphabet. We will remove the rest of the non-english text later. "
   ]
  },
  {
   "cell_type": "code",
   "execution_count": 20,
   "metadata": {},
   "outputs": [
    {
     "data": {
      "application/javascript": [
       "\n",
       "            setTimeout(function() {\n",
       "                var nbb_cell_id = 20;\n",
       "                var nbb_unformatted_code = \"# function that returns True if no more than one character is non-latin\\ndef is_latin_alphabet(string):\\n    non_ascii = 0\\n\\n    for character in string:\\n        if ord(character) > 127:\\n            non_ascii += 1\\n\\n    if non_ascii > 1:\\n        return False\\n    else:\\n        return True\";\n",
       "                var nbb_formatted_code = \"# function that returns True if no more than one character is non-latin\\ndef is_latin_alphabet(string):\\n    non_ascii = 0\\n\\n    for character in string:\\n        if ord(character) > 127:\\n            non_ascii += 1\\n\\n    if non_ascii > 1:\\n        return False\\n    else:\\n        return True\";\n",
       "                var nbb_cells = Jupyter.notebook.get_cells();\n",
       "                for (var i = 0; i < nbb_cells.length; ++i) {\n",
       "                    if (nbb_cells[i].input_prompt_number == nbb_cell_id) {\n",
       "                        if (nbb_cells[i].get_text() == nbb_unformatted_code) {\n",
       "                             nbb_cells[i].set_text(nbb_formatted_code);\n",
       "                        }\n",
       "                        break;\n",
       "                    }\n",
       "                }\n",
       "            }, 500);\n",
       "            "
      ],
      "text/plain": [
       "<IPython.core.display.Javascript object>"
      ]
     },
     "metadata": {},
     "output_type": "display_data"
    }
   ],
   "source": [
    "# function that returns True if no more than one character is non-latin\n",
    "def is_latin_alphabet(string):\n",
    "    non_ascii = 0\n",
    "\n",
    "    for character in string:\n",
    "        if ord(character) > 127:\n",
    "            non_ascii += 1\n",
    "\n",
    "    if non_ascii > 1:\n",
    "        return False\n",
    "    else:\n",
    "        return True"
   ]
  },
  {
   "cell_type": "code",
   "execution_count": 21,
   "metadata": {},
   "outputs": [
    {
     "data": {
      "text/plain": [
       "697691"
      ]
     },
     "execution_count": 21,
     "metadata": {},
     "output_type": "execute_result"
    },
    {
     "data": {
      "application/javascript": [
       "\n",
       "            setTimeout(function() {\n",
       "                var nbb_cell_id = 21;\n",
       "                var nbb_unformatted_code = \"# make a dictionary with emoji less text or append with none\\nlatin_emojiless_text = []\\n\\nfor text in tweets3[\\\"content\\\"]:\\n    if is_latin_alphabet(text) == True:\\n        latin_emojiless_text.append(text)\\n    else:\\n        latin_emojiless_text.append(None)\\n\\n\\nlen(latin_emojiless_text)\";\n",
       "                var nbb_formatted_code = \"# make a dictionary with emoji less text or append with none\\nlatin_emojiless_text = []\\n\\nfor text in tweets3[\\\"content\\\"]:\\n    if is_latin_alphabet(text) == True:\\n        latin_emojiless_text.append(text)\\n    else:\\n        latin_emojiless_text.append(None)\\n\\n\\nlen(latin_emojiless_text)\";\n",
       "                var nbb_cells = Jupyter.notebook.get_cells();\n",
       "                for (var i = 0; i < nbb_cells.length; ++i) {\n",
       "                    if (nbb_cells[i].input_prompt_number == nbb_cell_id) {\n",
       "                        if (nbb_cells[i].get_text() == nbb_unformatted_code) {\n",
       "                             nbb_cells[i].set_text(nbb_formatted_code);\n",
       "                        }\n",
       "                        break;\n",
       "                    }\n",
       "                }\n",
       "            }, 500);\n",
       "            "
      ],
      "text/plain": [
       "<IPython.core.display.Javascript object>"
      ]
     },
     "metadata": {},
     "output_type": "display_data"
    }
   ],
   "source": [
    "# make a dictionary with emoji less text or append with none\n",
    "latin_emojiless_text = []\n",
    "\n",
    "for text in tweets3[\"content\"]:\n",
    "    if is_latin_alphabet(text) == True:\n",
    "        latin_emojiless_text.append(text)\n",
    "    else:\n",
    "        latin_emojiless_text.append(None)\n",
    "\n",
    "\n",
    "len(latin_emojiless_text)"
   ]
  },
  {
   "cell_type": "code",
   "execution_count": 22,
   "metadata": {},
   "outputs": [
    {
     "data": {
      "application/javascript": [
       "\n",
       "            setTimeout(function() {\n",
       "                var nbb_cell_id = 22;\n",
       "                var nbb_unformatted_code = \"# save emojiless text to new dataframe\\ntweets4 = tweets3.copy()\\ntweets4[\\\"content\\\"] = latin_emojiless_text\";\n",
       "                var nbb_formatted_code = \"# save emojiless text to new dataframe\\ntweets4 = tweets3.copy()\\ntweets4[\\\"content\\\"] = latin_emojiless_text\";\n",
       "                var nbb_cells = Jupyter.notebook.get_cells();\n",
       "                for (var i = 0; i < nbb_cells.length; ++i) {\n",
       "                    if (nbb_cells[i].input_prompt_number == nbb_cell_id) {\n",
       "                        if (nbb_cells[i].get_text() == nbb_unformatted_code) {\n",
       "                             nbb_cells[i].set_text(nbb_formatted_code);\n",
       "                        }\n",
       "                        break;\n",
       "                    }\n",
       "                }\n",
       "            }, 500);\n",
       "            "
      ],
      "text/plain": [
       "<IPython.core.display.Javascript object>"
      ]
     },
     "metadata": {},
     "output_type": "display_data"
    }
   ],
   "source": [
    "# save emojiless text to new dataframe\n",
    "tweets4 = tweets3.copy()\n",
    "tweets4[\"content\"] = latin_emojiless_text"
   ]
  },
  {
   "cell_type": "code",
   "execution_count": 23,
   "metadata": {},
   "outputs": [
    {
     "data": {
      "text/html": [
       "<div>\n",
       "<style scoped>\n",
       "    .dataframe tbody tr th:only-of-type {\n",
       "        vertical-align: middle;\n",
       "    }\n",
       "\n",
       "    .dataframe tbody tr th {\n",
       "        vertical-align: top;\n",
       "    }\n",
       "\n",
       "    .dataframe thead th {\n",
       "        text-align: right;\n",
       "    }\n",
       "</style>\n",
       "<table border=\"1\" class=\"dataframe\">\n",
       "  <thead>\n",
       "    <tr style=\"text-align: right;\">\n",
       "      <th></th>\n",
       "      <th>index</th>\n",
       "      <th>url</th>\n",
       "      <th>date</th>\n",
       "      <th>content</th>\n",
       "      <th>renderedContent</th>\n",
       "      <th>id</th>\n",
       "      <th>user</th>\n",
       "      <th>outlinks</th>\n",
       "      <th>tcooutlinks</th>\n",
       "      <th>replyCount</th>\n",
       "      <th>...</th>\n",
       "      <th>quoteCount</th>\n",
       "      <th>conversationId</th>\n",
       "      <th>lang</th>\n",
       "      <th>source</th>\n",
       "      <th>sourceUrl</th>\n",
       "      <th>sourceLabel</th>\n",
       "      <th>media</th>\n",
       "      <th>retweetedTweet</th>\n",
       "      <th>quotedTweet</th>\n",
       "      <th>mentionedUsers</th>\n",
       "    </tr>\n",
       "  </thead>\n",
       "  <tbody>\n",
       "    <tr>\n",
       "      <th>44</th>\n",
       "      <td>44</td>\n",
       "      <td>https://twitter.com/LewisHowes/status/1350929208520929282</td>\n",
       "      <td>2021-01-17 22:13:17</td>\n",
       "      <td>Know this. Everything is happening for a reason and in your favor for the betterment of your future. The pain you feel now will help later if you:  1. Look at what's not serving you 2. Listen to your intuition 3. Learn the meaning behind it 4. Let go of limits that hold you back</td>\n",
       "      <td>Know this. Everything is happening for a reason and in your favor for the betterment of your future. The pain you feel now will help later if you:\\n\\n1. Look at what’s not serving you\\n2. Listen to your intuition\\n3. Learn the meaning behind it\\n4. Let go of limits that hold you back</td>\n",
       "      <td>1350929208520929282</td>\n",
       "      <td>{'username': 'LewisHowes', 'displayname': 'Lewis Howes', 'id': 14777649, 'description': 'NY Times Bestselling author. Top Podcast with 300 million downloads. Former pro football current @usath text me here and stay connected! 📲 614-350-3960', 'rawDescription': 'NY Times Bestselling author. Top Podcast with 300 million downloads. Former pro football current @usath text me here and stay connected! 📲 614-350-3960', 'descriptionUrls': [], 'verified': True, 'created': '2008-05-14T19:54:36+00:00', 'followersCount': 193467, 'friendsCount': 34018, 'statusesCount': 132010, 'favouritesCount': 152172, 'listedCount': 5431, 'mediaCount': 4231, 'location': 'Ohio boy in NYC and LA', 'protected': False, 'linkUrl': 'http://lewishowes.com', 'linkTcourl': 'https://t.co/hLkL1LJ3d4', 'profileImageUrl': 'https://pbs.twimg.com/profile_images/904400279113687041/bSzT-5v4_normal.jpg', 'profileBannerUrl': 'https://pbs.twimg.com/profile_banners/14777649/1600464122', 'url': 'https://twitter.com/LewisHowes'}</td>\n",
       "      <td>[]</td>\n",
       "      <td>[]</td>\n",
       "      <td>20</td>\n",
       "      <td>...</td>\n",
       "      <td>10</td>\n",
       "      <td>1350929208520929282</td>\n",
       "      <td>en</td>\n",
       "      <td>&lt;a href=\"http://twitter.com/download/iphone\" rel=\"nofollow\"&gt;Twitter for iPhone&lt;/a&gt;</td>\n",
       "      <td>http://twitter.com/download/iphone</td>\n",
       "      <td>Twitter for iPhone</td>\n",
       "      <td>None</td>\n",
       "      <td>NaN</td>\n",
       "      <td>None</td>\n",
       "      <td>None</td>\n",
       "    </tr>\n",
       "    <tr>\n",
       "      <th>61</th>\n",
       "      <td>61</td>\n",
       "      <td>https://twitter.com/LewisHowes/status/1350102468126883842</td>\n",
       "      <td>2021-01-15 15:28:06</td>\n",
       "      <td>Protect your inner peace at all costs. Create daily practices and communicate boundaries to make sure the stress and drama of others doesn't consume you. You don't need to be someone else's emotional punching bag. Your energy and happiness is too important. Protect your peace!</td>\n",
       "      <td>Protect your inner peace at all costs. Create daily practices and communicate boundaries to make sure the stress and drama of others doesn’t consume you. You don’t need to be someone else’s emotional punching bag. Your energy and happiness is too important. Protect your peace!</td>\n",
       "      <td>1350102468126883842</td>\n",
       "      <td>{'username': 'LewisHowes', 'displayname': 'Lewis Howes', 'id': 14777649, 'description': 'NY Times Bestselling author. Top Podcast with 300 million downloads. Former pro football current @usath text me here and stay connected! 📲 614-350-3960', 'rawDescription': 'NY Times Bestselling author. Top Podcast with 300 million downloads. Former pro football current @usath text me here and stay connected! 📲 614-350-3960', 'descriptionUrls': [], 'verified': True, 'created': '2008-05-14T19:54:36+00:00', 'followersCount': 193467, 'friendsCount': 34018, 'statusesCount': 132010, 'favouritesCount': 152172, 'listedCount': 5431, 'mediaCount': 4231, 'location': 'Ohio boy in NYC and LA', 'protected': False, 'linkUrl': 'http://lewishowes.com', 'linkTcourl': 'https://t.co/hLkL1LJ3d4', 'profileImageUrl': 'https://pbs.twimg.com/profile_images/904400279113687041/bSzT-5v4_normal.jpg', 'profileBannerUrl': 'https://pbs.twimg.com/profile_banners/14777649/1600464122', 'url': 'https://twitter.com/LewisHowes'}</td>\n",
       "      <td>[]</td>\n",
       "      <td>[]</td>\n",
       "      <td>30</td>\n",
       "      <td>...</td>\n",
       "      <td>13</td>\n",
       "      <td>1350102468126883842</td>\n",
       "      <td>en</td>\n",
       "      <td>&lt;a href=\"http://twitter.com/download/iphone\" rel=\"nofollow\"&gt;Twitter for iPhone&lt;/a&gt;</td>\n",
       "      <td>http://twitter.com/download/iphone</td>\n",
       "      <td>Twitter for iPhone</td>\n",
       "      <td>None</td>\n",
       "      <td>NaN</td>\n",
       "      <td>None</td>\n",
       "      <td>None</td>\n",
       "    </tr>\n",
       "    <tr>\n",
       "      <th>108</th>\n",
       "      <td>108</td>\n",
       "      <td>https://twitter.com/LewisHowes/status/1349033591230001153</td>\n",
       "      <td>2021-01-12 16:40:46</td>\n",
       "      <td>You are stronger than you think. The painful moments that hurt you in the past were meant for you. They broke you down so you could become stronger than ever before. I know it was hard. I know you wouldn't wish it on anyone else. But I also know you wouldn't change a thing!</td>\n",
       "      <td>You are stronger than you think. The painful moments that hurt you in the past were meant for you. They broke you down so you could become stronger than ever before. I know it was hard. I know you wouldn’t wish it on anyone else. But I also know you wouldn’t change a thing!</td>\n",
       "      <td>1349033591230001153</td>\n",
       "      <td>{'username': 'LewisHowes', 'displayname': 'Lewis Howes', 'id': 14777649, 'description': 'NY Times Bestselling author. Top Podcast with 300 million downloads. Former pro football current @usath text me here and stay connected! 📲 614-350-3960', 'rawDescription': 'NY Times Bestselling author. Top Podcast with 300 million downloads. Former pro football current @usath text me here and stay connected! 📲 614-350-3960', 'descriptionUrls': [], 'verified': True, 'created': '2008-05-14T19:54:36+00:00', 'followersCount': 193467, 'friendsCount': 34018, 'statusesCount': 132010, 'favouritesCount': 152172, 'listedCount': 5431, 'mediaCount': 4231, 'location': 'Ohio boy in NYC and LA', 'protected': False, 'linkUrl': 'http://lewishowes.com', 'linkTcourl': 'https://t.co/hLkL1LJ3d4', 'profileImageUrl': 'https://pbs.twimg.com/profile_images/904400279113687041/bSzT-5v4_normal.jpg', 'profileBannerUrl': 'https://pbs.twimg.com/profile_banners/14777649/1600464122', 'url': 'https://twitter.com/LewisHowes'}</td>\n",
       "      <td>[]</td>\n",
       "      <td>[]</td>\n",
       "      <td>23</td>\n",
       "      <td>...</td>\n",
       "      <td>11</td>\n",
       "      <td>1349033591230001153</td>\n",
       "      <td>en</td>\n",
       "      <td>&lt;a href=\"http://twitter.com/download/iphone\" rel=\"nofollow\"&gt;Twitter for iPhone&lt;/a&gt;</td>\n",
       "      <td>http://twitter.com/download/iphone</td>\n",
       "      <td>Twitter for iPhone</td>\n",
       "      <td>None</td>\n",
       "      <td>NaN</td>\n",
       "      <td>None</td>\n",
       "      <td>None</td>\n",
       "    </tr>\n",
       "    <tr>\n",
       "      <th>161</th>\n",
       "      <td>161</td>\n",
       "      <td>https://twitter.com/LewisHowes/status/1347211512696344577</td>\n",
       "      <td>2021-01-07 16:00:29</td>\n",
       "      <td>Always remember to ask for exactly what you want. Ask for love, good health, abundance and peace. Ask for wisdom, creativity and positive energy. Don't be shy in your dreams. Be bold and live in gratitude because everything you want is coming to you.</td>\n",
       "      <td>Always remember to ask for exactly what you want. Ask for love, good health, abundance and peace. Ask for wisdom, creativity and positive energy. Don’t be shy in your dreams. Be bold and live in gratitude because everything you want is coming to you.</td>\n",
       "      <td>1347211512696344577</td>\n",
       "      <td>{'username': 'LewisHowes', 'displayname': 'Lewis Howes', 'id': 14777649, 'description': 'NY Times Bestselling author. Top Podcast with 300 million downloads. Former pro football current @usath text me here and stay connected! 📲 614-350-3960', 'rawDescription': 'NY Times Bestselling author. Top Podcast with 300 million downloads. Former pro football current @usath text me here and stay connected! 📲 614-350-3960', 'descriptionUrls': [], 'verified': True, 'created': '2008-05-14T19:54:36+00:00', 'followersCount': 193467, 'friendsCount': 34018, 'statusesCount': 132010, 'favouritesCount': 152172, 'listedCount': 5431, 'mediaCount': 4231, 'location': 'Ohio boy in NYC and LA', 'protected': False, 'linkUrl': 'http://lewishowes.com', 'linkTcourl': 'https://t.co/hLkL1LJ3d4', 'profileImageUrl': 'https://pbs.twimg.com/profile_images/904400279113687041/bSzT-5v4_normal.jpg', 'profileBannerUrl': 'https://pbs.twimg.com/profile_banners/14777649/1600464122', 'url': 'https://twitter.com/LewisHowes'}</td>\n",
       "      <td>[]</td>\n",
       "      <td>[]</td>\n",
       "      <td>34</td>\n",
       "      <td>...</td>\n",
       "      <td>15</td>\n",
       "      <td>1347211512696344577</td>\n",
       "      <td>en</td>\n",
       "      <td>&lt;a href=\"http://twitter.com/download/iphone\" rel=\"nofollow\"&gt;Twitter for iPhone&lt;/a&gt;</td>\n",
       "      <td>http://twitter.com/download/iphone</td>\n",
       "      <td>Twitter for iPhone</td>\n",
       "      <td>None</td>\n",
       "      <td>NaN</td>\n",
       "      <td>None</td>\n",
       "      <td>None</td>\n",
       "    </tr>\n",
       "    <tr>\n",
       "      <th>206</th>\n",
       "      <td>206</td>\n",
       "      <td>https://twitter.com/LewisHowes/status/1346247892957237249</td>\n",
       "      <td>2021-01-05 00:11:24</td>\n",
       "      <td>What if you treated yourself like someone you were madly in love with? Imagine what you could do with all that positive energy. Stop beating yourself up for not being perfect and start loving yourself the way you would with someone you care about.</td>\n",
       "      <td>What if you treated yourself like someone you were madly in love with? Imagine what you could do with all that positive energy. Stop beating yourself up for not being perfect and start loving yourself the way you would with someone you care about.</td>\n",
       "      <td>1346247892957237249</td>\n",
       "      <td>{'username': 'LewisHowes', 'displayname': 'Lewis Howes', 'id': 14777649, 'description': 'NY Times Bestselling author. Top Podcast with 300 million downloads. Former pro football current @usath text me here and stay connected! 📲 614-350-3960', 'rawDescription': 'NY Times Bestselling author. Top Podcast with 300 million downloads. Former pro football current @usath text me here and stay connected! 📲 614-350-3960', 'descriptionUrls': [], 'verified': True, 'created': '2008-05-14T19:54:36+00:00', 'followersCount': 193467, 'friendsCount': 34018, 'statusesCount': 132010, 'favouritesCount': 152172, 'listedCount': 5431, 'mediaCount': 4231, 'location': 'Ohio boy in NYC and LA', 'protected': False, 'linkUrl': 'http://lewishowes.com', 'linkTcourl': 'https://t.co/hLkL1LJ3d4', 'profileImageUrl': 'https://pbs.twimg.com/profile_images/904400279113687041/bSzT-5v4_normal.jpg', 'profileBannerUrl': 'https://pbs.twimg.com/profile_banners/14777649/1600464122', 'url': 'https://twitter.com/LewisHowes'}</td>\n",
       "      <td>[]</td>\n",
       "      <td>[]</td>\n",
       "      <td>26</td>\n",
       "      <td>...</td>\n",
       "      <td>22</td>\n",
       "      <td>1346247892957237249</td>\n",
       "      <td>en</td>\n",
       "      <td>&lt;a href=\"http://twitter.com/download/iphone\" rel=\"nofollow\"&gt;Twitter for iPhone&lt;/a&gt;</td>\n",
       "      <td>http://twitter.com/download/iphone</td>\n",
       "      <td>Twitter for iPhone</td>\n",
       "      <td>None</td>\n",
       "      <td>NaN</td>\n",
       "      <td>None</td>\n",
       "      <td>None</td>\n",
       "    </tr>\n",
       "  </tbody>\n",
       "</table>\n",
       "<p>5 rows × 22 columns</p>\n",
       "</div>"
      ],
      "text/plain": [
       "     index                                                        url  \\\n",
       "44      44  https://twitter.com/LewisHowes/status/1350929208520929282   \n",
       "61      61  https://twitter.com/LewisHowes/status/1350102468126883842   \n",
       "108    108  https://twitter.com/LewisHowes/status/1349033591230001153   \n",
       "161    161  https://twitter.com/LewisHowes/status/1347211512696344577   \n",
       "206    206  https://twitter.com/LewisHowes/status/1346247892957237249   \n",
       "\n",
       "                   date  \\\n",
       "44  2021-01-17 22:13:17   \n",
       "61  2021-01-15 15:28:06   \n",
       "108 2021-01-12 16:40:46   \n",
       "161 2021-01-07 16:00:29   \n",
       "206 2021-01-05 00:11:24   \n",
       "\n",
       "                                                                                                                                                                                                                                                                                     content  \\\n",
       "44   Know this. Everything is happening for a reason and in your favor for the betterment of your future. The pain you feel now will help later if you:  1. Look at what's not serving you 2. Listen to your intuition 3. Learn the meaning behind it 4. Let go of limits that hold you back   \n",
       "61     Protect your inner peace at all costs. Create daily practices and communicate boundaries to make sure the stress and drama of others doesn't consume you. You don't need to be someone else's emotional punching bag. Your energy and happiness is too important. Protect your peace!   \n",
       "108       You are stronger than you think. The painful moments that hurt you in the past were meant for you. They broke you down so you could become stronger than ever before. I know it was hard. I know you wouldn't wish it on anyone else. But I also know you wouldn't change a thing!   \n",
       "161                               Always remember to ask for exactly what you want. Ask for love, good health, abundance and peace. Ask for wisdom, creativity and positive energy. Don't be shy in your dreams. Be bold and live in gratitude because everything you want is coming to you.   \n",
       "206                                  What if you treated yourself like someone you were madly in love with? Imagine what you could do with all that positive energy. Stop beating yourself up for not being perfect and start loving yourself the way you would with someone you care about.   \n",
       "\n",
       "                                                                                                                                                                                                                                                                                  renderedContent  \\\n",
       "44   Know this. Everything is happening for a reason and in your favor for the betterment of your future. The pain you feel now will help later if you:\\n\\n1. Look at what’s not serving you\\n2. Listen to your intuition\\n3. Learn the meaning behind it\\n4. Let go of limits that hold you back   \n",
       "61          Protect your inner peace at all costs. Create daily practices and communicate boundaries to make sure the stress and drama of others doesn’t consume you. You don’t need to be someone else’s emotional punching bag. Your energy and happiness is too important. Protect your peace!   \n",
       "108            You are stronger than you think. The painful moments that hurt you in the past were meant for you. They broke you down so you could become stronger than ever before. I know it was hard. I know you wouldn’t wish it on anyone else. But I also know you wouldn’t change a thing!   \n",
       "161                                    Always remember to ask for exactly what you want. Ask for love, good health, abundance and peace. Ask for wisdom, creativity and positive energy. Don’t be shy in your dreams. Be bold and live in gratitude because everything you want is coming to you.   \n",
       "206                                       What if you treated yourself like someone you were madly in love with? Imagine what you could do with all that positive energy. Stop beating yourself up for not being perfect and start loving yourself the way you would with someone you care about.   \n",
       "\n",
       "                      id  \\\n",
       "44   1350929208520929282   \n",
       "61   1350102468126883842   \n",
       "108  1349033591230001153   \n",
       "161  1347211512696344577   \n",
       "206  1346247892957237249   \n",
       "\n",
       "                                                                                                                                                                                                                                                                                                                                                                                                                                                                                                                                                                                                                                                                                                                                                                                                                                                                                                                                                                                                                                  user  \\\n",
       "44   {'username': 'LewisHowes', 'displayname': 'Lewis Howes', 'id': 14777649, 'description': 'NY Times Bestselling author. Top Podcast with 300 million downloads. Former pro football current @usath text me here and stay connected! 📲 614-350-3960', 'rawDescription': 'NY Times Bestselling author. Top Podcast with 300 million downloads. Former pro football current @usath text me here and stay connected! 📲 614-350-3960', 'descriptionUrls': [], 'verified': True, 'created': '2008-05-14T19:54:36+00:00', 'followersCount': 193467, 'friendsCount': 34018, 'statusesCount': 132010, 'favouritesCount': 152172, 'listedCount': 5431, 'mediaCount': 4231, 'location': 'Ohio boy in NYC and LA', 'protected': False, 'linkUrl': 'http://lewishowes.com', 'linkTcourl': 'https://t.co/hLkL1LJ3d4', 'profileImageUrl': 'https://pbs.twimg.com/profile_images/904400279113687041/bSzT-5v4_normal.jpg', 'profileBannerUrl': 'https://pbs.twimg.com/profile_banners/14777649/1600464122', 'url': 'https://twitter.com/LewisHowes'}   \n",
       "61   {'username': 'LewisHowes', 'displayname': 'Lewis Howes', 'id': 14777649, 'description': 'NY Times Bestselling author. Top Podcast with 300 million downloads. Former pro football current @usath text me here and stay connected! 📲 614-350-3960', 'rawDescription': 'NY Times Bestselling author. Top Podcast with 300 million downloads. Former pro football current @usath text me here and stay connected! 📲 614-350-3960', 'descriptionUrls': [], 'verified': True, 'created': '2008-05-14T19:54:36+00:00', 'followersCount': 193467, 'friendsCount': 34018, 'statusesCount': 132010, 'favouritesCount': 152172, 'listedCount': 5431, 'mediaCount': 4231, 'location': 'Ohio boy in NYC and LA', 'protected': False, 'linkUrl': 'http://lewishowes.com', 'linkTcourl': 'https://t.co/hLkL1LJ3d4', 'profileImageUrl': 'https://pbs.twimg.com/profile_images/904400279113687041/bSzT-5v4_normal.jpg', 'profileBannerUrl': 'https://pbs.twimg.com/profile_banners/14777649/1600464122', 'url': 'https://twitter.com/LewisHowes'}   \n",
       "108  {'username': 'LewisHowes', 'displayname': 'Lewis Howes', 'id': 14777649, 'description': 'NY Times Bestselling author. Top Podcast with 300 million downloads. Former pro football current @usath text me here and stay connected! 📲 614-350-3960', 'rawDescription': 'NY Times Bestselling author. Top Podcast with 300 million downloads. Former pro football current @usath text me here and stay connected! 📲 614-350-3960', 'descriptionUrls': [], 'verified': True, 'created': '2008-05-14T19:54:36+00:00', 'followersCount': 193467, 'friendsCount': 34018, 'statusesCount': 132010, 'favouritesCount': 152172, 'listedCount': 5431, 'mediaCount': 4231, 'location': 'Ohio boy in NYC and LA', 'protected': False, 'linkUrl': 'http://lewishowes.com', 'linkTcourl': 'https://t.co/hLkL1LJ3d4', 'profileImageUrl': 'https://pbs.twimg.com/profile_images/904400279113687041/bSzT-5v4_normal.jpg', 'profileBannerUrl': 'https://pbs.twimg.com/profile_banners/14777649/1600464122', 'url': 'https://twitter.com/LewisHowes'}   \n",
       "161  {'username': 'LewisHowes', 'displayname': 'Lewis Howes', 'id': 14777649, 'description': 'NY Times Bestselling author. Top Podcast with 300 million downloads. Former pro football current @usath text me here and stay connected! 📲 614-350-3960', 'rawDescription': 'NY Times Bestselling author. Top Podcast with 300 million downloads. Former pro football current @usath text me here and stay connected! 📲 614-350-3960', 'descriptionUrls': [], 'verified': True, 'created': '2008-05-14T19:54:36+00:00', 'followersCount': 193467, 'friendsCount': 34018, 'statusesCount': 132010, 'favouritesCount': 152172, 'listedCount': 5431, 'mediaCount': 4231, 'location': 'Ohio boy in NYC and LA', 'protected': False, 'linkUrl': 'http://lewishowes.com', 'linkTcourl': 'https://t.co/hLkL1LJ3d4', 'profileImageUrl': 'https://pbs.twimg.com/profile_images/904400279113687041/bSzT-5v4_normal.jpg', 'profileBannerUrl': 'https://pbs.twimg.com/profile_banners/14777649/1600464122', 'url': 'https://twitter.com/LewisHowes'}   \n",
       "206  {'username': 'LewisHowes', 'displayname': 'Lewis Howes', 'id': 14777649, 'description': 'NY Times Bestselling author. Top Podcast with 300 million downloads. Former pro football current @usath text me here and stay connected! 📲 614-350-3960', 'rawDescription': 'NY Times Bestselling author. Top Podcast with 300 million downloads. Former pro football current @usath text me here and stay connected! 📲 614-350-3960', 'descriptionUrls': [], 'verified': True, 'created': '2008-05-14T19:54:36+00:00', 'followersCount': 193467, 'friendsCount': 34018, 'statusesCount': 132010, 'favouritesCount': 152172, 'listedCount': 5431, 'mediaCount': 4231, 'location': 'Ohio boy in NYC and LA', 'protected': False, 'linkUrl': 'http://lewishowes.com', 'linkTcourl': 'https://t.co/hLkL1LJ3d4', 'profileImageUrl': 'https://pbs.twimg.com/profile_images/904400279113687041/bSzT-5v4_normal.jpg', 'profileBannerUrl': 'https://pbs.twimg.com/profile_banners/14777649/1600464122', 'url': 'https://twitter.com/LewisHowes'}   \n",
       "\n",
       "    outlinks tcooutlinks  replyCount  ...  quoteCount       conversationId  \\\n",
       "44        []          []          20  ...          10  1350929208520929282   \n",
       "61        []          []          30  ...          13  1350102468126883842   \n",
       "108       []          []          23  ...          11  1349033591230001153   \n",
       "161       []          []          34  ...          15  1347211512696344577   \n",
       "206       []          []          26  ...          22  1346247892957237249   \n",
       "\n",
       "     lang  \\\n",
       "44     en   \n",
       "61     en   \n",
       "108    en   \n",
       "161    en   \n",
       "206    en   \n",
       "\n",
       "                                                                                 source  \\\n",
       "44   <a href=\"http://twitter.com/download/iphone\" rel=\"nofollow\">Twitter for iPhone</a>   \n",
       "61   <a href=\"http://twitter.com/download/iphone\" rel=\"nofollow\">Twitter for iPhone</a>   \n",
       "108  <a href=\"http://twitter.com/download/iphone\" rel=\"nofollow\">Twitter for iPhone</a>   \n",
       "161  <a href=\"http://twitter.com/download/iphone\" rel=\"nofollow\">Twitter for iPhone</a>   \n",
       "206  <a href=\"http://twitter.com/download/iphone\" rel=\"nofollow\">Twitter for iPhone</a>   \n",
       "\n",
       "                              sourceUrl         sourceLabel media  \\\n",
       "44   http://twitter.com/download/iphone  Twitter for iPhone  None   \n",
       "61   http://twitter.com/download/iphone  Twitter for iPhone  None   \n",
       "108  http://twitter.com/download/iphone  Twitter for iPhone  None   \n",
       "161  http://twitter.com/download/iphone  Twitter for iPhone  None   \n",
       "206  http://twitter.com/download/iphone  Twitter for iPhone  None   \n",
       "\n",
       "    retweetedTweet quotedTweet  mentionedUsers  \n",
       "44             NaN        None            None  \n",
       "61             NaN        None            None  \n",
       "108            NaN        None            None  \n",
       "161            NaN        None            None  \n",
       "206            NaN        None            None  \n",
       "\n",
       "[5 rows x 22 columns]"
      ]
     },
     "execution_count": 23,
     "metadata": {},
     "output_type": "execute_result"
    },
    {
     "data": {
      "application/javascript": [
       "\n",
       "            setTimeout(function() {\n",
       "                var nbb_cell_id = 23;\n",
       "                var nbb_unformatted_code = \"tweets4.head()\";\n",
       "                var nbb_formatted_code = \"tweets4.head()\";\n",
       "                var nbb_cells = Jupyter.notebook.get_cells();\n",
       "                for (var i = 0; i < nbb_cells.length; ++i) {\n",
       "                    if (nbb_cells[i].input_prompt_number == nbb_cell_id) {\n",
       "                        if (nbb_cells[i].get_text() == nbb_unformatted_code) {\n",
       "                             nbb_cells[i].set_text(nbb_formatted_code);\n",
       "                        }\n",
       "                        break;\n",
       "                    }\n",
       "                }\n",
       "            }, 500);\n",
       "            "
      ],
      "text/plain": [
       "<IPython.core.display.Javascript object>"
      ]
     },
     "metadata": {},
     "output_type": "display_data"
    }
   ],
   "source": [
    "tweets4.head()"
   ]
  },
  {
   "cell_type": "code",
   "execution_count": 24,
   "metadata": {},
   "outputs": [
    {
     "data": {
      "text/plain": [
       "44        Know this. Everything is happening for a reason and in your favor for the betterment of your future. The pain you feel now will help later if you:  1. Look at what's not serving you 2. Listen to your intuition 3. Learn the meaning behind it 4. Let go of limits that hold you back\n",
       "61          Protect your inner peace at all costs. Create daily practices and communicate boundaries to make sure the stress and drama of others doesn't consume you. You don't need to be someone else's emotional punching bag. Your energy and happiness is too important. Protect your peace!\n",
       "108            You are stronger than you think. The painful moments that hurt you in the past were meant for you. They broke you down so you could become stronger than ever before. I know it was hard. I know you wouldn't wish it on anyone else. But I also know you wouldn't change a thing!\n",
       "161                                    Always remember to ask for exactly what you want. Ask for love, good health, abundance and peace. Ask for wisdom, creativity and positive energy. Don't be shy in your dreams. Be bold and live in gratitude because everything you want is coming to you.\n",
       "206                                       What if you treated yourself like someone you were madly in love with? Imagine what you could do with all that positive energy. Stop beating yourself up for not being perfect and start loving yourself the way you would with someone you care about.\n",
       "                                                                                                                                                   ...                                                                                                                                           \n",
       "977584                                                                                                                                                               \"You can easily judge the character of a man by how he treats those who can do nothing for him.\" -James Miles #quote #quotes\n",
       "977585                                                                                                                                                                                                                    Learning is a gift, even when pain is your teacher. #lifelesson #quotes\n",
       "977586                                                                                                                                                              \"Education is the passport to the future, for tomorrow belongs to those who prepare for it today.\" - Malcolm X #quote #quotes\n",
       "977587                                                                                                                                                           \"Life is like a finger, pointing to the Moon. If you look at the finger... you will miss all the heavenly glory.\" #quote #quotes\n",
       "977588                                                                                                                                                                                 Go as far as you can see; when you get there, you'll be able to see farther. - J. P. Morgan #quote #quotes\n",
       "Name: content, Length: 697671, dtype: object"
      ]
     },
     "execution_count": 24,
     "metadata": {},
     "output_type": "execute_result"
    },
    {
     "data": {
      "application/javascript": [
       "\n",
       "            setTimeout(function() {\n",
       "                var nbb_cell_id = 24;\n",
       "                var nbb_unformatted_code = \"tweets4[\\\"content\\\"][:-20]\";\n",
       "                var nbb_formatted_code = \"tweets4[\\\"content\\\"][:-20]\";\n",
       "                var nbb_cells = Jupyter.notebook.get_cells();\n",
       "                for (var i = 0; i < nbb_cells.length; ++i) {\n",
       "                    if (nbb_cells[i].input_prompt_number == nbb_cell_id) {\n",
       "                        if (nbb_cells[i].get_text() == nbb_unformatted_code) {\n",
       "                             nbb_cells[i].set_text(nbb_formatted_code);\n",
       "                        }\n",
       "                        break;\n",
       "                    }\n",
       "                }\n",
       "            }, 500);\n",
       "            "
      ],
      "text/plain": [
       "<IPython.core.display.Javascript object>"
      ]
     },
     "metadata": {},
     "output_type": "display_data"
    }
   ],
   "source": [
    "tweets4[\"content\"][:-20]"
   ]
  },
  {
   "cell_type": "markdown",
   "metadata": {},
   "source": [
    "We do see we will have to remove hashtage as well from our tweets. "
   ]
  },
  {
   "cell_type": "code",
   "execution_count": 25,
   "metadata": {},
   "outputs": [
    {
     "data": {
      "application/javascript": [
       "\n",
       "            setTimeout(function() {\n",
       "                var nbb_cell_id = 25;\n",
       "                var nbb_unformatted_code = \"def remove_hashtags(text):\\n    text = re.sub(\\\"#\\\\S+\\\", \\\"\\\", str(text))\\n    return text\";\n",
       "                var nbb_formatted_code = \"def remove_hashtags(text):\\n    text = re.sub(\\\"#\\\\S+\\\", \\\"\\\", str(text))\\n    return text\";\n",
       "                var nbb_cells = Jupyter.notebook.get_cells();\n",
       "                for (var i = 0; i < nbb_cells.length; ++i) {\n",
       "                    if (nbb_cells[i].input_prompt_number == nbb_cell_id) {\n",
       "                        if (nbb_cells[i].get_text() == nbb_unformatted_code) {\n",
       "                             nbb_cells[i].set_text(nbb_formatted_code);\n",
       "                        }\n",
       "                        break;\n",
       "                    }\n",
       "                }\n",
       "            }, 500);\n",
       "            "
      ],
      "text/plain": [
       "<IPython.core.display.Javascript object>"
      ]
     },
     "metadata": {},
     "output_type": "display_data"
    }
   ],
   "source": [
    "def remove_hashtags(text):\n",
    "    text = re.sub(\"#\\S+\", \"\", str(text))\n",
    "    return text"
   ]
  },
  {
   "cell_type": "code",
   "execution_count": 26,
   "metadata": {},
   "outputs": [
    {
     "data": {
      "application/javascript": [
       "\n",
       "            setTimeout(function() {\n",
       "                var nbb_cell_id = 26;\n",
       "                var nbb_unformatted_code = \"tweets5 = tweets4.copy()\\n\\nno_hashtags = [remove_hashtags(text) for text in tweets5[\\\"content\\\"]]\";\n",
       "                var nbb_formatted_code = \"tweets5 = tweets4.copy()\\n\\nno_hashtags = [remove_hashtags(text) for text in tweets5[\\\"content\\\"]]\";\n",
       "                var nbb_cells = Jupyter.notebook.get_cells();\n",
       "                for (var i = 0; i < nbb_cells.length; ++i) {\n",
       "                    if (nbb_cells[i].input_prompt_number == nbb_cell_id) {\n",
       "                        if (nbb_cells[i].get_text() == nbb_unformatted_code) {\n",
       "                             nbb_cells[i].set_text(nbb_formatted_code);\n",
       "                        }\n",
       "                        break;\n",
       "                    }\n",
       "                }\n",
       "            }, 500);\n",
       "            "
      ],
      "text/plain": [
       "<IPython.core.display.Javascript object>"
      ]
     },
     "metadata": {},
     "output_type": "display_data"
    }
   ],
   "source": [
    "tweets5 = tweets4.copy()\n",
    "\n",
    "no_hashtags = [remove_hashtags(text) for text in tweets5[\"content\"]]"
   ]
  },
  {
   "cell_type": "code",
   "execution_count": 27,
   "metadata": {},
   "outputs": [
    {
     "data": {
      "text/plain": [
       "44        Know this. Everything is happening for a reason and in your favor for the betterment of your future. The pain you feel now will help later if you:  1. Look at what's not serving you 2. Listen to your intuition 3. Learn the meaning behind it 4. Let go of limits that hold you back\n",
       "61          Protect your inner peace at all costs. Create daily practices and communicate boundaries to make sure the stress and drama of others doesn't consume you. You don't need to be someone else's emotional punching bag. Your energy and happiness is too important. Protect your peace!\n",
       "108            You are stronger than you think. The painful moments that hurt you in the past were meant for you. They broke you down so you could become stronger than ever before. I know it was hard. I know you wouldn't wish it on anyone else. But I also know you wouldn't change a thing!\n",
       "161                                    Always remember to ask for exactly what you want. Ask for love, good health, abundance and peace. Ask for wisdom, creativity and positive energy. Don't be shy in your dreams. Be bold and live in gratitude because everything you want is coming to you.\n",
       "206                                       What if you treated yourself like someone you were madly in love with? Imagine what you could do with all that positive energy. Stop beating yourself up for not being perfect and start loving yourself the way you would with someone you care about.\n",
       "                                                                                                                                                   ...                                                                                                                                           \n",
       "977584                                                                                                                                                                            \"You can easily judge the character of a man by how he treats those who can do nothing for him.\" -James Miles  \n",
       "977585                                                                                                                                                                                                                                      Learning is a gift, even when pain is your teacher.  \n",
       "977586                                                                                                                                                                           \"Education is the passport to the future, for tomorrow belongs to those who prepare for it today.\" - Malcolm X  \n",
       "977587                                                                                                                                                                        \"Life is like a finger, pointing to the Moon. If you look at the finger... you will miss all the heavenly glory.\"  \n",
       "977588                                                                                                                                                                                              Go as far as you can see; when you get there, you'll be able to see farther. - J. P. Morgan  \n",
       "Name: content, Length: 697671, dtype: object"
      ]
     },
     "execution_count": 27,
     "metadata": {},
     "output_type": "execute_result"
    },
    {
     "data": {
      "application/javascript": [
       "\n",
       "            setTimeout(function() {\n",
       "                var nbb_cell_id = 27;\n",
       "                var nbb_unformatted_code = \"tweets5[\\\"content\\\"] = no_hashtags\\n\\ntweets5[\\\"content\\\"][:-20]\";\n",
       "                var nbb_formatted_code = \"tweets5[\\\"content\\\"] = no_hashtags\\n\\ntweets5[\\\"content\\\"][:-20]\";\n",
       "                var nbb_cells = Jupyter.notebook.get_cells();\n",
       "                for (var i = 0; i < nbb_cells.length; ++i) {\n",
       "                    if (nbb_cells[i].input_prompt_number == nbb_cell_id) {\n",
       "                        if (nbb_cells[i].get_text() == nbb_unformatted_code) {\n",
       "                             nbb_cells[i].set_text(nbb_formatted_code);\n",
       "                        }\n",
       "                        break;\n",
       "                    }\n",
       "                }\n",
       "            }, 500);\n",
       "            "
      ],
      "text/plain": [
       "<IPython.core.display.Javascript object>"
      ]
     },
     "metadata": {},
     "output_type": "display_data"
    }
   ],
   "source": [
    "tweets5[\"content\"] = no_hashtags\n",
    "\n",
    "tweets5[\"content\"][:-20]"
   ]
  },
  {
   "cell_type": "code",
   "execution_count": 28,
   "metadata": {},
   "outputs": [
    {
     "data": {
      "text/plain": [
       "(697691, 22)"
      ]
     },
     "execution_count": 28,
     "metadata": {},
     "output_type": "execute_result"
    },
    {
     "data": {
      "application/javascript": [
       "\n",
       "            setTimeout(function() {\n",
       "                var nbb_cell_id = 28;\n",
       "                var nbb_unformatted_code = \"tweets5.shape\";\n",
       "                var nbb_formatted_code = \"tweets5.shape\";\n",
       "                var nbb_cells = Jupyter.notebook.get_cells();\n",
       "                for (var i = 0; i < nbb_cells.length; ++i) {\n",
       "                    if (nbb_cells[i].input_prompt_number == nbb_cell_id) {\n",
       "                        if (nbb_cells[i].get_text() == nbb_unformatted_code) {\n",
       "                             nbb_cells[i].set_text(nbb_formatted_code);\n",
       "                        }\n",
       "                        break;\n",
       "                    }\n",
       "                }\n",
       "            }, 500);\n",
       "            "
      ],
      "text/plain": [
       "<IPython.core.display.Javascript object>"
      ]
     },
     "metadata": {},
     "output_type": "display_data"
    }
   ],
   "source": [
    "tweets5.shape"
   ]
  },
  {
   "cell_type": "code",
   "execution_count": 29,
   "metadata": {
    "scrolled": true
   },
   "outputs": [
    {
     "data": {
      "text/plain": [
       "en     696962\n",
       "fr        253\n",
       "tl        236\n",
       "es         55\n",
       "de         47\n",
       "ca         42\n",
       "und        28\n",
       "et         17\n",
       "it         10\n",
       "vi          8\n",
       "da          6\n",
       "ro          6\n",
       "in          5\n",
       "no          5\n",
       "cy          3\n",
       "pt          3\n",
       "nl          2\n",
       "cs          1\n",
       "ht          1\n",
       "lt          1\n",
       "Name: lang, dtype: int64"
      ]
     },
     "execution_count": 29,
     "metadata": {},
     "output_type": "execute_result"
    },
    {
     "data": {
      "application/javascript": [
       "\n",
       "            setTimeout(function() {\n",
       "                var nbb_cell_id = 29;\n",
       "                var nbb_unformatted_code = \"tweets5[\\\"lang\\\"].value_counts()\";\n",
       "                var nbb_formatted_code = \"tweets5[\\\"lang\\\"].value_counts()\";\n",
       "                var nbb_cells = Jupyter.notebook.get_cells();\n",
       "                for (var i = 0; i < nbb_cells.length; ++i) {\n",
       "                    if (nbb_cells[i].input_prompt_number == nbb_cell_id) {\n",
       "                        if (nbb_cells[i].get_text() == nbb_unformatted_code) {\n",
       "                             nbb_cells[i].set_text(nbb_formatted_code);\n",
       "                        }\n",
       "                        break;\n",
       "                    }\n",
       "                }\n",
       "            }, 500);\n",
       "            "
      ],
      "text/plain": [
       "<IPython.core.display.Javascript object>"
      ]
     },
     "metadata": {},
     "output_type": "display_data"
    }
   ],
   "source": [
    "tweets5[\"lang\"].value_counts()"
   ]
  },
  {
   "cell_type": "code",
   "execution_count": 30,
   "metadata": {},
   "outputs": [
    {
     "name": "stderr",
     "output_type": "stream",
     "text": [
      "/opt/anaconda3/lib/python3.7/site-packages/ipykernel_launcher.py:2: UserWarning: Boolean Series key will be reindexed to match DataFrame index.\n",
      "  \n"
     ]
    },
    {
     "data": {
      "text/plain": [
       "en    696962\n",
       "Name: lang, dtype: int64"
      ]
     },
     "execution_count": 30,
     "metadata": {},
     "output_type": "execute_result"
    },
    {
     "data": {
      "application/javascript": [
       "\n",
       "            setTimeout(function() {\n",
       "                var nbb_cell_id = 30;\n",
       "                var nbb_unformatted_code = \"# remove non-english tweets\\ntweets6 = tweets5[tweets[\\\"lang\\\"] == \\\"en\\\"]\\n\\ntweets6[\\\"lang\\\"].value_counts()\";\n",
       "                var nbb_formatted_code = \"# remove non-english tweets\\ntweets6 = tweets5[tweets[\\\"lang\\\"] == \\\"en\\\"]\\n\\ntweets6[\\\"lang\\\"].value_counts()\";\n",
       "                var nbb_cells = Jupyter.notebook.get_cells();\n",
       "                for (var i = 0; i < nbb_cells.length; ++i) {\n",
       "                    if (nbb_cells[i].input_prompt_number == nbb_cell_id) {\n",
       "                        if (nbb_cells[i].get_text() == nbb_unformatted_code) {\n",
       "                             nbb_cells[i].set_text(nbb_formatted_code);\n",
       "                        }\n",
       "                        break;\n",
       "                    }\n",
       "                }\n",
       "            }, 500);\n",
       "            "
      ],
      "text/plain": [
       "<IPython.core.display.Javascript object>"
      ]
     },
     "metadata": {},
     "output_type": "display_data"
    }
   ],
   "source": [
    "# remove non-english tweets\n",
    "tweets6 = tweets5[tweets[\"lang\"] == \"en\"]\n",
    "\n",
    "tweets6[\"lang\"].value_counts()"
   ]
  },
  {
   "cell_type": "markdown",
   "metadata": {},
   "source": [
    "Next, we will remove unnecessary columns for our chatbot. The only columns we need are the content column, a column that identifies the author of the tweet, and the date. "
   ]
  },
  {
   "cell_type": "code",
   "execution_count": 31,
   "metadata": {},
   "outputs": [
    {
     "data": {
      "text/html": [
       "<div>\n",
       "<style scoped>\n",
       "    .dataframe tbody tr th:only-of-type {\n",
       "        vertical-align: middle;\n",
       "    }\n",
       "\n",
       "    .dataframe tbody tr th {\n",
       "        vertical-align: top;\n",
       "    }\n",
       "\n",
       "    .dataframe thead th {\n",
       "        text-align: right;\n",
       "    }\n",
       "</style>\n",
       "<table border=\"1\" class=\"dataframe\">\n",
       "  <thead>\n",
       "    <tr style=\"text-align: right;\">\n",
       "      <th></th>\n",
       "      <th>index</th>\n",
       "      <th>url</th>\n",
       "      <th>date</th>\n",
       "      <th>content</th>\n",
       "      <th>renderedContent</th>\n",
       "      <th>id</th>\n",
       "      <th>user</th>\n",
       "      <th>outlinks</th>\n",
       "      <th>tcooutlinks</th>\n",
       "      <th>replyCount</th>\n",
       "      <th>...</th>\n",
       "      <th>quoteCount</th>\n",
       "      <th>conversationId</th>\n",
       "      <th>lang</th>\n",
       "      <th>source</th>\n",
       "      <th>sourceUrl</th>\n",
       "      <th>sourceLabel</th>\n",
       "      <th>media</th>\n",
       "      <th>retweetedTweet</th>\n",
       "      <th>quotedTweet</th>\n",
       "      <th>mentionedUsers</th>\n",
       "    </tr>\n",
       "  </thead>\n",
       "  <tbody>\n",
       "    <tr>\n",
       "      <th>44</th>\n",
       "      <td>44</td>\n",
       "      <td>https://twitter.com/LewisHowes/status/1350929208520929282</td>\n",
       "      <td>2021-01-17 22:13:17</td>\n",
       "      <td>Know this. Everything is happening for a reason and in your favor for the betterment of your future. The pain you feel now will help later if you:  1. Look at what's not serving you 2. Listen to your intuition 3. Learn the meaning behind it 4. Let go of limits that hold you back</td>\n",
       "      <td>Know this. Everything is happening for a reason and in your favor for the betterment of your future. The pain you feel now will help later if you:\\n\\n1. Look at what’s not serving you\\n2. Listen to your intuition\\n3. Learn the meaning behind it\\n4. Let go of limits that hold you back</td>\n",
       "      <td>1350929208520929282</td>\n",
       "      <td>{'username': 'LewisHowes', 'displayname': 'Lewis Howes', 'id': 14777649, 'description': 'NY Times Bestselling author. Top Podcast with 300 million downloads. Former pro football current @usath text me here and stay connected! 📲 614-350-3960', 'rawDescription': 'NY Times Bestselling author. Top Podcast with 300 million downloads. Former pro football current @usath text me here and stay connected! 📲 614-350-3960', 'descriptionUrls': [], 'verified': True, 'created': '2008-05-14T19:54:36+00:00', 'followersCount': 193467, 'friendsCount': 34018, 'statusesCount': 132010, 'favouritesCount': 152172, 'listedCount': 5431, 'mediaCount': 4231, 'location': 'Ohio boy in NYC and LA', 'protected': False, 'linkUrl': 'http://lewishowes.com', 'linkTcourl': 'https://t.co/hLkL1LJ3d4', 'profileImageUrl': 'https://pbs.twimg.com/profile_images/904400279113687041/bSzT-5v4_normal.jpg', 'profileBannerUrl': 'https://pbs.twimg.com/profile_banners/14777649/1600464122', 'url': 'https://twitter.com/LewisHowes'}</td>\n",
       "      <td>[]</td>\n",
       "      <td>[]</td>\n",
       "      <td>20</td>\n",
       "      <td>...</td>\n",
       "      <td>10</td>\n",
       "      <td>1350929208520929282</td>\n",
       "      <td>en</td>\n",
       "      <td>&lt;a href=\"http://twitter.com/download/iphone\" rel=\"nofollow\"&gt;Twitter for iPhone&lt;/a&gt;</td>\n",
       "      <td>http://twitter.com/download/iphone</td>\n",
       "      <td>Twitter for iPhone</td>\n",
       "      <td>None</td>\n",
       "      <td>NaN</td>\n",
       "      <td>None</td>\n",
       "      <td>None</td>\n",
       "    </tr>\n",
       "    <tr>\n",
       "      <th>61</th>\n",
       "      <td>61</td>\n",
       "      <td>https://twitter.com/LewisHowes/status/1350102468126883842</td>\n",
       "      <td>2021-01-15 15:28:06</td>\n",
       "      <td>Protect your inner peace at all costs. Create daily practices and communicate boundaries to make sure the stress and drama of others doesn't consume you. You don't need to be someone else's emotional punching bag. Your energy and happiness is too important. Protect your peace!</td>\n",
       "      <td>Protect your inner peace at all costs. Create daily practices and communicate boundaries to make sure the stress and drama of others doesn’t consume you. You don’t need to be someone else’s emotional punching bag. Your energy and happiness is too important. Protect your peace!</td>\n",
       "      <td>1350102468126883842</td>\n",
       "      <td>{'username': 'LewisHowes', 'displayname': 'Lewis Howes', 'id': 14777649, 'description': 'NY Times Bestselling author. Top Podcast with 300 million downloads. Former pro football current @usath text me here and stay connected! 📲 614-350-3960', 'rawDescription': 'NY Times Bestselling author. Top Podcast with 300 million downloads. Former pro football current @usath text me here and stay connected! 📲 614-350-3960', 'descriptionUrls': [], 'verified': True, 'created': '2008-05-14T19:54:36+00:00', 'followersCount': 193467, 'friendsCount': 34018, 'statusesCount': 132010, 'favouritesCount': 152172, 'listedCount': 5431, 'mediaCount': 4231, 'location': 'Ohio boy in NYC and LA', 'protected': False, 'linkUrl': 'http://lewishowes.com', 'linkTcourl': 'https://t.co/hLkL1LJ3d4', 'profileImageUrl': 'https://pbs.twimg.com/profile_images/904400279113687041/bSzT-5v4_normal.jpg', 'profileBannerUrl': 'https://pbs.twimg.com/profile_banners/14777649/1600464122', 'url': 'https://twitter.com/LewisHowes'}</td>\n",
       "      <td>[]</td>\n",
       "      <td>[]</td>\n",
       "      <td>30</td>\n",
       "      <td>...</td>\n",
       "      <td>13</td>\n",
       "      <td>1350102468126883842</td>\n",
       "      <td>en</td>\n",
       "      <td>&lt;a href=\"http://twitter.com/download/iphone\" rel=\"nofollow\"&gt;Twitter for iPhone&lt;/a&gt;</td>\n",
       "      <td>http://twitter.com/download/iphone</td>\n",
       "      <td>Twitter for iPhone</td>\n",
       "      <td>None</td>\n",
       "      <td>NaN</td>\n",
       "      <td>None</td>\n",
       "      <td>None</td>\n",
       "    </tr>\n",
       "    <tr>\n",
       "      <th>108</th>\n",
       "      <td>108</td>\n",
       "      <td>https://twitter.com/LewisHowes/status/1349033591230001153</td>\n",
       "      <td>2021-01-12 16:40:46</td>\n",
       "      <td>You are stronger than you think. The painful moments that hurt you in the past were meant for you. They broke you down so you could become stronger than ever before. I know it was hard. I know you wouldn't wish it on anyone else. But I also know you wouldn't change a thing!</td>\n",
       "      <td>You are stronger than you think. The painful moments that hurt you in the past were meant for you. They broke you down so you could become stronger than ever before. I know it was hard. I know you wouldn’t wish it on anyone else. But I also know you wouldn’t change a thing!</td>\n",
       "      <td>1349033591230001153</td>\n",
       "      <td>{'username': 'LewisHowes', 'displayname': 'Lewis Howes', 'id': 14777649, 'description': 'NY Times Bestselling author. Top Podcast with 300 million downloads. Former pro football current @usath text me here and stay connected! 📲 614-350-3960', 'rawDescription': 'NY Times Bestselling author. Top Podcast with 300 million downloads. Former pro football current @usath text me here and stay connected! 📲 614-350-3960', 'descriptionUrls': [], 'verified': True, 'created': '2008-05-14T19:54:36+00:00', 'followersCount': 193467, 'friendsCount': 34018, 'statusesCount': 132010, 'favouritesCount': 152172, 'listedCount': 5431, 'mediaCount': 4231, 'location': 'Ohio boy in NYC and LA', 'protected': False, 'linkUrl': 'http://lewishowes.com', 'linkTcourl': 'https://t.co/hLkL1LJ3d4', 'profileImageUrl': 'https://pbs.twimg.com/profile_images/904400279113687041/bSzT-5v4_normal.jpg', 'profileBannerUrl': 'https://pbs.twimg.com/profile_banners/14777649/1600464122', 'url': 'https://twitter.com/LewisHowes'}</td>\n",
       "      <td>[]</td>\n",
       "      <td>[]</td>\n",
       "      <td>23</td>\n",
       "      <td>...</td>\n",
       "      <td>11</td>\n",
       "      <td>1349033591230001153</td>\n",
       "      <td>en</td>\n",
       "      <td>&lt;a href=\"http://twitter.com/download/iphone\" rel=\"nofollow\"&gt;Twitter for iPhone&lt;/a&gt;</td>\n",
       "      <td>http://twitter.com/download/iphone</td>\n",
       "      <td>Twitter for iPhone</td>\n",
       "      <td>None</td>\n",
       "      <td>NaN</td>\n",
       "      <td>None</td>\n",
       "      <td>None</td>\n",
       "    </tr>\n",
       "    <tr>\n",
       "      <th>161</th>\n",
       "      <td>161</td>\n",
       "      <td>https://twitter.com/LewisHowes/status/1347211512696344577</td>\n",
       "      <td>2021-01-07 16:00:29</td>\n",
       "      <td>Always remember to ask for exactly what you want. Ask for love, good health, abundance and peace. Ask for wisdom, creativity and positive energy. Don't be shy in your dreams. Be bold and live in gratitude because everything you want is coming to you.</td>\n",
       "      <td>Always remember to ask for exactly what you want. Ask for love, good health, abundance and peace. Ask for wisdom, creativity and positive energy. Don’t be shy in your dreams. Be bold and live in gratitude because everything you want is coming to you.</td>\n",
       "      <td>1347211512696344577</td>\n",
       "      <td>{'username': 'LewisHowes', 'displayname': 'Lewis Howes', 'id': 14777649, 'description': 'NY Times Bestselling author. Top Podcast with 300 million downloads. Former pro football current @usath text me here and stay connected! 📲 614-350-3960', 'rawDescription': 'NY Times Bestselling author. Top Podcast with 300 million downloads. Former pro football current @usath text me here and stay connected! 📲 614-350-3960', 'descriptionUrls': [], 'verified': True, 'created': '2008-05-14T19:54:36+00:00', 'followersCount': 193467, 'friendsCount': 34018, 'statusesCount': 132010, 'favouritesCount': 152172, 'listedCount': 5431, 'mediaCount': 4231, 'location': 'Ohio boy in NYC and LA', 'protected': False, 'linkUrl': 'http://lewishowes.com', 'linkTcourl': 'https://t.co/hLkL1LJ3d4', 'profileImageUrl': 'https://pbs.twimg.com/profile_images/904400279113687041/bSzT-5v4_normal.jpg', 'profileBannerUrl': 'https://pbs.twimg.com/profile_banners/14777649/1600464122', 'url': 'https://twitter.com/LewisHowes'}</td>\n",
       "      <td>[]</td>\n",
       "      <td>[]</td>\n",
       "      <td>34</td>\n",
       "      <td>...</td>\n",
       "      <td>15</td>\n",
       "      <td>1347211512696344577</td>\n",
       "      <td>en</td>\n",
       "      <td>&lt;a href=\"http://twitter.com/download/iphone\" rel=\"nofollow\"&gt;Twitter for iPhone&lt;/a&gt;</td>\n",
       "      <td>http://twitter.com/download/iphone</td>\n",
       "      <td>Twitter for iPhone</td>\n",
       "      <td>None</td>\n",
       "      <td>NaN</td>\n",
       "      <td>None</td>\n",
       "      <td>None</td>\n",
       "    </tr>\n",
       "    <tr>\n",
       "      <th>206</th>\n",
       "      <td>206</td>\n",
       "      <td>https://twitter.com/LewisHowes/status/1346247892957237249</td>\n",
       "      <td>2021-01-05 00:11:24</td>\n",
       "      <td>What if you treated yourself like someone you were madly in love with? Imagine what you could do with all that positive energy. Stop beating yourself up for not being perfect and start loving yourself the way you would with someone you care about.</td>\n",
       "      <td>What if you treated yourself like someone you were madly in love with? Imagine what you could do with all that positive energy. Stop beating yourself up for not being perfect and start loving yourself the way you would with someone you care about.</td>\n",
       "      <td>1346247892957237249</td>\n",
       "      <td>{'username': 'LewisHowes', 'displayname': 'Lewis Howes', 'id': 14777649, 'description': 'NY Times Bestselling author. Top Podcast with 300 million downloads. Former pro football current @usath text me here and stay connected! 📲 614-350-3960', 'rawDescription': 'NY Times Bestselling author. Top Podcast with 300 million downloads. Former pro football current @usath text me here and stay connected! 📲 614-350-3960', 'descriptionUrls': [], 'verified': True, 'created': '2008-05-14T19:54:36+00:00', 'followersCount': 193467, 'friendsCount': 34018, 'statusesCount': 132010, 'favouritesCount': 152172, 'listedCount': 5431, 'mediaCount': 4231, 'location': 'Ohio boy in NYC and LA', 'protected': False, 'linkUrl': 'http://lewishowes.com', 'linkTcourl': 'https://t.co/hLkL1LJ3d4', 'profileImageUrl': 'https://pbs.twimg.com/profile_images/904400279113687041/bSzT-5v4_normal.jpg', 'profileBannerUrl': 'https://pbs.twimg.com/profile_banners/14777649/1600464122', 'url': 'https://twitter.com/LewisHowes'}</td>\n",
       "      <td>[]</td>\n",
       "      <td>[]</td>\n",
       "      <td>26</td>\n",
       "      <td>...</td>\n",
       "      <td>22</td>\n",
       "      <td>1346247892957237249</td>\n",
       "      <td>en</td>\n",
       "      <td>&lt;a href=\"http://twitter.com/download/iphone\" rel=\"nofollow\"&gt;Twitter for iPhone&lt;/a&gt;</td>\n",
       "      <td>http://twitter.com/download/iphone</td>\n",
       "      <td>Twitter for iPhone</td>\n",
       "      <td>None</td>\n",
       "      <td>NaN</td>\n",
       "      <td>None</td>\n",
       "      <td>None</td>\n",
       "    </tr>\n",
       "  </tbody>\n",
       "</table>\n",
       "<p>5 rows × 22 columns</p>\n",
       "</div>"
      ],
      "text/plain": [
       "     index                                                        url  \\\n",
       "44      44  https://twitter.com/LewisHowes/status/1350929208520929282   \n",
       "61      61  https://twitter.com/LewisHowes/status/1350102468126883842   \n",
       "108    108  https://twitter.com/LewisHowes/status/1349033591230001153   \n",
       "161    161  https://twitter.com/LewisHowes/status/1347211512696344577   \n",
       "206    206  https://twitter.com/LewisHowes/status/1346247892957237249   \n",
       "\n",
       "                   date  \\\n",
       "44  2021-01-17 22:13:17   \n",
       "61  2021-01-15 15:28:06   \n",
       "108 2021-01-12 16:40:46   \n",
       "161 2021-01-07 16:00:29   \n",
       "206 2021-01-05 00:11:24   \n",
       "\n",
       "                                                                                                                                                                                                                                                                                     content  \\\n",
       "44   Know this. Everything is happening for a reason and in your favor for the betterment of your future. The pain you feel now will help later if you:  1. Look at what's not serving you 2. Listen to your intuition 3. Learn the meaning behind it 4. Let go of limits that hold you back   \n",
       "61     Protect your inner peace at all costs. Create daily practices and communicate boundaries to make sure the stress and drama of others doesn't consume you. You don't need to be someone else's emotional punching bag. Your energy and happiness is too important. Protect your peace!   \n",
       "108       You are stronger than you think. The painful moments that hurt you in the past were meant for you. They broke you down so you could become stronger than ever before. I know it was hard. I know you wouldn't wish it on anyone else. But I also know you wouldn't change a thing!   \n",
       "161                               Always remember to ask for exactly what you want. Ask for love, good health, abundance and peace. Ask for wisdom, creativity and positive energy. Don't be shy in your dreams. Be bold and live in gratitude because everything you want is coming to you.   \n",
       "206                                  What if you treated yourself like someone you were madly in love with? Imagine what you could do with all that positive energy. Stop beating yourself up for not being perfect and start loving yourself the way you would with someone you care about.   \n",
       "\n",
       "                                                                                                                                                                                                                                                                                  renderedContent  \\\n",
       "44   Know this. Everything is happening for a reason and in your favor for the betterment of your future. The pain you feel now will help later if you:\\n\\n1. Look at what’s not serving you\\n2. Listen to your intuition\\n3. Learn the meaning behind it\\n4. Let go of limits that hold you back   \n",
       "61          Protect your inner peace at all costs. Create daily practices and communicate boundaries to make sure the stress and drama of others doesn’t consume you. You don’t need to be someone else’s emotional punching bag. Your energy and happiness is too important. Protect your peace!   \n",
       "108            You are stronger than you think. The painful moments that hurt you in the past were meant for you. They broke you down so you could become stronger than ever before. I know it was hard. I know you wouldn’t wish it on anyone else. But I also know you wouldn’t change a thing!   \n",
       "161                                    Always remember to ask for exactly what you want. Ask for love, good health, abundance and peace. Ask for wisdom, creativity and positive energy. Don’t be shy in your dreams. Be bold and live in gratitude because everything you want is coming to you.   \n",
       "206                                       What if you treated yourself like someone you were madly in love with? Imagine what you could do with all that positive energy. Stop beating yourself up for not being perfect and start loving yourself the way you would with someone you care about.   \n",
       "\n",
       "                      id  \\\n",
       "44   1350929208520929282   \n",
       "61   1350102468126883842   \n",
       "108  1349033591230001153   \n",
       "161  1347211512696344577   \n",
       "206  1346247892957237249   \n",
       "\n",
       "                                                                                                                                                                                                                                                                                                                                                                                                                                                                                                                                                                                                                                                                                                                                                                                                                                                                                                                                                                                                                                  user  \\\n",
       "44   {'username': 'LewisHowes', 'displayname': 'Lewis Howes', 'id': 14777649, 'description': 'NY Times Bestselling author. Top Podcast with 300 million downloads. Former pro football current @usath text me here and stay connected! 📲 614-350-3960', 'rawDescription': 'NY Times Bestselling author. Top Podcast with 300 million downloads. Former pro football current @usath text me here and stay connected! 📲 614-350-3960', 'descriptionUrls': [], 'verified': True, 'created': '2008-05-14T19:54:36+00:00', 'followersCount': 193467, 'friendsCount': 34018, 'statusesCount': 132010, 'favouritesCount': 152172, 'listedCount': 5431, 'mediaCount': 4231, 'location': 'Ohio boy in NYC and LA', 'protected': False, 'linkUrl': 'http://lewishowes.com', 'linkTcourl': 'https://t.co/hLkL1LJ3d4', 'profileImageUrl': 'https://pbs.twimg.com/profile_images/904400279113687041/bSzT-5v4_normal.jpg', 'profileBannerUrl': 'https://pbs.twimg.com/profile_banners/14777649/1600464122', 'url': 'https://twitter.com/LewisHowes'}   \n",
       "61   {'username': 'LewisHowes', 'displayname': 'Lewis Howes', 'id': 14777649, 'description': 'NY Times Bestselling author. Top Podcast with 300 million downloads. Former pro football current @usath text me here and stay connected! 📲 614-350-3960', 'rawDescription': 'NY Times Bestselling author. Top Podcast with 300 million downloads. Former pro football current @usath text me here and stay connected! 📲 614-350-3960', 'descriptionUrls': [], 'verified': True, 'created': '2008-05-14T19:54:36+00:00', 'followersCount': 193467, 'friendsCount': 34018, 'statusesCount': 132010, 'favouritesCount': 152172, 'listedCount': 5431, 'mediaCount': 4231, 'location': 'Ohio boy in NYC and LA', 'protected': False, 'linkUrl': 'http://lewishowes.com', 'linkTcourl': 'https://t.co/hLkL1LJ3d4', 'profileImageUrl': 'https://pbs.twimg.com/profile_images/904400279113687041/bSzT-5v4_normal.jpg', 'profileBannerUrl': 'https://pbs.twimg.com/profile_banners/14777649/1600464122', 'url': 'https://twitter.com/LewisHowes'}   \n",
       "108  {'username': 'LewisHowes', 'displayname': 'Lewis Howes', 'id': 14777649, 'description': 'NY Times Bestselling author. Top Podcast with 300 million downloads. Former pro football current @usath text me here and stay connected! 📲 614-350-3960', 'rawDescription': 'NY Times Bestselling author. Top Podcast with 300 million downloads. Former pro football current @usath text me here and stay connected! 📲 614-350-3960', 'descriptionUrls': [], 'verified': True, 'created': '2008-05-14T19:54:36+00:00', 'followersCount': 193467, 'friendsCount': 34018, 'statusesCount': 132010, 'favouritesCount': 152172, 'listedCount': 5431, 'mediaCount': 4231, 'location': 'Ohio boy in NYC and LA', 'protected': False, 'linkUrl': 'http://lewishowes.com', 'linkTcourl': 'https://t.co/hLkL1LJ3d4', 'profileImageUrl': 'https://pbs.twimg.com/profile_images/904400279113687041/bSzT-5v4_normal.jpg', 'profileBannerUrl': 'https://pbs.twimg.com/profile_banners/14777649/1600464122', 'url': 'https://twitter.com/LewisHowes'}   \n",
       "161  {'username': 'LewisHowes', 'displayname': 'Lewis Howes', 'id': 14777649, 'description': 'NY Times Bestselling author. Top Podcast with 300 million downloads. Former pro football current @usath text me here and stay connected! 📲 614-350-3960', 'rawDescription': 'NY Times Bestselling author. Top Podcast with 300 million downloads. Former pro football current @usath text me here and stay connected! 📲 614-350-3960', 'descriptionUrls': [], 'verified': True, 'created': '2008-05-14T19:54:36+00:00', 'followersCount': 193467, 'friendsCount': 34018, 'statusesCount': 132010, 'favouritesCount': 152172, 'listedCount': 5431, 'mediaCount': 4231, 'location': 'Ohio boy in NYC and LA', 'protected': False, 'linkUrl': 'http://lewishowes.com', 'linkTcourl': 'https://t.co/hLkL1LJ3d4', 'profileImageUrl': 'https://pbs.twimg.com/profile_images/904400279113687041/bSzT-5v4_normal.jpg', 'profileBannerUrl': 'https://pbs.twimg.com/profile_banners/14777649/1600464122', 'url': 'https://twitter.com/LewisHowes'}   \n",
       "206  {'username': 'LewisHowes', 'displayname': 'Lewis Howes', 'id': 14777649, 'description': 'NY Times Bestselling author. Top Podcast with 300 million downloads. Former pro football current @usath text me here and stay connected! 📲 614-350-3960', 'rawDescription': 'NY Times Bestselling author. Top Podcast with 300 million downloads. Former pro football current @usath text me here and stay connected! 📲 614-350-3960', 'descriptionUrls': [], 'verified': True, 'created': '2008-05-14T19:54:36+00:00', 'followersCount': 193467, 'friendsCount': 34018, 'statusesCount': 132010, 'favouritesCount': 152172, 'listedCount': 5431, 'mediaCount': 4231, 'location': 'Ohio boy in NYC and LA', 'protected': False, 'linkUrl': 'http://lewishowes.com', 'linkTcourl': 'https://t.co/hLkL1LJ3d4', 'profileImageUrl': 'https://pbs.twimg.com/profile_images/904400279113687041/bSzT-5v4_normal.jpg', 'profileBannerUrl': 'https://pbs.twimg.com/profile_banners/14777649/1600464122', 'url': 'https://twitter.com/LewisHowes'}   \n",
       "\n",
       "    outlinks tcooutlinks  replyCount  ...  quoteCount       conversationId  \\\n",
       "44        []          []          20  ...          10  1350929208520929282   \n",
       "61        []          []          30  ...          13  1350102468126883842   \n",
       "108       []          []          23  ...          11  1349033591230001153   \n",
       "161       []          []          34  ...          15  1347211512696344577   \n",
       "206       []          []          26  ...          22  1346247892957237249   \n",
       "\n",
       "     lang  \\\n",
       "44     en   \n",
       "61     en   \n",
       "108    en   \n",
       "161    en   \n",
       "206    en   \n",
       "\n",
       "                                                                                 source  \\\n",
       "44   <a href=\"http://twitter.com/download/iphone\" rel=\"nofollow\">Twitter for iPhone</a>   \n",
       "61   <a href=\"http://twitter.com/download/iphone\" rel=\"nofollow\">Twitter for iPhone</a>   \n",
       "108  <a href=\"http://twitter.com/download/iphone\" rel=\"nofollow\">Twitter for iPhone</a>   \n",
       "161  <a href=\"http://twitter.com/download/iphone\" rel=\"nofollow\">Twitter for iPhone</a>   \n",
       "206  <a href=\"http://twitter.com/download/iphone\" rel=\"nofollow\">Twitter for iPhone</a>   \n",
       "\n",
       "                              sourceUrl         sourceLabel media  \\\n",
       "44   http://twitter.com/download/iphone  Twitter for iPhone  None   \n",
       "61   http://twitter.com/download/iphone  Twitter for iPhone  None   \n",
       "108  http://twitter.com/download/iphone  Twitter for iPhone  None   \n",
       "161  http://twitter.com/download/iphone  Twitter for iPhone  None   \n",
       "206  http://twitter.com/download/iphone  Twitter for iPhone  None   \n",
       "\n",
       "    retweetedTweet quotedTweet  mentionedUsers  \n",
       "44             NaN        None            None  \n",
       "61             NaN        None            None  \n",
       "108            NaN        None            None  \n",
       "161            NaN        None            None  \n",
       "206            NaN        None            None  \n",
       "\n",
       "[5 rows x 22 columns]"
      ]
     },
     "execution_count": 31,
     "metadata": {},
     "output_type": "execute_result"
    },
    {
     "data": {
      "application/javascript": [
       "\n",
       "            setTimeout(function() {\n",
       "                var nbb_cell_id = 31;\n",
       "                var nbb_unformatted_code = \"tweets6.head()\";\n",
       "                var nbb_formatted_code = \"tweets6.head()\";\n",
       "                var nbb_cells = Jupyter.notebook.get_cells();\n",
       "                for (var i = 0; i < nbb_cells.length; ++i) {\n",
       "                    if (nbb_cells[i].input_prompt_number == nbb_cell_id) {\n",
       "                        if (nbb_cells[i].get_text() == nbb_unformatted_code) {\n",
       "                             nbb_cells[i].set_text(nbb_formatted_code);\n",
       "                        }\n",
       "                        break;\n",
       "                    }\n",
       "                }\n",
       "            }, 500);\n",
       "            "
      ],
      "text/plain": [
       "<IPython.core.display.Javascript object>"
      ]
     },
     "metadata": {},
     "output_type": "display_data"
    }
   ],
   "source": [
    "tweets6.head()"
   ]
  },
  {
   "cell_type": "code",
   "execution_count": 32,
   "metadata": {},
   "outputs": [
    {
     "data": {
      "text/html": [
       "<div>\n",
       "<style scoped>\n",
       "    .dataframe tbody tr th:only-of-type {\n",
       "        vertical-align: middle;\n",
       "    }\n",
       "\n",
       "    .dataframe tbody tr th {\n",
       "        vertical-align: top;\n",
       "    }\n",
       "\n",
       "    .dataframe thead th {\n",
       "        text-align: right;\n",
       "    }\n",
       "</style>\n",
       "<table border=\"1\" class=\"dataframe\">\n",
       "  <thead>\n",
       "    <tr style=\"text-align: right;\">\n",
       "      <th></th>\n",
       "      <th>date</th>\n",
       "      <th>content</th>\n",
       "      <th>user</th>\n",
       "    </tr>\n",
       "  </thead>\n",
       "  <tbody>\n",
       "    <tr>\n",
       "      <th>44</th>\n",
       "      <td>2021-01-17 22:13:17</td>\n",
       "      <td>Know this. Everything is happening for a reason and in your favor for the betterment of your future. The pain you feel now will help later if you:  1. Look at what's not serving you 2. Listen to your intuition 3. Learn the meaning behind it 4. Let go of limits that hold you back</td>\n",
       "      <td>{'username': 'LewisHowes', 'displayname': 'Lewis Howes', 'id': 14777649, 'description': 'NY Times Bestselling author. Top Podcast with 300 million downloads. Former pro football current @usath text me here and stay connected! 📲 614-350-3960', 'rawDescription': 'NY Times Bestselling author. Top Podcast with 300 million downloads. Former pro football current @usath text me here and stay connected! 📲 614-350-3960', 'descriptionUrls': [], 'verified': True, 'created': '2008-05-14T19:54:36+00:00', 'followersCount': 193467, 'friendsCount': 34018, 'statusesCount': 132010, 'favouritesCount': 152172, 'listedCount': 5431, 'mediaCount': 4231, 'location': 'Ohio boy in NYC and LA', 'protected': False, 'linkUrl': 'http://lewishowes.com', 'linkTcourl': 'https://t.co/hLkL1LJ3d4', 'profileImageUrl': 'https://pbs.twimg.com/profile_images/904400279113687041/bSzT-5v4_normal.jpg', 'profileBannerUrl': 'https://pbs.twimg.com/profile_banners/14777649/1600464122', 'url': 'https://twitter.com/LewisHowes'}</td>\n",
       "    </tr>\n",
       "    <tr>\n",
       "      <th>61</th>\n",
       "      <td>2021-01-15 15:28:06</td>\n",
       "      <td>Protect your inner peace at all costs. Create daily practices and communicate boundaries to make sure the stress and drama of others doesn't consume you. You don't need to be someone else's emotional punching bag. Your energy and happiness is too important. Protect your peace!</td>\n",
       "      <td>{'username': 'LewisHowes', 'displayname': 'Lewis Howes', 'id': 14777649, 'description': 'NY Times Bestselling author. Top Podcast with 300 million downloads. Former pro football current @usath text me here and stay connected! 📲 614-350-3960', 'rawDescription': 'NY Times Bestselling author. Top Podcast with 300 million downloads. Former pro football current @usath text me here and stay connected! 📲 614-350-3960', 'descriptionUrls': [], 'verified': True, 'created': '2008-05-14T19:54:36+00:00', 'followersCount': 193467, 'friendsCount': 34018, 'statusesCount': 132010, 'favouritesCount': 152172, 'listedCount': 5431, 'mediaCount': 4231, 'location': 'Ohio boy in NYC and LA', 'protected': False, 'linkUrl': 'http://lewishowes.com', 'linkTcourl': 'https://t.co/hLkL1LJ3d4', 'profileImageUrl': 'https://pbs.twimg.com/profile_images/904400279113687041/bSzT-5v4_normal.jpg', 'profileBannerUrl': 'https://pbs.twimg.com/profile_banners/14777649/1600464122', 'url': 'https://twitter.com/LewisHowes'}</td>\n",
       "    </tr>\n",
       "    <tr>\n",
       "      <th>108</th>\n",
       "      <td>2021-01-12 16:40:46</td>\n",
       "      <td>You are stronger than you think. The painful moments that hurt you in the past were meant for you. They broke you down so you could become stronger than ever before. I know it was hard. I know you wouldn't wish it on anyone else. But I also know you wouldn't change a thing!</td>\n",
       "      <td>{'username': 'LewisHowes', 'displayname': 'Lewis Howes', 'id': 14777649, 'description': 'NY Times Bestselling author. Top Podcast with 300 million downloads. Former pro football current @usath text me here and stay connected! 📲 614-350-3960', 'rawDescription': 'NY Times Bestselling author. Top Podcast with 300 million downloads. Former pro football current @usath text me here and stay connected! 📲 614-350-3960', 'descriptionUrls': [], 'verified': True, 'created': '2008-05-14T19:54:36+00:00', 'followersCount': 193467, 'friendsCount': 34018, 'statusesCount': 132010, 'favouritesCount': 152172, 'listedCount': 5431, 'mediaCount': 4231, 'location': 'Ohio boy in NYC and LA', 'protected': False, 'linkUrl': 'http://lewishowes.com', 'linkTcourl': 'https://t.co/hLkL1LJ3d4', 'profileImageUrl': 'https://pbs.twimg.com/profile_images/904400279113687041/bSzT-5v4_normal.jpg', 'profileBannerUrl': 'https://pbs.twimg.com/profile_banners/14777649/1600464122', 'url': 'https://twitter.com/LewisHowes'}</td>\n",
       "    </tr>\n",
       "    <tr>\n",
       "      <th>161</th>\n",
       "      <td>2021-01-07 16:00:29</td>\n",
       "      <td>Always remember to ask for exactly what you want. Ask for love, good health, abundance and peace. Ask for wisdom, creativity and positive energy. Don't be shy in your dreams. Be bold and live in gratitude because everything you want is coming to you.</td>\n",
       "      <td>{'username': 'LewisHowes', 'displayname': 'Lewis Howes', 'id': 14777649, 'description': 'NY Times Bestselling author. Top Podcast with 300 million downloads. Former pro football current @usath text me here and stay connected! 📲 614-350-3960', 'rawDescription': 'NY Times Bestselling author. Top Podcast with 300 million downloads. Former pro football current @usath text me here and stay connected! 📲 614-350-3960', 'descriptionUrls': [], 'verified': True, 'created': '2008-05-14T19:54:36+00:00', 'followersCount': 193467, 'friendsCount': 34018, 'statusesCount': 132010, 'favouritesCount': 152172, 'listedCount': 5431, 'mediaCount': 4231, 'location': 'Ohio boy in NYC and LA', 'protected': False, 'linkUrl': 'http://lewishowes.com', 'linkTcourl': 'https://t.co/hLkL1LJ3d4', 'profileImageUrl': 'https://pbs.twimg.com/profile_images/904400279113687041/bSzT-5v4_normal.jpg', 'profileBannerUrl': 'https://pbs.twimg.com/profile_banners/14777649/1600464122', 'url': 'https://twitter.com/LewisHowes'}</td>\n",
       "    </tr>\n",
       "    <tr>\n",
       "      <th>206</th>\n",
       "      <td>2021-01-05 00:11:24</td>\n",
       "      <td>What if you treated yourself like someone you were madly in love with? Imagine what you could do with all that positive energy. Stop beating yourself up for not being perfect and start loving yourself the way you would with someone you care about.</td>\n",
       "      <td>{'username': 'LewisHowes', 'displayname': 'Lewis Howes', 'id': 14777649, 'description': 'NY Times Bestselling author. Top Podcast with 300 million downloads. Former pro football current @usath text me here and stay connected! 📲 614-350-3960', 'rawDescription': 'NY Times Bestselling author. Top Podcast with 300 million downloads. Former pro football current @usath text me here and stay connected! 📲 614-350-3960', 'descriptionUrls': [], 'verified': True, 'created': '2008-05-14T19:54:36+00:00', 'followersCount': 193467, 'friendsCount': 34018, 'statusesCount': 132010, 'favouritesCount': 152172, 'listedCount': 5431, 'mediaCount': 4231, 'location': 'Ohio boy in NYC and LA', 'protected': False, 'linkUrl': 'http://lewishowes.com', 'linkTcourl': 'https://t.co/hLkL1LJ3d4', 'profileImageUrl': 'https://pbs.twimg.com/profile_images/904400279113687041/bSzT-5v4_normal.jpg', 'profileBannerUrl': 'https://pbs.twimg.com/profile_banners/14777649/1600464122', 'url': 'https://twitter.com/LewisHowes'}</td>\n",
       "    </tr>\n",
       "  </tbody>\n",
       "</table>\n",
       "</div>"
      ],
      "text/plain": [
       "                   date  \\\n",
       "44  2021-01-17 22:13:17   \n",
       "61  2021-01-15 15:28:06   \n",
       "108 2021-01-12 16:40:46   \n",
       "161 2021-01-07 16:00:29   \n",
       "206 2021-01-05 00:11:24   \n",
       "\n",
       "                                                                                                                                                                                                                                                                                     content  \\\n",
       "44   Know this. Everything is happening for a reason and in your favor for the betterment of your future. The pain you feel now will help later if you:  1. Look at what's not serving you 2. Listen to your intuition 3. Learn the meaning behind it 4. Let go of limits that hold you back   \n",
       "61     Protect your inner peace at all costs. Create daily practices and communicate boundaries to make sure the stress and drama of others doesn't consume you. You don't need to be someone else's emotional punching bag. Your energy and happiness is too important. Protect your peace!   \n",
       "108       You are stronger than you think. The painful moments that hurt you in the past were meant for you. They broke you down so you could become stronger than ever before. I know it was hard. I know you wouldn't wish it on anyone else. But I also know you wouldn't change a thing!   \n",
       "161                               Always remember to ask for exactly what you want. Ask for love, good health, abundance and peace. Ask for wisdom, creativity and positive energy. Don't be shy in your dreams. Be bold and live in gratitude because everything you want is coming to you.   \n",
       "206                                  What if you treated yourself like someone you were madly in love with? Imagine what you could do with all that positive energy. Stop beating yourself up for not being perfect and start loving yourself the way you would with someone you care about.   \n",
       "\n",
       "                                                                                                                                                                                                                                                                                                                                                                                                                                                                                                                                                                                                                                                                                                                                                                                                                                                                                                                                                                                                                                  user  \n",
       "44   {'username': 'LewisHowes', 'displayname': 'Lewis Howes', 'id': 14777649, 'description': 'NY Times Bestselling author. Top Podcast with 300 million downloads. Former pro football current @usath text me here and stay connected! 📲 614-350-3960', 'rawDescription': 'NY Times Bestselling author. Top Podcast with 300 million downloads. Former pro football current @usath text me here and stay connected! 📲 614-350-3960', 'descriptionUrls': [], 'verified': True, 'created': '2008-05-14T19:54:36+00:00', 'followersCount': 193467, 'friendsCount': 34018, 'statusesCount': 132010, 'favouritesCount': 152172, 'listedCount': 5431, 'mediaCount': 4231, 'location': 'Ohio boy in NYC and LA', 'protected': False, 'linkUrl': 'http://lewishowes.com', 'linkTcourl': 'https://t.co/hLkL1LJ3d4', 'profileImageUrl': 'https://pbs.twimg.com/profile_images/904400279113687041/bSzT-5v4_normal.jpg', 'profileBannerUrl': 'https://pbs.twimg.com/profile_banners/14777649/1600464122', 'url': 'https://twitter.com/LewisHowes'}  \n",
       "61   {'username': 'LewisHowes', 'displayname': 'Lewis Howes', 'id': 14777649, 'description': 'NY Times Bestselling author. Top Podcast with 300 million downloads. Former pro football current @usath text me here and stay connected! 📲 614-350-3960', 'rawDescription': 'NY Times Bestselling author. Top Podcast with 300 million downloads. Former pro football current @usath text me here and stay connected! 📲 614-350-3960', 'descriptionUrls': [], 'verified': True, 'created': '2008-05-14T19:54:36+00:00', 'followersCount': 193467, 'friendsCount': 34018, 'statusesCount': 132010, 'favouritesCount': 152172, 'listedCount': 5431, 'mediaCount': 4231, 'location': 'Ohio boy in NYC and LA', 'protected': False, 'linkUrl': 'http://lewishowes.com', 'linkTcourl': 'https://t.co/hLkL1LJ3d4', 'profileImageUrl': 'https://pbs.twimg.com/profile_images/904400279113687041/bSzT-5v4_normal.jpg', 'profileBannerUrl': 'https://pbs.twimg.com/profile_banners/14777649/1600464122', 'url': 'https://twitter.com/LewisHowes'}  \n",
       "108  {'username': 'LewisHowes', 'displayname': 'Lewis Howes', 'id': 14777649, 'description': 'NY Times Bestselling author. Top Podcast with 300 million downloads. Former pro football current @usath text me here and stay connected! 📲 614-350-3960', 'rawDescription': 'NY Times Bestselling author. Top Podcast with 300 million downloads. Former pro football current @usath text me here and stay connected! 📲 614-350-3960', 'descriptionUrls': [], 'verified': True, 'created': '2008-05-14T19:54:36+00:00', 'followersCount': 193467, 'friendsCount': 34018, 'statusesCount': 132010, 'favouritesCount': 152172, 'listedCount': 5431, 'mediaCount': 4231, 'location': 'Ohio boy in NYC and LA', 'protected': False, 'linkUrl': 'http://lewishowes.com', 'linkTcourl': 'https://t.co/hLkL1LJ3d4', 'profileImageUrl': 'https://pbs.twimg.com/profile_images/904400279113687041/bSzT-5v4_normal.jpg', 'profileBannerUrl': 'https://pbs.twimg.com/profile_banners/14777649/1600464122', 'url': 'https://twitter.com/LewisHowes'}  \n",
       "161  {'username': 'LewisHowes', 'displayname': 'Lewis Howes', 'id': 14777649, 'description': 'NY Times Bestselling author. Top Podcast with 300 million downloads. Former pro football current @usath text me here and stay connected! 📲 614-350-3960', 'rawDescription': 'NY Times Bestselling author. Top Podcast with 300 million downloads. Former pro football current @usath text me here and stay connected! 📲 614-350-3960', 'descriptionUrls': [], 'verified': True, 'created': '2008-05-14T19:54:36+00:00', 'followersCount': 193467, 'friendsCount': 34018, 'statusesCount': 132010, 'favouritesCount': 152172, 'listedCount': 5431, 'mediaCount': 4231, 'location': 'Ohio boy in NYC and LA', 'protected': False, 'linkUrl': 'http://lewishowes.com', 'linkTcourl': 'https://t.co/hLkL1LJ3d4', 'profileImageUrl': 'https://pbs.twimg.com/profile_images/904400279113687041/bSzT-5v4_normal.jpg', 'profileBannerUrl': 'https://pbs.twimg.com/profile_banners/14777649/1600464122', 'url': 'https://twitter.com/LewisHowes'}  \n",
       "206  {'username': 'LewisHowes', 'displayname': 'Lewis Howes', 'id': 14777649, 'description': 'NY Times Bestselling author. Top Podcast with 300 million downloads. Former pro football current @usath text me here and stay connected! 📲 614-350-3960', 'rawDescription': 'NY Times Bestselling author. Top Podcast with 300 million downloads. Former pro football current @usath text me here and stay connected! 📲 614-350-3960', 'descriptionUrls': [], 'verified': True, 'created': '2008-05-14T19:54:36+00:00', 'followersCount': 193467, 'friendsCount': 34018, 'statusesCount': 132010, 'favouritesCount': 152172, 'listedCount': 5431, 'mediaCount': 4231, 'location': 'Ohio boy in NYC and LA', 'protected': False, 'linkUrl': 'http://lewishowes.com', 'linkTcourl': 'https://t.co/hLkL1LJ3d4', 'profileImageUrl': 'https://pbs.twimg.com/profile_images/904400279113687041/bSzT-5v4_normal.jpg', 'profileBannerUrl': 'https://pbs.twimg.com/profile_banners/14777649/1600464122', 'url': 'https://twitter.com/LewisHowes'}  "
      ]
     },
     "execution_count": 32,
     "metadata": {},
     "output_type": "execute_result"
    },
    {
     "data": {
      "application/javascript": [
       "\n",
       "            setTimeout(function() {\n",
       "                var nbb_cell_id = 32;\n",
       "                var nbb_unformatted_code = \"# condense dataframe to only the 3 necessary columns\\ntweets7 = tweets6[[\\\"date\\\", \\\"content\\\", \\\"user\\\"]]\\n\\ntweets7.head()\";\n",
       "                var nbb_formatted_code = \"# condense dataframe to only the 3 necessary columns\\ntweets7 = tweets6[[\\\"date\\\", \\\"content\\\", \\\"user\\\"]]\\n\\ntweets7.head()\";\n",
       "                var nbb_cells = Jupyter.notebook.get_cells();\n",
       "                for (var i = 0; i < nbb_cells.length; ++i) {\n",
       "                    if (nbb_cells[i].input_prompt_number == nbb_cell_id) {\n",
       "                        if (nbb_cells[i].get_text() == nbb_unformatted_code) {\n",
       "                             nbb_cells[i].set_text(nbb_formatted_code);\n",
       "                        }\n",
       "                        break;\n",
       "                    }\n",
       "                }\n",
       "            }, 500);\n",
       "            "
      ],
      "text/plain": [
       "<IPython.core.display.Javascript object>"
      ]
     },
     "metadata": {},
     "output_type": "display_data"
    }
   ],
   "source": [
    "# condense dataframe to only the 3 necessary columns\n",
    "tweets7 = tweets6[[\"date\", \"content\", \"user\"]]\n",
    "\n",
    "tweets7.head()"
   ]
  },
  {
   "cell_type": "code",
   "execution_count": 36,
   "metadata": {},
   "outputs": [
    {
     "name": "stderr",
     "output_type": "stream",
     "text": [
      "/opt/anaconda3/lib/python3.7/site-packages/ipykernel_launcher.py:6: SettingWithCopyWarning: \n",
      "A value is trying to be set on a copy of a slice from a DataFrame.\n",
      "Try using .loc[row_indexer,col_indexer] = value instead\n",
      "\n",
      "See the caveats in the documentation: https://pandas.pydata.org/pandas-docs/stable/user_guide/indexing.html#returning-a-view-versus-a-copy\n",
      "  \n",
      "/opt/anaconda3/lib/python3.7/site-packages/ipykernel_launcher.py:10: SettingWithCopyWarning: \n",
      "A value is trying to be set on a copy of a slice from a DataFrame.\n",
      "Try using .loc[row_indexer,col_indexer] = value instead\n",
      "\n",
      "See the caveats in the documentation: https://pandas.pydata.org/pandas-docs/stable/user_guide/indexing.html#returning-a-view-versus-a-copy\n",
      "  # Remove the CWD from sys.path while we load stuff.\n"
     ]
    },
    {
     "data": {
      "application/javascript": [
       "\n",
       "            setTimeout(function() {\n",
       "                var nbb_cell_id = 36;\n",
       "                var nbb_unformatted_code = \"# extract username and display names to seperate columns\\nuser_name = \\\"username\\\"\\ndisplay_name = \\\"displayname\\\"\\n\\ntweets7[\\\"user_name\\\"] = [\\n    value[user_name] for (key, value) in tweets7[\\\"user\\\"].items() if user_name in value\\n]\\n\\ntweets7[\\\"display_name\\\"] = [\\n    value[display_name] for (key, value) in tweets7[\\\"user\\\"].items() if display_name in value\\n]\";\n",
       "                var nbb_formatted_code = \"# extract username and display names to seperate columns\\nuser_name = \\\"username\\\"\\ndisplay_name = \\\"displayname\\\"\\n\\ntweets7[\\\"user_name\\\"] = [\\n    value[user_name] for (key, value) in tweets7[\\\"user\\\"].items() if user_name in value\\n]\\n\\ntweets7[\\\"display_name\\\"] = [\\n    value[display_name]\\n    for (key, value) in tweets7[\\\"user\\\"].items()\\n    if display_name in value\\n]\";\n",
       "                var nbb_cells = Jupyter.notebook.get_cells();\n",
       "                for (var i = 0; i < nbb_cells.length; ++i) {\n",
       "                    if (nbb_cells[i].input_prompt_number == nbb_cell_id) {\n",
       "                        if (nbb_cells[i].get_text() == nbb_unformatted_code) {\n",
       "                             nbb_cells[i].set_text(nbb_formatted_code);\n",
       "                        }\n",
       "                        break;\n",
       "                    }\n",
       "                }\n",
       "            }, 500);\n",
       "            "
      ],
      "text/plain": [
       "<IPython.core.display.Javascript object>"
      ]
     },
     "metadata": {},
     "output_type": "display_data"
    }
   ],
   "source": [
    "# extract username and display names to seperate columns\n",
    "user_name = \"username\"\n",
    "display_name = \"displayname\"\n",
    "\n",
    "tweets7[\"user_name\"] = [\n",
    "    value[user_name] for (key, value) in tweets7[\"user\"].items() if user_name in value\n",
    "]\n",
    "\n",
    "tweets7[\"display_name\"] = [\n",
    "    value[display_name]\n",
    "    for (key, value) in tweets7[\"user\"].items()\n",
    "    if display_name in value\n",
    "]"
   ]
  },
  {
   "cell_type": "code",
   "execution_count": 38,
   "metadata": {},
   "outputs": [
    {
     "data": {
      "text/html": [
       "<div>\n",
       "<style scoped>\n",
       "    .dataframe tbody tr th:only-of-type {\n",
       "        vertical-align: middle;\n",
       "    }\n",
       "\n",
       "    .dataframe tbody tr th {\n",
       "        vertical-align: top;\n",
       "    }\n",
       "\n",
       "    .dataframe thead th {\n",
       "        text-align: right;\n",
       "    }\n",
       "</style>\n",
       "<table border=\"1\" class=\"dataframe\">\n",
       "  <thead>\n",
       "    <tr style=\"text-align: right;\">\n",
       "      <th></th>\n",
       "      <th>date</th>\n",
       "      <th>content</th>\n",
       "      <th>user</th>\n",
       "      <th>user_name</th>\n",
       "      <th>display_name</th>\n",
       "    </tr>\n",
       "  </thead>\n",
       "  <tbody>\n",
       "    <tr>\n",
       "      <th>44</th>\n",
       "      <td>2021-01-17 22:13:17</td>\n",
       "      <td>Know this. Everything is happening for a reason and in your favor for the betterment of your future. The pain you feel now will help later if you:  1. Look at what's not serving you 2. Listen to your intuition 3. Learn the meaning behind it 4. Let go of limits that hold you back</td>\n",
       "      <td>{'username': 'LewisHowes', 'displayname': 'Lewis Howes', 'id': 14777649, 'description': 'NY Times Bestselling author. Top Podcast with 300 million downloads. Former pro football current @usath text me here and stay connected! 📲 614-350-3960', 'rawDescription': 'NY Times Bestselling author. Top Podcast with 300 million downloads. Former pro football current @usath text me here and stay connected! 📲 614-350-3960', 'descriptionUrls': [], 'verified': True, 'created': '2008-05-14T19:54:36+00:00', 'followersCount': 193467, 'friendsCount': 34018, 'statusesCount': 132010, 'favouritesCount': 152172, 'listedCount': 5431, 'mediaCount': 4231, 'location': 'Ohio boy in NYC and LA', 'protected': False, 'linkUrl': 'http://lewishowes.com', 'linkTcourl': 'https://t.co/hLkL1LJ3d4', 'profileImageUrl': 'https://pbs.twimg.com/profile_images/904400279113687041/bSzT-5v4_normal.jpg', 'profileBannerUrl': 'https://pbs.twimg.com/profile_banners/14777649/1600464122', 'url': 'https://twitter.com/LewisHowes'}</td>\n",
       "      <td>LewisHowes</td>\n",
       "      <td>Lewis Howes</td>\n",
       "    </tr>\n",
       "    <tr>\n",
       "      <th>61</th>\n",
       "      <td>2021-01-15 15:28:06</td>\n",
       "      <td>Protect your inner peace at all costs. Create daily practices and communicate boundaries to make sure the stress and drama of others doesn't consume you. You don't need to be someone else's emotional punching bag. Your energy and happiness is too important. Protect your peace!</td>\n",
       "      <td>{'username': 'LewisHowes', 'displayname': 'Lewis Howes', 'id': 14777649, 'description': 'NY Times Bestselling author. Top Podcast with 300 million downloads. Former pro football current @usath text me here and stay connected! 📲 614-350-3960', 'rawDescription': 'NY Times Bestselling author. Top Podcast with 300 million downloads. Former pro football current @usath text me here and stay connected! 📲 614-350-3960', 'descriptionUrls': [], 'verified': True, 'created': '2008-05-14T19:54:36+00:00', 'followersCount': 193467, 'friendsCount': 34018, 'statusesCount': 132010, 'favouritesCount': 152172, 'listedCount': 5431, 'mediaCount': 4231, 'location': 'Ohio boy in NYC and LA', 'protected': False, 'linkUrl': 'http://lewishowes.com', 'linkTcourl': 'https://t.co/hLkL1LJ3d4', 'profileImageUrl': 'https://pbs.twimg.com/profile_images/904400279113687041/bSzT-5v4_normal.jpg', 'profileBannerUrl': 'https://pbs.twimg.com/profile_banners/14777649/1600464122', 'url': 'https://twitter.com/LewisHowes'}</td>\n",
       "      <td>LewisHowes</td>\n",
       "      <td>Lewis Howes</td>\n",
       "    </tr>\n",
       "    <tr>\n",
       "      <th>108</th>\n",
       "      <td>2021-01-12 16:40:46</td>\n",
       "      <td>You are stronger than you think. The painful moments that hurt you in the past were meant for you. They broke you down so you could become stronger than ever before. I know it was hard. I know you wouldn't wish it on anyone else. But I also know you wouldn't change a thing!</td>\n",
       "      <td>{'username': 'LewisHowes', 'displayname': 'Lewis Howes', 'id': 14777649, 'description': 'NY Times Bestselling author. Top Podcast with 300 million downloads. Former pro football current @usath text me here and stay connected! 📲 614-350-3960', 'rawDescription': 'NY Times Bestselling author. Top Podcast with 300 million downloads. Former pro football current @usath text me here and stay connected! 📲 614-350-3960', 'descriptionUrls': [], 'verified': True, 'created': '2008-05-14T19:54:36+00:00', 'followersCount': 193467, 'friendsCount': 34018, 'statusesCount': 132010, 'favouritesCount': 152172, 'listedCount': 5431, 'mediaCount': 4231, 'location': 'Ohio boy in NYC and LA', 'protected': False, 'linkUrl': 'http://lewishowes.com', 'linkTcourl': 'https://t.co/hLkL1LJ3d4', 'profileImageUrl': 'https://pbs.twimg.com/profile_images/904400279113687041/bSzT-5v4_normal.jpg', 'profileBannerUrl': 'https://pbs.twimg.com/profile_banners/14777649/1600464122', 'url': 'https://twitter.com/LewisHowes'}</td>\n",
       "      <td>LewisHowes</td>\n",
       "      <td>Lewis Howes</td>\n",
       "    </tr>\n",
       "    <tr>\n",
       "      <th>161</th>\n",
       "      <td>2021-01-07 16:00:29</td>\n",
       "      <td>Always remember to ask for exactly what you want. Ask for love, good health, abundance and peace. Ask for wisdom, creativity and positive energy. Don't be shy in your dreams. Be bold and live in gratitude because everything you want is coming to you.</td>\n",
       "      <td>{'username': 'LewisHowes', 'displayname': 'Lewis Howes', 'id': 14777649, 'description': 'NY Times Bestselling author. Top Podcast with 300 million downloads. Former pro football current @usath text me here and stay connected! 📲 614-350-3960', 'rawDescription': 'NY Times Bestselling author. Top Podcast with 300 million downloads. Former pro football current @usath text me here and stay connected! 📲 614-350-3960', 'descriptionUrls': [], 'verified': True, 'created': '2008-05-14T19:54:36+00:00', 'followersCount': 193467, 'friendsCount': 34018, 'statusesCount': 132010, 'favouritesCount': 152172, 'listedCount': 5431, 'mediaCount': 4231, 'location': 'Ohio boy in NYC and LA', 'protected': False, 'linkUrl': 'http://lewishowes.com', 'linkTcourl': 'https://t.co/hLkL1LJ3d4', 'profileImageUrl': 'https://pbs.twimg.com/profile_images/904400279113687041/bSzT-5v4_normal.jpg', 'profileBannerUrl': 'https://pbs.twimg.com/profile_banners/14777649/1600464122', 'url': 'https://twitter.com/LewisHowes'}</td>\n",
       "      <td>LewisHowes</td>\n",
       "      <td>Lewis Howes</td>\n",
       "    </tr>\n",
       "    <tr>\n",
       "      <th>206</th>\n",
       "      <td>2021-01-05 00:11:24</td>\n",
       "      <td>What if you treated yourself like someone you were madly in love with? Imagine what you could do with all that positive energy. Stop beating yourself up for not being perfect and start loving yourself the way you would with someone you care about.</td>\n",
       "      <td>{'username': 'LewisHowes', 'displayname': 'Lewis Howes', 'id': 14777649, 'description': 'NY Times Bestselling author. Top Podcast with 300 million downloads. Former pro football current @usath text me here and stay connected! 📲 614-350-3960', 'rawDescription': 'NY Times Bestselling author. Top Podcast with 300 million downloads. Former pro football current @usath text me here and stay connected! 📲 614-350-3960', 'descriptionUrls': [], 'verified': True, 'created': '2008-05-14T19:54:36+00:00', 'followersCount': 193467, 'friendsCount': 34018, 'statusesCount': 132010, 'favouritesCount': 152172, 'listedCount': 5431, 'mediaCount': 4231, 'location': 'Ohio boy in NYC and LA', 'protected': False, 'linkUrl': 'http://lewishowes.com', 'linkTcourl': 'https://t.co/hLkL1LJ3d4', 'profileImageUrl': 'https://pbs.twimg.com/profile_images/904400279113687041/bSzT-5v4_normal.jpg', 'profileBannerUrl': 'https://pbs.twimg.com/profile_banners/14777649/1600464122', 'url': 'https://twitter.com/LewisHowes'}</td>\n",
       "      <td>LewisHowes</td>\n",
       "      <td>Lewis Howes</td>\n",
       "    </tr>\n",
       "  </tbody>\n",
       "</table>\n",
       "</div>"
      ],
      "text/plain": [
       "                   date  \\\n",
       "44  2021-01-17 22:13:17   \n",
       "61  2021-01-15 15:28:06   \n",
       "108 2021-01-12 16:40:46   \n",
       "161 2021-01-07 16:00:29   \n",
       "206 2021-01-05 00:11:24   \n",
       "\n",
       "                                                                                                                                                                                                                                                                                     content  \\\n",
       "44   Know this. Everything is happening for a reason and in your favor for the betterment of your future. The pain you feel now will help later if you:  1. Look at what's not serving you 2. Listen to your intuition 3. Learn the meaning behind it 4. Let go of limits that hold you back   \n",
       "61     Protect your inner peace at all costs. Create daily practices and communicate boundaries to make sure the stress and drama of others doesn't consume you. You don't need to be someone else's emotional punching bag. Your energy and happiness is too important. Protect your peace!   \n",
       "108       You are stronger than you think. The painful moments that hurt you in the past were meant for you. They broke you down so you could become stronger than ever before. I know it was hard. I know you wouldn't wish it on anyone else. But I also know you wouldn't change a thing!   \n",
       "161                               Always remember to ask for exactly what you want. Ask for love, good health, abundance and peace. Ask for wisdom, creativity and positive energy. Don't be shy in your dreams. Be bold and live in gratitude because everything you want is coming to you.   \n",
       "206                                  What if you treated yourself like someone you were madly in love with? Imagine what you could do with all that positive energy. Stop beating yourself up for not being perfect and start loving yourself the way you would with someone you care about.   \n",
       "\n",
       "                                                                                                                                                                                                                                                                                                                                                                                                                                                                                                                                                                                                                                                                                                                                                                                                                                                                                                                                                                                                                                  user  \\\n",
       "44   {'username': 'LewisHowes', 'displayname': 'Lewis Howes', 'id': 14777649, 'description': 'NY Times Bestselling author. Top Podcast with 300 million downloads. Former pro football current @usath text me here and stay connected! 📲 614-350-3960', 'rawDescription': 'NY Times Bestselling author. Top Podcast with 300 million downloads. Former pro football current @usath text me here and stay connected! 📲 614-350-3960', 'descriptionUrls': [], 'verified': True, 'created': '2008-05-14T19:54:36+00:00', 'followersCount': 193467, 'friendsCount': 34018, 'statusesCount': 132010, 'favouritesCount': 152172, 'listedCount': 5431, 'mediaCount': 4231, 'location': 'Ohio boy in NYC and LA', 'protected': False, 'linkUrl': 'http://lewishowes.com', 'linkTcourl': 'https://t.co/hLkL1LJ3d4', 'profileImageUrl': 'https://pbs.twimg.com/profile_images/904400279113687041/bSzT-5v4_normal.jpg', 'profileBannerUrl': 'https://pbs.twimg.com/profile_banners/14777649/1600464122', 'url': 'https://twitter.com/LewisHowes'}   \n",
       "61   {'username': 'LewisHowes', 'displayname': 'Lewis Howes', 'id': 14777649, 'description': 'NY Times Bestselling author. Top Podcast with 300 million downloads. Former pro football current @usath text me here and stay connected! 📲 614-350-3960', 'rawDescription': 'NY Times Bestselling author. Top Podcast with 300 million downloads. Former pro football current @usath text me here and stay connected! 📲 614-350-3960', 'descriptionUrls': [], 'verified': True, 'created': '2008-05-14T19:54:36+00:00', 'followersCount': 193467, 'friendsCount': 34018, 'statusesCount': 132010, 'favouritesCount': 152172, 'listedCount': 5431, 'mediaCount': 4231, 'location': 'Ohio boy in NYC and LA', 'protected': False, 'linkUrl': 'http://lewishowes.com', 'linkTcourl': 'https://t.co/hLkL1LJ3d4', 'profileImageUrl': 'https://pbs.twimg.com/profile_images/904400279113687041/bSzT-5v4_normal.jpg', 'profileBannerUrl': 'https://pbs.twimg.com/profile_banners/14777649/1600464122', 'url': 'https://twitter.com/LewisHowes'}   \n",
       "108  {'username': 'LewisHowes', 'displayname': 'Lewis Howes', 'id': 14777649, 'description': 'NY Times Bestselling author. Top Podcast with 300 million downloads. Former pro football current @usath text me here and stay connected! 📲 614-350-3960', 'rawDescription': 'NY Times Bestselling author. Top Podcast with 300 million downloads. Former pro football current @usath text me here and stay connected! 📲 614-350-3960', 'descriptionUrls': [], 'verified': True, 'created': '2008-05-14T19:54:36+00:00', 'followersCount': 193467, 'friendsCount': 34018, 'statusesCount': 132010, 'favouritesCount': 152172, 'listedCount': 5431, 'mediaCount': 4231, 'location': 'Ohio boy in NYC and LA', 'protected': False, 'linkUrl': 'http://lewishowes.com', 'linkTcourl': 'https://t.co/hLkL1LJ3d4', 'profileImageUrl': 'https://pbs.twimg.com/profile_images/904400279113687041/bSzT-5v4_normal.jpg', 'profileBannerUrl': 'https://pbs.twimg.com/profile_banners/14777649/1600464122', 'url': 'https://twitter.com/LewisHowes'}   \n",
       "161  {'username': 'LewisHowes', 'displayname': 'Lewis Howes', 'id': 14777649, 'description': 'NY Times Bestselling author. Top Podcast with 300 million downloads. Former pro football current @usath text me here and stay connected! 📲 614-350-3960', 'rawDescription': 'NY Times Bestselling author. Top Podcast with 300 million downloads. Former pro football current @usath text me here and stay connected! 📲 614-350-3960', 'descriptionUrls': [], 'verified': True, 'created': '2008-05-14T19:54:36+00:00', 'followersCount': 193467, 'friendsCount': 34018, 'statusesCount': 132010, 'favouritesCount': 152172, 'listedCount': 5431, 'mediaCount': 4231, 'location': 'Ohio boy in NYC and LA', 'protected': False, 'linkUrl': 'http://lewishowes.com', 'linkTcourl': 'https://t.co/hLkL1LJ3d4', 'profileImageUrl': 'https://pbs.twimg.com/profile_images/904400279113687041/bSzT-5v4_normal.jpg', 'profileBannerUrl': 'https://pbs.twimg.com/profile_banners/14777649/1600464122', 'url': 'https://twitter.com/LewisHowes'}   \n",
       "206  {'username': 'LewisHowes', 'displayname': 'Lewis Howes', 'id': 14777649, 'description': 'NY Times Bestselling author. Top Podcast with 300 million downloads. Former pro football current @usath text me here and stay connected! 📲 614-350-3960', 'rawDescription': 'NY Times Bestselling author. Top Podcast with 300 million downloads. Former pro football current @usath text me here and stay connected! 📲 614-350-3960', 'descriptionUrls': [], 'verified': True, 'created': '2008-05-14T19:54:36+00:00', 'followersCount': 193467, 'friendsCount': 34018, 'statusesCount': 132010, 'favouritesCount': 152172, 'listedCount': 5431, 'mediaCount': 4231, 'location': 'Ohio boy in NYC and LA', 'protected': False, 'linkUrl': 'http://lewishowes.com', 'linkTcourl': 'https://t.co/hLkL1LJ3d4', 'profileImageUrl': 'https://pbs.twimg.com/profile_images/904400279113687041/bSzT-5v4_normal.jpg', 'profileBannerUrl': 'https://pbs.twimg.com/profile_banners/14777649/1600464122', 'url': 'https://twitter.com/LewisHowes'}   \n",
       "\n",
       "      user_name display_name  \n",
       "44   LewisHowes  Lewis Howes  \n",
       "61   LewisHowes  Lewis Howes  \n",
       "108  LewisHowes  Lewis Howes  \n",
       "161  LewisHowes  Lewis Howes  \n",
       "206  LewisHowes  Lewis Howes  "
      ]
     },
     "execution_count": 38,
     "metadata": {},
     "output_type": "execute_result"
    },
    {
     "data": {
      "application/javascript": [
       "\n",
       "            setTimeout(function() {\n",
       "                var nbb_cell_id = 38;\n",
       "                var nbb_unformatted_code = \"tweets7.head()\";\n",
       "                var nbb_formatted_code = \"tweets7.head()\";\n",
       "                var nbb_cells = Jupyter.notebook.get_cells();\n",
       "                for (var i = 0; i < nbb_cells.length; ++i) {\n",
       "                    if (nbb_cells[i].input_prompt_number == nbb_cell_id) {\n",
       "                        if (nbb_cells[i].get_text() == nbb_unformatted_code) {\n",
       "                             nbb_cells[i].set_text(nbb_formatted_code);\n",
       "                        }\n",
       "                        break;\n",
       "                    }\n",
       "                }\n",
       "            }, 500);\n",
       "            "
      ],
      "text/plain": [
       "<IPython.core.display.Javascript object>"
      ]
     },
     "metadata": {},
     "output_type": "display_data"
    }
   ],
   "source": [
    "tweets7.head()"
   ]
  },
  {
   "cell_type": "code",
   "execution_count": 37,
   "metadata": {},
   "outputs": [
    {
     "data": {
      "text/html": [
       "<div>\n",
       "<style scoped>\n",
       "    .dataframe tbody tr th:only-of-type {\n",
       "        vertical-align: middle;\n",
       "    }\n",
       "\n",
       "    .dataframe tbody tr th {\n",
       "        vertical-align: top;\n",
       "    }\n",
       "\n",
       "    .dataframe thead th {\n",
       "        text-align: right;\n",
       "    }\n",
       "</style>\n",
       "<table border=\"1\" class=\"dataframe\">\n",
       "  <thead>\n",
       "    <tr style=\"text-align: right;\">\n",
       "      <th></th>\n",
       "      <th>date</th>\n",
       "      <th>content</th>\n",
       "      <th>user</th>\n",
       "      <th>user_name</th>\n",
       "      <th>display_name</th>\n",
       "    </tr>\n",
       "  </thead>\n",
       "  <tbody>\n",
       "    <tr>\n",
       "      <th>44</th>\n",
       "      <td>&lt;class 'pandas._libs.tslibs.timestamps.Timestamp'&gt;</td>\n",
       "      <td>&lt;class 'str'&gt;</td>\n",
       "      <td>&lt;class 'dict'&gt;</td>\n",
       "      <td>&lt;class 'str'&gt;</td>\n",
       "      <td>&lt;class 'str'&gt;</td>\n",
       "    </tr>\n",
       "    <tr>\n",
       "      <th>61</th>\n",
       "      <td>&lt;class 'pandas._libs.tslibs.timestamps.Timestamp'&gt;</td>\n",
       "      <td>&lt;class 'str'&gt;</td>\n",
       "      <td>&lt;class 'dict'&gt;</td>\n",
       "      <td>&lt;class 'str'&gt;</td>\n",
       "      <td>&lt;class 'str'&gt;</td>\n",
       "    </tr>\n",
       "    <tr>\n",
       "      <th>108</th>\n",
       "      <td>&lt;class 'pandas._libs.tslibs.timestamps.Timestamp'&gt;</td>\n",
       "      <td>&lt;class 'str'&gt;</td>\n",
       "      <td>&lt;class 'dict'&gt;</td>\n",
       "      <td>&lt;class 'str'&gt;</td>\n",
       "      <td>&lt;class 'str'&gt;</td>\n",
       "    </tr>\n",
       "    <tr>\n",
       "      <th>161</th>\n",
       "      <td>&lt;class 'pandas._libs.tslibs.timestamps.Timestamp'&gt;</td>\n",
       "      <td>&lt;class 'str'&gt;</td>\n",
       "      <td>&lt;class 'dict'&gt;</td>\n",
       "      <td>&lt;class 'str'&gt;</td>\n",
       "      <td>&lt;class 'str'&gt;</td>\n",
       "    </tr>\n",
       "    <tr>\n",
       "      <th>206</th>\n",
       "      <td>&lt;class 'pandas._libs.tslibs.timestamps.Timestamp'&gt;</td>\n",
       "      <td>&lt;class 'str'&gt;</td>\n",
       "      <td>&lt;class 'dict'&gt;</td>\n",
       "      <td>&lt;class 'str'&gt;</td>\n",
       "      <td>&lt;class 'str'&gt;</td>\n",
       "    </tr>\n",
       "    <tr>\n",
       "      <th>...</th>\n",
       "      <td>...</td>\n",
       "      <td>...</td>\n",
       "      <td>...</td>\n",
       "      <td>...</td>\n",
       "      <td>...</td>\n",
       "    </tr>\n",
       "    <tr>\n",
       "      <th>977606</th>\n",
       "      <td>&lt;class 'pandas._libs.tslibs.timestamps.Timestamp'&gt;</td>\n",
       "      <td>&lt;class 'str'&gt;</td>\n",
       "      <td>&lt;class 'dict'&gt;</td>\n",
       "      <td>&lt;class 'str'&gt;</td>\n",
       "      <td>&lt;class 'str'&gt;</td>\n",
       "    </tr>\n",
       "    <tr>\n",
       "      <th>977607</th>\n",
       "      <td>&lt;class 'pandas._libs.tslibs.timestamps.Timestamp'&gt;</td>\n",
       "      <td>&lt;class 'str'&gt;</td>\n",
       "      <td>&lt;class 'dict'&gt;</td>\n",
       "      <td>&lt;class 'str'&gt;</td>\n",
       "      <td>&lt;class 'str'&gt;</td>\n",
       "    </tr>\n",
       "    <tr>\n",
       "      <th>977608</th>\n",
       "      <td>&lt;class 'pandas._libs.tslibs.timestamps.Timestamp'&gt;</td>\n",
       "      <td>&lt;class 'str'&gt;</td>\n",
       "      <td>&lt;class 'dict'&gt;</td>\n",
       "      <td>&lt;class 'str'&gt;</td>\n",
       "      <td>&lt;class 'str'&gt;</td>\n",
       "    </tr>\n",
       "    <tr>\n",
       "      <th>977609</th>\n",
       "      <td>&lt;class 'pandas._libs.tslibs.timestamps.Timestamp'&gt;</td>\n",
       "      <td>&lt;class 'str'&gt;</td>\n",
       "      <td>&lt;class 'dict'&gt;</td>\n",
       "      <td>&lt;class 'str'&gt;</td>\n",
       "      <td>&lt;class 'str'&gt;</td>\n",
       "    </tr>\n",
       "    <tr>\n",
       "      <th>977610</th>\n",
       "      <td>&lt;class 'pandas._libs.tslibs.timestamps.Timestamp'&gt;</td>\n",
       "      <td>&lt;class 'str'&gt;</td>\n",
       "      <td>&lt;class 'dict'&gt;</td>\n",
       "      <td>&lt;class 'str'&gt;</td>\n",
       "      <td>&lt;class 'str'&gt;</td>\n",
       "    </tr>\n",
       "  </tbody>\n",
       "</table>\n",
       "<p>696962 rows × 5 columns</p>\n",
       "</div>"
      ],
      "text/plain": [
       "                                                      date        content  \\\n",
       "44      <class 'pandas._libs.tslibs.timestamps.Timestamp'>  <class 'str'>   \n",
       "61      <class 'pandas._libs.tslibs.timestamps.Timestamp'>  <class 'str'>   \n",
       "108     <class 'pandas._libs.tslibs.timestamps.Timestamp'>  <class 'str'>   \n",
       "161     <class 'pandas._libs.tslibs.timestamps.Timestamp'>  <class 'str'>   \n",
       "206     <class 'pandas._libs.tslibs.timestamps.Timestamp'>  <class 'str'>   \n",
       "...                                                    ...            ...   \n",
       "977606  <class 'pandas._libs.tslibs.timestamps.Timestamp'>  <class 'str'>   \n",
       "977607  <class 'pandas._libs.tslibs.timestamps.Timestamp'>  <class 'str'>   \n",
       "977608  <class 'pandas._libs.tslibs.timestamps.Timestamp'>  <class 'str'>   \n",
       "977609  <class 'pandas._libs.tslibs.timestamps.Timestamp'>  <class 'str'>   \n",
       "977610  <class 'pandas._libs.tslibs.timestamps.Timestamp'>  <class 'str'>   \n",
       "\n",
       "                  user      user_name   display_name  \n",
       "44      <class 'dict'>  <class 'str'>  <class 'str'>  \n",
       "61      <class 'dict'>  <class 'str'>  <class 'str'>  \n",
       "108     <class 'dict'>  <class 'str'>  <class 'str'>  \n",
       "161     <class 'dict'>  <class 'str'>  <class 'str'>  \n",
       "206     <class 'dict'>  <class 'str'>  <class 'str'>  \n",
       "...                ...            ...            ...  \n",
       "977606  <class 'dict'>  <class 'str'>  <class 'str'>  \n",
       "977607  <class 'dict'>  <class 'str'>  <class 'str'>  \n",
       "977608  <class 'dict'>  <class 'str'>  <class 'str'>  \n",
       "977609  <class 'dict'>  <class 'str'>  <class 'str'>  \n",
       "977610  <class 'dict'>  <class 'str'>  <class 'str'>  \n",
       "\n",
       "[696962 rows x 5 columns]"
      ]
     },
     "execution_count": 37,
     "metadata": {},
     "output_type": "execute_result"
    },
    {
     "data": {
      "application/javascript": [
       "\n",
       "            setTimeout(function() {\n",
       "                var nbb_cell_id = 37;\n",
       "                var nbb_unformatted_code = \"tweets7.applymap(type)\";\n",
       "                var nbb_formatted_code = \"tweets7.applymap(type)\";\n",
       "                var nbb_cells = Jupyter.notebook.get_cells();\n",
       "                for (var i = 0; i < nbb_cells.length; ++i) {\n",
       "                    if (nbb_cells[i].input_prompt_number == nbb_cell_id) {\n",
       "                        if (nbb_cells[i].get_text() == nbb_unformatted_code) {\n",
       "                             nbb_cells[i].set_text(nbb_formatted_code);\n",
       "                        }\n",
       "                        break;\n",
       "                    }\n",
       "                }\n",
       "            }, 500);\n",
       "            "
      ],
      "text/plain": [
       "<IPython.core.display.Javascript object>"
      ]
     },
     "metadata": {},
     "output_type": "display_data"
    }
   ],
   "source": [
    "tweets7.applymap(type)"
   ]
  },
  {
   "cell_type": "code",
   "execution_count": 39,
   "metadata": {},
   "outputs": [
    {
     "data": {
      "text/html": [
       "<div>\n",
       "<style scoped>\n",
       "    .dataframe tbody tr th:only-of-type {\n",
       "        vertical-align: middle;\n",
       "    }\n",
       "\n",
       "    .dataframe tbody tr th {\n",
       "        vertical-align: top;\n",
       "    }\n",
       "\n",
       "    .dataframe thead th {\n",
       "        text-align: right;\n",
       "    }\n",
       "</style>\n",
       "<table border=\"1\" class=\"dataframe\">\n",
       "  <thead>\n",
       "    <tr style=\"text-align: right;\">\n",
       "      <th></th>\n",
       "      <th>date</th>\n",
       "      <th>content</th>\n",
       "      <th>user_name</th>\n",
       "      <th>display_name</th>\n",
       "    </tr>\n",
       "  </thead>\n",
       "  <tbody>\n",
       "    <tr>\n",
       "      <th>44</th>\n",
       "      <td>2021-01-17 22:13:17</td>\n",
       "      <td>Know this. Everything is happening for a reason and in your favor for the betterment of your future. The pain you feel now will help later if you:  1. Look at what's not serving you 2. Listen to your intuition 3. Learn the meaning behind it 4. Let go of limits that hold you back</td>\n",
       "      <td>LewisHowes</td>\n",
       "      <td>Lewis Howes</td>\n",
       "    </tr>\n",
       "    <tr>\n",
       "      <th>61</th>\n",
       "      <td>2021-01-15 15:28:06</td>\n",
       "      <td>Protect your inner peace at all costs. Create daily practices and communicate boundaries to make sure the stress and drama of others doesn't consume you. You don't need to be someone else's emotional punching bag. Your energy and happiness is too important. Protect your peace!</td>\n",
       "      <td>LewisHowes</td>\n",
       "      <td>Lewis Howes</td>\n",
       "    </tr>\n",
       "    <tr>\n",
       "      <th>108</th>\n",
       "      <td>2021-01-12 16:40:46</td>\n",
       "      <td>You are stronger than you think. The painful moments that hurt you in the past were meant for you. They broke you down so you could become stronger than ever before. I know it was hard. I know you wouldn't wish it on anyone else. But I also know you wouldn't change a thing!</td>\n",
       "      <td>LewisHowes</td>\n",
       "      <td>Lewis Howes</td>\n",
       "    </tr>\n",
       "    <tr>\n",
       "      <th>161</th>\n",
       "      <td>2021-01-07 16:00:29</td>\n",
       "      <td>Always remember to ask for exactly what you want. Ask for love, good health, abundance and peace. Ask for wisdom, creativity and positive energy. Don't be shy in your dreams. Be bold and live in gratitude because everything you want is coming to you.</td>\n",
       "      <td>LewisHowes</td>\n",
       "      <td>Lewis Howes</td>\n",
       "    </tr>\n",
       "    <tr>\n",
       "      <th>206</th>\n",
       "      <td>2021-01-05 00:11:24</td>\n",
       "      <td>What if you treated yourself like someone you were madly in love with? Imagine what you could do with all that positive energy. Stop beating yourself up for not being perfect and start loving yourself the way you would with someone you care about.</td>\n",
       "      <td>LewisHowes</td>\n",
       "      <td>Lewis Howes</td>\n",
       "    </tr>\n",
       "  </tbody>\n",
       "</table>\n",
       "</div>"
      ],
      "text/plain": [
       "                   date  \\\n",
       "44  2021-01-17 22:13:17   \n",
       "61  2021-01-15 15:28:06   \n",
       "108 2021-01-12 16:40:46   \n",
       "161 2021-01-07 16:00:29   \n",
       "206 2021-01-05 00:11:24   \n",
       "\n",
       "                                                                                                                                                                                                                                                                                     content  \\\n",
       "44   Know this. Everything is happening for a reason and in your favor for the betterment of your future. The pain you feel now will help later if you:  1. Look at what's not serving you 2. Listen to your intuition 3. Learn the meaning behind it 4. Let go of limits that hold you back   \n",
       "61     Protect your inner peace at all costs. Create daily practices and communicate boundaries to make sure the stress and drama of others doesn't consume you. You don't need to be someone else's emotional punching bag. Your energy and happiness is too important. Protect your peace!   \n",
       "108       You are stronger than you think. The painful moments that hurt you in the past were meant for you. They broke you down so you could become stronger than ever before. I know it was hard. I know you wouldn't wish it on anyone else. But I also know you wouldn't change a thing!   \n",
       "161                               Always remember to ask for exactly what you want. Ask for love, good health, abundance and peace. Ask for wisdom, creativity and positive energy. Don't be shy in your dreams. Be bold and live in gratitude because everything you want is coming to you.   \n",
       "206                                  What if you treated yourself like someone you were madly in love with? Imagine what you could do with all that positive energy. Stop beating yourself up for not being perfect and start loving yourself the way you would with someone you care about.   \n",
       "\n",
       "      user_name display_name  \n",
       "44   LewisHowes  Lewis Howes  \n",
       "61   LewisHowes  Lewis Howes  \n",
       "108  LewisHowes  Lewis Howes  \n",
       "161  LewisHowes  Lewis Howes  \n",
       "206  LewisHowes  Lewis Howes  "
      ]
     },
     "execution_count": 39,
     "metadata": {},
     "output_type": "execute_result"
    },
    {
     "data": {
      "application/javascript": [
       "\n",
       "            setTimeout(function() {\n",
       "                var nbb_cell_id = 39;\n",
       "                var nbb_unformatted_code = \"tweets8 = tweets7.drop('user',axis=1)\\n\\ntweets8.head()\";\n",
       "                var nbb_formatted_code = \"tweets8 = tweets7.drop(\\\"user\\\", axis=1)\\n\\ntweets8.head()\";\n",
       "                var nbb_cells = Jupyter.notebook.get_cells();\n",
       "                for (var i = 0; i < nbb_cells.length; ++i) {\n",
       "                    if (nbb_cells[i].input_prompt_number == nbb_cell_id) {\n",
       "                        if (nbb_cells[i].get_text() == nbb_unformatted_code) {\n",
       "                             nbb_cells[i].set_text(nbb_formatted_code);\n",
       "                        }\n",
       "                        break;\n",
       "                    }\n",
       "                }\n",
       "            }, 500);\n",
       "            "
      ],
      "text/plain": [
       "<IPython.core.display.Javascript object>"
      ]
     },
     "metadata": {},
     "output_type": "display_data"
    }
   ],
   "source": [
    "tweets8 = tweets7.drop(\"user\", axis=1)\n",
    "\n",
    "tweets8.head()"
   ]
  },
  {
   "cell_type": "code",
   "execution_count": 40,
   "metadata": {},
   "outputs": [
    {
     "data": {
      "text/plain": [
       "(696962, 4)"
      ]
     },
     "execution_count": 40,
     "metadata": {},
     "output_type": "execute_result"
    },
    {
     "data": {
      "application/javascript": [
       "\n",
       "            setTimeout(function() {\n",
       "                var nbb_cell_id = 40;\n",
       "                var nbb_unformatted_code = \"tweets8.shape\";\n",
       "                var nbb_formatted_code = \"tweets8.shape\";\n",
       "                var nbb_cells = Jupyter.notebook.get_cells();\n",
       "                for (var i = 0; i < nbb_cells.length; ++i) {\n",
       "                    if (nbb_cells[i].input_prompt_number == nbb_cell_id) {\n",
       "                        if (nbb_cells[i].get_text() == nbb_unformatted_code) {\n",
       "                             nbb_cells[i].set_text(nbb_formatted_code);\n",
       "                        }\n",
       "                        break;\n",
       "                    }\n",
       "                }\n",
       "            }, 500);\n",
       "            "
      ],
      "text/plain": [
       "<IPython.core.display.Javascript object>"
      ]
     },
     "metadata": {},
     "output_type": "display_data"
    }
   ],
   "source": [
    "tweets8.shape"
   ]
  },
  {
   "cell_type": "code",
   "execution_count": 45,
   "metadata": {},
   "outputs": [
    {
     "data": {
      "application/javascript": [
       "\n",
       "            setTimeout(function() {\n",
       "                var nbb_cell_id = 45;\n",
       "                var nbb_unformatted_code = \"# remove cuss words\";\n",
       "                var nbb_formatted_code = \"# remove cuss words\";\n",
       "                var nbb_cells = Jupyter.notebook.get_cells();\n",
       "                for (var i = 0; i < nbb_cells.length; ++i) {\n",
       "                    if (nbb_cells[i].input_prompt_number == nbb_cell_id) {\n",
       "                        if (nbb_cells[i].get_text() == nbb_unformatted_code) {\n",
       "                             nbb_cells[i].set_text(nbb_formatted_code);\n",
       "                        }\n",
       "                        break;\n",
       "                    }\n",
       "                }\n",
       "            }, 500);\n",
       "            "
      ],
      "text/plain": [
       "<IPython.core.display.Javascript object>"
      ]
     },
     "metadata": {},
     "output_type": "display_data"
    }
   ],
   "source": [
    "# remove cuss words"
   ]
  },
  {
   "cell_type": "code",
   "execution_count": 46,
   "metadata": {},
   "outputs": [
    {
     "data": {
      "application/javascript": [
       "\n",
       "            setTimeout(function() {\n",
       "                var nbb_cell_id = 46;\n",
       "                var nbb_unformatted_code = \"# tweet bot will have a drop down for topic and seperate one for twitter user account\";\n",
       "                var nbb_formatted_code = \"# tweet bot will have a drop down for topic and seperate one for twitter user account\";\n",
       "                var nbb_cells = Jupyter.notebook.get_cells();\n",
       "                for (var i = 0; i < nbb_cells.length; ++i) {\n",
       "                    if (nbb_cells[i].input_prompt_number == nbb_cell_id) {\n",
       "                        if (nbb_cells[i].get_text() == nbb_unformatted_code) {\n",
       "                             nbb_cells[i].set_text(nbb_formatted_code);\n",
       "                        }\n",
       "                        break;\n",
       "                    }\n",
       "                }\n",
       "            }, 500);\n",
       "            "
      ],
      "text/plain": [
       "<IPython.core.display.Javascript object>"
      ]
     },
     "metadata": {},
     "output_type": "display_data"
    }
   ],
   "source": [
    "# tweet bot will have a drop down for topic and seperate one for twitter user account\n"
   ]
  },
  {
   "cell_type": "code",
   "execution_count": null,
   "metadata": {},
   "outputs": [],
   "source": []
  }
 ],
 "metadata": {
  "kernelspec": {
   "display_name": "Python 3",
   "language": "python",
   "name": "python3"
  },
  "language_info": {
   "codemirror_mode": {
    "name": "ipython",
    "version": 3
   },
   "file_extension": ".py",
   "mimetype": "text/x-python",
   "name": "python",
   "nbconvert_exporter": "python",
   "pygments_lexer": "ipython3",
   "version": "3.7.6"
  }
 },
 "nbformat": 4,
 "nbformat_minor": 4
}
