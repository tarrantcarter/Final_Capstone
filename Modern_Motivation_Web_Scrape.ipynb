{
 "cells": [
  {
   "cell_type": "code",
   "execution_count": 1,
   "metadata": {},
   "outputs": [],
   "source": [
    "!pip install git+https://github.com/JustAnotherArchivist/snscrape.git --quiet"
   ]
  },
  {
   "cell_type": "code",
   "execution_count": 2,
   "metadata": {},
   "outputs": [],
   "source": [
    "import pandas as pd\n",
    "import os\n",
    "import time"
   ]
  },
  {
   "cell_type": "code",
   "execution_count": 3,
   "metadata": {},
   "outputs": [],
   "source": [
    "usernames = ['LewisHowes','StephenRCovey','briantracy','WayneDyerQuotes','TonyRobbins101','RobinSharma',\n",
    "             'Jim_Rohn_Quotes','JimRohnBot','Jimrohnwords','sharmaisms','OneWiseMan__','OprahQuote',\n",
    "             'OprahsQuotes','bobproctorLIVE','QuotesGoggins','GaryVQuotes','GaryVee_Quotes','simonsinek',\n",
    "             'dailystoic','BrendonBurchard','TomBilyeu','ReelLifeWisdom','StoicQuoteBot','TimelessStoic',\n",
    "             'lawsofaurelius','QuoteAurelius','QuoteBuffett','jimkwik','ShawnModel','marieforleo',\n",
    "             'DaveRamsey','thesuccesstalk','SuccessQotes','InsipereLifeMe','MotivateMsgs','MotivationalUi',\n",
    "             'InspiredUs','Life__Quotes']"
   ]
  },
  {
   "cell_type": "code",
   "execution_count": 4,
   "metadata": {},
   "outputs": [
    {
     "name": "stdout",
     "output_type": "stream",
     "text": [
      "01 hours, 43 minutes, 45 seconds\n"
     ]
    }
   ],
   "source": [
    "# Start scraping runtime\n",
    "start_time = time.time()\n",
    "\n",
    "# Setting variables to be used in format string command below\n",
    "tweet_count = 300000\n",
    "\n",
    "tweets = pd.DataFrame()\n",
    "\n",
    "for username in usernames:\n",
    "    # Using OS library to call CLI commands in Python\n",
    "    os.system(\"snscrape --jsonl --max-results {} twitter-search 'from:{}'> user-tweets.json\".format(tweet_count, username))\n",
    "    # Reads the json generated from the CLI command above and creates a pandas dataframe\n",
    "    user_tweets = pd.read_json('user-tweets.json', lines=True)\n",
    "    # Append user tweets to dataframe with all tweets\n",
    "    tweets = tweets.append(user_tweets)\n",
    "\n",
    "# Print scraping runtime\n",
    "print(time.strftime(f'%H hours, %M minutes, %S seconds', time.gmtime(time.time() - start_time)))\n"
   ]
  },
  {
   "cell_type": "code",
   "execution_count": 5,
   "metadata": {},
   "outputs": [
    {
     "data": {
      "text/html": [
       "<div>\n",
       "<style scoped>\n",
       "    .dataframe tbody tr th:only-of-type {\n",
       "        vertical-align: middle;\n",
       "    }\n",
       "\n",
       "    .dataframe tbody tr th {\n",
       "        vertical-align: top;\n",
       "    }\n",
       "\n",
       "    .dataframe thead th {\n",
       "        text-align: right;\n",
       "    }\n",
       "</style>\n",
       "<table border=\"1\" class=\"dataframe\">\n",
       "  <thead>\n",
       "    <tr style=\"text-align: right;\">\n",
       "      <th></th>\n",
       "      <th>url</th>\n",
       "      <th>date</th>\n",
       "      <th>content</th>\n",
       "      <th>renderedContent</th>\n",
       "      <th>id</th>\n",
       "      <th>user</th>\n",
       "      <th>outlinks</th>\n",
       "      <th>tcooutlinks</th>\n",
       "      <th>replyCount</th>\n",
       "      <th>retweetCount</th>\n",
       "      <th>...</th>\n",
       "      <th>quoteCount</th>\n",
       "      <th>conversationId</th>\n",
       "      <th>lang</th>\n",
       "      <th>source</th>\n",
       "      <th>sourceUrl</th>\n",
       "      <th>sourceLabel</th>\n",
       "      <th>media</th>\n",
       "      <th>retweetedTweet</th>\n",
       "      <th>quotedTweet</th>\n",
       "      <th>mentionedUsers</th>\n",
       "    </tr>\n",
       "  </thead>\n",
       "  <tbody>\n",
       "    <tr>\n",
       "      <th>0</th>\n",
       "      <td>https://twitter.com/LewisHowes/status/13513399...</td>\n",
       "      <td>2021-01-19 01:25:18+00:00</td>\n",
       "      <td>@Arashdeep2002 Exactly! 💯</td>\n",
       "      <td>@Arashdeep2002 Exactly! 💯</td>\n",
       "      <td>1351339921307545606</td>\n",
       "      <td>{'username': 'LewisHowes', 'displayname': 'Lew...</td>\n",
       "      <td>[]</td>\n",
       "      <td>[]</td>\n",
       "      <td>0</td>\n",
       "      <td>0</td>\n",
       "      <td>...</td>\n",
       "      <td>0</td>\n",
       "      <td>1167437342069727233</td>\n",
       "      <td>en</td>\n",
       "      <td>&lt;a href=\"http://www.zendesk.com\" rel=\"nofollow...</td>\n",
       "      <td>http://www.zendesk.com</td>\n",
       "      <td>Zendesk</td>\n",
       "      <td>None</td>\n",
       "      <td>NaN</td>\n",
       "      <td>None</td>\n",
       "      <td>[{'username': 'Arashdeep2002', 'displayname': ...</td>\n",
       "    </tr>\n",
       "    <tr>\n",
       "      <th>1</th>\n",
       "      <td>https://twitter.com/LewisHowes/status/13513130...</td>\n",
       "      <td>2021-01-18 23:38:31+00:00</td>\n",
       "      <td>@EDGcoach Thank you!</td>\n",
       "      <td>@EDGcoach Thank you!</td>\n",
       "      <td>1351313050159222786</td>\n",
       "      <td>{'username': 'LewisHowes', 'displayname': 'Lew...</td>\n",
       "      <td>[]</td>\n",
       "      <td>[]</td>\n",
       "      <td>1</td>\n",
       "      <td>0</td>\n",
       "      <td>...</td>\n",
       "      <td>0</td>\n",
       "      <td>1350507769602965505</td>\n",
       "      <td>en</td>\n",
       "      <td>&lt;a href=\"http://www.zendesk.com\" rel=\"nofollow...</td>\n",
       "      <td>http://www.zendesk.com</td>\n",
       "      <td>Zendesk</td>\n",
       "      <td>None</td>\n",
       "      <td>NaN</td>\n",
       "      <td>None</td>\n",
       "      <td>[{'username': 'EDGcoach', 'displayname': 'Empo...</td>\n",
       "    </tr>\n",
       "    <tr>\n",
       "      <th>2</th>\n",
       "      <td>https://twitter.com/LewisHowes/status/13513042...</td>\n",
       "      <td>2021-01-18 23:03:45+00:00</td>\n",
       "      <td>@ogony_john Indeed! Thanks a lot for the tweet! 🙌</td>\n",
       "      <td>@ogony_john Indeed! Thanks a lot for the tweet! 🙌</td>\n",
       "      <td>1351304297653350400</td>\n",
       "      <td>{'username': 'LewisHowes', 'displayname': 'Lew...</td>\n",
       "      <td>[]</td>\n",
       "      <td>[]</td>\n",
       "      <td>0</td>\n",
       "      <td>0</td>\n",
       "      <td>...</td>\n",
       "      <td>0</td>\n",
       "      <td>1350102468126883842</td>\n",
       "      <td>en</td>\n",
       "      <td>&lt;a href=\"http://www.zendesk.com\" rel=\"nofollow...</td>\n",
       "      <td>http://www.zendesk.com</td>\n",
       "      <td>Zendesk</td>\n",
       "      <td>None</td>\n",
       "      <td>NaN</td>\n",
       "      <td>None</td>\n",
       "      <td>[{'username': 'ogony_john', 'displayname': 'OG...</td>\n",
       "    </tr>\n",
       "    <tr>\n",
       "      <th>3</th>\n",
       "      <td>https://twitter.com/LewisHowes/status/13512669...</td>\n",
       "      <td>2021-01-18 20:35:31+00:00</td>\n",
       "      <td>I hope this speaks to you today 🙏 https://t.co...</td>\n",
       "      <td>I hope this speaks to you today 🙏 https://t.co...</td>\n",
       "      <td>1351266994746609666</td>\n",
       "      <td>{'username': 'LewisHowes', 'displayname': 'Lew...</td>\n",
       "      <td>[]</td>\n",
       "      <td>[]</td>\n",
       "      <td>17</td>\n",
       "      <td>58</td>\n",
       "      <td>...</td>\n",
       "      <td>8</td>\n",
       "      <td>1351266994746609666</td>\n",
       "      <td>en</td>\n",
       "      <td>&lt;a href=\"http://twitter.com/download/iphone\" r...</td>\n",
       "      <td>http://twitter.com/download/iphone</td>\n",
       "      <td>Twitter for iPhone</td>\n",
       "      <td>[{'previewUrl': 'https://pbs.twimg.com/media/E...</td>\n",
       "      <td>NaN</td>\n",
       "      <td>None</td>\n",
       "      <td>None</td>\n",
       "    </tr>\n",
       "    <tr>\n",
       "      <th>4</th>\n",
       "      <td>https://twitter.com/LewisHowes/status/13511821...</td>\n",
       "      <td>2021-01-18 14:58:29+00:00</td>\n",
       "      <td>@reubenchavez9 Thank you for sharing your thou...</td>\n",
       "      <td>@reubenchavez9 Thank you for sharing your thou...</td>\n",
       "      <td>1351182177401245711</td>\n",
       "      <td>{'username': 'LewisHowes', 'displayname': 'Lew...</td>\n",
       "      <td>[]</td>\n",
       "      <td>[]</td>\n",
       "      <td>0</td>\n",
       "      <td>0</td>\n",
       "      <td>...</td>\n",
       "      <td>0</td>\n",
       "      <td>1350102468126883842</td>\n",
       "      <td>en</td>\n",
       "      <td>&lt;a href=\"http://www.zendesk.com\" rel=\"nofollow...</td>\n",
       "      <td>http://www.zendesk.com</td>\n",
       "      <td>Zendesk</td>\n",
       "      <td>None</td>\n",
       "      <td>NaN</td>\n",
       "      <td>None</td>\n",
       "      <td>[{'username': 'reubenchavez9', 'displayname': ...</td>\n",
       "    </tr>\n",
       "  </tbody>\n",
       "</table>\n",
       "<p>5 rows × 21 columns</p>\n",
       "</div>"
      ],
      "text/plain": [
       "                                                 url  \\\n",
       "0  https://twitter.com/LewisHowes/status/13513399...   \n",
       "1  https://twitter.com/LewisHowes/status/13513130...   \n",
       "2  https://twitter.com/LewisHowes/status/13513042...   \n",
       "3  https://twitter.com/LewisHowes/status/13512669...   \n",
       "4  https://twitter.com/LewisHowes/status/13511821...   \n",
       "\n",
       "                       date  \\\n",
       "0 2021-01-19 01:25:18+00:00   \n",
       "1 2021-01-18 23:38:31+00:00   \n",
       "2 2021-01-18 23:03:45+00:00   \n",
       "3 2021-01-18 20:35:31+00:00   \n",
       "4 2021-01-18 14:58:29+00:00   \n",
       "\n",
       "                                             content  \\\n",
       "0                          @Arashdeep2002 Exactly! 💯   \n",
       "1                               @EDGcoach Thank you!   \n",
       "2  @ogony_john Indeed! Thanks a lot for the tweet! 🙌   \n",
       "3  I hope this speaks to you today 🙏 https://t.co...   \n",
       "4  @reubenchavez9 Thank you for sharing your thou...   \n",
       "\n",
       "                                     renderedContent                   id  \\\n",
       "0                          @Arashdeep2002 Exactly! 💯  1351339921307545606   \n",
       "1                               @EDGcoach Thank you!  1351313050159222786   \n",
       "2  @ogony_john Indeed! Thanks a lot for the tweet! 🙌  1351304297653350400   \n",
       "3  I hope this speaks to you today 🙏 https://t.co...  1351266994746609666   \n",
       "4  @reubenchavez9 Thank you for sharing your thou...  1351182177401245711   \n",
       "\n",
       "                                                user outlinks tcooutlinks  \\\n",
       "0  {'username': 'LewisHowes', 'displayname': 'Lew...       []          []   \n",
       "1  {'username': 'LewisHowes', 'displayname': 'Lew...       []          []   \n",
       "2  {'username': 'LewisHowes', 'displayname': 'Lew...       []          []   \n",
       "3  {'username': 'LewisHowes', 'displayname': 'Lew...       []          []   \n",
       "4  {'username': 'LewisHowes', 'displayname': 'Lew...       []          []   \n",
       "\n",
       "   replyCount  retweetCount  ...  quoteCount       conversationId  lang  \\\n",
       "0           0             0  ...           0  1167437342069727233    en   \n",
       "1           1             0  ...           0  1350507769602965505    en   \n",
       "2           0             0  ...           0  1350102468126883842    en   \n",
       "3          17            58  ...           8  1351266994746609666    en   \n",
       "4           0             0  ...           0  1350102468126883842    en   \n",
       "\n",
       "                                              source  \\\n",
       "0  <a href=\"http://www.zendesk.com\" rel=\"nofollow...   \n",
       "1  <a href=\"http://www.zendesk.com\" rel=\"nofollow...   \n",
       "2  <a href=\"http://www.zendesk.com\" rel=\"nofollow...   \n",
       "3  <a href=\"http://twitter.com/download/iphone\" r...   \n",
       "4  <a href=\"http://www.zendesk.com\" rel=\"nofollow...   \n",
       "\n",
       "                            sourceUrl         sourceLabel  \\\n",
       "0              http://www.zendesk.com             Zendesk   \n",
       "1              http://www.zendesk.com             Zendesk   \n",
       "2              http://www.zendesk.com             Zendesk   \n",
       "3  http://twitter.com/download/iphone  Twitter for iPhone   \n",
       "4              http://www.zendesk.com             Zendesk   \n",
       "\n",
       "                                               media retweetedTweet  \\\n",
       "0                                               None            NaN   \n",
       "1                                               None            NaN   \n",
       "2                                               None            NaN   \n",
       "3  [{'previewUrl': 'https://pbs.twimg.com/media/E...            NaN   \n",
       "4                                               None            NaN   \n",
       "\n",
       "   quotedTweet                                     mentionedUsers  \n",
       "0         None  [{'username': 'Arashdeep2002', 'displayname': ...  \n",
       "1         None  [{'username': 'EDGcoach', 'displayname': 'Empo...  \n",
       "2         None  [{'username': 'ogony_john', 'displayname': 'OG...  \n",
       "3         None                                               None  \n",
       "4         None  [{'username': 'reubenchavez9', 'displayname': ...  \n",
       "\n",
       "[5 rows x 21 columns]"
      ]
     },
     "execution_count": 5,
     "metadata": {},
     "output_type": "execute_result"
    }
   ],
   "source": [
    "# Displays first 5 entries from dataframe\n",
    "tweets.head()"
   ]
  },
  {
   "cell_type": "code",
   "execution_count": 6,
   "metadata": {
    "scrolled": true
   },
   "outputs": [
    {
     "name": "stdout",
     "output_type": "stream",
     "text": [
      "<class 'pandas.core.frame.DataFrame'>\n",
      "Int64Index: 977458 entries, 0 to 152205\n",
      "Data columns (total 21 columns):\n",
      " #   Column           Non-Null Count   Dtype              \n",
      "---  ------           --------------   -----              \n",
      " 0   url              977458 non-null  object             \n",
      " 1   date             977458 non-null  datetime64[ns, UTC]\n",
      " 2   content          977458 non-null  object             \n",
      " 3   renderedContent  977458 non-null  object             \n",
      " 4   id               977458 non-null  int64              \n",
      " 5   user             977458 non-null  object             \n",
      " 6   outlinks         977458 non-null  object             \n",
      " 7   tcooutlinks      977458 non-null  object             \n",
      " 8   replyCount       977458 non-null  int64              \n",
      " 9   retweetCount     977458 non-null  int64              \n",
      " 10  likeCount        977458 non-null  int64              \n",
      " 11  quoteCount       977458 non-null  int64              \n",
      " 12  conversationId   977458 non-null  int64              \n",
      " 13  lang             977458 non-null  object             \n",
      " 14  source           977458 non-null  object             \n",
      " 15  sourceUrl        977457 non-null  object             \n",
      " 16  sourceLabel      977457 non-null  object             \n",
      " 17  media            33106 non-null   object             \n",
      " 18  retweetedTweet   0 non-null       float64            \n",
      " 19  quotedTweet      2106 non-null    object             \n",
      " 20  mentionedUsers   158538 non-null  object             \n",
      "dtypes: datetime64[ns, UTC](1), float64(1), int64(6), object(13)\n",
      "memory usage: 164.1+ MB\n"
     ]
    }
   ],
   "source": [
    "tweets.info()"
   ]
  },
  {
   "cell_type": "code",
   "execution_count": 17,
   "metadata": {},
   "outputs": [],
   "source": [
    "tweets2 = tweets.reset_index(inplace=True)"
   ]
  },
  {
   "cell_type": "code",
   "execution_count": 20,
   "metadata": {},
   "outputs": [
    {
     "ename": "AttributeError",
     "evalue": "'NoneType' object has no attribute 'head'",
     "output_type": "error",
     "traceback": [
      "\u001b[0;31m---------------------------------------------------------------------------\u001b[0m",
      "\u001b[0;31mAttributeError\u001b[0m                            Traceback (most recent call last)",
      "\u001b[0;32m<ipython-input-20-5dc86d3312dd>\u001b[0m in \u001b[0;36m<module>\u001b[0;34m\u001b[0m\n\u001b[0;32m----> 1\u001b[0;31m \u001b[0mtweets2\u001b[0m\u001b[0;34m.\u001b[0m\u001b[0mhead\u001b[0m\u001b[0;34m(\u001b[0m\u001b[0;34m)\u001b[0m\u001b[0;34m\u001b[0m\u001b[0;34m\u001b[0m\u001b[0m\n\u001b[0m",
      "\u001b[0;31mAttributeError\u001b[0m: 'NoneType' object has no attribute 'head'"
     ]
    }
   ],
   "source": [
    "tweets2.head()"
   ]
  },
  {
   "cell_type": "code",
   "execution_count": 22,
   "metadata": {},
   "outputs": [],
   "source": [
    "# Export dataframe into a CSV\n",
    "tweets.to_json('motivational_tweets.json', orient='columns')"
   ]
  },
  {
   "cell_type": "code",
   "execution_count": 23,
   "metadata": {},
   "outputs": [],
   "source": [
    "# Export dataframe into a CSV\n",
    "tweets.to_csv('text-query-tweets.csv', sep=',', index=True)"
   ]
  },
  {
   "cell_type": "code",
   "execution_count": 24,
   "metadata": {},
   "outputs": [
    {
     "ename": "TypeError",
     "evalue": "to_excel() got an unexpected keyword argument 'sep'",
     "output_type": "error",
     "traceback": [
      "\u001b[0;31m---------------------------------------------------------------------------\u001b[0m",
      "\u001b[0;31mTypeError\u001b[0m                                 Traceback (most recent call last)",
      "\u001b[0;32m<ipython-input-24-7b099ffe7934>\u001b[0m in \u001b[0;36m<module>\u001b[0;34m\u001b[0m\n\u001b[1;32m      1\u001b[0m \u001b[0;31m# Export dataframe into a CSV\u001b[0m\u001b[0;34m\u001b[0m\u001b[0;34m\u001b[0m\u001b[0;34m\u001b[0m\u001b[0m\n\u001b[0;32m----> 2\u001b[0;31m \u001b[0mtweets\u001b[0m\u001b[0;34m.\u001b[0m\u001b[0mto_excel\u001b[0m\u001b[0;34m(\u001b[0m\u001b[0;34m'text-query-tweets.csv'\u001b[0m\u001b[0;34m,\u001b[0m \u001b[0msep\u001b[0m\u001b[0;34m=\u001b[0m\u001b[0;34m','\u001b[0m\u001b[0;34m,\u001b[0m \u001b[0mindex\u001b[0m\u001b[0;34m=\u001b[0m\u001b[0;32mTrue\u001b[0m\u001b[0;34m)\u001b[0m\u001b[0;34m\u001b[0m\u001b[0;34m\u001b[0m\u001b[0m\n\u001b[0m",
      "\u001b[0;31mTypeError\u001b[0m: to_excel() got an unexpected keyword argument 'sep'"
     ]
    }
   ],
   "source": [
    "# Export dataframe into a CSV\n",
    "tweets.to_excel('text-query-tweets.csv', sep=',', index=True)"
   ]
  },
  {
   "cell_type": "code",
   "execution_count": null,
   "metadata": {},
   "outputs": [],
   "source": []
  }
 ],
 "metadata": {
  "kernelspec": {
   "display_name": "Python 3",
   "language": "python",
   "name": "python3"
  },
  "language_info": {
   "codemirror_mode": {
    "name": "ipython",
    "version": 3
   },
   "file_extension": ".py",
   "mimetype": "text/x-python",
   "name": "python",
   "nbconvert_exporter": "python",
   "pygments_lexer": "ipython3",
   "version": "3.7.6"
  }
 },
 "nbformat": 4,
 "nbformat_minor": 4
}
