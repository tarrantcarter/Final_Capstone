{
  "nbformat": 4,
  "nbformat_minor": 0,
  "metadata": {
    "kernelspec": {
      "display_name": "Python 3",
      "language": "python",
      "name": "python3"
    },
    "language_info": {
      "codemirror_mode": {
        "name": "ipython",
        "version": 3
      },
      "file_extension": ".py",
      "mimetype": "text/x-python",
      "name": "python",
      "nbconvert_exporter": "python",
      "pygments_lexer": "ipython3",
      "version": "3.7.6"
    },
    "colab": {
      "name": "Modeling_Motivational_Tweet_Generator.ipynb",
      "provenance": [],
      "collapsed_sections": [],
      "machine_shape": "hm"
    }
  },
  "cells": [
    {
      "cell_type": "markdown",
      "metadata": {
        "id": "Wu0NRpV_yHdW"
      },
      "source": [
        "# Topic Modeling\n",
        "Topic modeling is an unsupervised method that involves both dimensionality reduction and clustering text data into meaningful topics. There are several common approaches for text data. One such approach is **LSA (Latent Semantic Analysis)**. The core idea behind LSA is to take a matrix that already contains documents (tweets) and words, then decompose those into two matrices, one document (tweet) to topic matrix, and one a topic to word matrix. This allows one to find similiarity of different documents and different words. However, there are several downsides to using LSA. One is a lack of interpretability compared to the other approaches I will discuss. LSA also needs a large set of documents for accurate results. \n",
        "\n",
        "Another approach to discuss is **PLSA (Probabilistic latent Semantic Analysis)**. PLSA adds a probabistic spin to LSA. So each document (tweet) will have a probability of belonging in each category. However, PLSA is prone to ovefitting because it scales linearly as number of parameters increase. \n",
        "\n",
        "The approach used for the project will be **LDA (Latent Dirichlet Allocation)**. LDA is really just a Bayesian version of PLSA. The benefit of modeling with LDA is that it generalizes the best of the 3 approaches. This has to do with the two parameters alpha and beta which take advantage of dirichlet distributions. A deeper discussion on dirichlet distributions can be found [here](https://medium.com/@souravboss.bose/comprehensive-topic-modelling-with-nmf-lsa-plsa-lda-lda2vec-part-2-e3921e712f11). LDA will be choosen for this project mainly for its ability generalize better than the alternatives. "
      ]
    },
    {
      "cell_type": "code",
      "metadata": {
        "id": "nlGN9q2hB1ms"
      },
      "source": [
        "!pip install pyLDAvis --quiet\n",
        "!pip install chart_studio --quiet\n"
      ],
      "execution_count": null,
      "outputs": []
    },
    {
      "cell_type": "code",
      "metadata": {
        "id": "S39PKkWJTM6_"
      },
      "source": [
        "import pandas as pd\n",
        "import numpy as np\n",
        "import time\n",
        "import re\n",
        "import warnings\n",
        "import matplotlib.pyplot as plt\n",
        "import seaborn as sns\n",
        "from sklearn.decomposition import LatentDirichletAllocation\n",
        "import gensim\n",
        "from spacy.tokenizer import Tokenizer\n",
        "import gensim.corpora as corpora\n",
        "from gensim.models.ldamulticore import LdaMulticore\n",
        "from pprint import pprint\n",
        "from gensim.models.coherencemodel import CoherenceModel\n",
        "import plotly.express as px\n",
        "import pyLDAvis.gensim\n",
        "import chart_studio\n",
        "import chart_studio.plotly as py \n",
        "import chart_studio.tools as tls\n",
        "from operator import itemgetter\n",
        "from ipywidgets import interact\n",
        "import tqdm\n",
        "from IPython.display import display, Markdown, clear_output\n",
        "# widget packages\n",
        "import ipywidgets as widgets\n",
        "\n",
        "\n",
        "# supress warnings\n",
        "warnings.filterwarnings(\"ignore\")"
      ],
      "execution_count": null,
      "outputs": []
    },
    {
      "cell_type": "code",
      "metadata": {
        "colab": {
          "base_uri": "https://localhost:8080/"
        },
        "id": "rOCdohTeTVXy",
        "outputId": "e14743fb-e1cf-4ffd-e12f-ca90af4248f3"
      },
      "source": [
        "from google.colab import drive\n",
        "drive.mount('/content/drive')"
      ],
      "execution_count": null,
      "outputs": [
        {
          "output_type": "stream",
          "text": [
            "Drive already mounted at /content/drive; to attempt to forcibly remount, call drive.mount(\"/content/drive\", force_remount=True).\n"
          ],
          "name": "stdout"
        }
      ]
    },
    {
      "cell_type": "markdown",
      "metadata": {
        "id": "6IvJKQxX02eY"
      },
      "source": [
        "We will load in our preprocessed tweets from our [data cleaning notebook](https://github.com/tarrantcarter/Final_Capstone/blob/main/Data_Preprocessing_Motivational_Tweet_Generator.ipynb). The csv can be found [here](https://drive.google.com/file/d/1-d-61YuocweY0F3rSnf-idL1ixbuKq4H/view?usp=sharing). "
      ]
    },
    {
      "cell_type": "code",
      "metadata": {
        "id": "4BbNTyvSTM6_"
      },
      "source": [
        "# load in cleaned tweets from data cleaning notebook\n",
        "tweets_cleaned = pd.read_json(\"/content/drive/MyDrive/Data/NLP_Capstone/motivational_tweets_cleaned.json\")"
      ],
      "execution_count": null,
      "outputs": []
    },
    {
      "cell_type": "code",
      "metadata": {
        "colab": {
          "base_uri": "https://localhost:8080/",
          "height": 598
        },
        "id": "7f_G-wOgTM7A",
        "outputId": "683f29c7-f6d1-4142-fcdb-7015e246a612"
      },
      "source": [
        "tweets_cleaned.head()"
      ],
      "execution_count": null,
      "outputs": [
        {
          "output_type": "execute_result",
          "data": {
            "text/html": [
              "<div>\n",
              "<style scoped>\n",
              "    .dataframe tbody tr th:only-of-type {\n",
              "        vertical-align: middle;\n",
              "    }\n",
              "\n",
              "    .dataframe tbody tr th {\n",
              "        vertical-align: top;\n",
              "    }\n",
              "\n",
              "    .dataframe thead th {\n",
              "        text-align: right;\n",
              "    }\n",
              "</style>\n",
              "<table border=\"1\" class=\"dataframe\">\n",
              "  <thead>\n",
              "    <tr style=\"text-align: right;\">\n",
              "      <th></th>\n",
              "      <th>date</th>\n",
              "      <th>user_name</th>\n",
              "      <th>content</th>\n",
              "      <th>content_preprocessed</th>\n",
              "      <th>unigram_tokens</th>\n",
              "      <th>ngrams</th>\n",
              "      <th>ngram_tokens</th>\n",
              "      <th>nouns_only</th>\n",
              "      <th>nouns_verbs</th>\n",
              "      <th>bigrams_trigrams</th>\n",
              "      <th>bigrams_trigrams_strings</th>\n",
              "    </tr>\n",
              "  </thead>\n",
              "  <tbody>\n",
              "    <tr>\n",
              "      <th>44</th>\n",
              "      <td>2021-01-17 22:13:17</td>\n",
              "      <td>LewisHowes</td>\n",
              "      <td>Know this. Everything is happening for a reaso...</td>\n",
              "      <td>know happen reason favor betterment future pai...</td>\n",
              "      <td>[know, happen, reason, favor, betterment, futu...</td>\n",
              "      <td>know_happen_reason favor betterment future pai...</td>\n",
              "      <td>[know_happen_reason, favor, betterment, future...</td>\n",
              "      <td>[reason, favor, betterment, future, pain, feel...</td>\n",
              "      <td>[know, reason, favor, betterment, future, pain...</td>\n",
              "      <td>[know_happen_reason]</td>\n",
              "      <td>know_happen_reason</td>\n",
              "    </tr>\n",
              "    <tr>\n",
              "      <th>61</th>\n",
              "      <td>2021-01-15 15:28:06</td>\n",
              "      <td>LewisHowes</td>\n",
              "      <td>Protect your inner peace at all costs. Create ...</td>\n",
              "      <td>protect inner peace cost create daily practice...</td>\n",
              "      <td>[protect, inner, peace, cost, create, daily, p...</td>\n",
              "      <td>protect inner_peace cost create daily_practice...</td>\n",
              "      <td>[protect, inner_peace, cost, create, daily_pra...</td>\n",
              "      <td>[peace, cost, practice, communicate, stress, d...</td>\n",
              "      <td>[peace, cost, practice, communicate, stress, d...</td>\n",
              "      <td>[inner_peace, daily_practice]</td>\n",
              "      <td>inner_peace daily_practice</td>\n",
              "    </tr>\n",
              "    <tr>\n",
              "      <th>161</th>\n",
              "      <td>2021-01-07 16:00:29</td>\n",
              "      <td>LewisHowes</td>\n",
              "      <td>Always remember to ask for exactly what you wa...</td>\n",
              "      <td>remember ask exactly want ask love good health...</td>\n",
              "      <td>[remember, ask, exactly, want, ask, love, good...</td>\n",
              "      <td>remember ask exactly want ask love good health...</td>\n",
              "      <td>[remember, ask, exactly, want, ask, love, good...</td>\n",
              "      <td>[health, abundance, peace, ask, wisdom, creati...</td>\n",
              "      <td>[remember, health, abundance, peace, ask, wisd...</td>\n",
              "      <td>[health_abundance, ask_wisdom]</td>\n",
              "      <td>health_abundance ask_wisdom</td>\n",
              "    </tr>\n",
              "    <tr>\n",
              "      <th>274</th>\n",
              "      <td>2021-01-01 02:44:46</td>\n",
              "      <td>LewisHowes</td>\n",
              "      <td>This will be your greatest year ever. All your...</td>\n",
              "      <td>great year work start pay earn happy love deep...</td>\n",
              "      <td>[great, year, work, start, pay, earn, happy, l...</td>\n",
              "      <td>great year work start pay earn happy love deep...</td>\n",
              "      <td>[great, year, work, start, pay, earn, happy, l...</td>\n",
              "      <td>[year, work, start, earn, love, embrace, fear,...</td>\n",
              "      <td>[year, work, start, pay, earn, love, embrace, ...</td>\n",
              "      <td>[massive_action]</td>\n",
              "      <td>massive_action</td>\n",
              "    </tr>\n",
              "    <tr>\n",
              "      <th>317</th>\n",
              "      <td>2020-12-30 01:38:35</td>\n",
              "      <td>LewisHowes</td>\n",
              "      <td>Be grateful for the breakdown this year. It's ...</td>\n",
              "      <td>grateful breakdown year set massive breakthrou...</td>\n",
              "      <td>[grateful, breakdown, year, set, massive, brea...</td>\n",
              "      <td>grateful breakdown year set massive breakthrou...</td>\n",
              "      <td>[grateful, breakdown, year, set, massive, brea...</td>\n",
              "      <td>[year, breakthrough, money, mission, get, rela...</td>\n",
              "      <td>[year, set, breakthrough, money, come, mission...</td>\n",
              "      <td>[real_friend]</td>\n",
              "      <td>real_friend</td>\n",
              "    </tr>\n",
              "  </tbody>\n",
              "</table>\n",
              "</div>"
            ],
            "text/plain": [
              "                   date  ...     bigrams_trigrams_strings\n",
              "44  2021-01-17 22:13:17  ...           know_happen_reason\n",
              "61  2021-01-15 15:28:06  ...   inner_peace daily_practice\n",
              "161 2021-01-07 16:00:29  ...  health_abundance ask_wisdom\n",
              "274 2021-01-01 02:44:46  ...               massive_action\n",
              "317 2020-12-30 01:38:35  ...                  real_friend\n",
              "\n",
              "[5 rows x 11 columns]"
            ]
          },
          "metadata": {
            "tags": []
          },
          "execution_count": 5
        }
      ]
    },
    {
      "cell_type": "code",
      "metadata": {
        "colab": {
          "base_uri": "https://localhost:8080/",
          "height": 609
        },
        "id": "X5gUYa2fu5rc",
        "outputId": "29427378-ac25-446f-8d00-5d6ea40ca7c5"
      },
      "source": [
        "tweets_cleaned.applymap(type)"
      ],
      "execution_count": null,
      "outputs": [
        {
          "output_type": "execute_result",
          "data": {
            "text/html": [
              "<div>\n",
              "<style scoped>\n",
              "    .dataframe tbody tr th:only-of-type {\n",
              "        vertical-align: middle;\n",
              "    }\n",
              "\n",
              "    .dataframe tbody tr th {\n",
              "        vertical-align: top;\n",
              "    }\n",
              "\n",
              "    .dataframe thead th {\n",
              "        text-align: right;\n",
              "    }\n",
              "</style>\n",
              "<table border=\"1\" class=\"dataframe\">\n",
              "  <thead>\n",
              "    <tr style=\"text-align: right;\">\n",
              "      <th></th>\n",
              "      <th>date</th>\n",
              "      <th>user_name</th>\n",
              "      <th>content</th>\n",
              "      <th>content_preprocessed</th>\n",
              "      <th>unigram_tokens</th>\n",
              "      <th>ngrams</th>\n",
              "      <th>ngram_tokens</th>\n",
              "      <th>nouns_only</th>\n",
              "      <th>nouns_verbs</th>\n",
              "      <th>bigrams_trigrams</th>\n",
              "      <th>bigrams_trigrams_strings</th>\n",
              "    </tr>\n",
              "  </thead>\n",
              "  <tbody>\n",
              "    <tr>\n",
              "      <th>44</th>\n",
              "      <td>&lt;class 'pandas._libs.tslibs.timestamps.Timesta...</td>\n",
              "      <td>&lt;class 'str'&gt;</td>\n",
              "      <td>&lt;class 'str'&gt;</td>\n",
              "      <td>&lt;class 'str'&gt;</td>\n",
              "      <td>&lt;class 'list'&gt;</td>\n",
              "      <td>&lt;class 'str'&gt;</td>\n",
              "      <td>&lt;class 'list'&gt;</td>\n",
              "      <td>&lt;class 'list'&gt;</td>\n",
              "      <td>&lt;class 'list'&gt;</td>\n",
              "      <td>&lt;class 'list'&gt;</td>\n",
              "      <td>&lt;class 'str'&gt;</td>\n",
              "    </tr>\n",
              "    <tr>\n",
              "      <th>61</th>\n",
              "      <td>&lt;class 'pandas._libs.tslibs.timestamps.Timesta...</td>\n",
              "      <td>&lt;class 'str'&gt;</td>\n",
              "      <td>&lt;class 'str'&gt;</td>\n",
              "      <td>&lt;class 'str'&gt;</td>\n",
              "      <td>&lt;class 'list'&gt;</td>\n",
              "      <td>&lt;class 'str'&gt;</td>\n",
              "      <td>&lt;class 'list'&gt;</td>\n",
              "      <td>&lt;class 'list'&gt;</td>\n",
              "      <td>&lt;class 'list'&gt;</td>\n",
              "      <td>&lt;class 'list'&gt;</td>\n",
              "      <td>&lt;class 'str'&gt;</td>\n",
              "    </tr>\n",
              "    <tr>\n",
              "      <th>161</th>\n",
              "      <td>&lt;class 'pandas._libs.tslibs.timestamps.Timesta...</td>\n",
              "      <td>&lt;class 'str'&gt;</td>\n",
              "      <td>&lt;class 'str'&gt;</td>\n",
              "      <td>&lt;class 'str'&gt;</td>\n",
              "      <td>&lt;class 'list'&gt;</td>\n",
              "      <td>&lt;class 'str'&gt;</td>\n",
              "      <td>&lt;class 'list'&gt;</td>\n",
              "      <td>&lt;class 'list'&gt;</td>\n",
              "      <td>&lt;class 'list'&gt;</td>\n",
              "      <td>&lt;class 'list'&gt;</td>\n",
              "      <td>&lt;class 'str'&gt;</td>\n",
              "    </tr>\n",
              "    <tr>\n",
              "      <th>274</th>\n",
              "      <td>&lt;class 'pandas._libs.tslibs.timestamps.Timesta...</td>\n",
              "      <td>&lt;class 'str'&gt;</td>\n",
              "      <td>&lt;class 'str'&gt;</td>\n",
              "      <td>&lt;class 'str'&gt;</td>\n",
              "      <td>&lt;class 'list'&gt;</td>\n",
              "      <td>&lt;class 'str'&gt;</td>\n",
              "      <td>&lt;class 'list'&gt;</td>\n",
              "      <td>&lt;class 'list'&gt;</td>\n",
              "      <td>&lt;class 'list'&gt;</td>\n",
              "      <td>&lt;class 'list'&gt;</td>\n",
              "      <td>&lt;class 'str'&gt;</td>\n",
              "    </tr>\n",
              "    <tr>\n",
              "      <th>317</th>\n",
              "      <td>&lt;class 'pandas._libs.tslibs.timestamps.Timesta...</td>\n",
              "      <td>&lt;class 'str'&gt;</td>\n",
              "      <td>&lt;class 'str'&gt;</td>\n",
              "      <td>&lt;class 'str'&gt;</td>\n",
              "      <td>&lt;class 'list'&gt;</td>\n",
              "      <td>&lt;class 'str'&gt;</td>\n",
              "      <td>&lt;class 'list'&gt;</td>\n",
              "      <td>&lt;class 'list'&gt;</td>\n",
              "      <td>&lt;class 'list'&gt;</td>\n",
              "      <td>&lt;class 'list'&gt;</td>\n",
              "      <td>&lt;class 'str'&gt;</td>\n",
              "    </tr>\n",
              "    <tr>\n",
              "      <th>...</th>\n",
              "      <td>...</td>\n",
              "      <td>...</td>\n",
              "      <td>...</td>\n",
              "      <td>...</td>\n",
              "      <td>...</td>\n",
              "      <td>...</td>\n",
              "      <td>...</td>\n",
              "      <td>...</td>\n",
              "      <td>...</td>\n",
              "      <td>...</td>\n",
              "      <td>...</td>\n",
              "    </tr>\n",
              "    <tr>\n",
              "      <th>977598</th>\n",
              "      <td>&lt;class 'pandas._libs.tslibs.timestamps.Timesta...</td>\n",
              "      <td>&lt;class 'str'&gt;</td>\n",
              "      <td>&lt;class 'str'&gt;</td>\n",
              "      <td>&lt;class 'str'&gt;</td>\n",
              "      <td>&lt;class 'list'&gt;</td>\n",
              "      <td>&lt;class 'str'&gt;</td>\n",
              "      <td>&lt;class 'list'&gt;</td>\n",
              "      <td>&lt;class 'list'&gt;</td>\n",
              "      <td>&lt;class 'list'&gt;</td>\n",
              "      <td>&lt;class 'list'&gt;</td>\n",
              "      <td>&lt;class 'str'&gt;</td>\n",
              "    </tr>\n",
              "    <tr>\n",
              "      <th>977599</th>\n",
              "      <td>&lt;class 'pandas._libs.tslibs.timestamps.Timesta...</td>\n",
              "      <td>&lt;class 'str'&gt;</td>\n",
              "      <td>&lt;class 'str'&gt;</td>\n",
              "      <td>&lt;class 'str'&gt;</td>\n",
              "      <td>&lt;class 'list'&gt;</td>\n",
              "      <td>&lt;class 'str'&gt;</td>\n",
              "      <td>&lt;class 'list'&gt;</td>\n",
              "      <td>&lt;class 'list'&gt;</td>\n",
              "      <td>&lt;class 'list'&gt;</td>\n",
              "      <td>&lt;class 'list'&gt;</td>\n",
              "      <td>&lt;class 'str'&gt;</td>\n",
              "    </tr>\n",
              "    <tr>\n",
              "      <th>977606</th>\n",
              "      <td>&lt;class 'pandas._libs.tslibs.timestamps.Timesta...</td>\n",
              "      <td>&lt;class 'str'&gt;</td>\n",
              "      <td>&lt;class 'str'&gt;</td>\n",
              "      <td>&lt;class 'str'&gt;</td>\n",
              "      <td>&lt;class 'list'&gt;</td>\n",
              "      <td>&lt;class 'str'&gt;</td>\n",
              "      <td>&lt;class 'list'&gt;</td>\n",
              "      <td>&lt;class 'list'&gt;</td>\n",
              "      <td>&lt;class 'list'&gt;</td>\n",
              "      <td>&lt;class 'list'&gt;</td>\n",
              "      <td>&lt;class 'str'&gt;</td>\n",
              "    </tr>\n",
              "    <tr>\n",
              "      <th>977608</th>\n",
              "      <td>&lt;class 'pandas._libs.tslibs.timestamps.Timesta...</td>\n",
              "      <td>&lt;class 'str'&gt;</td>\n",
              "      <td>&lt;class 'str'&gt;</td>\n",
              "      <td>&lt;class 'str'&gt;</td>\n",
              "      <td>&lt;class 'list'&gt;</td>\n",
              "      <td>&lt;class 'str'&gt;</td>\n",
              "      <td>&lt;class 'list'&gt;</td>\n",
              "      <td>&lt;class 'list'&gt;</td>\n",
              "      <td>&lt;class 'list'&gt;</td>\n",
              "      <td>&lt;class 'list'&gt;</td>\n",
              "      <td>&lt;class 'str'&gt;</td>\n",
              "    </tr>\n",
              "    <tr>\n",
              "      <th>977610</th>\n",
              "      <td>&lt;class 'pandas._libs.tslibs.timestamps.Timesta...</td>\n",
              "      <td>&lt;class 'str'&gt;</td>\n",
              "      <td>&lt;class 'str'&gt;</td>\n",
              "      <td>&lt;class 'str'&gt;</td>\n",
              "      <td>&lt;class 'list'&gt;</td>\n",
              "      <td>&lt;class 'str'&gt;</td>\n",
              "      <td>&lt;class 'list'&gt;</td>\n",
              "      <td>&lt;class 'list'&gt;</td>\n",
              "      <td>&lt;class 'list'&gt;</td>\n",
              "      <td>&lt;class 'list'&gt;</td>\n",
              "      <td>&lt;class 'str'&gt;</td>\n",
              "    </tr>\n",
              "  </tbody>\n",
              "</table>\n",
              "<p>621449 rows × 11 columns</p>\n",
              "</div>"
            ],
            "text/plain": [
              "                                                     date  ... bigrams_trigrams_strings\n",
              "44      <class 'pandas._libs.tslibs.timestamps.Timesta...  ...            <class 'str'>\n",
              "61      <class 'pandas._libs.tslibs.timestamps.Timesta...  ...            <class 'str'>\n",
              "161     <class 'pandas._libs.tslibs.timestamps.Timesta...  ...            <class 'str'>\n",
              "274     <class 'pandas._libs.tslibs.timestamps.Timesta...  ...            <class 'str'>\n",
              "317     <class 'pandas._libs.tslibs.timestamps.Timesta...  ...            <class 'str'>\n",
              "...                                                   ...  ...                      ...\n",
              "977598  <class 'pandas._libs.tslibs.timestamps.Timesta...  ...            <class 'str'>\n",
              "977599  <class 'pandas._libs.tslibs.timestamps.Timesta...  ...            <class 'str'>\n",
              "977606  <class 'pandas._libs.tslibs.timestamps.Timesta...  ...            <class 'str'>\n",
              "977608  <class 'pandas._libs.tslibs.timestamps.Timesta...  ...            <class 'str'>\n",
              "977610  <class 'pandas._libs.tslibs.timestamps.Timesta...  ...            <class 'str'>\n",
              "\n",
              "[621449 rows x 11 columns]"
            ]
          },
          "metadata": {
            "tags": []
          },
          "execution_count": 6
        }
      ]
    },
    {
      "cell_type": "code",
      "metadata": {
        "colab": {
          "base_uri": "https://localhost:8080/"
        },
        "id": "30qByL1knIDP",
        "outputId": "e7661610-8408-4c0d-f8e2-dab496b7f64c"
      },
      "source": [
        "tweets_cleaned.info()"
      ],
      "execution_count": null,
      "outputs": [
        {
          "output_type": "stream",
          "text": [
            "<class 'pandas.core.frame.DataFrame'>\n",
            "Int64Index: 621449 entries, 44 to 977610\n",
            "Data columns (total 11 columns):\n",
            " #   Column                    Non-Null Count   Dtype         \n",
            "---  ------                    --------------   -----         \n",
            " 0   date                      621449 non-null  datetime64[ns]\n",
            " 1   user_name                 621449 non-null  object        \n",
            " 2   content                   621449 non-null  object        \n",
            " 3   content_preprocessed      621449 non-null  object        \n",
            " 4   unigram_tokens            621449 non-null  object        \n",
            " 5   ngrams                    621449 non-null  object        \n",
            " 6   ngram_tokens              621449 non-null  object        \n",
            " 7   nouns_only                621449 non-null  object        \n",
            " 8   nouns_verbs               621449 non-null  object        \n",
            " 9   bigrams_trigrams          621449 non-null  object        \n",
            " 10  bigrams_trigrams_strings  621449 non-null  object        \n",
            "dtypes: datetime64[ns](1), object(10)\n",
            "memory usage: 56.9+ MB\n"
          ],
          "name": "stdout"
        }
      ]
    },
    {
      "cell_type": "code",
      "metadata": {
        "colab": {
          "base_uri": "https://localhost:8080/"
        },
        "id": "8xOh3ReEndgg",
        "outputId": "681f1db8-ecde-4155-851d-bedde0e11192"
      },
      "source": [
        "tweets_cleaned.shape"
      ],
      "execution_count": null,
      "outputs": [
        {
          "output_type": "execute_result",
          "data": {
            "text/plain": [
              "(621449, 11)"
            ]
          },
          "metadata": {
            "tags": []
          },
          "execution_count": 8
        }
      ]
    },
    {
      "cell_type": "markdown",
      "metadata": {
        "id": "pHgDycOJX7MU"
      },
      "source": [
        "# Base Topic Model\n",
        "In the next steps the LDA model will be created and optimized, but I haven't metioned exactly how it will be scored and optimized. Perplexity and Coherence scores will be computed initially for a base model. Our anaylsis will focus mostly on Coherence score instead of perplexity. This is mostly because Coherence score matches closer to the human intuition of topics than perplexity does. For a further discussion on perplexity vs coherence score check out the link [here](http://qpleple.com/topic-coherence-to-evaluate-topic-models/). "
      ]
    },
    {
      "cell_type": "code",
      "metadata": {
        "colab": {
          "base_uri": "https://localhost:8080/"
        },
        "id": "g7hq1gAeTM7O",
        "outputId": "378c6be4-a5bf-4cd5-8a31-6945843d0206"
      },
      "source": [
        "# create dictionary\n",
        "id2word = corpora.Dictionary(tweets_cleaned['nouns_only'])\n",
        "# create texts corpus\n",
        "texts = tweets_cleaned['nouns_only']\n",
        "# term document frequency\n",
        "corpus = [id2word.doc2bow(text) for text in texts]\n",
        "# print first 30 tuples from corpus\n",
        "print(corpus[:1][0][:30])"
      ],
      "execution_count": null,
      "outputs": [
        {
          "output_type": "stream",
          "text": [
            "[(0, 1), (1, 1), (2, 1), (3, 1), (4, 1), (5, 1), (6, 1), (7, 1), (8, 1), (9, 1)]\n"
          ],
          "name": "stdout"
        }
      ]
    },
    {
      "cell_type": "code",
      "metadata": {
        "id": "fOrtT9glftHi"
      },
      "source": [
        "# number of topics\n",
        "num_topics = 10\n",
        "# build LDA model\n",
        "base_model = gensim.models.LdaMulticore(corpus=corpus,\n",
        "                                       id2word=id2word,\n",
        "                                       num_topics=num_topics)"
      ],
      "execution_count": null,
      "outputs": []
    },
    {
      "cell_type": "code",
      "metadata": {
        "colab": {
          "base_uri": "https://localhost:8080/"
        },
        "id": "l8N7x_QGk4Om",
        "outputId": "6a632b86-05c9-4c7b-ec07-9382e91dafbb"
      },
      "source": [
        "# filtering for words \n",
        "words = [re.findall(r'\"([^\"]*)\"',t[1]) for t in base_model.print_topics()]\n",
        "\n",
        "# create topic sorted by 10 most relevent words\n",
        "topics = [' '.join(t[0:10]) for t in words]\n",
        "\n",
        "\n",
        "# print most relevent words for each topic\n",
        "for id, t in enumerate(topics): \n",
        "    print(f\"------ Topic {id} ------\")\n",
        "    print(t, end=\"\\n\\n\")"
      ],
      "execution_count": null,
      "outputs": [
        {
          "output_type": "stream",
          "text": [
            "------ Topic 0 ------\n",
            "life power robert desire courage care difference question limit amp\n",
            "\n",
            "------ Topic 1 ------\n",
            "thing change einstein life albert churchill winston control end get\n",
            "\n",
            "------ Topic 2 ------\n",
            "amp dream problem feel energy fear think solve tzu obstacle\n",
            "\n",
            "------ Topic 3 ------\n",
            "mind peace moment opportunity body passion life place act define\n",
            "\n",
            "------ Topic 4 ------\n",
            "dyer life success world work person amp way failure fall\n",
            "\n",
            "------ Topic 5 ------\n",
            "look choice franklin soul henry truth life benjamin david mean\n",
            "\n",
            "------ Topic 6 ------\n",
            "day matter judge treat trust ralph life emerson hold bonaparte\n",
            "\n",
            "------ Topic 7 ------\n",
            "reality action result strength napoleon word practice abundance self power\n",
            "\n",
            "------ Topic 8 ------\n",
            "time heart john love today tomorrow bhajan anger defeat aim\n",
            "\n",
            "------ Topic 9 ------\n",
            "man way proverb create step lincoln peale experience learn jim\n",
            "\n"
          ],
          "name": "stdout"
        }
      ]
    },
    {
      "cell_type": "code",
      "metadata": {
        "colab": {
          "base_uri": "https://localhost:8080/"
        },
        "id": "PBmHOCLAk5aZ",
        "outputId": "a1b741fb-aea2-4061-d2c1-4437ef88374f"
      },
      "source": [
        "# Compute Perplexity\n",
        "## a measure of how good the model is. lower the better\n",
        "base_perplexity = base_model.log_perplexity(corpus)\n",
        "print('\\nPerplexity: ', base_perplexity) \n",
        "\n",
        "# Compute Coherence Score\n",
        "coherence_model = CoherenceModel(model=base_model, texts=tweets_cleaned['nouns_only'], \n",
        "                                   dictionary=id2word, coherence='c_v')\n",
        "coherence_lda_model_base = coherence_model.get_coherence()\n",
        "print('\\nCoherence Score: ', coherence_lda_model_base)"
      ],
      "execution_count": null,
      "outputs": [
        {
          "output_type": "stream",
          "text": [
            "\n",
            "Perplexity:  -6.94619580004618\n",
            "\n",
            "Coherence Score:  0.6164812244561871\n"
          ],
          "name": "stdout"
        }
      ]
    },
    {
      "cell_type": "code",
      "metadata": {
        "colab": {
          "base_uri": "https://localhost:8080/",
          "height": 881
        },
        "id": "3yKtvh9Qlvgu",
        "outputId": "0b887ea5-cae4-43ab-f88e-1113421a185f"
      },
      "source": [
        "# topic distance visualization \n",
        "pyLDAvis.enable_notebook()\n",
        "pyLDAvis.gensim.prepare(base_model, corpus, id2word)"
      ],
      "execution_count": null,
      "outputs": [
        {
          "output_type": "execute_result",
          "data": {
            "text/html": [
              "\n",
              "<link rel=\"stylesheet\" type=\"text/css\" href=\"https://cdn.rawgit.com/bmabey/pyLDAvis/files/ldavis.v1.0.0.css\">\n",
              "\n",
              "\n",
              "<div id=\"ldavis_el56021397746459953448123915690\"></div>\n",
              "<script type=\"text/javascript\">\n",
              "\n",
              "var ldavis_el56021397746459953448123915690_data = {\"mdsDat\": {\"x\": [-0.004427059260828671, 0.22219410463306735, 0.08077142492876889, 0.04401127425728425, 0.08528175853494313, -0.16545957991232657, 0.21484586237673306, -0.0027750849903968554, -0.2315497052302077, -0.24289299533703704], \"y\": [-0.058685199714804535, -0.2024814514385216, -0.09712445392680742, -0.223311267396174, 0.21344279223455398, -0.07481167210799018, 0.2101008971280717, 0.18072141057544278, -0.013116685710891935, 0.06526563035712139], \"topics\": [1, 2, 3, 4, 5, 6, 7, 8, 9, 10], \"cluster\": [1, 1, 1, 1, 1, 1, 1, 1, 1, 1], \"Freq\": [12.182809977468544, 11.999510707378901, 10.576747517758193, 10.40909325429426, 9.961151136666233, 9.489423063808774, 9.15881302190406, 8.990485418171536, 8.732031823043124, 8.499934079506374]}, \"tinfo\": {\"Term\": [\"dyer\", \"time\", \"thing\", \"man\", \"heart\", \"change\", \"look\", \"choice\", \"einstein\", \"mind\", \"amp\", \"peace\", \"day\", \"john\", \"way\", \"dream\", \"matter\", \"problem\", \"today\", \"love\", \"success\", \"franklin\", \"power\", \"reality\", \"feel\", \"albert\", \"proverb\", \"life\", \"moment\", \"action\", \"fall\", \"william\", \"climb\", \"frustration\", \"child\", \"confuciu\", \"anthony\", \"inspire\", \"search\", \"mandela\", \"consist\", \"stop\", \"ground\", \"optimism\", \"speed\", \"weather\", \"glory\", \"dale\", \"memory\", \"celebrate\", \"pressure\", \"mountain\", \"commitment\", \"chop\", \"bertrand\", \"russell\", \"harder\", \"root\", \"wisdom\", \"destination\", \"dyer\", \"work\", \"success\", \"god\", \"failure\", \"fight\", \"covey\", \"door\", \"fortune\", \"fail\", \"deserve\", \"talent\", \"anxiety\", \"rise\", \"try\", \"family\", \"guidance\", \"stephen\", \"happiness\", \"person\", \"world\", \"sense\", \"amp\", \"respect\", \"life\", \"way\", \"day\", \"love\", \"lincoln\", \"peale\", \"vincent\", \"fool\", \"abraham\", \"history\", \"gandhi\", \"mahatma\", \"voltaire\", \"source\", \"nature\", \"knowledge\", \"cross\", \"repeat\", \"worry\", \"fire\", \"stone\", \"existence\", \"wise\", \"deal\", \"pickford\", \"shadow\", \"rate\", \"dawn\", \"eleanor\", \"till\", \"river\", \"hubbard\", \"case\", \"clement\", \"man\", \"proverb\", \"jim\", \"hand\", \"beauty\", \"future\", \"step\", \"speak\", \"brault\", \"game\", \"presence\", \"experience\", \"rohn\", \"create\", \"learn\", \"woman\", \"goal\", \"way\", \"reason\", \"roosevelt\", \"person\", \"einstein\", \"albert\", \"churchill\", \"winston\", \"change\", \"hell\", \"fuller\", \"forget\", \"communication\", \"maya\", \"lesson\", \"influence\", \"perception\", \"teacher\", \"rain\", \"hepburn\", \"cash\", \"accomplishment\", \"gogh\", \"fantasy\", \"reject\", \"darkness\", \"precede\", \"hang\", \"bridge\", \"attitude\", \"position\", \"push\", \"conscience\", \"reputation\", \"thing\", \"control\", \"value\", \"victor\", \"pain\", \"ignorance\", \"get\", \"michael\", \"drive\", \"harry\", \"pull\", \"eye\", \"end\", \"difficulty\", \"gift\", \"form\", \"character\", \"decision\", \"life\", \"edison\", \"roosevelt\", \"way\", \"heart\", \"defeat\", \"tomorrow\", \"aim\", \"monroe\", \"waste\", \"force\", \"john\", \"yogi\", \"anger\", \"shakespeare\", \"ppl\", \"ruth\", \"strike\", \"sort\", \"shut\", \"dig\", \"today\", \"chance\", \"c\", \"twain\", \"wilde\", \"light\", \"conversation\", \"creation\", \"jack\", \"scott\", \"reward\", \"yesterday\", \"tension\", \"time\", \"asset\", \"thinking\", \"meet\", \"race\", \"bhajan\", \"dare\", \"love\", \"hoffer\", \"lead\", \"play\", \"person\", \"dog\", \"mark\", \"life\", \"tzu\", \"enemy\", \"solve\", \"jump\", \"percent\", \"lao\", \"road\", \"attempt\", \"freedom\", \"sea\", \"lewis\", \"joy\", \"tracy\", \"mistake\", \"solution\", \"rice\", \"read\", \"version\", \"strategy\", \"space\", \"imperfection\", \"ease\", \"star\", \"feel\", \"enthusiasm\", \"death\", \"arise\", \"jerry\", \"bar\", \"blessing\", \"problem\", \"energy\", \"fear\", \"dream\", \"sun\", \"achievement\", \"expectation\", \"doubt\", \"obstacle\", \"stand\", \"hope\", \"challenge\", \"think\", \"night\", \"feeling\", \"amp\", \"leader\", \"ability\", \"use\", \"strength\", \"life\", \"power\", \"treat\", \"ralph\", \"trust\", \"emerson\", \"bonaparte\", \"water\", \"jonathan\", \"waldo\", \"foot\", \"shoe\", \"greatness\", \"ego\", \"letter\", \"imagination\", \"inspiration\", \"confucius\", \"carl\", \"enjoy\", \"opinion\", \"attain\", \"release\", \"bach\", \"discover\", \"content\", \"discourage\", \"mother\", \"battle\", \"goethe\", \"heal\", \"perfection\", \"matter\", \"hold\", \"jung\", \"huie\", \"help\", \"judge\", \"lockwood\", \"year\", \"count\", \"willingness\", \"refuse\", \"day\", \"life\", \"idea\", \"act\", \"ability\", \"napoleon\", \"harm\", \"seneca\", \"intent\", \"victory\", \"bite\", \"risk\", \"cruelty\", \"patience\", \"smile\", \"benefit\", \"hill\", \"wind\", \"lengthen\", \"weakness\", \"make\", \"hate\", \"judgment\", \"sail\", \"alcott\", \"maxwell\", \"result\", \"absence\", \"ship\", \"b\", \"trouble\", \"page\", \"nietzsche\", \"buffett\", \"earth\", \"self\", \"word\", \"intention\", \"silence\", \"abundance\", \"need\", \"watch\", \"win\", \"kind\", \"reality\", \"action\", \"practice\", \"genius\", \"strength\", \"power\", \"way\", \"robert\", \"pessimist\", \"dalai\", \"denis\", \"desire\", \"limit\", \"care\", \"kennedy\", \"impact\", \"truman\", \"relationship\", \"stevenson\", \"discouragement\", \"norman\", \"winfrey\", \"speech\", \"coco\", \"waitley\", \"sight\", \"plant\", \"seed\", \"shore\", \"oprah\", \"travel\", \"rule\", \"beat\", \"lama\", \"disney\", \"bittersweet\", \"expertise\", \"hemingway\", \"consent\", \"difference\", \"grow\", \"sir\", \"understand\", \"find\", \"mediocrity\", \"quality\", \"start\", \"choose\", \"courage\", \"honor\", \"question\", \"power\", \"life\", \"amp\", \"answer\", \"bind\", \"peter\", \"define\", \"miracle\", \"fact\", \"eliot\", \"journey\", \"pocket\", \"buddha\", \"forgiveness\", \"decide\", \"teach\", \"order\", \"childhood\", \"impossibility\", \"music\", \"mind\", \"universe\", \"thatcher\", \"elliot\", \"react\", \"jefferson\", \"receive\", \"stuff\", \"war\", \"stress\", \"breath\", \"disease\", \"conflict\", \"shell\", \"peace\", \"moment\", \"path\", \"talk\", \"storm\", \"prevent\", \"drucker\", \"attention\", \"attract\", \"opportunity\", \"want\", \"passion\", \"dance\", \"body\", \"suit\", \"spirit\", \"place\", \"george\", \"act\", \"thomas\", \"life\", \"day\", \"franklin\", \"henry\", \"habit\", \"thoreau\", \"danger\", \"soul\", \"dr\", \"truth\", \"finger\", \"look\", \"lady\", \"martin\", \"show\", \"choice\", \"strengthen\", \"windshield\", \"mail\", \"mirror\", \"controversy\", \"mlk\", \"buy\", \"slip\", \"edge\", \"rearview\", \"jr\", \"tooth\", \"distance\", \"brick\", \"brinkley\", \"buffet\", \"david\", \"king\", \"wait\", \"mean\", \"business\", \"kill\", \"benjamin\", \"connection\", \"let\", \"effort\", \"wealth\", \"gain\", \"management\", \"ask\", \"lie\", \"point\", \"job\", \"world\", \"life\", \"act\", \"place\"], \"Freq\": [99079.0, 39704.0, 35778.0, 32572.0, 19702.0, 18984.0, 16325.0, 13533.0, 12368.0, 11158.0, 20936.0, 10074.0, 18121.0, 9619.0, 24246.0, 9150.0, 8702.0, 8770.0, 8793.0, 12152.0, 9516.0, 7605.0, 15798.0, 7922.0, 7538.0, 7672.0, 8094.0, 59430.0, 7136.0, 8321.0, 4583.207066726905, 3023.842551224654, 2408.779601946709, 2266.8196917605833, 2180.6913795659348, 1506.266094487242, 1483.2064706778763, 1976.8708895347063, 1298.1197831383563, 1142.2769469252273, 1239.5693216003701, 2182.2284217368997, 1057.0444627652143, 964.8045912364087, 944.4065084391493, 960.0352600337285, 1015.7076899314808, 901.6296531595085, 1165.0665423732544, 960.6359423900301, 778.5360135067776, 1303.6172412756255, 722.0034015201526, 651.9165218790409, 649.3926100011541, 649.4123597819147, 851.307831112813, 650.5660359995107, 4239.223965373326, 626.4190044006755, 98844.99756513441, 7471.72604698837, 9396.157896690114, 2688.888471592419, 5148.486255058387, 2078.2706680915, 2109.089822488169, 1732.3397016013093, 1429.6176770576421, 1986.1787478819804, 1274.458995270719, 1061.3069058665637, 1063.1596004568612, 2001.0128288555754, 2983.4971210447043, 1106.0491051828608, 1402.2290664605318, 1426.210667840035, 4279.67426895355, 7194.903210551289, 8240.282365529181, 1703.260454719445, 7060.2727399080295, 2767.1812819176753, 12418.483774855667, 5932.176823714525, 4092.019972286029, 2558.4452297286584, 6280.063498500737, 6124.023304791114, 4442.276533990211, 3929.606852511788, 3923.5983618385967, 3379.6236360247626, 2548.8317290866617, 2348.429234507398, 2249.380911438854, 2163.0585401665803, 2115.4870296543727, 2018.3239173021916, 1971.894757455605, 1496.2726453982762, 1847.702655045495, 1433.2341921726447, 1889.8066884725606, 1373.7164618006395, 1599.892268946952, 1314.3403899602083, 1298.918181519913, 1298.301119667545, 1269.597983327378, 1270.4846708441487, 2600.024546787833, 1254.5001661464669, 1254.3886015804521, 1269.3800054146784, 1267.837757458968, 1220.6592307582755, 32484.758150417227, 8076.932972289334, 5057.3923099189005, 2690.9386878591554, 2209.105425315522, 3878.569655857743, 7304.784172904372, 1942.2620971431866, 2529.6038540287514, 2570.13446106732, 3883.6517404019614, 5676.186056449184, 3995.9648599203706, 7368.316600952066, 5526.993188813117, 3852.1823992816044, 3802.27603082889, 12102.904769273966, 4096.69993620267, 3283.8142098891344, 2230.2697521662885, 12367.399461087345, 7672.064098133316, 7423.112327328928, 7204.210670729754, 18978.87671919965, 2635.2923538937084, 2559.763207539887, 2791.937786517039, 2259.6962756343046, 1969.6191642362269, 2756.0634732517237, 1904.7870728031044, 1579.5402538728763, 1645.6871632622056, 1514.603134724059, 1479.9540253230605, 1476.5718700096843, 1289.915514410658, 1275.0297773495752, 1230.5940922014777, 1250.287924006087, 1016.3339676203714, 992.237694194857, 990.2298008519747, 1438.5753755629628, 1350.9476098912864, 938.9439547770947, 1628.6234453118334, 882.2914791953036, 1654.0987003833477, 35671.32563761064, 5701.42871009506, 3510.1930602172224, 1800.3536777656984, 1987.1204379259327, 1448.0983663944498, 3997.7102090905187, 2235.7917763654345, 1643.0780788481986, 1646.7320635736403, 1604.586556157878, 3884.470974927656, 4143.22843915208, 3048.7796599132275, 2546.9041827809833, 2428.58036452975, 2725.8984140379775, 2600.0126002567176, 9029.850458090352, 2897.2582415786983, 2390.8865267427045, 3427.349970139725, 19701.338284476577, 3950.6687632261383, 4662.627708873484, 3835.5046196764524, 3045.6493236241417, 2707.6862745816948, 2586.046604149098, 9615.981033923134, 2194.6340002426487, 4002.409478897461, 2026.8163960578652, 1885.5468293307779, 1794.2977327100741, 1777.816700708287, 1715.9445394573556, 1700.7668912713996, 2051.9887309477695, 8789.196372966986, 1659.1564452650184, 1541.1898618832427, 1534.078400348941, 1472.3487599555326, 1230.6899470915996, 1226.7977871384965, 1217.781343845221, 1220.7004344121817, 1164.0047671125947, 1231.7082891923842, 1167.4901781827168, 1038.1009949180286, 39405.77345781762, 2768.457544522286, 2269.785765817092, 1910.24668170787, 2371.1216232600946, 4344.259161094081, 1785.6768671104521, 9255.882096841413, 2453.568057873808, 2311.579889694308, 2294.3017051404167, 3314.202598406385, 2108.0909141154098, 1753.1789366255612, 2532.136325918944, 4087.176069437296, 4006.212217296177, 4490.968596686873, 3263.274685398267, 2914.4218506552684, 2673.03798546862, 2520.695677480067, 2325.2013062613332, 2589.263107271898, 1861.3588256870426, 1816.3750942780366, 2901.9142476117077, 1948.5886327051862, 1800.4509355069276, 1663.2876055632948, 1655.6243524263655, 1658.040169374391, 1410.2667901990665, 1411.1483585785536, 1314.887595834217, 1302.1939789367768, 1191.893952794884, 1155.3811099912248, 7532.343946100874, 1458.4299743772879, 977.3509977276268, 967.6089581885695, 950.9857564287732, 1409.5177834165968, 925.959297234944, 8756.801238838189, 6886.940916095554, 5978.640556561791, 9082.855954577632, 3039.6434962916746, 3926.425440116692, 2434.651497784655, 2335.670296493713, 4060.082639603382, 2585.50727037711, 2251.262543575746, 2503.412931136128, 4714.178019354058, 2390.2809481601557, 1831.3247340082523, 9705.231977388961, 3193.6035509005374, 3190.6478098926723, 2425.4669371519008, 2952.0952263537006, 3111.301029185461, 2404.4175509307343, 6309.961691928593, 4748.2422849612585, 5410.76796499508, 3756.3686062799084, 3422.4094226215975, 3397.2289691689407, 2946.9123517578314, 2931.290882474083, 2485.295147172161, 2438.0934819618246, 3137.420307668714, 2262.521546016819, 2050.12102069756, 1989.5450536418912, 2135.9057425227325, 1633.5546884438297, 1584.635540668335, 1684.1070580456897, 1590.5466566188284, 1535.254030849052, 2938.0997076187987, 1558.6234144274315, 1444.661408420621, 1480.7119259855033, 1386.6254845519486, 1320.2651142598502, 1389.7925519898417, 1290.6396388309286, 1231.4375720658204, 1252.5303076674022, 8689.185218790428, 3425.144358967789, 2754.1683774121393, 2946.5991076372775, 2628.5036696872367, 6714.967257856296, 2261.206392399107, 2826.6062410931636, 1686.476328513986, 1769.0434907791637, 2894.950919623268, 11004.38473482743, 4466.084159308713, 1971.8747405415697, 2455.1017157710644, 2069.4774061894186, 5183.074251487272, 3331.018465628493, 3307.4612927945063, 2952.47947440804, 2821.139632572691, 2778.9126568569586, 2762.3068148484294, 2071.9288713547626, 2127.46895342486, 2078.0241157422315, 2053.256171395392, 1919.1080266714898, 2259.788835233696, 1806.3535585985496, 2027.3707828220263, 1788.724013518053, 1749.671821010351, 1609.9822910605164, 1559.681470406957, 1552.567592833363, 1494.4717709633187, 6969.991316304208, 2063.359522676118, 1398.814716891521, 1366.9884567812398, 1358.5391298898887, 1375.9397023710055, 1332.7540008957362, 1265.2835462345424, 1728.3193242484776, 3883.555318163704, 4650.7842467320215, 3051.2354703343462, 2417.463112674181, 4127.641143773236, 1812.9466864691708, 1656.2497588586639, 3401.124019323129, 3298.7036340702803, 7683.397509031306, 7453.953927603357, 4579.067917878259, 2205.973962888885, 6362.652101822523, 3777.242916056688, 2687.432464450035, 6204.016558065039, 3987.750923206234, 3476.392385017853, 2748.6049568028084, 6125.8416219322135, 4173.705908871243, 4576.211459986442, 2076.8993360246964, 2235.9504433187867, 1842.101113402404, 3309.4811266164234, 1638.7451202568634, 1628.3311056065072, 1603.0077889558672, 1594.795510391632, 1568.2468064414693, 1423.0604003705728, 1359.8700262454024, 1385.8736283607918, 1654.5010719487193, 1424.3833920791167, 1385.77947717748, 1388.623208549161, 1128.138369618509, 3375.095868320508, 1079.3385011135174, 3737.5240943762433, 1031.3483124719155, 938.4207898467348, 937.0782975694792, 3722.560251722844, 2766.6744681544924, 4555.002153941227, 2119.803634154604, 1702.2599960332543, 1684.8902707150316, 1499.954189765216, 2347.8166745197964, 1600.265724611689, 3548.3986412481677, 3367.451035992695, 5612.164547376365, 1751.5398629118508, 4433.398232501591, 8120.391071941433, 15084.699053038445, 4089.6580514613684, 2029.9145438918367, 3594.0713328673496, 3504.7413261814027, 4027.0830045640937, 3840.760586768728, 3159.8490809774325, 2538.5560849113317, 2012.1959747531298, 1850.9378543666628, 1611.5988898519904, 1599.9039473160103, 2044.1611316791054, 1749.9431893787078, 1803.5123493837175, 1384.9019653663436, 1377.9541504897531, 1394.928710245321, 11150.742545869713, 1247.0848285313075, 1235.3022886019492, 1184.3144896216245, 1223.9135423599394, 1567.0614354162672, 1135.4986719559404, 2254.3846166325643, 1193.1652789527852, 1196.395235542179, 1394.9221996282456, 1011.4153859043324, 2023.7933566786921, 836.7443092396842, 10033.114235391487, 7069.188562189951, 3136.4674821453864, 3322.143375936022, 2958.1154406903024, 1828.556720358537, 2761.2564769698124, 1761.8773477693526, 3758.3286775198867, 6798.523664971252, 2573.4241878872317, 5589.029758393351, 2613.965011250076, 6731.9330735240055, 2797.2923478993284, 3472.429725510445, 4250.9756287130795, 2613.1113312474913, 4195.453480876875, 2226.610126897458, 4749.321145470091, 2499.0549873662876, 7604.8839623274025, 6373.129498044288, 4422.2972834136, 2462.757831134844, 2339.757224671128, 6713.82929021393, 2168.493759043709, 6105.749183031273, 2016.0772503643586, 16317.859987089761, 1844.1832930807802, 2217.0306698654504, 2343.8182592617904, 13525.962273702791, 1561.9318826827903, 1300.5541055799451, 1263.8762185211242, 1309.988242685389, 1058.6909382557012, 1058.6843126199603, 1053.0099837382324, 1051.7988367295304, 1018.0051177158515, 1300.2774612818343, 985.2720765629608, 857.5126312342433, 802.9292996685112, 802.0878919412653, 793.0047214826785, 786.3184467711555, 5063.5547334386165, 4068.3189490294685, 3427.0937629697996, 4922.662990000242, 3335.0780860841373, 1838.961908022096, 5064.3044865381125, 1275.9027076279895, 3575.322485766052, 2915.0976650651533, 1251.6111105038788, 1821.0390832243281, 1308.0346403788762, 2235.089272184054, 4254.619535030211, 1844.3893599546939, 1980.6289468658667, 3511.2074570091836, 5120.974221196295, 2892.1383968672094, 2660.8787433448315], \"Total\": [99079.0, 39704.0, 35778.0, 32572.0, 19702.0, 18984.0, 16325.0, 13533.0, 12368.0, 11158.0, 20936.0, 10074.0, 18121.0, 9619.0, 24246.0, 9150.0, 8702.0, 8770.0, 8793.0, 12152.0, 9516.0, 7605.0, 15798.0, 7922.0, 7538.0, 7672.0, 8094.0, 59430.0, 7136.0, 8321.0, 4584.282224019752, 3024.7449410419717, 2409.6862778555173, 2267.746867052166, 2181.7112436628354, 1507.16844661207, 1484.123561981644, 1978.2265524396896, 1299.022026676186, 1143.1814290282211, 1240.6142330993184, 2184.0891017419967, 1057.946771738532, 965.7220014402762, 945.3119178075037, 960.9681968357529, 1016.7073956665045, 902.5382877219738, 1166.2620931538838, 961.6259273853491, 779.4382375970813, 1305.1563967709242, 722.9680000785257, 652.8202862008013, 650.2956804617313, 650.3156014186662, 852.4932197224566, 651.4721187012958, 4245.139393444638, 627.3213909770413, 99079.51452229792, 7485.049069601161, 9516.579978320053, 2696.8273320465346, 5197.980338997914, 2084.7410658255326, 2116.517034828602, 1738.0300329859456, 1431.9943653489438, 1999.092662846385, 1277.3083690732049, 1063.5012265944092, 1065.6743665935505, 2032.4105149862924, 3274.8661635379967, 1113.8523276038104, 1457.6073936684884, 1529.4278927909338, 6107.683199382006, 12761.384570563223, 16506.567259697065, 2033.4262968947887, 20936.258144774198, 4645.810970781434, 59430.17528032143, 24246.815896851436, 18121.704024383, 12152.859730389899, 6280.95838764177, 6124.927129729286, 4443.170311442742, 3930.486918392412, 3924.490342181148, 3380.56157010076, 2549.7189073759064, 2349.3174166012673, 2250.262840057395, 2163.9754813876825, 2116.4397068973094, 2019.287345876758, 1972.8711762397345, 1497.1528467106975, 1848.8018680416535, 1434.117171071969, 1891.0135501035475, 1374.5990541997737, 1600.9666668190837, 1315.2233805662652, 1299.7983091929825, 1299.1812834255236, 1270.478519010024, 1271.3662223308186, 2601.8395132233004, 1255.3802753409282, 1255.2692141274235, 1270.2727491540122, 1268.7394616770302, 1221.5396958318217, 32572.294526956233, 8094.480122882934, 5061.742553207651, 2693.7276925994565, 2222.293664280628, 3924.1921797944474, 7526.490881361156, 1953.000420439558, 2561.667446328164, 2605.260102518402, 3978.248503849859, 6066.983930746509, 4243.740013798527, 8205.921031473734, 7214.861439538777, 4823.025138143238, 4786.275045244215, 24246.815896851436, 5977.485958930438, 5684.34536552706, 12761.384570563223, 12368.321379787603, 7672.950364905969, 7424.017171408108, 7205.125860976622, 18984.992252739125, 2636.174719883758, 2560.6441464543054, 2792.953666816491, 2260.577340691384, 1970.5396671645192, 2757.37926592718, 1905.7035738370173, 1580.424020303049, 1646.6084808471976, 1515.5027814097245, 1480.8351214409518, 1477.4561741184973, 1290.800247518347, 1275.9108403920834, 1231.4752938565264, 1251.2213676992176, 1017.2148370971898, 993.1187704718543, 991.1106301374525, 1439.893810512623, 1352.2089109872059, 939.8364719414509, 1630.2472352873895, 883.1724390667385, 1655.758303565289, 35778.73584333546, 5708.809000061609, 3526.0683041447514, 1802.784827145151, 1994.229381557839, 1450.434701065918, 4083.226200601439, 2262.879865605191, 1666.099997678816, 1671.6483657694023, 1628.104990503555, 4944.394243214541, 5403.37160855924, 4055.16388068463, 3236.111090673523, 3141.4963988081327, 4285.472635723048, 4025.0406885042735, 59430.17528032143, 5678.334972757704, 5684.34536552706, 24246.815896851436, 19702.846229672617, 3951.5333624822924, 4663.741152326481, 3836.437233181289, 3046.511408625136, 2708.565189797096, 2586.9476250027487, 9619.463076596488, 2195.4957289932236, 4004.008772341833, 2027.6783686711265, 1886.4087338726383, 1795.1594376050336, 1778.6784789257129, 1716.8076626494594, 1701.6298286586646, 2053.105258959049, 8793.981970425504, 1660.0706707311326, 1542.0544074687446, 1534.964767555449, 1473.2104732084329, 1231.5517383502513, 1227.6596078236846, 1218.6440139083659, 1221.5668421010998, 1164.8786384885984, 1232.7009203916, 1168.4582078299306, 1038.96278075864, 39704.08153557995, 2773.999625170215, 2273.780785012793, 1915.3876167538062, 2422.4236914605904, 4581.537725451169, 1835.4324255134882, 12152.859730389899, 2778.759868312773, 3065.6459954024754, 3169.832131518285, 12761.384570563223, 3995.8463431526534, 1966.5670933008703, 59430.17528032143, 4088.0609384473146, 4007.0819789332427, 4492.089514888237, 3264.1445700693785, 2915.3110492538817, 2673.930706310074, 2521.5900093554774, 2326.0711382636255, 2590.3920761862214, 1862.2309081221083, 1817.2449184432319, 2903.3462266454603, 1949.5695129356002, 1801.3654532245155, 1664.1612382978842, 1656.4942392255664, 1658.9353064367879, 1411.1418874169515, 1412.0329591658779, 1315.7582176985024, 1303.0638063743627, 1192.763943456347, 1156.2614545615052, 7538.626747636601, 1459.688239694459, 978.2208821228115, 968.4787758009106, 951.8555660964598, 1410.81587887938, 926.8305650032692, 8770.024784723071, 6896.96893151886, 5987.8376788944, 9150.9514743499, 3044.551834040113, 3943.5009424739887, 2437.902560122208, 2338.022206789053, 4088.5585499064246, 2597.263790614335, 2261.7393228074015, 2532.5856518854034, 4956.372519815664, 2468.4377604132205, 1856.7620133911857, 20936.258144774198, 4567.441181537982, 5331.092358612086, 3528.364745290039, 9316.01744189032, 59430.17528032143, 15798.36978965918, 6310.982417271981, 4749.128267492776, 5412.125913799752, 3757.316307826568, 3423.2817432620004, 3398.10131691902, 2947.7854715255007, 2932.1928305001284, 2486.167444410388, 2438.9662235787, 3138.5884132737997, 2263.4020539925104, 2051.015256871471, 1990.4174710991967, 2137.0185551739387, 1634.4269800171694, 1585.5089564102618, 1685.0548231955154, 1591.4679029014985, 1536.1660213071443, 2939.8501370999297, 1559.5674009447443, 1445.5389072588819, 1481.6407734053582, 1387.498032249745, 1321.1374343470839, 1390.7195678706487, 1291.5276614887036, 1232.3099684046035, 1253.4377026543796, 8702.181160131178, 3429.115193203999, 2756.2955513903908, 2952.025040371878, 2632.5729451458888, 6789.986598333843, 2266.7548096187907, 2910.849421541408, 1696.8882876078026, 1785.5822160718378, 3089.022540825393, 18121.704024383, 59430.17528032143, 3350.026399371727, 10758.004782683867, 5331.092358612086, 5184.169361507767, 3331.897201105194, 3308.3613192651087, 2953.3538383313476, 2822.0162735387707, 2779.785230812284, 2763.3048143639653, 2072.80301182333, 2128.4207112821277, 2079.000477578472, 2054.2225518872815, 1920.0160923336127, 2260.8603640307633, 1807.235002822513, 2028.3630849073963, 1789.6233266611796, 1750.6033106956625, 1610.8646167534575, 1560.5573814707523, 1553.447739394627, 1495.3436908692645, 6974.087244588936, 2064.5728962565345, 1399.6865874260257, 1367.8623418443242, 1359.4110135726123, 1376.8381587104147, 1333.62591682887, 1266.1554165416771, 1729.5283853913136, 3888.203476688962, 4666.438964218416, 3058.580785397752, 2419.5895367615567, 4166.439789138449, 1815.7243135133917, 1658.0983455221526, 3431.3804661095246, 3326.9263851556575, 7922.526806543877, 8321.969019768567, 5359.692676239081, 2299.6040422255887, 9316.01744189032, 15798.36978965918, 24246.815896851436, 6204.8934459292595, 3988.6588038305454, 3477.2728976819576, 2749.489986004944, 6128.005243425439, 4175.319767692472, 4578.042955159892, 2077.7752002332154, 2236.9487108238022, 1842.9734624056377, 3311.136656067718, 1639.6180771528736, 1629.2024100877152, 1603.8800282299262, 1595.669184795337, 1569.1273175089325, 1423.939650934434, 1360.755032910672, 1386.7968907895895, 1655.6053782537692, 1425.3534002450954, 1386.7391137662516, 1389.627588031714, 1129.0097517283973, 3377.7631358426406, 1080.209883752967, 3740.630583340852, 1032.2514725482768, 939.2923077845234, 937.9496407620387, 3726.1496323250312, 2771.1844141094325, 4598.03835927527, 2126.311217419291, 1704.1501634641488, 1687.6142360427982, 1501.5606883389412, 2371.9091316881945, 1604.5861934168672, 3618.219934044535, 3430.4895821716004, 5899.414111995351, 1769.320644862802, 6326.2158845598815, 15798.36978965918, 59430.17528032143, 20936.258144774198, 3475.7187993849866, 3594.953857743338, 3505.6239331834913, 4028.112854992427, 3841.802259448998, 3160.8159835417114, 2539.438590499329, 2013.0886205353936, 1851.834747970789, 1612.4816431182344, 1600.7967848725455, 2045.3128483082864, 1751.0091400899294, 1804.6263257067085, 1385.7882610412034, 1378.8367597596775, 1395.8295729542288, 11158.535068897801, 1247.982991978837, 1236.22150367512, 1185.1970307442334, 1224.8468962984866, 1568.2763422181233, 1136.3929067607355, 2256.1760729488133, 1194.136832956158, 1197.3704077148675, 1396.0645521103163, 1012.2979324220939, 2025.6351515420765, 837.6279825514534, 10074.05859054029, 7136.40520083793, 3140.6310409844045, 3329.8846391378415, 2962.2568657515662, 1831.9557400743274, 2783.9592100460854, 1768.7658280653015, 3809.048051432069, 6998.3911025825, 2654.5439601937896, 6015.365406319515, 2818.1447124274537, 8409.044083487044, 3105.349483886277, 4560.044181921418, 8474.105000832693, 3979.833595453897, 10758.004782683867, 3542.024185759164, 59430.17528032143, 18121.704024383, 7605.7422791541085, 6374.323001086454, 4423.44109573622, 2463.618874730983, 2340.617595213073, 6716.431240454581, 2169.352460081095, 6108.276378118694, 2016.9355820154497, 16325.239205641881, 1845.0416599458777, 2218.063429689051, 2345.0502834002727, 13533.333495839219, 1562.8505707918573, 1301.4125286936555, 1264.7400158129058, 1310.952520641637, 1059.5492766545406, 1059.5426968888605, 1053.8682647596681, 1052.6571598433825, 1018.863522427513, 1301.3785616712998, 986.131117988889, 858.3710359389611, 803.787675230148, 802.9478118081751, 793.865052311725, 787.1767759018818, 5069.25486583301, 4073.0738056893515, 3433.724054630185, 4962.481752742743, 3350.565255362399, 1842.5063546389881, 5126.435213360918, 1277.5233333955164, 3645.8498762356394, 2972.022335930736, 1254.992752517586, 1852.5229684993187, 1316.1574024873632, 2461.9893044989362, 5592.173435660401, 2001.6466810829982, 2721.0302995029183, 16506.567259697065, 59430.17528032143, 10758.004782683867, 8474.105000832693], \"Category\": [\"Default\", \"Default\", \"Default\", \"Default\", \"Default\", \"Default\", \"Default\", \"Default\", \"Default\", \"Default\", \"Default\", \"Default\", \"Default\", \"Default\", \"Default\", \"Default\", \"Default\", \"Default\", \"Default\", \"Default\", \"Default\", \"Default\", \"Default\", \"Default\", \"Default\", \"Default\", \"Default\", \"Default\", \"Default\", \"Default\", \"Topic1\", \"Topic1\", \"Topic1\", \"Topic1\", \"Topic1\", \"Topic1\", \"Topic1\", \"Topic1\", \"Topic1\", \"Topic1\", \"Topic1\", \"Topic1\", \"Topic1\", \"Topic1\", \"Topic1\", \"Topic1\", \"Topic1\", \"Topic1\", \"Topic1\", \"Topic1\", \"Topic1\", \"Topic1\", \"Topic1\", \"Topic1\", \"Topic1\", \"Topic1\", \"Topic1\", \"Topic1\", \"Topic1\", \"Topic1\", \"Topic1\", \"Topic1\", \"Topic1\", \"Topic1\", \"Topic1\", \"Topic1\", \"Topic1\", \"Topic1\", \"Topic1\", \"Topic1\", \"Topic1\", \"Topic1\", \"Topic1\", \"Topic1\", \"Topic1\", \"Topic1\", \"Topic1\", \"Topic1\", \"Topic1\", \"Topic1\", \"Topic1\", \"Topic1\", \"Topic1\", \"Topic1\", \"Topic1\", \"Topic1\", \"Topic1\", \"Topic1\", \"Topic2\", \"Topic2\", \"Topic2\", \"Topic2\", \"Topic2\", \"Topic2\", \"Topic2\", \"Topic2\", \"Topic2\", \"Topic2\", \"Topic2\", \"Topic2\", \"Topic2\", \"Topic2\", \"Topic2\", \"Topic2\", \"Topic2\", \"Topic2\", \"Topic2\", \"Topic2\", \"Topic2\", \"Topic2\", \"Topic2\", \"Topic2\", \"Topic2\", \"Topic2\", \"Topic2\", \"Topic2\", \"Topic2\", \"Topic2\", \"Topic2\", \"Topic2\", \"Topic2\", \"Topic2\", \"Topic2\", \"Topic2\", \"Topic2\", \"Topic2\", \"Topic2\", \"Topic2\", \"Topic2\", \"Topic2\", \"Topic2\", \"Topic2\", \"Topic2\", \"Topic2\", \"Topic2\", \"Topic2\", \"Topic2\", \"Topic2\", \"Topic2\", \"Topic3\", \"Topic3\", \"Topic3\", \"Topic3\", \"Topic3\", \"Topic3\", \"Topic3\", \"Topic3\", \"Topic3\", \"Topic3\", \"Topic3\", \"Topic3\", \"Topic3\", \"Topic3\", \"Topic3\", \"Topic3\", \"Topic3\", \"Topic3\", \"Topic3\", \"Topic3\", \"Topic3\", \"Topic3\", \"Topic3\", \"Topic3\", \"Topic3\", \"Topic3\", \"Topic3\", \"Topic3\", \"Topic3\", \"Topic3\", \"Topic3\", \"Topic3\", \"Topic3\", \"Topic3\", \"Topic3\", \"Topic3\", \"Topic3\", \"Topic3\", \"Topic3\", \"Topic3\", \"Topic3\", \"Topic3\", \"Topic3\", \"Topic3\", \"Topic3\", \"Topic3\", \"Topic3\", \"Topic3\", \"Topic3\", \"Topic3\", \"Topic3\", \"Topic3\", \"Topic4\", \"Topic4\", \"Topic4\", \"Topic4\", \"Topic4\", \"Topic4\", \"Topic4\", \"Topic4\", \"Topic4\", \"Topic4\", \"Topic4\", \"Topic4\", \"Topic4\", \"Topic4\", \"Topic4\", \"Topic4\", \"Topic4\", \"Topic4\", \"Topic4\", \"Topic4\", \"Topic4\", \"Topic4\", \"Topic4\", \"Topic4\", \"Topic4\", \"Topic4\", \"Topic4\", \"Topic4\", \"Topic4\", \"Topic4\", \"Topic4\", \"Topic4\", \"Topic4\", \"Topic4\", \"Topic4\", \"Topic4\", \"Topic4\", \"Topic4\", \"Topic4\", \"Topic4\", \"Topic4\", \"Topic4\", \"Topic4\", \"Topic4\", \"Topic4\", \"Topic5\", \"Topic5\", \"Topic5\", \"Topic5\", \"Topic5\", \"Topic5\", \"Topic5\", \"Topic5\", \"Topic5\", \"Topic5\", \"Topic5\", \"Topic5\", \"Topic5\", \"Topic5\", \"Topic5\", \"Topic5\", \"Topic5\", \"Topic5\", \"Topic5\", \"Topic5\", \"Topic5\", \"Topic5\", \"Topic5\", \"Topic5\", \"Topic5\", \"Topic5\", \"Topic5\", \"Topic5\", \"Topic5\", \"Topic5\", \"Topic5\", \"Topic5\", \"Topic5\", \"Topic5\", \"Topic5\", \"Topic5\", \"Topic5\", \"Topic5\", \"Topic5\", \"Topic5\", \"Topic5\", \"Topic5\", \"Topic5\", \"Topic5\", \"Topic5\", \"Topic5\", \"Topic5\", \"Topic5\", \"Topic5\", \"Topic5\", \"Topic5\", \"Topic5\", \"Topic6\", \"Topic6\", \"Topic6\", \"Topic6\", \"Topic6\", \"Topic6\", \"Topic6\", \"Topic6\", \"Topic6\", \"Topic6\", \"Topic6\", \"Topic6\", \"Topic6\", \"Topic6\", \"Topic6\", \"Topic6\", \"Topic6\", \"Topic6\", \"Topic6\", \"Topic6\", \"Topic6\", \"Topic6\", \"Topic6\", \"Topic6\", \"Topic6\", \"Topic6\", \"Topic6\", \"Topic6\", \"Topic6\", \"Topic6\", \"Topic6\", \"Topic6\", \"Topic6\", \"Topic6\", \"Topic6\", \"Topic6\", \"Topic6\", \"Topic6\", \"Topic6\", \"Topic6\", \"Topic6\", \"Topic6\", \"Topic6\", \"Topic6\", \"Topic6\", \"Topic6\", \"Topic7\", \"Topic7\", \"Topic7\", \"Topic7\", \"Topic7\", \"Topic7\", \"Topic7\", \"Topic7\", \"Topic7\", \"Topic7\", \"Topic7\", \"Topic7\", \"Topic7\", \"Topic7\", \"Topic7\", \"Topic7\", \"Topic7\", \"Topic7\", \"Topic7\", \"Topic7\", \"Topic7\", \"Topic7\", \"Topic7\", \"Topic7\", \"Topic7\", \"Topic7\", \"Topic7\", \"Topic7\", \"Topic7\", \"Topic7\", \"Topic7\", \"Topic7\", \"Topic7\", \"Topic7\", \"Topic7\", \"Topic7\", \"Topic7\", \"Topic7\", \"Topic7\", \"Topic7\", \"Topic7\", \"Topic7\", \"Topic7\", \"Topic7\", \"Topic7\", \"Topic7\", \"Topic8\", \"Topic8\", \"Topic8\", \"Topic8\", \"Topic8\", \"Topic8\", \"Topic8\", \"Topic8\", \"Topic8\", \"Topic8\", \"Topic8\", \"Topic8\", \"Topic8\", \"Topic8\", \"Topic8\", \"Topic8\", \"Topic8\", \"Topic8\", \"Topic8\", \"Topic8\", \"Topic8\", \"Topic8\", \"Topic8\", \"Topic8\", \"Topic8\", \"Topic8\", \"Topic8\", \"Topic8\", \"Topic8\", \"Topic8\", \"Topic8\", \"Topic8\", \"Topic8\", \"Topic8\", \"Topic8\", \"Topic8\", \"Topic8\", \"Topic8\", \"Topic8\", \"Topic8\", \"Topic8\", \"Topic8\", \"Topic8\", \"Topic8\", \"Topic8\", \"Topic8\", \"Topic8\", \"Topic8\", \"Topic9\", \"Topic9\", \"Topic9\", \"Topic9\", \"Topic9\", \"Topic9\", \"Topic9\", \"Topic9\", \"Topic9\", \"Topic9\", \"Topic9\", \"Topic9\", \"Topic9\", \"Topic9\", \"Topic9\", \"Topic9\", \"Topic9\", \"Topic9\", \"Topic9\", \"Topic9\", \"Topic9\", \"Topic9\", \"Topic9\", \"Topic9\", \"Topic9\", \"Topic9\", \"Topic9\", \"Topic9\", \"Topic9\", \"Topic9\", \"Topic9\", \"Topic9\", \"Topic9\", \"Topic9\", \"Topic9\", \"Topic9\", \"Topic9\", \"Topic9\", \"Topic9\", \"Topic9\", \"Topic9\", \"Topic9\", \"Topic9\", \"Topic9\", \"Topic9\", \"Topic9\", \"Topic9\", \"Topic9\", \"Topic9\", \"Topic9\", \"Topic9\", \"Topic9\", \"Topic10\", \"Topic10\", \"Topic10\", \"Topic10\", \"Topic10\", \"Topic10\", \"Topic10\", \"Topic10\", \"Topic10\", \"Topic10\", \"Topic10\", \"Topic10\", \"Topic10\", \"Topic10\", \"Topic10\", \"Topic10\", \"Topic10\", \"Topic10\", \"Topic10\", \"Topic10\", \"Topic10\", \"Topic10\", \"Topic10\", \"Topic10\", \"Topic10\", \"Topic10\", \"Topic10\", \"Topic10\", \"Topic10\", \"Topic10\", \"Topic10\", \"Topic10\", \"Topic10\", \"Topic10\", \"Topic10\", \"Topic10\", \"Topic10\", \"Topic10\", \"Topic10\", \"Topic10\", \"Topic10\", \"Topic10\", \"Topic10\", \"Topic10\", \"Topic10\", \"Topic10\", \"Topic10\", \"Topic10\", \"Topic10\", \"Topic10\", \"Topic10\"], \"logprob\": [30.0, 29.0, 28.0, 27.0, 26.0, 25.0, 24.0, 23.0, 22.0, 21.0, 20.0, 19.0, 18.0, 17.0, 16.0, 15.0, 14.0, 13.0, 12.0, 11.0, 10.0, 9.0, 8.0, 7.0, 6.0, 5.0, 4.0, 3.0, 2.0, 1.0, -4.166500091552734, -4.582300186157227, -4.809700012207031, -4.870500087738037, -4.909200191497803, -5.279200077056885, -5.2947001457214355, -5.007299900054932, -5.4278998374938965, -5.555799961090088, -5.474100112915039, -4.9085001945495605, -5.633399963378906, -5.724699974060059, -5.746099948883057, -5.729599952697754, -5.673299789428711, -5.792399883270264, -5.536099910736084, -5.729000091552734, -5.939199924468994, -5.423699855804443, -6.014599800109863, -6.116700172424316, -6.12060022354126, -6.120500087738037, -5.849800109863281, -6.118800163269043, -4.244500160217285, -6.156599998474121, -1.0952999591827393, -3.6777000427246094, -3.4486000537872314, -4.699699878692627, -4.05019998550415, -4.957300186157227, -4.942599773406982, -5.139400005340576, -5.331500053405762, -5.002600193023682, -5.446300029754639, -5.62939977645874, -5.627600193023682, -4.995200157165527, -4.595799922943115, -5.588099956512451, -5.350800037384033, -5.333799839019775, -4.235000133514404, -3.7155001163482666, -3.5797998905181885, -5.156300067901611, -3.7344000339508057, -4.671000003814697, -3.1696999073028564, -3.9084999561309814, -4.279799938201904, -4.749499797821045, -3.8362998962402344, -3.8615000247955322, -4.182499885559082, -4.305200099945068, -4.306700229644775, -4.455900192260742, -4.738100051879883, -4.820000171661377, -4.86299991607666, -4.902200222015381, -4.9243998527526855, -4.971399784088135, -4.994699954986572, -5.270699977874756, -5.059800148010254, -5.313799858093262, -5.037199974060059, -5.356200218200684, -5.203800201416016, -5.400400161743164, -5.412199974060059, -5.412600040435791, -5.434999942779541, -5.434299945831299, -4.718200206756592, -5.447000026702881, -5.4471001625061035, -5.435200214385986, -5.436399936676025, -5.474299907684326, -2.1928999423980713, -3.584700107574463, -4.052800178527832, -4.683800220489502, -4.881100177764893, -4.31820011138916, -3.6851999759674072, -5.009799957275391, -4.74560022354126, -4.729700088500977, -4.31689977645874, -3.9374001026153564, -4.288400173187256, -3.676500082015991, -3.964099884033203, -4.325099945068359, -4.338099956512451, -3.180299997329712, -4.263500213623047, -4.4847002029418945, -4.871600151062012, -3.032399892807007, -3.5099000930786133, -3.5429000854492188, -3.5727999210357666, -2.6041998863220215, -4.578499794006348, -4.607600212097168, -4.5208001136779785, -4.7322998046875, -4.869699954986572, -4.533699989318848, -4.90310001373291, -5.090400218963623, -5.049300193786621, -5.132299900054932, -5.1554999351501465, -5.157800197601318, -5.292900085449219, -5.304500102996826, -5.340000152587891, -5.324100017547607, -5.531300067901611, -5.555300235748291, -5.557300090789795, -5.183800220489502, -5.246699810028076, -5.610499858856201, -5.059800148010254, -5.672699928283691, -5.0441999435424805, -1.973099946975708, -3.80679988861084, -4.291800022125244, -4.959499835968018, -4.860799789428711, -5.177199840545654, -4.161799907684326, -4.7428998947143555, -5.050899982452393, -5.048699855804443, -5.0746002197265625, -4.190499782562256, -4.125999927520752, -4.432799816131592, -4.612599849700928, -4.660200119018555, -4.5447001457214355, -4.5920000076293945, -3.3469998836517334, -4.483699798583984, -4.67579984664917, -4.315700054168701, -2.550800085067749, -4.157599925994873, -3.9918999671936035, -4.18720006942749, -4.417799949645996, -4.535399913787842, -4.581399917602539, -3.2681000232696533, -4.745500087738037, -4.144599914550781, -4.824999809265137, -4.897299766540527, -4.946899890899658, -4.956099987030029, -4.991499900817871, -5.000400066375732, -4.812699794769287, -3.3580000400543213, -5.025199890136719, -5.098999977111816, -5.103600025177002, -5.144700050354004, -5.32390022277832, -5.327099800109863, -5.334499835968018, -5.332099914550781, -5.3796000480651855, -5.3231000900268555, -5.376699924468994, -5.494100093841553, -1.8575999736785889, -4.513199806213379, -4.7118000984191895, -4.884300231933594, -4.6682000160217285, -4.062699794769287, -4.951700210571289, -3.306299924850464, -4.633999824523926, -4.693600177764893, -4.701099872589111, -4.3333001136779785, -4.785699844360352, -4.970099925994873, -4.602399826049805, -4.079699993133545, -4.099699974060059, -3.9855000972747803, -4.304800033569336, -4.417900085449219, -4.504300117492676, -4.563000202178955, -4.643700122833252, -4.536200046539307, -4.866199970245361, -4.890699863433838, -4.4222002029418945, -4.820400238037109, -4.899499893188477, -4.978700160980225, -4.98330020904541, -4.981900215148926, -5.143700122833252, -5.143099784851074, -5.213799953460693, -5.223499774932861, -5.311999797821045, -5.343100070953369, -3.4683001041412354, -5.110199928283691, -5.51039981842041, -5.520500183105469, -5.537799835205078, -5.1442999839782715, -5.564499855041504, -3.317699909210205, -3.5578999519348145, -3.6993000507354736, -3.281100034713745, -4.375800132751465, -4.119800090789795, -4.597700119018555, -4.639200210571289, -4.086299896240234, -4.537600040435791, -4.676000118255615, -4.569900035858154, -3.937000036239624, -4.616099834442139, -4.882500171661377, -3.214900016784668, -4.326399803161621, -4.327300071716309, -4.601500034332275, -4.40500020980835, -4.352499961853027, -4.610199928283691, -3.59689998626709, -3.881200075149536, -3.7506000995635986, -4.115600109100342, -4.208700180053711, -4.216100215911865, -4.35830020904541, -4.36359977722168, -4.528600215911865, -4.547800064086914, -4.295599937438965, -4.622499942779541, -4.721099853515625, -4.751100063323975, -4.680099964141846, -4.948299884796143, -4.978700160980225, -4.917799949645996, -4.974899768829346, -5.010300159454346, -4.361199855804443, -4.995200157165527, -5.071100234985352, -5.046500205993652, -5.112100124359131, -5.161200046539307, -5.109899997711182, -5.183899879455566, -5.230800151824951, -5.213799953460693, -3.276900053024292, -4.207900047302246, -4.425899982452393, -4.358399868011475, -4.472599983215332, -3.5346999168395996, -4.6230998039245605, -4.399899959564209, -4.916399955749512, -4.868599891662598, -4.375999927520752, -3.0406999588012695, -3.942500114440918, -4.760000228881836, -4.540800094604492, -4.711699962615967, -3.75819993019104, -4.200300216674805, -4.207399845123291, -4.320899963378906, -4.366399765014648, -4.381499767303467, -4.387499809265137, -4.675099849700928, -4.648600101470947, -4.672100067138672, -4.684100151062012, -4.751699924468994, -4.5883002281188965, -4.81220006942749, -4.696800231933594, -4.822000026702881, -4.844099998474121, -4.927299976348877, -4.959099769592285, -4.963600158691406, -5.001800060272217, -3.461899995803833, -4.679200172424316, -5.06790018081665, -5.09089994430542, -5.097099781036377, -5.084400177001953, -5.116300106048584, -5.168300151824951, -4.856400012969971, -4.046800136566162, -3.866499900817871, -4.288000106811523, -4.5208001136779785, -3.98580002784729, -4.808599948883057, -4.89900016784668, -4.1793999671936035, -4.210000038146973, -3.364500045776367, -3.3947999477386475, -3.8821001052856445, -4.612400054931641, -3.553100109100342, -4.0746002197265625, -4.414999961853027, -3.559799909591675, -4.001800060272217, -4.138999938964844, -4.373899936676025, -3.572499990463257, -3.956199884414673, -3.8640999794006348, -4.654099941253662, -4.5802998542785645, -4.774099826812744, -4.188199996948242, -4.89109992980957, -4.89739990234375, -4.913099765777588, -4.918300151824951, -4.934999942779541, -5.032199859619141, -5.077600002288818, -5.058700084686279, -4.881499767303467, -5.031300067901611, -5.058700084686279, -5.056700229644775, -5.264400005340576, -4.168600082397461, -5.308700084686279, -4.0665998458862305, -5.354100227355957, -5.448599815368652, -5.449999809265137, -4.0706000328063965, -4.367400169372559, -3.868799924850464, -4.633699893951416, -4.853000164031982, -4.86329984664917, -4.979599952697754, -4.531499862670898, -4.91480016708374, -4.118500232696533, -4.17080020904541, -3.660099983215332, -4.82450008392334, -3.8958001136779785, -3.290600061416626, -2.671299934387207, -3.9765000343322754, -4.677000045776367, -4.076499938964844, -4.1016998291015625, -3.9628000259399414, -4.010200023651123, -4.2052998542785645, -4.424200057983398, -4.656599998474121, -4.740099906921387, -4.878600120544434, -4.885900020599365, -4.6407999992370605, -4.796199798583984, -4.76609992980957, -5.030200004577637, -5.035200119018555, -5.0229997634887695, -2.9442999362945557, -5.135000228881836, -5.144499778747559, -5.186699867248535, -5.153800010681152, -4.906599998474121, -5.228799819946289, -4.543000221252441, -5.179200172424316, -5.176499843597412, -5.0229997634887695, -5.3445000648498535, -4.650899887084961, -5.53410005569458, -3.0499000549316406, -3.400099992752075, -4.212699890136719, -4.155200004577637, -4.271299839019775, -4.752299785614014, -4.340099811553955, -4.7895002365112305, -4.031899929046631, -3.4391000270843506, -4.410600185394287, -3.634999990463257, -4.394999980926514, -3.4489998817443848, -4.327199935913086, -4.111000061035156, -3.9086999893188477, -4.395299911499023, -3.921799898147583, -4.5553998947143555, -3.797800064086914, -4.439899921417236, -3.300100088119507, -3.476799964904785, -3.8422000408172607, -4.427599906921387, -4.478799819946289, -3.4247000217437744, -4.554900169372559, -3.519700050354004, -4.627699851989746, -2.536600112915039, -4.716899871826172, -4.532700061798096, -4.477099895477295, -2.724299907684326, -4.882999897003174, -5.066100120544434, -5.094699859619141, -5.058899879455566, -5.271900177001953, -5.271900177001953, -5.277200222015381, -5.27839994430542, -5.310999870300293, -5.066299915313721, -5.343699932098389, -5.482600212097168, -5.548399925231934, -5.5493998527526855, -5.560800075531006, -5.569300174713135, -3.7067999839782715, -3.9256999492645264, -4.0971999168396, -3.734999895095825, -4.1244001388549805, -4.719699859619141, -3.706700086593628, -5.08519983291626, -4.054800033569336, -4.258999824523926, -5.104499816894531, -4.729499816894531, -5.060400009155273, -4.524600028991699, -3.8808999061584473, -4.716700077056885, -4.645500183105469, -4.07289981842041, -3.695499897003174, -4.266900062561035, -4.350200176239014], \"loglift\": [30.0, 29.0, 28.0, 27.0, 26.0, 25.0, 24.0, 23.0, 22.0, 21.0, 20.0, 19.0, 18.0, 17.0, 16.0, 15.0, 14.0, 13.0, 12.0, 11.0, 10.0, 9.0, 8.0, 7.0, 6.0, 5.0, 4.0, 3.0, 2.0, 1.0, 2.1049, 2.1048, 2.1048, 2.1047, 2.1047, 2.1045, 2.1045, 2.1045, 2.1044, 2.1044, 2.1043, 2.1043, 2.1043, 2.1042, 2.1042, 2.1042, 2.1042, 2.1041, 2.1041, 2.1041, 2.104, 2.104, 2.1038, 2.1038, 2.1038, 2.1038, 2.1038, 2.1038, 2.1037, 2.1037, 2.1028, 2.1034, 2.0924, 2.1022, 2.0956, 2.102, 2.1016, 2.1019, 2.1035, 2.0987, 2.1029, 2.1031, 2.1028, 2.0896, 2.012, 2.0981, 2.0664, 2.0353, 1.7495, 1.5321, 1.4104, 1.928, 1.0181, 1.587, 0.5395, 0.6973, 0.6171, 0.547, 2.1202, 2.1202, 2.1201, 2.1201, 2.1201, 2.12, 2.12, 2.1199, 2.1199, 2.1199, 2.1199, 2.1198, 2.1198, 2.1197, 2.1197, 2.1197, 2.1197, 2.1197, 2.1196, 2.1196, 2.1196, 2.1196, 2.1196, 2.1196, 2.1196, 2.1196, 2.1196, 2.1196, 2.1196, 2.1196, 2.1176, 2.1181, 2.1194, 2.1193, 2.1144, 2.1086, 2.0904, 2.1148, 2.1077, 2.1067, 2.0962, 2.0537, 2.0601, 2.0126, 1.8538, 1.8955, 1.8902, 1.4255, 1.7425, 1.5716, 0.376, 2.2464, 2.2464, 2.2464, 2.2464, 2.2462, 2.2462, 2.2462, 2.2461, 2.2461, 2.246, 2.246, 2.246, 2.246, 2.246, 2.2459, 2.2459, 2.2459, 2.2458, 2.2458, 2.2458, 2.2458, 2.2456, 2.2456, 2.2456, 2.2456, 2.2456, 2.2456, 2.2455, 2.2455, 2.2455, 2.2435, 2.2452, 2.242, 2.2452, 2.2429, 2.2449, 2.2253, 2.2345, 2.2326, 2.2315, 2.232, 2.0052, 1.981, 1.9613, 2.007, 1.9891, 1.7941, 1.8095, 0.3622, 1.5736, 1.3805, 0.29, 2.2624, 2.2623, 2.2623, 2.2622, 2.2622, 2.2622, 2.2621, 2.2621, 2.2621, 2.2621, 2.2621, 2.262, 2.262, 2.262, 2.262, 2.262, 2.2619, 2.2619, 2.2619, 2.2619, 2.2619, 2.2619, 2.2618, 2.2618, 2.2618, 2.2618, 2.2617, 2.2617, 2.2617, 2.2617, 2.2549, 2.2605, 2.2607, 2.2598, 2.2411, 2.2093, 2.235, 1.9902, 2.138, 1.9802, 1.9392, 0.9143, 1.623, 2.1476, -0.8932, 2.3063, 2.3063, 2.3062, 2.3062, 2.3062, 2.3061, 2.3061, 2.3061, 2.306, 2.306, 2.306, 2.306, 2.306, 2.306, 2.306, 2.306, 2.3059, 2.3059, 2.3059, 2.3058, 2.3058, 2.3057, 2.3057, 2.3056, 2.3056, 2.3056, 2.3056, 2.3056, 2.3056, 2.3055, 2.305, 2.305, 2.3049, 2.299, 2.3049, 2.3021, 2.3051, 2.3055, 2.2995, 2.3019, 2.3018, 2.2949, 2.2564, 2.2743, 2.2927, 1.5377, 1.9487, 1.7931, 1.9317, 1.1573, -0.6433, 0.4239, 2.3548, 2.3548, 2.3547, 2.3547, 2.3547, 2.3547, 2.3547, 2.3547, 2.3546, 2.3546, 2.3546, 2.3546, 2.3546, 2.3546, 2.3545, 2.3545, 2.3544, 2.3544, 2.3544, 2.3544, 2.3544, 2.3544, 2.3544, 2.3544, 2.3544, 2.3543, 2.3543, 2.3543, 2.3543, 2.3543, 2.3535, 2.3538, 2.3542, 2.3532, 2.3534, 2.3439, 2.3525, 2.3256, 2.3488, 2.3457, 2.2901, 1.8562, -0.2333, 1.825, 0.8775, 1.4087, 2.3902, 2.3902, 2.3902, 2.3902, 2.3901, 2.3901, 2.3901, 2.39, 2.39, 2.39, 2.39, 2.39, 2.39, 2.39, 2.39, 2.39, 2.3899, 2.3899, 2.3899, 2.3899, 2.3899, 2.3899, 2.3899, 2.3898, 2.3898, 2.3898, 2.3898, 2.3898, 2.3898, 2.3898, 2.3893, 2.3871, 2.388, 2.3896, 2.3811, 2.3889, 2.3893, 2.3816, 2.3819, 2.3598, 2.2803, 2.233, 2.3489, 2.0092, 0.9595, 0.1908, 2.4089, 2.4088, 2.4088, 2.4087, 2.4087, 2.4086, 2.4086, 2.4086, 2.4086, 2.4085, 2.4085, 2.4085, 2.4085, 2.4085, 2.4085, 2.4084, 2.4084, 2.4084, 2.4083, 2.4083, 2.4083, 2.4083, 2.4083, 2.4082, 2.4082, 2.4082, 2.4082, 2.4081, 2.4081, 2.4081, 2.408, 2.4074, 2.3996, 2.4059, 2.4079, 2.4074, 2.4079, 2.3988, 2.4063, 2.3895, 2.3905, 2.3591, 2.3989, 2.0535, 1.7435, 1.0379, 0.776, 1.8712, 2.4379, 2.4379, 2.4379, 2.4379, 2.4379, 2.4378, 2.4377, 2.4377, 2.4376, 2.4376, 2.4376, 2.4376, 2.4376, 2.4375, 2.4375, 2.4375, 2.4375, 2.4375, 2.4374, 2.4374, 2.4374, 2.4374, 2.4374, 2.4374, 2.4374, 2.4374, 2.4374, 2.4373, 2.4373, 2.4371, 2.4341, 2.4287, 2.4368, 2.4358, 2.4368, 2.4363, 2.43, 2.4343, 2.4248, 2.4092, 2.4071, 2.3647, 2.363, 2.2157, 2.3337, 2.1657, 1.7483, 2.0175, 1.4965, 1.974, -0.0886, 0.457, 2.465, 2.4649, 2.4649, 2.4648, 2.4647, 2.4647, 2.4647, 2.4647, 2.4647, 2.4647, 2.4646, 2.4646, 2.4646, 2.4646, 2.4645, 2.4645, 2.4644, 2.4644, 2.4643, 2.4643, 2.4643, 2.4643, 2.4643, 2.4643, 2.4642, 2.4641, 2.464, 2.464, 2.464, 2.464, 2.464, 2.4639, 2.4632, 2.4571, 2.4605, 2.4632, 2.4529, 2.4638, 2.4456, 2.4458, 2.4624, 2.448, 2.4589, 2.3684, 2.1917, 2.3833, 2.1475, 0.9173, 0.0137, 1.1515, 1.3068]}, \"token.table\": {\"Topic\": [1, 2, 3, 4, 5, 6, 8, 2, 7, 5, 7, 8, 9, 10, 3, 3, 5, 7, 1, 2, 3, 4, 5, 6, 7, 8, 9, 10, 1, 2, 3, 4, 6, 7, 8, 9, 4, 3, 7, 1, 2, 4, 5, 6, 8, 9, 10, 4, 5, 6, 8, 1, 1, 9, 5, 5, 8, 9, 10, 3, 4, 7, 6, 5, 7, 8, 9, 10, 3, 7, 9, 10, 7, 6, 5, 6, 8, 2, 7, 7, 6, 10, 1, 1, 2, 3, 4, 5, 6, 7, 9, 9, 7, 8, 5, 4, 6, 7, 9, 10, 6, 1, 2, 9, 10, 1, 3, 10, 9, 10, 7, 4, 7, 10, 10, 4, 4, 8, 6, 2, 3, 1, 5, 9, 4, 1, 3, 4, 6, 7, 1, 2, 3, 6, 10, 1, 9, 6, 8, 9, 10, 1, 8, 9, 1, 3, 2, 1, 8, 1, 3, 1, 9, 1, 6, 9, 10, 3, 7, 8, 9, 1, 6, 3, 7, 10, 4, 2, 3, 6, 3, 5, 8, 1, 3, 1, 2, 3, 5, 7, 8, 4, 2, 7, 8, 1, 1, 7, 9, 10, 3, 4, 8, 3, 2, 7, 10, 2, 1, 2, 4, 5, 6, 8, 9, 2, 5, 9, 3, 4, 8, 9, 10, 4, 9, 8, 1, 4, 5, 6, 8, 1, 1, 4, 8, 9, 2, 3, 10, 4, 6, 8, 6, 9, 8, 10, 2, 4, 5, 1, 7, 1, 2, 5, 10, 1, 2, 5, 8, 10, 1, 3, 2, 9, 1, 3, 6, 7, 8, 9, 10, 7, 5, 10, 1, 3, 5, 2, 7, 10, 6, 3, 2, 3, 9, 9, 6, 3, 5, 6, 10, 5, 2, 5, 6, 5, 2, 5, 8, 1, 2, 3, 4, 5, 7, 9, 10, 8, 2, 3, 9, 1, 6, 8, 1, 3, 5, 6, 7, 1, 1, 2, 4, 3, 4, 5, 3, 5, 7, 9, 5, 8, 1, 5, 8, 10, 2, 2, 6, 4, 3, 9, 1, 3, 4, 7, 9, 10, 1, 5, 10, 5, 1, 3, 1, 2, 5, 6, 8, 10, 2, 6, 7, 2, 7, 10, 1, 2, 9, 2, 3, 6, 1, 3, 4, 9, 1, 2, 5, 7, 1, 5, 9, 6, 3, 6, 1, 2, 5, 8, 1, 4, 8, 10, 2, 4, 3, 1, 5, 6, 7, 8, 1, 7, 3, 8, 7, 6, 4, 3, 2, 5, 6, 7, 5, 7, 8, 10, 3, 7, 2, 4, 5, 1, 6, 6, 8, 9, 4, 5, 2, 5, 6, 7, 8, 6, 9, 10, 1, 3, 6, 8, 5, 9, 3, 6, 1, 7, 1, 7, 10, 4, 9, 5, 1, 2, 1, 5, 6, 8, 10, 1, 4, 8, 6, 9, 5, 10, 6, 9, 7, 5, 6, 10, 8, 4, 10, 4, 5, 6, 7, 4, 10, 2, 10, 3, 8, 5, 3, 4, 7, 5, 6, 7, 9, 10, 2, 3, 4, 5, 6, 9, 10, 7, 3, 1, 2, 5, 10, 6, 5, 1, 6, 7, 10, 1, 2, 3, 4, 5, 6, 7, 8, 9, 10, 4, 3, 8, 2, 5, 6, 7, 8, 3, 10, 1, 4, 5, 6, 7, 8, 10, 2, 10, 7, 2, 4, 8, 10, 5, 10, 1, 4, 6, 10, 1, 6, 10, 7, 3, 3, 5, 6, 10, 7, 8, 4, 5, 1, 1, 3, 1, 2, 6, 7, 9, 10, 9, 10, 5, 10, 3, 4, 5, 7, 8, 9, 10, 4, 6, 1, 3, 9, 7, 2, 7, 9, 10, 7, 2, 5, 8, 1, 5, 6, 2, 3, 5, 6, 7, 9, 8, 1, 9, 7, 1, 2, 3, 4, 6, 7, 8, 9, 4, 8, 9, 7, 5, 6, 7, 9, 2, 5, 3, 6, 1, 2, 3, 4, 5, 6, 9, 8, 9, 2, 1, 3, 4, 9, 10, 8, 1, 2, 4, 9, 5, 10, 3, 1, 2, 3, 4, 5, 6, 7, 8, 10, 4, 1, 2, 7, 9, 3, 2, 6, 9, 1, 7, 9, 5, 7, 2, 4, 5, 3, 8, 3, 8, 10, 2, 4, 5, 6, 8, 9, 4, 9, 3, 6, 2, 9, 5, 1, 5, 7, 9, 10, 2, 3, 4, 6, 7, 9, 9, 1, 6, 9, 3, 8, 9, 6, 7, 2, 3, 6, 1, 7, 10, 7, 8, 4, 5, 1, 2, 5, 7, 2, 5, 8, 1, 2, 2, 3, 5, 8, 1, 3, 8, 1, 4, 7, 4, 5, 1, 8, 4, 5, 7, 8, 9, 7, 1, 2, 5, 6, 7, 2, 4, 9, 7, 6, 8, 10, 4, 8, 2, 7, 8, 10, 10, 7, 5, 5, 4, 7, 9, 10, 2, 5, 2, 7, 10, 8, 1, 8, 9, 3, 5, 5, 1, 2, 4, 6, 8, 9, 1, 2, 5, 6, 9, 1, 3, 8, 2, 1, 5, 7, 9, 5, 5, 7, 8, 10, 9, 4, 1, 9, 1, 2, 3, 4, 5, 6, 7, 8, 9, 10, 6, 9, 5, 8, 1, 2, 10, 5, 9, 9, 3, 4, 9, 1, 2, 3, 4, 5, 6, 7, 8, 9, 10, 2, 4, 5, 7, 3, 4, 1, 9, 10, 2, 1, 2, 3, 4, 5, 6, 7, 10, 4, 5, 6, 8, 4, 10, 5, 8, 6, 7, 8, 6, 6, 10, 1, 2, 6, 10, 4, 5, 7, 8, 9, 1, 2, 4, 5, 6, 7, 3, 5, 7, 5, 3, 6, 7, 2, 2, 3, 5, 8, 10, 8, 6, 1, 3, 5, 7, 9, 9, 4, 1, 7, 6, 1, 2, 3, 4, 5, 6, 7, 8, 7, 1, 5, 10, 1, 4, 1, 2, 6, 8, 2, 7, 7, 10, 8, 3, 1, 3, 10, 2, 2, 3, 2, 6, 7, 8, 10, 1, 2, 4, 5, 6, 9, 10, 1, 2, 3, 4, 5, 6, 7, 8, 9, 10, 2, 2, 3, 6, 4, 4], \"Freq\": [0.0007503152695410014, 0.0003751576347705007, 0.002250945808623004, 0.0007503152695410014, 0.5985640062763338, 0.38810057317008295, 0.009003783234492016, 0.9998750558318674, 0.9992381493240629, 0.0004800261377144651, 0.990773948242656, 0.00024001306885723255, 0.0009600522754289302, 0.007440405134574209, 0.9993800376782654, 0.002282236046418636, 0.995562079804396, 0.0017750724805478278, 0.004554747928618754, 9.295403935956642e-05, 0.002881575220146559, 0.00027886211807869927, 0.09007246413941986, 0.22820216662773557, 9.295403935956642e-05, 0.014965600336890194, 0.38994219511338113, 0.2688230818278661, 0.00012016386958717733, 0.00036049160876153196, 0.00036049160876153196, 0.0033645883484409653, 0.00012016386958717733, 0.8957014839028198, 0.0009613109566974186, 0.09901502853983411, 0.999886031451914, 0.9998761408766157, 0.9997117769827253, 0.33721403085403845, 4.776402703314992e-05, 0.0006209323514309489, 0.46354988235672, 4.776402703314992e-05, 0.19535487056558318, 0.003009133703088445, 0.00014329208109944977, 0.9994983097050864, 0.0005754205433287328, 0.41516592201168073, 0.5840518514786639, 0.9992429457961414, 0.9974904467280196, 0.0018767459016519653, 0.9995056414111764, 0.08732775548907462, 0.0036555804623333563, 0.000812351213851857, 0.9078024814794502, 0.0010814709464194384, 0.9978371932296686, 0.0007209806309462923, 0.9992409535877169, 0.9995395075215003, 0.0005653659654278897, 0.0005653659654278897, 0.9961748310839417, 0.0028268298271394484, 0.9991059732136188, 0.001050131147202551, 0.9865982127967967, 0.012076508192829337, 0.9993695697162323, 0.9996361805559666, 0.9994216971246254, 0.9994825931213793, 0.998879954931755, 0.9940180433871996, 0.0053998264013790835, 0.9994048590859066, 0.011899106779115633, 0.9878209299908454, 0.9980075517942679, 0.044744802353409094, 0.0002182673285532151, 0.0034922772568514414, 0.9481532752351663, 0.0006548019856596453, 0.0002182673285532151, 0.001964405956978936, 0.0004365346571064302, 0.9997346675976707, 0.9997175210503385, 0.9986241686705905, 0.9991038653291864, 0.1718387947136068, 0.0028540699468003897, 0.023427157479986534, 0.8005666200775093, 0.001308115392283512, 0.9996255805516087, 0.012101492738425005, 0.9876379557488795, 0.9992374621154108, 0.9988195847921415, 0.0006944956584291348, 0.999379252479525, 0.9989103282614521, 0.9997013031929449, 0.9985050678095355, 0.9990874607282944, 0.002686113928268069, 0.0017907426188453794, 0.9953544389748901, 0.9991761164191939, 0.9993162319930882, 0.00021843394869698732, 0.9995537492374139, 0.9996789949320664, 0.9994171682213991, 0.9996912435532854, 0.999349094728497, 0.9883180054094605, 0.011055894587081458, 0.9993550450893388, 5.267318451793003e-05, 0.999684368965794, 5.267318451793003e-05, 5.267318451793003e-05, 0.00010534636903586006, 0.0004666929811494546, 0.354219972692436, 0.6361025333067066, 0.009100513132414364, 0.0002333464905747273, 0.9996739973427275, 0.9994311821918515, 7.389162472848592e-05, 0.00022167487418545777, 0.00022167487418545777, 0.9994581160775006, 0.01749021489871957, 0.9814925593998133, 0.0008745107449359786, 0.998743473176094, 0.9998629890819724, 0.9995581839594216, 0.9997152003305061, 0.9993401048044295, 0.9986610747938767, 0.9997446047604779, 0.0004936723176622994, 0.999192770948494, 0.9992247405293704, 0.9997387585848804, 0.0007827645678628116, 0.9988075885929476, 0.9986724686880203, 0.0010825695990225542, 0.9984900268318024, 0.00036085653300751806, 0.9995048959757749, 0.9995675244520401, 0.9986321139730677, 0.001051007311671357, 0.9994815940450879, 0.9994627111460855, 0.0005893139856659364, 0.005303825870993428, 0.9935833798327689, 0.00016950835812096793, 0.04830988206447586, 0.951280905774872, 0.9964483938919912, 0.003307320415952555, 0.005240118669808532, 0.897888240910448, 0.07835805359736944, 0.00012186322487926818, 0.0034121702966195093, 0.014867313435270719, 0.9994715323744952, 0.9995584221361098, 0.9996125961711028, 0.999633937939468, 0.9994035846131997, 0.012419518361018513, 0.059613688132888865, 0.9275605998772113, 0.9997361400622058, 0.001089661472794604, 0.9730676952055815, 0.025607044610673195, 0.9988057222005761, 0.0005918029531756483, 0.00039453530211709886, 0.9989633849604943, 0.998925390413225, 0.2258065794747645, 0.005187150163887553, 0.02372845287735795, 5.518244855199524e-05, 0.6072276638661556, 5.518244855199524e-05, 0.1379009389314361, 0.9990698305821339, 0.998751936147425, 0.999358118583486, 0.6459562029834223, 0.001242223467275812, 0.35229457531942027, 0.0002484446934551624, 0.0002484446934551624, 0.9998650239202441, 0.9997237279509069, 0.9998217902202088, 0.9974098900834688, 0.0015657926060964973, 0.000163185238960569, 0.000163185238960569, 0.9996727738724456, 0.9978935980885598, 0.003479744784582849, 0.00043496809807285614, 0.9906398433609298, 0.005219617176874274, 0.24684575752114907, 0.7518808338481353, 0.0012329957918139314, 0.9994616647372432, 0.9996410573289698, 0.9992619639645325, 0.9996271928370964, 0.9987178355496702, 0.9987876282266885, 0.9990200456483456, 0.47123934162952463, 0.5275478131465948, 0.0010010394936368022, 0.9965305357954108, 0.002876820253450955, 0.0004277119340852456, 0.0004277119340852456, 0.9991350780231337, 0.9993765604686273, 0.0003278347621456626, 0.0007649477783398794, 0.9925743815230178, 0.006010303972670481, 0.0002185565080971084, 0.013204489544835274, 0.9861352873711071, 0.007902414633307726, 0.9917530364801195, 0.9976330675071572, 1.0092903712956217e-05, 3.0278711138868648e-05, 5.046451856478108e-05, 1.0092903712956217e-05, 0.00224062462427628, 1.0092903712956217e-05, 0.9991162993309487, 0.9993595183183243, 0.9991524650667093, 0.13982972188313697, 0.5101847661151736, 0.3497504126699119, 0.001345884905251675, 0.017496503768271773, 0.980813624702158, 0.9998223673996401, 0.999893164177496, 0.999292995123661, 0.00038434345966294653, 0.999827288401078, 0.9989900154040364, 0.9996496680825551, 0.7667434890906372, 0.008328133480347255, 0.2130151474639931, 0.011474317239589549, 0.9997299833297818, 0.0013049210587089027, 0.9985545923698015, 0.9993740125359749, 0.9988434244734256, 0.9995641971395633, 0.9988094027342658, 0.0008203773328412861, 0.00016482654502052646, 0.9355554695365081, 0.002472398175307897, 0.00016482654502052646, 0.0003296530900410529, 0.0011537858151436852, 0.05966720929743057, 0.0004944796350615793, 0.9989875354488466, 0.21418194988260145, 0.7855360654806648, 0.999741844021936, 0.9934506973640015, 0.001500680811728099, 0.004502042435184297, 0.990384661784321, 0.0003847648258680346, 0.00846482616909676, 0.0001923824129340173, 0.0003847648258680346, 0.9997202999385523, 0.9929502974414006, 0.001795570158121882, 0.004488925395304704, 0.9996140451547039, 0.0013360415610793792, 0.998524061711701, 0.00026530030825932724, 0.9991209609046264, 0.00026530030825932724, 0.00013265015412966362, 0.986125301355054, 0.012925727598318568, 0.9967664733352085, 0.002878055264682989, 0.9989606225368968, 0.9995361368881625, 0.9992210043262127, 0.9998761175389915, 0.9995304240617371, 0.9996336899156404, 0.9996585454217083, 0.9995022573258049, 0.0022282374739171318, 0.7731984034492447, 0.0006366392782620377, 0.02737548896526762, 0.1788956371916326, 0.017507580152206034, 0.9986072812874108, 0.0006983267701310565, 0.9999024054291002, 0.9994626001990128, 0.9996706567813994, 0.9997484435878381, 0.00025482951756261357, 0.9884836986253781, 0.0010193180702504543, 0.010193180702504544, 0.016733935571720496, 0.9829837637452589, 0.9864658033628513, 0.00038383883399332737, 0.012666681521779802, 0.9997180444582238, 0.9592955828452113, 0.040441744879693854, 0.31986261974724983, 0.02336781118342045, 0.6565601142180392, 0.02032706392503421, 0.9791277297865875, 0.0004898087692779327, 0.04326180284832625, 0.7870557989620498, 0.16903004398596044, 0.0003090128774880447, 0.9993042288572704, 0.794354683769747, 0.20516998933768846, 0.00020893074270640372, 0.9970975776040527, 0.00074161218118561, 0.0018540304529640252, 0.9995914439121688, 0.9992861253598225, 0.9994939083866231, 0.9991050856585382, 0.00047029804094891734, 0.0018811921637956694, 0.9970318468117048, 0.9618502253006989, 0.028128287615783634, 0.009604781137096851, 0.9996742138744407, 0.9989873911134558, 0.0007424655452348241, 0.998879408510331, 0.7007567125343147, 0.0008186410193157882, 0.2961843207884522, 0.0004911846115894729, 0.0016372820386315763, 0.9982484086818394, 0.9997307236535099, 0.9852550534704961, 0.014357086389369708, 0.9996553698419417, 0.9989369814103675, 0.9999062962959211, 0.9995543846639233, 0.0003798565209157322, 0.0003798565209157322, 0.99864279348746, 0.0003798565209157322, 0.00026837354874984534, 0.00026837354874984534, 0.9991547219956741, 0.9997924483766781, 0.9994360469785866, 0.999470789678446, 0.9998338825993507, 0.8831277678880676, 0.11659877620038056, 0.000874861248740071, 0.9987999256449143, 0.00565188680131827, 0.9902105675909608, 0.0039563207609227885, 0.004421376017633819, 0.9952517415693727, 0.9989980504935969, 0.0003387505140789816, 0.9982977649907587, 0.0006775010281579632, 0.0006775010281579632, 0.5886520775985031, 0.1110439010479935, 0.29999763589578887, 0.0006894484800074795, 0.9983213990508302, 0.9997902595283359, 0.9995758906678496, 0.9991836114477597, 0.9993931408096319, 0.9996308062561898, 0.9995233756059475, 0.9993799737253668, 0.9995415929125132, 0.0006538980462927059, 0.9975214696195228, 0.0016347451157317646, 0.9995359712775727, 0.9991861496703329, 0.99910115974846, 0.0005926812690421968, 0.9990630591821297, 0.008820188442732283, 0.00036750785178051173, 0.2627681140230659, 0.00036750785178051173, 0.7280330543771938, 0.0002079118121328275, 0.9996399927346347, 0.00010395590606641375, 0.9997335384365355, 0.9994592287074257, 0.999536318943602, 0.9988529740434561, 0.9889562965629057, 0.010898401481110206, 0.9994632592059784, 0.9996493506813781, 0.9991671606518275, 0.0003628057954436556, 0.9996269085158354, 0.001628216908151617, 0.9980969646969412, 0.00030057773579297663, 0.005410399244273579, 0.0027051996221367897, 0.9916059503810298, 0.000982059297431026, 0.9987543054873534, 0.9993624751428336, 0.9994354274114828, 0.0005346692102949523, 0.9992967540412658, 0.9996519332726619, 0.00032619552339040186, 0.7541640500786091, 0.24529903358958222, 0.6992974562891893, 0.2773982082399508, 0.0002189409694080117, 0.0002189409694080117, 0.022988801787841226, 0.7660576777969729, 0.0004158084011924948, 0.0004158084011924948, 0.2299420458594496, 0.0008316168023849896, 0.0006930140019874913, 0.0016632336047699792, 0.9993166340732753, 0.9994997909992929, 0.0043885515155989065, 0.00027428446972493166, 0.014262792425696445, 0.9805669792666306, 0.9995049978940577, 0.9993149418492812, 0.10049759837851512, 0.05543461832266848, 0.08297310613457476, 0.7608848418159818, 0.20895109162014971, 0.03706871113216217, 0.151943014763243, 0.04260461942198575, 0.05234714495331662, 0.07514701040228608, 0.012030925310710826, 0.25382728435254936, 0.07990890111967233, 0.08616834757503516, 0.9995519974248176, 0.0002395026143237549, 0.999683912187353, 0.9998474137890078, 0.0004411593154039338, 0.9974612121282943, 0.0008823186308078676, 0.0008823186308078676, 0.0003675290710549861, 0.9995565635792105, 0.2104854377281562, 0.7616314353447278, 0.0012342773909000558, 0.0005759961157533594, 0.0004114257969666853, 0.025014688455574464, 0.0004937109563600223, 0.9994392343103755, 0.9994148870094617, 0.9996516995214058, 0.9973199761262139, 0.00033771031975953067, 0.00184205628959744, 0.0004912150105593173, 0.005318512806121006, 0.9938021072008965, 0.9989665428441875, 0.8914010643072445, 0.10780206824480082, 0.9995205593876094, 0.0010342234704597132, 0.9984853038693831, 0.00034474115681990436, 0.9991014166994054, 0.9997261323009571, 0.0012090724558702559, 0.00020151207597837598, 0.006448386431308031, 0.9920439500415449, 0.009696830157920031, 0.989919878730271, 0.9971871924477944, 0.002088350141251925, 0.9989178305963192, 0.011489783613875803, 0.9881213907933191, 8.961749851800003e-05, 0.00026885249555400005, 8.961749851800003e-05, 0.00017923499703600005, 0.9993247259742183, 8.961749851800003e-05, 0.9997911762774815, 0.9992734133184543, 0.9992419898904626, 0.9994878008310056, 0.0012611391515357415, 0.0022420251582857625, 0.001821645441107182, 0.0002802531447857203, 0.0005605062895714406, 0.9905547402451285, 0.0030827845926429233, 0.9998321330346284, 0.9991390491878341, 0.9991139783908004, 0.0007661917012199389, 0.9994056774764608, 0.9997744360906785, 0.9993197505732776, 0.9984995995850713, 0.0005507444013155385, 0.0005507444013155385, 0.9995306653680229, 0.031193818711924937, 0.9682237236558519, 0.9994513129321166, 0.006603794386316897, 0.9930150077202445, 0.999705992875731, 0.0032864696560774794, 0.016146568310293704, 0.0008573399102810816, 0.008001839162623427, 0.00014288998504684693, 0.9715090083335123, 0.9995483768189988, 0.9992523713457916, 0.9996529332982753, 0.9993912438400169, 0.0010028936583201143, 0.0020057873166402286, 0.9963748495410335, 0.04305640347765148, 0.01845274434756492, 0.00016624094006815243, 0.008977010763680232, 0.929120614040904, 0.00031840734774326066, 0.0006368146954865213, 0.9985254425228655, 0.999332504483443, 9.92648584493063e-05, 0.0024816214612326574, 0.0013897080182902883, 0.9959243248218901, 0.9998486300800566, 0.9995502883803026, 0.9997317047212635, 0.9996507982379558, 0.5638102950518988, 0.17474592883470944, 7.836140306489212e-05, 0.2596896897570525, 0.0007836140306489212, 0.0007836140306489212, 7.836140306489212e-05, 0.9998348307381136, 0.9998220193622067, 0.9993858207174633, 0.013334741543667001, 0.17087350225867096, 0.00011800656233333629, 0.5016458964790126, 0.3140154623690079, 0.9996343462870314, 0.0287081448557381, 0.24733170952635902, 0.7236976296600353, 0.9995492319324368, 0.07793583226965692, 0.9212415045208164, 0.9991099813995056, 0.0006962743717519543, 0.01284942704233152, 0.07747634827494473, 0.0024053114660522058, 0.15216759906288166, 6.329767015926857e-05, 0.2390753001915574, 0.5139770816932608, 0.0012026557330261029, 0.9997833269824832, 0.001119467171429356, 0.13321659340009337, 0.8543400296625036, 0.011194671714293562, 0.9988734776694204, 0.9763090456117429, 0.001256834507739113, 0.022371654237756212, 0.9994377519911875, 0.0016375941483598735, 0.9983865657834029, 0.9985148520052349, 0.001368297159308304, 0.9978404885035769, 0.00012354097913873678, 0.0018531146870810517, 0.9858086605972451, 0.014126853080209743, 0.9992349410197469, 0.9971418217134842, 0.0018696409157127828, 0.000158072379799851, 0.000158072379799851, 0.298124508302519, 0.000474217139399553, 0.7007348596527395, 0.000158072379799851, 0.9787718012988947, 0.02064048505480588, 0.9996682411831295, 0.9997624264013885, 0.9996233552926209, 0.9993085696660979, 0.999436200776993, 0.00012622235612683776, 0.02991469840206055, 0.9697663621224946, 0.00012622235612683776, 0.9989406912700871, 0.6854052068293078, 0.0018402385343232574, 0.00033458882442241047, 0.3078217184686176, 0.0006691776488448209, 0.0038477714808577202, 0.9987742736227508, 0.005179631999617836, 0.9371896649308522, 0.05729967899577231, 0.9990238596216883, 0.9993547061659921, 0.00030201109282743794, 0.9993706695873433, 0.0003401533933244872, 0.9992299739380449, 0.9989380674936053, 0.0006039528824024216, 0.5955903107987593, 0.4040198819549228, 0.00021524767285824336, 0.9994139384200983, 0.000430163818545236, 0.9994313946067491, 0.9997016354093706, 0.9845451916555823, 0.009840531650730459, 0.004920265825365229, 0.9995278065752345, 0.9989888908983514, 0.9997660169364218, 0.9998560094646193, 0.058203377020477017, 0.9416222452381626, 0.5777270360657446, 0.4206289108505467, 0.0007036870110423199, 0.0008796087638028999, 0.9992753048246532, 0.0005921078298171035, 0.9991819628163621, 0.9979769800758336, 0.9993541311257675, 0.9996428318001181, 0.9992457252974108, 0.9993390142346259, 0.999213233759553, 0.9990504809229328, 0.00025718818626528254, 0.00025718818626528254, 0.9989189154543575, 0.00025718818626528254, 0.00025718818626528254, 0.9995885215870524, 0.8375026931640566, 0.0034424655620366386, 0.1067164324231358, 0.04229314833359299, 0.009835615891533254, 0.9990907478112608, 0.9996654456241149, 0.9992502846555572, 0.9995094705970654, 0.9996038388849509, 0.9994670131108913, 0.9995521275566212, 0.9996298674082594, 0.9994253731062696, 0.0004132932403644077, 0.9989297619607734, 0.9987382781692324, 0.0005868027486305714, 0.9993757133201087, 0.9995187699140708, 0.9993022080606372, 0.9997574592214544, 0.9995295555425161, 0.00014888859339120072, 0.00014888859339120072, 0.9996380160285216, 0.9995492179111674, 0.9994237408603621, 0.9943674254626724, 0.0025601632993374674, 0.0025601632993374674, 0.9992815640283912, 0.99861218526627, 0.23837488336395507, 0.7613961315912162, 0.004235226333093471, 0.9956632088527015, 0.9989090230790548, 0.00690947495058831, 0.0008291369940705972, 0.009396885932800102, 0.0016582739881411943, 0.9805926849874929, 0.0002763789980235324, 0.0019929606288564676, 0.9705718262530998, 0.0006643202096188226, 0.026572808384752903, 0.00013286404192376452, 0.9323747832255129, 0.06669160441024005, 0.9996230358999537, 0.9994640175352039, 0.9990434906065276, 0.00045785677846311995, 0.0010127413441706574, 0.9985629653522683, 0.9992684595928355, 0.31687360166653006, 0.6830171840799901, 0.00010734200598459691, 0.9994557568025033, 0.9988554855656715, 0.9996185488643666, 0.0004432278189587411, 0.9990355039330023, 0.9873294840589005, 0.0016812762606366973, 0.00010507976628979358, 0.0010507976628979358, 0.0026269941572448397, 0.0003152392988693807, 0.006199706211097822, 0.00010507976628979358, 0.00042031906515917433, 0.00010507976628979358, 0.09886165843587956, 0.9007037740884531, 0.9985049247678359, 0.001313822269431363, 0.9976481206303647, 0.0009402904058721628, 0.0009402904058721628, 0.002102174927541156, 0.9976321584702457, 0.9994236808553281, 0.9996304641605608, 0.9990733250733611, 0.9990119054946961, 0.00016769737271524158, 0.00041924343178810394, 0.9969888303542304, 0.0005589912423841386, 5.589912423841386e-05, 2.794956211920693e-05, 0.001621074602914002, 0.00011179824847682773, 2.794956211920693e-05, 2.794956211920693e-05, 0.00020176046009495502, 0.048018989502599294, 0.951098808887618, 0.0006052813802848651, 0.0013193884035672865, 0.9983372253659134, 0.3712566405636091, 0.6287365312054428, 0.999748794451394, 0.999697083546398, 0.005138010806702324, 5.037265496766985e-05, 0.0007304034970312128, 0.992492420827999, 0.0004281675672251937, 2.5186327483834923e-05, 7.555898245150478e-05, 0.0010830120818049018, 0.9994334795724782, 0.00011371412897627469, 0.00011371412897627469, 0.00022742825795254938, 0.9998410820192902, 0.9995677441066552, 0.9997078775946067, 0.999105630640611, 0.9998443321170897, 0.9996976531979594, 0.999471797925746, 0.9997919645962262, 0.0003274246082191824, 0.999627328893164, 0.9108769186394232, 0.08763716917516409, 0.0006107119803147323, 0.00030535599015736614, 0.9993714725081374, 0.9997404788080978, 0.0011851049589921092, 0.998450927950852, 0.9992123354363361, 0.0002834174106673311, 0.30212295977137493, 0.008785939730687264, 0.6872872208682779, 0.0002834174106673311, 0.0011336696426693244, 0.9954429969136265, 0.003686825914494913, 0.0005672039868453712, 0.9991908060931834, 0.9984552637102228, 0.0011093947374558031, 0.9996398767972035, 0.9997366044151564, 0.9994388033100334, 0.0005824579867747706, 0.0002912289933873853, 0.0008736869801621559, 0.9980417603385694, 0.9994451367862612, 0.9995931950696691, 0.027500015480877847, 0.0018835627041697155, 0.0003767125408339431, 0.0007534250816678862, 0.9692813675657356, 0.9990479876972359, 0.9997913324001855, 0.0006031005354420575, 0.9987344866920473, 0.9996759022712075, 0.24465068012374763, 0.49915832460177306, 0.1413381457828866, 0.00012372758603695935, 0.0015672160898014852, 4.1242528678986456e-05, 0.1108186745604366, 0.0022270965486652686, 0.9993279877170222, 0.0007968173505336534, 0.0007968173505336534, 0.9976153228681341, 0.9989924777542681, 0.9991783433321672, 0.9997537177327371, 0.002240165680413044, 0.9907132721626688, 0.0067204970412391325, 0.008451409071778042, 0.9911462845902455, 0.9996194528222745, 0.9996830146594105, 0.9995806243538989, 0.9998437416641506, 0.9985537828382931, 0.00023556352508570253, 0.0009422541003428101, 0.9993961980351507, 0.7986688623155171, 0.20111858682400094, 0.00021429617052057392, 0.00021429617052057392, 0.9966914890911893, 0.002571554046246887, 0.00021429617052057392, 0.9982566487567655, 0.0004007989756785728, 0.0005343986342380971, 0.00013359965855952428, 0.00013359965855952428, 0.00026719931711904855, 0.00026719931711904855, 0.4991952518267704, 0.01878040389154112, 0.04355842063876795, 0.0010904750646701295, 0.08384541608352551, 0.0015145487009307354, 0.0005452375323350648, 0.028534097525535054, 0.11019856347972032, 0.2127032195587125, 0.9995662769193852, 0.027483386604600417, 0.0010306269976725155, 0.9711941741400671, 0.9987520239747052, 0.9997742063504488], \"Term\": [\"ability\", \"ability\", \"ability\", \"ability\", \"ability\", \"ability\", \"ability\", \"abraham\", \"absence\", \"abundance\", \"abundance\", \"abundance\", \"abundance\", \"abundance\", \"accomplishment\", \"achievement\", \"achievement\", \"achievement\", \"act\", \"act\", \"act\", \"act\", \"act\", \"act\", \"act\", \"act\", \"act\", \"act\", \"action\", \"action\", \"action\", \"action\", \"action\", \"action\", \"action\", \"action\", \"aim\", \"albert\", \"alcott\", \"amp\", \"amp\", \"amp\", \"amp\", \"amp\", \"amp\", \"amp\", \"amp\", \"anger\", \"answer\", \"answer\", \"answer\", \"anthony\", \"anxiety\", \"anxiety\", \"arise\", \"ask\", \"ask\", \"ask\", \"ask\", \"asset\", \"asset\", \"asset\", \"attain\", \"attempt\", \"attention\", \"attention\", \"attention\", \"attention\", \"attitude\", \"attract\", \"attract\", \"attract\", \"b\", \"bach\", \"bar\", \"battle\", \"beat\", \"beauty\", \"beauty\", \"benefit\", \"benjamin\", \"benjamin\", \"bertrand\", \"bhajan\", \"bhajan\", \"bhajan\", \"bhajan\", \"bhajan\", \"bhajan\", \"bhajan\", \"bhajan\", \"bind\", \"bite\", \"bittersweet\", \"blessing\", \"body\", \"body\", \"body\", \"body\", \"body\", \"bonaparte\", \"brault\", \"brault\", \"breath\", \"brick\", \"bridge\", \"bridge\", \"brinkley\", \"buddha\", \"buffet\", \"buffett\", \"business\", \"business\", \"business\", \"buy\", \"c\", \"care\", \"care\", \"carl\", \"case\", \"cash\", \"celebrate\", \"challenge\", \"challenge\", \"chance\", \"change\", \"change\", \"change\", \"change\", \"change\", \"character\", \"character\", \"character\", \"character\", \"character\", \"child\", \"childhood\", \"choice\", \"choice\", \"choice\", \"choice\", \"choose\", \"choose\", \"choose\", \"chop\", \"churchill\", \"clement\", \"climb\", \"coco\", \"commitment\", \"communication\", \"conflict\", \"conflict\", \"confuciu\", \"confucius\", \"connection\", \"connection\", \"conscience\", \"consent\", \"consent\", \"consent\", \"consist\", \"content\", \"control\", \"control\", \"controversy\", \"conversation\", \"count\", \"count\", \"count\", \"courage\", \"courage\", \"courage\", \"covey\", \"covey\", \"create\", \"create\", \"create\", \"create\", \"create\", \"create\", \"creation\", \"cross\", \"cruelty\", \"dalai\", \"dale\", \"dance\", \"dance\", \"dance\", \"danger\", \"dare\", \"dare\", \"dare\", \"darkness\", \"david\", \"david\", \"david\", \"dawn\", \"day\", \"day\", \"day\", \"day\", \"day\", \"day\", \"day\", \"deal\", \"death\", \"decide\", \"decision\", \"decision\", \"decision\", \"decision\", \"decision\", \"defeat\", \"define\", \"denis\", \"deserve\", \"deserve\", \"desire\", \"desire\", \"desire\", \"destination\", \"difference\", \"difference\", \"difference\", \"difference\", \"difficulty\", \"difficulty\", \"difficulty\", \"dig\", \"discourage\", \"discouragement\", \"discover\", \"disease\", \"disney\", \"distance\", \"dog\", \"dog\", \"dog\", \"door\", \"door\", \"doubt\", \"doubt\", \"doubt\", \"dr\", \"dream\", \"dream\", \"dream\", \"dream\", \"dream\", \"drive\", \"drive\", \"drucker\", \"drucker\", \"dyer\", \"dyer\", \"dyer\", \"dyer\", \"dyer\", \"dyer\", \"dyer\", \"earth\", \"ease\", \"edge\", \"edison\", \"edison\", \"edison\", \"effort\", \"effort\", \"effort\", \"ego\", \"einstein\", \"eleanor\", \"eleanor\", \"eliot\", \"elliot\", \"emerson\", \"end\", \"end\", \"end\", \"end\", \"enemy\", \"energy\", \"energy\", \"enjoy\", \"enthusiasm\", \"existence\", \"expectation\", \"expectation\", \"experience\", \"experience\", \"experience\", \"experience\", \"experience\", \"experience\", \"experience\", \"experience\", \"expertise\", \"eye\", \"eye\", \"fact\", \"fail\", \"fail\", \"fail\", \"failure\", \"failure\", \"failure\", \"failure\", \"failure\", \"fall\", \"family\", \"family\", \"family\", \"fantasy\", \"fear\", \"fear\", \"feel\", \"feel\", \"feel\", \"feel\", \"feeling\", \"feeling\", \"fight\", \"fight\", \"find\", \"finger\", \"fire\", \"fool\", \"foot\", \"force\", \"forget\", \"forgiveness\", \"form\", \"form\", \"form\", \"form\", \"form\", \"form\", \"fortune\", \"fortune\", \"franklin\", \"freedom\", \"frustration\", \"fuller\", \"future\", \"future\", \"future\", \"future\", \"gain\", \"gain\", \"game\", \"game\", \"game\", \"gandhi\", \"genius\", \"genius\", \"george\", \"george\", \"george\", \"get\", \"get\", \"get\", \"gift\", \"gift\", \"gift\", \"gift\", \"glory\", \"goal\", \"goal\", \"goal\", \"god\", \"god\", \"god\", \"goethe\", \"gogh\", \"greatness\", \"ground\", \"grow\", \"grow\", \"grow\", \"guidance\", \"guidance\", \"guidance\", \"habit\", \"hand\", \"hand\", \"hang\", \"happiness\", \"happiness\", \"happiness\", \"happiness\", \"happiness\", \"harder\", \"harm\", \"harry\", \"harry\", \"hate\", \"heal\", \"heart\", \"hell\", \"help\", \"help\", \"help\", \"help\", \"hemingway\", \"hemingway\", \"hemingway\", \"henry\", \"hepburn\", \"hill\", \"history\", \"hoffer\", \"hoffer\", \"hold\", \"hold\", \"honor\", \"honor\", \"honor\", \"hope\", \"hope\", \"hubbard\", \"huie\", \"huie\", \"huie\", \"huie\", \"idea\", \"idea\", \"idea\", \"ignorance\", \"ignorance\", \"imagination\", \"impact\", \"imperfection\", \"impossibility\", \"influence\", \"inspiration\", \"inspire\", \"intent\", \"intention\", \"intention\", \"intention\", \"jack\", \"jefferson\", \"jerry\", \"jim\", \"jim\", \"job\", \"job\", \"job\", \"job\", \"job\", \"john\", \"john\", \"john\", \"jonathan\", \"journey\", \"joy\", \"jr\", \"judge\", \"judge\", \"judgment\", \"jump\", \"jung\", \"jung\", \"kennedy\", \"kill\", \"kill\", \"kind\", \"kind\", \"kind\", \"kind\", \"king\", \"king\", \"knowledge\", \"lady\", \"lama\", \"lama\", \"lao\", \"lead\", \"lead\", \"lead\", \"leader\", \"leader\", \"leader\", \"leader\", \"leader\", \"learn\", \"learn\", \"learn\", \"learn\", \"learn\", \"learn\", \"learn\", \"lengthen\", \"lesson\", \"let\", \"let\", \"let\", \"let\", \"letter\", \"lewis\", \"lie\", \"lie\", \"lie\", \"lie\", \"life\", \"life\", \"life\", \"life\", \"life\", \"life\", \"life\", \"life\", \"life\", \"life\", \"light\", \"limit\", \"limit\", \"lincoln\", \"lockwood\", \"lockwood\", \"lockwood\", \"lockwood\", \"look\", \"look\", \"love\", \"love\", \"love\", \"love\", \"love\", \"love\", \"love\", \"mahatma\", \"mail\", \"make\", \"man\", \"man\", \"man\", \"man\", \"management\", \"management\", \"mandela\", \"mark\", \"mark\", \"martin\", \"matter\", \"matter\", \"matter\", \"maxwell\", \"maya\", \"mean\", \"mean\", \"mean\", \"mean\", \"mediocrity\", \"mediocrity\", \"meet\", \"meet\", \"memory\", \"michael\", \"michael\", \"mind\", \"mind\", \"mind\", \"mind\", \"mind\", \"mind\", \"miracle\", \"mirror\", \"mistake\", \"mlk\", \"moment\", \"moment\", \"moment\", \"moment\", \"moment\", \"moment\", \"moment\", \"monroe\", \"mother\", \"mountain\", \"mountain\", \"music\", \"napoleon\", \"nature\", \"need\", \"need\", \"need\", \"nietzsche\", \"night\", \"night\", \"norman\", \"obstacle\", \"obstacle\", \"opinion\", \"opportunity\", \"opportunity\", \"opportunity\", \"opportunity\", \"opportunity\", \"opportunity\", \"oprah\", \"optimism\", \"order\", \"page\", \"pain\", \"pain\", \"pain\", \"passion\", \"passion\", \"passion\", \"passion\", \"passion\", \"path\", \"path\", \"path\", \"patience\", \"peace\", \"peace\", \"peace\", \"peace\", \"peale\", \"percent\", \"perception\", \"perfection\", \"person\", \"person\", \"person\", \"person\", \"person\", \"person\", \"person\", \"pessimist\", \"peter\", \"pickford\", \"place\", \"place\", \"place\", \"place\", \"place\", \"plant\", \"play\", \"play\", \"play\", \"pocket\", \"point\", \"point\", \"position\", \"power\", \"power\", \"power\", \"power\", \"power\", \"power\", \"power\", \"power\", \"power\", \"ppl\", \"practice\", \"practice\", \"practice\", \"practice\", \"precede\", \"presence\", \"presence\", \"presence\", \"pressure\", \"prevent\", \"prevent\", \"problem\", \"problem\", \"proverb\", \"proverb\", \"proverb\", \"pull\", \"pull\", \"push\", \"quality\", \"quality\", \"question\", \"question\", \"question\", \"question\", \"question\", \"question\", \"race\", \"race\", \"rain\", \"ralph\", \"rate\", \"react\", \"read\", \"reality\", \"reality\", \"reality\", \"reality\", \"rearview\", \"reason\", \"reason\", \"reason\", \"reason\", \"reason\", \"reason\", \"receive\", \"refuse\", \"refuse\", \"refuse\", \"reject\", \"relationship\", \"relationship\", \"release\", \"release\", \"repeat\", \"reputation\", \"reputation\", \"respect\", \"respect\", \"respect\", \"result\", \"result\", \"reward\", \"rice\", \"rise\", \"rise\", \"rise\", \"risk\", \"river\", \"road\", \"robert\", \"rohn\", \"rohn\", \"roosevelt\", \"roosevelt\", \"roosevelt\", \"roosevelt\", \"root\", \"rule\", \"rule\", \"russell\", \"ruth\", \"sail\", \"scott\", \"sea\", \"search\", \"seed\", \"self\", \"self\", \"self\", \"self\", \"self\", \"seneca\", \"sense\", \"sense\", \"sense\", \"sense\", \"sense\", \"shadow\", \"shakespeare\", \"shell\", \"ship\", \"shoe\", \"shore\", \"show\", \"shut\", \"sight\", \"silence\", \"silence\", \"sir\", \"sir\", \"slip\", \"smile\", \"solution\", \"solve\", \"sort\", \"soul\", \"soul\", \"soul\", \"source\", \"space\", \"speak\", \"speak\", \"speak\", \"speech\", \"speed\", \"spirit\", \"spirit\", \"stand\", \"stand\", \"star\", \"start\", \"start\", \"start\", \"start\", \"start\", \"start\", \"step\", \"step\", \"step\", \"step\", \"step\", \"stephen\", \"stephen\", \"stevenson\", \"stone\", \"stop\", \"stop\", \"storm\", \"storm\", \"strategy\", \"strength\", \"strength\", \"strength\", \"strengthen\", \"stress\", \"strike\", \"stuff\", \"stuff\", \"success\", \"success\", \"success\", \"success\", \"success\", \"success\", \"success\", \"success\", \"success\", \"success\", \"suit\", \"suit\", \"sun\", \"sun\", \"talent\", \"talent\", \"talent\", \"talk\", \"talk\", \"teach\", \"teacher\", \"tension\", \"thatcher\", \"thing\", \"thing\", \"thing\", \"thing\", \"thing\", \"thing\", \"thing\", \"thing\", \"thing\", \"thing\", \"think\", \"think\", \"think\", \"think\", \"thinking\", \"thinking\", \"thomas\", \"thomas\", \"thoreau\", \"till\", \"time\", \"time\", \"time\", \"time\", \"time\", \"time\", \"time\", \"time\", \"today\", \"today\", \"today\", \"today\", \"tomorrow\", \"tooth\", \"tracy\", \"travel\", \"treat\", \"trouble\", \"truman\", \"trust\", \"truth\", \"truth\", \"try\", \"try\", \"try\", \"try\", \"twain\", \"tzu\", \"understand\", \"understand\", \"universe\", \"use\", \"use\", \"use\", \"use\", \"use\", \"use\", \"value\", \"value\", \"value\", \"version\", \"victor\", \"victor\", \"victory\", \"vincent\", \"voltaire\", \"wait\", \"wait\", \"wait\", \"wait\", \"waitley\", \"waldo\", \"want\", \"want\", \"want\", \"want\", \"want\", \"war\", \"waste\", \"watch\", \"watch\", \"water\", \"way\", \"way\", \"way\", \"way\", \"way\", \"way\", \"way\", \"way\", \"weakness\", \"wealth\", \"wealth\", \"wealth\", \"weather\", \"wilde\", \"william\", \"willingness\", \"willingness\", \"willingness\", \"win\", \"win\", \"wind\", \"windshield\", \"winfrey\", \"winston\", \"wisdom\", \"wisdom\", \"wisdom\", \"wise\", \"woman\", \"woman\", \"word\", \"word\", \"word\", \"word\", \"word\", \"work\", \"work\", \"work\", \"work\", \"work\", \"work\", \"work\", \"world\", \"world\", \"world\", \"world\", \"world\", \"world\", \"world\", \"world\", \"world\", \"world\", \"worry\", \"year\", \"year\", \"year\", \"yesterday\", \"yogi\"]}, \"R\": 30, \"lambda.step\": 0.01, \"plot.opts\": {\"xlab\": \"PC1\", \"ylab\": \"PC2\"}, \"topic.order\": [5, 10, 2, 9, 3, 7, 8, 1, 4, 6]};\n",
              "\n",
              "function LDAvis_load_lib(url, callback){\n",
              "  var s = document.createElement('script');\n",
              "  s.src = url;\n",
              "  s.async = true;\n",
              "  s.onreadystatechange = s.onload = callback;\n",
              "  s.onerror = function(){console.warn(\"failed to load library \" + url);};\n",
              "  document.getElementsByTagName(\"head\")[0].appendChild(s);\n",
              "}\n",
              "\n",
              "if(typeof(LDAvis) !== \"undefined\"){\n",
              "   // already loaded: just create the visualization\n",
              "   !function(LDAvis){\n",
              "       new LDAvis(\"#\" + \"ldavis_el56021397746459953448123915690\", ldavis_el56021397746459953448123915690_data);\n",
              "   }(LDAvis);\n",
              "}else if(typeof define === \"function\" && define.amd){\n",
              "   // require.js is available: use it to load d3/LDAvis\n",
              "   require.config({paths: {d3: \"https://cdnjs.cloudflare.com/ajax/libs/d3/3.5.5/d3.min\"}});\n",
              "   require([\"d3\"], function(d3){\n",
              "      window.d3 = d3;\n",
              "      LDAvis_load_lib(\"https://cdn.rawgit.com/bmabey/pyLDAvis/files/ldavis.v1.0.0.js\", function(){\n",
              "        new LDAvis(\"#\" + \"ldavis_el56021397746459953448123915690\", ldavis_el56021397746459953448123915690_data);\n",
              "      });\n",
              "    });\n",
              "}else{\n",
              "    // require.js not available: dynamically load d3 & LDAvis\n",
              "    LDAvis_load_lib(\"https://cdnjs.cloudflare.com/ajax/libs/d3/3.5.5/d3.min.js\", function(){\n",
              "         LDAvis_load_lib(\"https://cdn.rawgit.com/bmabey/pyLDAvis/files/ldavis.v1.0.0.js\", function(){\n",
              "                 new LDAvis(\"#\" + \"ldavis_el56021397746459953448123915690\", ldavis_el56021397746459953448123915690_data);\n",
              "            })\n",
              "         });\n",
              "}\n",
              "</script>"
            ],
            "text/plain": [
              "PreparedData(topic_coordinates=              x         y  topics  cluster       Freq\n",
              "topic                                                \n",
              "4     -0.004427 -0.058685       1        1  12.182810\n",
              "9      0.222194 -0.202481       2        1  11.999511\n",
              "1      0.080771 -0.097124       3        1  10.576748\n",
              "8      0.044011 -0.223311       4        1  10.409093\n",
              "2      0.085282  0.213443       5        1   9.961151\n",
              "6     -0.165460 -0.074812       6        1   9.489423\n",
              "7      0.214846  0.210101       7        1   9.158813\n",
              "0     -0.002775  0.180721       8        1   8.990485\n",
              "3     -0.231550 -0.013117       9        1   8.732032\n",
              "5     -0.242893  0.065266      10        1   8.499934, topic_info=       Term          Freq         Total Category  logprob  loglift\n",
              "1336   dyer  99079.000000  99079.000000  Default  30.0000  30.0000\n",
              "100    time  39704.000000  39704.000000  Default  29.0000  29.0000\n",
              "60    thing  35778.000000  35778.000000  Default  28.0000  28.0000\n",
              "212     man  32572.000000  32572.000000  Default  27.0000  27.0000\n",
              "58    heart  19702.000000  19702.000000  Default  26.0000  26.0000\n",
              "...     ...           ...           ...      ...      ...      ...\n",
              "121     job   1980.628947   2721.030300  Topic10  -4.6455   2.1475\n",
              "136   world   3511.207457  16506.567260  Topic10  -4.0729   0.9173\n",
              "65     life   5120.974221  59430.175280  Topic10  -3.6955   0.0137\n",
              "101     act   2892.138397  10758.004783  Topic10  -4.2669   1.1515\n",
              "316   place   2660.878743   8474.105001  Topic10  -4.3502   1.3068\n",
              "\n",
              "[531 rows x 6 columns], token_table=      Topic      Freq       Term\n",
              "term                            \n",
              "150       1  0.000750    ability\n",
              "150       2  0.000375    ability\n",
              "150       3  0.002251    ability\n",
              "150       4  0.000750    ability\n",
              "150       5  0.598564    ability\n",
              "...     ...       ...        ...\n",
              "38        2  0.027483       year\n",
              "38        3  0.001031       year\n",
              "38        6  0.971194       year\n",
              "256       4  0.998752  yesterday\n",
              "3167      4  0.999774       yogi\n",
              "\n",
              "[980 rows x 3 columns], R=30, lambda_step=0.01, plot_opts={'xlab': 'PC1', 'ylab': 'PC2'}, topic_order=[5, 10, 2, 9, 3, 7, 8, 1, 4, 6])"
            ]
          },
          "metadata": {
            "tags": []
          },
          "execution_count": 13
        }
      ]
    },
    {
      "cell_type": "markdown",
      "metadata": {
        "id": "UmVuxe3aPbub"
      },
      "source": [
        "This base model appears to be a great start. A coherence score of .61 will need to be compared to other strategies before commenting on how good it is. As can be seen in LDA visualization there is nice serperability between the 10 topics. Looking at some of the categoies some of the seem reasonable. Words like peace and mind seem like they would go togther, but it isn't clear how words like life and power go together. It should be noted that there are many first and last names appearing in the topics, but that isn't suprising since our n-grams are nouns. \n",
        "\n",
        "# Optimal Topic Model\n",
        "In order to find the best model the focus will be on tuning 3 parameters (number of topics, alpha, and beta). Number of topics is self-explanatory. Alpha relates to document-topic density (scaled 0-1). The higher the alpha the more unique topic distribution per documents. Beta relates to topic-word density (scaled 0-1). The higher the beta the more unique word distribution per topics.\n",
        "\n",
        "In addition to tuning these 3 parameters several different strategies will be explored as well. I will be evaluating the following approaches: n-grams only, no n-grams, noun only n-grams, noun and verb only n-grams. \n",
        "\n",
        "The goal it to select the strategy that has the highest cv score (metric - cv score), most seperable topics (metric - eyeballing pyLDAvis for non-overlapping topics), and most explanatory topics (metric - subjectively evaluating the topic). It is unlikely that all 3 of the goals will be met by one strategy. So exaplanatory topics will be the prefered evalutation metric, because at the end of the day I want topics that makes sense to the user. \n",
        "\n",
        "My hunch is that the noun and verb n-grams strategy will perfom best. Focusing on nouns makes it more likely the topic will be extracted from the text. But adding verbs makes sense because of the call-to-action nature of motivational tweets.\n"
      ]
    },
    {
      "cell_type": "code",
      "metadata": {
        "id": "70Msw50ipaxD"
      },
      "source": [
        "# supporting function\n",
        "def compute_coherence_values(corpus, dictionary, k, a, b):\n",
        "    \n",
        "    lda_model = gensim.models.LdaMulticore(corpus=corpus,\n",
        "                                           id2word=dictionary,\n",
        "                                           num_topics=k, \n",
        "                                           alpha=a,\n",
        "                                           eta=b,\n",
        "                                           random_state=222)\n",
        "    \n",
        "    coherence_model_lda = CoherenceModel(model=lda_model, texts=texts, dictionary=id2word, coherence='c_v')\n",
        "    \n",
        "    return coherence_model_lda.get_coherence()"
      ],
      "execution_count": null,
      "outputs": []
    },
    {
      "cell_type": "code",
      "metadata": {
        "id": "CHqifw2LoPta",
        "colab": {
          "base_uri": "https://localhost:8080/"
        },
        "outputId": "586afd2c-fa35-4d26-bf1d-2225f9cdea0f"
      },
      "source": [
        "# start preprocess runtime\n",
        "start_time = time.time() \n",
        "\n",
        "# Topics range\n",
        "min_topics = 3\n",
        "max_topics = 10\n",
        "step_size = 1\n",
        "topics_range = range(min_topics, max_topics, step_size)\n",
        "# Alpha parameter\n",
        "alpha = [.01,.1,.5,1,'symmetric','asymmetric']\n",
        "# Beta parameter\n",
        "beta = [.01,.1,.5,1,'symmetric']\n",
        "\n",
        "# model results dict\n",
        "model_results = {'Topics': [],\n",
        "                 'Alpha': [],\n",
        "                 'Beta': [],\n",
        "                 'Coherence': []\n",
        "                }\n",
        "# Can take a long time to run\n",
        "if 1 == 1:\n",
        "    pbar = tqdm.tqdm(total=210)\n",
        "\n",
        "    # iterate through number of topics\n",
        "    for k in topics_range:\n",
        "        # iterate through alpha values\n",
        "        for a in alpha:\n",
        "            # iterare through beta values\n",
        "            for b in beta:\n",
        "                # get the coherence score for the given parameters\n",
        "                cv = compute_coherence_values(corpus=corpus, dictionary=id2word, \n",
        "                                              k=k, a=a, b=b)\n",
        "                # Save the model results\n",
        "                model_results['Topics'].append(k)\n",
        "                model_results['Alpha'].append(a)\n",
        "                model_results['Beta'].append(b)\n",
        "                model_results['Coherence'].append(cv)\n",
        "                \n",
        "                pbar.update(1)\n",
        "    lda_tuning_results = pd.DataFrame(model_results)                \n",
        "    lda_tuning_results.to_csv('/content/drive/MyDrive/Data/NLP_Capstone/lda_tuning_nouns_3-10_topics.csv', index=False)\n",
        "    pbar.close()\n",
        "\n",
        "# print preprocess runtime\n",
        "print(time.strftime(f'%H hours, %M minutes, %S seconds', time.gmtime(time.time() - start_time)))"
      ],
      "execution_count": null,
      "outputs": [
        {
          "output_type": "stream",
          "text": [
            "100%|██████████| 210/210 [3:59:55<00:00, 68.55s/it]"
          ],
          "name": "stderr"
        },
        {
          "output_type": "stream",
          "text": [
            "03 hours, 59 minutes, 55 seconds\n"
          ],
          "name": "stdout"
        },
        {
          "output_type": "stream",
          "text": [
            "\n"
          ],
          "name": "stderr"
        }
      ]
    },
    {
      "cell_type": "code",
      "metadata": {
        "id": "WIrLrAIDLN4K",
        "colab": {
          "base_uri": "https://localhost:8080/",
          "height": 979
        },
        "outputId": "2136bc6f-b840-4a72-a282-1a400839f2ca"
      },
      "source": [
        "lda_tuning_results.sort_values('Coherence',ascending=False).head(30)"
      ],
      "execution_count": null,
      "outputs": [
        {
          "output_type": "execute_result",
          "data": {
            "text/html": [
              "<div>\n",
              "<style scoped>\n",
              "    .dataframe tbody tr th:only-of-type {\n",
              "        vertical-align: middle;\n",
              "    }\n",
              "\n",
              "    .dataframe tbody tr th {\n",
              "        vertical-align: top;\n",
              "    }\n",
              "\n",
              "    .dataframe thead th {\n",
              "        text-align: right;\n",
              "    }\n",
              "</style>\n",
              "<table border=\"1\" class=\"dataframe\">\n",
              "  <thead>\n",
              "    <tr style=\"text-align: right;\">\n",
              "      <th></th>\n",
              "      <th>Topics</th>\n",
              "      <th>Alpha</th>\n",
              "      <th>Beta</th>\n",
              "      <th>Coherence</th>\n",
              "    </tr>\n",
              "  </thead>\n",
              "  <tbody>\n",
              "    <tr>\n",
              "      <th>160</th>\n",
              "      <td>8</td>\n",
              "      <td>0.5</td>\n",
              "      <td>0.01</td>\n",
              "      <td>0.623141</td>\n",
              "    </tr>\n",
              "    <tr>\n",
              "      <th>205</th>\n",
              "      <td>9</td>\n",
              "      <td>asymmetric</td>\n",
              "      <td>0.01</td>\n",
              "      <td>0.616538</td>\n",
              "    </tr>\n",
              "    <tr>\n",
              "      <th>161</th>\n",
              "      <td>8</td>\n",
              "      <td>0.5</td>\n",
              "      <td>0.1</td>\n",
              "      <td>0.615413</td>\n",
              "    </tr>\n",
              "    <tr>\n",
              "      <th>185</th>\n",
              "      <td>9</td>\n",
              "      <td>0.1</td>\n",
              "      <td>0.01</td>\n",
              "      <td>0.614666</td>\n",
              "    </tr>\n",
              "    <tr>\n",
              "      <th>206</th>\n",
              "      <td>9</td>\n",
              "      <td>asymmetric</td>\n",
              "      <td>0.1</td>\n",
              "      <td>0.614617</td>\n",
              "    </tr>\n",
              "    <tr>\n",
              "      <th>191</th>\n",
              "      <td>9</td>\n",
              "      <td>0.5</td>\n",
              "      <td>0.1</td>\n",
              "      <td>0.613899</td>\n",
              "    </tr>\n",
              "    <tr>\n",
              "      <th>176</th>\n",
              "      <td>8</td>\n",
              "      <td>asymmetric</td>\n",
              "      <td>0.1</td>\n",
              "      <td>0.612633</td>\n",
              "    </tr>\n",
              "    <tr>\n",
              "      <th>190</th>\n",
              "      <td>9</td>\n",
              "      <td>0.5</td>\n",
              "      <td>0.01</td>\n",
              "      <td>0.611294</td>\n",
              "    </tr>\n",
              "    <tr>\n",
              "      <th>179</th>\n",
              "      <td>8</td>\n",
              "      <td>asymmetric</td>\n",
              "      <td>symmetric</td>\n",
              "      <td>0.611154</td>\n",
              "    </tr>\n",
              "    <tr>\n",
              "      <th>164</th>\n",
              "      <td>8</td>\n",
              "      <td>0.5</td>\n",
              "      <td>symmetric</td>\n",
              "      <td>0.610316</td>\n",
              "    </tr>\n",
              "    <tr>\n",
              "      <th>209</th>\n",
              "      <td>9</td>\n",
              "      <td>asymmetric</td>\n",
              "      <td>symmetric</td>\n",
              "      <td>0.609511</td>\n",
              "    </tr>\n",
              "    <tr>\n",
              "      <th>201</th>\n",
              "      <td>9</td>\n",
              "      <td>symmetric</td>\n",
              "      <td>0.1</td>\n",
              "      <td>0.608072</td>\n",
              "    </tr>\n",
              "    <tr>\n",
              "      <th>200</th>\n",
              "      <td>9</td>\n",
              "      <td>symmetric</td>\n",
              "      <td>0.01</td>\n",
              "      <td>0.607771</td>\n",
              "    </tr>\n",
              "    <tr>\n",
              "      <th>180</th>\n",
              "      <td>9</td>\n",
              "      <td>0.01</td>\n",
              "      <td>0.01</td>\n",
              "      <td>0.607657</td>\n",
              "    </tr>\n",
              "    <tr>\n",
              "      <th>194</th>\n",
              "      <td>9</td>\n",
              "      <td>0.5</td>\n",
              "      <td>symmetric</td>\n",
              "      <td>0.607161</td>\n",
              "    </tr>\n",
              "    <tr>\n",
              "      <th>162</th>\n",
              "      <td>8</td>\n",
              "      <td>0.5</td>\n",
              "      <td>0.5</td>\n",
              "      <td>0.605003</td>\n",
              "    </tr>\n",
              "    <tr>\n",
              "      <th>192</th>\n",
              "      <td>9</td>\n",
              "      <td>0.5</td>\n",
              "      <td>0.5</td>\n",
              "      <td>0.602042</td>\n",
              "    </tr>\n",
              "    <tr>\n",
              "      <th>163</th>\n",
              "      <td>8</td>\n",
              "      <td>0.5</td>\n",
              "      <td>1</td>\n",
              "      <td>0.601704</td>\n",
              "    </tr>\n",
              "    <tr>\n",
              "      <th>193</th>\n",
              "      <td>9</td>\n",
              "      <td>0.5</td>\n",
              "      <td>1</td>\n",
              "      <td>0.596686</td>\n",
              "    </tr>\n",
              "    <tr>\n",
              "      <th>174</th>\n",
              "      <td>8</td>\n",
              "      <td>symmetric</td>\n",
              "      <td>symmetric</td>\n",
              "      <td>0.595831</td>\n",
              "    </tr>\n",
              "    <tr>\n",
              "      <th>130</th>\n",
              "      <td>7</td>\n",
              "      <td>0.5</td>\n",
              "      <td>0.01</td>\n",
              "      <td>0.595147</td>\n",
              "    </tr>\n",
              "    <tr>\n",
              "      <th>177</th>\n",
              "      <td>8</td>\n",
              "      <td>asymmetric</td>\n",
              "      <td>0.5</td>\n",
              "      <td>0.594816</td>\n",
              "    </tr>\n",
              "    <tr>\n",
              "      <th>189</th>\n",
              "      <td>9</td>\n",
              "      <td>0.1</td>\n",
              "      <td>symmetric</td>\n",
              "      <td>0.593696</td>\n",
              "    </tr>\n",
              "    <tr>\n",
              "      <th>145</th>\n",
              "      <td>7</td>\n",
              "      <td>asymmetric</td>\n",
              "      <td>0.01</td>\n",
              "      <td>0.589841</td>\n",
              "    </tr>\n",
              "    <tr>\n",
              "      <th>204</th>\n",
              "      <td>9</td>\n",
              "      <td>symmetric</td>\n",
              "      <td>symmetric</td>\n",
              "      <td>0.587872</td>\n",
              "    </tr>\n",
              "    <tr>\n",
              "      <th>166</th>\n",
              "      <td>8</td>\n",
              "      <td>1</td>\n",
              "      <td>0.1</td>\n",
              "      <td>0.587578</td>\n",
              "    </tr>\n",
              "    <tr>\n",
              "      <th>186</th>\n",
              "      <td>9</td>\n",
              "      <td>0.1</td>\n",
              "      <td>0.1</td>\n",
              "      <td>0.587441</td>\n",
              "    </tr>\n",
              "    <tr>\n",
              "      <th>155</th>\n",
              "      <td>8</td>\n",
              "      <td>0.1</td>\n",
              "      <td>0.01</td>\n",
              "      <td>0.586344</td>\n",
              "    </tr>\n",
              "    <tr>\n",
              "      <th>178</th>\n",
              "      <td>8</td>\n",
              "      <td>asymmetric</td>\n",
              "      <td>1</td>\n",
              "      <td>0.585451</td>\n",
              "    </tr>\n",
              "    <tr>\n",
              "      <th>171</th>\n",
              "      <td>8</td>\n",
              "      <td>symmetric</td>\n",
              "      <td>0.1</td>\n",
              "      <td>0.585373</td>\n",
              "    </tr>\n",
              "  </tbody>\n",
              "</table>\n",
              "</div>"
            ],
            "text/plain": [
              "     Topics       Alpha       Beta  Coherence\n",
              "160       8         0.5       0.01   0.623141\n",
              "205       9  asymmetric       0.01   0.616538\n",
              "161       8         0.5        0.1   0.615413\n",
              "185       9         0.1       0.01   0.614666\n",
              "206       9  asymmetric        0.1   0.614617\n",
              "191       9         0.5        0.1   0.613899\n",
              "176       8  asymmetric        0.1   0.612633\n",
              "190       9         0.5       0.01   0.611294\n",
              "179       8  asymmetric  symmetric   0.611154\n",
              "164       8         0.5  symmetric   0.610316\n",
              "209       9  asymmetric  symmetric   0.609511\n",
              "201       9   symmetric        0.1   0.608072\n",
              "200       9   symmetric       0.01   0.607771\n",
              "180       9        0.01       0.01   0.607657\n",
              "194       9         0.5  symmetric   0.607161\n",
              "162       8         0.5        0.5   0.605003\n",
              "192       9         0.5        0.5   0.602042\n",
              "163       8         0.5          1   0.601704\n",
              "193       9         0.5          1   0.596686\n",
              "174       8   symmetric  symmetric   0.595831\n",
              "130       7         0.5       0.01   0.595147\n",
              "177       8  asymmetric        0.5   0.594816\n",
              "189       9         0.1  symmetric   0.593696\n",
              "145       7  asymmetric       0.01   0.589841\n",
              "204       9   symmetric  symmetric   0.587872\n",
              "166       8           1        0.1   0.587578\n",
              "186       9         0.1        0.1   0.587441\n",
              "155       8         0.1       0.01   0.586344\n",
              "178       8  asymmetric          1   0.585451\n",
              "171       8   symmetric        0.1   0.585373"
            ]
          },
          "metadata": {
            "tags": []
          },
          "execution_count": 16
        }
      ]
    },
    {
      "cell_type": "markdown",
      "metadata": {
        "id": "H-1S1Tk4YQaA"
      },
      "source": [
        "It seems that 8-9 topics are the sweet spot for these particular parameters. I will withold judgement before speculating on what these particular resuts means until all the other strategies can be analyzed. These results will be compared to other strategies in the [optimized model deployment notebook](https://github.com/tarrantcarter/Final_Capstone/blob/main/Optimal_Deployed_Motivational_Tweet_Generator.ipynb). "
      ]
    },
    {
      "cell_type": "code",
      "metadata": {
        "colab": {
          "base_uri": "https://localhost:8080/"
        },
        "id": "QCX-aEIQwHWT",
        "outputId": "90b42c9e-3f74-4b6b-f9b0-eea2e5c7a670"
      },
      "source": [
        "# number optimal of topics\n",
        "num_topics = 8\n",
        "# build optimal LDA model\n",
        "optimal_model = gensim.models.LdaMulticore(corpus=corpus,\n",
        "                                       id2word=id2word,\n",
        "                                       num_topics=num_topics,\n",
        "                                        alpha=.5,\n",
        "                                        eta=.01,\n",
        "                                        random_state=222\n",
        "                                        )\n",
        "# filtering for words \n",
        "words = [re.findall(r'\"([^\"]*)\"',t[1]) for t in optimal_model.print_topics()]\n",
        "\n",
        "# create topic sorted by 10 most relevent words\n",
        "topics = [' '.join(t[0:10]) for t in words]\n",
        "\n",
        "\n",
        "# print most relevent words for each topic\n",
        "for id, t in enumerate(topics): \n",
        "    print(f\"------ Topic {id} ------\")\n",
        "    print(t, end=\"\\n\\n\")"
      ],
      "execution_count": null,
      "outputs": [
        {
          "output_type": "stream",
          "text": [
            "------ Topic 0 ------\n",
            "heart mind place matter john step opportunity learn franklin lincoln\n",
            "\n",
            "------ Topic 1 ------\n",
            "strength body problem einstein reality energy result peale treat respect\n",
            "\n",
            "------ Topic 2 ------\n",
            "dyer time day jim wisdom rohn decision amp experience william\n",
            "\n",
            "------ Topic 3 ------\n",
            "act dream action fall courage question word mean habit god\n",
            "\n",
            "------ Topic 4 ------\n",
            "person power choice moment judge fear truth try care attract\n",
            "\n",
            "------ Topic 5 ------\n",
            "life way look create today george presence goal tomorrow water\n",
            "\n",
            "------ Topic 6 ------\n",
            "thing amp love peace work happiness feel passion trust ability\n",
            "\n",
            "------ Topic 7 ------\n",
            "man change world success proverb failure churchill winston robert henry\n",
            "\n"
          ],
          "name": "stdout"
        }
      ]
    },
    {
      "cell_type": "code",
      "metadata": {
        "colab": {
          "base_uri": "https://localhost:8080/"
        },
        "id": "cFd4lknIw7UM",
        "outputId": "b3bf5411-b7c3-494d-9b90-66c4f5e66130"
      },
      "source": [
        "# Compute Perplexity\n",
        "## a measure of how good the model is. lower the better\n",
        "base_perplexity = optimal_model.log_perplexity(corpus)\n",
        "print('\\nPerplexity: ', base_perplexity) \n",
        "\n",
        "# Compute Coherence Score\n",
        "coherence_model = CoherenceModel(model=optimal_model, texts=tweets_cleaned['nouns_only'], \n",
        "                                   dictionary=id2word, coherence='c_v')\n",
        "coherence_lda_model_base = coherence_model.get_coherence()\n",
        "print('\\nCoherence Score: ', coherence_lda_model_base)"
      ],
      "execution_count": null,
      "outputs": [
        {
          "output_type": "stream",
          "text": [
            "\n",
            "Perplexity:  -27.045391793374172\n",
            "\n",
            "Coherence Score:  0.5995881610113447\n"
          ],
          "name": "stdout"
        }
      ]
    },
    {
      "cell_type": "code",
      "metadata": {
        "colab": {
          "base_uri": "https://localhost:8080/",
          "height": 881
        },
        "id": "vnQc4kJDwzg3",
        "outputId": "6efc8407-242f-46f4-ab22-316c1a476068"
      },
      "source": [
        "# topic distance visualization \n",
        "pyLDAvis.enable_notebook()\n",
        "pyLDAvis.gensim.prepare(optimal_model, corpus, id2word)"
      ],
      "execution_count": null,
      "outputs": [
        {
          "output_type": "execute_result",
          "data": {
            "text/html": [
              "\n",
              "<link rel=\"stylesheet\" type=\"text/css\" href=\"https://cdn.rawgit.com/bmabey/pyLDAvis/files/ldavis.v1.0.0.css\">\n",
              "\n",
              "\n",
              "<div id=\"ldavis_el5602139774645997264954026889\"></div>\n",
              "<script type=\"text/javascript\">\n",
              "\n",
              "var ldavis_el5602139774645997264954026889_data = {\"mdsDat\": {\"x\": [-0.13303423337139858, 0.1548003468352589, -0.010596574715435892, -0.3286216530718057, -0.0752435234922853, 0.24181692654665807, 0.1564004561646164, -0.00552174489560784], \"y\": [0.0016374075364353235, 0.18702991163293653, 0.20374040872954594, -0.06130484399406843, -0.23041759106630855, -0.14142431387528423, -0.18302184922535472, 0.22376087026209818], \"topics\": [1, 2, 3, 4, 5, 6, 7, 8], \"cluster\": [1, 1, 1, 1, 1, 1, 1, 1], \"Freq\": [13.510364391147544, 13.317380110033664, 13.08042532472159, 12.614480273930855, 12.573214772044686, 12.01049399479827, 11.64142857257506, 11.252212560748333]}, \"tinfo\": {\"Term\": [\"dyer\", \"life\", \"thing\", \"man\", \"time\", \"way\", \"change\", \"person\", \"power\", \"world\", \"heart\", \"act\", \"day\", \"choice\", \"look\", \"dream\", \"success\", \"love\", \"mind\", \"amp\", \"action\", \"peace\", \"work\", \"moment\", \"place\", \"fall\", \"courage\", \"create\", \"matter\", \"step\", \"albert\", \"einstein\", \"eleanor\", \"solve\", \"lady\", \"guidance\", \"perspiration\", \"consent\", \"intention\", \"persistence\", \"expertise\", \"root\", \"precede\", \"page\", \"shift\", \"strengthen\", \"optimist\", \"opinion\", \"regard\", \"didion\", \"imagination\", \"hang\", \"reconsider\", \"attain\", \"joan\", \"tapestry\", \"branch\", \"material\", \"theory\", \"motivation\", \"strength\", \"problem\", \"energy\", \"respect\", \"reality\", \"obstacle\", \"character\", \"hold\", \"win\", \"body\", \"treat\", \"pessimist\", \"result\", \"denis\", \"mahatma\", \"asset\", \"napoleon\", \"decide\", \"race\", \"stone\", \"journey\", \"inspiration\", \"challenge\", \"achievement\", \"limit\", \"talk\", \"self\", \"enemy\", \"edison\", \"control\", \"peale\", \"value\", \"vincent\", \"tzu\", \"form\", \"roosevelt\", \"henry\", \"thoreau\", \"hell\", \"pickford\", \"reap\", \"tune\", \"bind\", \"seed\", \"table\", \"fool\", \"latin\", \"stevenson\", \"immobilize\", \"brinkley\", \"mediocrity\", \"brown\", \"contemplate\", \"jackson\", \"evidence\", \"loss\", \"travel\", \"ward\", \"landscape\", \"science\", \"bother\", \"beecher\", \"foundation\", \"voyage\", \"proust\", \"sheet\", \"change\", \"robert\", \"churchill\", \"failure\", \"winston\", \"david\", \"soul\", \"practice\", \"man\", \"seneca\", \"success\", \"spirit\", \"road\", \"wind\", \"accomplishment\", \"leader\", \"confucius\", \"world\", \"proverb\", \"job\", \"history\", \"miracle\", \"lead\", \"aim\", \"business\", \"thomas\", \"abundance\", \"jump\", \"water\", \"presence\", \"childhood\", \"bar\", \"winfrey\", \"jerry\", \"welch\", \"deal\", \"joyful\", \"rice\", \"jack\", \"ash\", \"conviction\", \"bag\", \"phrase\", \"symbol\", \"post\", \"eliot\", \"cast\", \"role\", \"balance\", \"trump\", \"admit\", \"bradbury\", \"thankful\", \"prisoner\", \"celebrate\", \"argument\", \"memory\", \"way\", \"george\", \"tomorrow\", \"lesson\", \"look\", \"hand\", \"life\", \"game\", \"create\", \"victor\", \"earth\", \"worry\", \"mistake\", \"test\", \"foot\", \"find\", \"fulfillment\", \"cornerstone\", \"oprah\", \"today\", \"percent\", \"play\", \"vision\", \"push\", \"break\", \"benefit\", \"goal\", \"impact\", \"teach\", \"benjamin\", \"kennedy\", \"abraham\", \"danger\", \"case\", \"franklin\", \"shadow\", \"disraeli\", \"faith\", \"slip\", \"heat\", \"suppose\", \"ill\", \"center\", \"floor\", \"ride\", \"mark\", \"sail\", \"reach\", \"rand\", \"bliss\", \"r\", \"dollar\", \"dance\", \"tony\", \"ayn\", \"part\", \"desire\", \"divine\", \"remain\", \"mind\", \"learn\", \"opportunity\", \"place\", \"eye\", \"heart\", \"step\", \"anger\", \"woman\", \"lincoln\", \"storm\", \"rule\", \"door\", \"matter\", \"sense\", \"idea\", \"nature\", \"sun\", \"stephen\", \"speak\", \"beauty\", \"difficulty\", \"greatness\", \"covey\", \"freedom\", \"john\", \"refuse\", \"fact\", \"future\", \"ralph\", \"peter\", \"frustration\", \"acceptance\", \"richard\", \"drucker\", \"enlightenment\", \"martin\", \"babe\", \"engine\", \"jr\", \"stretch\", \"recovery\", \"waldo\", \"anticipate\", \"asleep\", \"visit\", \"identity\", \"encourage\", \"activate\", \"jefferson\", \"extend\", \"briefly\", \"build\", \"fruit\", \"trouble\", \"discard\", \"emerson\", \"pure\", \"imitate\", \"thing\", \"love\", \"happiness\", \"passion\", \"lie\", \"trust\", \"think\", \"child\", \"work\", \"risk\", \"ability\", \"ruth\", \"order\", \"react\", \"strike\", \"harder\", \"hope\", \"ask\", \"need\", \"drive\", \"peace\", \"feel\", \"gift\", \"rise\", \"answer\", \"king\", \"amp\", \"end\", \"doubt\", \"rate\", \"detach\", \"version\", \"optimism\", \"fitzgerald\", \"ship\", \"reserve\", \"ingredient\", \"awareness\", \"gretzky\", \"francis\", \"sensation\", \"read\", \"scott\", \"project\", \"interest\", \"bacon\", \"move\", \"accident\", \"shade\", \"audience\", \"cycle\", \"coach\", \"sit\", \"forget\", \"tree\", \"quitter\", \"waste\", \"manage\", \"mother\", \"dyer\", \"time\", \"day\", \"jim\", \"search\", \"repeat\", \"grow\", \"wait\", \"battle\", \"communication\", \"management\", \"rohn\", \"half\", \"receive\", \"conflict\", \"speech\", \"teacher\", \"hour\", \"decision\", \"year\", \"stuff\", \"wisdom\", \"show\", \"plant\", \"william\", \"count\", \"experience\", \"amp\", \"reason\", \"hoffer\", \"absence\", \"fire\", \"inquire\", \"boat\", \"hire\", \"compete\", \"send\", \"expert\", \"route\", \"food\", \"student\", \"fail\", \"bridge\", \"resist\", \"cross\", \"behavior\", \"force\", \"serve\", \"release\", \"london\", \"jordan\", \"michael\", \"death\", \"experiment\", \"heartbreak\", \"hammock\", \"overcome\", \"strategy\", \"calm\", \"choice\", \"power\", \"moment\", \"person\", \"truth\", \"fear\", \"try\", \"attract\", \"care\", \"get\", \"night\", \"harm\", \"squeeze\", \"meet\", \"capacity\", \"breath\", \"measure\", \"face\", \"path\", \"perfection\", \"judge\", \"define\", \"suit\", \"choose\", \"difference\", \"hate\", \"reason\", \"stop\", \"amp\", \"frederick\", \"discourage\", \"ease\", \"dale\", \"appreciation\", \"humanity\", \"anne\", \"nelson\", \"beliefs\", \"describe\", \"generosity\", \"consume\", \"conformity\", \"contentment\", \"display\", \"news\", \"courage\", \"list\", \"insist\", \"word\", \"crush\", \"dag\", \"rip\", \"conquer\", \"player\", \"team\", \"education\", \"lifestyle\", \"creation\", \"function\", \"act\", \"action\", \"habit\", \"start\", \"climb\", \"god\", \"let\", \"ego\", \"relationship\", \"smile\", \"inspire\", \"help\", \"make\", \"honor\", \"mean\", \"anxiety\", \"quality\", \"elliot\", \"dream\", \"intent\", \"talent\", \"fall\", \"silence\", \"influence\", \"carnegie\", \"knowledge\", \"question\", \"kind\", \"expectation\", \"want\", \"book\", \"emotion\"], \"Freq\": [130122.0, 77764.0, 46190.0, 41331.0, 32426.0, 34717.0, 24426.0, 22095.0, 21283.0, 24413.0, 21878.0, 18180.0, 18473.0, 16517.0, 17515.0, 14941.0, 16064.0, 14788.0, 14645.0, 28946.0, 13378.0, 13740.0, 12362.0, 11345.0, 10903.0, 10694.0, 10047.0, 10820.0, 10402.0, 10212.0, 4457.506272914089, 8317.582947749506, 2989.815901729876, 4478.298887170204, 1717.9613643812706, 2173.8883334793304, 1496.1924555450385, 2907.583487215384, 2972.734858862863, 1113.633506080819, 987.1677168501898, 987.5386755746414, 1002.0978706720126, 1451.7805841293548, 1445.1266789447463, 1451.8158408523948, 1001.0955724027373, 1687.7562734590667, 937.9943563060488, 953.0123466824579, 1482.9896522124075, 1151.1574195639218, 723.2088732823167, 1628.7305666566256, 726.5307128866477, 682.252389664297, 687.6146167229916, 722.5934068941864, 781.2518943215892, 1447.0476361576439, 9326.768335511566, 8462.700230287488, 7019.21611780748, 6022.041825614005, 7878.008840455156, 4242.02298150188, 4623.494009226584, 3441.86020512486, 3367.686164909317, 9146.614722609376, 6581.496727822135, 3953.277745877964, 6921.169460431303, 2889.549444440749, 2702.024581772622, 2662.0184270983577, 5442.345596091836, 2415.5768329535485, 2340.6686592409424, 2178.1559232322165, 2374.5145028531556, 2029.9491749463036, 2623.0904260671814, 3902.8148439790025, 4111.5196869771635, 3760.2070464636226, 4068.373699807767, 4122.937981193856, 5837.915039490287, 5817.789708321316, 6893.7888756414595, 3680.1132345605347, 4848.338494798642, 3940.7092583070366, 3259.12293071783, 4183.552377304183, 6739.782286947718, 2558.4135432651155, 3428.6588032218547, 1748.571746376308, 1752.2462483799973, 1693.1435445785205, 4985.300255146625, 1752.3092854066736, 1380.471918605991, 5295.226987200988, 833.2460607872229, 2018.4353638273137, 839.5611221553793, 861.9170005635922, 2920.2821835154195, 865.7510509367094, 850.3500070611915, 876.1858603239463, 850.3432369747942, 853.5560943093742, 1392.218469844283, 320.9463640715471, 309.29718924260214, 304.05639013932216, 852.6738768286326, 315.01022067788466, 861.9014293648786, 309.29867490045046, 309.29969041341, 218.59450539658465, 24222.377386864395, 7650.706137584504, 7943.600535834345, 8954.29860997353, 7836.520035092053, 5377.146837963875, 6058.903564947066, 6510.365422329245, 40344.45772974957, 3828.298206821413, 15803.011286159992, 5766.674741413256, 3056.643458372107, 2790.851370880397, 1751.0804395023938, 5284.4953471368235, 1749.2979509771847, 23352.142658153163, 10157.380273460138, 3060.824362838309, 4416.422231789045, 4789.814160872897, 3258.9351443850624, 3895.3587710669253, 3125.826820819063, 4024.5946052137074, 3573.5705467518824, 4052.65149038103, 4300.650952603541, 5485.32041217866, 1961.7723490048659, 1747.841142142526, 2010.299257646196, 1183.3232056585778, 1183.7880884664853, 1550.4412033940578, 1091.6897948343606, 2056.8064529313656, 1408.8920723995466, 874.6668069835114, 871.276383860615, 869.9638213872396, 861.2674392740258, 852.3673569221914, 872.6623877693148, 3602.0837038126647, 880.3617691498671, 860.2433967251385, 874.0917620226174, 874.8102911559457, 874.0453624035192, 918.917266654452, 601.2974664021258, 448.8276530826943, 1742.0713347307142, 1093.5281211445242, 2035.8518529764563, 34411.49669021947, 6149.973381415417, 4994.565531308663, 3543.682838011644, 17208.310076946316, 3256.7396139559482, 75241.82093185818, 3581.4494681068154, 10648.454873054217, 2369.8296616184734, 2199.649305789587, 2117.1931928758927, 2130.5050071639907, 3552.8705536710413, 2993.519598974347, 1789.8602825511002, 1729.8955722630847, 1740.2382542373596, 1745.1187848729514, 9224.497258088044, 3324.149394336401, 3349.2985789655845, 3728.170383396927, 2239.739611076858, 2851.921851818424, 2435.663332644463, 5300.251541629262, 2492.031629143904, 2043.5558152111234, 5284.318611324238, 2586.678412976601, 5013.501901816431, 2570.189647400704, 1720.7615674599308, 8264.477802998686, 1530.9508032268975, 1078.9280379594381, 1721.4146711246876, 1159.6902272188145, 860.8091558914881, 829.3792367404046, 855.006964693059, 861.0028924029951, 868.7829203378759, 926.3145414300451, 2057.4132069585644, 1946.0639485645136, 861.4518566394813, 959.7056241496168, 853.9560563413793, 853.7153641987273, 864.3776413527956, 3922.66117035852, 858.3058293527694, 631.9268888688708, 494.78659097954943, 7393.852853865121, 853.7395901692726, 825.8889869133873, 14594.747277394841, 9186.633956584648, 9223.649529509199, 10860.414811894825, 6542.934164207272, 21599.991622755882, 10123.04353119373, 4157.519129280383, 6520.715244068891, 8162.211715996284, 4125.822724453302, 3835.0783015978527, 3107.5852316394175, 10262.493917880247, 3452.553646826217, 3725.6792338326904, 2511.6585625178363, 3633.6632974736704, 2385.5870393177606, 2573.513735570923, 2913.668877927519, 4850.04614342239, 3673.2089167573945, 3443.0163097397003, 3147.3882162337577, 10192.561236224554, 3796.552168156954, 3754.312905960022, 3452.5795828652713, 5803.830199092622, 3410.0893684538305, 4037.7600760440127, 3417.574851840744, 1750.9626562836097, 1948.16452022235, 1698.3922627008037, 2427.810717093285, 1165.279970952226, 1166.1078483700746, 1077.6199891078174, 1058.880216386236, 1115.468695297139, 3534.0901648056733, 854.2881775871978, 855.7220666724139, 849.9125787546445, 857.0933873433619, 857.7922218455177, 849.9549775552326, 2189.1341617678586, 849.2024521096184, 849.2418680800145, 908.2391954303606, 594.1197980792358, 1537.872250188131, 849.2462002857696, 4019.907411225524, 300.66658461544193, 269.3424998824526, 45535.860714078204, 14704.324480975634, 9545.957713608776, 8236.365719210238, 6220.150910984666, 6376.803471093945, 5986.042489078718, 3879.478890649832, 12198.414178922312, 3290.7954781451667, 6347.285951670771, 2024.0596516308713, 2500.8428996754947, 1698.4034838239074, 1550.801682754745, 1427.8656147419592, 2217.4346864726435, 2694.5828340774374, 2239.9395721141223, 2257.7781750188483, 12720.963984881497, 8393.648934845853, 3512.798438815193, 3336.9404293755288, 3947.926321187207, 4015.4377112023853, 18939.345651443633, 5690.703097146885, 2639.219233079002, 1267.3462717782438, 1678.6145213483658, 1267.0153422103429, 1268.2056846044372, 793.0775940442221, 1286.6802110355204, 633.1041514106499, 628.7652970759468, 628.6453537639236, 634.0240107815337, 491.49546808211267, 628.0510645029942, 1492.7190766574197, 959.7267503597545, 388.56158307459134, 366.5143334302291, 252.26741287140285, 832.1285041988673, 253.54281121993677, 196.80395988944187, 195.32279906049712, 163.8932585901422, 168.16289789990662, 375.44916039859913, 2616.4765149989066, 203.99813328650927, 343.9802211282117, 2257.299211656521, 108.63810365493077, 1086.1152515319554, 129928.35286249661, 32389.674335994918, 18412.709493348186, 4993.514700864243, 1710.5899972359596, 1494.8638096134725, 1847.473809575149, 2598.8299230587345, 1277.3539401133191, 2264.3613490405655, 884.4313864598394, 4058.231488422201, 823.9845704044601, 873.8596860567999, 2059.3782287929334, 1311.2896207846225, 1507.7156540872695, 869.8267278724999, 3713.992011995971, 2537.6696885252804, 2213.3931753320503, 4779.041947988894, 1823.859766496864, 1459.5367051132123, 3250.786408765093, 1487.441706610879, 3354.0228657022653, 3375.144557311598, 2151.8111039693204, 3632.8295573049077, 2934.9321447572383, 2219.925134450666, 1280.5284153076323, 978.6991609257863, 977.0911496435367, 974.7874337989987, 973.6507656455283, 1330.487236103176, 982.9824784572515, 981.4212858563204, 974.7968369892073, 4076.995493683866, 2059.9518815035194, 974.8333318882687, 2630.5462747438446, 1019.7522400017148, 2924.4181944856487, 1092.5109037638763, 4198.770620766887, 253.04413913057707, 1012.2782161870813, 3550.8416294746944, 1271.8945770251687, 194.36019348748496, 365.63088629598167, 303.16085790156455, 1035.8702943679193, 1964.566840619288, 559.6049571757391, 16477.523466894196, 21158.052268823172, 11302.625161818994, 21861.8306864023, 7425.117756601909, 8000.753969465003, 6247.671583808302, 6040.813498428358, 6207.69158627793, 5782.236025716887, 3325.8468286361367, 4597.076869715513, 2311.567968658165, 2469.5452465312374, 1947.842181849765, 2218.4821721713793, 2628.6117163107137, 3213.609824253404, 4613.597551589741, 1701.1811156390402, 9078.831436554667, 5894.959102701172, 4757.236213769585, 4750.634779703682, 5719.490049855962, 2439.5307894379093, 4947.1995938773525, 3362.9698345008846, 4795.666460343056, 1967.689423522856, 2382.3636271247838, 1893.535056582409, 1789.0158124344462, 2343.782595701432, 1541.5401882295546, 1169.7772286813254, 1177.2872525240048, 1170.645432182434, 1250.963154167501, 1171.3726638412688, 1171.3769857913476, 1163.1580350195784, 1532.8648903759436, 1182.4477880341817, 1171.4036801888926, 10046.113640992568, 1172.8356439429174, 362.5590808441813, 7405.564343135453, 278.3744847004429, 270.25484344335035, 361.531568992009, 378.45343360723047, 1600.2114232453252, 310.71906927637264, 961.1617194703102, 466.0885666450713, 1898.538730727964, 1616.2299685150483, 18155.216712631398, 13351.397674152116, 6630.397173280288, 6022.625740015456, 5913.642429900885, 6458.674401964078, 4907.288048758114, 3886.390559832789, 4578.335275901448, 3322.021928885021, 4641.54252464102, 4490.360202422488, 2814.4543997307233, 2823.063978519902, 6795.119910863108, 2425.319488957236, 2585.599516091484, 2273.986152718307, 14634.896849860797, 4980.604592964182, 1896.5037278217783, 10391.980492598504, 3774.499848477024, 3307.428228863311, 5301.549555022042, 2614.6148008288283, 9136.156034405689, 5338.472737241666, 3896.931033377728, 4752.529694197974, 2858.697948454278, 2885.362092348796], \"Total\": [130122.0, 77764.0, 46190.0, 41331.0, 32426.0, 34717.0, 24426.0, 22095.0, 21283.0, 24413.0, 21878.0, 18180.0, 18473.0, 16517.0, 17515.0, 14941.0, 16064.0, 14788.0, 14645.0, 28946.0, 13378.0, 13740.0, 12362.0, 11345.0, 10903.0, 10694.0, 10047.0, 10820.0, 10402.0, 10212.0, 4457.608954746978, 8317.790926403477, 2989.9152783361783, 4478.476129235831, 1718.054831343787, 2174.0182189035067, 1496.2835189625912, 2907.791598123272, 2972.9706717280055, 1113.7309094739705, 987.255519665048, 987.6266531849861, 1002.192865810867, 1451.9187610091155, 1445.2670240052705, 1451.959950205732, 1001.1967168758439, 1687.9291509654092, 938.0960976404195, 953.1183974624428, 1483.1554592662937, 1151.2949975988472, 723.2970935599631, 1628.9305427779116, 726.62291998347, 682.3404071690467, 687.7055117158185, 722.6906868626462, 781.3578120346059, 1447.2471784449783, 9337.259147597919, 8472.056629746343, 7031.704914509452, 6030.113486870021, 7918.5184784026305, 4244.733103148271, 4633.524127331886, 3442.953551955427, 3369.2162798721424, 9244.46226338905, 6635.754704067639, 3965.5879431774865, 6989.136062088531, 2894.3650927032, 2705.113907702287, 2665.194787970009, 5489.039228042577, 2416.4934439759386, 2342.36606420273, 2179.990889674874, 2378.7560221975873, 2030.379985660671, 2631.779831098402, 3933.83878138823, 4150.056477531147, 3789.099266967411, 4110.985886339265, 4169.62624137404, 5957.051140650466, 5938.866933946788, 7075.241133229249, 3747.9351531033326, 5183.120457523397, 4335.611221932001, 3700.9829557809135, 6992.871030935177, 6739.983979864993, 2558.51378273242, 3428.7943118143826, 1748.657229244091, 1752.3363942363055, 1693.2436487619964, 4985.595422612045, 1752.4139562262542, 1380.5577977193138, 5295.657436446415, 833.3324082354143, 2018.6474883234146, 839.6505660238736, 862.0097566660098, 2920.675366375776, 865.8710572525637, 850.4739376897822, 876.3212382819905, 850.4983768530717, 853.7426009575702, 1392.5861029119314, 321.0325976283688, 309.38542038606374, 304.1439393938247, 852.9202613167736, 315.1024983929595, 862.15835030997, 309.39817127029664, 309.40448387669926, 218.68002499974625, 24426.235459101703, 7657.641811085959, 7971.819420592114, 9007.360056800182, 7880.375455055127, 5395.290092010132, 6087.460295677664, 6546.465544525503, 41331.48907265623, 3830.761356823951, 16064.214111007956, 5803.249719156382, 3057.8404490515227, 2795.9883411911705, 1751.9327346321384, 5350.748066955493, 1755.0493178189731, 24413.870082095083, 10520.370687239823, 3095.542664835258, 4552.103385317819, 5185.951625790177, 3427.1503077077396, 4224.93625055017, 3525.278687021159, 5141.674285902403, 4728.629449020506, 4052.7391871167465, 4300.7586433658325, 5485.58781789245, 1961.8682125467733, 1747.9270295138983, 2010.4053899698433, 1183.4107851227357, 1183.876758274914, 1550.5688959556176, 1091.781625022787, 2056.9907507933426, 1409.0288877845198, 874.7527563498413, 871.3641674585303, 870.0523641596457, 861.3551806236505, 852.4553392419782, 872.7534582471523, 3602.476562658615, 880.462858432183, 860.3436891314442, 874.193752456234, 874.9296083820607, 874.1739979909551, 919.0911742406273, 601.4164282284486, 448.91762278965007, 1742.4828927593258, 1093.8172671180007, 2036.563364408408, 34717.831770211145, 6154.566172619728, 4999.71891194234, 3548.344643698581, 17515.97163522887, 3260.3711859805853, 77764.53630325041, 3589.838341576409, 10820.424726913458, 2372.4716623767736, 2201.5792645236615, 2118.3768967624164, 2131.8589023121203, 3573.9298850641326, 3010.9101227927176, 1791.2154420091613, 1730.806158629427, 1741.6601315527282, 1747.4064577413817, 9485.273616462326, 3354.4527964959784, 3400.91579587698, 3820.7350971484293, 2274.6147583136612, 2991.008152495146, 2571.436831479138, 6521.377611621554, 2764.1666611548185, 2161.7551784866682, 5284.47601095166, 2586.776198339132, 5013.715339248833, 2570.3259567839523, 1720.8629376726421, 8265.081203658403, 1531.0700177797394, 1079.0180073359281, 1721.5629823087743, 1159.7939905033543, 860.8950663162186, 829.4689859939173, 855.0997487689167, 861.0986474579781, 868.8815574764109, 926.4203321710397, 2057.6492181384347, 1946.2888173537813, 861.5559431119244, 959.8217478573666, 854.062409834181, 853.8279018184929, 864.5029407549057, 3923.3091844804476, 858.4489240776378, 632.0325148539605, 494.8910119540231, 7395.435520673623, 853.9271023037778, 826.1073162932747, 14645.74178312567, 9195.509239142491, 9235.272221576017, 10903.610158183386, 6545.717392508787, 21878.027301564664, 10212.162773202392, 4164.03170365433, 6564.125634293656, 8238.393627141286, 4137.901724647806, 3843.671062651444, 3109.5136662275972, 10402.450187978387, 3461.5453009204953, 3741.803263353149, 2512.523174429808, 3648.9154598912983, 2386.2912726501627, 2577.4170905447218, 2929.348528489438, 4910.305647735466, 3704.1943983667256, 3471.857511420458, 3169.272147147773, 10657.03688592417, 3906.9014089408447, 4122.70382569493, 4251.207569405544, 5803.987989491125, 3410.188384052785, 4037.886337033932, 3417.7004841799917, 1751.054726643439, 1948.286771935396, 1698.5012243828826, 2427.970215682237, 1165.3681455620033, 1166.1971920598742, 1077.706709911632, 1058.967142757851, 1115.5795955128806, 3534.445926177323, 854.3758341092062, 855.8112396632571, 850.0044575383919, 857.1861041491497, 857.8871962802234, 850.049579501161, 2189.3913029621267, 849.309653382202, 849.3596456178515, 908.3656476722296, 594.2108511382979, 1538.1211995826732, 849.394767462703, 4020.7495889569077, 300.7603007016708, 269.4291333137655, 46190.74075421425, 14788.993171770247, 9564.457711934912, 8257.675588830341, 6230.6026982632, 6389.858734566668, 6010.913082693692, 3881.323204930708, 12362.028068941954, 3304.170922598762, 6422.106278741684, 2025.5321609180821, 2508.8339129296237, 1699.4080921272111, 1551.855148432455, 1428.3584950988925, 2232.15396344659, 2724.2605710054613, 2256.5344801862802, 2283.1028448781044, 13740.232930663442, 8961.874871974567, 3701.3681541417536, 3502.8195906416568, 4236.802432431832, 4459.683712160628, 28946.05734338551, 7002.54478926096, 2902.448392755799, 1267.4434875785942, 1678.755509305766, 1267.1217842292808, 1268.327401873403, 793.1681971800786, 1286.862958661827, 633.1962141394362, 628.8638016138343, 628.7482950214011, 634.1349158714058, 491.5857568916071, 628.1720111168574, 1493.0387234544926, 959.9587122764883, 388.6733272304212, 366.6334762066633, 252.36013926319745, 832.480099505977, 253.65169801492638, 196.8942090417262, 195.417252373022, 163.98780637855873, 168.26101501057823, 375.6825399269245, 2618.2976989750277, 204.15642981836535, 344.29410800554564, 2259.645009644399, 108.75556847951917, 1087.3237731315046, 130122.88919139843, 32426.195417678995, 18473.370417290884, 5021.520558279777, 1713.6513040639466, 1497.8432508043954, 1855.2675889136108, 2625.5728505174557, 1281.5715162727113, 2285.880700576094, 885.4692701907447, 4126.0819214357, 825.6570992515307, 876.4630137038554, 2084.017291716437, 1324.3764269825085, 1529.1868319158698, 873.8510513388838, 4006.532149016153, 2731.4462326855937, 2365.8480622462907, 5521.13680775193, 1938.0265119872554, 1532.013188204157, 3852.107234373991, 1599.0445466957435, 6241.883743303692, 28946.05734338551, 7195.409716834761, 3632.913200981237, 2935.06242629226, 2220.0576408375964, 1280.6127108671794, 978.7848188082418, 977.1793553826948, 974.8764747464303, 973.7461157137996, 1330.619143878628, 983.0839394600445, 981.5263119947224, 974.9020506355245, 4077.5021282400994, 2060.224600077211, 974.970324278118, 2630.9464855563747, 1019.9303760715056, 2925.0317697811147, 1092.8657695899321, 4200.1762980459525, 253.12907086810986, 1012.6255714300459, 3552.1825852189, 1272.4206342184373, 194.4465375038964, 365.8025016321954, 303.30457911124785, 1036.388896252707, 1965.5955063932474, 559.9053575495989, 16517.79503534067, 21283.524463405858, 11345.046515640526, 22095.112019026463, 7434.532854292623, 8021.753125540026, 6263.07228329419, 6065.28926596042, 6245.828153616501, 5814.169359621692, 3328.250527278786, 4618.5822091289165, 2314.708942623783, 2476.32411147902, 1948.9954202941567, 2222.9287327985535, 2638.470243841675, 3234.197030243177, 4660.4710131230895, 1704.5177049079905, 9313.681501985426, 5996.368950322814, 4842.560902514963, 4863.055125909899, 6249.129940933172, 2479.9156375963694, 7195.409716834761, 4112.549661594113, 28946.05734338551, 1967.7729845511606, 2382.4655237149304, 1893.6299967005693, 1789.1062086479287, 2343.90654047371, 1541.6384261060703, 1169.859208565849, 1177.3728952264278, 1170.7314094828248, 1251.0556014647584, 1171.4604409483202, 1171.4704777378836, 1163.2512179070352, 1532.9937019660915, 1182.555476985931, 1171.5225483713511, 10047.825986172018, 1173.042013910399, 362.6452600507122, 7407.562152390786, 278.46125967155376, 270.3393207477154, 361.64879100135727, 378.576818807117, 1600.7923463660863, 310.8423717200248, 961.5838310443281, 466.3119960139046, 1899.4609872181854, 1617.1196222756814, 18180.118849502436, 13378.947238288582, 6639.890141563858, 6026.081684382248, 5919.289689355774, 6471.012025465586, 4911.3003834950805, 3889.090833630965, 4589.260722747194, 3324.4756153055782, 4670.9662830666575, 4518.113945631131, 2818.7951078632805, 2828.3506505989676, 6871.641754728428, 2427.793115476486, 2590.1762969329516, 2276.73639000549, 14941.531423274395, 5034.725670457856, 1900.5710973709301, 10694.908136185513, 3817.245535963013, 3349.2544103521486, 5466.5727931987585, 2642.9577667401163, 9799.86844035669, 5593.166199674068, 4036.784081449166, 5021.3894903239225, 3038.949041480707, 3124.868652351717], \"Category\": [\"Default\", \"Default\", \"Default\", \"Default\", \"Default\", \"Default\", \"Default\", \"Default\", \"Default\", \"Default\", \"Default\", \"Default\", \"Default\", \"Default\", \"Default\", \"Default\", \"Default\", \"Default\", \"Default\", \"Default\", \"Default\", \"Default\", \"Default\", \"Default\", \"Default\", \"Default\", \"Default\", \"Default\", \"Default\", \"Default\", \"Topic1\", \"Topic1\", \"Topic1\", \"Topic1\", \"Topic1\", \"Topic1\", \"Topic1\", \"Topic1\", \"Topic1\", \"Topic1\", \"Topic1\", \"Topic1\", \"Topic1\", \"Topic1\", \"Topic1\", \"Topic1\", \"Topic1\", \"Topic1\", \"Topic1\", \"Topic1\", \"Topic1\", \"Topic1\", \"Topic1\", \"Topic1\", \"Topic1\", \"Topic1\", \"Topic1\", \"Topic1\", \"Topic1\", \"Topic1\", \"Topic1\", \"Topic1\", \"Topic1\", \"Topic1\", \"Topic1\", \"Topic1\", \"Topic1\", \"Topic1\", \"Topic1\", \"Topic1\", \"Topic1\", \"Topic1\", \"Topic1\", \"Topic1\", \"Topic1\", \"Topic1\", \"Topic1\", \"Topic1\", \"Topic1\", \"Topic1\", \"Topic1\", \"Topic1\", \"Topic1\", \"Topic1\", \"Topic1\", \"Topic1\", \"Topic1\", \"Topic1\", \"Topic1\", \"Topic1\", \"Topic1\", \"Topic1\", \"Topic1\", \"Topic1\", \"Topic1\", \"Topic1\", \"Topic2\", \"Topic2\", \"Topic2\", \"Topic2\", \"Topic2\", \"Topic2\", \"Topic2\", \"Topic2\", \"Topic2\", \"Topic2\", \"Topic2\", \"Topic2\", \"Topic2\", \"Topic2\", \"Topic2\", \"Topic2\", \"Topic2\", \"Topic2\", \"Topic2\", \"Topic2\", \"Topic2\", \"Topic2\", \"Topic2\", \"Topic2\", \"Topic2\", \"Topic2\", \"Topic2\", \"Topic2\", \"Topic2\", \"Topic2\", \"Topic2\", \"Topic2\", \"Topic2\", \"Topic2\", \"Topic2\", \"Topic2\", \"Topic2\", \"Topic2\", \"Topic2\", \"Topic2\", \"Topic2\", \"Topic2\", \"Topic2\", \"Topic2\", \"Topic2\", \"Topic2\", \"Topic2\", \"Topic2\", \"Topic2\", \"Topic2\", \"Topic2\", \"Topic2\", \"Topic2\", \"Topic2\", \"Topic2\", \"Topic2\", \"Topic2\", \"Topic3\", \"Topic3\", \"Topic3\", \"Topic3\", \"Topic3\", \"Topic3\", \"Topic3\", \"Topic3\", \"Topic3\", \"Topic3\", \"Topic3\", \"Topic3\", \"Topic3\", \"Topic3\", \"Topic3\", \"Topic3\", \"Topic3\", \"Topic3\", \"Topic3\", \"Topic3\", \"Topic3\", \"Topic3\", \"Topic3\", \"Topic3\", \"Topic3\", \"Topic3\", \"Topic3\", \"Topic3\", \"Topic3\", \"Topic3\", \"Topic3\", \"Topic3\", \"Topic3\", \"Topic3\", \"Topic3\", \"Topic3\", \"Topic3\", \"Topic3\", \"Topic3\", \"Topic3\", \"Topic3\", \"Topic3\", \"Topic3\", \"Topic3\", \"Topic3\", \"Topic3\", \"Topic3\", \"Topic3\", \"Topic3\", \"Topic3\", \"Topic3\", \"Topic3\", \"Topic3\", \"Topic3\", \"Topic3\", \"Topic3\", \"Topic3\", \"Topic3\", \"Topic3\", \"Topic4\", \"Topic4\", \"Topic4\", \"Topic4\", \"Topic4\", \"Topic4\", \"Topic4\", \"Topic4\", \"Topic4\", \"Topic4\", \"Topic4\", \"Topic4\", \"Topic4\", \"Topic4\", \"Topic4\", \"Topic4\", \"Topic4\", \"Topic4\", \"Topic4\", \"Topic4\", \"Topic4\", \"Topic4\", \"Topic4\", \"Topic4\", \"Topic4\", \"Topic4\", \"Topic4\", \"Topic4\", \"Topic4\", \"Topic4\", \"Topic4\", \"Topic4\", \"Topic4\", \"Topic4\", \"Topic4\", \"Topic4\", \"Topic4\", \"Topic4\", \"Topic4\", \"Topic4\", \"Topic4\", \"Topic4\", \"Topic4\", \"Topic4\", \"Topic4\", \"Topic4\", \"Topic4\", \"Topic4\", \"Topic4\", \"Topic4\", \"Topic4\", \"Topic4\", \"Topic4\", \"Topic4\", \"Topic4\", \"Topic4\", \"Topic4\", \"Topic4\", \"Topic4\", \"Topic5\", \"Topic5\", \"Topic5\", \"Topic5\", \"Topic5\", \"Topic5\", \"Topic5\", \"Topic5\", \"Topic5\", \"Topic5\", \"Topic5\", \"Topic5\", \"Topic5\", \"Topic5\", \"Topic5\", \"Topic5\", \"Topic5\", \"Topic5\", \"Topic5\", \"Topic5\", \"Topic5\", \"Topic5\", \"Topic5\", \"Topic5\", \"Topic5\", \"Topic5\", \"Topic5\", \"Topic5\", \"Topic5\", \"Topic5\", \"Topic5\", \"Topic5\", \"Topic5\", \"Topic5\", \"Topic5\", \"Topic5\", \"Topic5\", \"Topic5\", \"Topic5\", \"Topic5\", \"Topic5\", \"Topic5\", \"Topic5\", \"Topic5\", \"Topic5\", \"Topic5\", \"Topic5\", \"Topic5\", \"Topic5\", \"Topic5\", \"Topic5\", \"Topic5\", \"Topic5\", \"Topic5\", \"Topic5\", \"Topic5\", \"Topic5\", \"Topic5\", \"Topic5\", \"Topic6\", \"Topic6\", \"Topic6\", \"Topic6\", \"Topic6\", \"Topic6\", \"Topic6\", \"Topic6\", \"Topic6\", \"Topic6\", \"Topic6\", \"Topic6\", \"Topic6\", \"Topic6\", \"Topic6\", \"Topic6\", \"Topic6\", \"Topic6\", \"Topic6\", \"Topic6\", \"Topic6\", \"Topic6\", \"Topic6\", \"Topic6\", \"Topic6\", \"Topic6\", \"Topic6\", \"Topic6\", \"Topic6\", \"Topic6\", \"Topic6\", \"Topic6\", \"Topic6\", \"Topic6\", \"Topic6\", \"Topic6\", \"Topic6\", \"Topic6\", \"Topic6\", \"Topic6\", \"Topic6\", \"Topic6\", \"Topic6\", \"Topic6\", \"Topic6\", \"Topic6\", \"Topic6\", \"Topic6\", \"Topic6\", \"Topic6\", \"Topic6\", \"Topic6\", \"Topic6\", \"Topic6\", \"Topic6\", \"Topic6\", \"Topic6\", \"Topic6\", \"Topic6\", \"Topic7\", \"Topic7\", \"Topic7\", \"Topic7\", \"Topic7\", \"Topic7\", \"Topic7\", \"Topic7\", \"Topic7\", \"Topic7\", \"Topic7\", \"Topic7\", \"Topic7\", \"Topic7\", \"Topic7\", \"Topic7\", \"Topic7\", \"Topic7\", \"Topic7\", \"Topic7\", \"Topic7\", \"Topic7\", \"Topic7\", \"Topic7\", \"Topic7\", \"Topic7\", \"Topic7\", \"Topic7\", \"Topic7\", \"Topic7\", \"Topic7\", \"Topic7\", \"Topic7\", \"Topic7\", \"Topic7\", \"Topic7\", \"Topic7\", \"Topic7\", \"Topic7\", \"Topic7\", \"Topic7\", \"Topic7\", \"Topic7\", \"Topic7\", \"Topic7\", \"Topic7\", \"Topic7\", \"Topic7\", \"Topic7\", \"Topic7\", \"Topic7\", \"Topic7\", \"Topic7\", \"Topic7\", \"Topic7\", \"Topic7\", \"Topic7\", \"Topic7\", \"Topic7\", \"Topic8\", \"Topic8\", \"Topic8\", \"Topic8\", \"Topic8\", \"Topic8\", \"Topic8\", \"Topic8\", \"Topic8\", \"Topic8\", \"Topic8\", \"Topic8\", \"Topic8\", \"Topic8\", \"Topic8\", \"Topic8\", \"Topic8\", \"Topic8\", \"Topic8\", \"Topic8\", \"Topic8\", \"Topic8\", \"Topic8\", \"Topic8\", \"Topic8\", \"Topic8\", \"Topic8\", \"Topic8\", \"Topic8\", \"Topic8\", \"Topic8\", \"Topic8\", \"Topic8\", \"Topic8\", \"Topic8\", \"Topic8\", \"Topic8\", \"Topic8\", \"Topic8\", \"Topic8\", \"Topic8\", \"Topic8\", \"Topic8\", \"Topic8\", \"Topic8\", \"Topic8\", \"Topic8\", \"Topic8\", \"Topic8\", \"Topic8\", \"Topic8\", \"Topic8\", \"Topic8\", \"Topic8\", \"Topic8\", \"Topic8\", \"Topic8\", \"Topic8\", \"Topic8\", \"Topic8\", \"Topic8\", \"Topic8\"], \"logprob\": [30.0, 29.0, 28.0, 27.0, 26.0, 25.0, 24.0, 23.0, 22.0, 21.0, 20.0, 19.0, 18.0, 17.0, 16.0, 15.0, 14.0, 13.0, 12.0, 11.0, 10.0, 9.0, 8.0, 7.0, 6.0, 5.0, 4.0, 3.0, 2.0, 1.0, -4.297699928283691, -3.6738998889923096, -4.6971001625061035, -4.293000221252441, -5.251200199127197, -5.0157999992370605, -5.389400005340576, -4.724999904632568, -4.7027997970581055, -5.684700012207031, -5.805200099945068, -5.804800033569336, -5.790200233459473, -5.41949987411499, -5.424099922180176, -5.41949987411499, -5.791200160980225, -5.268899917602539, -5.856299877166748, -5.840400218963623, -5.398200035095215, -5.651500225067139, -6.116300106048584, -5.304500102996826, -6.111800193786621, -6.174600124359131, -6.166800022125244, -6.117199897766113, -6.039100170135498, -5.422800064086914, -3.5594000816345215, -3.656599998474121, -3.843600034713745, -3.9969000816345215, -3.7281999588012695, -4.347300052642822, -4.261099815368652, -4.556300163269043, -4.578100204467773, -3.578900098800659, -3.9079999923706055, -4.417699813842773, -3.8577001094818115, -4.731200218200684, -4.798299789428711, -4.813199996948242, -4.098100185394287, -4.910399913787842, -4.94189977645874, -5.013800144195557, -4.927499771118164, -5.0843000411987305, -4.827899932861328, -4.430600166320801, -4.378499984741211, -4.467800140380859, -4.388999938964844, -4.375699996948242, -4.027900218963623, -4.031400203704834, -3.8617000579833984, -4.489299774169922, -4.213699817657471, -4.420899868011475, -4.610799789428711, -4.361100196838379, -3.8698999881744385, -4.838500022888184, -4.5457000732421875, -5.219099998474121, -5.2170000076293945, -5.251299858093262, -4.17140007019043, -5.2170000076293945, -5.45550012588501, -4.111100196838379, -5.960299968719482, -5.0756001472473145, -5.9527997970581055, -5.926499843597412, -4.706200122833252, -5.922100067138672, -5.940000057220459, -5.910099983215332, -5.940000057220459, -5.936200141906738, -5.447000026702881, -6.914400100708008, -6.951399803161621, -6.968400001525879, -5.937300205230713, -6.93310022354126, -5.926499843597412, -6.951399803161621, -6.951300144195557, -7.298399925231934, -2.59060001373291, -3.7430999279022217, -3.7054998874664307, -3.5857999324798584, -3.719099998474121, -4.095699787139893, -3.9763998985290527, -3.9045000076293945, -2.080399990081787, -4.435500144958496, -3.017699956893921, -4.0258002281188965, -4.660600185394287, -4.7515997886657715, -5.217700004577637, -4.113100051879883, -5.218699932098389, -2.62719988822937, -3.459700107574463, -4.659200191497803, -4.292600154876709, -4.211400032043457, -4.596499919891357, -4.418099880218506, -4.638199806213379, -4.385499954223633, -4.504300117492676, -4.360599994659424, -4.301199913024902, -4.0578999519348145, -5.086100101470947, -5.201600074768066, -5.061699867248535, -5.591599941253662, -5.59119987487793, -5.321400165557861, -5.6722002029418945, -5.03879976272583, -5.417099952697754, -5.893899917602539, -5.89769983291626, -5.8993000984191895, -5.909299850463867, -5.9197001457214355, -5.896200180053711, -4.478400230407715, -5.887400150299072, -5.9105000495910645, -5.894499778747559, -5.893700122833252, -5.894599914550781, -5.8445000648498535, -6.268599987030029, -6.561100006103516, -5.204899787902832, -5.670499801635742, -5.048999786376953, -2.22160005569458, -3.94350004196167, -4.151599884033203, -4.494800090789795, -2.914599895477295, -4.57919979095459, -1.4392000436782837, -4.4842000007629395, -3.3945000171661377, -4.89709997177124, -4.971700191497803, -5.009900093078613, -5.003600120544434, -4.492199897766113, -4.66349983215332, -5.177800178527832, -5.211900234222412, -5.205900192260742, -5.203100204467773, -3.538100004196167, -4.558700084686279, -4.551199913024902, -4.443999767303467, -4.95359992980957, -4.711999893188477, -4.869699954986572, -4.092199802398682, -4.84689998626709, -5.045300006866455, -4.058899879455566, -4.7733001708984375, -4.111499786376953, -4.779699802398682, -5.1809000968933105, -3.6117000579833984, -5.297800064086914, -5.64769983291626, -5.180500030517578, -5.575500011444092, -5.873600006103516, -5.910799980163574, -5.880300045013428, -5.873300075531006, -5.864299774169922, -5.80019998550415, -5.002200126647949, -5.0578999519348145, -5.872799873352051, -5.764800071716309, -5.8815999031066895, -5.881800174713135, -5.8694000244140625, -4.356900215148926, -5.876500129699707, -6.182700157165527, -6.427299976348877, -3.7230000495910645, -5.881800174713135, -5.914999961853027, -3.0429999828338623, -3.5058999061584473, -3.5018999576568604, -3.338599920272827, -3.8452999591827393, -2.6510000228881836, -3.408900022506714, -4.298799991607666, -3.8487000465393066, -3.6242001056671143, -4.306399822235107, -4.379499912261963, -4.589799880981445, -3.39520001411438, -4.484600067138672, -4.408400058746338, -4.802700042724609, -4.4334001541137695, -4.8541998863220215, -4.77839994430542, -4.654300212860107, -4.144700050354004, -4.422599792480469, -4.487299919128418, -4.577099800109863, -3.4019999504089355, -4.389599800109863, -4.4008002281188965, -4.484600067138672, -3.961899995803833, -4.49370002746582, -4.324699878692627, -4.491499900817871, -5.160200119018555, -5.053500175476074, -5.190700054168701, -4.833399772644043, -5.567399978637695, -5.566699981689453, -5.645599842071533, -5.6631999015808105, -5.611100196838379, -4.457900047302246, -5.877900123596191, -5.876200199127197, -5.882999897003174, -5.874599933624268, -5.873799800872803, -5.882999897003174, -4.9369001388549805, -5.883900165557861, -5.883800029754639, -5.8165998458862305, -6.241099834442139, -5.289999961853027, -5.883800029754639, -4.329100131988525, -6.9222002029418945, -7.032199859619141, -1.901900053024292, -3.0322999954223633, -3.4642999172210693, -3.611799955368042, -3.8926000595092773, -3.8677000999450684, -3.930999994277954, -4.364699840545654, -3.219099998474121, -4.529300212860107, -3.8724000453948975, -5.0152997970581055, -4.803800106048584, -5.190700054168701, -5.281599998474121, -5.364200115203857, -4.924099922180176, -4.7291998863220215, -4.914000034332275, -4.906000137329102, -3.1772000789642334, -3.592900037765503, -4.464000225067139, -4.5152997970581055, -4.3471999168396, -4.3302998542785645, -2.7792000770568848, -3.981600046157837, -4.749899864196777, -5.437699794769287, -5.156599998474121, -5.438000202178955, -5.436999797821045, -5.906400203704834, -5.422500133514404, -6.131700038909912, -6.138599872589111, -6.138800144195557, -6.130300045013428, -6.384900093078613, -6.139699935913086, -5.27400016784668, -5.715700149536133, -6.619900226593018, -6.678299903869629, -7.0518999099731445, -5.858399868011475, -7.046800136566162, -7.30019998550415, -7.307700157165527, -7.4832000732421875, -7.457399845123291, -6.654200077056885, -4.712800025939941, -7.2642998695373535, -6.741799831390381, -4.860400199890137, -7.8942999839782715, -5.5920000076293945, -0.8076000213623047, -2.1967999935150146, -2.7616000175476074, -4.066500186920166, -5.137800216674805, -5.272600173950195, -5.060800075531006, -4.719600200653076, -5.429800033569336, -4.8572998046875, -5.797399997711182, -4.273900032043457, -5.868199825286865, -5.8094000816345215, -4.952199935913086, -5.403600215911865, -5.263999938964844, -5.8140997886657715, -4.362500190734863, -4.7434000968933105, -4.880099773406982, -4.110400199890137, -5.073699951171875, -5.296500205993652, -4.495699882507324, -5.277599811553955, -4.4644999504089355, -4.458199977874756, -4.908299922943115, -4.353400230407715, -4.566699981689453, -4.845900058746338, -5.396100044250488, -5.664899826049805, -5.666600227355957, -5.668900012969971, -5.670100212097168, -5.357900142669678, -5.660600185394287, -5.662199974060059, -5.668900012969971, -4.23799991607666, -4.9207000732421875, -5.668900012969971, -4.676199913024902, -5.623799800872803, -4.570300102233887, -5.554900169372559, -4.208600044250488, -7.017600059509277, -5.631199836730957, -4.376200199127197, -5.402900218963623, -7.281400203704834, -6.649499893188477, -6.836900234222412, -5.6082000732421875, -4.968100070953369, -6.223899841308594, -2.841399908065796, -2.591399908065796, -3.218400001525879, -2.5587000846862793, -3.6384999752044678, -3.5638999938964844, -3.811199903488159, -3.844899892807007, -3.8176000118255615, -3.8886001110076904, -4.441699981689453, -4.118000030517578, -4.805500030517578, -4.7393999099731445, -4.9766998291015625, -4.84660005569458, -4.6768999099731445, -4.47599983215332, -4.1143999099731445, -5.112100124359131, -3.4375, -3.86929988861084, -4.083700180053711, -4.085100173950195, -3.8994998931884766, -4.7515997886657715, -4.044600009918213, -4.430600166320801, -4.075699806213379, -4.932499885559082, -4.741300106048584, -4.9710001945495605, -5.027699947357178, -4.757599830627441, -5.176599979400635, -5.452600002288818, -5.446199893951416, -5.4517998695373535, -5.385499954223633, -5.451200008392334, -5.451200008392334, -5.4583001136779785, -5.182300090789795, -5.441800117492676, -5.451200008392334, -3.3022000789642334, -5.449999809265137, -6.624000072479248, -3.6071999073028564, -6.888199806213379, -6.917799949645996, -6.626800060272217, -6.581099987030029, -5.1392998695373535, -6.778299808502197, -5.64900016784668, -6.372799873352051, -4.968299865722656, -5.129300117492676, -2.710400104522705, -3.0178000926971436, -3.7177000045776367, -3.8138999938964844, -3.8320999145507812, -3.74399995803833, -4.018700122833252, -4.2519001960754395, -4.088099956512451, -4.40880012512207, -4.074399948120117, -4.107500076293945, -4.5746002197265625, -4.571599960327148, -3.69320011138916, -4.723400115966797, -4.65939998626709, -4.787899971008301, -2.9260001182556152, -4.003799915313721, -4.969399929046631, -3.268399953842163, -4.281099796295166, -4.4131999015808105, -3.9414000511169434, -4.6483001708984375, -3.397200107574463, -3.934499979019165, -4.249199867248535, -4.0507001876831055, -4.559000015258789, -4.549699783325195], \"loglift\": [30.0, 29.0, 28.0, 27.0, 26.0, 25.0, 24.0, 23.0, 22.0, 21.0, 20.0, 19.0, 18.0, 17.0, 16.0, 15.0, 14.0, 13.0, 12.0, 11.0, 10.0, 9.0, 8.0, 7.0, 6.0, 5.0, 4.0, 3.0, 2.0, 1.0, 2.0017, 2.0017, 2.0017, 2.0017, 2.0017, 2.0017, 2.0017, 2.0016, 2.0016, 2.0016, 2.0016, 2.0016, 2.0016, 2.0016, 2.0016, 2.0016, 2.0016, 2.0016, 2.0016, 2.0016, 2.0016, 2.0016, 2.0016, 2.0016, 2.0016, 2.0016, 2.0016, 2.0016, 2.0016, 2.0016, 2.0006, 2.0006, 1.9999, 2.0004, 1.9966, 2.0011, 1.9995, 2.0014, 2.0013, 1.9911, 1.9935, 1.9986, 1.9919, 2.0, 2.0006, 2.0005, 1.9932, 2.0013, 2.001, 2.0009, 1.9999, 2.0015, 1.9984, 1.9938, 1.9924, 1.9941, 1.9913, 1.9905, 1.9815, 1.9811, 1.9757, 1.9835, 1.9349, 1.9062, 1.8746, 1.488, 2.0161, 2.0161, 2.0161, 2.0161, 2.016, 2.016, 2.016, 2.016, 2.016, 2.016, 2.016, 2.016, 2.016, 2.016, 2.016, 2.016, 2.016, 2.0159, 2.0159, 2.0159, 2.0158, 2.0158, 2.0158, 2.0158, 2.0158, 2.0158, 2.0158, 2.0158, 2.0158, 2.0157, 2.0077, 2.0152, 2.0126, 2.0102, 2.0105, 2.0127, 2.0114, 2.0106, 1.9919, 2.0155, 1.9997, 2.0098, 2.0157, 2.0143, 2.0156, 2.0036, 2.0128, 1.9716, 1.981, 2.0048, 1.9858, 1.9366, 1.9658, 1.9349, 1.8958, 1.7711, 1.736, 2.034, 2.034, 2.034, 2.034, 2.034, 2.034, 2.034, 2.034, 2.034, 2.034, 2.034, 2.034, 2.034, 2.034, 2.034, 2.034, 2.034, 2.0339, 2.0339, 2.0339, 2.0339, 2.0339, 2.0339, 2.0339, 2.0339, 2.0339, 2.0339, 2.0338, 2.0338, 2.0337, 2.0252, 2.0333, 2.033, 2.0327, 2.0163, 2.0329, 2.0011, 2.0317, 2.018, 2.0329, 2.0332, 2.0335, 2.0334, 2.0281, 2.0283, 2.0333, 2.0335, 2.0332, 2.0327, 2.0062, 2.025, 2.0188, 2.0095, 2.0186, 1.9864, 1.9798, 1.8267, 1.9304, 1.9778, 2.0703, 2.0703, 2.0703, 2.0703, 2.0703, 2.0703, 2.0702, 2.0702, 2.0702, 2.0702, 2.0702, 2.0702, 2.0702, 2.0702, 2.0702, 2.0702, 2.0702, 2.0702, 2.0702, 2.0702, 2.0702, 2.0702, 2.0702, 2.0702, 2.0702, 2.0702, 2.0701, 2.0701, 2.0701, 2.0701, 2.0668, 2.0694, 2.0691, 2.0664, 2.0699, 2.0575, 2.0616, 2.0688, 2.0637, 2.061, 2.0674, 2.0681, 2.0697, 2.0568, 2.0677, 2.066, 2.07, 2.0661, 2.07, 2.0688, 2.065, 2.058, 2.0619, 2.062, 2.0634, 2.0258, 2.0417, 1.9767, 1.8622, 2.0736, 2.0736, 2.0736, 2.0736, 2.0735, 2.0735, 2.0735, 2.0735, 2.0735, 2.0735, 2.0735, 2.0735, 2.0735, 2.0735, 2.0735, 2.0735, 2.0735, 2.0735, 2.0735, 2.0735, 2.0735, 2.0735, 2.0735, 2.0735, 2.0734, 2.0734, 2.0734, 2.0734, 2.0733, 2.0733, 2.0593, 2.0679, 2.0717, 2.071, 2.0719, 2.0716, 2.0695, 2.0731, 2.0603, 2.0695, 2.0619, 2.0729, 2.0704, 2.073, 2.0729, 2.0733, 2.067, 2.0626, 2.0662, 2.0624, 1.9965, 2.0081, 2.0213, 2.0251, 2.003, 1.9687, 1.6494, 1.8662, 1.9785, 2.1193, 2.1193, 2.1193, 2.1193, 2.1193, 2.1192, 2.1192, 2.1192, 2.1192, 2.1192, 2.1192, 2.1192, 2.1192, 2.1191, 2.1191, 2.1191, 2.119, 2.119, 2.119, 2.1189, 2.1189, 2.1188, 2.1188, 2.1188, 2.1187, 2.1186, 2.1185, 2.1184, 2.1183, 2.1183, 2.1179, 2.1183, 2.1161, 2.1138, 2.1176, 2.1174, 2.1152, 2.1092, 2.1161, 2.1099, 2.1182, 2.1028, 2.1174, 2.1164, 2.1075, 2.1095, 2.1052, 2.1148, 2.0436, 2.0458, 2.0528, 1.975, 2.0587, 2.0709, 1.9497, 2.047, 1.4983, -0.0296, 0.9123, 2.1506, 2.1506, 2.1505, 2.1505, 2.1505, 2.1505, 2.1505, 2.1505, 2.1505, 2.1505, 2.1505, 2.1505, 2.1505, 2.1505, 2.1505, 2.1504, 2.1504, 2.1504, 2.1503, 2.1503, 2.1503, 2.1503, 2.1502, 2.1502, 2.1502, 2.1501, 2.1501, 2.1501, 2.1501, 2.1501, 2.1482, 2.1447, 2.1469, 2.14, 2.1493, 2.148, 2.1481, 2.1466, 2.1445, 2.1451, 2.1499, 2.1459, 2.1492, 2.1479, 2.15, 2.1486, 2.1469, 2.1442, 2.1405, 2.1486, 2.1251, 2.1335, 2.1328, 2.1272, 2.062, 2.1342, 1.776, 1.9494, 0.3529, 2.1846, 2.1846, 2.1846, 2.1846, 2.1846, 2.1845, 2.1845, 2.1845, 2.1845, 2.1845, 2.1845, 2.1845, 2.1845, 2.1845, 2.1845, 2.1845, 2.1844, 2.1844, 2.1844, 2.1843, 2.1843, 2.1843, 2.1843, 2.1843, 2.1842, 2.1842, 2.1842, 2.1841, 2.1841, 2.1841, 2.1832, 2.1825, 2.1832, 2.184, 2.1837, 2.1827, 2.1838, 2.1839, 2.1822, 2.1839, 2.1783, 2.1784, 2.1831, 2.1827, 2.1734, 2.1836, 2.1828, 2.1834, 2.1639, 2.1738, 2.1825, 2.1559, 2.1733, 2.172, 2.154, 2.1738, 2.1145, 2.138, 2.1493, 2.1296, 2.1235, 2.1049]}, \"token.table\": {\"Topic\": [1, 2, 3, 5, 6, 7, 4, 7, 1, 2, 3, 4, 5, 6, 7, 8, 5, 6, 2, 1, 2, 4, 6, 1, 2, 4, 5, 6, 7, 8, 1, 2, 3, 4, 5, 6, 7, 8, 5, 3, 1, 2, 4, 5, 7, 8, 1, 1, 2, 3, 4, 5, 6, 7, 8, 1, 4, 6, 7, 8, 8, 4, 5, 7, 8, 5, 5, 8, 8, 3, 3, 1, 3, 5, 7, 8, 5, 1, 4, 1, 1, 2, 3, 4, 6, 7, 8, 6, 6, 4, 5, 6, 3, 3, 3, 2, 5, 6, 1, 4, 5, 6, 8, 2, 7, 8, 1, 3, 4, 2, 4, 7, 1, 2, 4, 5, 6, 7, 8, 2, 4, 6, 7, 8, 2, 3, 1, 1, 2, 3, 4, 5, 6, 7, 8, 6, 7, 8, 7, 5, 2, 2, 5, 1, 2, 3, 5, 6, 7, 8, 7, 4, 7, 2, 4, 5, 7, 8, 2, 4, 7, 8, 4, 3, 3, 4, 1, 2, 3, 4, 7, 1, 2, 3, 4, 5, 6, 7, 8, 1, 4, 6, 8, 2, 5, 3, 2, 3, 4, 5, 6, 7, 8, 1, 2, 3, 4, 5, 6, 7, 8, 2, 3, 2, 7, 8, 6, 4, 6, 7, 1, 6, 8, 2, 5, 6, 8, 1, 8, 2, 8, 1, 2, 3, 4, 5, 6, 7, 8, 3, 3, 1, 2, 3, 4, 5, 6, 7, 8, 2, 8, 1, 4, 1, 2, 3, 4, 5, 6, 7, 8, 4, 8, 7, 8, 6, 8, 8, 4, 4, 1, 2, 3, 5, 6, 7, 8, 1, 2, 3, 4, 5, 6, 7, 8, 3, 7, 1, 8, 3, 6, 7, 8, 1, 3, 4, 5, 7, 8, 1, 4, 5, 8, 8, 4, 5, 6, 1, 1, 2, 4, 5, 6, 7, 1, 2, 4, 5, 8, 8, 4, 4, 4, 2, 4, 7, 2, 4, 5, 8, 1, 2, 3, 4, 5, 6, 7, 8, 1, 2, 3, 4, 5, 8, 5, 1, 2, 3, 4, 5, 6, 7, 8, 3, 8, 8, 1, 2, 3, 4, 5, 6, 8, 2, 8, 1, 1, 3, 1, 8, 5, 1, 2, 3, 4, 6, 7, 8, 5, 1, 2, 3, 4, 5, 6, 7, 8, 1, 3, 4, 7, 8, 1, 5, 6, 7, 8, 5, 5, 2, 1, 3, 4, 7, 8, 1, 2, 3, 4, 5, 6, 7, 8, 7, 7, 1, 5, 2, 4, 5, 2, 4, 7, 8, 1, 2, 3, 4, 7, 8, 7, 2, 3, 5, 7, 8, 4, 2, 3, 4, 5, 6, 7, 8, 1, 3, 4, 5, 7, 8, 1, 3, 4, 5, 6, 7, 8, 3, 7, 6, 4, 7, 2, 3, 4, 5, 8, 7, 2, 6, 1, 3, 4, 5, 6, 8, 2, 6, 4, 8, 1, 3, 4, 5, 8, 5, 5, 1, 3, 8, 1, 2, 3, 4, 5, 6, 7, 8, 3, 6, 7, 8, 3, 7, 8, 1, 2, 3, 4, 5, 7, 8, 1, 5, 6, 8, 1, 2, 3, 4, 5, 6, 7, 8, 3, 4, 5, 6, 8, 1, 4, 5, 6, 7, 8, 6, 2, 3, 5, 6, 1, 1, 2, 3, 4, 6, 8, 2, 4, 6, 7, 2, 3, 1, 1, 2, 3, 4, 5, 6, 8, 5, 1, 4, 5, 7, 1, 2, 3, 5, 6, 7, 1, 2, 3, 4, 5, 6, 7, 8, 7, 4, 2, 2, 4, 6, 7, 8, 2, 7, 2, 3, 4, 7, 1, 1, 2, 5, 8, 3, 4, 5, 6, 7, 6, 8, 8, 1, 3, 4, 5, 8, 5, 4, 1, 5, 2, 1, 2, 3, 1, 4, 8, 6, 7, 8, 1, 2, 3, 4, 5, 8, 3, 4, 6, 8, 1, 6, 3, 2, 5, 3, 2, 6, 8, 1, 2, 4, 5, 7, 8, 2, 3, 4, 5, 7, 8, 7, 1, 2, 3, 4, 3, 5, 1, 2, 5, 6, 7, 3, 4, 5, 6, 7, 8, 1, 3, 4, 5, 6, 8, 1, 5, 7, 8, 1, 2, 2, 2, 5, 7, 1, 2, 3, 4, 5, 8, 1, 3, 4, 6, 8, 3, 4, 7, 3, 4, 5, 7, 8, 4, 5, 6, 1, 2, 3, 4, 5, 6, 7, 8, 8, 1, 2, 3, 7, 8, 3, 4, 5, 6, 8, 8, 7, 1, 2, 3, 4, 5, 6, 7, 8, 2, 1, 2, 3, 4, 5, 6, 7, 8, 1, 4, 5, 1, 8, 1, 2, 3, 4, 5, 6, 7, 8, 6, 5, 6, 4, 5, 1, 2, 3, 4, 5, 7, 8, 1, 4, 5, 6, 7, 8, 2, 7, 8, 2, 5, 7, 3, 4, 7, 1, 2, 3, 4, 5, 6, 7, 8, 1, 2, 5, 6, 7, 8, 3, 1, 3, 4, 5, 6, 7, 8, 2, 6, 1, 6, 1, 2, 4, 6, 2, 4, 1, 3, 5, 7, 8, 8, 8, 6, 7, 8, 1, 3, 4, 1, 1, 2, 3, 4, 6, 8, 3, 6, 6, 1, 4, 5, 7, 1, 4, 2, 4, 5, 6, 7, 1, 2, 4, 6, 7, 8, 1, 2, 4, 5, 6, 7, 8, 1, 2, 3, 4, 5, 6, 7, 8, 1, 3, 7, 8, 1, 1, 2, 3, 4, 5, 6, 7, 8, 1, 1, 6, 5, 3, 2, 1, 2, 3, 4, 5, 7, 8, 2, 6, 1, 2, 3, 5, 6, 7, 8, 3, 1, 2, 3, 4, 5, 6, 7, 8, 1, 2, 4, 6, 8, 1, 3, 3, 1, 2, 3, 6, 7, 8, 6, 2, 1, 2, 3, 4, 5, 6, 7, 8, 5, 3, 7, 8, 2, 4, 8, 1, 2, 3, 4, 5, 6, 7, 8, 6, 4, 1, 8, 5, 4, 6, 4, 5, 7, 6, 1, 3, 4, 5, 6, 7, 8, 2, 1, 2, 3, 4, 5, 6, 7, 8, 1, 4, 6, 1, 5, 2, 4, 5, 1, 1, 3, 4, 5, 6, 8, 5, 7, 4, 2, 6, 6, 7, 1, 5, 6, 7, 8, 1, 2, 3, 4, 5, 6, 7, 8, 3, 5, 4, 8, 2, 3, 4, 5, 3, 5, 6, 8, 2, 5, 2, 6, 7, 1, 2, 5, 6, 8, 3, 1, 4, 7, 1, 7, 1, 4, 5, 6, 4, 5, 4, 2, 6, 2, 6, 2, 1, 2, 4, 5, 6, 7, 8, 7, 2, 5, 6, 2, 3, 4, 5, 6, 7, 6, 4, 2, 1, 6, 4, 6, 8, 1, 2, 4, 5, 7, 8, 6, 4, 3, 8, 1, 1, 2, 3, 4, 5, 7, 4, 6, 8, 2, 6, 8, 2, 3, 4, 7, 1, 7, 8, 3, 7, 8, 1, 2, 3, 4, 8, 4, 8, 2, 1, 4, 8, 1, 2, 3, 5, 6, 7, 8, 4, 7, 6, 7, 1, 3, 4, 6, 7, 1, 5, 2, 5, 7, 1, 5, 6, 7, 1, 2, 3, 4, 5, 6, 7, 8, 6, 7, 3, 4, 5, 4, 3, 2, 1, 2, 8, 1, 2, 4, 5, 1, 2, 3, 4, 7, 4, 5, 6, 8, 1, 2, 3, 8, 3, 1, 1, 2, 3, 4, 5, 6, 7, 8, 2, 3, 5, 6, 7, 1, 2, 4, 5, 6, 7, 8, 2, 2, 3, 4, 5, 6, 7, 8, 1, 2, 3, 4, 5, 6, 7, 8, 1, 2, 3, 8, 4, 2, 1, 2, 3, 5, 7, 6, 5, 3, 1, 3, 5, 7, 8, 1, 3, 4, 5, 7, 2, 3, 4, 6, 7, 8, 2, 1, 3, 5, 7, 8, 1, 2, 3, 4, 6, 7, 6, 3, 5, 8, 1, 2, 3, 4, 5, 6, 7, 8, 1, 2, 3, 4, 5, 7, 8, 5, 2, 3, 4, 6, 7, 8, 5, 1, 2, 3, 4, 5, 6, 7, 8, 2, 1, 3, 6, 3, 1, 2, 3, 4, 5, 6, 7, 8, 3, 2, 3, 4, 5, 6, 7, 8, 1, 6, 2, 5, 3, 2, 3, 1, 2, 3, 4, 5, 6, 7, 8, 1, 2, 3, 4, 7, 2, 8, 1, 2, 3, 4, 5, 6, 7, 8, 1, 2, 3, 4, 5, 6, 7, 8, 1, 3, 1, 2, 3, 5, 6, 7], \"Freq\": [0.0017128336907802288, 0.0003114243074145871, 0.0003114243074145871, 0.9883050395801921, 0.00015571215370729355, 0.00887559276131573, 1.000056776408692, 0.9999787308468464, 0.1571279813760636, 0.7558215416393692, 0.008670588474318449, 0.025800287655289043, 0.00021147776766630363, 0.04504476451292267, 0.00042295553533260727, 0.007190244100654324, 1.0000876366496698, 1.0013731506147974, 0.9994675967782894, 0.9921606392376489, 0.0005084092437805016, 0.006863524791036772, 0.0005084092437805016, 5.500514096074617e-05, 0.00011001028192149233, 5.500514096074617e-05, 0.0007700719734504464, 0.00016501542288223852, 0.00022002056384298467, 0.9986183341423467, 0.00037372148278533713, 0.00014948859311413485, 7.474429655706742e-05, 0.00014948859311413485, 0.00014948859311413485, 0.00037372148278533713, 0.0007474429655706743, 0.9979111033334073, 0.9999416745771581, 0.9998009572563873, 0.0002366899618591358, 0.9219074014413339, 0.05230848157086901, 0.0002366899618591358, 0.0007100698855774073, 0.024379066071490988, 1.0000877253381784, 0.030194094816844496, 0.0018655390390270054, 0.012402379907605463, 0.0008636754810310211, 0.6542859974098604, 0.11659618993918784, 0.16568750428099108, 0.0181026380824102, 0.0004803037398213879, 0.9985514750886655, 0.00024015186991069396, 0.0007204556097320818, 0.00024015186991069396, 1.0001203490412522, 0.0028323246578935385, 0.9318348124469741, 0.00778889280920723, 0.05735457432234415, 0.9995601068122462, 0.0008237934226152025, 0.998849524920933, 1.000039873401382, 1.0001670597891372, 1.000282644036688, 0.00807558580634609, 0.00036707208210664047, 0.9892592612773962, 0.0018353604105332023, 0.0007341441642132809, 1.000220563049414, 0.9988012928794437, 0.0011256212917499365, 1.0000426397690168, 0.0013189807854503415, 0.00016487259818129268, 0.00032974519636258537, 0.0018135985799942194, 0.00016487259818129268, 0.995995365613189, 0.00016487259818129268, 0.997864813019551, 1.0004003270952653, 0.9999485550929796, 0.9996840950532196, 0.9985729154206011, 0.9999398149332124, 0.9997783644006953, 1.0000417468720773, 0.0023408759963120286, 0.0007802919987706762, 0.9964328824301535, 0.004096473971360443, 0.9947604293786944, 0.00034137283094670364, 0.00034137283094670364, 0.00034137283094670364, 0.9996747141216518, 1.0000682634130014, 1.0002294211251186, 0.05288871899753037, 0.947330290279294, 0.9999099227717803, 0.9998805714139289, 0.9999269259090876, 1.0002198452485402, 0.9894572274068302, 0.0007572100789163454, 0.007463927920746833, 0.0007572100789163454, 0.0003245186052498623, 0.0007572100789163454, 0.0005408643420831039, 0.05659851404293183, 0.00032906112815658036, 0.0019743667689394824, 0.00032906112815658036, 0.9407857653996633, 1.000093489024523, 0.9999007995689844, 1.0004282185894464, 0.001003006293211656, 0.005683702328199384, 0.9535246494132144, 0.002340348017493864, 0.00167167715535276, 0.004680696034987728, 0.031093195089561335, 0.000334335431070552, 0.0004498569770795356, 0.99778277516241, 0.0013495709312386069, 0.9998909827223679, 0.9995765685128708, 0.9999886814900477, 1.000148916800436, 0.999597466424268, 0.001985658616373096, 0.8867384049688999, 0.000283665516624728, 0.000283665516624728, 0.000283665516624728, 0.1103458859670192, 0.000283665516624728, 1.0001690329430233, 0.0005130848382645623, 0.9994892649393673, 0.0001601068706030558, 0.004002671765076395, 0.0012808549648244464, 0.9939434527037703, 0.0006404274824122232, 0.00640254896880643, 0.00018292997053732658, 0.02359796619931513, 0.9698947037889055, 1.000079647439873, 0.9994743010136655, 0.9997228708750414, 0.9998854400035706, 0.996663918845089, 0.0015198839784141655, 0.0003799709946035414, 0.0003799709946035414, 0.0007599419892070828, 0.00028657711138994446, 0.9916386845838907, 0.0017604022556810875, 0.0007369125721455715, 0.0006959729848041509, 0.0004912750480970476, 8.187917468284128e-05, 0.004298656670849167, 0.9977286991407237, 0.0002158184510362803, 0.0002158184510362803, 0.001510729157253962, 0.00025764409383110176, 0.9994014399708437, 1.000067174467879, 6.054076817519824e-05, 0.0018162230452559473, 0.00012108153635039648, 0.00012108153635039648, 6.054076817519824e-05, 0.9975907779909167, 0.00024216307270079297, 0.0008225282042739711, 0.004729537174575334, 0.004112641021369856, 0.00020563205106849278, 0.008019649991671218, 0.005140801276712319, 0.9769578746264092, 0.00020563205106849278, 0.9965102796332475, 0.003512372586824135, 0.0006757567562866383, 0.0003378783781433191, 0.9991063641697946, 0.9984487493400547, 0.00918683113895993, 0.9904278904097752, 1.0001267086208043, 0.01151621922495333, 0.9879956410074544, 0.9997840381310864, 0.9965531921197003, 0.0022791382324064044, 0.0005697845581016011, 0.9984763493735974, 1.0000716701557508, 0.9995983870299556, 0.999442736962558, 1.000004108323407, 0.9796481491686726, 0.0006735291503394105, 0.002357352026187937, 0.0006735291503394105, 0.0005051468627545578, 0.0006735291503394105, 0.009429408104751747, 0.006061762353054695, 0.9995820720289744, 0.9990468108429121, 0.003752240681723574, 0.001250746893907858, 0.003126867234769645, 0.001250746893907858, 0.05128062265022218, 0.9299303156204924, 0.007504481363447148, 0.001876120340861787, 9.952401657594551e-05, 0.9998182705219486, 0.008064847105013886, 0.9916881636629576, 0.0007393425121383394, 0.012661240520369061, 0.9840648836561297, 0.0008317603261556318, 9.241781401729242e-05, 9.241781401729242e-05, 9.241781401729242e-05, 0.0012938493962420937, 0.0005264651428637808, 0.9997573062983196, 1.000020340377092, 0.9983435409575543, 1.000074356878786, 0.9987448339117783, 0.9999406359178592, 0.9999211929353744, 0.999873184650728, 0.00018534684566468387, 0.9966099891390052, 0.0011120810739881032, 0.00018534684566468387, 0.0009267342283234193, 0.00037069369132936773, 0.00037069369132936773, 0.00016239592084355277, 0.0011367714459048694, 0.0003789238153016232, 0.00010826394722903519, 0.00010826394722903519, 0.9967320301641125, 0.0006495836833742111, 0.0008119796042177639, 0.9996331050125529, 0.9996694220392806, 0.9997958016492167, 0.000413822765583285, 0.06988587376461138, 0.9269861970063095, 0.0024959240630218348, 0.00024959240630218344, 0.0001667675902341141, 0.0001667675902341141, 0.0001667675902341141, 0.0026682814437458255, 0.9830949444301026, 0.013841709989431471, 0.9984918652058773, 0.0003454989152961513, 0.001036496745888454, 0.0003454989152961513, 0.9999555563600104, 0.9998058909891635, 0.00013521854084246193, 1.0001456380591924, 0.9998757788510242, 0.002240311872585162, 0.07921102692354681, 0.001280178212905807, 0.0017602450427454846, 0.00016002227661322588, 0.9151673999510388, 0.0034621062759789827, 0.008553439034771605, 0.9877185552057686, 0.9995352367617212, 0.999804604217649, 0.9995302740575464, 0.9999833113666262, 1.000085367587029, 0.9994182312966263, 0.0003215936983525726, 0.9995132144797956, 0.0003215936983525726, 0.01515961493400513, 0.0024117569213189982, 0.9092323593372623, 0.07304178104566109, 0.00013385508776460515, 6.692754388230258e-05, 0.019074350006456235, 0.0004015652632938155, 0.0006023478949407232, 6.692754388230258e-05, 0.00013385508776460515, 0.9794846047174983, 0.0065700062674140525, 0.00043800041782760354, 0.0008760008356552071, 0.00043800041782760354, 0.9890049434547288, 0.0026280025069656213, 0.9998528081494332, 0.00023055129029507518, 0.00011527564514753759, 0.0001767559892262243, 5.3795301068850876e-05, 0.00026129146233441855, 0.998502268181951, 0.0003611970214622845, 0.0002920316343737619, 0.9992826674246483, 0.0009084387885678622, 1.0001953936619483, 0.9800150883651024, 0.017961907237935244, 0.0003357365838866401, 0.0003357365838866401, 0.0006714731677732802, 0.0006714731677732802, 0.9993928443621041, 0.0005142590095106479, 0.9992052554791889, 1.0000251357119183, 1.000028335807518, 0.9998677124888043, 0.0013176756049446574, 0.9987981085480504, 0.9998135698480287, 0.0012800538022581128, 0.0003200134505645282, 0.011840497670887542, 0.0006400269011290564, 0.062082609409518465, 0.0006400269011290564, 0.9232388048786637, 1.00013149015426, 0.010853197271448078, 0.11638626021355504, 0.026990187951364295, 0.02656177226959661, 0.8127045483133027, 0.0007140261362794788, 0.0008568313635353745, 0.004855377726700455, 0.9888176448739265, 0.00023982964949646532, 0.00047965929899293063, 0.010312674928348009, 0.00023982964949646532, 0.9981931957236664, 0.0009954911483210807, 0.0002844260423774516, 0.0001422130211887258, 0.0001422130211887258, 0.9998309101915038, 0.9997049019596294, 0.9994140178668939, 0.0014863316637549904, 0.03269929660260979, 0.0002477219439591651, 0.0002477219439591651, 0.9653724156088663, 0.37712974108583436, 0.012175811521887599, 0.044858252975375365, 0.02355058281207207, 0.0001602080463406263, 0.5373377874264607, 0.004485825297537537, 0.0003204160926812526, 0.9977035461282645, 0.9995346948963749, 0.9997411818318983, 0.9996354057899037, 0.00015277164289806414, 0.9995848594820337, 0.00030554328579612827, 0.00030919575729274935, 0.004019544844805742, 0.9937551639388964, 0.001855174543756496, 0.0009702370505176304, 0.03711156718229936, 0.009944929767805711, 0.9105674719107961, 0.03808180423281699, 0.0033958296768117065, 0.9998768539600208, 0.994075949394307, 0.00011102032045949374, 0.00011102032045949374, 0.005551016022974687, 0.00011102032045949374, 0.9996729818690576, 0.00037400975764029844, 0.00037400975764029844, 0.00018700487882014922, 0.026367687913641042, 0.0009350243941007462, 9.350243941007461e-05, 0.9716773503494954, 0.00012466102912294248, 0.00012466102912294248, 0.00024932205824588496, 0.0008726272038605973, 0.9974128940126628, 0.0011219492621064823, 0.00011158379404818339, 0.00011158379404818339, 0.06271009225507906, 0.9366343672404513, 0.00011158379404818339, 0.00022316758809636677, 0.00011158379404818339, 0.9993214428702122, 0.9999740363328699, 0.9997879426070327, 1.0001363160750392, 0.9994637820827719, 0.9998758536679714, 0.9943837171808261, 0.003321254900403561, 0.0013285019601614243, 0.0006642509800807121, 0.9996472620257414, 0.00038192754032189124, 0.9991224454820675, 0.8805768734788312, 0.0018913894183344025, 0.06809001906003849, 0.045393346040025664, 0.0008105954650004583, 0.002972183371668347, 0.9998163326842301, 0.9988084339641755, 0.9998691841457136, 1.0001153666864124, 0.004417418053731826, 0.0003155298609808447, 0.9929724725067183, 0.0012621194439233789, 0.000946589582942534, 0.9996451577114521, 1.0000281491247105, 0.0005777654505180809, 0.99953422939628, 0.9993076441221425, 0.0007056818447515836, 0.002352272815838612, 0.17124546099305096, 0.8122398033090727, 0.0002352272815838612, 0.0002352272815838612, 0.0016465909710870284, 0.01176136407919306, 0.9975379555468985, 0.0008356922274897223, 0.0013928203791495372, 0.9996069513470319, 0.9992580837557582, 0.00016248098922857856, 0.0006499239569143142, 0.003955853119747535, 0.0003439872278041335, 0.00017199361390206675, 0.00017199361390206675, 0.00017199361390206675, 0.99446707558175, 0.0008599680695103338, 0.0008105111069924408, 0.9491085062881481, 0.011617325866891652, 0.03809402202864472, 0.014260790516756376, 0.00046002550054052827, 0.8127117176215999, 0.03281515237189102, 0.0006133673340540377, 0.0035268621708107167, 0.0009200510010810565, 0.13463412982486125, 0.0001545353332778037, 0.0015453533327780373, 0.0001545353332778037, 0.0001545353332778037, 0.9981437176413342, 0.0024296780978796174, 0.9915786281679817, 0.00026996423309773527, 0.0018897496316841469, 0.00026996423309773527, 0.003239570797172823, 0.9997872442156565, 0.0005390058048637448, 0.0005390058048637448, 0.002695029024318724, 0.9955437215833366, 0.9999916197098312, 0.00015060490138839484, 0.0007530245069419742, 0.00015060490138839484, 0.00015060490138839484, 0.0003012098027767897, 0.9985104962050578, 0.001211156545382476, 0.001211156545382476, 0.9979929933951602, 0.998995797847364, 0.0009201406308888488, 0.9989660116016602, 0.9997437688868079, 0.00031366127493631765, 0.0006273225498726353, 0.00031366127493631765, 0.00020910751662421174, 0.9980701768473627, 0.00031366127493631765, 0.00010455375831210587, 0.9997490160207521, 0.00411381656527523, 0.00021651666133027522, 0.00021651666133027522, 0.9953270921352753, 0.00927450904027223, 0.000403239523490097, 0.000403239523490097, 0.0036291557114108727, 0.0024194371409405817, 0.9839044373158367, 0.0006399114420612663, 0.00013712388044169994, 0.003610928851631432, 0.9872919391802395, 0.006810486061937763, 4.5707960147233314e-05, 0.001325530844269766, 0.00013712388044169994, 1.0005399043662178, 1.0001218890523214, 1.0000599884877635, 0.0019919816339963505, 0.0028773068046613953, 0.0006639938779987836, 0.0002213312926662612, 0.9937775040715128, 1.0000023768802797, 0.9998164560254913, 0.9701009898508014, 0.029436941268117616, 0.0002196786661799822, 1.000023892400936, 0.9997230424572863, 0.00035356295012014416, 0.0007071259002402883, 0.00035356295012014416, 0.9981082081891669, 0.0004479977709315066, 0.005375973251178079, 0.9932110581551502, 0.0004479977709315066, 0.0004479977709315066, 0.9955930117232411, 0.0034330793507697972, 1.0002345387140115, 0.0018707557579409125, 0.000534501645125975, 0.9957765648696915, 0.000534501645125975, 0.00106900329025195, 0.999782889446937, 0.9998833483823842, 0.9998951834311619, 0.9984072497710716, 1.000416165950773, 0.09406089858973146, 0.003979499555719408, 0.9015375357138877, 0.011942956580534682, 0.0005971478290267341, 0.9873839352957049, 1.0002165785116208, 1.0003024248701688, 1.000978200981417, 0.9998128499771695, 0.0027831500405233137, 0.00021408846465563951, 0.0027831500405233137, 0.00042817692931127903, 0.9937986529314786, 0.009533786573844232, 0.0009931027681087741, 0.00019862055362175482, 0.9893289775899607, 1.0000098649718523, 1.00099970083782, 0.999979498089237, 0.9996334240596287, 0.9998212731723208, 0.9996528803625082, 0.00019914286686552372, 0.9945194771264254, 0.005177714538503617, 1.0005189486956159, 0.9888411601533857, 0.0003230451356267186, 0.00969135406880156, 0.0006460902712534372, 0.0006460902712534372, 0.0005630082793393358, 0.002439702543803788, 0.9564572318843082, 0.039785918406646394, 0.00018766942644644525, 0.00046917356611611316, 0.9993822282907961, 0.9984210141088293, 0.0008407755908284878, 0.0004203877954142439, 0.0004203877954142439, 1.0002000170841934, 1.000272142769151, 0.018467455641824795, 0.005690553191957641, 0.000644213568900865, 0.00021473785630028833, 0.9748024986751589, 1.0000643547169485, 1.0000865175970814, 0.04165797898399259, 0.00286063374997374, 0.000715158437493435, 0.954378934834989, 0.00022423114833753984, 0.0004484622966750797, 0.09552246919179197, 0.9002880605752225, 0.0020180803350378584, 0.001121155741687699, 0.009837463287228001, 0.0003783639725856923, 0.0003783639725856923, 0.9894217883115854, 0.9999680852189425, 0.9987542386917173, 0.9996011096746877, 0.9509358234654706, 0.0020425132753170584, 0.046977805332292344, 0.0009344487793918758, 0.9875254700613344, 0.00018688975587837517, 0.00018688975587837517, 0.0016820078029053764, 0.00934448779391876, 0.00010874873527866228, 0.00032624620583598685, 0.9990746310050703, 0.00010874873527866228, 0.00032624620583598685, 0.9987755857632666, 0.0005636431070898796, 0.0002818215535449398, 0.0002036120623695917, 0.0002036120623695917, 0.0002036120623695917, 0.0002036120623695917, 0.9991243900475865, 0.0014444830517774433, 0.9982982868950775, 0.00016049811686416035, 0.0006429666063335106, 0.0005400919493201489, 0.96756186787492, 0.0016202758479604467, 0.0023403984470539785, 0.012987925447936914, 0.011149040953823073, 0.0031633957031608722, 0.9993309286130926, 0.9908298892467636, 0.002168645185608189, 0.005301132675931128, 0.00048192115235737526, 0.0012048028808934383, 0.0012138288667168226, 0.9907271210142705, 0.00012138288667168225, 0.00012138288667168225, 0.007768504746987664, 0.9999641837974252, 0.9994900985980504, 0.00028545376209355045, 0.014900686381283335, 0.9824176676211632, 0.000627998276605811, 0.0005709075241871009, 0.000627998276605811, 0.00011418150483742018, 0.0003996352669309706, 1.0003014949027274, 6.761785527826434e-05, 0.00013523571055652867, 0.000202853565834793, 6.761785527826434e-05, 0.9942529440115987, 6.761785527826434e-05, 0.0006761785527826433, 0.00453039630364371, 0.9988488811160887, 0.0007393404005300435, 0.00036967020026502175, 0.0014190460274468488, 0.9982988803088582, 0.0005564764424424322, 0.9761080692998907, 9.677851172911865e-05, 0.005395402028898364, 0.0004355033027810339, 0.00021775165139051696, 0.013040904455498737, 0.004137281376419822, 1.0022475310818393, 0.0011293446691657447, 0.9983406875425183, 0.9996844855125394, 1.000012267167682, 1.0004280021079233, 9.61311981244238e-05, 0.0012497055756175094, 0.986498355152837, 0.001441967971866357, 0.009997644604940075, 0.00048065599062211903, 0.0024739357211545805, 0.00014552563065615179, 0.0017463075678738214, 0.00029105126131230357, 0.006548653379526831, 0.9888466603085514, 0.0018950374792629393, 0.9964107065964535, 0.0015160299834103513, 0.9997687636279091, 0.0024229461612827467, 0.9974461697280641, 0.9997233749667437, 0.00028151706057034676, 0.9996670820853013, 0.0014338638705344029, 0.0010924677108833545, 6.827923193020966e-05, 0.99653539002141, 6.827923193020966e-05, 0.00020483769579062897, 0.00027311692772083863, 0.0003413961596510483, 0.00038565728034442717, 0.923649186424903, 0.00038565728034442717, 0.07269639734492452, 0.0005784859205166407, 0.0021211150418943493, 0.9995971110887363, 8.81441956735372e-05, 0.0010577303480824465, 0.0007051535653882976, 0.00044072097836768604, 0.0011458745437559837, 0.996293843697991, 0.00026443258702061164, 0.000919689263410464, 0.998782540063764, 0.9998292078584365, 0.9994232901107643, 0.991430334874952, 0.0058297998375594386, 0.0009109062246186623, 0.0018218124492373246, 0.0003980062791766846, 0.9997917732918318, 0.0004431574207177408, 0.004431574207177409, 0.9926726224077395, 0.0017726296828709633, 0.0004431574207177408, 0.9996832819678968, 0.9995539579053961, 0.0003004581511529455, 0.9993238107346967, 0.0003004581511529455, 0.9993561189639358, 0.00023558607236302118, 0.00023558607236302118, 1.000041973938628, 0.0001082805115006505, 0.000433122046002602, 0.0003248415345019515, 0.9987794380820002, 0.0001082805115006505, 0.000216561023001301, 0.9986228403067182, 0.0011445533986323417, 0.999741863281579, 0.9998035182571735, 0.0031887324062270083, 0.9968774684967185, 0.9996247583758249, 1.000055952848786, 1.0002202263596314, 0.00012109945338039673, 0.00012109945338039673, 0.9973750980409474, 0.0019375912540863477, 0.00024219890676079346, 0.0019311352811030341, 0.004505982322573747, 0.0019311352811030341, 0.001501994107524582, 0.9900286874454889, 0.00021457058678922602, 0.0010916845497229667, 0.00029111587992612447, 0.0713233905819005, 0.9258212771350574, 0.0011644635197044979, 7.277896998153112e-05, 0.00029111587992612447, 0.974383751759634, 0.015405835355642604, 0.0009893655732981488, 0.0007066896952129635, 0.006218869317874079, 0.0012720414513833342, 0.0001413379390425927, 0.0008480276342555562, 0.008943336460521265, 0.9909216798257561, 0.9979362461898391, 0.0017600286528921326, 1.0002416117966562, 4.525887893842238e-05, 0.005793136504118065, 4.525887893842238e-05, 9.051775787684476e-05, 0.0011767308523989819, 0.002941827130997455, 0.9894496113517901, 0.0004978476683226462, 0.999810517887153, 0.9968257057067306, 0.0030260330049280966, 0.9999447584615366, 0.999587649053909, 1.0001960194085935, 0.0016508293802572009, 0.0006419892034333559, 0.0003668509733904891, 0.9960003927551778, 0.0003668509733904891, 0.0007337019467809782, 0.00018342548669524454, 0.046996984460949194, 0.9529944071248032, 0.012349614786381276, 0.0002940384472947923, 0.9847347599902594, 0.002058269131063546, 0.0002940384472947923, 0.0002940384472947923, 0.9995050286391705, 1.0002824872826548, 0.0005168316938725544, 0.00018793879777183797, 0.0014565256827317444, 0.002866066666020529, 0.0007047704916443924, 4.698469944295949e-05, 0.9941022708141369, 0.00014095409832887848, 0.00045826255092853226, 0.994429735514915, 0.00030550836728568815, 0.00030550836728568815, 0.004429871325642478, 0.9998075561925788, 0.9998928432262932, 1.0001835018412466, 0.9989309998572786, 0.00011803509392145558, 0.00011803509392145558, 0.00035410528176436673, 0.00011803509392145558, 0.00023607018784291116, 1.0008404815733216, 0.9986927019556043, 0.0007604294789444268, 0.9654602772048179, 0.0011406442184166401, 0.0003802147394722134, 0.00028516105460416004, 0.01615912642756907, 0.015398696948624642, 0.00047526842434026675, 1.0007969778516979, 0.9847821446743256, 0.012749411694444393, 0.0021981744300766195, 0.0007721482133738217, 0.00038607410668691086, 0.9983876398923515, 0.0017347171651807649, 0.00020408437237420763, 0.003775560888922841, 0.011122598294394315, 0.03806173544778972, 0.01122464048058142, 0.0017347171651807649, 0.9322574130053805, 0.9991457652085615, 1.0002015607374044, 0.9994168015735855, 0.00042691875334198437, 1.0000020693545364, 1.000185713798454, 0.9996500928183856, 0.9993547219813534, 0.9991714220182107, 0.0005884401778670263, 0.9999740639985526, 0.994883073328282, 0.00012628624947045976, 0.0002525724989409195, 0.0008840037462932183, 0.00012628624947045976, 0.00012628624947045976, 0.003662301234643333, 0.9998080310165263, 0.0009728424475429704, 0.0004169324775184159, 0.00027795498501227727, 0.010423311937960396, 0.0009728424475429704, 0.29907956387321033, 0.6875216554278678, 0.00027795498501227727, 0.001140949457495175, 0.00228189891499035, 0.997189825850783, 0.9995892509971237, 0.9994804534654346, 0.0005119146327632048, 0.9718699303009444, 0.02764339016921306, 0.9998975609847848, 0.0002179000192870686, 0.0004358000385741372, 0.0002179000192870686, 0.0013074001157224115, 0.0002179000192870686, 0.9975462882962, 0.00023808524429444304, 0.9997199407923664, 0.9998700940045462, 0.0020028798062740496, 0.998101770126568, 0.9996901211108742, 1.0000304375642448, 0.9986545051121032, 0.0006633374328210582, 0.00016583435820526456, 0.00016583435820526456, 0.0003316687164105291, 0.9902511467106608, 0.00028615840101449527, 0.00028615840101449527, 0.00014307920050724764, 0.00014307920050724764, 0.00028615840101449527, 0.00014307920050724764, 0.008727831230942106, 1.000004496474597, 0.9999687464688531, 0.9995462835211586, 1.0009711327878914, 0.00028548430032527514, 0.002854843003252751, 0.043964582250092366, 0.9526611101854431, 0.0030264778167513515, 0.9960138494928698, 0.0006052955633502703, 0.0003026477816751352, 0.9997251494754138, 0.00032702818105182, 0.9991326558162666, 0.00013058850553081516, 0.0006529425276540757, 0.0002423606751007122, 0.0009694427004028488, 0.0002423606751007122, 0.9834996195586901, 0.014784001181143445, 0.9996005211222143, 0.5983236329528676, 0.4014088044212953, 0.0002860055606849272, 1.0003780242400404, 0.9999146161821232, 0.0010406717783078756, 0.9977440674526756, 0.0007805038337309067, 0.0002601679445769689, 0.0004936974190262894, 0.9992435761092099, 0.9998516061176501, 0.9995267392336944, 1.000043009895096, 0.0017506478668591798, 0.9984528333986856, 0.9997637794284944, 0.9895436550920532, 0.00024325065267749587, 0.00024325065267749587, 0.0009730026107099835, 0.0007297519580324876, 0.007784020885679868, 0.00048650130535499175, 1.0002607294469301, 0.9992791623996541, 0.0005220894265410941, 0.9997261719500179, 0.0002888883180971457, 0.0005777766361942914, 0.9975313623894442, 0.0008666649542914372, 0.0005777766361942914, 1.000122824242284, 1.0005372984750982, 0.9999542687278007, 1.0014632109185744, 0.9998152424425139, 1.0001064925657006, 0.023735485410275182, 0.9411635953987376, 0.03508723930214592, 0.004977411020851895, 0.00026196900109746817, 0.003143628013169618, 0.0018337830076822772, 0.0007859070032924045, 0.9886710101418449, 0.9981832002970985, 1.0001776259390311, 0.0006015986373286015, 0.9992553366028072, 0.9998936849896949, 0.002956898135792476, 0.9953247669314784, 0.00016427211865513756, 0.0004928163559654126, 0.0008213605932756877, 0.00016427211865513756, 0.9986742190244422, 0.0007759706441526357, 0.0007759706441526357, 0.0022652170024162034, 0.9898998300558809, 0.007550723341387345, 0.993753548285761, 0.00120622071059482, 0.00241244142118964, 0.0025847586655603286, 0.00043201975919550124, 0.9988296832599988, 0.00043201975919550124, 0.00016594531112840583, 0.00016594531112840583, 0.9994886089263884, 0.005581579658088979, 0.0001958449002838238, 0.0018605265526963261, 0.9912689627865742, 0.0010771469515610309, 0.9998779391881029, 0.00041906032656668186, 0.999679246462218, 0.9990867440390218, 0.00045871751333288415, 0.00045871751333288415, 0.007294744737105826, 0.009240010000334047, 0.07513587079219, 0.07975587579235703, 0.00024315815790352754, 0.8177408850295631, 0.010455800789851684, 0.9971237295035519, 0.0026583521630002597, 0.0005087516718202828, 0.9996970351268557, 0.9989012677665096, 0.0007496846654192739, 0.00010709780934561054, 0.00010709780934561054, 0.00010709780934561054, 1.0000275832637548, 1.00003102763138, 0.000644390039244391, 0.9994489508680505, 1.0001004709800454, 0.0012680442365988643, 0.0025360884731977285, 0.9353939651977622, 0.060443441944545866, 0.009773276110184326, 0.983739378148044, 0.00043575116414834575, 0.0019920053218210093, 0.0003112508315345327, 0.0001867504989207196, 0.0011205029935243177, 0.002427756485969355, 0.017552696127343614, 0.9823314762091009, 0.00027405403358667844, 0.9959123580539894, 0.003836756470213498, 0.9994345949012725, 0.9994658497389634, 0.9995959620667564, 0.0005261576382926717, 0.0010523152765853435, 0.9981210398411983, 0.9923202679800204, 0.0021113197191064263, 0.0002639149648883033, 0.005014384332877762, 0.9995011182608121, 0.007863980236606076, 0.9455279766836953, 0.04625870727415339, 0.0004625870727415339, 0.005231538640688563, 0.008501250291118916, 0.9861450337697942, 1.0005071003644161, 0.004756668582404196, 0.0005596080685181408, 0.994143733722477, 0.0002798040342590704, 0.9993075875401755, 0.9995420637906286, 0.00028144168696437146, 0.0020133905298220416, 0.00028144168696437146, 0.0009958705846431605, 0.985825281354586, 0.0072308864189307735, 0.003030910475000923, 0.00034638976857153406, 0.0011645485309301903, 0.00016636407584717005, 0.9958553580211599, 0.0006654563033886802, 0.0019963689101660403, 0.0001944891769480284, 0.7828189372158142, 0.0001944891769480284, 0.09627214258927405, 0.06223653662336908, 0.007001610370129021, 0.05153963189122752, 0.999799187037456, 3.0839263969117785e-05, 9.251779190735335e-05, 0.0001850355838147067, 0.0005859460154132379, 0.998883759959725, 6.167852793823557e-05, 0.00015419631984558892, 0.002213958273544487, 0.0006325595067269962, 0.9724548150083021, 0.0003162797533634981, 0.0007379860911814956, 0.0017922519357264893, 0.0035845038714529785, 0.018238799110628392, 0.0002000112441544259, 0.0002000112441544259, 0.9990561645513574, 0.0002000112441544259, 0.9994770520819044, 0.9995791262668026, 0.991748534038777, 0.00015069875916103587, 0.00015069875916103587, 0.0075349379580517935, 0.00015069875916103587, 0.9992337747162578, 0.9999212028397333, 1.0000804540356905, 0.0007824899121715995, 0.0001564979824343199, 0.997987633983658, 0.0001564979824343199, 0.0007824899121715995, 0.000269014884888863, 0.0001345074424444315, 0.0001345074424444315, 0.0006725372122221576, 0.9987177601499039, 0.00031933209606006005, 0.00015966604803003003, 0.0006386641921201201, 0.0012773283842402402, 0.9975934680916276, 0.00015966604803003003, 0.9998561053146873, 0.9089837160823295, 0.00023064798682626987, 0.00023064798682626987, 0.05143450106225818, 0.03921015776046588, 0.9818739785166556, 0.0005336271622373128, 0.009872102501390288, 0.005336271622373129, 0.0010672543244746257, 0.0010672543244746257, 0.9999038890888022, 0.9989581909803309, 0.0004215013464052029, 0.0004215013464052029, 0.9353438801452196, 0.035692784205211554, 0.0030869434988291078, 0.005980953028981396, 0.0011576038120609154, 0.00019293396867681924, 0.00019293396867681924, 0.01813579305562101, 0.002879027129677153, 0.0010469189562462373, 0.9757284672214932, 0.012563027474954849, 0.00026172973906155933, 0.0007851892171846781, 0.006804973215600543, 0.9999947558646871, 0.9987130781392085, 0.0011426077929655432, 0.0019043463216092387, 0.9898792179724822, 0.0003808692643218477, 0.006855646757793259, 0.9998738342058028, 0.018321621968835803, 0.0047795535570876015, 0.00019914806487865004, 0.00019914806487865004, 0.009957403243932503, 0.0011948883892719004, 0.018919066163471755, 0.9465507523682236, 0.9998984600672653, 0.00044254738940492704, 0.00044254738940492704, 0.9988294578869203, 1.0000561195487079, 0.002592327786933471, 0.0016418075983911983, 0.9911621275129741, 0.0005760728415407713, 0.002246684082009008, 0.00037444734700150135, 0.0008065019781570798, 0.0006048764836178098, 1.0001041001305453, 0.003374776248178003, 0.0007787945188103084, 0.00025959817293676944, 0.0010383926917470778, 0.8439536602174375, 0.15056694030332626, 0.00025959817293676944, 0.9996390021384473, 0.0002968049293760235, 0.9982158934221287, 0.0017882764124366333, 0.999798354117102, 0.9944957628855993, 0.005456592803889342, 0.07407894682590462, 0.047272873157851114, 0.0009056105968936994, 0.0001811221193787399, 0.0012678548356511792, 0.865582608510998, 0.008693861730179515, 0.001811221193787399, 0.0003046864291492516, 0.0010664025020223804, 0.003960923578940271, 0.9934301022411347, 0.0012187457165970064, 0.00013499717983159288, 0.9997891138327768, 0.002345893395344965, 0.0006471430056124041, 0.0007280358813139546, 0.007765716067348849, 0.9867312978075131, 0.0012133931355232577, 0.00016178575140310102, 0.00040446437850775253, 0.00016384129130487857, 0.9565054586378811, 0.00032768258260975713, 0.001474571621743907, 0.0002457619369573178, 0.0005324841967408553, 8.192064565243928e-05, 0.04059167992078366, 0.0004720595289385624, 0.9993500227629367, 0.049424366617411404, 0.0018305320969411632, 0.00036610641938823263, 0.01537646961430577, 0.9291780924073344, 0.0036610641938823263], \"Term\": [\"ability\", \"ability\", \"ability\", \"ability\", \"ability\", \"ability\", \"abraham\", \"absence\", \"abundance\", \"abundance\", \"abundance\", \"abundance\", \"abundance\", \"abundance\", \"abundance\", \"abundance\", \"acceptance\", \"accident\", \"accomplishment\", \"achievement\", \"achievement\", \"achievement\", \"achievement\", \"act\", \"act\", \"act\", \"act\", \"act\", \"act\", \"act\", \"action\", \"action\", \"action\", \"action\", \"action\", \"action\", \"action\", \"action\", \"activate\", \"admit\", \"aim\", \"aim\", \"aim\", \"aim\", \"aim\", \"aim\", \"albert\", \"amp\", \"amp\", \"amp\", \"amp\", \"amp\", \"amp\", \"amp\", \"amp\", \"anger\", \"anger\", \"anger\", \"anger\", \"anger\", \"anne\", \"answer\", \"answer\", \"answer\", \"answer\", \"anticipate\", \"anxiety\", \"anxiety\", \"appreciation\", \"argument\", \"ash\", \"ask\", \"ask\", \"ask\", \"ask\", \"ask\", \"asleep\", \"asset\", \"asset\", \"attain\", \"attract\", \"attract\", \"attract\", \"attract\", \"attract\", \"attract\", \"attract\", \"audience\", \"awareness\", \"ayn\", \"babe\", \"bacon\", \"bag\", \"balance\", \"bar\", \"battle\", \"battle\", \"battle\", \"beauty\", \"beauty\", \"beauty\", \"beauty\", \"beauty\", \"beecher\", \"behavior\", \"beliefs\", \"benefit\", \"benefit\", \"benjamin\", \"bind\", \"bliss\", \"boat\", \"body\", \"body\", \"body\", \"body\", \"body\", \"body\", \"body\", \"book\", \"book\", \"book\", \"book\", \"book\", \"bother\", \"bradbury\", \"branch\", \"break\", \"break\", \"break\", \"break\", \"break\", \"break\", \"break\", \"break\", \"breath\", \"breath\", \"breath\", \"bridge\", \"briefly\", \"brinkley\", \"brown\", \"build\", \"business\", \"business\", \"business\", \"business\", \"business\", \"business\", \"business\", \"calm\", \"capacity\", \"capacity\", \"care\", \"care\", \"care\", \"care\", \"care\", \"carnegie\", \"carnegie\", \"carnegie\", \"carnegie\", \"case\", \"cast\", \"celebrate\", \"center\", \"challenge\", \"challenge\", \"challenge\", \"challenge\", \"challenge\", \"change\", \"change\", \"change\", \"change\", \"change\", \"change\", \"change\", \"change\", \"character\", \"character\", \"character\", \"character\", \"child\", \"child\", \"childhood\", \"choice\", \"choice\", \"choice\", \"choice\", \"choice\", \"choice\", \"choice\", \"choose\", \"choose\", \"choose\", \"choose\", \"choose\", \"choose\", \"choose\", \"choose\", \"churchill\", \"churchill\", \"climb\", \"climb\", \"climb\", \"coach\", \"communication\", \"communication\", \"compete\", \"conflict\", \"conflict\", \"conformity\", \"confucius\", \"confucius\", \"confucius\", \"conquer\", \"consent\", \"consume\", \"contemplate\", \"contentment\", \"control\", \"control\", \"control\", \"control\", \"control\", \"control\", \"control\", \"control\", \"conviction\", \"cornerstone\", \"count\", \"count\", \"count\", \"count\", \"count\", \"count\", \"count\", \"count\", \"courage\", \"courage\", \"covey\", \"covey\", \"create\", \"create\", \"create\", \"create\", \"create\", \"create\", \"create\", \"create\", \"creation\", \"creation\", \"cross\", \"crush\", \"cycle\", \"dag\", \"dale\", \"dance\", \"danger\", \"david\", \"david\", \"david\", \"david\", \"david\", \"david\", \"david\", \"day\", \"day\", \"day\", \"day\", \"day\", \"day\", \"day\", \"day\", \"deal\", \"death\", \"decide\", \"decide\", \"decision\", \"decision\", \"decision\", \"decision\", \"define\", \"define\", \"define\", \"define\", \"define\", \"define\", \"denis\", \"denis\", \"denis\", \"denis\", \"describe\", \"desire\", \"desire\", \"detach\", \"didion\", \"difference\", \"difference\", \"difference\", \"difference\", \"difference\", \"difference\", \"difficulty\", \"difficulty\", \"difficulty\", \"discard\", \"discourage\", \"display\", \"disraeli\", \"divine\", \"dollar\", \"door\", \"door\", \"door\", \"doubt\", \"doubt\", \"doubt\", \"doubt\", \"dream\", \"dream\", \"dream\", \"dream\", \"dream\", \"dream\", \"dream\", \"dream\", \"drive\", \"drive\", \"drive\", \"drive\", \"drive\", \"drive\", \"drucker\", \"dyer\", \"dyer\", \"dyer\", \"dyer\", \"dyer\", \"dyer\", \"dyer\", \"dyer\", \"earth\", \"earth\", \"ease\", \"edison\", \"edison\", \"edison\", \"edison\", \"edison\", \"edison\", \"education\", \"ego\", \"ego\", \"einstein\", \"eleanor\", \"eliot\", \"elliot\", \"elliot\", \"emerson\", \"emotion\", \"emotion\", \"emotion\", \"emotion\", \"emotion\", \"emotion\", \"emotion\", \"encourage\", \"end\", \"end\", \"end\", \"end\", \"end\", \"end\", \"end\", \"end\", \"enemy\", \"enemy\", \"enemy\", \"enemy\", \"enemy\", \"energy\", \"energy\", \"energy\", \"energy\", \"energy\", \"engine\", \"enlightenment\", \"evidence\", \"expectation\", \"expectation\", \"expectation\", \"expectation\", \"expectation\", \"experience\", \"experience\", \"experience\", \"experience\", \"experience\", \"experience\", \"experience\", \"experience\", \"experiment\", \"expert\", \"expertise\", \"extend\", \"eye\", \"eye\", \"eye\", \"face\", \"face\", \"face\", \"face\", \"fact\", \"fact\", \"fact\", \"fact\", \"fact\", \"fact\", \"fail\", \"failure\", \"failure\", \"failure\", \"failure\", \"failure\", \"faith\", \"fall\", \"fall\", \"fall\", \"fall\", \"fall\", \"fall\", \"fall\", \"fear\", \"fear\", \"fear\", \"fear\", \"fear\", \"fear\", \"feel\", \"feel\", \"feel\", \"feel\", \"feel\", \"feel\", \"feel\", \"find\", \"fire\", \"fitzgerald\", \"floor\", \"food\", \"fool\", \"foot\", \"foot\", \"foot\", \"foot\", \"force\", \"forget\", \"forget\", \"form\", \"form\", \"form\", \"form\", \"form\", \"form\", \"foundation\", \"francis\", \"franklin\", \"frederick\", \"freedom\", \"freedom\", \"freedom\", \"freedom\", \"freedom\", \"fruit\", \"frustration\", \"fulfillment\", \"fulfillment\", \"function\", \"future\", \"future\", \"future\", \"future\", \"future\", \"future\", \"future\", \"future\", \"game\", \"game\", \"game\", \"generosity\", \"george\", \"george\", \"george\", \"get\", \"get\", \"get\", \"get\", \"get\", \"get\", \"get\", \"gift\", \"gift\", \"gift\", \"gift\", \"goal\", \"goal\", \"goal\", \"goal\", \"goal\", \"goal\", \"goal\", \"goal\", \"god\", \"god\", \"god\", \"god\", \"god\", \"greatness\", \"greatness\", \"greatness\", \"greatness\", \"greatness\", \"greatness\", \"gretzky\", \"grow\", \"grow\", \"grow\", \"grow\", \"guidance\", \"habit\", \"habit\", \"habit\", \"habit\", \"habit\", \"habit\", \"half\", \"half\", \"half\", \"hammock\", \"hand\", \"hand\", \"hang\", \"happiness\", \"happiness\", \"happiness\", \"happiness\", \"happiness\", \"happiness\", \"happiness\", \"harder\", \"harm\", \"harm\", \"harm\", \"harm\", \"hate\", \"hate\", \"hate\", \"hate\", \"hate\", \"hate\", \"heart\", \"heart\", \"heart\", \"heart\", \"heart\", \"heart\", \"heart\", \"heart\", \"heartbreak\", \"heat\", \"hell\", \"help\", \"help\", \"help\", \"help\", \"help\", \"henry\", \"hire\", \"history\", \"history\", \"history\", \"hoffer\", \"hold\", \"honor\", \"honor\", \"honor\", \"honor\", \"hope\", \"hope\", \"hope\", \"hope\", \"hope\", \"hour\", \"hour\", \"humanity\", \"idea\", \"idea\", \"idea\", \"idea\", \"idea\", \"identity\", \"ill\", \"imagination\", \"imitate\", \"immobilize\", \"impact\", \"impact\", \"impact\", \"influence\", \"influence\", \"influence\", \"ingredient\", \"inquire\", \"insist\", \"inspiration\", \"inspire\", \"inspire\", \"inspire\", \"inspire\", \"inspire\", \"intent\", \"intent\", \"intent\", \"intent\", \"intention\", \"interest\", \"jack\", \"jackson\", \"jefferson\", \"jerry\", \"jim\", \"jim\", \"jim\", \"joan\", \"job\", \"job\", \"job\", \"job\", \"job\", \"john\", \"john\", \"john\", \"john\", \"john\", \"john\", \"jordan\", \"journey\", \"journey\", \"journey\", \"journey\", \"joyful\", \"jr\", \"judge\", \"judge\", \"judge\", \"judge\", \"judge\", \"jump\", \"kennedy\", \"kind\", \"kind\", \"kind\", \"kind\", \"king\", \"king\", \"king\", \"king\", \"king\", \"king\", \"knowledge\", \"knowledge\", \"knowledge\", \"knowledge\", \"lady\", \"landscape\", \"latin\", \"lead\", \"lead\", \"lead\", \"leader\", \"leader\", \"leader\", \"leader\", \"leader\", \"leader\", \"learn\", \"learn\", \"learn\", \"learn\", \"learn\", \"lesson\", \"lesson\", \"lesson\", \"let\", \"let\", \"let\", \"let\", \"let\", \"lie\", \"lie\", \"lie\", \"life\", \"life\", \"life\", \"life\", \"life\", \"life\", \"life\", \"life\", \"lifestyle\", \"limit\", \"limit\", \"limit\", \"limit\", \"limit\", \"lincoln\", \"lincoln\", \"lincoln\", \"lincoln\", \"lincoln\", \"list\", \"london\", \"look\", \"look\", \"look\", \"look\", \"look\", \"look\", \"look\", \"look\", \"loss\", \"love\", \"love\", \"love\", \"love\", \"love\", \"love\", \"love\", \"love\", \"mahatma\", \"mahatma\", \"mahatma\", \"make\", \"make\", \"man\", \"man\", \"man\", \"man\", \"man\", \"man\", \"man\", \"man\", \"manage\", \"management\", \"management\", \"mark\", \"martin\", \"material\", \"matter\", \"matter\", \"matter\", \"matter\", \"matter\", \"matter\", \"mean\", \"mean\", \"mean\", \"mean\", \"mean\", \"mean\", \"measure\", \"measure\", \"measure\", \"mediocrity\", \"meet\", \"meet\", \"memory\", \"michael\", \"michael\", \"mind\", \"mind\", \"mind\", \"mind\", \"mind\", \"mind\", \"mind\", \"mind\", \"miracle\", \"miracle\", \"miracle\", \"miracle\", \"miracle\", \"miracle\", \"mistake\", \"moment\", \"moment\", \"moment\", \"moment\", \"moment\", \"moment\", \"moment\", \"mother\", \"mother\", \"motivation\", \"move\", \"napoleon\", \"napoleon\", \"napoleon\", \"napoleon\", \"nature\", \"nature\", \"need\", \"need\", \"need\", \"need\", \"need\", \"nelson\", \"news\", \"night\", \"night\", \"night\", \"obstacle\", \"obstacle\", \"obstacle\", \"opinion\", \"opportunity\", \"opportunity\", \"opportunity\", \"opportunity\", \"opportunity\", \"opportunity\", \"oprah\", \"oprah\", \"optimism\", \"optimist\", \"order\", \"order\", \"overcome\", \"page\", \"part\", \"passion\", \"passion\", \"passion\", \"passion\", \"passion\", \"path\", \"path\", \"path\", \"path\", \"path\", \"path\", \"peace\", \"peace\", \"peace\", \"peace\", \"peace\", \"peace\", \"peace\", \"peale\", \"peale\", \"peale\", \"peale\", \"peale\", \"peale\", \"peale\", \"peale\", \"percent\", \"percent\", \"perfection\", \"perfection\", \"persistence\", \"person\", \"person\", \"person\", \"person\", \"person\", \"person\", \"person\", \"person\", \"perspiration\", \"pessimist\", \"pessimist\", \"peter\", \"phrase\", \"pickford\", \"place\", \"place\", \"place\", \"place\", \"place\", \"place\", \"place\", \"plant\", \"plant\", \"play\", \"play\", \"play\", \"play\", \"play\", \"play\", \"player\", \"post\", \"power\", \"power\", \"power\", \"power\", \"power\", \"power\", \"power\", \"power\", \"practice\", \"practice\", \"practice\", \"practice\", \"practice\", \"precede\", \"presence\", \"prisoner\", \"problem\", \"problem\", \"problem\", \"problem\", \"problem\", \"problem\", \"project\", \"proust\", \"proverb\", \"proverb\", \"proverb\", \"proverb\", \"proverb\", \"proverb\", \"proverb\", \"proverb\", \"pure\", \"push\", \"push\", \"push\", \"quality\", \"quality\", \"quality\", \"question\", \"question\", \"question\", \"question\", \"question\", \"question\", \"question\", \"question\", \"quitter\", \"r\", \"race\", \"race\", \"ralph\", \"rand\", \"rate\", \"reach\", \"react\", \"react\", \"read\", \"reality\", \"reality\", \"reality\", \"reality\", \"reality\", \"reality\", \"reality\", \"reap\", \"reason\", \"reason\", \"reason\", \"reason\", \"reason\", \"reason\", \"reason\", \"reason\", \"receive\", \"receive\", \"receive\", \"reconsider\", \"recovery\", \"refuse\", \"refuse\", \"refuse\", \"regard\", \"relationship\", \"relationship\", \"relationship\", \"relationship\", \"relationship\", \"relationship\", \"release\", \"release\", \"remain\", \"repeat\", \"repeat\", \"reserve\", \"resist\", \"respect\", \"respect\", \"respect\", \"respect\", \"respect\", \"result\", \"result\", \"result\", \"result\", \"result\", \"result\", \"result\", \"result\", \"rice\", \"richard\", \"ride\", \"rip\", \"rise\", \"rise\", \"rise\", \"rise\", \"risk\", \"risk\", \"risk\", \"risk\", \"road\", \"road\", \"robert\", \"robert\", \"robert\", \"rohn\", \"rohn\", \"rohn\", \"rohn\", \"rohn\", \"role\", \"roosevelt\", \"roosevelt\", \"roosevelt\", \"root\", \"route\", \"rule\", \"rule\", \"rule\", \"rule\", \"ruth\", \"ruth\", \"sail\", \"science\", \"scott\", \"search\", \"search\", \"seed\", \"self\", \"self\", \"self\", \"self\", \"self\", \"self\", \"self\", \"send\", \"seneca\", \"seneca\", \"sensation\", \"sense\", \"sense\", \"sense\", \"sense\", \"sense\", \"serve\", \"shade\", \"shadow\", \"sheet\", \"shift\", \"ship\", \"show\", \"show\", \"show\", \"silence\", \"silence\", \"silence\", \"silence\", \"silence\", \"silence\", \"sit\", \"slip\", \"smile\", \"smile\", \"solve\", \"soul\", \"soul\", \"soul\", \"soul\", \"soul\", \"soul\", \"speak\", \"speak\", \"speak\", \"speech\", \"speech\", \"speech\", \"spirit\", \"spirit\", \"spirit\", \"spirit\", \"squeeze\", \"squeeze\", \"squeeze\", \"start\", \"start\", \"start\", \"step\", \"step\", \"step\", \"step\", \"step\", \"stephen\", \"stephen\", \"stevenson\", \"stone\", \"stone\", \"stone\", \"stop\", \"stop\", \"stop\", \"stop\", \"stop\", \"stop\", \"stop\", \"storm\", \"storm\", \"strategy\", \"strategy\", \"strength\", \"strength\", \"strength\", \"strength\", \"strength\", \"strengthen\", \"stretch\", \"strike\", \"strike\", \"student\", \"stuff\", \"stuff\", \"stuff\", \"stuff\", \"success\", \"success\", \"success\", \"success\", \"success\", \"success\", \"success\", \"success\", \"suit\", \"suit\", \"sun\", \"sun\", \"sun\", \"suppose\", \"symbol\", \"table\", \"talent\", \"talent\", \"talent\", \"talk\", \"talk\", \"talk\", \"talk\", \"tapestry\", \"teach\", \"teach\", \"teach\", \"teach\", \"teacher\", \"teacher\", \"teacher\", \"team\", \"test\", \"test\", \"test\", \"test\", \"thankful\", \"theory\", \"thing\", \"thing\", \"thing\", \"thing\", \"thing\", \"thing\", \"thing\", \"thing\", \"think\", \"think\", \"think\", \"think\", \"think\", \"thomas\", \"thomas\", \"thomas\", \"thomas\", \"thomas\", \"thomas\", \"thomas\", \"thoreau\", \"time\", \"time\", \"time\", \"time\", \"time\", \"time\", \"time\", \"today\", \"today\", \"today\", \"today\", \"today\", \"today\", \"today\", \"today\", \"tomorrow\", \"tomorrow\", \"tomorrow\", \"tomorrow\", \"tony\", \"travel\", \"treat\", \"treat\", \"treat\", \"treat\", \"treat\", \"tree\", \"trouble\", \"trump\", \"trust\", \"trust\", \"trust\", \"trust\", \"trust\", \"truth\", \"truth\", \"truth\", \"truth\", \"truth\", \"try\", \"try\", \"try\", \"try\", \"try\", \"try\", \"tune\", \"tzu\", \"tzu\", \"tzu\", \"tzu\", \"tzu\", \"value\", \"value\", \"value\", \"value\", \"value\", \"value\", \"version\", \"victor\", \"victor\", \"victor\", \"vincent\", \"vincent\", \"vincent\", \"vincent\", \"vincent\", \"vincent\", \"vincent\", \"vincent\", \"vision\", \"vision\", \"vision\", \"vision\", \"vision\", \"vision\", \"vision\", \"visit\", \"voyage\", \"wait\", \"wait\", \"wait\", \"wait\", \"wait\", \"waldo\", \"want\", \"want\", \"want\", \"want\", \"want\", \"want\", \"want\", \"want\", \"ward\", \"waste\", \"waste\", \"waste\", \"water\", \"way\", \"way\", \"way\", \"way\", \"way\", \"way\", \"way\", \"way\", \"welch\", \"william\", \"william\", \"william\", \"william\", \"william\", \"william\", \"william\", \"win\", \"win\", \"wind\", \"wind\", \"winfrey\", \"winston\", \"winston\", \"wisdom\", \"wisdom\", \"wisdom\", \"wisdom\", \"wisdom\", \"wisdom\", \"wisdom\", \"wisdom\", \"woman\", \"woman\", \"woman\", \"woman\", \"woman\", \"word\", \"word\", \"work\", \"work\", \"work\", \"work\", \"work\", \"work\", \"work\", \"work\", \"world\", \"world\", \"world\", \"world\", \"world\", \"world\", \"world\", \"world\", \"worry\", \"worry\", \"year\", \"year\", \"year\", \"year\", \"year\", \"year\"]}, \"R\": 30, \"lambda.step\": 0.01, \"plot.opts\": {\"xlab\": \"PC1\", \"ylab\": \"PC2\"}, \"topic.order\": [2, 8, 6, 1, 7, 3, 5, 4]};\n",
              "\n",
              "function LDAvis_load_lib(url, callback){\n",
              "  var s = document.createElement('script');\n",
              "  s.src = url;\n",
              "  s.async = true;\n",
              "  s.onreadystatechange = s.onload = callback;\n",
              "  s.onerror = function(){console.warn(\"failed to load library \" + url);};\n",
              "  document.getElementsByTagName(\"head\")[0].appendChild(s);\n",
              "}\n",
              "\n",
              "if(typeof(LDAvis) !== \"undefined\"){\n",
              "   // already loaded: just create the visualization\n",
              "   !function(LDAvis){\n",
              "       new LDAvis(\"#\" + \"ldavis_el5602139774645997264954026889\", ldavis_el5602139774645997264954026889_data);\n",
              "   }(LDAvis);\n",
              "}else if(typeof define === \"function\" && define.amd){\n",
              "   // require.js is available: use it to load d3/LDAvis\n",
              "   require.config({paths: {d3: \"https://cdnjs.cloudflare.com/ajax/libs/d3/3.5.5/d3.min\"}});\n",
              "   require([\"d3\"], function(d3){\n",
              "      window.d3 = d3;\n",
              "      LDAvis_load_lib(\"https://cdn.rawgit.com/bmabey/pyLDAvis/files/ldavis.v1.0.0.js\", function(){\n",
              "        new LDAvis(\"#\" + \"ldavis_el5602139774645997264954026889\", ldavis_el5602139774645997264954026889_data);\n",
              "      });\n",
              "    });\n",
              "}else{\n",
              "    // require.js not available: dynamically load d3 & LDAvis\n",
              "    LDAvis_load_lib(\"https://cdnjs.cloudflare.com/ajax/libs/d3/3.5.5/d3.min.js\", function(){\n",
              "         LDAvis_load_lib(\"https://cdn.rawgit.com/bmabey/pyLDAvis/files/ldavis.v1.0.0.js\", function(){\n",
              "                 new LDAvis(\"#\" + \"ldavis_el5602139774645997264954026889\", ldavis_el5602139774645997264954026889_data);\n",
              "            })\n",
              "         });\n",
              "}\n",
              "</script>"
            ],
            "text/plain": [
              "PreparedData(topic_coordinates=              x         y  topics  cluster       Freq\n",
              "topic                                                \n",
              "1     -0.133034  0.001637       1        1  13.510364\n",
              "7      0.154800  0.187030       2        1  13.317380\n",
              "5     -0.010597  0.203740       3        1  13.080425\n",
              "0     -0.328622 -0.061305       4        1  12.614480\n",
              "6     -0.075244 -0.230418       5        1  12.573215\n",
              "2      0.241817 -0.141424       6        1  12.010494\n",
              "4      0.156400 -0.183022       7        1  11.641429\n",
              "3     -0.005522  0.223761       8        1  11.252213, topic_info=             Term           Freq          Total Category  logprob  loglift\n",
              "1336         dyer  130122.000000  130122.000000  Default  30.0000  30.0000\n",
              "65           life   77764.000000   77764.000000  Default  29.0000  29.0000\n",
              "60          thing   46190.000000   46190.000000  Default  28.0000  28.0000\n",
              "212           man   41331.000000   41331.000000  Default  27.0000  27.0000\n",
              "100          time   32426.000000   32426.000000  Default  26.0000  26.0000\n",
              "...           ...            ...            ...      ...      ...      ...\n",
              "102          kind    5338.472737    5593.166200   Topic8  -3.9345   2.1380\n",
              "302   expectation    3896.931033    4036.784081   Topic8  -4.2492   2.1493\n",
              "215          want    4752.529694    5021.389490   Topic8  -4.0507   2.1296\n",
              "885          book    2858.697948    3038.949041   Topic8  -4.5590   2.1235\n",
              "990       emotion    2885.362092    3124.868652   Topic8  -4.5497   2.1049\n",
              "\n",
              "[510 rows x 6 columns], token_table=      Topic      Freq     Term\n",
              "term                          \n",
              "150       1  0.001713  ability\n",
              "150       2  0.000311  ability\n",
              "150       3  0.000311  ability\n",
              "150       5  0.988305  ability\n",
              "150       6  0.000156  ability\n",
              "...     ...       ...      ...\n",
              "38        2  0.001831     year\n",
              "38        3  0.000366     year\n",
              "38        5  0.015376     year\n",
              "38        6  0.929178     year\n",
              "38        7  0.003661     year\n",
              "\n",
              "[1365 rows x 3 columns], R=30, lambda_step=0.01, plot_opts={'xlab': 'PC1', 'ylab': 'PC2'}, topic_order=[2, 8, 6, 1, 7, 3, 5, 4])"
            ]
          },
          "metadata": {
            "tags": []
          },
          "execution_count": 19
        }
      ]
    }
  ]
}