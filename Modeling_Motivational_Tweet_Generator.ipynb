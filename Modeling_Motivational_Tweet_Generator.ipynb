{
  "nbformat": 4,
  "nbformat_minor": 0,
  "metadata": {
    "kernelspec": {
      "display_name": "Python 3",
      "language": "python",
      "name": "python3"
    },
    "language_info": {
      "codemirror_mode": {
        "name": "ipython",
        "version": 3
      },
      "file_extension": ".py",
      "mimetype": "text/x-python",
      "name": "python",
      "nbconvert_exporter": "python",
      "pygments_lexer": "ipython3",
      "version": "3.7.6"
    },
    "colab": {
      "name": "Modern_Motivation_Model_nv.ipynb",
      "provenance": [],
      "collapsed_sections": [],
      "machine_shape": "hm"
    }
  },
  "cells": [
    {
      "cell_type": "code",
      "metadata": {
        "id": "nlGN9q2hB1ms",
        "colab": {
          "base_uri": "https://localhost:8080/"
        },
        "outputId": "41f056e9-b558-4ec1-d5a5-923f72efd398"
      },
      "source": [
        "!pip install pyLDAvis --quiet\n",
        "!pip install chart_studio --quiet\n"
      ],
      "execution_count": 1,
      "outputs": [
        {
          "output_type": "stream",
          "text": [
            "\u001b[?25l\r\u001b[K     |▏                               | 10kB 11.7MB/s eta 0:00:01\r\u001b[K     |▍                               | 20kB 15.4MB/s eta 0:00:01\r\u001b[K     |▋                               | 30kB 7.9MB/s eta 0:00:01\r\u001b[K     |▉                               | 40kB 3.7MB/s eta 0:00:01\r\u001b[K     |█                               | 51kB 4.5MB/s eta 0:00:01\r\u001b[K     |█▏                              | 61kB 5.2MB/s eta 0:00:01\r\u001b[K     |█▍                              | 71kB 5.2MB/s eta 0:00:01\r\u001b[K     |█▋                              | 81kB 5.5MB/s eta 0:00:01\r\u001b[K     |█▉                              | 92kB 5.9MB/s eta 0:00:01\r\u001b[K     |██                              | 102kB 6.1MB/s eta 0:00:01\r\u001b[K     |██▎                             | 112kB 6.1MB/s eta 0:00:01\r\u001b[K     |██▍                             | 122kB 6.1MB/s eta 0:00:01\r\u001b[K     |██▋                             | 133kB 6.1MB/s eta 0:00:01\r\u001b[K     |██▉                             | 143kB 6.1MB/s eta 0:00:01\r\u001b[K     |███                             | 153kB 6.1MB/s eta 0:00:01\r\u001b[K     |███▎                            | 163kB 6.1MB/s eta 0:00:01\r\u001b[K     |███▌                            | 174kB 6.1MB/s eta 0:00:01\r\u001b[K     |███▋                            | 184kB 6.1MB/s eta 0:00:01\r\u001b[K     |███▉                            | 194kB 6.1MB/s eta 0:00:01\r\u001b[K     |████                            | 204kB 6.1MB/s eta 0:00:01\r\u001b[K     |████▎                           | 215kB 6.1MB/s eta 0:00:01\r\u001b[K     |████▌                           | 225kB 6.1MB/s eta 0:00:01\r\u001b[K     |████▊                           | 235kB 6.1MB/s eta 0:00:01\r\u001b[K     |████▉                           | 245kB 6.1MB/s eta 0:00:01\r\u001b[K     |█████                           | 256kB 6.1MB/s eta 0:00:01\r\u001b[K     |█████▎                          | 266kB 6.1MB/s eta 0:00:01\r\u001b[K     |█████▌                          | 276kB 6.1MB/s eta 0:00:01\r\u001b[K     |█████▊                          | 286kB 6.1MB/s eta 0:00:01\r\u001b[K     |█████▉                          | 296kB 6.1MB/s eta 0:00:01\r\u001b[K     |██████                          | 307kB 6.1MB/s eta 0:00:01\r\u001b[K     |██████▎                         | 317kB 6.1MB/s eta 0:00:01\r\u001b[K     |██████▌                         | 327kB 6.1MB/s eta 0:00:01\r\u001b[K     |██████▊                         | 337kB 6.1MB/s eta 0:00:01\r\u001b[K     |███████                         | 348kB 6.1MB/s eta 0:00:01\r\u001b[K     |███████                         | 358kB 6.1MB/s eta 0:00:01\r\u001b[K     |███████▎                        | 368kB 6.1MB/s eta 0:00:01\r\u001b[K     |███████▌                        | 378kB 6.1MB/s eta 0:00:01\r\u001b[K     |███████▊                        | 389kB 6.1MB/s eta 0:00:01\r\u001b[K     |████████                        | 399kB 6.1MB/s eta 0:00:01\r\u001b[K     |████████▏                       | 409kB 6.1MB/s eta 0:00:01\r\u001b[K     |████████▎                       | 419kB 6.1MB/s eta 0:00:01\r\u001b[K     |████████▌                       | 430kB 6.1MB/s eta 0:00:01\r\u001b[K     |████████▊                       | 440kB 6.1MB/s eta 0:00:01\r\u001b[K     |█████████                       | 450kB 6.1MB/s eta 0:00:01\r\u001b[K     |█████████▏                      | 460kB 6.1MB/s eta 0:00:01\r\u001b[K     |█████████▍                      | 471kB 6.1MB/s eta 0:00:01\r\u001b[K     |█████████▌                      | 481kB 6.1MB/s eta 0:00:01\r\u001b[K     |█████████▊                      | 491kB 6.1MB/s eta 0:00:01\r\u001b[K     |██████████                      | 501kB 6.1MB/s eta 0:00:01\r\u001b[K     |██████████▏                     | 512kB 6.1MB/s eta 0:00:01\r\u001b[K     |██████████▍                     | 522kB 6.1MB/s eta 0:00:01\r\u001b[K     |██████████▋                     | 532kB 6.1MB/s eta 0:00:01\r\u001b[K     |██████████▊                     | 542kB 6.1MB/s eta 0:00:01\r\u001b[K     |███████████                     | 552kB 6.1MB/s eta 0:00:01\r\u001b[K     |███████████▏                    | 563kB 6.1MB/s eta 0:00:01\r\u001b[K     |███████████▍                    | 573kB 6.1MB/s eta 0:00:01\r\u001b[K     |███████████▋                    | 583kB 6.1MB/s eta 0:00:01\r\u001b[K     |███████████▊                    | 593kB 6.1MB/s eta 0:00:01\r\u001b[K     |████████████                    | 604kB 6.1MB/s eta 0:00:01\r\u001b[K     |████████████▏                   | 614kB 6.1MB/s eta 0:00:01\r\u001b[K     |████████████▍                   | 624kB 6.1MB/s eta 0:00:01\r\u001b[K     |████████████▋                   | 634kB 6.1MB/s eta 0:00:01\r\u001b[K     |████████████▉                   | 645kB 6.1MB/s eta 0:00:01\r\u001b[K     |█████████████                   | 655kB 6.1MB/s eta 0:00:01\r\u001b[K     |█████████████▏                  | 665kB 6.1MB/s eta 0:00:01\r\u001b[K     |█████████████▍                  | 675kB 6.1MB/s eta 0:00:01\r\u001b[K     |█████████████▋                  | 686kB 6.1MB/s eta 0:00:01\r\u001b[K     |█████████████▉                  | 696kB 6.1MB/s eta 0:00:01\r\u001b[K     |██████████████                  | 706kB 6.1MB/s eta 0:00:01\r\u001b[K     |██████████████▏                 | 716kB 6.1MB/s eta 0:00:01\r\u001b[K     |██████████████▍                 | 727kB 6.1MB/s eta 0:00:01\r\u001b[K     |██████████████▋                 | 737kB 6.1MB/s eta 0:00:01\r\u001b[K     |██████████████▉                 | 747kB 6.1MB/s eta 0:00:01\r\u001b[K     |███████████████                 | 757kB 6.1MB/s eta 0:00:01\r\u001b[K     |███████████████▎                | 768kB 6.1MB/s eta 0:00:01\r\u001b[K     |███████████████▍                | 778kB 6.1MB/s eta 0:00:01\r\u001b[K     |███████████████▋                | 788kB 6.1MB/s eta 0:00:01\r\u001b[K     |███████████████▉                | 798kB 6.1MB/s eta 0:00:01\r\u001b[K     |████████████████                | 808kB 6.1MB/s eta 0:00:01\r\u001b[K     |████████████████▎               | 819kB 6.1MB/s eta 0:00:01\r\u001b[K     |████████████████▌               | 829kB 6.1MB/s eta 0:00:01\r\u001b[K     |████████████████▋               | 839kB 6.1MB/s eta 0:00:01\r\u001b[K     |████████████████▉               | 849kB 6.1MB/s eta 0:00:01\r\u001b[K     |█████████████████               | 860kB 6.1MB/s eta 0:00:01\r\u001b[K     |█████████████████▎              | 870kB 6.1MB/s eta 0:00:01\r\u001b[K     |█████████████████▌              | 880kB 6.1MB/s eta 0:00:01\r\u001b[K     |█████████████████▋              | 890kB 6.1MB/s eta 0:00:01\r\u001b[K     |█████████████████▉              | 901kB 6.1MB/s eta 0:00:01\r\u001b[K     |██████████████████              | 911kB 6.1MB/s eta 0:00:01\r\u001b[K     |██████████████████▎             | 921kB 6.1MB/s eta 0:00:01\r\u001b[K     |██████████████████▌             | 931kB 6.1MB/s eta 0:00:01\r\u001b[K     |██████████████████▊             | 942kB 6.1MB/s eta 0:00:01\r\u001b[K     |██████████████████▉             | 952kB 6.1MB/s eta 0:00:01\r\u001b[K     |███████████████████             | 962kB 6.1MB/s eta 0:00:01\r\u001b[K     |███████████████████▎            | 972kB 6.1MB/s eta 0:00:01\r\u001b[K     |███████████████████▌            | 983kB 6.1MB/s eta 0:00:01\r\u001b[K     |███████████████████▊            | 993kB 6.1MB/s eta 0:00:01\r\u001b[K     |████████████████████            | 1.0MB 6.1MB/s eta 0:00:01\r\u001b[K     |████████████████████            | 1.0MB 6.1MB/s eta 0:00:01\r\u001b[K     |████████████████████▎           | 1.0MB 6.1MB/s eta 0:00:01\r\u001b[K     |████████████████████▌           | 1.0MB 6.1MB/s eta 0:00:01\r\u001b[K     |████████████████████▊           | 1.0MB 6.1MB/s eta 0:00:01\r\u001b[K     |█████████████████████           | 1.1MB 6.1MB/s eta 0:00:01\r\u001b[K     |█████████████████████▏          | 1.1MB 6.1MB/s eta 0:00:01\r\u001b[K     |█████████████████████▎          | 1.1MB 6.1MB/s eta 0:00:01\r\u001b[K     |█████████████████████▌          | 1.1MB 6.1MB/s eta 0:00:01\r\u001b[K     |█████████████████████▊          | 1.1MB 6.1MB/s eta 0:00:01\r\u001b[K     |██████████████████████          | 1.1MB 6.1MB/s eta 0:00:01\r\u001b[K     |██████████████████████▏         | 1.1MB 6.1MB/s eta 0:00:01\r\u001b[K     |██████████████████████▍         | 1.1MB 6.1MB/s eta 0:00:01\r\u001b[K     |██████████████████████▌         | 1.1MB 6.1MB/s eta 0:00:01\r\u001b[K     |██████████████████████▊         | 1.1MB 6.1MB/s eta 0:00:01\r\u001b[K     |███████████████████████         | 1.2MB 6.1MB/s eta 0:00:01\r\u001b[K     |███████████████████████▏        | 1.2MB 6.1MB/s eta 0:00:01\r\u001b[K     |███████████████████████▍        | 1.2MB 6.1MB/s eta 0:00:01\r\u001b[K     |███████████████████████▌        | 1.2MB 6.1MB/s eta 0:00:01\r\u001b[K     |███████████████████████▊        | 1.2MB 6.1MB/s eta 0:00:01\r\u001b[K     |████████████████████████        | 1.2MB 6.1MB/s eta 0:00:01\r\u001b[K     |████████████████████████▏       | 1.2MB 6.1MB/s eta 0:00:01\r\u001b[K     |████████████████████████▍       | 1.2MB 6.1MB/s eta 0:00:01\r\u001b[K     |████████████████████████▋       | 1.2MB 6.1MB/s eta 0:00:01\r\u001b[K     |████████████████████████▊       | 1.2MB 6.1MB/s eta 0:00:01\r\u001b[K     |█████████████████████████       | 1.3MB 6.1MB/s eta 0:00:01\r\u001b[K     |█████████████████████████▏      | 1.3MB 6.1MB/s eta 0:00:01\r\u001b[K     |█████████████████████████▍      | 1.3MB 6.1MB/s eta 0:00:01\r\u001b[K     |█████████████████████████▋      | 1.3MB 6.1MB/s eta 0:00:01\r\u001b[K     |█████████████████████████▉      | 1.3MB 6.1MB/s eta 0:00:01\r\u001b[K     |██████████████████████████      | 1.3MB 6.1MB/s eta 0:00:01\r\u001b[K     |██████████████████████████▏     | 1.3MB 6.1MB/s eta 0:00:01\r\u001b[K     |██████████████████████████▍     | 1.3MB 6.1MB/s eta 0:00:01\r\u001b[K     |██████████████████████████▋     | 1.3MB 6.1MB/s eta 0:00:01\r\u001b[K     |██████████████████████████▉     | 1.4MB 6.1MB/s eta 0:00:01\r\u001b[K     |███████████████████████████     | 1.4MB 6.1MB/s eta 0:00:01\r\u001b[K     |███████████████████████████▏    | 1.4MB 6.1MB/s eta 0:00:01\r\u001b[K     |███████████████████████████▍    | 1.4MB 6.1MB/s eta 0:00:01\r\u001b[K     |███████████████████████████▋    | 1.4MB 6.1MB/s eta 0:00:01\r\u001b[K     |███████████████████████████▉    | 1.4MB 6.1MB/s eta 0:00:01\r\u001b[K     |████████████████████████████    | 1.4MB 6.1MB/s eta 0:00:01\r\u001b[K     |████████████████████████████▏   | 1.4MB 6.1MB/s eta 0:00:01\r\u001b[K     |████████████████████████████▍   | 1.4MB 6.1MB/s eta 0:00:01\r\u001b[K     |████████████████████████████▋   | 1.4MB 6.1MB/s eta 0:00:01\r\u001b[K     |████████████████████████████▉   | 1.5MB 6.1MB/s eta 0:00:01\r\u001b[K     |█████████████████████████████   | 1.5MB 6.1MB/s eta 0:00:01\r\u001b[K     |█████████████████████████████▎  | 1.5MB 6.1MB/s eta 0:00:01\r\u001b[K     |█████████████████████████████▍  | 1.5MB 6.1MB/s eta 0:00:01\r\u001b[K     |█████████████████████████████▋  | 1.5MB 6.1MB/s eta 0:00:01\r\u001b[K     |█████████████████████████████▉  | 1.5MB 6.1MB/s eta 0:00:01\r\u001b[K     |██████████████████████████████  | 1.5MB 6.1MB/s eta 0:00:01\r\u001b[K     |██████████████████████████████▎ | 1.5MB 6.1MB/s eta 0:00:01\r\u001b[K     |██████████████████████████████▌ | 1.5MB 6.1MB/s eta 0:00:01\r\u001b[K     |██████████████████████████████▋ | 1.5MB 6.1MB/s eta 0:00:01\r\u001b[K     |██████████████████████████████▉ | 1.6MB 6.1MB/s eta 0:00:01\r\u001b[K     |███████████████████████████████ | 1.6MB 6.1MB/s eta 0:00:01\r\u001b[K     |███████████████████████████████▎| 1.6MB 6.1MB/s eta 0:00:01\r\u001b[K     |███████████████████████████████▌| 1.6MB 6.1MB/s eta 0:00:01\r\u001b[K     |███████████████████████████████▊| 1.6MB 6.1MB/s eta 0:00:01\r\u001b[K     |███████████████████████████████▉| 1.6MB 6.1MB/s eta 0:00:01\r\u001b[K     |████████████████████████████████| 1.6MB 6.1MB/s \n",
            "\u001b[?25h  Building wheel for pyLDAvis (setup.py) ... \u001b[?25l\u001b[?25hdone\n",
            "\u001b[K     |████████████████████████████████| 71kB 3.6MB/s \n",
            "\u001b[?25h"
          ],
          "name": "stdout"
        }
      ]
    },
    {
      "cell_type": "code",
      "metadata": {
        "id": "S39PKkWJTM6_"
      },
      "source": [
        "import pandas as pd\n",
        "import numpy as np\n",
        "import time\n",
        "import re\n",
        "import warnings\n",
        "import matplotlib.pyplot as plt\n",
        "import seaborn as sns\n",
        "from sklearn.decomposition import LatentDirichletAllocation\n",
        "import gensim\n",
        "from spacy.tokenizer import Tokenizer\n",
        "import gensim.corpora as corpora\n",
        "from gensim.models.ldamulticore import LdaMulticore\n",
        "from pprint import pprint\n",
        "from gensim.models.coherencemodel import CoherenceModel\n",
        "import plotly.express as px\n",
        "import pyLDAvis.gensim\n",
        "import chart_studio\n",
        "import chart_studio.plotly as py \n",
        "import chart_studio.tools as tls\n",
        "from operator import itemgetter\n",
        "from ipywidgets import interact\n",
        "import tqdm\n",
        "from IPython.display import display, Markdown, clear_output\n",
        "# widget packages\n",
        "import ipywidgets as widgets\n",
        "\n",
        "\n",
        "# supress warnings\n",
        "warnings.filterwarnings(\"ignore\")"
      ],
      "execution_count": 2,
      "outputs": []
    },
    {
      "cell_type": "code",
      "metadata": {
        "colab": {
          "base_uri": "https://localhost:8080/"
        },
        "id": "rOCdohTeTVXy",
        "outputId": "968d26e0-73d9-4149-8e7b-3eb72f9f13f7"
      },
      "source": [
        "from google.colab import drive\n",
        "drive.mount('/content/drive')"
      ],
      "execution_count": 3,
      "outputs": [
        {
          "output_type": "stream",
          "text": [
            "Mounted at /content/drive\n"
          ],
          "name": "stdout"
        }
      ]
    },
    {
      "cell_type": "markdown",
      "metadata": {
        "id": "6IvJKQxX02eY"
      },
      "source": [
        "We will load in our preprocessed tweets from our [data cleaning notebook](https://github.com/tarrantcarter/Final_Capstone/blob/main/Modern_Motivation_Data_Cleaning_Feature_Engineering.ipynb). The csv can be found [here](https://drive.google.com/file/d/1-d-61YuocweY0F3rSnf-idL1ixbuKq4H/view?usp=sharing). "
      ]
    },
    {
      "cell_type": "code",
      "metadata": {
        "id": "4BbNTyvSTM6_"
      },
      "source": [
        "# load in cleaned tweets from data cleaning notebook\n",
        "tweets_cleaned = pd.read_json(\"/content/drive/MyDrive/Data/NLP_Capstone/motivational_tweets_cleaned.json\")"
      ],
      "execution_count": 4,
      "outputs": []
    },
    {
      "cell_type": "code",
      "metadata": {
        "colab": {
          "base_uri": "https://localhost:8080/",
          "height": 598
        },
        "id": "7f_G-wOgTM7A",
        "outputId": "989a1281-4d3b-4de2-a846-51c0737bf69e"
      },
      "source": [
        "tweets_cleaned.head()"
      ],
      "execution_count": 5,
      "outputs": [
        {
          "output_type": "execute_result",
          "data": {
            "text/html": [
              "<div>\n",
              "<style scoped>\n",
              "    .dataframe tbody tr th:only-of-type {\n",
              "        vertical-align: middle;\n",
              "    }\n",
              "\n",
              "    .dataframe tbody tr th {\n",
              "        vertical-align: top;\n",
              "    }\n",
              "\n",
              "    .dataframe thead th {\n",
              "        text-align: right;\n",
              "    }\n",
              "</style>\n",
              "<table border=\"1\" class=\"dataframe\">\n",
              "  <thead>\n",
              "    <tr style=\"text-align: right;\">\n",
              "      <th></th>\n",
              "      <th>date</th>\n",
              "      <th>user_name</th>\n",
              "      <th>content</th>\n",
              "      <th>content_preprocessed</th>\n",
              "      <th>unigram_tokens</th>\n",
              "      <th>ngrams</th>\n",
              "      <th>ngram_tokens</th>\n",
              "      <th>nouns_only</th>\n",
              "      <th>nouns_verbs</th>\n",
              "      <th>bigrams_trigrams</th>\n",
              "      <th>bigrams_trigrams_strings</th>\n",
              "    </tr>\n",
              "  </thead>\n",
              "  <tbody>\n",
              "    <tr>\n",
              "      <th>44</th>\n",
              "      <td>2021-01-17 22:13:17</td>\n",
              "      <td>LewisHowes</td>\n",
              "      <td>Know this. Everything is happening for a reaso...</td>\n",
              "      <td>know happen reason favor betterment future pai...</td>\n",
              "      <td>[know, happen, reason, favor, betterment, futu...</td>\n",
              "      <td>know_happen_reason favor betterment future pai...</td>\n",
              "      <td>[know_happen_reason, favor, betterment, future...</td>\n",
              "      <td>[reason, favor, betterment, future, pain, feel...</td>\n",
              "      <td>[know, reason, favor, betterment, future, pain...</td>\n",
              "      <td>[know_happen_reason]</td>\n",
              "      <td>know_happen_reason</td>\n",
              "    </tr>\n",
              "    <tr>\n",
              "      <th>61</th>\n",
              "      <td>2021-01-15 15:28:06</td>\n",
              "      <td>LewisHowes</td>\n",
              "      <td>Protect your inner peace at all costs. Create ...</td>\n",
              "      <td>protect inner peace cost create daily practice...</td>\n",
              "      <td>[protect, inner, peace, cost, create, daily, p...</td>\n",
              "      <td>protect inner_peace cost create daily_practice...</td>\n",
              "      <td>[protect, inner_peace, cost, create, daily_pra...</td>\n",
              "      <td>[peace, cost, practice, communicate, stress, d...</td>\n",
              "      <td>[peace, cost, practice, communicate, stress, d...</td>\n",
              "      <td>[inner_peace, daily_practice]</td>\n",
              "      <td>inner_peace daily_practice</td>\n",
              "    </tr>\n",
              "    <tr>\n",
              "      <th>161</th>\n",
              "      <td>2021-01-07 16:00:29</td>\n",
              "      <td>LewisHowes</td>\n",
              "      <td>Always remember to ask for exactly what you wa...</td>\n",
              "      <td>remember ask exactly want ask love good health...</td>\n",
              "      <td>[remember, ask, exactly, want, ask, love, good...</td>\n",
              "      <td>remember ask exactly want ask love good health...</td>\n",
              "      <td>[remember, ask, exactly, want, ask, love, good...</td>\n",
              "      <td>[health, abundance, peace, ask, wisdom, creati...</td>\n",
              "      <td>[remember, health, abundance, peace, ask, wisd...</td>\n",
              "      <td>[health_abundance, ask_wisdom]</td>\n",
              "      <td>health_abundance ask_wisdom</td>\n",
              "    </tr>\n",
              "    <tr>\n",
              "      <th>274</th>\n",
              "      <td>2021-01-01 02:44:46</td>\n",
              "      <td>LewisHowes</td>\n",
              "      <td>This will be your greatest year ever. All your...</td>\n",
              "      <td>great year work start pay earn happy love deep...</td>\n",
              "      <td>[great, year, work, start, pay, earn, happy, l...</td>\n",
              "      <td>great year work start pay earn happy love deep...</td>\n",
              "      <td>[great, year, work, start, pay, earn, happy, l...</td>\n",
              "      <td>[year, work, start, earn, love, embrace, fear,...</td>\n",
              "      <td>[year, work, start, pay, earn, love, embrace, ...</td>\n",
              "      <td>[massive_action]</td>\n",
              "      <td>massive_action</td>\n",
              "    </tr>\n",
              "    <tr>\n",
              "      <th>317</th>\n",
              "      <td>2020-12-30 01:38:35</td>\n",
              "      <td>LewisHowes</td>\n",
              "      <td>Be grateful for the breakdown this year. It's ...</td>\n",
              "      <td>grateful breakdown year set massive breakthrou...</td>\n",
              "      <td>[grateful, breakdown, year, set, massive, brea...</td>\n",
              "      <td>grateful breakdown year set massive breakthrou...</td>\n",
              "      <td>[grateful, breakdown, year, set, massive, brea...</td>\n",
              "      <td>[year, breakthrough, money, mission, get, rela...</td>\n",
              "      <td>[year, set, breakthrough, money, come, mission...</td>\n",
              "      <td>[real_friend]</td>\n",
              "      <td>real_friend</td>\n",
              "    </tr>\n",
              "  </tbody>\n",
              "</table>\n",
              "</div>"
            ],
            "text/plain": [
              "                   date  ...     bigrams_trigrams_strings\n",
              "44  2021-01-17 22:13:17  ...           know_happen_reason\n",
              "61  2021-01-15 15:28:06  ...   inner_peace daily_practice\n",
              "161 2021-01-07 16:00:29  ...  health_abundance ask_wisdom\n",
              "274 2021-01-01 02:44:46  ...               massive_action\n",
              "317 2020-12-30 01:38:35  ...                  real_friend\n",
              "\n",
              "[5 rows x 11 columns]"
            ]
          },
          "metadata": {
            "tags": []
          },
          "execution_count": 5
        }
      ]
    },
    {
      "cell_type": "code",
      "metadata": {
        "colab": {
          "base_uri": "https://localhost:8080/",
          "height": 609
        },
        "id": "X5gUYa2fu5rc",
        "outputId": "8ebe87b5-e297-4e3c-e6ae-63ab8b865404"
      },
      "source": [
        "tweets_cleaned.applymap(type)"
      ],
      "execution_count": 6,
      "outputs": [
        {
          "output_type": "execute_result",
          "data": {
            "text/html": [
              "<div>\n",
              "<style scoped>\n",
              "    .dataframe tbody tr th:only-of-type {\n",
              "        vertical-align: middle;\n",
              "    }\n",
              "\n",
              "    .dataframe tbody tr th {\n",
              "        vertical-align: top;\n",
              "    }\n",
              "\n",
              "    .dataframe thead th {\n",
              "        text-align: right;\n",
              "    }\n",
              "</style>\n",
              "<table border=\"1\" class=\"dataframe\">\n",
              "  <thead>\n",
              "    <tr style=\"text-align: right;\">\n",
              "      <th></th>\n",
              "      <th>date</th>\n",
              "      <th>user_name</th>\n",
              "      <th>content</th>\n",
              "      <th>content_preprocessed</th>\n",
              "      <th>unigram_tokens</th>\n",
              "      <th>ngrams</th>\n",
              "      <th>ngram_tokens</th>\n",
              "      <th>nouns_only</th>\n",
              "      <th>nouns_verbs</th>\n",
              "      <th>bigrams_trigrams</th>\n",
              "      <th>bigrams_trigrams_strings</th>\n",
              "    </tr>\n",
              "  </thead>\n",
              "  <tbody>\n",
              "    <tr>\n",
              "      <th>44</th>\n",
              "      <td>&lt;class 'pandas._libs.tslibs.timestamps.Timesta...</td>\n",
              "      <td>&lt;class 'str'&gt;</td>\n",
              "      <td>&lt;class 'str'&gt;</td>\n",
              "      <td>&lt;class 'str'&gt;</td>\n",
              "      <td>&lt;class 'list'&gt;</td>\n",
              "      <td>&lt;class 'str'&gt;</td>\n",
              "      <td>&lt;class 'list'&gt;</td>\n",
              "      <td>&lt;class 'list'&gt;</td>\n",
              "      <td>&lt;class 'list'&gt;</td>\n",
              "      <td>&lt;class 'list'&gt;</td>\n",
              "      <td>&lt;class 'str'&gt;</td>\n",
              "    </tr>\n",
              "    <tr>\n",
              "      <th>61</th>\n",
              "      <td>&lt;class 'pandas._libs.tslibs.timestamps.Timesta...</td>\n",
              "      <td>&lt;class 'str'&gt;</td>\n",
              "      <td>&lt;class 'str'&gt;</td>\n",
              "      <td>&lt;class 'str'&gt;</td>\n",
              "      <td>&lt;class 'list'&gt;</td>\n",
              "      <td>&lt;class 'str'&gt;</td>\n",
              "      <td>&lt;class 'list'&gt;</td>\n",
              "      <td>&lt;class 'list'&gt;</td>\n",
              "      <td>&lt;class 'list'&gt;</td>\n",
              "      <td>&lt;class 'list'&gt;</td>\n",
              "      <td>&lt;class 'str'&gt;</td>\n",
              "    </tr>\n",
              "    <tr>\n",
              "      <th>161</th>\n",
              "      <td>&lt;class 'pandas._libs.tslibs.timestamps.Timesta...</td>\n",
              "      <td>&lt;class 'str'&gt;</td>\n",
              "      <td>&lt;class 'str'&gt;</td>\n",
              "      <td>&lt;class 'str'&gt;</td>\n",
              "      <td>&lt;class 'list'&gt;</td>\n",
              "      <td>&lt;class 'str'&gt;</td>\n",
              "      <td>&lt;class 'list'&gt;</td>\n",
              "      <td>&lt;class 'list'&gt;</td>\n",
              "      <td>&lt;class 'list'&gt;</td>\n",
              "      <td>&lt;class 'list'&gt;</td>\n",
              "      <td>&lt;class 'str'&gt;</td>\n",
              "    </tr>\n",
              "    <tr>\n",
              "      <th>274</th>\n",
              "      <td>&lt;class 'pandas._libs.tslibs.timestamps.Timesta...</td>\n",
              "      <td>&lt;class 'str'&gt;</td>\n",
              "      <td>&lt;class 'str'&gt;</td>\n",
              "      <td>&lt;class 'str'&gt;</td>\n",
              "      <td>&lt;class 'list'&gt;</td>\n",
              "      <td>&lt;class 'str'&gt;</td>\n",
              "      <td>&lt;class 'list'&gt;</td>\n",
              "      <td>&lt;class 'list'&gt;</td>\n",
              "      <td>&lt;class 'list'&gt;</td>\n",
              "      <td>&lt;class 'list'&gt;</td>\n",
              "      <td>&lt;class 'str'&gt;</td>\n",
              "    </tr>\n",
              "    <tr>\n",
              "      <th>317</th>\n",
              "      <td>&lt;class 'pandas._libs.tslibs.timestamps.Timesta...</td>\n",
              "      <td>&lt;class 'str'&gt;</td>\n",
              "      <td>&lt;class 'str'&gt;</td>\n",
              "      <td>&lt;class 'str'&gt;</td>\n",
              "      <td>&lt;class 'list'&gt;</td>\n",
              "      <td>&lt;class 'str'&gt;</td>\n",
              "      <td>&lt;class 'list'&gt;</td>\n",
              "      <td>&lt;class 'list'&gt;</td>\n",
              "      <td>&lt;class 'list'&gt;</td>\n",
              "      <td>&lt;class 'list'&gt;</td>\n",
              "      <td>&lt;class 'str'&gt;</td>\n",
              "    </tr>\n",
              "    <tr>\n",
              "      <th>...</th>\n",
              "      <td>...</td>\n",
              "      <td>...</td>\n",
              "      <td>...</td>\n",
              "      <td>...</td>\n",
              "      <td>...</td>\n",
              "      <td>...</td>\n",
              "      <td>...</td>\n",
              "      <td>...</td>\n",
              "      <td>...</td>\n",
              "      <td>...</td>\n",
              "      <td>...</td>\n",
              "    </tr>\n",
              "    <tr>\n",
              "      <th>977598</th>\n",
              "      <td>&lt;class 'pandas._libs.tslibs.timestamps.Timesta...</td>\n",
              "      <td>&lt;class 'str'&gt;</td>\n",
              "      <td>&lt;class 'str'&gt;</td>\n",
              "      <td>&lt;class 'str'&gt;</td>\n",
              "      <td>&lt;class 'list'&gt;</td>\n",
              "      <td>&lt;class 'str'&gt;</td>\n",
              "      <td>&lt;class 'list'&gt;</td>\n",
              "      <td>&lt;class 'list'&gt;</td>\n",
              "      <td>&lt;class 'list'&gt;</td>\n",
              "      <td>&lt;class 'list'&gt;</td>\n",
              "      <td>&lt;class 'str'&gt;</td>\n",
              "    </tr>\n",
              "    <tr>\n",
              "      <th>977599</th>\n",
              "      <td>&lt;class 'pandas._libs.tslibs.timestamps.Timesta...</td>\n",
              "      <td>&lt;class 'str'&gt;</td>\n",
              "      <td>&lt;class 'str'&gt;</td>\n",
              "      <td>&lt;class 'str'&gt;</td>\n",
              "      <td>&lt;class 'list'&gt;</td>\n",
              "      <td>&lt;class 'str'&gt;</td>\n",
              "      <td>&lt;class 'list'&gt;</td>\n",
              "      <td>&lt;class 'list'&gt;</td>\n",
              "      <td>&lt;class 'list'&gt;</td>\n",
              "      <td>&lt;class 'list'&gt;</td>\n",
              "      <td>&lt;class 'str'&gt;</td>\n",
              "    </tr>\n",
              "    <tr>\n",
              "      <th>977606</th>\n",
              "      <td>&lt;class 'pandas._libs.tslibs.timestamps.Timesta...</td>\n",
              "      <td>&lt;class 'str'&gt;</td>\n",
              "      <td>&lt;class 'str'&gt;</td>\n",
              "      <td>&lt;class 'str'&gt;</td>\n",
              "      <td>&lt;class 'list'&gt;</td>\n",
              "      <td>&lt;class 'str'&gt;</td>\n",
              "      <td>&lt;class 'list'&gt;</td>\n",
              "      <td>&lt;class 'list'&gt;</td>\n",
              "      <td>&lt;class 'list'&gt;</td>\n",
              "      <td>&lt;class 'list'&gt;</td>\n",
              "      <td>&lt;class 'str'&gt;</td>\n",
              "    </tr>\n",
              "    <tr>\n",
              "      <th>977608</th>\n",
              "      <td>&lt;class 'pandas._libs.tslibs.timestamps.Timesta...</td>\n",
              "      <td>&lt;class 'str'&gt;</td>\n",
              "      <td>&lt;class 'str'&gt;</td>\n",
              "      <td>&lt;class 'str'&gt;</td>\n",
              "      <td>&lt;class 'list'&gt;</td>\n",
              "      <td>&lt;class 'str'&gt;</td>\n",
              "      <td>&lt;class 'list'&gt;</td>\n",
              "      <td>&lt;class 'list'&gt;</td>\n",
              "      <td>&lt;class 'list'&gt;</td>\n",
              "      <td>&lt;class 'list'&gt;</td>\n",
              "      <td>&lt;class 'str'&gt;</td>\n",
              "    </tr>\n",
              "    <tr>\n",
              "      <th>977610</th>\n",
              "      <td>&lt;class 'pandas._libs.tslibs.timestamps.Timesta...</td>\n",
              "      <td>&lt;class 'str'&gt;</td>\n",
              "      <td>&lt;class 'str'&gt;</td>\n",
              "      <td>&lt;class 'str'&gt;</td>\n",
              "      <td>&lt;class 'list'&gt;</td>\n",
              "      <td>&lt;class 'str'&gt;</td>\n",
              "      <td>&lt;class 'list'&gt;</td>\n",
              "      <td>&lt;class 'list'&gt;</td>\n",
              "      <td>&lt;class 'list'&gt;</td>\n",
              "      <td>&lt;class 'list'&gt;</td>\n",
              "      <td>&lt;class 'str'&gt;</td>\n",
              "    </tr>\n",
              "  </tbody>\n",
              "</table>\n",
              "<p>621449 rows × 11 columns</p>\n",
              "</div>"
            ],
            "text/plain": [
              "                                                     date  ... bigrams_trigrams_strings\n",
              "44      <class 'pandas._libs.tslibs.timestamps.Timesta...  ...            <class 'str'>\n",
              "61      <class 'pandas._libs.tslibs.timestamps.Timesta...  ...            <class 'str'>\n",
              "161     <class 'pandas._libs.tslibs.timestamps.Timesta...  ...            <class 'str'>\n",
              "274     <class 'pandas._libs.tslibs.timestamps.Timesta...  ...            <class 'str'>\n",
              "317     <class 'pandas._libs.tslibs.timestamps.Timesta...  ...            <class 'str'>\n",
              "...                                                   ...  ...                      ...\n",
              "977598  <class 'pandas._libs.tslibs.timestamps.Timesta...  ...            <class 'str'>\n",
              "977599  <class 'pandas._libs.tslibs.timestamps.Timesta...  ...            <class 'str'>\n",
              "977606  <class 'pandas._libs.tslibs.timestamps.Timesta...  ...            <class 'str'>\n",
              "977608  <class 'pandas._libs.tslibs.timestamps.Timesta...  ...            <class 'str'>\n",
              "977610  <class 'pandas._libs.tslibs.timestamps.Timesta...  ...            <class 'str'>\n",
              "\n",
              "[621449 rows x 11 columns]"
            ]
          },
          "metadata": {
            "tags": []
          },
          "execution_count": 6
        }
      ]
    },
    {
      "cell_type": "code",
      "metadata": {
        "colab": {
          "base_uri": "https://localhost:8080/"
        },
        "id": "30qByL1knIDP",
        "outputId": "ae9b697f-1c69-4364-e9bc-0beba593fc26"
      },
      "source": [
        "tweets_cleaned.info()"
      ],
      "execution_count": 7,
      "outputs": [
        {
          "output_type": "stream",
          "text": [
            "<class 'pandas.core.frame.DataFrame'>\n",
            "Int64Index: 621449 entries, 44 to 977610\n",
            "Data columns (total 11 columns):\n",
            " #   Column                    Non-Null Count   Dtype         \n",
            "---  ------                    --------------   -----         \n",
            " 0   date                      621449 non-null  datetime64[ns]\n",
            " 1   user_name                 621449 non-null  object        \n",
            " 2   content                   621449 non-null  object        \n",
            " 3   content_preprocessed      621449 non-null  object        \n",
            " 4   unigram_tokens            621449 non-null  object        \n",
            " 5   ngrams                    621449 non-null  object        \n",
            " 6   ngram_tokens              621449 non-null  object        \n",
            " 7   nouns_only                621449 non-null  object        \n",
            " 8   nouns_verbs               621449 non-null  object        \n",
            " 9   bigrams_trigrams          621449 non-null  object        \n",
            " 10  bigrams_trigrams_strings  621449 non-null  object        \n",
            "dtypes: datetime64[ns](1), object(10)\n",
            "memory usage: 56.9+ MB\n"
          ],
          "name": "stdout"
        }
      ]
    },
    {
      "cell_type": "code",
      "metadata": {
        "colab": {
          "base_uri": "https://localhost:8080/"
        },
        "id": "8xOh3ReEndgg",
        "outputId": "36e675ba-cb4f-4910-f9eb-016a88c8edbc"
      },
      "source": [
        "tweets_cleaned.shape"
      ],
      "execution_count": 8,
      "outputs": [
        {
          "output_type": "execute_result",
          "data": {
            "text/plain": [
              "(621449, 11)"
            ]
          },
          "metadata": {
            "tags": []
          },
          "execution_count": 8
        }
      ]
    },
    {
      "cell_type": "markdown",
      "metadata": {
        "id": "pHgDycOJX7MU"
      },
      "source": [
        "# Topic Modeling"
      ]
    },
    {
      "cell_type": "code",
      "metadata": {
        "colab": {
          "base_uri": "https://localhost:8080/"
        },
        "id": "g7hq1gAeTM7O",
        "outputId": "e7d6f307-911f-4147-8851-fa7a3ebc60fb"
      },
      "source": [
        "# create dictionary\n",
        "id2word = corpora.Dictionary(tweets_cleaned['nouns_verbs'])\n",
        "# create texts corpus\n",
        "texts = tweets_cleaned['nouns_verbs']\n",
        "# term document frequency\n",
        "corpus = [id2word.doc2bow(text) for text in texts]\n",
        "# print first 30 tuples from corpus\n",
        "print(corpus[:1][0][:30])"
      ],
      "execution_count": 9,
      "outputs": [
        {
          "output_type": "stream",
          "text": [
            "[(0, 1), (1, 1), (2, 1), (3, 1), (4, 1), (5, 1), (6, 1), (7, 1), (8, 1), (9, 1), (10, 1), (11, 1), (12, 1), (13, 1), (14, 1), (15, 1)]\n"
          ],
          "name": "stdout"
        }
      ]
    },
    {
      "cell_type": "code",
      "metadata": {
        "id": "fOrtT9glftHi"
      },
      "source": [
        "# number of topics\n",
        "num_topics = 10\n",
        "# build LDA model\n",
        "base_model = gensim.models.LdaMulticore(corpus=corpus,\n",
        "                                       id2word=id2word,\n",
        "                                       num_topics=num_topics)\n",
        "# # print the keyword in the 10 topics\n",
        "# pprint(base_model.print_topics())\n",
        "# doc_lda = base_model[corpus]"
      ],
      "execution_count": 10,
      "outputs": []
    },
    {
      "cell_type": "code",
      "metadata": {
        "colab": {
          "base_uri": "https://localhost:8080/"
        },
        "id": "l8N7x_QGk4Om",
        "outputId": "a69d7bb9-0e80-469c-e3aa-90b35b3a8d01"
      },
      "source": [
        "# filtering for words \n",
        "words = [re.findall(r'\"([^\"]*)\"',t[1]) for t in base_model.print_topics()]\n",
        "\n",
        "# create topic sorted by 10 most relevent words\n",
        "topics = [' '.join(t[0:10]) for t in words]\n",
        "\n",
        "\n",
        "# print most relevent words for each topic\n",
        "for id, t in enumerate(topics): \n",
        "    print(f\"------ Topic {id} ------\")\n",
        "    print(t, end=\"\\n\\n\")"
      ],
      "execution_count": 11,
      "outputs": [
        {
          "output_type": "stream",
          "text": [
            "------ Topic 0 ------\n",
            "time life look problem try churchill winston robert day solve\n",
            "\n",
            "------ Topic 1 ------\n",
            "life way power person create failure success happen find jim\n",
            "\n",
            "------ Topic 2 ------\n",
            "change thought dyer mind body peace feel franklin result lincoln\n",
            "\n",
            "------ Topic 3 ------\n",
            "dyer day think control george moment ability miracle define life\n",
            "\n",
            "------ Topic 4 ------\n",
            "man opportunity eye ralph napoleon person character word care time\n",
            "\n",
            "------ Topic 5 ------\n",
            "world life go abundance habit think henry hold build jung\n",
            "\n",
            "------ Topic 6 ------\n",
            "thing dyer amp today life peale energy experience ask learn\n",
            "\n",
            "------ Topic 7 ------\n",
            "come work let heart place step love courage respect get\n",
            "\n",
            "------ Topic 8 ------\n",
            "choice dream reality act desire edison matter woman stop presence\n",
            "\n",
            "------ Topic 9 ------\n",
            "love einstein strength john fall treat judge proverb trust albert\n",
            "\n"
          ],
          "name": "stdout"
        }
      ]
    },
    {
      "cell_type": "code",
      "metadata": {
        "colab": {
          "base_uri": "https://localhost:8080/"
        },
        "id": "PBmHOCLAk5aZ",
        "outputId": "2903fbc5-9756-4f44-a48c-b8705205ddfb"
      },
      "source": [
        "# Compute Perplexity\n",
        "## a measure of how good the model is. lower the better\n",
        "base_perplexity = base_model.log_perplexity(corpus)\n",
        "print('\\nPerplexity: ', base_perplexity) \n",
        "\n",
        "# Compute Coherence Score\n",
        "coherence_model = CoherenceModel(model=base_model, texts=tweets_cleaned['nouns_verbs'], \n",
        "                                   dictionary=id2word, coherence='c_v')\n",
        "coherence_lda_model_base = coherence_model.get_coherence()\n",
        "print('\\nCoherence Score: ', coherence_lda_model_base)"
      ],
      "execution_count": 12,
      "outputs": [
        {
          "output_type": "stream",
          "text": [
            "\n",
            "Perplexity:  -7.0271661492609825\n",
            "\n",
            "Coherence Score:  0.5652556573583163\n"
          ],
          "name": "stdout"
        }
      ]
    },
    {
      "cell_type": "code",
      "metadata": {
        "colab": {
          "base_uri": "https://localhost:8080/",
          "height": 881
        },
        "id": "3yKtvh9Qlvgu",
        "outputId": "e0eae2bc-c4c1-4810-9bbc-e71eced44ca8"
      },
      "source": [
        "# topic distance visualization \n",
        "pyLDAvis.enable_notebook()\n",
        "pyLDAvis.gensim.prepare(base_model, corpus, id2word)"
      ],
      "execution_count": 13,
      "outputs": [
        {
          "output_type": "execute_result",
          "data": {
            "text/html": [
              "\n",
              "<link rel=\"stylesheet\" type=\"text/css\" href=\"https://cdn.rawgit.com/bmabey/pyLDAvis/files/ldavis.v1.0.0.css\">\n",
              "\n",
              "\n",
              "<div id=\"ldavis_el741402865986207686561930046\"></div>\n",
              "<script type=\"text/javascript\">\n",
              "\n",
              "var ldavis_el741402865986207686561930046_data = {\"mdsDat\": {\"x\": [-0.08171495909364734, 0.253952122657906, -0.1360999788542416, 0.21616526948088585, -0.08470344825356811, -0.1664004331154243, -0.050918786724578634, -0.13087845914024418, 0.28562461138259815, -0.10502593833968649], \"y\": [-0.1333433139849951, 0.03114244159062589, -0.1975421602607793, -0.10632955122256274, -0.017647933887454288, -0.2072107808658742, 0.18010029116775478, 0.18638998674321944, 0.006803328564803679, 0.25763769215526183], \"topics\": [1, 2, 3, 4, 5, 6, 7, 8, 9, 10], \"cluster\": [1, 1, 1, 1, 1, 1, 1, 1, 1, 1], \"Freq\": [11.502454387313326, 10.965267707665665, 10.561948689461454, 10.521988986774232, 10.071324462768356, 9.963172398629004, 9.825359050048592, 9.552783457630586, 9.301171713010383, 7.734529146698402]}, \"tinfo\": {\"Term\": [\"dyer\", \"man\", \"thing\", \"world\", \"time\", \"amp\", \"change\", \"way\", \"love\", \"thought\", \"life\", \"power\", \"choice\", \"person\", \"day\", \"look\", \"create\", \"dream\", \"work\", \"come\", \"mind\", \"einstein\", \"heart\", \"strength\", \"reality\", \"place\", \"john\", \"body\", \"problem\", \"failure\", \"kill\", \"lose\", \"anger\", \"jump\", \"jonathan\", \"saying\", \"shine\", \"denis\", \"road\", \"bite\", \"louise\", \"hay\", \"stephen\", \"aim\", \"complain\", \"rain\", \"gain\", \"perspiration\", \"universe\", \"hurry\", \"elliot\", \"waitley\", \"shadow\", \"strategy\", \"till\", \"clement\", \"harder\", \"travel\", \"wadsworth\", \"longfellow\", \"place\", \"work\", \"come\", \"courage\", \"achievement\", \"greatness\", \"idea\", \"confuciu\", \"honor\", \"need\", \"respect\", \"effort\", \"lesson\", \"dance\", \"self\", \"win\", \"god\", \"let\", \"step\", \"truth\", \"heart\", \"spirit\", \"reason\", \"end\", \"get\", \"love\", \"success\", \"peale\", \"william\", \"defeat\", \"peter\", \"kennedy\", \"avoid\", \"inspiring\", \"inspire\", \"lewis\", \"pocket\", \"lady\", \"rice\", \"teacher\", \"solution\", \"rate\", \"celebrate\", \"nietzsche\", \"course\", \"ease\", \"comfort\", \"accomplish\", \"scott\", \"bright\", \"tension\", \"hack\", \"player\", \"jerry\", \"inquire\", \"shade\", \"donald\", \"energy\", \"today\", \"tomorrow\", \"goal\", \"use\", \"patience\", \"drucker\", \"gilbert\", \"tracy\", \"tell\", \"amp\", \"vincent\", \"decision\", \"know\", \"difference\", \"thing\", \"dare\", \"experience\", \"fear\", \"harry\", \"harm\", \"choose\", \"lead\", \"ask\", \"learn\", \"dyer\", \"wisdom\", \"passion\", \"life\", \"way\", \"future\", \"ralph\", \"bonaparte\", \"fight\", \"speak\", \"character\", \"victory\", \"gandhi\", \"monroe\", \"mahatma\", \"word\", \"yogi\", \"faith\", \"strike\", \"truman\", \"discover\", \"ruth\", \"winfrey\", \"eye\", \"enthusiasm\", \"impossibility\", \"understand\", \"case\", \"smile\", \"content\", \"endure\", \"twain\", \"oprah\", \"frederick\", \"worry\", \"jack\", \"man\", \"waldo\", \"waste\", \"fortune\", \"emerson\", \"silence\", \"earth\", \"care\", \"napoleon\", \"opportunity\", \"difficulty\", \"carnegie\", \"bhajan\", \"person\", \"get\", \"look\", \"time\", \"way\", \"action\", \"moment\", \"franklin\", \"enemy\", \"lama\", \"feeling\", \"dalai\", \"understanding\", \"wind\", \"state\", \"fact\", \"jefferson\", \"repeat\", \"helen\", \"breath\", \"coco\", \"pickford\", \"discourage\", \"sail\", \"judgment\", \"soul\", \"position\", \"generate\", \"jr\", \"train\", \"survival\", \"attention\", \"tooth\", \"theory\", \"garage\", \"behavior\", \"mountain\", \"thought\", \"change\", \"body\", \"result\", \"abraham\", \"conflict\", \"frustration\", \"destroy\", \"help\", \"remember\", \"louisa\", \"refuse\", \"hope\", \"mind\", \"lincoln\", \"feel\", \"thomas\", \"peace\", \"benjamin\", \"heart\", \"mean\", \"dyer\", \"action\", \"get\", \"learn\", \"life\", \"winston\", \"churchill\", \"bind\", \"climb\", \"seneca\", \"brault\", \"history\", \"fuller\", \"game\", \"accept\", \"michael\", \"solve\", \"maya\", \"dig\", \"lengthen\", \"shakespeare\", \"sea\", \"stevenson\", \"mandela\", \"letter\", \"sort\", \"bridge\", \"reap\", \"harvest\", \"seed\", \"van\", \"gogh\", \"ship\", \"anjelou\", \"chesterton\", \"forget\", \"problem\", \"kind\", \"living\", \"guidance\", \"robert\", \"blessing\", \"meet\", \"nature\", \"hand\", \"time\", \"play\", \"look\", \"cruelty\", \"try\", \"practice\", \"life\", \"day\", \"proverb\", \"thing\", \"einstein\", \"trust\", \"john\", \"albert\", \"fool\", \"tzu\", \"pessimist\", \"strength\", \"sun\", \"treat\", \"lao\", \"rise\", \"light\", \"fall\", \"excuses\", \"night\", \"door\", \"release\", \"buddha\", \"hate\", \"wise\", \"imagination\", \"force\", \"martin\", \"determine\", \"teach\", \"confucius\", \"beauty\", \"dawn\", \"king\", \"talk\", \"eleanor\", \"break\", \"stone\", \"deserve\", \"judge\", \"love\", \"proverb\", \"lie\", \"obstacle\", \"leader\", \"unk\", \"passion\", \"start\", \"time\", \"jim\", \"rohn\", \"child\", \"risk\", \"danger\", \"search\", \"optimism\", \"shut\", \"speed\", \"giving\", \"consequence\", \"hubbard\", \"genius\", \"find\", \"attract\", \"mouth\", \"ruskin\", \"glasgow\", \"bittersweet\", \"sweeten\", \"imitation\", \"ambition\", \"design\", \"intend\", \"point\", \"ambrose\", \"bierce\", \"shot\", \"gretzky\", \"bill\", \"create\", \"failure\", \"happen\", \"answer\", \"acquire\", \"improve\", \"weakness\", \"capacity\", \"imagine\", \"power\", \"discouragement\", \"limit\", \"uncomplicated\", \"fail\", \"way\", \"person\", \"question\", \"happiness\", \"succeed\", \"life\", \"success\", \"allow\", \"begin\", \"choice\", \"reality\", \"water\", \"presence\", \"hell\", \"percent\", \"voltaire\", \"ego\", \"attempt\", \"thoreau\", \"ppl\", \"hang\", \"cash\", \"norman\", \"finger\", \"andrew\", \"determination\", \"tagore\", \"spell\", \"thatcher\", \"bach\", \"meaning\", \"ninety\", \"heal\", \"opinion\", \"woman\", \"fantasy\", \"ephesus\", \"heraclitus\", \"rule\", \"dream\", \"edison\", \"stop\", \"asset\", \"joy\", \"dwell\", \"desire\", \"perception\", \"david\", \"value\", \"act\", \"matter\", \"roosevelt\", \"peace\", \"life\", \"let\", \"try\", \"henry\", \"success\", \"george\", \"stand\", \"storm\", \"eliot\", \"consent\", \"stuff\", \"intent\", \"chain\", \"hoffer\", \"control\", \"race\", \"victor\", \"prevent\", \"wait\", \"detach\", \"fire\", \"meditate\", \"criticize\", \"benefit\", \"count\", \"cast\", \"childhood\", \"buffett\", \"react\", \"weather\", \"impact\", \"enlightenment\", \"situation\", \"arise\", \"expert\", \"define\", \"suit\", \"relationship\", \"pass\", \"send\", \"grow\", \"decide\", \"miracle\", \"push\", \"bring\", \"doubt\", \"path\", \"dyer\", \"shift\", \"day\", \"loving\", \"ability\", \"thinking\", \"think\", \"moment\", \"life\", \"matter\", \"habit\", \"go\", \"hold\", \"jung\", \"communication\", \"journey\", \"dr\", \"build\", \"speech\", \"slip\", \"carl\", \"ground\", \"version\", \"trouble\", \"perfection\", \"nader\", \"thirsty\", \"sorrow\", \"summit\", \"credit\", \"hugo\", \"praise\", \"activity\", \"explain\", \"adversity\", \"encourage\", \"bee\", \"round\", \"lifetime\", \"catch\", \"world\", \"abundance\", \"expectation\", \"pull\", \"quality\", \"book\", \"chance\", \"royce\", \"cornerstone\", \"rearview\", \"vision\", \"business\", \"having\", \"tune\", \"ignorance\", \"form\", \"henry\", \"pain\", \"think\", \"reputation\", \"life\", \"job\"], \"Freq\": [112346.0, 34889.0, 35276.0, 24529.0, 35716.0, 26260.0, 19589.0, 29135.0, 25493.0, 16603.0, 64609.0, 16451.0, 12856.0, 16855.0, 15825.0, 15225.0, 10581.0, 9728.0, 10220.0, 10287.0, 11379.0, 8561.0, 17276.0, 8521.0, 8342.0, 8880.0, 8217.0, 8332.0, 8169.0, 8005.0, 4691.781052036941, 4133.59141623851, 3423.3018413528685, 3247.171704300305, 3007.187264128835, 2797.9637985136087, 2748.366959226313, 2775.549281493597, 2507.956285631341, 2685.25201056006, 2289.064066807388, 2289.064066807388, 2043.961585355098, 3445.5045671970006, 1966.2847414521273, 1665.3206436212913, 1644.7490633076652, 1464.577367383534, 1415.7229754659252, 1391.7549304047598, 1343.945502599019, 1372.3028387753209, 1275.9415357941527, 1403.944852840683, 1223.127841869878, 1348.0836783074276, 1191.854032213208, 1138.7306783812232, 1145.5656568197742, 1145.5704434770873, 8868.443547186615, 10151.492164477342, 10190.341558920207, 5909.350259230558, 3783.963067246714, 3030.9629592068995, 3072.2354332224845, 2192.204362338614, 2393.421885854767, 2540.4858196034147, 5744.298067299668, 2147.1072754890624, 2818.23948976441, 3025.8938154715543, 3678.182359082385, 3966.4245527476196, 3407.2940810440987, 9753.219889207945, 6453.37021112841, 4175.588516530402, 9179.087297076676, 3757.767532794725, 4029.8885591933126, 3768.0748997298874, 4919.819173809278, 6278.965038089687, 3788.0489579290884, 6228.799596721345, 3757.4895951747344, 3352.8713612613483, 2723.3535208953867, 1930.1164442911006, 2323.558706164096, 1708.8249249940666, 2562.815405004292, 1534.8420581558025, 1935.1327777759318, 1519.0615558692448, 1515.9257858275346, 1575.3057629530047, 1522.9532579385618, 1292.3845824892037, 1287.616482255637, 1244.9015489794888, 1290.9996431280758, 1042.4161555256449, 1185.687949909872, 1039.3719285155096, 969.1201633648436, 917.3002787342651, 881.363250485364, 870.9299423491383, 871.5557906056496, 870.5530995627163, 839.1191600871092, 843.9223611763412, 800.4008102370055, 6224.552673992695, 7003.9483599807945, 3724.569485470261, 4632.091157228168, 3314.877352668753, 1903.3714175186794, 1692.6218084052994, 1295.4779506972704, 1361.9761005448065, 1220.0754157845752, 25056.556552820446, 4450.015717914572, 3937.1225765477216, 3274.6947355237176, 4087.754388549548, 31505.865340967757, 1394.8952274253213, 5473.155115324266, 4930.36559236337, 1686.4618890428944, 2865.8607484415134, 2966.2351553018443, 2279.2285719136557, 5252.775095047147, 5109.239552833452, 28766.439559473525, 3598.009278669968, 3480.4449999664084, 6910.626136233879, 4405.553323639984, 2210.5896910808074, 4954.285898575779, 3748.0106205636803, 3780.313579154219, 3828.9328735929666, 4590.4541129592635, 2927.406361398517, 2880.10835368841, 2874.455085742594, 2654.4874875412343, 4530.747099612195, 2066.5937377346604, 2149.0728641334563, 2000.3681962074006, 1901.8556543121176, 2754.5807049006266, 1691.9602640625433, 1647.2852201295068, 5457.268515919981, 1484.3180936886984, 1451.7673769316425, 1537.2789713259656, 1434.2060292488527, 2030.047379585826, 1417.0859669903773, 1323.5599639137663, 1299.585033649703, 1434.6991112767566, 1187.4217200230491, 1770.6970520422055, 1150.5902776957116, 34310.70205509301, 2951.614984955015, 3251.73667767812, 2125.1134863743873, 3407.3875000521207, 2326.9403722721286, 1783.8044327729956, 4494.033180126944, 4914.129060202327, 6850.018869769603, 3861.318057601214, 3030.461587143854, 2983.718871481628, 4632.015815870803, 3920.014293362832, 3849.262026208034, 4250.928323104427, 3527.7728144929424, 2463.8805844638528, 2306.5822784738543, 6295.11348716019, 3725.6517613827973, 3400.5760941216004, 4328.104166579163, 3285.9200150545607, 2426.40400877859, 2145.74530858384, 2158.5663830710528, 3155.817695875188, 1662.8437677933007, 1546.7937978585423, 1971.3732795116543, 1481.6360688046798, 1344.7867304135846, 1342.8983895666927, 1322.6314642486918, 1481.564932676886, 1510.9900955382889, 4813.789851462241, 978.7768697062735, 847.4716359113559, 824.0960079177569, 885.8400785663595, 760.566191424753, 1754.9887653289636, 717.6203140919829, 722.6957016643065, 1299.8264072801062, 697.0845400182762, 1773.3448503051075, 16580.553094091636, 19516.410068632315, 8291.667473908212, 6276.007508836886, 4735.726573769411, 2145.160995352321, 3061.107755913503, 1544.9464141761378, 2493.216730623778, 2724.5961477443525, 1470.970634553645, 2894.880409291171, 2314.9991740977657, 9265.794290806263, 6194.325989007631, 6659.45279404822, 4182.611384478568, 6952.893632478417, 3066.746910771344, 6058.530354509482, 2807.7917353844928, 12410.152333730899, 3462.398778275066, 4308.822234121581, 2793.873305289551, 2903.495425495056, 6642.882823484782, 6743.210366033368, 4055.7279344487283, 3483.497334662371, 3165.2540656282154, 2822.2249963121503, 3712.9854076672177, 2665.8204865489242, 2855.7509886831467, 3188.446988598327, 2519.5914606882816, 4479.401575956003, 2073.6134101906787, 1880.1346552039536, 1822.1398389461579, 1716.793159589567, 1714.508556735308, 1644.4499386930754, 1652.0073368456492, 2078.710566005617, 1572.912570316129, 1495.7738241124948, 1434.798294918746, 1431.5147908616707, 1429.9898739079783, 1413.1037237528585, 1413.1003708699159, 1409.7410400755239, 1389.8321369906325, 1394.5955519957477, 4299.198045152276, 8094.638839713769, 3345.037970235975, 3053.3843525068364, 2065.883725437671, 5998.879121859208, 1882.1101480423142, 2065.8585788156015, 2048.889638243207, 2538.8166335669594, 28773.58307518305, 3816.760745537065, 11337.274348687846, 2025.0934542575037, 7402.195780302677, 4159.850682574242, 12486.242338763534, 5142.539922620806, 2779.23871576163, 3223.3915083681068, 8560.499871930147, 4981.084746512787, 8216.200319867905, 4737.681039855497, 4102.185146546479, 3824.0363813083572, 3638.1200322567233, 8519.241486266737, 2809.6706512927876, 6029.00171430774, 2494.9377464016297, 2715.474388406417, 2390.5502494327043, 6111.673103160888, 2623.5055364190953, 2263.2673667792264, 2385.9683657070323, 2832.1129004645436, 1613.5117062609368, 1684.0696028742063, 1548.7940657163067, 1452.5727214661617, 2021.6113994871698, 2571.801282529114, 1985.7976684492169, 1835.3009798589517, 1385.0180024001147, 2270.0246119396397, 1327.6968713924807, 3447.6202686128204, 3457.5601854289876, 2714.7245189181804, 2292.9416849009867, 1971.6134239920787, 1865.046865994135, 5801.9838934189165, 17176.535501698847, 5716.362014343936, 3916.6765182985882, 2844.5573150338682, 2943.9317341855535, 2588.090978846384, 2804.0383379369455, 2370.419098533982, 2600.4573192192474, 6001.083020059544, 4940.53449357108, 3438.0998477956605, 2943.2197921680286, 2268.8668884769336, 2046.1652901677148, 1521.5728756687147, 1499.2683200393085, 1487.501409183292, 1506.6044129479271, 1452.7066747919214, 1520.6860578797027, 1870.7348919831743, 7029.664841250011, 5421.806444082206, 1082.2767574914742, 1035.2447176188757, 1030.66450314368, 1026.9551288919963, 1026.9551288919963, 1021.4402268350918, 958.0691762216331, 821.3387062132149, 787.5515020053172, 1832.4123866141217, 759.9859240605622, 759.9859240605622, 760.8378931437212, 760.8181413501512, 696.0104308215812, 10557.091609331732, 7949.48297082073, 7227.38708849612, 3686.592507818394, 2260.5552834196415, 2670.1928883793225, 2041.8002695963496, 1500.557218925452, 1205.5031652705359, 15317.538558894235, 1754.1274737792985, 4153.384758143889, 1482.0909274363437, 2903.710166263139, 20864.627232785613, 12069.23055032253, 5070.37146181597, 5660.886179296618, 4938.005760763712, 25271.315282051146, 7605.417294670135, 2571.4515335937117, 2595.6299934602193, 12855.51419409445, 8341.024013471395, 3748.432189253536, 4784.352302435466, 3080.362945052583, 2958.743935959816, 2704.262253899733, 2509.214861389172, 2422.119460942169, 2300.134967333648, 1892.3043979031142, 1955.9079997699034, 1790.5584258783163, 1761.026225075383, 1720.951850925963, 1683.8291189618385, 1790.6066189503401, 1992.6480004589962, 1565.1638314508757, 1527.5230851212164, 1571.912696295834, 2281.513849281323, 1330.4881565007188, 1307.4872178139863, 1764.8693167756774, 5806.491154097655, 1490.9948159236799, 1031.4081897105038, 1031.4081897105038, 3435.3159290776666, 9717.829137075358, 6289.984112700915, 5087.86297391583, 2780.1316041837895, 2844.9238869488713, 2551.386001123952, 6479.653941205246, 1838.1670651657525, 4507.067468991855, 3686.322572619485, 7706.570782498905, 5838.40622098205, 4606.465068453747, 4056.5522712063485, 4657.306068455146, 2764.2320492089507, 2535.0955196054892, 2147.1483842254675, 2164.5345853865433, 3448.7983428260336, 2302.8322671388137, 2356.4069959109434, 2020.111437492126, 1961.5539824039492, 1797.1558125289832, 2101.0407835171723, 1818.6147157527976, 1811.933208228947, 4044.5741558457435, 1571.053798002677, 1347.287369445681, 1343.5184666062141, 2041.4926903130033, 1304.937054056324, 1600.0153736709674, 1298.6083080255692, 1474.1257297713557, 1460.4300804055536, 1212.3840858284996, 1160.7364447402922, 1101.4808505999463, 1046.9709823126962, 974.4809369436217, 978.4515879158719, 1581.4075026494538, 973.9813304400648, 908.1734476212459, 675.0031027049265, 663.2089949932465, 3008.667760472966, 2445.5456092280474, 1960.5139195682966, 2050.8869599198147, 2422.498445615333, 1841.798720336331, 1626.889558829641, 3020.166927658768, 1752.327115413996, 2380.245193229647, 1770.160745224634, 2315.2046440705226, 71122.73848715628, 1451.3889295789681, 10650.389210232383, 2278.746350743257, 3117.3761808614595, 1979.1395358506043, 4512.542645843011, 3264.199515903673, 2753.5399776906656, 1995.2137647370355, 4888.364490057128, 5906.306227181789, 4413.814513817335, 3491.027984650353, 3129.1360162932788, 2838.366627696333, 2271.2757912820643, 4155.483518341313, 2103.43204905452, 2041.7188632970508, 2007.549918120527, 1907.7220017339089, 1743.2706327530448, 1579.1677708503341, 1521.1180194003314, 1176.6590307096724, 1174.3132680915587, 1174.544417713727, 1181.392051957763, 1194.5861991569873, 1138.7243472155283, 1111.1771355597477, 1053.8782737563945, 947.216489105809, 1087.2036317514146, 872.7182731539045, 872.182489325314, 868.5587683848098, 874.9205328574845, 860.427926919508, 24167.55936311405, 5038.551926826488, 2994.1141339120386, 2239.943232214752, 1917.2288469911584, 2271.4956508198593, 1626.0712379490972, 1438.9790902950833, 1716.4101355274763, 1422.152110859194, 3482.7188786949473, 3235.2713264830904, 1679.6981483637903, 1648.1092845740395, 1845.4710514312926, 3313.0847667717912, 4426.624600076212, 1948.716694236517, 4641.525215899837, 1917.6830252976124, 6413.77214730433, 1968.526236663503], \"Total\": [112346.0, 34889.0, 35276.0, 24529.0, 35716.0, 26260.0, 19589.0, 29135.0, 25493.0, 16603.0, 64609.0, 16451.0, 12856.0, 16855.0, 15825.0, 15225.0, 10581.0, 9728.0, 10220.0, 10287.0, 11379.0, 8561.0, 17276.0, 8521.0, 8342.0, 8880.0, 8217.0, 8332.0, 8169.0, 8005.0, 4692.819853561994, 4134.547067368723, 3424.18503859164, 3248.045533034156, 3008.0616657164314, 2798.8425984948826, 2749.2406990518507, 2776.453534727511, 2508.8601952899744, 2686.2474325400026, 2289.94128309801, 2289.944536100186, 2044.8925600707662, 3447.228160628098, 1967.2815903207709, 1666.1943274344667, 1645.6289575278358, 1465.4743030523487, 1416.6005059874276, 1392.6398295101471, 1344.8192278938834, 1373.2070641137589, 1276.8152823356834, 1404.9106364444128, 1224.0027051211018, 1349.0725768117964, 1192.7538986344591, 1139.6043755146138, 1146.4446856437626, 1146.4510528283665, 8880.231079293955, 10220.686109512177, 10287.958627952417, 5952.597977392272, 3797.9387011615936, 3037.5616638334623, 3082.1220579947953, 2194.029597135217, 2397.572377719497, 2546.6025916712592, 5874.368542008242, 2158.9110686448535, 2877.77814163921, 3147.1915068659937, 3921.2252398351766, 4267.773682292462, 3859.799741020249, 14828.534893998063, 9295.854855682624, 5259.603406865697, 17276.89100813777, 4840.343024583908, 5948.110896515113, 5925.940747458318, 13160.25911350465, 25493.04338741434, 13976.93249103023, 6229.735798926363, 3758.3711918352546, 3353.756235665464, 2724.2350240143537, 1930.9990507411624, 2324.7464537459355, 1709.7523169711608, 2564.21194313337, 1535.7237349765758, 1936.2517743402498, 1519.9431473275608, 1516.809122206635, 1576.226614265458, 1523.8454093894002, 1293.2695347143003, 1288.502793875356, 1245.783060183384, 1291.9215291206879, 1043.2977053720251, 1186.75436900551, 1040.3357852092838, 970.0192903285711, 918.1835897239952, 882.2448455626803, 871.8116309260894, 872.439166984192, 871.4355513001191, 840.001057286696, 844.8257702916744, 801.284945769644, 6233.360711665511, 7039.523857527459, 3733.32301409379, 4669.219655916715, 3338.891425268231, 1907.0139886496438, 1696.6043256631829, 1296.914261365841, 1364.799282957803, 1221.593949294118, 26260.61010404626, 4524.844031577398, 3995.5240219541292, 3318.0324851390824, 4169.552797194741, 35276.09900186281, 1401.1259578494657, 5923.822088299682, 5329.61204949862, 1715.738991312894, 3069.7086178757263, 3216.59410351679, 2515.240722222549, 7263.56783970723, 8228.399393126583, 112346.27796960843, 5647.744145744246, 6291.87269199845, 64609.428396986375, 29135.523339168485, 3342.4209042437124, 4955.254588862844, 3748.882111087048, 3781.212866575552, 3829.8603677915416, 4591.610167226989, 2928.280001093749, 2880.9809724251436, 2875.3272080029283, 2655.3599125919295, 4532.62088832811, 2067.465244849768, 2150.003797326437, 2001.2397992878498, 1902.7288500510897, 2755.9893577995526, 1692.831746448738, 1648.1612295798568, 5460.255635022935, 1485.1934483231137, 1452.639032745453, 1538.206343442208, 1435.0867316873641, 2031.3026482394534, 1417.9785547744073, 1324.4337518128136, 1300.4683259335454, 1435.7179069375923, 1188.2942115051642, 1772.0679368111626, 1151.4828016763415, 34889.78416671293, 2965.224718954922, 3270.1486073310457, 2128.659679097049, 3431.8912677818603, 2344.045333418229, 1793.0200401555733, 4776.064213566172, 5370.642974540967, 7687.914482879612, 4152.387322185167, 3431.705067560501, 4360.290917624262, 16855.021260636022, 13160.25911350465, 15225.387937474863, 35716.14748435914, 29135.523339168485, 7277.9543602485855, 6745.6960943097765, 6296.187902829158, 3726.531799665013, 3401.523552200032, 4329.4783767120525, 3287.022611422043, 2427.431365648889, 2146.6825175403887, 2159.540038269875, 3157.4176160809147, 1663.7331084087602, 1547.686079522407, 1972.6249990067993, 1482.5813957928865, 1345.666910136584, 1343.7785237838536, 1323.5118963202713, 1482.598790623319, 1512.0726170455148, 4817.831133483479, 979.6637063891305, 848.3680149788873, 824.9773068892235, 886.8228818073669, 761.4468220297811, 1757.0856813811117, 718.500485867178, 723.583209457734, 1301.4773335939167, 698.0121110128559, 1775.7058298055535, 16603.15492067976, 19589.933017355066, 8332.41702655139, 6303.669317410957, 4744.851779169529, 2151.137796440643, 3086.3208277728395, 1549.065264276864, 2511.9850504494216, 2748.6294770350546, 1474.6569032705129, 2973.7451499108515, 2424.3354176057705, 11379.146026041153, 7985.765205644957, 9603.90894084624, 5614.027724033301, 11094.619683456855, 4156.274385175603, 17276.89100813777, 4425.407016340288, 112346.27796960843, 7277.9543602485855, 13160.25911350465, 8228.399393126583, 64609.428396986375, 6643.7774357345825, 6744.18932136662, 4056.602269568652, 3484.386438654436, 3166.1283795732525, 2823.1100156684256, 3714.176989011154, 2666.694917814639, 2856.8183327234647, 3189.701200623282, 2520.5861624347845, 4481.261273333242, 2074.4901442324585, 1881.0180929603844, 1823.026031402319, 1717.6676809747091, 1715.3951118175953, 1645.32424933849, 1652.8864307651772, 2079.841621635702, 1573.7879067293907, 1496.6621060212685, 1435.6735534573097, 1432.3900492916173, 1430.866416500265, 1413.978139082611, 1413.9747859189022, 1410.6155059492123, 1390.7123759806457, 1395.5008508058943, 4302.99541247597, 8169.105844410122, 3355.1035905828217, 3074.667066174538, 2078.113930282117, 6228.472676541913, 1898.1427171084028, 2091.147682763624, 2079.1142464071354, 2623.957997677038, 35716.14748435914, 4117.14791260833, 15225.387937474863, 2090.2207943144263, 9942.45897145649, 5062.168503330231, 64609.428396986375, 15825.284706902377, 8518.112619446623, 35276.09900186281, 8561.56354685093, 4981.9826001874135, 8217.689652978957, 4738.572481182358, 4103.064304248214, 3824.941818220493, 3639.0664060541894, 8521.611389121306, 2810.551623600008, 6031.100492154671, 2495.816862085984, 2716.4657536318496, 2391.451438142675, 6114.226164168397, 2624.641598507198, 2264.28344285072, 2387.0633244719565, 2833.4598175877354, 1614.3914664383035, 1685.0258096765745, 1549.678160950231, 1453.4518737781227, 2022.8444427808615, 2573.3921352654816, 1987.0414477725892, 1836.471672656491, 1385.9025799268331, 2271.4806762015182, 1328.5763443348735, 3449.911910457344, 3461.8937790474165, 2717.3059553593225, 2298.492485463451, 1973.4971427169407, 1867.9901921276175, 6379.503781696509, 25493.04338741434, 8518.112619446623, 5209.621677058573, 3603.669064637046, 4263.927166948253, 3335.0214917692792, 6291.87269199845, 3548.846661009156, 35716.14748435914, 6002.1382922877765, 4941.539955387973, 3439.051308726601, 2944.1616109522215, 2269.737388712013, 2047.0317757550968, 1522.4504735638343, 1500.1355853519367, 1488.367941647519, 1507.4829848469524, 1453.5722436694346, 1521.5984534567394, 1872.0110930425783, 7034.71086721065, 5425.882597734486, 1083.1434948856495, 1036.1104280996674, 1031.5316292395505, 1027.8207651169105, 1027.8207651169105, 1022.3057797076763, 958.9572119115616, 822.2141930022082, 788.4326080445367, 1834.485729516822, 760.8541875316826, 760.8541875316826, 761.7095406287693, 761.6933175946622, 696.8760199579843, 10581.2716316626, 8005.871754778807, 7285.737890154455, 3695.824262090366, 2267.3268848116722, 2686.7018376921455, 2052.9318054939517, 1507.2227243899756, 1209.7110626265642, 16451.813904723796, 1780.510994214817, 4340.200634947776, 1504.1874357783886, 3143.876023797884, 29135.523339168485, 16855.021260636022, 6463.5466016756845, 7674.5697529987465, 6890.333705295989, 64609.428396986375, 13976.93249103023, 3530.604358068612, 4026.2694890753232, 12856.852524197335, 8342.354253823252, 3749.2973117987417, 4785.590491541419, 3081.242316703692, 2959.6103626370386, 2705.1286803958337, 2510.1081737958434, 2422.984619165247, 2301.0375249526387, 1893.1697081767209, 1956.8581495603112, 1791.4285360195263, 1761.8928442531987, 1721.823335596839, 1684.6942873334597, 1791.536133580181, 1993.7162086106691, 1566.031904245664, 1528.4085626192316, 1572.8445141610373, 2282.931949450948, 1331.3561785603426, 1308.352350712177, 1766.0507977602522, 5810.379060181553, 1492.2034517518548, 1032.2733762249404, 1032.2733762249404, 3438.2627724217823, 9728.41902551678, 6323.101292671722, 5110.02055894822, 2783.7457860921168, 2849.604287749594, 2555.5640422363385, 6575.578985922234, 1841.9907852124068, 4877.250046877343, 3925.0644078083365, 11507.037395070833, 8150.831425202361, 6563.972770485849, 11094.619683456855, 64609.428396986375, 14828.534893998063, 9942.45897145649, 6574.695766527069, 13976.93249103023, 3449.701310861283, 2303.742989933654, 2357.367987254903, 2021.014392740151, 1962.5204150350962, 1798.0658413015926, 2102.1142630156533, 1819.5505539703602, 1812.9104384746088, 4046.9017728344247, 1572.0609883795578, 1348.1984190373314, 1344.4270169451104, 2042.8982959916866, 1305.8420483859456, 1601.1279828697861, 1299.5137127522642, 1475.156413816226, 1461.532355054331, 1213.3376928424773, 1161.6846474352435, 1102.399223332624, 1047.8739507285263, 975.4078464568461, 979.4208942782955, 1583.0261539406795, 975.0111347293749, 909.1893132335127, 675.9060575562479, 664.1168707558687, 3015.4800308836034, 2449.7663467493853, 1965.1980572091798, 2058.8630628667647, 2438.1468105473614, 1849.9608551567128, 1633.4763816187985, 3070.46016957542, 1762.3272817643794, 2412.7570908048324, 1785.4731394413352, 2383.053723825438, 112346.27796960843, 1468.9910491206585, 15825.284706902377, 2531.8953489755972, 3961.220172889459, 2250.764394830922, 9168.830043668699, 6745.6960943097765, 64609.428396986375, 8150.831425202361, 4889.43774620125, 5907.695824850598, 4414.884922030809, 3491.879401294105, 3129.986166936801, 2839.2847279492116, 2272.126087037374, 4157.092621724474, 2104.284526223348, 2042.5689121763717, 2008.4148882219224, 1908.5720594179552, 1744.1259754742127, 1580.0178193717095, 1522.0276154080107, 1177.5091812212559, 1175.1668443798885, 1175.3983268626516, 1182.2559572748244, 1195.4688216250413, 1139.5750681784205, 1112.0296316845725, 1054.7868956966104, 948.0665463994843, 1088.2287558062244, 873.5722469906933, 873.036377920997, 869.4497868456893, 875.8398931722193, 861.4008730018824, 24529.370470196096, 5046.521086763109, 3006.5687253238025, 2248.697360514585, 1922.7385139069138, 2283.8025563541187, 1631.5437365727346, 1442.346676303774, 1731.9948321750296, 1439.2846368270311, 3756.8197818335816, 3485.4575547687728, 1723.049931127229, 1716.046694892132, 1986.632320500213, 4158.929554444361, 6574.695766527069, 2203.4777739603674, 9168.830043668699, 2210.4667393464215, 64609.428396986375, 2940.362106988534], \"Category\": [\"Default\", \"Default\", \"Default\", \"Default\", \"Default\", \"Default\", \"Default\", \"Default\", \"Default\", \"Default\", \"Default\", \"Default\", \"Default\", \"Default\", \"Default\", \"Default\", \"Default\", \"Default\", \"Default\", \"Default\", \"Default\", \"Default\", \"Default\", \"Default\", \"Default\", \"Default\", \"Default\", \"Default\", \"Default\", \"Default\", \"Topic1\", \"Topic1\", \"Topic1\", \"Topic1\", \"Topic1\", \"Topic1\", \"Topic1\", \"Topic1\", \"Topic1\", \"Topic1\", \"Topic1\", \"Topic1\", \"Topic1\", \"Topic1\", \"Topic1\", \"Topic1\", \"Topic1\", \"Topic1\", \"Topic1\", \"Topic1\", \"Topic1\", \"Topic1\", \"Topic1\", \"Topic1\", \"Topic1\", \"Topic1\", \"Topic1\", \"Topic1\", \"Topic1\", \"Topic1\", \"Topic1\", \"Topic1\", \"Topic1\", \"Topic1\", \"Topic1\", \"Topic1\", \"Topic1\", \"Topic1\", \"Topic1\", \"Topic1\", \"Topic1\", \"Topic1\", \"Topic1\", \"Topic1\", \"Topic1\", \"Topic1\", \"Topic1\", \"Topic1\", \"Topic1\", \"Topic1\", \"Topic1\", \"Topic1\", \"Topic1\", \"Topic1\", \"Topic1\", \"Topic1\", \"Topic1\", \"Topic2\", \"Topic2\", \"Topic2\", \"Topic2\", \"Topic2\", \"Topic2\", \"Topic2\", \"Topic2\", \"Topic2\", \"Topic2\", \"Topic2\", \"Topic2\", \"Topic2\", \"Topic2\", \"Topic2\", \"Topic2\", \"Topic2\", \"Topic2\", \"Topic2\", \"Topic2\", \"Topic2\", \"Topic2\", \"Topic2\", \"Topic2\", \"Topic2\", \"Topic2\", \"Topic2\", \"Topic2\", \"Topic2\", \"Topic2\", \"Topic2\", \"Topic2\", \"Topic2\", \"Topic2\", \"Topic2\", \"Topic2\", \"Topic2\", \"Topic2\", \"Topic2\", \"Topic2\", \"Topic2\", \"Topic2\", \"Topic2\", \"Topic2\", \"Topic2\", \"Topic2\", \"Topic2\", \"Topic2\", \"Topic2\", \"Topic2\", \"Topic2\", \"Topic2\", \"Topic2\", \"Topic2\", \"Topic2\", \"Topic2\", \"Topic2\", \"Topic2\", \"Topic2\", \"Topic2\", \"Topic2\", \"Topic3\", \"Topic3\", \"Topic3\", \"Topic3\", \"Topic3\", \"Topic3\", \"Topic3\", \"Topic3\", \"Topic3\", \"Topic3\", \"Topic3\", \"Topic3\", \"Topic3\", \"Topic3\", \"Topic3\", \"Topic3\", \"Topic3\", \"Topic3\", \"Topic3\", \"Topic3\", \"Topic3\", \"Topic3\", \"Topic3\", \"Topic3\", \"Topic3\", \"Topic3\", \"Topic3\", \"Topic3\", \"Topic3\", \"Topic3\", \"Topic3\", \"Topic3\", \"Topic3\", \"Topic3\", \"Topic3\", \"Topic3\", \"Topic3\", \"Topic3\", \"Topic3\", \"Topic3\", \"Topic3\", \"Topic3\", \"Topic3\", \"Topic3\", \"Topic3\", \"Topic3\", \"Topic3\", \"Topic3\", \"Topic3\", \"Topic3\", \"Topic4\", \"Topic4\", \"Topic4\", \"Topic4\", \"Topic4\", \"Topic4\", \"Topic4\", \"Topic4\", \"Topic4\", \"Topic4\", \"Topic4\", \"Topic4\", \"Topic4\", \"Topic4\", \"Topic4\", \"Topic4\", \"Topic4\", \"Topic4\", \"Topic4\", \"Topic4\", \"Topic4\", \"Topic4\", \"Topic4\", \"Topic4\", \"Topic4\", \"Topic4\", \"Topic4\", \"Topic4\", \"Topic4\", \"Topic4\", \"Topic4\", \"Topic4\", \"Topic4\", \"Topic4\", \"Topic4\", \"Topic4\", \"Topic4\", \"Topic4\", \"Topic4\", \"Topic4\", \"Topic4\", \"Topic4\", \"Topic4\", \"Topic4\", \"Topic4\", \"Topic4\", \"Topic4\", \"Topic4\", \"Topic4\", \"Topic4\", \"Topic4\", \"Topic4\", \"Topic4\", \"Topic4\", \"Topic4\", \"Topic4\", \"Topic5\", \"Topic5\", \"Topic5\", \"Topic5\", \"Topic5\", \"Topic5\", \"Topic5\", \"Topic5\", \"Topic5\", \"Topic5\", \"Topic5\", \"Topic5\", \"Topic5\", \"Topic5\", \"Topic5\", \"Topic5\", \"Topic5\", \"Topic5\", \"Topic5\", \"Topic5\", \"Topic5\", \"Topic5\", \"Topic5\", \"Topic5\", \"Topic5\", \"Topic5\", \"Topic5\", \"Topic5\", \"Topic5\", \"Topic5\", \"Topic5\", \"Topic5\", \"Topic5\", \"Topic5\", \"Topic5\", \"Topic5\", \"Topic5\", \"Topic5\", \"Topic5\", \"Topic5\", \"Topic5\", \"Topic5\", \"Topic5\", \"Topic5\", \"Topic5\", \"Topic5\", \"Topic5\", \"Topic5\", \"Topic5\", \"Topic5\", \"Topic6\", \"Topic6\", \"Topic6\", \"Topic6\", \"Topic6\", \"Topic6\", \"Topic6\", \"Topic6\", \"Topic6\", \"Topic6\", \"Topic6\", \"Topic6\", \"Topic6\", \"Topic6\", \"Topic6\", \"Topic6\", \"Topic6\", \"Topic6\", \"Topic6\", \"Topic6\", \"Topic6\", \"Topic6\", \"Topic6\", \"Topic6\", \"Topic6\", \"Topic6\", \"Topic6\", \"Topic6\", \"Topic6\", \"Topic6\", \"Topic6\", \"Topic6\", \"Topic6\", \"Topic6\", \"Topic6\", \"Topic6\", \"Topic6\", \"Topic6\", \"Topic6\", \"Topic6\", \"Topic6\", \"Topic6\", \"Topic6\", \"Topic6\", \"Topic6\", \"Topic7\", \"Topic7\", \"Topic7\", \"Topic7\", \"Topic7\", \"Topic7\", \"Topic7\", \"Topic7\", \"Topic7\", \"Topic7\", \"Topic7\", \"Topic7\", \"Topic7\", \"Topic7\", \"Topic7\", \"Topic7\", \"Topic7\", \"Topic7\", \"Topic7\", \"Topic7\", \"Topic7\", \"Topic7\", \"Topic7\", \"Topic7\", \"Topic7\", \"Topic7\", \"Topic7\", \"Topic7\", \"Topic7\", \"Topic7\", \"Topic7\", \"Topic7\", \"Topic7\", \"Topic7\", \"Topic7\", \"Topic7\", \"Topic7\", \"Topic7\", \"Topic7\", \"Topic7\", \"Topic7\", \"Topic7\", \"Topic7\", \"Topic7\", \"Topic7\", \"Topic7\", \"Topic7\", \"Topic7\", \"Topic7\", \"Topic7\", \"Topic7\", \"Topic7\", \"Topic7\", \"Topic8\", \"Topic8\", \"Topic8\", \"Topic8\", \"Topic8\", \"Topic8\", \"Topic8\", \"Topic8\", \"Topic8\", \"Topic8\", \"Topic8\", \"Topic8\", \"Topic8\", \"Topic8\", \"Topic8\", \"Topic8\", \"Topic8\", \"Topic8\", \"Topic8\", \"Topic8\", \"Topic8\", \"Topic8\", \"Topic8\", \"Topic8\", \"Topic8\", \"Topic8\", \"Topic8\", \"Topic8\", \"Topic8\", \"Topic8\", \"Topic8\", \"Topic8\", \"Topic8\", \"Topic8\", \"Topic8\", \"Topic8\", \"Topic8\", \"Topic8\", \"Topic8\", \"Topic8\", \"Topic8\", \"Topic8\", \"Topic8\", \"Topic8\", \"Topic8\", \"Topic8\", \"Topic8\", \"Topic8\", \"Topic8\", \"Topic9\", \"Topic9\", \"Topic9\", \"Topic9\", \"Topic9\", \"Topic9\", \"Topic9\", \"Topic9\", \"Topic9\", \"Topic9\", \"Topic9\", \"Topic9\", \"Topic9\", \"Topic9\", \"Topic9\", \"Topic9\", \"Topic9\", \"Topic9\", \"Topic9\", \"Topic9\", \"Topic9\", \"Topic9\", \"Topic9\", \"Topic9\", \"Topic9\", \"Topic9\", \"Topic9\", \"Topic9\", \"Topic9\", \"Topic9\", \"Topic9\", \"Topic9\", \"Topic9\", \"Topic9\", \"Topic9\", \"Topic9\", \"Topic9\", \"Topic9\", \"Topic9\", \"Topic9\", \"Topic9\", \"Topic9\", \"Topic9\", \"Topic9\", \"Topic9\", \"Topic9\", \"Topic9\", \"Topic9\", \"Topic9\", \"Topic9\", \"Topic9\", \"Topic9\", \"Topic10\", \"Topic10\", \"Topic10\", \"Topic10\", \"Topic10\", \"Topic10\", \"Topic10\", \"Topic10\", \"Topic10\", \"Topic10\", \"Topic10\", \"Topic10\", \"Topic10\", \"Topic10\", \"Topic10\", \"Topic10\", \"Topic10\", \"Topic10\", \"Topic10\", \"Topic10\", \"Topic10\", \"Topic10\", \"Topic10\", \"Topic10\", \"Topic10\", \"Topic10\", \"Topic10\", \"Topic10\", \"Topic10\", \"Topic10\", \"Topic10\", \"Topic10\", \"Topic10\", \"Topic10\", \"Topic10\", \"Topic10\", \"Topic10\", \"Topic10\", \"Topic10\", \"Topic10\", \"Topic10\", \"Topic10\", \"Topic10\", \"Topic10\", \"Topic10\", \"Topic10\", \"Topic10\", \"Topic10\", \"Topic10\", \"Topic10\", \"Topic10\", \"Topic10\"], \"logprob\": [30.0, 29.0, 28.0, 27.0, 26.0, 25.0, 24.0, 23.0, 22.0, 21.0, 20.0, 19.0, 18.0, 17.0, 16.0, 15.0, 14.0, 13.0, 12.0, 11.0, 10.0, 9.0, 8.0, 7.0, 6.0, 5.0, 4.0, 3.0, 2.0, 1.0, -4.2108001708984375, -4.337500095367432, -4.526000022888184, -4.57889986038208, -4.655600070953369, -4.727799892425537, -4.74560022354126, -4.735799789428711, -4.837200164794922, -4.768899917602539, -4.928500175476074, -4.928500175476074, -5.041800022125244, -4.519599914550781, -5.08050012588501, -5.246600151062012, -5.259099960327148, -5.375100135803223, -5.408999919891357, -5.42609977722168, -5.460999965667725, -5.440199851989746, -5.513000011444092, -5.417399883270264, -5.555200099945068, -5.458000183105469, -5.581099987030029, -5.626699924468994, -5.620699882507324, -5.620699882507324, -3.5741000175476074, -3.438999891281128, -3.4351999759674072, -3.98009991645813, -4.425899982452393, -4.647799968719482, -4.634200096130371, -4.971700191497803, -4.883900165557861, -4.8242998123168945, -4.008399963378906, -4.992499828338623, -4.7204999923706055, -4.649400234222412, -4.45419979095459, -4.378799915313721, -4.530700206756592, -3.4790000915527344, -3.8919999599456787, -4.327400207519531, -3.5397000312805176, -4.432799816131592, -4.3628997802734375, -4.430099964141846, -4.163400173187256, -3.9193999767303467, -4.424799919128418, -3.8796000480651855, -4.3850998878479, -4.499000072479248, -4.706999778747559, -5.051199913024902, -4.865699768066406, -5.172999858856201, -4.7677001953125, -5.280399799346924, -5.048600196838379, -5.2906999588012695, -5.292799949645996, -5.25439977645874, -5.2881999015808105, -5.452300071716309, -5.455999851226807, -5.489799976348877, -5.453400135040283, -5.667300224304199, -5.53849983215332, -5.670199871063232, -5.740200042724609, -5.795100212097168, -5.835100173950195, -5.8470001220703125, -5.84630012512207, -5.847400188446045, -5.884200096130371, -5.878499984741211, -5.93149995803833, -3.8803000450134277, -3.7623000144958496, -4.393899917602539, -4.17579984664917, -4.51039981842041, -5.065199851989746, -5.182499885559082, -5.449900150299072, -5.399899959564209, -5.509900093078613, -2.4876999855041504, -4.21589994430542, -4.338399887084961, -4.522600173950195, -4.30079984664917, -2.2585999965667725, -5.375999927520752, -4.008999824523926, -4.113399982452393, -5.186200141906738, -4.655900001525879, -4.621500015258789, -4.885000228881836, -4.050099849700928, -4.0777997970581055, -2.349600076675415, -4.428400039672852, -4.461699962615967, -3.7757999897003174, -4.22599983215332, -4.915599822998047, -4.071100234985352, -4.350100040435791, -4.3414998054504395, -4.328800201416016, -4.14739990234375, -4.5971999168396, -4.613500118255615, -4.615499973297119, -4.695099830627441, -4.1605000495910645, -4.945400238037109, -4.906300067901611, -4.978000164031982, -5.028500080108643, -4.658100128173828, -5.145500183105469, -5.1722002029418945, -3.974400043487549, -5.276400089263916, -5.298600196838379, -5.241300106048584, -5.310699939727783, -4.9633002281188965, -5.322700023651123, -5.390999794006348, -5.409299850463867, -5.310400009155273, -5.499599933624268, -5.099999904632568, -5.531099796295166, -2.1359000205993652, -4.589000225067139, -4.492199897766113, -4.917500019073486, -4.445400238037109, -4.8267998695373535, -5.092599868774414, -4.168600082397461, -4.07919979095459, -3.7471001148223877, -4.320300102233887, -4.562600135803223, -4.578199863433838, -4.138299942016602, -4.305200099945068, -4.323500156402588, -4.2241997718811035, -4.410699844360352, -4.769599914550781, -4.835599899291992, -3.8278000354766846, -4.35230016708374, -4.443600177764893, -4.202400207519531, -4.47790002822876, -4.781099796295166, -4.904099941253662, -4.898099899291992, -4.5183000564575195, -5.158999919891357, -5.231400012969971, -4.988800048828125, -5.274400234222412, -5.371300220489502, -5.372700214385986, -5.387899875640869, -5.274499893188477, -5.254799842834473, -4.096099853515625, -5.689000129699707, -5.833000183105469, -5.861000061035156, -5.78879976272583, -5.941199779510498, -5.105100154876709, -5.9994001388549805, -5.992300033569336, -5.405300140380859, -6.02839994430542, -5.094699859619141, -2.859299898147583, -2.6963000297546387, -3.552299976348877, -3.8308000564575195, -4.112400054931641, -4.904300212860107, -4.548799991607666, -5.232600212097168, -4.754000186920166, -4.665200233459473, -5.281599998474121, -4.604599952697754, -4.828100204467773, -3.441200017929077, -3.843899965286255, -3.7715001106262207, -4.236599922180176, -3.7283999919891357, -4.546899795532227, -3.8661000728607178, -4.635200023651123, -3.1489999294281006, -4.425600051879883, -4.206900119781494, -4.640100002288818, -4.601600170135498, -3.7302000522613525, -3.7151999473571777, -4.223599910736084, -4.375699996948242, -4.471499919891357, -4.586299896240234, -4.3119001388549805, -4.6433000564575195, -4.574399948120117, -4.464200019836426, -4.699699878692627, -4.124300003051758, -4.894499778747559, -4.992400169372559, -5.023799896240234, -5.0833001136779785, -5.08459997177124, -5.126399993896484, -5.121799945831299, -4.892000198364258, -5.17080020904541, -5.221099853515625, -5.262800216674805, -5.264999866485596, -5.26609992980957, -5.2779998779296875, -5.2779998779296875, -5.280399799346924, -5.294600009918213, -5.291200160980225, -4.165299892425537, -3.532599925994873, -4.416299819946289, -4.507500171661377, -4.898200035095215, -3.832200050354004, -4.991399765014648, -4.898200035095215, -4.906499862670898, -4.6921000480651855, -2.2643001079559326, -4.28439998626709, -3.19569993019104, -4.9182000160217285, -3.621999979019165, -4.198299884796143, -3.099100112915039, -3.9862000942230225, -4.601600170135498, -4.4532999992370605, -3.4658000469207764, -4.007299900054932, -3.5069000720977783, -4.057400226593018, -4.201499938964844, -4.271699905395508, -4.321499824523926, -3.4707000255584717, -4.579899787902832, -3.8164000511169434, -4.698699951171875, -4.613999843597412, -4.741499900817871, -3.802799940109253, -4.648499965667725, -4.796199798583984, -4.7434000968933105, -4.572000026702881, -5.1346001625061035, -5.091800212860107, -5.17549991607666, -5.23960018157959, -4.90910005569458, -4.668399810791016, -4.927000045776367, -5.005799770355225, -5.287300109863281, -4.7932000160217285, -5.329500198364258, -4.37529993057251, -4.372399806976318, -4.614299774169922, -4.783100128173828, -4.934100151062012, -4.989699840545654, -3.85479998588562, -2.769399881362915, -3.8696000576019287, -4.247700214385986, -4.567599773406982, -4.533199787139893, -4.662099838256836, -4.581900119781494, -4.749899864196777, -4.657299995422363, -3.8071000576019287, -4.0015997886657715, -4.364099979400635, -4.519499778747559, -4.779799938201904, -4.8831000328063965, -5.179299831390381, -5.1940999031066895, -5.202000141143799, -5.189199924468994, -5.225599765777588, -5.179900169372559, -4.972700119018555, -3.648900032043457, -3.908600091934204, -5.519999980926514, -5.5644001960754395, -5.56879997253418, -5.572500228881836, -5.572500228881836, -5.5777997970581055, -5.641900062561035, -5.795899868011475, -5.837900161743164, -4.9934000968933105, -5.873499870300293, -5.873499870300293, -5.872399806976318, -5.872399806976318, -5.961400032043457, -3.242300033569336, -3.525899887084961, -3.6212000846862793, -4.294300079345703, -4.783400058746338, -4.6168999671936035, -4.885200023651123, -5.19320011138916, -5.412199974060059, -2.8701000213623047, -5.037099838256836, -4.175099849700928, -5.205599784851074, -4.533100128173828, -2.561000108718872, -3.1084001064300537, -3.975600004196167, -3.865499973297119, -4.002099990844727, -2.3694000244140625, -3.570199966430664, -4.654600143432617, -4.645199775695801, -3.0171000957489014, -3.449700117111206, -4.249599933624268, -4.0055999755859375, -4.445899963378906, -4.486199855804443, -4.576099872589111, -4.650899887084961, -4.686299800872803, -4.7378997802734375, -4.93310022354126, -4.900100231170654, -4.988399982452393, -5.005000114440918, -5.0279998779296875, -5.049799919128418, -4.988399982452393, -4.881499767303467, -5.122900009155273, -5.147299766540527, -5.118599891662598, -4.746099948883057, -5.285399913787842, -5.302800178527832, -5.002799987792969, -3.8118999004364014, -5.171500205993652, -5.539999961853027, -5.539999961853027, -4.3368000984191895, -3.296999931335449, -3.7320001125335693, -3.9440999031066895, -4.548399925231934, -4.525400161743164, -4.634300231933594, -3.702199935913086, -4.962100028991699, -4.065299987792969, -4.266300201416016, -3.5288000106811523, -3.80649995803833, -4.043499946594238, -4.170599937438965, -4.03249979019165, -4.554200172424316, -4.640699863433838, -4.80679988861084, -4.798699855804443, -4.30620002746582, -4.710100173950195, -4.687099933624268, -4.841100215911865, -4.870500087738037, -4.958000183105469, -4.801799774169922, -4.946100234985352, -4.94980001449585, -4.1468000411987305, -5.09250020980835, -5.246099948883057, -5.248899936676025, -4.83050012588501, -5.27810001373291, -5.07420015335083, -5.282899856567383, -5.156199932098389, -5.165500164031982, -5.351600170135498, -5.395199775695801, -5.4475998878479, -5.498300075531006, -5.570099830627441, -5.565999984741211, -5.085899829864502, -5.5706000328063965, -5.640500068664551, -5.937300205230713, -5.954899787902832, -4.442699909210205, -4.650000095367432, -4.870999813079834, -4.826000213623047, -4.65939998626709, -4.933499813079834, -5.057600021362305, -4.438899993896484, -4.98330020904541, -4.677000045776367, -4.973199844360352, -4.704699993133545, -1.2798000574111938, -5.1717000007629395, -3.1786000728607178, -4.720600128173828, -4.407199859619141, -4.861599922180176, -4.037399768829346, -4.361199855804443, -4.531300067901611, -4.853499889373779, -3.772900104522705, -3.5838000774383545, -3.875, -4.109600067138672, -4.218999862670898, -4.316500186920166, -4.539400100708008, -3.93530011177063, -4.616199970245361, -4.645999908447266, -4.662899971008301, -4.713900089263916, -4.803999900817871, -4.902900218963623, -4.940299987792969, -5.1971001625061035, -5.199100017547607, -5.19890022277832, -5.1930999755859375, -5.182000160217285, -5.229899883270264, -5.25439977645874, -5.307300090789795, -5.414000034332275, -5.276199817657471, -5.4959001541137695, -5.496500015258789, -5.500699996948242, -5.4934000968933105, -5.5100998878479, -2.174799919128418, -3.7427000999450684, -4.2631001472473145, -4.553299903869629, -4.708899974822998, -4.539299964904785, -4.873600006103516, -4.995800018310547, -4.819499969482422, -5.007599830627441, -4.111999988555908, -4.185699939727783, -4.84119987487793, -4.860199928283691, -4.747000217437744, -4.161900043487549, -3.8721001148223877, -4.692599773406982, -3.824700117111206, -4.708700180053711, -3.501300096511841, -4.682499885559082], \"loglift\": [30.0, 29.0, 28.0, 27.0, 26.0, 25.0, 24.0, 23.0, 22.0, 21.0, 20.0, 19.0, 18.0, 17.0, 16.0, 15.0, 14.0, 13.0, 12.0, 11.0, 10.0, 9.0, 8.0, 7.0, 6.0, 5.0, 4.0, 3.0, 2.0, 1.0, 2.1624, 2.1624, 2.1624, 2.1623, 2.1623, 2.1623, 2.1623, 2.1623, 2.1622, 2.1622, 2.1622, 2.1622, 2.1622, 2.1621, 2.1621, 2.1621, 2.1621, 2.162, 2.162, 2.162, 2.162, 2.162, 2.1619, 2.1619, 2.1619, 2.1619, 2.1619, 2.1618, 2.1618, 2.1618, 2.1613, 2.1558, 2.1531, 2.1553, 2.1589, 2.1604, 2.1594, 2.1618, 2.1609, 2.1602, 2.1402, 2.1571, 2.1417, 2.1233, 2.0986, 2.0894, 2.0379, 1.7437, 1.7976, 1.9318, 1.5302, 1.9094, 1.7733, 1.7098, 1.1787, 0.7614, 0.8571, 2.2103, 2.2102, 2.2102, 2.2101, 2.21, 2.2099, 2.2099, 2.2099, 2.2099, 2.2099, 2.2099, 2.2099, 2.2099, 2.2099, 2.2098, 2.2097, 2.2097, 2.2097, 2.2096, 2.2095, 2.2095, 2.2095, 2.2095, 2.2094, 2.2094, 2.2094, 2.2094, 2.2094, 2.2094, 2.2093, 2.209, 2.2054, 2.2081, 2.2025, 2.2032, 2.2085, 2.2081, 2.2093, 2.2084, 2.2092, 2.1635, 2.1938, 2.1957, 2.1973, 2.1906, 2.0974, 2.206, 2.1313, 2.1326, 2.1932, 2.1417, 2.1294, 2.1119, 1.8863, 1.7339, 0.8481, 1.7596, 1.6183, -0.0249, 0.3213, 1.797, 2.2477, 2.2477, 2.2477, 2.2477, 2.2477, 2.2476, 2.2476, 2.2476, 2.2476, 2.2475, 2.2475, 2.2475, 2.2475, 2.2475, 2.2474, 2.2474, 2.2474, 2.2474, 2.2473, 2.2473, 2.2473, 2.2473, 2.2473, 2.2473, 2.2473, 2.2472, 2.2472, 2.2472, 2.2471, 2.2471, 2.2312, 2.2433, 2.2423, 2.2462, 2.2407, 2.2406, 2.2428, 2.187, 2.1591, 2.1325, 2.1752, 2.1236, 1.8685, 0.9563, 1.0368, 0.8728, 0.1194, 0.1366, 1.1648, 1.1748, 2.2515, 2.2515, 2.2514, 2.2514, 2.2514, 2.2513, 2.2513, 2.2513, 2.2512, 2.2512, 2.2511, 2.2511, 2.2511, 2.251, 2.251, 2.251, 2.251, 2.251, 2.2509, 2.2508, 2.2506, 2.2506, 2.2506, 2.2505, 2.2505, 2.2505, 2.2505, 2.2504, 2.2504, 2.2504, 2.2503, 2.2479, 2.2468, 2.2473, 2.2498, 2.2489, 2.2435, 2.249, 2.2442, 2.2429, 2.2492, 2.2248, 2.2056, 2.0463, 1.9977, 1.8856, 1.9574, 1.7844, 1.9477, 1.2038, 1.7967, 0.0486, 1.5088, 1.1352, 1.1715, -0.8507, 2.2953, 2.2953, 2.2953, 2.2952, 2.2952, 2.2952, 2.2952, 2.2951, 2.2951, 2.2951, 2.2951, 2.2951, 2.2951, 2.295, 2.295, 2.295, 2.295, 2.2949, 2.2949, 2.2949, 2.2949, 2.2949, 2.2949, 2.2949, 2.2949, 2.2949, 2.2949, 2.2949, 2.2948, 2.2948, 2.2946, 2.2863, 2.2925, 2.2885, 2.2896, 2.2579, 2.287, 2.2833, 2.2808, 2.2625, 2.0793, 2.2197, 2.0006, 2.2638, 2.0004, 2.0992, 0.6517, 1.1714, 1.1755, -0.0973, 2.3062, 2.3061, 2.3061, 2.3061, 2.3061, 2.306, 2.306, 2.306, 2.306, 2.3059, 2.3059, 2.3059, 2.3059, 2.3059, 2.3058, 2.3058, 2.3058, 2.3058, 2.3057, 2.3057, 2.3057, 2.3057, 2.3057, 2.3057, 2.3056, 2.3056, 2.3056, 2.3056, 2.3056, 2.3056, 2.305, 2.3053, 2.3039, 2.3053, 2.3047, 2.2114, 1.9114, 1.9074, 2.021, 2.0697, 1.9358, 2.0527, 1.4981, 1.9027, -0.3136, 2.32, 2.32, 2.3199, 2.3199, 2.3198, 2.3198, 2.3196, 2.3196, 2.3196, 2.3196, 2.3196, 2.3196, 2.3195, 2.3195, 2.3195, 2.3194, 2.3194, 2.3194, 2.3194, 2.3194, 2.3194, 2.3193, 2.3191, 2.3191, 2.3191, 2.3191, 2.3191, 2.3191, 2.3191, 2.319, 2.3179, 2.3131, 2.3122, 2.3177, 2.3172, 2.314, 2.3148, 2.3158, 2.3167, 2.2488, 2.3053, 2.2762, 2.3054, 2.2407, 1.9863, 1.9862, 2.0774, 2.0159, 1.987, 1.3815, 1.7117, 2.0032, 1.8812, 2.3482, 2.3482, 2.3481, 2.3481, 2.3481, 2.348, 2.348, 2.348, 2.348, 2.3479, 2.3479, 2.3479, 2.3479, 2.3478, 2.3478, 2.3478, 2.3478, 2.3478, 2.3478, 2.3478, 2.3477, 2.3477, 2.3477, 2.3477, 2.3477, 2.3477, 2.3475, 2.3475, 2.3475, 2.3475, 2.3472, 2.3431, 2.344, 2.347, 2.3467, 2.3467, 2.3336, 2.3463, 2.2694, 2.2856, 1.9475, 2.0147, 1.9942, 1.3422, -0.2816, 0.6685, 0.9818, 1.2292, 0.4831, 2.3748, 2.3746, 2.3746, 2.3746, 2.3745, 2.3745, 2.3745, 2.3745, 2.3745, 2.3745, 2.3744, 2.3744, 2.3744, 2.3743, 2.3743, 2.3743, 2.3743, 2.3743, 2.3743, 2.3742, 2.3742, 2.3742, 2.3742, 2.3741, 2.374, 2.374, 2.374, 2.3739, 2.3737, 2.3737, 2.3728, 2.3733, 2.3726, 2.3711, 2.3686, 2.3706, 2.371, 2.3585, 2.3693, 2.3615, 2.3664, 2.3461, 1.9179, 2.363, 1.979, 2.2697, 2.1355, 2.2464, 1.6661, 1.6491, -0.7804, 0.9677, 2.5593, 2.5592, 2.5592, 2.5592, 2.5592, 2.5592, 2.5591, 2.5591, 2.5591, 2.5591, 2.559, 2.559, 2.559, 2.5589, 2.5589, 2.5588, 2.5587, 2.5587, 2.5587, 2.5587, 2.5587, 2.5587, 2.5586, 2.5586, 2.5585, 2.5585, 2.5585, 2.5585, 2.5584, 2.5583, 2.5446, 2.5579, 2.5553, 2.5556, 2.5566, 2.5541, 2.5561, 2.5571, 2.5504, 2.5475, 2.4837, 2.485, 2.534, 2.5191, 2.4858, 2.3321, 2.1639, 2.4366, 1.8787, 2.4174, 0.2496, 2.1582]}, \"token.table\": {\"Topic\": [1, 2, 3, 4, 6, 8, 9, 3, 4, 5, 10, 5, 2, 1, 2, 7, 8, 2, 3, 4, 6, 7, 8, 9, 10, 2, 3, 4, 6, 7, 8, 9, 10, 10, 10, 1, 2, 6, 1, 7, 9, 10, 7, 7, 1, 2, 3, 4, 5, 6, 7, 8, 9, 10, 8, 1, 5, 3, 4, 7, 9, 1, 2, 4, 5, 6, 7, 9, 10, 4, 8, 8, 3, 4, 4, 7, 2, 8, 6, 8, 10, 1, 2, 6, 7, 9, 4, 9, 3, 4, 7, 1, 2, 3, 4, 5, 6, 8, 10, 7, 7, 5, 1, 7, 5, 9, 3, 4, 7, 8, 3, 2, 5, 7, 9, 10, 5, 4, 6, 4, 5, 2, 6, 8, 9, 6, 9, 4, 10, 2, 3, 4, 10, 2, 7, 1, 3, 4, 6, 7, 8, 10, 3, 8, 3, 8, 9, 10, 2, 9, 1, 10, 2, 3, 4, 5, 6, 7, 8, 10, 3, 5, 7, 9, 8, 2, 4, 5, 1, 5, 4, 1, 2, 3, 4, 6, 8, 9, 2, 10, 1, 1, 4, 1, 7, 6, 9, 7, 3, 2, 9, 6, 9, 10, 9, 1, 6, 2, 2, 4, 5, 7, 8, 9, 10, 10, 9, 2, 3, 5, 6, 4, 1, 6, 8, 9, 7, 1, 2, 6, 2, 3, 5, 8, 10, 6, 1, 3, 4, 5, 6, 7, 8, 9, 10, 2, 9, 1, 2, 5, 9, 10, 2, 1, 9, 1, 2, 6, 7, 2, 5, 6, 7, 8, 4, 7, 9, 8, 6, 2, 6, 7, 3, 4, 6, 5, 4, 1, 7, 3, 9, 2, 6, 6, 8, 9, 10, 10, 2, 6, 7, 8, 9, 2, 8, 7, 8, 1, 2, 3, 4, 5, 6, 7, 8, 9, 10, 2, 3, 7, 2, 7, 8, 1, 6, 8, 6, 6, 9, 9, 1, 3, 9, 10, 1, 2, 4, 6, 7, 8, 3, 4, 2, 4, 9, 3, 8, 6, 6, 10, 1, 2, 4, 7, 9, 9, 10, 3, 6, 4, 10, 7, 8, 9, 1, 2, 5, 6, 7, 8, 3, 6, 8, 9, 8, 1, 2, 4, 6, 10, 2, 3, 4, 5, 6, 7, 9, 10, 4, 3, 4, 7, 8, 9, 6, 6, 2, 5, 2, 3, 9, 10, 1, 3, 7, 4, 3, 4, 6, 5, 1, 2, 4, 6, 8, 1, 5, 3, 1, 4, 4, 7, 9, 1, 2, 3, 4, 8, 2, 10, 7, 7, 10, 1, 2, 6, 7, 8, 1, 3, 7, 5, 1, 9, 10, 7, 10, 4, 9, 1, 4, 5, 7, 9, 10, 2, 1, 2, 3, 5, 8, 1, 3, 5, 6, 7, 10, 1, 2, 3, 4, 7, 8, 9, 10, 1, 2, 3, 2, 3, 5, 6, 6, 9, 10, 1, 8, 1, 2, 3, 4, 6, 7, 4, 8, 2, 4, 9, 10, 8, 10, 8, 5, 9, 10, 1, 2, 4, 5, 10, 2, 4, 7, 10, 1, 1, 10, 3, 7, 10, 6, 7, 8, 7, 5, 9, 3, 3, 5, 6, 7, 2, 2, 2, 7, 9, 3, 4, 2, 7, 1, 3, 8, 9, 10, 6, 1, 10, 7, 8, 10, 4, 5, 6, 9, 4, 1, 10, 2, 1, 5, 6, 4, 6, 2, 8, 9, 2, 4, 6, 1, 2, 9, 2, 3, 6, 10, 1, 2, 4, 6, 7, 8, 9, 10, 5, 1, 6, 1, 2, 3, 4, 5, 6, 7, 8, 9, 10, 5, 2, 6, 9, 1, 2, 3, 4, 5, 6, 7, 8, 9, 10, 10, 6, 5, 7, 10, 3, 4, 5, 6, 1, 1, 2, 3, 4, 5, 7, 8, 9, 10, 1, 4, 5, 9, 1, 1, 2, 3, 4, 5, 6, 7, 8, 9, 10, 4, 7, 8, 9, 3, 1, 3, 6, 8, 9, 5, 4, 6, 4, 6, 7, 8, 9, 10, 5, 1, 4, 6, 9, 8, 9, 1, 5, 10, 5, 1, 2, 3, 4, 6, 7, 8, 10, 3, 4, 9, 1, 2, 3, 4, 6, 7, 9, 10, 3, 4, 5, 7, 10, 1, 3, 6, 5, 7, 1, 10, 2, 6, 8, 8, 3, 5, 6, 8, 9, 8, 1, 3, 6, 10, 3, 7, 2, 10, 9, 10, 2, 3, 4, 6, 6, 9, 1, 2, 1, 4, 6, 7, 8, 9, 2, 8, 2, 8, 10, 2, 3, 5, 6, 7, 8, 9, 10, 1, 6, 2, 4, 1, 2, 3, 8, 5, 6, 7, 2, 2, 5, 7, 4, 1, 2, 3, 4, 6, 7, 8, 9, 8, 1, 2, 3, 5, 6, 7, 9, 10, 8, 9, 2, 3, 5, 6, 9, 1, 5, 6, 5, 10, 5, 9, 4, 7, 10, 2, 4, 5, 6, 7, 8, 10, 9, 1, 3, 2, 9, 8, 5, 2, 3, 10, 1, 4, 6, 8, 1, 4, 7, 9, 3, 6, 2, 3, 4, 10, 4, 3, 9, 10, 1, 3, 5, 6, 9, 1, 4, 7, 10, 2, 6, 7, 1, 1, 5, 7, 2, 6, 8, 9, 10, 2, 3, 5, 10, 4, 8, 7, 3, 4, 1, 2, 5, 7, 5, 1, 5, 6, 8, 10, 1, 2, 5, 9, 5, 2, 1, 5, 8, 9, 10, 1, 5, 7, 7, 1, 3, 9, 10, 9, 10, 3, 2, 3, 5, 10, 5, 3, 4, 5, 3, 10, 7, 8, 1, 3, 9, 6, 7, 8, 9, 4, 1, 2, 4, 6, 8, 1, 5, 1, 6, 2, 6, 7, 8, 9, 9, 1, 6, 7, 3, 9, 5, 6, 7, 8, 9, 1, 2, 3, 4, 5, 6, 7, 8, 9, 10, 9, 10, 10, 6, 4, 7, 8, 1, 6, 6, 2, 2, 2, 8, 4, 1, 2, 3, 4, 5, 6, 7, 9, 10, 1, 5, 9, 10, 2, 4, 7, 9, 10, 3, 4, 7, 8, 8, 2, 4, 7, 9, 1, 1, 2, 3, 4, 5, 6, 8, 9, 10, 1, 2, 4, 6, 1, 2, 6, 4, 2, 3, 7, 4, 1, 6, 9, 10, 3, 6, 1, 2, 3, 8, 1, 2, 4, 5, 6, 8, 9, 7, 9, 10, 3, 6, 2, 5, 6, 7, 3, 4, 1, 1, 2, 4, 5, 6, 9, 2, 3, 4, 7, 3, 4, 8, 9, 5, 10, 9, 3, 2, 5, 1, 5, 6, 8, 9, 10, 8, 1, 9, 1, 3, 9, 2, 3, 5, 8, 1, 2, 3, 5, 6, 7, 8, 9, 10, 3, 7, 10, 9, 2, 1, 3, 6, 4, 3, 5, 1, 2, 4, 5, 8, 6, 6, 8, 3, 4, 1, 3, 4, 5, 6, 7, 8, 9, 2, 4, 5, 6, 8, 9, 10, 1, 3, 3], \"Freq\": [0.0002524474672839413, 0.0007573424018518239, 0.20423000103270852, 0.0002524474672839413, 0.0012622373364197066, 0.006058739214814591, 0.7868787555240451, 0.0016860379148450882, 0.9981344455882922, 0.0013870941743136303, 0.9985096491951977, 0.9994666583117724, 0.9987160057086616, 0.9963299299282186, 0.003422909378717453, 0.9972095400737958, 0.0026462880320401484, 0.006170137244049771, 0.15381891439391682, 0.00017380668293097946, 0.12235990478340954, 0.0007821300731894076, 0.6697640526745293, 8.690334146548973e-05, 0.046840901049898964, 0.0068700623176609485, 0.3385566710143315, 0.47568311487484405, 0.005633451100481977, 0.00013740124635321896, 0.0004122037390596569, 0.17216376168058337, 0.0005496049854128758, 0.9992539766090944, 0.9988708662588923, 0.9996437251696522, 0.00029008813847058974, 0.9998791869946843, 0.26227804253506354, 0.7282039388311536, 0.00028323762692771437, 0.008780366434759145, 0.9990018199981483, 0.9988773308398897, 0.0001142395392991177, 0.954166712072664, 3.807984643303923e-05, 0.03126355392152521, 0.009329562376094612, 0.0002284790785982354, 0.0014851140108885301, 0.0006854372357947061, 0.0012566349322902946, 0.0014851140108885301, 0.9995878852687519, 0.9996539209831582, 0.9994877618169298, 0.0002705756359298312, 0.0018940294515088186, 0.9976123696732877, 0.9986594918833488, 0.00013767338890033782, 0.7231983118934745, 0.14042685667834456, 0.015832439723538847, 0.11165311839817396, 0.0034418347225084454, 0.0034418347225084454, 0.0019274274446047293, 0.0010776846129371123, 0.9986544079883907, 0.9995936337534053, 0.0005691242098188268, 0.9988129882320409, 0.000552905439062138, 0.9992844301983042, 0.999678909609806, 0.9994630657045667, 0.9993481449272136, 0.00044024147353621747, 0.9988129040814256, 0.004470639645170372, 0.34771641684658455, 0.002483688691761318, 0.6447655843812382, 0.0004967377383522636, 0.9985500093810875, 0.9989515421611901, 0.26153230014771367, 0.737920482569492, 0.0004812001842644226, 0.08600343579926122, 0.0006880274863940897, 0.6843580064666546, 0.2004453410361448, 0.0004586849909293932, 0.002064082459182269, 0.0025227674501116623, 0.023622277032863747, 0.9988773308398897, 0.9987429328418602, 0.9998515334931477, 0.999535622621769, 0.9992014511238084, 0.9914955198242447, 0.007902461635156042, 0.004440488261941147, 0.9951494234598917, 0.0002400263925373593, 0.00012001319626867964, 0.9997647002330536, 0.001313598669750692, 0.00043786622325023066, 0.002627197339501384, 0.001313598669750692, 0.9943941930012739, 0.9996068110480056, 0.0017402710799785232, 0.9976103965976885, 0.9996078489892452, 0.9995576115553372, 0.9987109443718647, 0.0024867816254136705, 0.010776053710125905, 0.986423378080756, 0.9997575145518037, 0.9991659772361755, 0.00024055273504711402, 0.9994966141207587, 0.012910786974993108, 0.0005738127544441382, 0.05795508819885795, 0.9281421303133934, 0.003980831699859359, 0.9958713969148162, 0.009003229034873661, 0.9409421228540055, 0.0004187548388313331, 0.0008375096776626662, 0.04669116452969364, 0.001884396774740999, 0.9997934250416308, 0.8829430094801062, 0.1165601332647005, 0.999242741457106, 0.9997607853113256, 0.9994106426070491, 0.9983737269768482, 0.9996097844119967, 0.9996974230976112, 0.002451665812160518, 0.9966021526432507, 0.0028075644746347285, 5.104662681154052e-05, 0.9962259688540248, 0.0005615128949269457, 5.104662681154052e-05, 0.00015313988043462156, 0.00010209325362308105, 5.104662681154052e-05, 0.999649324056628, 0.9996410960225462, 0.9996943026921602, 0.9987307471712525, 0.9999336910650776, 0.9220933398955098, 0.07741107270194941, 0.9998236524347186, 0.9992049524760698, 0.9996020996296349, 0.9995044017716715, 0.9904783221341634, 0.00019440202593408505, 9.720101296704253e-05, 9.720101296704253e-05, 0.005832060778022552, 0.0026244273501101483, 0.0005832060778022552, 0.9993643427610533, 0.99968492929866, 0.9993485475962992, 0.0023243513308506764, 0.9971467209349403, 0.9990749454164761, 0.00045578236560970625, 0.9993487421555411, 0.999734823122802, 0.9996063190722534, 0.9993098945177186, 0.00024710261235216644, 0.9995300669645133, 0.008083164995601562, 0.0005773689282572544, 0.9907650808894485, 0.9988975098603065, 0.9926758068396597, 0.007055742746194907, 0.9992866988436093, 0.0003780263978887662, 0.0007560527957775324, 9.450659947219155e-05, 0.9977061706279262, 9.450659947219155e-05, 9.450659947219155e-05, 0.000850559395249724, 0.9996078345026146, 0.999216073763165, 0.0133957140203381, 0.009568367157384357, 0.9687971746851661, 0.007654693725907486, 0.9996888943147243, 0.9614921727509752, 0.0006354872258763881, 0.0031774361293819406, 0.03431631019732496, 0.9996751215732357, 0.002854846830572924, 0.9956278321623073, 0.000713711707643231, 0.0002050335722771174, 0.012917115053458396, 0.0032805371564338785, 0.9240863102529682, 0.059459735960364045, 0.9995661940412148, 6.319001638964756e-05, 0.001137420295013656, 0.0002527600655585902, 0.3249862542919574, 0.0002527600655585902, 0.0002527600655585902, 6.319001638964756e-05, 0.6729736745497464, 6.319001638964756e-05, 0.0030609564094492316, 0.9960352156347799, 0.00025028006201572537, 0.9853526041559109, 0.01301456322481772, 0.0007508401860471762, 0.00025028006201572537, 0.9997745108432683, 0.001989732957456152, 0.9978510781642601, 0.9998366496244803, 0.0010706694330777106, 0.9983992463449651, 0.9985232643603795, 0.0007603893148731972, 0.00015207786297463942, 0.01338285194176827, 0.00015207786297463942, 0.9854645520756635, 0.9973756662352367, 0.0019366517790975468, 0.9993551682709356, 0.9997007408501944, 0.9994758801967837, 0.9804408767171363, 0.01918670991618662, 0.00023983387395233274, 0.9298265552858334, 0.06646778794584046, 0.003371554461020893, 0.9994587542968382, 0.9996132287728622, 0.014602549540260308, 0.9851104574467916, 0.9996410153773806, 0.00036284610358525615, 0.9983963934722251, 0.9995545470197396, 0.0016802269010547442, 0.0033604538021094884, 0.9913338716222991, 0.0033604538021094884, 0.9995043906041138, 0.0004111664998709816, 0.0001027916249677454, 0.0003083748749032362, 0.9989290114365498, 0.0002055832499354908, 0.9978755649690012, 0.0017682378587755487, 0.0011739091450726242, 0.9982140763600882, 2.6703154338691582e-05, 0.25604764590226736, 8.901051446230527e-06, 0.11046204844772085, 8.901051446230527e-06, 1.7802102892461055e-05, 0.0002225262861557632, 7.120841156984422e-05, 0.6330694820102538, 6.23073601236137e-05, 0.0022308730022074577, 0.9949693589845261, 0.0022308730022074577, 0.9987561504589312, 0.0050608077458899805, 0.9947650225514993, 0.9944828349727578, 0.005095161241127311, 0.9995585155223937, 0.9998173760152134, 0.9991513817740051, 0.0007360231173289171, 0.9994980774289413, 0.999390826754339, 0.9927470698108836, 0.006993228551646963, 0.9993449345573139, 0.6358484096581838, 0.0020249949352171455, 0.0005062487338042864, 0.00016874957793476213, 0.1707745728699793, 0.19034952391041168, 0.9996725001818929, 0.9998572936731519, 0.9986587152497265, 0.0012834168228108935, 0.998962950582451, 0.9991964357744365, 0.9987664350798262, 0.9997555481451018, 0.003658655765074959, 0.9958195782394933, 0.00016880993134063392, 0.9238967542272895, 0.0681992122616161, 0.00016880993134063392, 0.007427636978987893, 0.9983182617321593, 0.9988750300244906, 0.9994037577651029, 0.0003662832170661913, 0.9995510204055065, 0.00031671451850618076, 0.9237005460832047, 0.07602080940560811, 0.0003180787004418749, 0.0008743582478474765, 0.004371791239237382, 0.0014988998534528168, 0.00012490832112106807, 0.99289624459137, 0.00012490832112106807, 0.999533118347193, 0.9996359041833547, 0.00016355299479439703, 0.00016355299479439703, 0.9991935069239775, 0.0621058337691087, 0.9250204244160298, 0.00037526183546289244, 0.011633116899349665, 0.0007505236709257849, 0.0003123728076221907, 0.0038525979606736853, 0.693363508652056, 0.0008329941536591752, 0.14650284677480743, 0.042378577567410536, 0.11266245928240345, 0.0001041242692073969, 0.9996585323719355, 0.9996792387473676, 0.0005686090125813586, 0.9993303396117377, 0.9995218234183395, 0.9992955073661479, 0.9997406074657148, 0.9995825468518476, 0.0006971887516546948, 0.9990714811211777, 0.0009617859469933737, 0.20197504886860848, 0.00024044648674834344, 0.7965992105972618, 0.0009395583613667993, 0.9982807589522242, 0.00046977918068339964, 0.9998113298320364, 0.998910866103164, 0.9917957888418517, 0.007776249242797922, 0.9997394085802628, 0.0002991843423221617, 0.6614965808742994, 0.0029918434232216167, 0.32252072102329027, 0.012565742377530791, 0.9996178011301037, 0.9997135510108952, 0.9996595005539666, 0.0007683575996199541, 0.9988648795059403, 0.9983874745927079, 0.9994598893957755, 0.9997967038888047, 0.3738528214046522, 0.0001519726916279074, 0.2978664755906985, 0.32742516411232647, 0.0006838771123255832, 0.9985239877277431, 0.0007710609943843576, 0.9996796084255628, 0.9994846214847116, 0.9997129464852499, 0.006853393577115273, 0.9920287202874357, 0.0002141685492848523, 0.0004283370985697046, 0.0002141685492848523, 0.882688281413128, 0.11684544024576482, 0.00025908079877109714, 0.9993106058689238, 0.9978398253073877, 0.00032921142372398146, 0.0016460571186199071, 0.9990897680488368, 0.9997002683681068, 0.0037838638479769453, 0.9956967439962191, 0.0009624111415914946, 0.0004812055707957473, 0.994170709264014, 0.0004812055707957473, 0.0038496445663659786, 0.9997059485618021, 0.9990690294814865, 0.00038110366129537495, 0.030869396564925367, 0.0007622073225907499, 0.9676221960289569, 0.9995614656276931, 0.0001372544572803456, 0.0001372544572803456, 0.0004117633718410368, 0.00562743274849417, 0.9919379627650576, 0.0016470534873641472, 0.06879864500465192, 0.0007818027841437719, 0.000521201856095848, 0.0011727041762156578, 0.7376309268396488, 0.0015636055682875438, 0.18932657422681676, 0.000130300464023962, 0.9993679344621533, 0.9336391028485646, 0.06613005508662198, 0.9826669490735664, 0.016319498561126845, 0.9997276933808565, 0.9993912201993088, 0.02437538183964487, 0.0005803662342772587, 0.9750152735857948, 0.9995875288308098, 0.9989663711679496, 0.5312877181245459, 0.08433230257189926, 0.0134862227174005, 0.35069967143660785, 0.020142512899808472, 5.788078419485193e-05, 0.9991762250769318, 0.9995968130461674, 0.001990457705592414, 0.9924422120083776, 0.0007961830822369656, 0.00437900695230331, 0.3265550340642002, 0.6733391410350323, 0.9987664350798262, 0.9996831090670595, 0.9994978028394084, 0.9997995594344049, 0.9980929135812592, 0.00041708855561272843, 0.00041708855561272843, 0.00041708855561272843, 0.00041708855561272843, 0.04496077531534247, 0.9549008702295212, 0.9996066942264696, 0.9994953661285871, 0.999540563542282, 0.9967158802265668, 0.0025956142714233512, 0.0005033644070324048, 0.06996765257750426, 0.9287073309747869, 0.9996891030337673, 0.9969322735476135, 0.0024799310287254065, 0.9987227112145941, 0.0006317015025371923, 0.9987200755113012, 0.9995600884107835, 0.0029776285138033527, 0.0003722035642254191, 0.0026054249495779335, 0.993783516481869, 0.9988082666348903, 0.9995273623396789, 0.9995599848213725, 0.9994513062497382, 0.9994699322319165, 0.9995807130808739, 0.9995593593677645, 0.9995001910359644, 0.9998103522057732, 0.012243389994190394, 0.31764795151593966, 0.0003400941665052887, 0.0003400941665052887, 0.6696454138489135, 0.999794388319551, 0.9996470598563415, 0.9995475170430901, 0.0003509259177840885, 0.9983842360957318, 0.0010527777533522655, 0.9988153530029709, 0.08307856192837877, 0.9094751251102899, 0.007210592167368724, 0.9992906312610762, 0.9996781039478904, 0.9997481581712763, 0.9994826249444406, 0.9998252961785074, 0.9969885905725294, 0.0026824805127512, 0.0002898624735805017, 0.9994458089055698, 0.9870307221729089, 0.0009041502798530463, 0.011753953638089601, 0.9993794851279674, 0.9998460830295608, 0.9996727075217765, 0.00477091512314432, 0.9060762971371588, 0.08865950603843195, 0.0009381023275927226, 0.30371062855814396, 0.6904433131082439, 0.004690511637963613, 0.00012153031862251711, 0.6208983978424398, 0.33955571023131276, 0.017014244607152396, 0.005225803700768235, 0.0007291819117351026, 0.016163532376794774, 0.00024306063724503421, 0.9994371822537664, 0.9792276754158818, 0.02015443760614661, 0.6577183834896315, 0.034393148321512565, 0.00026975018291382403, 0.0010790007316552961, 0.003911377652250449, 0.0010790007316552961, 0.0004046252743707361, 0.1863973763934524, 6.743754572845601e-05, 0.11471126528410368, 0.9995953434016577, 0.9995287336126333, 0.7518780139542866, 0.2480026535687869, 0.033694772636334656, 0.10696581244359615, 0.0057421959798255205, 0.044931522720844976, 0.19325352831294193, 0.01029261543553631, 0.3911348641675761, 0.07207926328314676, 0.04262535775859699, 0.09927343669703743, 0.9990410425709461, 0.999811228388135, 0.04147273712432095, 0.9568682070961384, 0.0013824245708106983, 0.22427406189377852, 0.7756301169012083, 0.992953036635119, 0.006504769319588071, 0.9996065659957712, 6.567977145190892e-05, 6.567977145190892e-05, 0.25280144031839746, 0.0012479156575862696, 0.7446115689502915, 0.0006567977145190893, 0.00019703931435572676, 6.567977145190892e-05, 0.00032839885725954464, 0.999867683845459, 0.9975201667164731, 0.0006781238386923678, 0.0013562476773847356, 0.9995889488062608, 0.24630248748958233, 0.0003138111004804362, 0.078413548732549, 0.0003922638756005452, 0.00027458471292038166, 0.6737916591190566, 3.9226387560054524e-05, 7.845277512010905e-05, 3.9226387560054524e-05, 0.0003530374880404907, 0.002369766192124645, 0.0007899220640415483, 0.09637049181306889, 0.9001161919753443, 0.9994878612931224, 0.002149626367467035, 0.9834110705888193, 0.013814932121588146, 0.000487248643292528, 0.00011464673959824188, 0.9994637073977509, 0.0003885921567475514, 0.9994590271547023, 0.0028217980228230494, 0.00883345468014172, 0.0025764242817080014, 0.7162459503148244, 0.24476030676226015, 0.02453737411150478, 0.9997637278567839, 0.07276166888402658, 0.634517907535238, 0.017399529515745485, 0.2752289214308831, 0.9995917751945378, 0.9996046884713696, 0.009085919735180987, 0.9879742196254695, 0.0028692378111097854, 0.9997674499513168, 0.17953895620326854, 8.788005687874133e-05, 0.000263640170636224, 0.8142966070384172, 0.004394002843937067, 8.788005687874133e-05, 8.788005687874133e-05, 0.00131820085318112, 0.0029311567331760926, 0.013027363258560413, 0.9835659260213111, 0.1587678995653873, 0.0008894560199741586, 0.341995839680064, 0.012748869619629606, 0.0010376986899698517, 0.0005929706799827724, 0.48386407486594224, 0.0001482426699956931, 0.9995384149674394, 0.998476194783992, 0.001126312684471508, 0.9989442812600096, 0.9995675777060797, 0.0837888502611667, 0.9149742448519403, 0.0011171846701488893, 0.9855158289357234, 0.013948247456874563, 0.9974072940580312, 0.001963400185153605, 0.9993714313443397, 0.9994331792449518, 0.9989813555664652, 0.9994932471312822, 0.0011099798367314485, 0.00527240422447438, 0.7894731588752427, 0.002774949591828621, 0.20118384540757503, 0.9994050013954384, 0.0002601485753326009, 0.891008870514158, 0.10835188162602827, 0.0002601485753326009, 0.9994999665783068, 0.999704112828853, 0.11527232223608012, 0.8845108505437802, 0.9961808713709127, 0.003399934714576494, 0.5530944712892257, 0.0009536111573952167, 0.0001589351928992028, 0.4456542808893646, 0.028115186548311258, 0.9714426396916501, 0.0010487600048577513, 0.9978951446221503, 9.013377912278473e-05, 0.6267001662407222, 0.00018026755824556947, 0.00036053511649113894, 0.3656727419011377, 0.00703043477157721, 0.9998818892245014, 0.9997937692593782, 0.0016286726427103483, 0.99783343910054, 0.9993248378691636, 0.00035597700573731524, 0.2748142484292074, 0.007831494126220936, 5.932950095621921e-05, 0.7160477470406097, 5.932950095621921e-05, 5.932950095621921e-05, 0.0007119540114746305, 0.9996763484345234, 0.9997069561433627, 0.9995466529122976, 0.9994206457611322, 0.9986226620473341, 0.00011260968223357397, 0.0006756580934014439, 0.0004504387289342959, 0.9270980982516661, 0.07262308917402362, 0.00024288658586629975, 0.9994966216547682, 0.999353506420581, 0.0005451118991606362, 0.9986449992622856, 0.9993225160993492, 0.0018842907037198492, 0.0019450742748075862, 6.078357108773707e-05, 0.06400510035538713, 0.0006686192819651077, 0.9310827419219564, 0.0001823507132632112, 0.00012156714217547414, 0.9993821429892583, 0.035557883915081856, 0.0007901751981129301, 0.0009877189976411627, 0.8217822060374472, 0.00019754379952823252, 0.0013828065966976276, 0.13926837866740394, 0.9990740968988275, 0.9996676498868362, 0.9996823799732315, 0.00073447450850519, 0.005753383649957322, 0.9909285243915856, 0.0013465365989261818, 0.0011017117627577851, 0.0025827317602933057, 0.3262459800843226, 0.6710406700834789, 0.003557615240038039, 0.996132267210651, 0.005106883433699965, 0.9941399750935932, 0.0005200915219449405, 0.002080366087779762, 0.997015447568451, 0.037440744983143016, 0.004486700845087387, 0.0009282829334663559, 0.09731499419172297, 0.7843990787790707, 0.00015471382224439264, 0.07503620378853043, 0.9993250971893581, 0.9992832003957751, 0.9997468164671773, 0.9990183525705794, 0.9985566586715905, 0.9998376652702525, 0.9995308449781724, 0.00972705442813844, 0.002084368806029666, 0.9879908140580616, 0.6775260364363922, 0.00470737692809404, 0.3164029778097494, 0.0010087236274487228, 0.026229550976262485, 0.973519872772819, 0.0015265636911224942, 0.9978637994304037, 0.00035292542134984274, 0.9994847932627545, 0.008003988963885883, 0.000363817680176631, 0.9914031784813194, 0.000363817680176631, 0.9995567062781758, 0.11762221768461233, 0.014476580638106131, 0.8676900519964863, 0.977807224542355, 0.00017023106276851585, 0.0049367008202869595, 0.014299409272555332, 0.0025534659415277377, 0.00015863776312598834, 0.9956106013787028, 0.0030141174993937787, 0.0011104643418819184, 0.9994665629347891, 0.999460418880713, 0.9996054527211073, 0.9996571370172044, 0.03676663796928499, 0.9631574723918807, 0.9998907313524027, 0.0006093870495602208, 0.2973808801853878, 0.7017091875685944, 0.0001523467623900552, 0.9994826764552773, 0.0006933145937997704, 0.0006933145937997704, 0.0006933145937997704, 0.9976797004778696, 0.0005816891064993487, 0.9990510404126314, 0.998928272441284, 0.9995086656128214, 0.9995961209282606, 0.9996989475237601, 0.9989492061253485, 0.9997696671659647, 0.9994959649540779, 0.9993944812106331, 0.9379721324436338, 0.036723215625851895, 0.021166853451011856, 0.0033152902995560738, 0.0002550223307350826, 0.00041014757424533474, 0.004921770890944017, 0.0008202951484906695, 0.9933774248222007, 0.9996436090271853, 0.9990225555129677, 0.9993614719787878, 0.9996112862912282, 0.004765175393131371, 0.9877527850619457, 0.006807393418759102, 0.9995487121035715, 0.9995636614324623, 0.9990684892456728, 0.9992430115230749, 0.002133064548162427, 0.9927282407147935, 0.0004266129096324854, 0.004266129096324854, 0.9986918970381614, 0.9997214722240311, 0.9993587128729525, 0.9994452131533874, 0.00022315146094041116, 0.9994953935521015, 0.9996611132978938, 0.9994993564723545, 0.0004151245538890281, 0.9992048012108907, 0.00020756227694451406, 0.999775352699859, 0.9993895662837698, 0.9997527885160495, 0.9993410707388104, 0.7763912559323314, 0.22353787624235832, 0.9996774857538795, 0.6678225988287876, 0.003099598559964837, 0.303760658876554, 0.024796788479718695, 0.9997499290310414, 0.6941803739604684, 0.0010757482937555685, 0.004625717663148944, 0.1084354280105613, 0.19159077111786676, 0.9995635173758296, 0.9991951438514186, 0.0005067146936039067, 0.9992413757869041, 0.0011741635734700373, 0.0025440210758517477, 0.00019569392891167288, 0.9956907103025917, 0.00019569392891167288, 0.99941969719522, 0.9993518189550351, 0.9996935568870648, 0.00011734869783860369, 0.999380484393579, 0.9994072289917809, 0.004353925554714666, 0.0010159159627667555, 0.7166561463060341, 0.2779255812426195, 0.00014513085182382221, 0.271017979261971, 0.02725920013168188, 0.00014309291407707024, 0.0022179401681945887, 0.00014309291407707024, 7.154645703853512e-05, 0.5441108057780596, 0.15489807948842854, 7.154645703853512e-05, 7.154645703853512e-05, 0.9984625689897394, 0.0012246065850242103, 0.9989376604388449, 0.999803731198041, 0.9994131933880951, 0.9992014511238084, 0.9996407670221189, 0.0008665777148210155, 0.9988752459503573, 0.9991986412432041, 0.9992218033534286, 0.9986951889414326, 0.998589002169929, 0.999732687561936, 0.9991939980777454, 0.00025513025120846674, 0.8931259660637725, 2.8347805689829636e-05, 0.00025513025120846674, 0.09136497773832092, 0.003033215208811771, 8.504341706948891e-05, 0.011792687166969127, 5.669561137965927e-05, 0.00010906516919140893, 0.0014178471994883161, 0.4922111085608285, 0.5062805153865203, 0.001777174016608025, 0.11773777860028166, 0.0008885870083040125, 0.8792568447168203, 0.9990070819429013, 0.00017812523363913268, 0.745097852312492, 0.2320971794317899, 0.02244377943853072, 0.9995491055919828, 0.00018068855072016487, 0.9986656198303513, 0.00012045903381344325, 0.0010239017874142677, 0.9991807982801781, 0.00016799124269008934, 0.0014279255628657592, 0.11902179544592828, 5.599708089669644e-05, 0.8056300028607717, 0.07279620516570537, 0.00030798394493183044, 0.0005319722685186162, 5.599708089669644e-05, 0.00014205506227962938, 0.9949536562065242, 0.0005682202491185175, 0.004119596806109252, 0.000267857883238302, 0.9977706150626748, 0.0018750051826681138, 0.999303430022634, 0.9979489416555551, 0.0007327084740496, 0.0007327084740496, 0.999072101290745, 0.9994696619918286, 0.9996517232373423, 0.00016580721898114818, 0.9993558177893752, 0.9996169448678565, 0.9998027692454453, 0.7939762139762857, 0.200205209127641, 0.00019012840372995346, 0.005703852111898604, 0.00010057874041732234, 0.00010057874041732234, 0.00010057874041732234, 0.74448383656902, 0.00010057874041732234, 0.25496710695791214, 0.00010057874041732234, 0.036712287717765205, 0.0023309389027152514, 0.9603468279186835, 0.9996398790157314, 0.9997537692688535, 0.011966593771397471, 0.001994432295232912, 0.0006648107650776374, 0.9852495538450585, 0.9992157466731619, 0.9994103373347051, 0.9995760936235096, 0.009894988707402004, 0.030584510550151645, 0.005697114710322366, 0.1739119227361564, 0.7760069931744359, 0.003898025854431092, 0.9928445036914275, 0.005990012088636063, 0.0002995006044318032, 0.0005990012088636064, 0.0017834102253391137, 0.05706912721085164, 0.9390928700857104, 0.0017834102253391137, 0.9993082360642113, 0.9993544184938209, 0.999111095948186, 0.9995628829574799, 0.9834593123972702, 0.016354154857842248, 0.001597095508550478, 0.000798547754275239, 0.001597095508550478, 0.06681182877436166, 0.0021294606780673042, 0.9271139427135525, 0.9995827627705797, 0.9996121176631275, 0.9990707829188505, 0.9991209890006371, 0.9955400618137357, 0.004384153388746126, 0.005198540507269077, 0.9944502193905317, 0.00030579650042759275, 0.999653985349559, 0.0007207696170594796, 0.15122433013162226, 0.12108929566599258, 6.864472543423615e-05, 6.864472543423615e-05, 0.7161360980926686, 0.0005148354407567712, 0.01019374172698407, 3.4322362717118074e-05, 0.0009742164813500876, 0.9946750274584394, 0.004383974166075394, 0.9985492505963511, 0.9996351632754547, 0.9292901393659745, 0.00023431420558900012, 0.07029426167670004, 0.9996820593940595, 0.9992954393301966, 0.9998829828750131, 0.14784664079182816, 0.6370685192443086, 0.03789123488557033, 0.17688478341441477, 0.00017706184525967443, 0.9995623859409524, 0.0005163174328089812, 0.9992463382963149, 0.9996423949039542, 0.00022062290772543682, 0.9931818560157795, 9.784078967744847e-05, 0.004598517114840078, 0.0002935223690323454, 0.0007827263174195878, 9.784078967744847e-05, 0.0003913631587097939, 0.0004892039483872423, 8.153490944376492e-05, 0.014024004424327566, 4.076745472188246e-05, 0.0004892094566625895, 4.076745472188246e-05, 8.153490944376492e-05, 0.9852678457184553, 0.0005643124505708854, 0.999397349961038, 0.9997749684784656], \"Term\": [\"ability\", \"ability\", \"ability\", \"ability\", \"ability\", \"ability\", \"ability\", \"abraham\", \"abraham\", \"abundance\", \"abundance\", \"accept\", \"accomplish\", \"achievement\", \"achievement\", \"acquire\", \"acquire\", \"act\", \"act\", \"act\", \"act\", \"act\", \"act\", \"act\", \"act\", \"action\", \"action\", \"action\", \"action\", \"action\", \"action\", \"action\", \"action\", \"activity\", \"adversity\", \"aim\", \"aim\", \"albert\", \"allow\", \"allow\", \"allow\", \"allow\", \"ambition\", \"ambrose\", \"amp\", \"amp\", \"amp\", \"amp\", \"amp\", \"amp\", \"amp\", \"amp\", \"amp\", \"amp\", \"andrew\", \"anger\", \"anjelou\", \"answer\", \"answer\", \"answer\", \"arise\", \"ask\", \"ask\", \"ask\", \"ask\", \"ask\", \"ask\", \"ask\", \"ask\", \"asset\", \"asset\", \"attempt\", \"attention\", \"attention\", \"attract\", \"attract\", \"avoid\", \"bach\", \"beauty\", \"beauty\", \"bee\", \"begin\", \"begin\", \"begin\", \"begin\", \"begin\", \"behavior\", \"benefit\", \"benjamin\", \"benjamin\", \"benjamin\", \"bhajan\", \"bhajan\", \"bhajan\", \"bhajan\", \"bhajan\", \"bhajan\", \"bhajan\", \"bhajan\", \"bierce\", \"bill\", \"bind\", \"bite\", \"bittersweet\", \"blessing\", \"blessing\", \"body\", \"body\", \"body\", \"body\", \"bonaparte\", \"book\", \"book\", \"book\", \"book\", \"book\", \"brault\", \"break\", \"break\", \"breath\", \"bridge\", \"bright\", \"bring\", \"bring\", \"bring\", \"buddha\", \"buffett\", \"build\", \"build\", \"business\", \"business\", \"business\", \"business\", \"capacity\", \"capacity\", \"care\", \"care\", \"care\", \"care\", \"care\", \"care\", \"carl\", \"carnegie\", \"carnegie\", \"case\", \"cash\", \"cast\", \"catch\", \"celebrate\", \"chain\", \"chance\", \"chance\", \"change\", \"change\", \"change\", \"change\", \"change\", \"change\", \"change\", \"change\", \"character\", \"chesterton\", \"child\", \"childhood\", \"choice\", \"choose\", \"choose\", \"churchill\", \"clement\", \"climb\", \"coco\", \"come\", \"come\", \"come\", \"come\", \"come\", \"come\", \"come\", \"comfort\", \"communication\", \"complain\", \"conflict\", \"conflict\", \"confuciu\", \"confuciu\", \"confucius\", \"consent\", \"consequence\", \"content\", \"control\", \"control\", \"cornerstone\", \"cornerstone\", \"cornerstone\", \"count\", \"courage\", \"courage\", \"course\", \"create\", \"create\", \"create\", \"create\", \"create\", \"create\", \"create\", \"credit\", \"criticize\", \"cruelty\", \"cruelty\", \"cruelty\", \"cruelty\", \"dalai\", \"dance\", \"dance\", \"dance\", \"dance\", \"danger\", \"dare\", \"dare\", \"dare\", \"david\", \"david\", \"david\", \"david\", \"david\", \"dawn\", \"day\", \"day\", \"day\", \"day\", \"day\", \"day\", \"day\", \"day\", \"day\", \"decide\", \"decide\", \"decision\", \"decision\", \"decision\", \"decision\", \"decision\", \"defeat\", \"define\", \"define\", \"denis\", \"deserve\", \"deserve\", \"design\", \"desire\", \"desire\", \"desire\", \"desire\", \"desire\", \"destroy\", \"destroy\", \"detach\", \"determination\", \"determine\", \"difference\", \"difference\", \"difference\", \"difficulty\", \"difficulty\", \"difficulty\", \"dig\", \"discourage\", \"discouragement\", \"discouragement\", \"discover\", \"discover\", \"donald\", \"door\", \"doubt\", \"doubt\", \"doubt\", \"doubt\", \"dr\", \"dream\", \"dream\", \"dream\", \"dream\", \"dream\", \"drucker\", \"drucker\", \"dwell\", \"dwell\", \"dyer\", \"dyer\", \"dyer\", \"dyer\", \"dyer\", \"dyer\", \"dyer\", \"dyer\", \"dyer\", \"dyer\", \"earth\", \"earth\", \"earth\", \"ease\", \"edison\", \"edison\", \"effort\", \"effort\", \"ego\", \"einstein\", \"eleanor\", \"eleanor\", \"eliot\", \"elliot\", \"emerson\", \"emerson\", \"encourage\", \"end\", \"end\", \"end\", \"end\", \"end\", \"end\", \"endure\", \"enemy\", \"energy\", \"energy\", \"enlightenment\", \"enthusiasm\", \"ephesus\", \"excuses\", \"expectation\", \"expectation\", \"experience\", \"experience\", \"experience\", \"experience\", \"experience\", \"expert\", \"explain\", \"eye\", \"eye\", \"fact\", \"fact\", \"fail\", \"fail\", \"fail\", \"failure\", \"failure\", \"failure\", \"failure\", \"failure\", \"failure\", \"faith\", \"fall\", \"fall\", \"fall\", \"fantasy\", \"fear\", \"fear\", \"fear\", \"fear\", \"fear\", \"feel\", \"feel\", \"feel\", \"feel\", \"feel\", \"feel\", \"feel\", \"feel\", \"feeling\", \"fight\", \"find\", \"find\", \"finger\", \"fire\", \"fool\", \"force\", \"forget\", \"forget\", \"form\", \"form\", \"form\", \"form\", \"fortune\", \"fortune\", \"fortune\", \"franklin\", \"frederick\", \"frustration\", \"frustration\", \"fuller\", \"future\", \"future\", \"future\", \"future\", \"future\", \"gain\", \"game\", \"gandhi\", \"garage\", \"garage\", \"generate\", \"genius\", \"george\", \"get\", \"get\", \"get\", \"get\", \"get\", \"gilbert\", \"gilbert\", \"giving\", \"glasgow\", \"go\", \"goal\", \"goal\", \"goal\", \"goal\", \"goal\", \"god\", \"god\", \"god\", \"gogh\", \"greatness\", \"greatness\", \"greatness\", \"gretzky\", \"ground\", \"grow\", \"grow\", \"guidance\", \"guidance\", \"guidance\", \"guidance\", \"guidance\", \"habit\", \"hack\", \"hand\", \"hand\", \"hand\", \"hand\", \"hang\", \"happen\", \"happen\", \"happen\", \"happen\", \"happen\", \"happen\", \"happiness\", \"happiness\", \"happiness\", \"happiness\", \"happiness\", \"happiness\", \"happiness\", \"happiness\", \"harder\", \"harm\", \"harm\", \"harry\", \"harry\", \"harvest\", \"hate\", \"having\", \"having\", \"having\", \"hay\", \"heal\", \"heart\", \"heart\", \"heart\", \"heart\", \"heart\", \"heart\", \"helen\", \"hell\", \"help\", \"help\", \"help\", \"help\", \"henry\", \"henry\", \"heraclitus\", \"history\", \"hoffer\", \"hold\", \"honor\", \"honor\", \"honor\", \"honor\", \"honor\", \"hope\", \"hope\", \"hubbard\", \"hugo\", \"hurry\", \"idea\", \"idea\", \"ignorance\", \"ignorance\", \"ignorance\", \"imagination\", \"imagine\", \"imagine\", \"imitation\", \"impact\", \"impact\", \"impossibility\", \"improve\", \"improve\", \"improve\", \"improve\", \"inquire\", \"inspire\", \"inspiring\", \"intend\", \"intent\", \"jack\", \"jefferson\", \"jerry\", \"jim\", \"job\", \"job\", \"job\", \"job\", \"job\", \"john\", \"jonathan\", \"journey\", \"joy\", \"joy\", \"joy\", \"jr\", \"judge\", \"judge\", \"judge\", \"judgment\", \"jump\", \"jung\", \"kennedy\", \"kill\", \"kind\", \"kind\", \"king\", \"king\", \"know\", \"know\", \"know\", \"lady\", \"lama\", \"lao\", \"lead\", \"lead\", \"lead\", \"leader\", \"leader\", \"leader\", \"leader\", \"learn\", \"learn\", \"learn\", \"learn\", \"learn\", \"learn\", \"learn\", \"learn\", \"lengthen\", \"lesson\", \"lesson\", \"let\", \"let\", \"let\", \"let\", \"let\", \"let\", \"let\", \"let\", \"let\", \"let\", \"letter\", \"lewis\", \"lie\", \"lie\", \"life\", \"life\", \"life\", \"life\", \"life\", \"life\", \"life\", \"life\", \"life\", \"life\", \"lifetime\", \"light\", \"limit\", \"limit\", \"limit\", \"lincoln\", \"lincoln\", \"living\", \"living\", \"longfellow\", \"look\", \"look\", \"look\", \"look\", \"look\", \"look\", \"look\", \"look\", \"look\", \"lose\", \"louisa\", \"louisa\", \"louisa\", \"louise\", \"love\", \"love\", \"love\", \"love\", \"love\", \"love\", \"love\", \"love\", \"love\", \"love\", \"loving\", \"loving\", \"loving\", \"loving\", \"mahatma\", \"man\", \"man\", \"man\", \"man\", \"man\", \"mandela\", \"martin\", \"martin\", \"matter\", \"matter\", \"matter\", \"matter\", \"matter\", \"matter\", \"maya\", \"mean\", \"mean\", \"mean\", \"mean\", \"meaning\", \"meditate\", \"meet\", \"meet\", \"meet\", \"michael\", \"mind\", \"mind\", \"mind\", \"mind\", \"mind\", \"mind\", \"mind\", \"mind\", \"miracle\", \"miracle\", \"miracle\", \"moment\", \"moment\", \"moment\", \"moment\", \"moment\", \"moment\", \"moment\", \"moment\", \"monroe\", \"mountain\", \"mountain\", \"mouth\", \"nader\", \"napoleon\", \"napoleon\", \"napoleon\", \"nature\", \"nature\", \"need\", \"need\", \"nietzsche\", \"night\", \"ninety\", \"norman\", \"obstacle\", \"obstacle\", \"obstacle\", \"obstacle\", \"obstacle\", \"opinion\", \"opportunity\", \"opportunity\", \"opportunity\", \"opportunity\", \"oprah\", \"optimism\", \"pain\", \"pain\", \"pass\", \"pass\", \"passion\", \"passion\", \"passion\", \"passion\", \"path\", \"path\", \"patience\", \"patience\", \"peace\", \"peace\", \"peace\", \"peace\", \"peace\", \"peace\", \"peale\", \"percent\", \"perception\", \"perception\", \"perfection\", \"person\", \"person\", \"person\", \"person\", \"person\", \"person\", \"person\", \"person\", \"perspiration\", \"pessimist\", \"peter\", \"pickford\", \"place\", \"place\", \"place\", \"place\", \"play\", \"play\", \"play\", \"player\", \"pocket\", \"point\", \"point\", \"position\", \"power\", \"power\", \"power\", \"power\", \"power\", \"power\", \"power\", \"power\", \"ppl\", \"practice\", \"practice\", \"practice\", \"practice\", \"practice\", \"practice\", \"practice\", \"praise\", \"presence\", \"prevent\", \"problem\", \"problem\", \"problem\", \"problem\", \"problem\", \"proverb\", \"proverb\", \"proverb\", \"pull\", \"pull\", \"push\", \"push\", \"quality\", \"quality\", \"quality\", \"question\", \"question\", \"question\", \"question\", \"question\", \"question\", \"question\", \"race\", \"rain\", \"ralph\", \"rate\", \"react\", \"reality\", \"reap\", \"rearview\", \"rearview\", \"rearview\", \"reason\", \"reason\", \"reason\", \"reason\", \"refuse\", \"refuse\", \"relationship\", \"relationship\", \"release\", \"release\", \"remember\", \"remember\", \"remember\", \"remember\", \"repeat\", \"reputation\", \"reputation\", \"reputation\", \"respect\", \"respect\", \"respect\", \"respect\", \"respect\", \"result\", \"result\", \"result\", \"result\", \"rice\", \"rise\", \"risk\", \"road\", \"robert\", \"robert\", \"rohn\", \"roosevelt\", \"roosevelt\", \"roosevelt\", \"roosevelt\", \"round\", \"royce\", \"royce\", \"royce\", \"royce\", \"rule\", \"rule\", \"ruskin\", \"ruth\", \"sail\", \"saying\", \"scott\", \"sea\", \"search\", \"seed\", \"self\", \"self\", \"self\", \"self\", \"self\", \"send\", \"send\", \"send\", \"send\", \"seneca\", \"shade\", \"shadow\", \"shakespeare\", \"shift\", \"shift\", \"shift\", \"shine\", \"ship\", \"shot\", \"shut\", \"silence\", \"silence\", \"silence\", \"silence\", \"situation\", \"slip\", \"smile\", \"solution\", \"solve\", \"solve\", \"sorrow\", \"sort\", \"soul\", \"soul\", \"soul\", \"speak\", \"speech\", \"speed\", \"spell\", \"spirit\", \"spirit\", \"stand\", \"start\", \"start\", \"start\", \"start\", \"state\", \"step\", \"step\", \"step\", \"step\", \"step\", \"stephen\", \"stevenson\", \"stone\", \"stone\", \"stop\", \"stop\", \"stop\", \"stop\", \"stop\", \"storm\", \"strategy\", \"strength\", \"strength\", \"strike\", \"stuff\", \"succeed\", \"succeed\", \"succeed\", \"succeed\", \"succeed\", \"success\", \"success\", \"success\", \"success\", \"success\", \"success\", \"success\", \"success\", \"success\", \"success\", \"suit\", \"suit\", \"summit\", \"sun\", \"survival\", \"sweeten\", \"tagore\", \"talk\", \"talk\", \"teach\", \"teacher\", \"tell\", \"tension\", \"thatcher\", \"theory\", \"thing\", \"thing\", \"thing\", \"thing\", \"thing\", \"thing\", \"thing\", \"thing\", \"thing\", \"think\", \"think\", \"think\", \"think\", \"thinking\", \"thinking\", \"thinking\", \"thinking\", \"thirsty\", \"thomas\", \"thomas\", \"thomas\", \"thomas\", \"thoreau\", \"thought\", \"thought\", \"thought\", \"thought\", \"till\", \"time\", \"time\", \"time\", \"time\", \"time\", \"time\", \"time\", \"time\", \"time\", \"today\", \"today\", \"today\", \"today\", \"tomorrow\", \"tomorrow\", \"tomorrow\", \"tooth\", \"tracy\", \"tracy\", \"tracy\", \"train\", \"travel\", \"treat\", \"treat\", \"trouble\", \"truman\", \"trust\", \"truth\", \"truth\", \"truth\", \"truth\", \"try\", \"try\", \"try\", \"try\", \"try\", \"try\", \"try\", \"tune\", \"tune\", \"tune\", \"twain\", \"tzu\", \"uncomplicated\", \"uncomplicated\", \"uncomplicated\", \"uncomplicated\", \"understand\", \"understanding\", \"universe\", \"unk\", \"unk\", \"unk\", \"unk\", \"unk\", \"unk\", \"use\", \"use\", \"use\", \"use\", \"value\", \"value\", \"value\", \"value\", \"van\", \"version\", \"victor\", \"victory\", \"vincent\", \"vincent\", \"vision\", \"vision\", \"vision\", \"vision\", \"vision\", \"vision\", \"voltaire\", \"wadsworth\", \"wait\", \"waitley\", \"waldo\", \"waldo\", \"waste\", \"waste\", \"waste\", \"water\", \"way\", \"way\", \"way\", \"way\", \"way\", \"way\", \"way\", \"way\", \"way\", \"weakness\", \"weakness\", \"weakness\", \"weather\", \"william\", \"win\", \"win\", \"win\", \"wind\", \"winfrey\", \"winston\", \"wisdom\", \"wisdom\", \"wisdom\", \"wisdom\", \"wisdom\", \"wise\", \"woman\", \"woman\", \"word\", \"word\", \"work\", \"work\", \"work\", \"work\", \"work\", \"work\", \"work\", \"work\", \"world\", \"world\", \"world\", \"world\", \"world\", \"world\", \"world\", \"worry\", \"worry\", \"yogi\"]}, \"R\": 30, \"lambda.step\": 0.01, \"plot.opts\": {\"xlab\": \"PC1\", \"ylab\": \"PC2\"}, \"topic.order\": [8, 7, 5, 3, 1, 10, 2, 9, 4, 6]};\n",
              "\n",
              "function LDAvis_load_lib(url, callback){\n",
              "  var s = document.createElement('script');\n",
              "  s.src = url;\n",
              "  s.async = true;\n",
              "  s.onreadystatechange = s.onload = callback;\n",
              "  s.onerror = function(){console.warn(\"failed to load library \" + url);};\n",
              "  document.getElementsByTagName(\"head\")[0].appendChild(s);\n",
              "}\n",
              "\n",
              "if(typeof(LDAvis) !== \"undefined\"){\n",
              "   // already loaded: just create the visualization\n",
              "   !function(LDAvis){\n",
              "       new LDAvis(\"#\" + \"ldavis_el741402865986207686561930046\", ldavis_el741402865986207686561930046_data);\n",
              "   }(LDAvis);\n",
              "}else if(typeof define === \"function\" && define.amd){\n",
              "   // require.js is available: use it to load d3/LDAvis\n",
              "   require.config({paths: {d3: \"https://cdnjs.cloudflare.com/ajax/libs/d3/3.5.5/d3.min\"}});\n",
              "   require([\"d3\"], function(d3){\n",
              "      window.d3 = d3;\n",
              "      LDAvis_load_lib(\"https://cdn.rawgit.com/bmabey/pyLDAvis/files/ldavis.v1.0.0.js\", function(){\n",
              "        new LDAvis(\"#\" + \"ldavis_el741402865986207686561930046\", ldavis_el741402865986207686561930046_data);\n",
              "      });\n",
              "    });\n",
              "}else{\n",
              "    // require.js not available: dynamically load d3 & LDAvis\n",
              "    LDAvis_load_lib(\"https://cdnjs.cloudflare.com/ajax/libs/d3/3.5.5/d3.min.js\", function(){\n",
              "         LDAvis_load_lib(\"https://cdn.rawgit.com/bmabey/pyLDAvis/files/ldavis.v1.0.0.js\", function(){\n",
              "                 new LDAvis(\"#\" + \"ldavis_el741402865986207686561930046\", ldavis_el741402865986207686561930046_data);\n",
              "            })\n",
              "         });\n",
              "}\n",
              "</script>"
            ],
            "text/plain": [
              "PreparedData(topic_coordinates=              x         y  topics  cluster       Freq\n",
              "topic                                                \n",
              "7     -0.081715 -0.133343       1        1  11.502454\n",
              "6      0.253952  0.031142       2        1  10.965268\n",
              "4     -0.136100 -0.197542       3        1  10.561949\n",
              "2      0.216165 -0.106330       4        1  10.521989\n",
              "0     -0.084703 -0.017648       5        1  10.071324\n",
              "9     -0.166400 -0.207211       6        1   9.963172\n",
              "1     -0.050919  0.180100       7        1   9.825359\n",
              "8     -0.130878  0.186390       8        1   9.552783\n",
              "3      0.285625  0.006803       9        1   9.301172\n",
              "5     -0.105026  0.257638      10        1   7.734529, topic_info=            Term           Freq          Total Category  logprob  loglift\n",
              "1463        dyer  112346.000000  112346.000000  Default  30.0000  30.0000\n",
              "239          man   34889.000000   34889.000000  Default  29.0000  29.0000\n",
              "72         thing   35276.000000   35276.000000  Default  28.0000  28.0000\n",
              "159        world   24529.000000   24529.000000  Default  27.0000  27.0000\n",
              "119         time   35716.000000   35716.000000  Default  26.0000  26.0000\n",
              "...          ...            ...            ...      ...      ...      ...\n",
              "13          pain    1948.716694    2203.477774  Topic10  -4.6926   2.4366\n",
              "103        think    4641.525216    9168.830044  Topic10  -3.8247   1.8787\n",
              "758   reputation    1917.683025    2210.466739  Topic10  -4.7087   2.4174\n",
              "78          life    6413.772147   64609.428397  Topic10  -3.5013   0.2496\n",
              "143          job    1968.526237    2940.362107  Topic10  -4.6825   2.1582\n",
              "\n",
              "[555 rows x 6 columns], token_table=      Topic      Freq     Term\n",
              "term                          \n",
              "175       1  0.000252  ability\n",
              "175       2  0.000757  ability\n",
              "175       3  0.204230  ability\n",
              "175       4  0.000252  ability\n",
              "175       6  0.001262  ability\n",
              "...     ...       ...      ...\n",
              "159       9  0.000082    world\n",
              "159      10  0.985268    world\n",
              "597       1  0.000564    worry\n",
              "597       3  0.999397    worry\n",
              "3490      3  0.999775     yogi\n",
              "\n",
              "[1113 rows x 3 columns], R=30, lambda_step=0.01, plot_opts={'xlab': 'PC1', 'ylab': 'PC2'}, topic_order=[8, 7, 5, 3, 1, 10, 2, 9, 4, 6])"
            ]
          },
          "metadata": {
            "tags": []
          },
          "execution_count": 13
        }
      ]
    },
    {
      "cell_type": "code",
      "metadata": {
        "id": "xbH0VY_Gl3zw"
      },
      "source": [
        "get_document_topics = [base_model.get_document_topics(item) for item in corpus]"
      ],
      "execution_count": 14,
      "outputs": []
    },
    {
      "cell_type": "code",
      "metadata": {
        "colab": {
          "base_uri": "https://localhost:8080/"
        },
        "id": "Km4y6vNzY-oA",
        "outputId": "41738f52-7727-48e3-86fd-4a60659cfe75"
      },
      "source": [
        "len(get_document_topics)"
      ],
      "execution_count": 15,
      "outputs": [
        {
          "output_type": "execute_result",
          "data": {
            "text/plain": [
              "621449"
            ]
          },
          "metadata": {
            "tags": []
          },
          "execution_count": 15
        }
      ]
    },
    {
      "cell_type": "code",
      "metadata": {
        "colab": {
          "base_uri": "https://localhost:8080/"
        },
        "id": "HXFAE9L6Y3UO",
        "outputId": "fa9472f0-3c03-48de-81f9-23e64d4c598b"
      },
      "source": [
        "get_document_topics[:20]"
      ],
      "execution_count": 16,
      "outputs": [
        {
          "output_type": "execute_result",
          "data": {
            "text/plain": [
              "[[(1, 0.07101079),\n",
              "  (2, 0.13581105),\n",
              "  (4, 0.13433206),\n",
              "  (5, 0.18648537),\n",
              "  (6, 0.18274525),\n",
              "  (8, 0.09069367),\n",
              "  (9, 0.18126833)],\n",
              " [(0, 0.102748096),\n",
              "  (1, 0.29417434),\n",
              "  (2, 0.30613267),\n",
              "  (4, 0.15891053),\n",
              "  (6, 0.0995677)],\n",
              " [(2, 0.13333443),\n",
              "  (3, 0.09001121),\n",
              "  (5, 0.092044435),\n",
              "  (6, 0.25910264),\n",
              "  (7, 0.09363634),\n",
              "  (8, 0.21832901),\n",
              "  (9, 0.09046407)],\n",
              " [(0, 0.08458617),\n",
              "  (2, 0.23480786),\n",
              "  (4, 0.10348957),\n",
              "  (6, 0.23976971),\n",
              "  (7, 0.09783606),\n",
              "  (8, 0.088557445),\n",
              "  (9, 0.1278747)],\n",
              " [(1, 0.09384663),\n",
              "  (3, 0.17705303),\n",
              "  (6, 0.10579556),\n",
              "  (7, 0.34577695),\n",
              "  (8, 0.23584943)],\n",
              " [(1, 0.13708286),\n",
              "  (2, 0.34397542),\n",
              "  (4, 0.0979844),\n",
              "  (5, 0.072905205),\n",
              "  (6, 0.20303252),\n",
              "  (8, 0.047579274),\n",
              "  (9, 0.07979118)],\n",
              " [(2, 0.1618415), (6, 0.21317543), (8, 0.10222257), (9, 0.4727558)],\n",
              " [(0, 0.02),\n",
              "  (1, 0.21989796),\n",
              "  (2, 0.24108222),\n",
              "  (3, 0.02),\n",
              "  (4, 0.02),\n",
              "  (5, 0.22),\n",
              "  (6, 0.19901904),\n",
              "  (7, 0.02),\n",
              "  (8, 0.02),\n",
              "  (9, 0.020000769)],\n",
              " [(2, 0.10656946),\n",
              "  (5, 0.226691),\n",
              "  (6, 0.21698922),\n",
              "  (7, 0.19340175),\n",
              "  (8, 0.21087803)],\n",
              " [(0, 0.120035686),\n",
              "  (1, 0.10444186),\n",
              "  (2, 0.010002292),\n",
              "  (3, 0.010001595),\n",
              "  (4, 0.1147141),\n",
              "  (5, 0.10508467),\n",
              "  (6, 0.10977973),\n",
              "  (7, 0.010002919),\n",
              "  (8, 0.2510869),\n",
              "  (9, 0.16485026)],\n",
              " [(0, 0.094667904),\n",
              "  (4, 0.25990173),\n",
              "  (6, 0.17226422),\n",
              "  (8, 0.33787748),\n",
              "  (9, 0.09361634)],\n",
              " [(0, 0.010001798),\n",
              "  (1, 0.010002915),\n",
              "  (2, 0.2316443),\n",
              "  (3, 0.2032826),\n",
              "  (4, 0.010000909),\n",
              "  (5, 0.13957371),\n",
              "  (6, 0.12654689),\n",
              "  (7, 0.24894623),\n",
              "  (8, 0.010000559),\n",
              "  (9, 0.010000093)],\n",
              " [(0, 0.020000003),\n",
              "  (1, 0.020000001),\n",
              "  (2, 0.5589146),\n",
              "  (3, 0.020000005),\n",
              "  (4, 0.020007033),\n",
              "  (5, 0.020000001),\n",
              "  (6, 0.020000003),\n",
              "  (7, 0.28107834),\n",
              "  (8, 0.020000009),\n",
              "  (9, 0.020000016)],\n",
              " [(0, 0.4517893),\n",
              "  (1, 0.016667882),\n",
              "  (2, 0.016667647),\n",
              "  (3, 0.0166675),\n",
              "  (4, 0.016667733),\n",
              "  (5, 0.016668443),\n",
              "  (6, 0.016667591),\n",
              "  (7, 0.4148674),\n",
              "  (8, 0.016668735),\n",
              "  (9, 0.01666773)],\n",
              " [(0, 0.010002079),\n",
              "  (1, 0.010001967),\n",
              "  (2, 0.010001591),\n",
              "  (3, 0.5351895),\n",
              "  (4, 0.010001727),\n",
              "  (5, 0.010004418),\n",
              "  (6, 0.0100025395),\n",
              "  (7, 0.38479036),\n",
              "  (8, 0.010003956),\n",
              "  (9, 0.010001855)],\n",
              " [(0, 0.020000722),\n",
              "  (1, 0.0200008),\n",
              "  (2, 0.020000864),\n",
              "  (3, 0.020000547),\n",
              "  (4, 0.020000702),\n",
              "  (5, 0.26914123),\n",
              "  (6, 0.2348495),\n",
              "  (7, 0.020000787),\n",
              "  (8, 0.020000827),\n",
              "  (9, 0.35600403)],\n",
              " [(0, 0.05),\n",
              "  (1, 0.050000004),\n",
              "  (2, 0.05),\n",
              "  (3, 0.050000004),\n",
              "  (4, 0.05),\n",
              "  (5, 0.05),\n",
              "  (6, 0.05000001),\n",
              "  (7, 0.05),\n",
              "  (8, 0.55),\n",
              "  (9, 0.05)],\n",
              " [(0, 0.020001858),\n",
              "  (1, 0.020008128),\n",
              "  (2, 0.020001765),\n",
              "  (3, 0.020001333),\n",
              "  (4, 0.020001713),\n",
              "  (5, 0.020002842),\n",
              "  (6, 0.020001773),\n",
              "  (7, 0.56655526),\n",
              "  (8, 0.020003771),\n",
              "  (9, 0.27342156)],\n",
              " [(0, 0.05),\n",
              "  (1, 0.05),\n",
              "  (2, 0.05),\n",
              "  (3, 0.05),\n",
              "  (4, 0.05),\n",
              "  (5, 0.55),\n",
              "  (6, 0.05),\n",
              "  (7, 0.05),\n",
              "  (8, 0.05),\n",
              "  (9, 0.05)],\n",
              " [(0, 0.09759769),\n",
              "  (1, 0.3451386),\n",
              "  (4, 0.06419744),\n",
              "  (6, 0.097728014),\n",
              "  (8, 0.35366875)]]"
            ]
          },
          "metadata": {
            "tags": []
          },
          "execution_count": 16
        }
      ]
    },
    {
      "cell_type": "code",
      "metadata": {
        "id": "70Msw50ipaxD"
      },
      "source": [
        "# supporting function\n",
        "def compute_coherence_values(corpus, dictionary, k, a, b):\n",
        "    \n",
        "    lda_model = gensim.models.LdaMulticore(corpus=corpus,\n",
        "                                           id2word=dictionary,\n",
        "                                           num_topics=k, \n",
        "                                           alpha=a,\n",
        "                                           eta=b,\n",
        "                                           random_state=222)\n",
        "    \n",
        "    coherence_model_lda = CoherenceModel(model=lda_model, texts=texts, dictionary=id2word, coherence='c_v')\n",
        "    \n",
        "    return coherence_model_lda.get_coherence()"
      ],
      "execution_count": 17,
      "outputs": []
    },
    {
      "cell_type": "code",
      "metadata": {
        "id": "CHqifw2LoPta",
        "colab": {
          "base_uri": "https://localhost:8080/"
        },
        "outputId": "5cb279ee-b779-4b71-c53e-1174b34bb4aa"
      },
      "source": [
        "# start preprocess runtime\n",
        "start_time = time.time() \n",
        "\n",
        "# Topics range\n",
        "min_topics = 3\n",
        "max_topics = 10\n",
        "step_size = 1\n",
        "topics_range = range(min_topics, max_topics, step_size)\n",
        "# Alpha parameter\n",
        "alpha = [.01,.1,.5,1,'symmetric','asymmetric']\n",
        "# Beta parameter\n",
        "beta = [.01,.1,.5,1,'symmetric']\n",
        "\n",
        "# model results dict\n",
        "model_results = {'Topics': [],\n",
        "                 'Alpha': [],\n",
        "                 'Beta': [],\n",
        "                 'Coherence': []\n",
        "                }\n",
        "# Can take a long time to run\n",
        "if 1 == 1:\n",
        "    pbar = tqdm.tqdm(total=210)\n",
        "\n",
        "    # iterate through number of topics\n",
        "    for k in topics_range:\n",
        "        # iterate through alpha values\n",
        "        for a in alpha:\n",
        "            # iterare through beta values\n",
        "            for b in beta:\n",
        "                # get the coherence score for the given parameters\n",
        "                cv = compute_coherence_values(corpus=corpus, dictionary=id2word, \n",
        "                                              k=k, a=a, b=b)\n",
        "                # Save the model results\n",
        "                model_results['Topics'].append(k)\n",
        "                model_results['Alpha'].append(a)\n",
        "                model_results['Beta'].append(b)\n",
        "                model_results['Coherence'].append(cv)\n",
        "                \n",
        "                pbar.update(1)\n",
        "    lda_tuning_results = pd.DataFrame(model_results)                \n",
        "    lda_tuning_results.to_csv('/content/drive/MyDrive/Data/NLP_Capstone/lda_tuning_results.csv', index=False)\n",
        "    pbar.close()\n",
        "\n",
        "# print preprocess runtime\n",
        "print(time.strftime(f'%H hours, %M minutes, %S seconds', time.gmtime(time.time() - start_time)))"
      ],
      "execution_count": 18,
      "outputs": [
        {
          "output_type": "stream",
          "text": [
            "100%|██████████| 210/210 [4:21:43<00:00, 74.78s/it]"
          ],
          "name": "stderr"
        },
        {
          "output_type": "stream",
          "text": [
            "04 hours, 21 minutes, 43 seconds\n"
          ],
          "name": "stdout"
        },
        {
          "output_type": "stream",
          "text": [
            "\n"
          ],
          "name": "stderr"
        }
      ]
    },
    {
      "cell_type": "code",
      "metadata": {
        "id": "WIrLrAIDLN4K",
        "colab": {
          "base_uri": "https://localhost:8080/",
          "height": 979
        },
        "outputId": "e10f7c6e-4360-48e1-c8da-881a1b1cb48c"
      },
      "source": [
        "lda_tuning_results.sort_values('Coherence',ascending=False).head(30)"
      ],
      "execution_count": 19,
      "outputs": [
        {
          "output_type": "execute_result",
          "data": {
            "text/html": [
              "<div>\n",
              "<style scoped>\n",
              "    .dataframe tbody tr th:only-of-type {\n",
              "        vertical-align: middle;\n",
              "    }\n",
              "\n",
              "    .dataframe tbody tr th {\n",
              "        vertical-align: top;\n",
              "    }\n",
              "\n",
              "    .dataframe thead th {\n",
              "        text-align: right;\n",
              "    }\n",
              "</style>\n",
              "<table border=\"1\" class=\"dataframe\">\n",
              "  <thead>\n",
              "    <tr style=\"text-align: right;\">\n",
              "      <th></th>\n",
              "      <th>Topics</th>\n",
              "      <th>Alpha</th>\n",
              "      <th>Beta</th>\n",
              "      <th>Coherence</th>\n",
              "    </tr>\n",
              "  </thead>\n",
              "  <tbody>\n",
              "    <tr>\n",
              "      <th>161</th>\n",
              "      <td>8</td>\n",
              "      <td>0.5</td>\n",
              "      <td>0.1</td>\n",
              "      <td>0.592711</td>\n",
              "    </tr>\n",
              "    <tr>\n",
              "      <th>160</th>\n",
              "      <td>8</td>\n",
              "      <td>0.5</td>\n",
              "      <td>0.01</td>\n",
              "      <td>0.591234</td>\n",
              "    </tr>\n",
              "    <tr>\n",
              "      <th>190</th>\n",
              "      <td>9</td>\n",
              "      <td>0.5</td>\n",
              "      <td>0.01</td>\n",
              "      <td>0.590173</td>\n",
              "    </tr>\n",
              "    <tr>\n",
              "      <th>164</th>\n",
              "      <td>8</td>\n",
              "      <td>0.5</td>\n",
              "      <td>symmetric</td>\n",
              "      <td>0.588483</td>\n",
              "    </tr>\n",
              "    <tr>\n",
              "      <th>191</th>\n",
              "      <td>9</td>\n",
              "      <td>0.5</td>\n",
              "      <td>0.1</td>\n",
              "      <td>0.586364</td>\n",
              "    </tr>\n",
              "    <tr>\n",
              "      <th>130</th>\n",
              "      <td>7</td>\n",
              "      <td>0.5</td>\n",
              "      <td>0.01</td>\n",
              "      <td>0.583838</td>\n",
              "    </tr>\n",
              "    <tr>\n",
              "      <th>133</th>\n",
              "      <td>7</td>\n",
              "      <td>0.5</td>\n",
              "      <td>1</td>\n",
              "      <td>0.581137</td>\n",
              "    </tr>\n",
              "    <tr>\n",
              "      <th>163</th>\n",
              "      <td>8</td>\n",
              "      <td>0.5</td>\n",
              "      <td>1</td>\n",
              "      <td>0.579718</td>\n",
              "    </tr>\n",
              "    <tr>\n",
              "      <th>207</th>\n",
              "      <td>9</td>\n",
              "      <td>asymmetric</td>\n",
              "      <td>0.5</td>\n",
              "      <td>0.578841</td>\n",
              "    </tr>\n",
              "    <tr>\n",
              "      <th>205</th>\n",
              "      <td>9</td>\n",
              "      <td>asymmetric</td>\n",
              "      <td>0.01</td>\n",
              "      <td>0.577674</td>\n",
              "    </tr>\n",
              "    <tr>\n",
              "      <th>194</th>\n",
              "      <td>9</td>\n",
              "      <td>0.5</td>\n",
              "      <td>symmetric</td>\n",
              "      <td>0.575956</td>\n",
              "    </tr>\n",
              "    <tr>\n",
              "      <th>192</th>\n",
              "      <td>9</td>\n",
              "      <td>0.5</td>\n",
              "      <td>0.5</td>\n",
              "      <td>0.574897</td>\n",
              "    </tr>\n",
              "    <tr>\n",
              "      <th>162</th>\n",
              "      <td>8</td>\n",
              "      <td>0.5</td>\n",
              "      <td>0.5</td>\n",
              "      <td>0.574795</td>\n",
              "    </tr>\n",
              "    <tr>\n",
              "      <th>206</th>\n",
              "      <td>9</td>\n",
              "      <td>asymmetric</td>\n",
              "      <td>0.1</td>\n",
              "      <td>0.574554</td>\n",
              "    </tr>\n",
              "    <tr>\n",
              "      <th>193</th>\n",
              "      <td>9</td>\n",
              "      <td>0.5</td>\n",
              "      <td>1</td>\n",
              "      <td>0.572961</td>\n",
              "    </tr>\n",
              "    <tr>\n",
              "      <th>175</th>\n",
              "      <td>8</td>\n",
              "      <td>asymmetric</td>\n",
              "      <td>0.01</td>\n",
              "      <td>0.571900</td>\n",
              "    </tr>\n",
              "    <tr>\n",
              "      <th>111</th>\n",
              "      <td>6</td>\n",
              "      <td>symmetric</td>\n",
              "      <td>0.1</td>\n",
              "      <td>0.571381</td>\n",
              "    </tr>\n",
              "    <tr>\n",
              "      <th>208</th>\n",
              "      <td>9</td>\n",
              "      <td>asymmetric</td>\n",
              "      <td>1</td>\n",
              "      <td>0.567563</td>\n",
              "    </tr>\n",
              "    <tr>\n",
              "      <th>131</th>\n",
              "      <td>7</td>\n",
              "      <td>0.5</td>\n",
              "      <td>0.1</td>\n",
              "      <td>0.565638</td>\n",
              "    </tr>\n",
              "    <tr>\n",
              "      <th>209</th>\n",
              "      <td>9</td>\n",
              "      <td>asymmetric</td>\n",
              "      <td>symmetric</td>\n",
              "      <td>0.564296</td>\n",
              "    </tr>\n",
              "    <tr>\n",
              "      <th>155</th>\n",
              "      <td>8</td>\n",
              "      <td>0.1</td>\n",
              "      <td>0.01</td>\n",
              "      <td>0.563683</td>\n",
              "    </tr>\n",
              "    <tr>\n",
              "      <th>132</th>\n",
              "      <td>7</td>\n",
              "      <td>0.5</td>\n",
              "      <td>0.5</td>\n",
              "      <td>0.562275</td>\n",
              "    </tr>\n",
              "    <tr>\n",
              "      <th>180</th>\n",
              "      <td>9</td>\n",
              "      <td>0.01</td>\n",
              "      <td>0.01</td>\n",
              "      <td>0.562018</td>\n",
              "    </tr>\n",
              "    <tr>\n",
              "      <th>159</th>\n",
              "      <td>8</td>\n",
              "      <td>0.1</td>\n",
              "      <td>symmetric</td>\n",
              "      <td>0.560990</td>\n",
              "    </tr>\n",
              "    <tr>\n",
              "      <th>134</th>\n",
              "      <td>7</td>\n",
              "      <td>0.5</td>\n",
              "      <td>symmetric</td>\n",
              "      <td>0.559902</td>\n",
              "    </tr>\n",
              "    <tr>\n",
              "      <th>99</th>\n",
              "      <td>6</td>\n",
              "      <td>0.1</td>\n",
              "      <td>symmetric</td>\n",
              "      <td>0.557791</td>\n",
              "    </tr>\n",
              "    <tr>\n",
              "      <th>112</th>\n",
              "      <td>6</td>\n",
              "      <td>symmetric</td>\n",
              "      <td>0.5</td>\n",
              "      <td>0.556148</td>\n",
              "    </tr>\n",
              "    <tr>\n",
              "      <th>114</th>\n",
              "      <td>6</td>\n",
              "      <td>symmetric</td>\n",
              "      <td>symmetric</td>\n",
              "      <td>0.556027</td>\n",
              "    </tr>\n",
              "    <tr>\n",
              "      <th>145</th>\n",
              "      <td>7</td>\n",
              "      <td>asymmetric</td>\n",
              "      <td>0.01</td>\n",
              "      <td>0.554879</td>\n",
              "    </tr>\n",
              "    <tr>\n",
              "      <th>170</th>\n",
              "      <td>8</td>\n",
              "      <td>symmetric</td>\n",
              "      <td>0.01</td>\n",
              "      <td>0.554749</td>\n",
              "    </tr>\n",
              "  </tbody>\n",
              "</table>\n",
              "</div>"
            ],
            "text/plain": [
              "     Topics       Alpha       Beta  Coherence\n",
              "161       8         0.5        0.1   0.592711\n",
              "160       8         0.5       0.01   0.591234\n",
              "190       9         0.5       0.01   0.590173\n",
              "164       8         0.5  symmetric   0.588483\n",
              "191       9         0.5        0.1   0.586364\n",
              "130       7         0.5       0.01   0.583838\n",
              "133       7         0.5          1   0.581137\n",
              "163       8         0.5          1   0.579718\n",
              "207       9  asymmetric        0.5   0.578841\n",
              "205       9  asymmetric       0.01   0.577674\n",
              "194       9         0.5  symmetric   0.575956\n",
              "192       9         0.5        0.5   0.574897\n",
              "162       8         0.5        0.5   0.574795\n",
              "206       9  asymmetric        0.1   0.574554\n",
              "193       9         0.5          1   0.572961\n",
              "175       8  asymmetric       0.01   0.571900\n",
              "111       6   symmetric        0.1   0.571381\n",
              "208       9  asymmetric          1   0.567563\n",
              "131       7         0.5        0.1   0.565638\n",
              "209       9  asymmetric  symmetric   0.564296\n",
              "155       8         0.1       0.01   0.563683\n",
              "132       7         0.5        0.5   0.562275\n",
              "180       9        0.01       0.01   0.562018\n",
              "159       8         0.1  symmetric   0.560990\n",
              "134       7         0.5  symmetric   0.559902\n",
              "99        6         0.1  symmetric   0.557791\n",
              "112       6   symmetric        0.5   0.556148\n",
              "114       6   symmetric  symmetric   0.556027\n",
              "145       7  asymmetric       0.01   0.554879\n",
              "170       8   symmetric       0.01   0.554749"
            ]
          },
          "metadata": {
            "tags": []
          },
          "execution_count": 19
        }
      ]
    },
    {
      "cell_type": "code",
      "metadata": {
        "colab": {
          "base_uri": "https://localhost:8080/"
        },
        "id": "QCX-aEIQwHWT",
        "outputId": "664eb5fb-511b-44f8-bd25-ae3aaf010af0"
      },
      "source": [
        "# number optimal of topics\n",
        "num_topics = 8\n",
        "# build optimal LDA model\n",
        "optimal_model = gensim.models.LdaMulticore(corpus=corpus,\n",
        "                                       id2word=id2word,\n",
        "                                       num_topics=num_topics,\n",
        "                                        alpha=.5,\n",
        "                                        eta=.1,\n",
        "                                        random_state=222\n",
        "                                        )\n",
        "# filtering for words \n",
        "words = [re.findall(r'\"([^\"]*)\"',t[1]) for t in optimal_model.print_topics()]\n",
        "\n",
        "# create topic sorted by 10 most relevent words\n",
        "topics = [' '.join(t[0:10]) for t in words]\n",
        "\n",
        "\n",
        "# print most relevent words for each topic\n",
        "for id, t in enumerate(topics): \n",
        "    print(f\"------ Topic {id} ------\")\n",
        "    print(t, end=\"\\n\\n\")"
      ],
      "execution_count": 20,
      "outputs": [
        {
          "output_type": "stream",
          "text": [
            "------ Topic 0 ------\n",
            "man power mind act matter happiness opportunity churchill happen winston\n",
            "\n",
            "------ Topic 1 ------\n",
            "thing think proverb dream john man today judge robert trust\n",
            "\n",
            "------ Topic 2 ------\n",
            "change let desire decision bind tzu forget dog water harm\n",
            "\n",
            "------ Topic 3 ------\n",
            "dyer way amp thought success einstein strength problem action reality\n",
            "\n",
            "------ Topic 4 ------\n",
            "life peace amp body respect control ask napoleon presence woman\n",
            "\n",
            "------ Topic 5 ------\n",
            "heart come man try lincoln courage succeed abraham learn lama\n",
            "\n",
            "------ Topic 6 ------\n",
            "time world day choice create fall lie henry experience george\n",
            "\n",
            "------ Topic 7 ------\n",
            "love person look get feel work place step franklin eye\n",
            "\n"
          ],
          "name": "stdout"
        }
      ]
    },
    {
      "cell_type": "code",
      "metadata": {
        "colab": {
          "base_uri": "https://localhost:8080/"
        },
        "id": "cFd4lknIw7UM",
        "outputId": "08eb4ca5-de1c-496c-bbfe-977bb3cb2192"
      },
      "source": [
        "# Compute Perplexity\n",
        "## a measure of how good the model is. lower the better\n",
        "base_perplexity = optimal_model.log_perplexity(corpus)\n",
        "print('\\nPerplexity: ', base_perplexity) \n",
        "\n",
        "# Compute Coherence Score\n",
        "coherence_model = CoherenceModel(model=optimal_model, texts=tweets_cleaned['nouns_verbs'], \n",
        "                                   dictionary=id2word, coherence='c_v')\n",
        "coherence_lda_model_base = coherence_model.get_coherence()\n",
        "print('\\nCoherence Score: ', coherence_lda_model_base)"
      ],
      "execution_count": 21,
      "outputs": [
        {
          "output_type": "stream",
          "text": [
            "\n",
            "Perplexity:  -6.922985491470671\n",
            "\n",
            "Coherence Score:  0.5949793728214159\n"
          ],
          "name": "stdout"
        }
      ]
    },
    {
      "cell_type": "code",
      "metadata": {
        "colab": {
          "base_uri": "https://localhost:8080/",
          "height": 881
        },
        "id": "vnQc4kJDwzg3",
        "outputId": "462d3ca4-57fc-4111-a3fb-3578090af389"
      },
      "source": [
        "# topic distance visualization \n",
        "pyLDAvis.enable_notebook()\n",
        "pyLDAvis.gensim.prepare(optimal_model, corpus, id2word)"
      ],
      "execution_count": 22,
      "outputs": [
        {
          "output_type": "execute_result",
          "data": {
            "text/html": [
              "\n",
              "<link rel=\"stylesheet\" type=\"text/css\" href=\"https://cdn.rawgit.com/bmabey/pyLDAvis/files/ldavis.v1.0.0.css\">\n",
              "\n",
              "\n",
              "<div id=\"ldavis_el741402865986228086844452499\"></div>\n",
              "<script type=\"text/javascript\">\n",
              "\n",
              "var ldavis_el741402865986228086844452499_data = {\"mdsDat\": {\"x\": [0.294869756189134, -0.19772206441007065, -0.15834484732463508, 0.21918133227615627, 0.024153636324539908, -0.18697414907982726, -0.008413047375698557, 0.013249383400401164], \"y\": [0.09750333196991247, 0.14524110735812173, -0.08223224943878034, 0.08900956651806731, -0.10317969510042159, 0.129863815432004, 0.09836392528229314, -0.3745698020211966], \"topics\": [1, 2, 3, 4, 5, 6, 7, 8], \"cluster\": [1, 1, 1, 1, 1, 1, 1, 1], \"Freq\": [13.896215207930137, 13.380347662465283, 12.807795528674204, 12.753819544292675, 12.46687339034028, 11.79744435309759, 11.746143365493845, 11.151360947705983]}, \"tinfo\": {\"Term\": [\"dyer\", \"life\", \"time\", \"thing\", \"change\", \"love\", \"world\", \"day\", \"heart\", \"let\", \"person\", \"look\", \"choice\", \"get\", \"amp\", \"man\", \"mind\", \"come\", \"create\", \"power\", \"feel\", \"act\", \"peace\", \"think\", \"try\", \"way\", \"lincoln\", \"place\", \"success\", \"proverb\", \"vincent\", \"albert\", \"discover\", \"percent\", \"jim\", \"einstein\", \"strike\", \"ruth\", \"denis\", \"optimism\", \"wooden\", \"babe\", \"winner\", \"race\", \"glasgow\", \"edge\", \"peale\", \"necessity\", \"describe\", \"enjoy\", \"waitley\", \"rowling\", \"eggleston\", \"brinkley\", \"occasion\", \"foundation\", \"faith\", \"lay\", \"brown\", \"balfour\", \"dyer\", \"strength\", \"success\", \"result\", \"failure\", \"reality\", \"rohn\", \"problem\", \"solve\", \"attract\", \"enemy\", \"energy\", \"word\", \"win\", \"knowledge\", \"bonaparte\", \"use\", \"inspiration\", \"action\", \"avoid\", \"keep\", \"hoffer\", \"wisdom\", \"achievement\", \"passion\", \"thought\", \"way\", \"amp\", \"character\", \"fear\", \"practice\", \"fuller\", \"monroe\", \"tomorrow\", \"conflict\", \"lewis\", \"plant\", \"rice\", \"robert\", \"drucker\", \"reap\", \"harvest\", \"seed\", \"discourage\", \"kennedy\", \"shadow\", \"goethe\", \"thatcher\", \"history\", \"motivation\", \"mail\", \"controversy\", \"jerry\", \"axe\", \"mlk\", \"tennis\", \"chop\", \"shade\", \"speed\", \"dawn\", \"donald\", \"think\", \"proverb\", \"today\", \"judge\", \"speak\", \"fool\", \"trust\", \"shine\", \"danger\", \"dr\", \"ego\", \"stevenson\", \"wise\", \"year\", \"thing\", \"inspire\", \"brault\", \"start\", \"worry\", \"goal\", \"john\", \"know\", \"dream\", \"aim\", \"sun\", \"night\", \"letter\", \"challenge\", \"thomas\", \"pessimist\", \"peter\", \"reason\", \"edison\", \"unk\", \"learn\", \"man\", \"ralph\", \"eleanor\", \"kill\", \"fire\", \"helen\", \"saying\", \"stephen\", \"covey\", \"carl\", \"child\", \"winston\", \"attain\", \"hand\", \"spirit\", \"stone\", \"optimist\", \"zen\", \"bertrand\", \"car\", \"foot\", \"realise\", \"seus\", \"block\", \"stuff\", \"steer\", \"distance\", \"seuss\", \"waldo\", \"counsel\", \"balance\", \"mind\", \"happen\", \"churchill\", \"care\", \"act\", \"game\", \"thinking\", \"bring\", \"idea\", \"treat\", \"keller\", \"weather\", \"truth\", \"opportunity\", \"matter\", \"happiness\", \"play\", \"find\", \"jung\", \"stop\", \"power\", \"roosevelt\", \"release\", \"emerson\", \"man\", \"difficulty\", \"end\", \"control\", \"bite\", \"lengthen\", \"seneca\", \"music\", \"dalai\", \"universe\", \"harmony\", \"respect\", \"confuciu\", \"wear\", \"activity\", \"lucius\", \"annaeus\", \"complicated\", \"floor\", \"contentment\", \"evidence\", \"height\", \"attempt\", \"possession\", \"say\", \"iv\", \"material\", \"consist\", \"recovery\", \"news\", \"limit\", \"contemplate\", \"hill\", \"presence\", \"life\", \"value\", \"self\", \"eliot\", \"want\", \"benefit\", \"silence\", \"peace\", \"impact\", \"patience\", \"jefferson\", \"giving\", \"emotion\", \"meaning\", \"body\", \"obstacle\", \"fact\", \"napoleon\", \"send\", \"begin\", \"choose\", \"honor\", \"woman\", \"ask\", \"sense\", \"amp\", \"dance\", \"define\", \"question\", \"allow\", \"martin\", \"greatness\", \"benjamin\", \"bach\", \"rate\", \"c\", \"richard\", \"leader\", \"hate\", \"attention\", \"pressure\", \"darkness\", \"ease\", \"ppl\", \"nader\", \"shut\", \"yogi\", \"wilde\", \"onassis\", \"jr\", \"disraeli\", \"picture\", \"explain\", \"r\", \"show\", \"door\", \"perfection\", \"accept\", \"louise\", \"rainbow\", \"feel\", \"franklin\", \"king\", \"place\", \"feeling\", \"eye\", \"hay\", \"person\", \"get\", \"love\", \"rain\", \"state\", \"god\", \"mean\", \"stay\", \"look\", \"hemingway\", \"gift\", \"work\", \"soul\", \"step\", \"talk\", \"take\", \"make\", \"moment\", \"way\", \"lincoln\", \"abraham\", \"stand\", \"alcott\", \"discouragement\", \"louisa\", \"risk\", \"blessing\", \"andrew\", \"sail\", \"mahatma\", \"trouble\", \"celebrate\", \"heal\", \"beauty\", \"pass\", \"jack\", \"shell\", \"welch\", \"howard\", \"tall\", \"death\", \"conscience\", \"gilbert\", \"gandhi\", \"twain\", \"bag\", \"angel\", \"listener\", \"knot\", \"come\", \"courage\", \"kind\", \"frustration\", \"heart\", \"intent\", \"huie\", \"lockwood\", \"jonathan\", \"storm\", \"rule\", \"build\", \"anger\", \"understanding\", \"acceptance\", \"fail\", \"hang\", \"remember\", \"freedom\", \"hope\", \"carnegie\", \"suit\", \"try\", \"lama\", \"succeed\", \"refuse\", \"lesson\", \"man\", \"learn\", \"hell\", \"thoreau\", \"finger\", \"glory\", \"fight\", \"situation\", \"sorrow\", \"living\", \"answer\", \"lady\", \"journey\", \"interest\", \"david\", \"mediocrity\", \"wall\", \"lucas\", \"henry\", \"cope\", \"winning\", \"lie\", \"mandela\", \"signify\", \"culture\", \"response\", \"cycle\", \"vaughn\", \"possibility\", \"miracle\", \"kaufman\", \"marx\", \"time\", \"choice\", \"create\", \"george\", \"rise\", \"path\", \"voltaire\", \"meditate\", \"fall\", \"art\", \"point\", \"world\", \"difference\", \"level\", \"prevent\", \"habit\", \"day\", \"abundance\", \"go\", \"waste\", \"experience\", \"intention\", \"moment\", \"man\", \"thought\", \"question\", \"victory\", \"dwell\", \"water\", \"maya\", \"truman\", \"dig\", \"bind\", \"spell\", \"page\", \"lao\", \"windshield\", \"pull\", \"thirsty\", \"corner\", \"reward\", \"ashamed\", \"specie\", \"wife\", \"shakur\", \"fitzgerald\", \"dictate\", \"delight\", \"ayn\", \"help\", \"change\", \"rand\", \"preach\", \"hurt\", \"rest\", \"envy\", \"let\", \"desire\", \"tzu\", \"dog\", \"harm\", \"business\", \"harry\", \"opinion\", \"guidance\", \"watch\", \"pickford\", \"sea\", \"push\", \"fantasy\", \"enthusiasm\", \"decide\", \"fortune\", \"tolerance\", \"deserve\", \"decision\", \"ignorance\", \"asset\", \"michael\", \"forget\", \"meet\", \"pain\", \"loving\", \"ability\", \"power\"], \"Freq\": [106390.0, 58753.0, 39889.0, 37571.0, 24800.0, 27551.0, 22062.0, 22385.0, 18741.0, 16914.0, 16417.0, 15875.0, 13104.0, 13907.0, 23002.0, 34496.0, 11583.0, 10808.0, 10832.0, 15463.0, 11002.0, 10443.0, 10478.0, 10027.0, 10247.0, 22794.0, 8802.0, 9226.0, 9648.0, 8725.0, 3564.8025846502833, 3641.122407555771, 1956.8718173831676, 1974.9301743647402, 4022.314412803737, 6578.241841097134, 1420.7210846834794, 1201.6799225476323, 2014.728487148515, 1019.982318117052, 1042.0389935510132, 689.9434247992625, 837.6578579209178, 1627.4622264011214, 690.9075069030698, 661.2460906255387, 4911.398731269601, 635.9170608389508, 771.7733241185608, 1172.991084644929, 995.9886708227954, 538.3526013868269, 534.8011156171655, 515.8422873567034, 543.1703429202026, 515.9103020079618, 1525.270324093243, 517.0774494374684, 517.944069081559, 533.8069184584845, 105131.87755607667, 6538.036241101508, 9553.572252683553, 4878.002603356788, 5347.3725568691925, 5540.871882095091, 3305.943003372016, 5937.334043970887, 3267.4975104535565, 3625.059384254279, 2887.0341382910133, 4887.677498445132, 3207.0456969639386, 3099.9311175031175, 1404.6746980592734, 2643.363042679354, 2610.650353028106, 1431.3637539724616, 5571.404366326147, 1817.2723017141611, 3226.643169009957, 1858.2638290207308, 4100.322458105926, 2662.215867725984, 4554.113364383346, 10416.135750299052, 14355.510188164033, 12616.515855168565, 2918.8459563155225, 3057.1159612606516, 2946.404478790839, 2639.665643378295, 2765.557933212693, 3988.7163171972174, 2261.5589143947273, 1640.5233278153019, 1644.1917818582465, 1620.3039988253815, 6162.823926743704, 1811.8304687771836, 1420.7201906900539, 1417.4661766961415, 1415.96252514991, 1391.4116209058916, 2062.590855550934, 1254.985889205189, 1208.6690870077875, 1381.2262298703477, 3675.3126060050954, 1369.7572568392059, 1111.4250726421437, 931.5464411250346, 930.4935509549936, 933.1274468184913, 931.5320496557833, 931.4037257216265, 933.088384259095, 902.0093211030016, 1350.4982157677755, 1382.0802950396023, 855.5008039759321, 10004.151039566526, 8713.777641098157, 7511.770605064585, 6603.582546496387, 3681.448511716567, 4243.508713939521, 5141.830735027939, 2697.6812537973206, 2057.6028408392635, 1798.1398983438903, 2261.862163211092, 1627.3928253937022, 1611.9687682236952, 2898.1773782869677, 35393.47212860716, 2714.773864765396, 2766.6460310842954, 3497.277453168263, 1698.3258074277976, 4857.304877504533, 8120.933400838759, 3482.065327515682, 8231.255662886459, 3284.8857513803846, 2826.0146109399516, 2296.5097967604465, 2031.542802584537, 2387.863931008009, 4736.267481291231, 3317.5211491397895, 2662.8897055554544, 4403.10188423896, 3994.282389257146, 2866.4145490144256, 4366.38821821698, 7744.342230628958, 4668.328913362228, 2770.5647708950314, 4518.931325631149, 2199.884989600427, 2031.4663441855796, 2694.6984906333996, 1968.707595556769, 2755.830728505581, 1557.4798230436743, 3057.0861695828794, 6438.71879765362, 1507.1403155006424, 2549.0231165182913, 4636.320532997505, 2010.5486745941278, 924.244729961719, 915.8734802311784, 910.2990975805861, 916.540861308422, 2337.293005350625, 910.1533872753567, 955.3086582748765, 712.7163336791762, 2469.0664519763773, 708.9666507597426, 692.3925750279473, 714.2935636854153, 2796.4915294712055, 915.934896673844, 676.1034420708689, 11521.059476935328, 6449.794420809467, 6493.121466167234, 4469.602360463832, 10298.118870993516, 2765.515994916651, 2990.42612387911, 3283.2082278144944, 2952.498149617303, 6080.559095495494, 1708.222012679735, 1344.203313087983, 5071.603215551166, 7093.742460243651, 7940.269970877929, 7308.27198042681, 3928.1625457325135, 5981.428857137158, 2663.095999976547, 4166.757471690098, 11664.381346728156, 5245.296131226544, 2778.2420722219954, 2991.230031494455, 12104.4950187826, 3312.513628718564, 3145.2008072633807, 5353.244429132051, 2489.7039670022696, 1700.8442217629113, 2953.935989501132, 1468.8357466668024, 3257.7617946313235, 1312.3448414378206, 1300.2333474193392, 5453.041898728522, 2032.4651422159857, 1048.6039743952786, 787.0157900757408, 682.8763339514343, 682.879477567154, 653.3216103490508, 656.2300672824986, 840.9004663019156, 648.2879467105128, 682.6440329975977, 2063.1917404368096, 646.5247865535109, 653.2175852470516, 650.4053964417491, 644.478700981731, 1592.3996043234868, 842.7344598780574, 645.346583877453, 3723.835077766044, 648.0253935586459, 1960.8263042329004, 4073.5733496571065, 57028.85371414335, 3369.629768763385, 3624.18000987906, 2667.749053000675, 2995.910526419603, 1929.3847579798119, 2117.2075503472943, 10262.42153838653, 2081.5277568851225, 1913.9975347289871, 1643.2745746943306, 1288.1780302220313, 1847.1058014398038, 1932.4730134019585, 8087.912160699507, 3708.221514183397, 3090.7213233086195, 4740.64141998216, 3161.970516247168, 3548.199552803743, 2960.654671991638, 2138.660727151904, 4050.778624637546, 5336.3698265578205, 2420.6298295323677, 9529.980958514678, 2464.392716359776, 2769.0659096442437, 2921.5020405088767, 2135.295996851132, 2831.8123636509977, 3156.892308316735, 4516.764177732076, 1502.8561420797566, 1460.3304049944252, 1286.9816887612526, 1507.0837974600588, 4577.520521323502, 1853.322770998288, 1952.530920510543, 1178.0347190832686, 1177.849068758269, 1177.884107663116, 1808.5503936085322, 985.4841242868549, 1439.107364272987, 2101.101943023917, 1410.863931768951, 915.1281583658125, 916.4641064052986, 960.7948658895413, 961.2953874665288, 793.2367477125711, 1451.7162618405491, 2179.0634264939254, 2624.495544273085, 1273.1023714933378, 3334.037198564368, 2377.5263376378675, 550.9667849981805, 10924.718684584903, 6971.351363299412, 3790.751684073818, 9119.715441339069, 4785.300109654273, 5508.780543591856, 2367.8057951696555, 15937.319602040463, 13544.669706843873, 25960.26362250894, 1723.9106066160075, 2366.9509735958177, 3895.1095150000797, 5120.988142623991, 3145.6865632485255, 14561.711672661391, 3762.9523437487583, 3048.6771648768945, 9318.939470926345, 4744.227170168101, 7654.751440485859, 3480.6546624557764, 2384.5685988052674, 3028.535621104616, 5409.165974709482, 4486.060199991974, 8799.59140700259, 5329.450692500456, 3452.6441635382293, 1657.2413251056416, 1728.64098731577, 1657.2352827486702, 2854.9943333904557, 2013.3421950871239, 1626.6674520077058, 1665.1420089634469, 2727.8283991620074, 1336.4619591533587, 1470.1404967843835, 1263.0368988864552, 2524.832093415311, 3080.4618625955172, 1182.574607572943, 998.8670913972971, 994.3921973538247, 962.7800962692977, 998.7779666319707, 966.6304371903256, 848.9407313999458, 1479.2129447178456, 2958.408064482626, 1335.2460858718118, 734.169861674008, 742.060726701735, 740.0792867919259, 931.2657303087813, 10766.901265034288, 6232.022326965069, 3544.316386563796, 3462.2808165538854, 18392.21558011583, 3148.0903387609414, 3158.306453810144, 3158.306453810144, 3152.8970337316, 3522.1255284688987, 3311.5249164738384, 3505.7320097701017, 3584.4796312340873, 2718.687823653694, 2927.7101720078545, 3031.606989539879, 1887.3336743365257, 3068.5653680726, 2687.6711968486875, 2707.2952617021824, 3439.4153293031436, 3594.9184071376817, 9650.494847005733, 3693.6212146171883, 6074.118620705839, 3196.8947581358693, 2922.5672198717443, 10010.638658036703, 3726.7970776858842, 3143.5246100504196, 2347.4172463503605, 1756.2833573140722, 1517.5658297649682, 4102.459786775857, 1438.620998458498, 1049.9690989747435, 3433.1381903382003, 3785.2011070146996, 1830.1981425573263, 2534.3129965608864, 447.0991878011865, 4934.785918644234, 2653.789675540365, 361.1442298809156, 1043.7057561253066, 6136.0088667128375, 1052.4564480296851, 314.5737212165821, 6627.432515407732, 1840.505646051238, 460.4249595763032, 199.84470845688926, 241.45471320453464, 199.79955024224745, 233.05677050137353, 550.1031953735609, 4821.346979443542, 212.4984462850509, 460.09727111618383, 39173.642588278904, 13010.621732055903, 10765.06743054708, 5407.581070589404, 3165.499251544028, 3693.825245711311, 2736.257223594014, 2043.4202670922552, 7029.73633350574, 1254.4785833232102, 1859.5438379772638, 21197.043658638868, 4904.428769457549, 2700.559297714803, 2089.421786012153, 4159.123758020823, 19936.058457155035, 4311.801087289462, 4712.591559989548, 3224.9573920200196, 5546.033374243314, 2731.950611377349, 3117.87955699938, 4401.13659442189, 2982.4289774014933, 2729.820918390412, 3390.891074761073, 2781.2429961081334, 4080.2698413043663, 2471.83466211876, 2202.9463469337616, 2241.277452850131, 4833.312703697298, 1703.9544543291354, 1656.1319194235698, 3126.381013710772, 1376.9305832886714, 2145.2304398048354, 1119.9811958412909, 1076.8247721077494, 1344.8343808405114, 1085.8332980710336, 831.7731185709684, 834.0631241089874, 831.2715105490792, 1027.7219444813552, 828.7494773892071, 828.1865426820341, 637.1797623308905, 3174.364325910003, 24773.936155796753, 971.6402971345339, 685.5677307026335, 1599.7005172092227, 1157.3721258339108, 649.1318977946755, 16746.308177579573, 7144.5505539436745, 4783.997481555515, 4509.679148874238, 3913.91074838121, 3396.7801499830493, 2199.6411313087424, 1918.7973251835813, 2466.735194742229, 1986.3233601644586, 1698.9787826130018, 2036.485447429448, 2943.2031308934115, 1621.2922223746182, 1715.742599809106, 2727.0533376864596, 2439.9702017199957, 2189.6258196459585, 2319.8028821829066, 4986.5885800449705, 1904.596806367482, 2966.0266528549464, 2927.448383976468, 4570.635161107836, 2405.9985021561183, 2145.545854584327, 3257.32626615884, 3258.906338567103, 3654.794008766378], \"Total\": [106390.0, 58753.0, 39889.0, 37571.0, 24800.0, 27551.0, 22062.0, 22385.0, 18741.0, 16914.0, 16417.0, 15875.0, 13104.0, 13907.0, 23002.0, 34496.0, 11583.0, 10808.0, 10832.0, 15463.0, 11002.0, 10443.0, 10478.0, 10027.0, 10247.0, 22794.0, 8802.0, 9226.0, 9648.0, 8725.0, 3565.8894643270323, 3642.3471125429987, 1957.668052599016, 1975.783014707924, 4024.1383644817247, 6581.3054326137235, 1421.4364548235926, 1202.3932662793727, 2016.0930381127507, 1020.7339090509674, 1042.914803308732, 690.6550065204453, 838.5235258827664, 1629.1759503623393, 691.6363561395959, 661.9650208052053, 4916.957826588889, 636.6426638012197, 772.6550393590732, 1174.4463297070477, 997.2414395554212, 539.0693939382058, 535.5143251833019, 516.5694113873501, 543.9418382607902, 516.6721042215781, 1527.576269649258, 517.8659704013015, 518.7460034842666, 534.7898080466923, 106390.12588582058, 6555.835384124726, 9648.864663266746, 4898.558908348455, 5384.028979878816, 5580.903330488795, 3315.5751826426845, 5992.257826151168, 3278.6105751338587, 3642.6819793717254, 2896.354997114293, 4930.795053910995, 3224.7965486043477, 3116.1836041332044, 1407.760930132435, 2668.976209786924, 2640.6803735756894, 1440.3597638351625, 5892.289159207349, 1842.6341247655319, 3351.7378397177918, 1886.2391285378098, 4443.7070566026305, 2793.230596579664, 5059.985385468134, 14195.200401092587, 22794.78402049654, 23002.69070316772, 3373.6379658801534, 4552.898650930266, 4523.728112401276, 2640.3643710356782, 2766.3745708631373, 3989.947317597304, 2262.445771844116, 1641.2139793293268, 1644.8848806650722, 1620.9945772655624, 6165.550473050698, 1812.6640810991596, 1421.4074627312245, 1418.1553423476003, 1416.6512722142863, 1392.1098925659255, 2063.7038808662114, 1255.6723806156895, 1209.3610119404655, 1382.059335045509, 3677.589951367746, 1370.6237941225716, 1112.142388053833, 932.2323186273647, 931.1811708751829, 933.8197915477444, 932.2266364010546, 932.1225988609317, 933.8266650409479, 902.7357916353487, 1351.600748595944, 1383.2120655240337, 856.2034009092895, 10027.67939075051, 8725.430226445435, 7522.306518567889, 6634.4847831763245, 3684.8644688256804, 4266.594687318255, 5185.086645648232, 2704.886374181684, 2061.255699534619, 1800.0329460252542, 2269.5148656441206, 1628.9555019637087, 1613.7014439292827, 2920.6973497886834, 37571.14832336164, 2742.5980062842646, 2796.7675580554314, 3561.3564622084514, 1704.7209768450448, 4994.303420948932, 8488.217850114834, 3570.2235690464504, 8838.738993671137, 3388.2327624512823, 2930.288616879363, 2356.3631473483138, 2060.764823431276, 2476.503848895128, 5644.038694387938, 3779.7166829273206, 2897.3540916464267, 6068.283803945321, 5267.342731758662, 3482.095612283154, 8789.535455471863, 34496.95242921346, 4669.059662179138, 2771.3030716576463, 4520.178085259181, 2200.6481574444633, 2032.2085659516827, 2695.732215649447, 1969.5670672744452, 2757.094324310328, 1558.217643766339, 3058.5930587065213, 6442.2395170443915, 1508.0770657890648, 2550.6670852348893, 4639.383610763569, 2011.9830054436618, 924.9343180745873, 916.5662782602386, 910.9905731868147, 917.247022330108, 2339.308896660134, 910.9489298915307, 956.1923816795063, 713.4098849889707, 2471.676544355395, 709.7188871937526, 693.1435913540279, 715.0775920279507, 2799.684545144527, 916.9923931598428, 676.9570960443239, 11583.807242016857, 6481.428494304768, 6546.214251627388, 4490.553568863669, 10443.221321308021, 2770.295734017997, 3001.060643286953, 3303.413553353997, 2968.6684979672614, 6160.103087376076, 1710.4806602060905, 1346.0833952924995, 5161.094253671315, 7308.760756288435, 8208.948423312304, 7589.610859242196, 4005.890007319677, 6253.806883150023, 2712.756072610124, 4533.212931154242, 15463.56678076885, 6151.062315001643, 2862.2831690199887, 3282.112567670691, 34496.95242921346, 3984.5665672229256, 5508.816232067463, 5354.881271685631, 2490.6389638766586, 1701.5875716525768, 2955.3577807916768, 1469.6577517379399, 3259.750156754655, 1313.4160504366107, 1301.3702270396298, 5457.929420199711, 2034.3228135538643, 1049.636024830908, 787.8103132663007, 683.5873774176948, 683.5985414803989, 654.018788538339, 656.9404296759492, 841.834527499946, 649.0300949547022, 683.4460366121189, 2065.620555981234, 647.2895352233952, 654.0129132068649, 651.2273345349614, 645.2994651600403, 1594.4381660620743, 843.8869427491505, 646.2881468287636, 3729.583255704424, 649.032744646138, 1964.0546429791218, 4080.387526293109, 58753.50516102755, 3381.303881444585, 3641.4351911654, 2675.2544794324763, 3014.5610856313215, 1933.7751323080308, 2125.442335998985, 10478.084076396077, 2091.663834355561, 1921.8813430028104, 1650.1116701516003, 1290.5926237151766, 1858.7011049870282, 1945.8936065994576, 8296.706382371949, 3775.002355769317, 3137.4215720555358, 4862.99864375659, 3229.4396867500122, 3658.3664257091505, 3226.984897657807, 2233.7386433689903, 5011.496614033489, 7427.886345285728, 2627.823076914141, 23002.69070316772, 3072.603824373458, 4150.1386848336415, 5993.808364302953, 3200.5689214465333, 2832.541257444065, 3157.914346067964, 4518.657337284114, 1503.5384984406805, 1461.0806170378014, 1287.66277807654, 1507.8814390784198, 4579.9914248206705, 1854.3751476557968, 1953.6840632730489, 1178.7353950270824, 1178.5553045556746, 1178.6056283099404, 1809.6686815633586, 986.1649127615574, 1440.1016098116943, 2102.7060660893867, 1411.9868622350352, 915.8597631032629, 917.2037087841763, 961.5963384703922, 962.1139461944967, 793.9700497916789, 1453.1021193162742, 2181.2371042718046, 2627.355779644881, 1274.6071942758792, 3338.4277498705233, 2380.775940571256, 551.78127899586, 11002.099678960345, 7002.210243679515, 3796.903195486491, 9226.305133863749, 4813.114993986403, 5554.534577404164, 2379.8285907224154, 16417.34942477514, 13907.777476761376, 27551.94667178991, 1732.3967484450277, 2397.789105795557, 3997.2182361501336, 5304.849170179894, 3212.174088069716, 15875.057339027284, 3883.834056878901, 3159.0179830689813, 10320.629706743237, 5339.307553900884, 9507.067948533862, 3841.5059259005448, 2502.9654721848033, 3529.4547081084493, 8611.418676308986, 22794.78402049654, 8802.810407996394, 5331.496242660447, 3454.064161223825, 1657.9301504643524, 1729.3608279210212, 1657.925960793072, 2856.2212490493407, 2014.2497491199717, 1627.402615110957, 1665.9513760483765, 2729.1879836348753, 1337.1896354208843, 1470.9723915967559, 1263.8492038767658, 2526.5284871661706, 3082.5712020132, 1183.3884993856277, 999.569263044814, 995.0971357882651, 963.5082764147292, 999.5432512582859, 967.3870024540516, 849.6237600219096, 1480.4511147810185, 2961.0991518291285, 1336.4991235840143, 734.8680609226033, 742.7713059256259, 740.8223019998537, 932.2240620859781, 10808.506662585587, 6251.643038816572, 3549.2520604962197, 3467.782137594617, 18741.873112045512, 3151.7555297094914, 3164.8131789736058, 3164.8131789736058, 3160.1181860947922, 3534.2538124143953, 3321.803113885472, 3519.032678267053, 3599.3177229227667, 2725.2869966464673, 2939.5924585541275, 3048.8579088130036, 1889.97916102648, 3088.2275702967618, 2707.4526454995944, 2727.6447591007445, 3487.920123738589, 3666.118206120867, 10247.870777922846, 3809.9125989323393, 6702.411113577253, 3333.7997706045626, 3015.043435516909, 34496.95242921346, 8789.535455471863, 3144.3249758651264, 2348.107290610346, 1756.987268362779, 1518.4194960678424, 4104.998774761471, 1439.5848908128064, 1050.7606344915046, 3436.1647526260163, 3788.5562026765756, 1832.6840528620614, 2537.849636341306, 447.8508146865673, 4943.380961551485, 2658.74659756077, 361.830747165722, 1045.899335416014, 6149.5372201671335, 1054.9448184268113, 315.3845423453816, 6647.208567071894, 1846.2355721535002, 461.9339177687227, 200.52557891584163, 242.29234893263236, 200.51704924579278, 233.97482289381256, 552.3394902422881, 4842.0806342979095, 213.41427418946387, 462.1609495181006, 39889.32326790568, 13104.425289764167, 10832.608781655936, 5455.210380551538, 3191.7259924019763, 3730.8072669907374, 2761.070833259546, 2056.2936561857005, 7169.928934530971, 1260.1978386923377, 1877.2006988451797, 22062.053141945355, 5002.446175902875, 2751.1054001586103, 2127.137367526272, 4344.2596740218005, 22385.250126803498, 4523.692987367152, 5299.942147845109, 3512.8806147670875, 6962.130795538172, 3226.667874408455, 8611.418676308986, 34496.95242921346, 14195.200401092587, 5993.808364302953, 3391.5740939739367, 2781.9932519805684, 4081.4370868312876, 2472.5711242260127, 2203.644351912423, 2242.003410377419, 4835.161343062644, 1704.630984863884, 1656.8678366321499, 3127.8235100164975, 1377.607884425156, 2146.3399107047057, 1120.6529260039713, 1077.5021401197291, 1345.700387360645, 1086.7070990799812, 832.4691447385046, 834.7711230689663, 832.0185463335254, 1028.7454938460826, 829.5952496995061, 829.0509153717182, 637.8519829877605, 3177.780530570609, 24800.652239541705, 972.7251105716691, 686.3483782234631, 1601.5392239050275, 1158.7126299790764, 649.9111357172236, 16914.15934007595, 7166.6040054703335, 4791.302087406703, 4518.517987640162, 3922.391764237769, 3401.925776606743, 2202.9366209417417, 1921.6008105421877, 2477.33045737771, 1990.508924119716, 1701.0842413959654, 2042.9095635569277, 2964.5727604374483, 1623.9570300299229, 1719.6400489536607, 2747.6584548653236, 2460.193543914933, 2203.090371771585, 2337.039558403797, 5107.020167699682, 1913.0240748359747, 3021.2844301449927, 2991.932346210506, 5000.186940785993, 2476.8730878546758, 2180.4918536356367, 3973.810524190493, 5713.46514610681, 15463.56678076885], \"Category\": [\"Default\", \"Default\", \"Default\", \"Default\", \"Default\", \"Default\", \"Default\", \"Default\", \"Default\", \"Default\", \"Default\", \"Default\", \"Default\", \"Default\", \"Default\", \"Default\", \"Default\", \"Default\", \"Default\", \"Default\", \"Default\", \"Default\", \"Default\", \"Default\", \"Default\", \"Default\", \"Default\", \"Default\", \"Default\", \"Default\", \"Topic1\", \"Topic1\", \"Topic1\", \"Topic1\", \"Topic1\", \"Topic1\", \"Topic1\", \"Topic1\", \"Topic1\", \"Topic1\", \"Topic1\", \"Topic1\", \"Topic1\", \"Topic1\", \"Topic1\", \"Topic1\", \"Topic1\", \"Topic1\", \"Topic1\", \"Topic1\", \"Topic1\", \"Topic1\", \"Topic1\", \"Topic1\", \"Topic1\", \"Topic1\", \"Topic1\", \"Topic1\", \"Topic1\", \"Topic1\", \"Topic1\", \"Topic1\", \"Topic1\", \"Topic1\", \"Topic1\", \"Topic1\", \"Topic1\", \"Topic1\", \"Topic1\", \"Topic1\", \"Topic1\", \"Topic1\", \"Topic1\", \"Topic1\", \"Topic1\", \"Topic1\", \"Topic1\", \"Topic1\", \"Topic1\", \"Topic1\", \"Topic1\", \"Topic1\", \"Topic1\", \"Topic1\", \"Topic1\", \"Topic1\", \"Topic1\", \"Topic1\", \"Topic1\", \"Topic1\", \"Topic1\", \"Topic2\", \"Topic2\", \"Topic2\", \"Topic2\", \"Topic2\", \"Topic2\", \"Topic2\", \"Topic2\", \"Topic2\", \"Topic2\", \"Topic2\", \"Topic2\", \"Topic2\", \"Topic2\", \"Topic2\", \"Topic2\", \"Topic2\", \"Topic2\", \"Topic2\", \"Topic2\", \"Topic2\", \"Topic2\", \"Topic2\", \"Topic2\", \"Topic2\", \"Topic2\", \"Topic2\", \"Topic2\", \"Topic2\", \"Topic2\", \"Topic2\", \"Topic2\", \"Topic2\", \"Topic2\", \"Topic2\", \"Topic2\", \"Topic2\", \"Topic2\", \"Topic2\", \"Topic2\", \"Topic2\", \"Topic2\", \"Topic2\", \"Topic2\", \"Topic2\", \"Topic2\", \"Topic2\", \"Topic2\", \"Topic2\", \"Topic2\", \"Topic2\", \"Topic2\", \"Topic2\", \"Topic2\", \"Topic2\", \"Topic2\", \"Topic2\", \"Topic2\", \"Topic2\", \"Topic2\", \"Topic2\", \"Topic2\", \"Topic2\", \"Topic2\", \"Topic2\", \"Topic2\", \"Topic3\", \"Topic3\", \"Topic3\", \"Topic3\", \"Topic3\", \"Topic3\", \"Topic3\", \"Topic3\", \"Topic3\", \"Topic3\", \"Topic3\", \"Topic3\", \"Topic3\", \"Topic3\", \"Topic3\", \"Topic3\", \"Topic3\", \"Topic3\", \"Topic3\", \"Topic3\", \"Topic3\", \"Topic3\", \"Topic3\", \"Topic3\", \"Topic3\", \"Topic3\", \"Topic3\", \"Topic3\", \"Topic3\", \"Topic3\", \"Topic3\", \"Topic3\", \"Topic3\", \"Topic3\", \"Topic3\", \"Topic3\", \"Topic3\", \"Topic3\", \"Topic3\", \"Topic3\", \"Topic3\", \"Topic3\", \"Topic3\", \"Topic3\", \"Topic3\", \"Topic3\", \"Topic3\", \"Topic3\", \"Topic3\", \"Topic3\", \"Topic3\", \"Topic3\", \"Topic3\", \"Topic3\", \"Topic3\", \"Topic3\", \"Topic3\", \"Topic4\", \"Topic4\", \"Topic4\", \"Topic4\", \"Topic4\", \"Topic4\", \"Topic4\", \"Topic4\", \"Topic4\", \"Topic4\", \"Topic4\", \"Topic4\", \"Topic4\", \"Topic4\", \"Topic4\", \"Topic4\", \"Topic4\", \"Topic4\", \"Topic4\", \"Topic4\", \"Topic4\", \"Topic4\", \"Topic4\", \"Topic4\", \"Topic4\", \"Topic4\", \"Topic4\", \"Topic4\", \"Topic4\", \"Topic4\", \"Topic4\", \"Topic4\", \"Topic4\", \"Topic4\", \"Topic4\", \"Topic4\", \"Topic4\", \"Topic4\", \"Topic4\", \"Topic4\", \"Topic4\", \"Topic4\", \"Topic4\", \"Topic4\", \"Topic4\", \"Topic4\", \"Topic4\", \"Topic4\", \"Topic4\", \"Topic4\", \"Topic4\", \"Topic4\", \"Topic4\", \"Topic4\", \"Topic4\", \"Topic4\", \"Topic4\", \"Topic4\", \"Topic4\", \"Topic4\", \"Topic4\", \"Topic5\", \"Topic5\", \"Topic5\", \"Topic5\", \"Topic5\", \"Topic5\", \"Topic5\", \"Topic5\", \"Topic5\", \"Topic5\", \"Topic5\", \"Topic5\", \"Topic5\", \"Topic5\", \"Topic5\", \"Topic5\", \"Topic5\", \"Topic5\", \"Topic5\", \"Topic5\", \"Topic5\", \"Topic5\", \"Topic5\", \"Topic5\", \"Topic5\", \"Topic5\", \"Topic5\", \"Topic5\", \"Topic5\", \"Topic5\", \"Topic5\", \"Topic5\", \"Topic5\", \"Topic5\", \"Topic5\", \"Topic5\", \"Topic5\", \"Topic5\", \"Topic5\", \"Topic5\", \"Topic5\", \"Topic5\", \"Topic5\", \"Topic5\", \"Topic5\", \"Topic5\", \"Topic5\", \"Topic5\", \"Topic5\", \"Topic5\", \"Topic5\", \"Topic5\", \"Topic5\", \"Topic5\", \"Topic5\", \"Topic5\", \"Topic6\", \"Topic6\", \"Topic6\", \"Topic6\", \"Topic6\", \"Topic6\", \"Topic6\", \"Topic6\", \"Topic6\", \"Topic6\", \"Topic6\", \"Topic6\", \"Topic6\", \"Topic6\", \"Topic6\", \"Topic6\", \"Topic6\", \"Topic6\", \"Topic6\", \"Topic6\", \"Topic6\", \"Topic6\", \"Topic6\", \"Topic6\", \"Topic6\", \"Topic6\", \"Topic6\", \"Topic6\", \"Topic6\", \"Topic6\", \"Topic6\", \"Topic6\", \"Topic6\", \"Topic6\", \"Topic6\", \"Topic6\", \"Topic6\", \"Topic6\", \"Topic6\", \"Topic6\", \"Topic6\", \"Topic6\", \"Topic6\", \"Topic6\", \"Topic6\", \"Topic6\", \"Topic6\", \"Topic6\", \"Topic6\", \"Topic6\", \"Topic6\", \"Topic6\", \"Topic6\", \"Topic6\", \"Topic6\", \"Topic6\", \"Topic6\", \"Topic6\", \"Topic6\", \"Topic7\", \"Topic7\", \"Topic7\", \"Topic7\", \"Topic7\", \"Topic7\", \"Topic7\", \"Topic7\", \"Topic7\", \"Topic7\", \"Topic7\", \"Topic7\", \"Topic7\", \"Topic7\", \"Topic7\", \"Topic7\", \"Topic7\", \"Topic7\", \"Topic7\", \"Topic7\", \"Topic7\", \"Topic7\", \"Topic7\", \"Topic7\", \"Topic7\", \"Topic7\", \"Topic7\", \"Topic7\", \"Topic7\", \"Topic7\", \"Topic7\", \"Topic7\", \"Topic7\", \"Topic7\", \"Topic7\", \"Topic7\", \"Topic7\", \"Topic7\", \"Topic7\", \"Topic7\", \"Topic7\", \"Topic7\", \"Topic7\", \"Topic7\", \"Topic7\", \"Topic7\", \"Topic7\", \"Topic7\", \"Topic7\", \"Topic7\", \"Topic7\", \"Topic7\", \"Topic7\", \"Topic7\", \"Topic7\", \"Topic7\", \"Topic8\", \"Topic8\", \"Topic8\", \"Topic8\", \"Topic8\", \"Topic8\", \"Topic8\", \"Topic8\", \"Topic8\", \"Topic8\", \"Topic8\", \"Topic8\", \"Topic8\", \"Topic8\", \"Topic8\", \"Topic8\", \"Topic8\", \"Topic8\", \"Topic8\", \"Topic8\", \"Topic8\", \"Topic8\", \"Topic8\", \"Topic8\", \"Topic8\", \"Topic8\", \"Topic8\", \"Topic8\", \"Topic8\", \"Topic8\", \"Topic8\", \"Topic8\", \"Topic8\", \"Topic8\", \"Topic8\", \"Topic8\", \"Topic8\", \"Topic8\", \"Topic8\", \"Topic8\", \"Topic8\", \"Topic8\", \"Topic8\", \"Topic8\", \"Topic8\", \"Topic8\", \"Topic8\", \"Topic8\", \"Topic8\", \"Topic8\", \"Topic8\", \"Topic8\", \"Topic8\", \"Topic8\", \"Topic8\", \"Topic8\", \"Topic8\", \"Topic8\", \"Topic8\"], \"logprob\": [30.0, 29.0, 28.0, 27.0, 26.0, 25.0, 24.0, 23.0, 22.0, 21.0, 20.0, 19.0, 18.0, 17.0, 16.0, 15.0, 14.0, 13.0, 12.0, 11.0, 10.0, 9.0, 8.0, 7.0, 6.0, 5.0, 4.0, 3.0, 2.0, 1.0, -4.674600124359131, -4.65339994430542, -5.274400234222412, -5.265200138092041, -4.553800106048584, -4.0619001388549805, -5.5945000648498535, -5.76200008392334, -5.245200157165527, -5.925899982452393, -5.9045000076293945, -6.316800117492676, -6.122799873352051, -5.458700180053711, -6.315400123596191, -6.359300136566162, -4.354100227355957, -6.398399829864502, -6.204800128936768, -5.786099910736084, -5.949699878692627, -6.564899921417236, -6.571599960327148, -6.607699871063232, -6.556000232696533, -6.607500076293945, -5.523499965667725, -6.605299949645996, -6.603600025177002, -6.573400020599365, -1.2905000448226929, -4.0680999755859375, -3.688800096511841, -4.361000061035156, -4.269100189208984, -4.233500003814697, -4.75, -4.164400100708008, -4.76170015335083, -4.657800197601318, -4.885499954223633, -4.359000205993652, -4.780399799346924, -4.814300060272217, -5.605899810791016, -4.973599910736084, -4.986100196838379, -5.587100028991699, -4.228099822998047, -5.348400115966797, -4.7743000984191895, -5.326099872589111, -4.534599781036377, -4.9664998054504395, -4.429699897766113, -3.602299928665161, -3.281599998474121, -3.4107000827789307, -4.874499797821045, -4.828199863433838, -4.865099906921387, -4.93720006942749, -4.890600204467773, -4.524400234222412, -5.091800212860107, -5.412899971008301, -5.410600185394287, -5.425300121307373, -4.089300155639648, -5.313499927520752, -5.556700229644775, -5.559000015258789, -5.560100078582764, -5.577600002288818, -5.183899879455566, -5.680699825286865, -5.718400001525879, -5.58489990234375, -4.606200218200684, -5.593200206756592, -5.802199840545654, -5.978799819946289, -5.979899883270264, -5.977099895477295, -5.978799819946289, -5.978899955749512, -5.977099895477295, -6.011000156402588, -5.607399940490723, -5.5843000411987305, -6.063899993896484, -3.6048998832702637, -3.743000030517578, -3.891400098800659, -4.020299911499023, -4.604599952697754, -4.462500095367432, -4.270500183105469, -4.915500164031982, -5.186299800872803, -5.321100234985352, -5.091700077056885, -5.420899868011475, -5.4303998947143555, -4.843800067901611, -2.3413000106811523, -4.909200191497803, -4.890200138092041, -4.655900001525879, -5.378200054168701, -4.327400207519531, -3.8134000301361084, -4.660200119018555, -3.7999000549316406, -4.718500137329102, -4.86899995803833, -5.076499938964844, -5.199100017547607, -5.037499904632568, -4.35260009765625, -4.708700180053711, -4.928500175476074, -4.425600051879883, -4.5229997634887695, -4.854800224304199, -4.433899879455566, -3.8608999252319336, -4.323299884796143, -4.845099925994873, -4.355899810791016, -5.075699806213379, -5.155399799346924, -4.872900009155273, -5.186800003051758, -4.850399971008301, -5.42110013961792, -4.746699810028076, -4.001800060272217, -5.45389986038208, -4.928400039672852, -4.3302001953125, -5.1656999588012695, -5.94290018081665, -5.952000141143799, -5.958099842071533, -5.951300144195557, -5.015100002288818, -5.9583001136779785, -5.909900188446045, -6.2027997970581055, -4.960299968719482, -6.208099842071533, -6.2316999435424805, -6.2006001472473145, -4.8358001708984375, -5.951900005340576, -6.255499839782715, -3.4200000762939453, -4.000100135803223, -3.9934000968933105, -4.366799831390381, -3.5322000980377197, -4.84689998626709, -4.768700122833252, -4.675300121307373, -4.781499862670898, -4.059000015258789, -5.328700065612793, -5.568299770355225, -4.240499973297119, -3.904900074005127, -3.7922000885009766, -3.8750998973846436, -4.495999813079834, -4.075500011444092, -4.8846001625061035, -4.436999797821045, -3.407599925994873, -4.2067999839782715, -4.842299938201904, -4.768499851226807, -3.3705999851226807, -4.666399955749512, -4.718299865722656, -4.182199954986572, -4.947800159454346, -5.328800201416016, -4.776800155639648, -5.475399971008301, -4.678899765014648, -5.588099956512451, -5.597400188446045, -4.163700103759766, -5.150700092315674, -5.8125, -6.099400043487549, -6.241399765014648, -6.241399765014648, -6.285600185394287, -6.281199932098389, -6.033199787139893, -6.293300151824951, -6.241700172424316, -5.135700225830078, -6.29610013961792, -6.285799980163574, -6.29010009765625, -6.299200057983398, -5.394700050354004, -6.031000137329102, -6.297900199890137, -4.545199871063232, -6.293700218200684, -5.186500072479248, -4.455399990081787, -1.8164000511169434, -4.645100116729736, -4.572299957275391, -4.878699779510498, -4.762700080871582, -5.202700138092041, -5.109799861907959, -3.531399965286255, -5.126800060272217, -5.210700035095215, -5.3632001876831055, -5.6066999435424805, -5.246300220489502, -5.201099872589111, -3.7695000171661377, -4.5493998527526855, -4.731500148773193, -4.303699970245361, -4.708700180053711, -4.593500137329102, -4.774499893188477, -5.099699974060059, -4.460999965667725, -4.185400009155273, -4.975900173187256, -3.6054999828338623, -4.958000183105469, -4.841400146484375, -4.787799835205078, -5.10129976272583, -4.796199798583984, -4.687600135803223, -4.329400062561035, -5.429800033569336, -5.458499908447266, -5.58489990234375, -5.427000045776367, -4.315999984741211, -5.220200061798096, -5.168000221252441, -5.673299789428711, -5.673500061035156, -5.673399925231934, -5.24459981918335, -5.851799964904785, -5.473100185394287, -5.094699859619141, -5.493000030517578, -5.92579984664917, -5.9243998527526855, -5.877200126647949, -5.8765997886657715, -6.06879997253418, -5.464399814605713, -5.058300018310547, -4.872300148010254, -5.595699787139893, -4.632999897003174, -4.971099853515625, -6.433199882507324, -3.4460999965667725, -3.8952999114990234, -4.5046000480651855, -3.626699924468994, -4.271599769592285, -4.130799770355225, -4.975200176239014, -3.06850004196167, -3.2311999797821045, -2.5806000232696533, -5.292600154876709, -4.975599765777588, -4.477399826049805, -4.203800201416016, -4.691100120544434, -3.158799886703491, -4.51200008392334, -4.722499847412109, -3.60509991645813, -4.280200004577637, -3.801800012588501, -4.589900016784668, -4.968100070953369, -4.729100227355957, -4.149099826812744, -4.33620023727417, -3.607300043106079, -4.108699798583984, -4.542799949645996, -5.276800155639648, -5.234600067138672, -5.276800155639648, -4.732900142669678, -5.082200050354004, -5.295400142669678, -5.27209997177124, -4.778500080108643, -5.4918999671936035, -5.396599769592285, -5.548399925231934, -4.855800151824951, -4.656899929046631, -5.614299774169922, -5.783100128173828, -5.787600040435791, -5.819900035858154, -5.783199787139893, -5.815899848937988, -5.945700168609619, -5.390500068664551, -4.697299957275391, -5.4928998947143555, -6.091000080108643, -6.0802998542785645, -6.083000183105469, -5.8531999588012695, -3.4054999351501465, -3.9523000717163086, -4.516600131988525, -4.539999961853027, -2.869999885559082, -4.635200023651123, -4.631899833679199, -4.631899833679199, -4.633600234985352, -4.522900104522705, -4.58459997177124, -4.527599811553955, -4.50540018081665, -4.781799793243408, -4.707699775695801, -4.672900199890137, -5.1468000411987305, -4.660799980163574, -4.793300151824951, -4.785999774932861, -4.5467000007629395, -4.502399921417236, -3.515000104904175, -4.475399971008301, -3.9779000282287598, -4.619800090789795, -4.709499835968018, -3.478300094604492, -4.466400146484375, -4.632299900054932, -4.924300193786621, -5.214399814605713, -5.360499858856201, -4.366000175476074, -5.413899898529053, -5.728799819946289, -4.544099807739258, -4.446499824523926, -5.1732001304626465, -4.847700119018555, -6.582600116729736, -4.181300163269043, -4.801599979400635, -6.79610013961792, -5.734799861907959, -3.963399887084961, -5.726500034332275, -6.934100151062012, -3.886399984359741, -5.167600154876709, -6.553199768066406, -7.387800216674805, -7.198699951171875, -7.388000011444092, -7.234099864959717, -6.37529993057251, -4.204599857330322, -7.326399803161621, -6.553899765014648, -2.109600067138672, -3.2118000984191895, -3.4012999534606934, -4.089799880981445, -4.62529993057251, -4.470900058746338, -4.770999908447266, -5.063000202178955, -3.827500104904175, -5.550899982452393, -5.157299995422363, -2.7237000465393066, -4.1875, -4.784200191497803, -5.0406999588012695, -4.35230016708374, -2.785099983215332, -4.316299915313721, -4.227399826049805, -4.6066999435424805, -4.064499855041504, -4.772600173950195, -4.640500068664551, -4.2957000732421875, -4.684899806976318, -4.773399829864502, -4.5046000480651855, -4.702700138092041, -4.319499969482422, -4.820700168609619, -4.935800075531006, -4.918600082397461, -4.150100231170654, -5.192699909210205, -5.221199989318848, -4.5858001708984375, -5.405799865722656, -4.962399959564209, -5.612299919128418, -5.651599884033203, -5.4293999671936035, -5.6433000564575195, -5.909800052642822, -5.907100200653076, -5.910399913787842, -5.698299884796143, -5.91349983215332, -5.9141998291015625, -6.176300048828125, -4.570499897003174, -2.515899896621704, -5.75439977645874, -6.1031999588012695, -5.255799770355225, -5.579500198364258, -6.157800197601318, -2.9075000286102295, -3.7592999935150146, -4.160399913787842, -4.219399929046631, -4.361100196838379, -4.502799987792969, -4.937399864196777, -5.07390022277832, -4.822800159454346, -5.039400100708008, -5.1956000328063965, -5.014400005340576, -4.646100044250488, -5.242400169372559, -5.185800075531006, -4.722400188446045, -4.833700180053711, -4.94189977645874, -4.884200096130371, -4.118899822235107, -5.081399917602539, -4.638400077819824, -4.651500225067139, -4.205999851226807, -4.847700119018555, -4.962299823760986, -4.5447001457214355, -4.544300079345703, -4.429599761962891], \"loglift\": [30.0, 29.0, 28.0, 27.0, 26.0, 25.0, 24.0, 23.0, 22.0, 21.0, 20.0, 19.0, 18.0, 17.0, 16.0, 15.0, 14.0, 13.0, 12.0, 11.0, 10.0, 9.0, 8.0, 7.0, 6.0, 5.0, 4.0, 3.0, 2.0, 1.0, 1.9732, 1.9732, 1.9731, 1.9731, 1.9731, 1.9731, 1.9731, 1.973, 1.9729, 1.9728, 1.9727, 1.9725, 1.9725, 1.9725, 1.9725, 1.9725, 1.9724, 1.9724, 1.9724, 1.9723, 1.9723, 1.9722, 1.9722, 1.9721, 1.9721, 1.9721, 1.972, 1.972, 1.972, 1.9717, 1.9617, 1.9708, 1.9636, 1.9693, 1.9667, 1.9664, 1.9706, 1.9643, 1.9702, 1.9687, 1.9703, 1.9648, 1.968, 1.9683, 1.9714, 1.9639, 1.9621, 1.9673, 1.9176, 1.9597, 1.9355, 1.9586, 1.8931, 1.9255, 1.8682, 1.664, 1.5112, 1.3729, 1.8288, 1.5753, 1.5448, 2.0111, 2.0111, 2.0111, 2.011, 2.011, 2.011, 2.011, 2.0109, 2.0109, 2.0109, 2.0109, 2.0109, 2.0109, 2.0108, 2.0108, 2.0108, 2.0108, 2.0108, 2.0108, 2.0107, 2.0106, 2.0106, 2.0106, 2.0106, 2.0106, 2.0106, 2.0106, 2.0106, 2.0106, 2.0106, 2.009, 2.01, 2.01, 2.0067, 2.0105, 2.006, 2.003, 2.0087, 2.0096, 2.0103, 2.008, 2.0104, 2.0103, 2.0036, 1.9517, 2.0012, 2.0006, 1.9932, 2.0076, 1.9836, 1.9671, 1.9864, 1.9402, 1.9804, 1.9751, 1.9857, 1.9971, 1.9749, 1.836, 1.881, 1.927, 1.6906, 1.7347, 1.8168, 1.3118, 0.5175, 2.055, 2.0548, 2.0548, 2.0548, 2.0548, 2.0547, 2.0547, 2.0547, 2.0546, 2.0546, 2.0546, 2.0545, 2.0545, 2.0545, 2.0544, 2.0544, 2.0544, 2.0544, 2.0543, 2.0543, 2.0542, 2.0542, 2.0541, 2.0541, 2.0541, 2.054, 2.054, 2.054, 2.054, 2.0539, 2.0497, 2.0502, 2.047, 2.0504, 2.0411, 2.0534, 2.0516, 2.049, 2.0497, 2.0421, 2.0538, 2.0537, 2.0376, 2.0253, 2.0218, 2.0173, 2.0355, 2.0106, 2.0366, 1.9708, 1.7732, 1.8958, 2.0253, 1.9623, 1.0078, 1.8704, 1.4946, 2.059, 2.059, 2.0589, 2.0589, 2.0588, 2.0587, 2.0585, 2.0585, 2.0584, 2.0584, 2.0584, 2.0583, 2.0583, 2.0583, 2.0583, 2.0583, 2.0582, 2.0582, 2.0582, 2.0582, 2.0582, 2.0581, 2.0581, 2.0581, 2.0581, 2.058, 2.0579, 2.0578, 2.0578, 2.0577, 2.0577, 2.0295, 2.0559, 2.0546, 2.0565, 2.0531, 2.0571, 2.0555, 2.0385, 2.0545, 2.0552, 2.0552, 2.0575, 2.0531, 2.0524, 2.0339, 2.0415, 2.0443, 2.0339, 2.0382, 2.0288, 1.9732, 2.0158, 1.8465, 1.7286, 1.9772, 1.1782, 1.8388, 1.6547, 1.3407, 1.6546, 2.0818, 2.0818, 2.0817, 2.0816, 2.0816, 2.0816, 2.0816, 2.0816, 2.0815, 2.0815, 2.0815, 2.0815, 2.0815, 2.0815, 2.0814, 2.0814, 2.0813, 2.0813, 2.0813, 2.0813, 2.0813, 2.0812, 2.0812, 2.0811, 2.0811, 2.081, 2.0809, 2.0808, 2.0807, 2.0806, 2.075, 2.0777, 2.0805, 2.0705, 2.0763, 2.0738, 2.077, 2.0524, 2.0556, 2.0226, 2.0772, 2.0692, 2.0562, 2.0468, 2.0612, 1.9957, 2.0505, 2.0465, 1.98, 1.9639, 1.8654, 1.9835, 2.0336, 1.929, 1.6171, 0.4565, 2.1369, 2.1369, 2.1369, 2.1369, 2.1369, 2.1369, 2.1369, 2.1368, 2.1368, 2.1368, 2.1368, 2.1367, 2.1367, 2.1366, 2.1366, 2.1366, 2.1366, 2.1366, 2.1366, 2.1365, 2.1365, 2.1365, 2.1365, 2.1365, 2.1364, 2.1363, 2.1363, 2.1363, 2.1363, 2.1363, 2.1334, 2.1341, 2.1359, 2.1357, 2.1185, 2.1361, 2.1352, 2.1352, 2.135, 2.1338, 2.1342, 2.1335, 2.1332, 2.1349, 2.1332, 2.1316, 2.1359, 2.1309, 2.13, 2.1298, 2.1233, 2.1177, 2.0772, 2.1063, 2.0389, 2.0954, 2.1061, 0.9001, 1.2793, 2.1414, 2.1414, 2.1412, 2.1411, 2.141, 2.141, 2.1409, 2.1408, 2.1408, 2.1403, 2.1403, 2.14, 2.1399, 2.1398, 2.1397, 2.1395, 2.1394, 2.1393, 2.1391, 2.1387, 2.1385, 2.1384, 2.1382, 2.1382, 2.1381, 2.1377, 2.1376, 2.1374, 2.1373, 2.1372, 2.1235, 2.1345, 2.1354, 2.1329, 2.1334, 2.1317, 2.1326, 2.1354, 2.1219, 2.1371, 2.1322, 2.1016, 2.1219, 2.1231, 2.1238, 2.0981, 2.0258, 2.0937, 2.0242, 2.0561, 1.9142, 1.9752, 1.1257, 0.0826, 0.5815, 1.3552, 2.1934, 2.1933, 2.1933, 2.1933, 2.1933, 2.1933, 2.1932, 2.1932, 2.1932, 2.1931, 2.1931, 2.1931, 2.193, 2.193, 2.193, 2.1928, 2.1928, 2.1928, 2.1927, 2.1926, 2.1926, 2.1926, 2.1926, 2.1925, 2.1925, 2.1925, 2.1925, 2.1925, 2.1925, 2.1924, 2.1836, 2.1905, 2.1921, 2.1917, 2.1914, 2.1921, 2.1921, 2.1921, 2.1893, 2.1915, 2.1924, 2.1905, 2.1864, 2.192, 2.1913, 2.1861, 2.1854, 2.1875, 2.1862, 2.1697, 2.1892, 2.1751, 2.1718, 2.1038, 2.1646, 2.1775, 1.9948, 1.6322, 0.7512]}, \"token.table\": {\"Topic\": [1, 2, 3, 4, 5, 6, 7, 8, 3, 6, 1, 2, 3, 4, 6, 7, 8, 4, 5, 1, 3, 5, 6, 1, 2, 4, 7, 8, 1, 2, 3, 4, 5, 6, 7, 8, 1, 2, 3, 4, 5, 6, 7, 8, 4, 1, 2, 3, 6, 1, 6, 2, 4, 5, 6, 8, 1, 2, 3, 4, 5, 6, 7, 8, 6, 6, 6, 7, 8, 4, 2, 3, 5, 6, 7, 3, 7, 8, 8, 1, 2, 3, 4, 5, 6, 7, 8, 4, 5, 6, 8, 3, 2, 4, 5, 1, 4, 5, 1, 4, 8, 2, 8, 1, 5, 6, 3, 1, 6, 8, 1, 2, 3, 4, 5, 6, 7, 8, 1, 3, 4, 5, 5, 6, 3, 2, 8, 4, 6, 3, 2, 3, 4, 5, 6, 7, 8, 1, 3, 5, 2, 4, 5, 2, 3, 4, 6, 7, 8, 1, 1, 1, 2, 6, 7, 8, 2, 3, 7, 8, 5, 3, 3, 4, 5, 6, 3, 1, 3, 6, 6, 1, 2, 5, 6, 7, 8, 1, 2, 3, 4, 5, 6, 7, 8, 1, 2, 3, 4, 6, 8, 3, 1, 2, 3, 4, 5, 6, 7, 8, 1, 2, 3, 4, 5, 7, 8, 2, 1, 3, 7, 8, 1, 2, 3, 4, 5, 6, 7, 8, 4, 2, 4, 7, 6, 3, 4, 4, 4, 4, 2, 6, 7, 8, 3, 1, 3, 4, 5, 6, 8, 3, 1, 2, 3, 4, 5, 6, 7, 8, 7, 7, 2, 4, 4, 5, 6, 8, 2, 3, 5, 5, 1, 2, 3, 4, 5, 6, 7, 8, 2, 3, 1, 2, 3, 4, 5, 6, 7, 8, 6, 1, 2, 5, 8, 1, 3, 4, 5, 6, 7, 8, 4, 6, 8, 1, 1, 1, 4, 5, 6, 8, 1, 2, 4, 6, 8, 8, 1, 3, 4, 5, 7, 8, 1, 3, 4, 6, 7, 8, 8, 2, 6, 1, 5, 3, 2, 3, 8, 2, 3, 5, 7, 2, 5, 1, 2, 3, 4, 5, 6, 7, 8, 2, 8, 1, 2, 3, 4, 5, 6, 7, 8, 5, 1, 1, 2, 4, 1, 2, 3, 4, 7, 1, 5, 3, 4, 7, 3, 6, 7, 8, 1, 2, 4, 5, 6, 7, 8, 1, 2, 3, 4, 5, 6, 7, 8, 1, 3, 8, 1, 3, 4, 5, 6, 7, 8, 1, 3, 7, 8, 8, 4, 1, 2, 3, 4, 5, 6, 7, 8, 5, 5, 6, 1, 2, 3, 4, 5, 6, 7, 8, 4, 5, 6, 1, 2, 3, 4, 5, 6, 7, 8, 1, 5, 1, 3, 5, 6, 7, 8, 5, 7, 8, 1, 2, 3, 4, 5, 6, 7, 8, 2, 3, 4, 5, 6, 7, 8, 1, 3, 4, 5, 6, 7, 8, 4, 7, 1, 2, 3, 4, 5, 6, 7, 8, 7, 3, 8, 4, 1, 2, 3, 4, 5, 6, 2, 3, 1, 2, 4, 5, 6, 7, 8, 4, 6, 8, 1, 2, 3, 5, 6, 2, 4, 6, 7, 2, 4, 6, 8, 2, 2, 3, 6, 3, 5, 6, 1, 3, 4, 7, 1, 2, 3, 4, 5, 6, 7, 8, 1, 3, 4, 5, 6, 8, 6, 3, 4, 1, 7, 1, 2, 3, 4, 5, 6, 7, 8, 1, 2, 3, 4, 5, 7, 8, 2, 3, 4, 5, 6, 7, 8, 2, 5, 1, 3, 4, 7, 8, 1, 2, 3, 4, 6, 7, 8, 3, 4, 1, 2, 4, 6, 1, 2, 3, 5, 7, 8, 1, 3, 4, 5, 6, 7, 8, 4, 7, 8, 4, 3, 8, 2, 5, 2, 4, 5, 8, 6, 1, 2, 3, 5, 6, 7, 8, 4, 3, 7, 2, 6, 7, 8, 1, 2, 4, 5, 7, 8, 2, 5, 7, 8, 1, 4, 7, 2, 3, 1, 2, 3, 5, 7, 1, 4, 6, 7, 3, 4, 5, 6, 8, 6, 4, 5, 6, 2, 8, 2, 3, 5, 6, 7, 8, 4, 6, 8, 1, 4, 1, 2, 4, 8, 1, 2, 3, 6, 8, 4, 5, 6, 1, 4, 5, 7, 8, 7, 4, 6, 2, 4, 2, 1, 8, 1, 2, 3, 5, 6, 7, 4, 5, 6, 3, 4, 7, 8, 5, 2, 3, 5, 6, 7, 8, 3, 5, 7, 1, 3, 5, 6, 7, 8, 3, 6, 2, 3, 1, 2, 6, 7, 8, 1, 2, 5, 7, 6, 1, 2, 3, 4, 7, 8, 1, 4, 8, 4, 7, 2, 4, 5, 6, 8, 1, 8, 1, 3, 5, 1, 2, 3, 4, 5, 6, 7, 8, 4, 4, 6, 1, 2, 3, 4, 5, 6, 7, 8, 2, 5, 1, 3, 4, 5, 7, 8, 2, 2, 3, 7, 1, 2, 3, 4, 5, 6, 7, 8, 4, 5, 7, 2, 6, 6, 1, 4, 7, 4, 5, 6, 1, 2, 3, 4, 5, 6, 7, 8, 6, 2, 5, 1, 2, 3, 4, 5, 6, 7, 8, 3, 4, 5, 6, 7, 8, 1, 2, 7, 4, 3, 6, 2, 1, 2, 3, 4, 5, 6, 7, 8, 1, 2, 3, 4, 5, 6, 7, 8, 4, 6, 7, 5, 4, 7, 4, 3, 4, 5, 6, 7, 8, 1, 3, 4, 5, 6, 7, 8, 1, 2, 3, 4, 6, 1, 3, 7, 3, 7, 2, 4, 6, 8, 2, 4, 5, 8, 1, 2, 3, 4, 5, 6, 7, 8, 6, 7, 2, 1, 2, 3, 4, 5, 6, 7, 8, 2, 2, 4, 5, 1, 3, 4, 7, 1, 4, 2, 3, 1, 2, 4, 6, 1, 5, 1, 2, 8, 1, 2, 3, 4, 5, 6, 7, 8, 1, 3, 8, 1, 2, 3, 5, 6, 8, 3, 6, 1, 2, 3, 5, 7, 8, 1, 2, 6, 7, 8, 2, 3, 4, 6, 8, 1, 2, 3, 4, 5, 6, 7, 8, 1, 6, 7, 8, 1, 3, 5, 1, 2, 3, 4, 5, 6, 7, 8, 2, 3, 4, 5, 2, 4, 4, 8, 5, 1, 3, 4, 5, 6, 7, 8, 2, 1, 3, 4, 5, 1, 3, 7, 4, 2, 3, 7, 1, 2, 3, 4, 5, 6, 7, 8, 5, 1, 3, 5, 6, 7, 8, 8, 4, 5, 5, 6, 7, 1, 2, 3, 4, 5, 6, 7, 8, 1, 2, 3, 5, 6, 8, 8, 1, 2, 5, 6, 8, 1, 2, 3, 4, 5, 6, 7, 8, 5, 1, 8, 5, 6, 5, 3, 2, 8, 5, 3, 1, 2, 4, 5, 6, 7, 8, 2, 1, 2, 3, 4, 5, 6, 7, 8, 4, 6, 1, 4, 5, 6, 1, 3, 4, 1, 2, 3, 5, 6, 7, 8, 4, 8, 7, 8, 1, 2, 3, 4, 6, 7, 8, 8, 2, 5, 1, 4, 7, 8, 3, 6, 2, 4, 1, 5, 6, 8, 2, 3, 5, 6, 1, 2, 4, 5, 6, 7, 8, 1, 6, 4, 3, 4, 8, 2, 1, 2, 3, 4, 5, 6, 8, 1, 2, 4, 5, 6, 7, 8, 4, 1, 3, 4, 5, 6, 8, 3, 3, 2, 2, 8, 6, 2, 5, 8, 3, 5, 5, 4, 7, 1, 2, 4, 5, 6, 7, 1, 3, 4, 7, 8, 7, 1, 2, 3, 4, 5, 6, 7, 8, 2, 4, 6, 8, 2, 8, 1, 3, 6, 1, 6, 1, 2, 3, 5, 8, 1, 3, 4, 5, 1, 2, 3, 4, 5, 6, 8, 3, 1, 2, 3, 4, 5, 6, 7, 8, 3, 2, 4, 1, 3, 1, 2, 3, 4, 5, 6, 7, 8, 3, 4, 5, 6, 1, 3, 5, 7, 8, 1, 3, 4, 8, 1, 2, 4, 5, 6, 7, 8, 1, 2, 3, 4, 5, 6, 7, 8, 1, 3, 5, 6, 8, 2, 4, 5, 7, 8, 1, 2, 3, 4, 5, 6, 8, 2, 3, 4, 5, 6, 8, 6, 2, 2, 1, 2, 3, 4, 5, 6, 7, 8, 2, 3, 4, 5, 6, 7, 8, 2, 3, 4, 6, 8, 8, 1, 2, 4, 6, 7, 1, 2, 3, 4, 5, 6, 7, 8, 1, 2, 3, 4, 5, 6, 7, 8, 1, 2, 3, 4, 5, 6, 8, 1, 4, 5, 6, 7, 8, 2, 3, 4, 5, 7, 6, 8, 1, 2, 3, 5, 6, 7, 2, 3, 4, 5, 6, 7, 8, 1, 2, 3, 4, 5, 6, 7, 8, 6, 1, 2, 5, 6, 8, 1, 6, 4, 1, 2, 3, 4, 5, 6, 7, 8, 1, 2, 3, 4, 6, 7, 8, 1, 2, 3, 4, 6, 7, 8, 7, 8, 1, 2, 7, 8, 1, 3, 7, 8, 7, 1, 2, 3, 4, 5, 6, 1, 2, 3, 4, 5, 7, 8, 2, 3, 6, 8, 8, 1, 2, 3, 4, 5, 6, 7, 8, 4, 3, 7, 6, 8, 5, 1, 6, 8, 1, 7, 1, 3, 4, 7, 1, 2, 3, 4, 6, 7, 8, 2, 1, 2, 3, 4, 6, 8, 1, 1, 4, 5, 6, 7, 8, 1, 2, 3, 4, 5, 6, 7, 8, 1, 2, 3, 4, 5, 6, 7, 8, 1, 2, 5, 6, 8, 1, 2, 3, 4, 5, 7, 4, 5, 3], \"Freq\": [0.012076734212164928, 0.0005250754005289099, 0.2978927772334016, 0.004025578070721643, 0.10956573357703255, 0.005425779138798736, 0.00017502513350963665, 0.5704069101079058, 0.00018756460747330366, 0.9995317932252351, 0.00022105832619335488, 0.0006631749785800646, 0.00044211665238670975, 0.0006631749785800646, 0.0006631749785800646, 0.9532035025457463, 0.04399060691247762, 0.0008986266065264857, 0.9986737020531012, 0.0013607328418468751, 0.0017009160523085937, 0.0006803664209234376, 0.9960564402319125, 0.9530183448726514, 0.0003580083940167736, 0.032578763855526396, 0.0003580083940167736, 0.01396232736665417, 9.575589458777737e-05, 0.003351456310572208, 0.9860942024649314, 0.0024896532592822117, 9.575589458777737e-05, 0.0003830235783511095, 0.0065114008319688615, 0.0009575589458777737, 0.9454729476904066, 0.002375986585472212, 0.0015274199478035647, 0.03496094547194826, 0.011031366289692411, 0.0015274199478035647, 0.0001697133275337294, 0.0027154132405396705, 0.9989714360771172, 0.0002951391094148239, 0.9695319744276965, 0.029809050050897214, 0.0002951391094148239, 0.99963015261825, 0.9994389688467322, 0.0015622222557045244, 0.6670689031858319, 0.33056622930707735, 0.0003124444511409049, 0.0003124444511409049, 0.5485010498472904, 0.0005216781008296334, 0.013172372045948243, 0.4142993584088672, 0.004043005281429659, 0.01625896747585691, 0.002999649079770392, 0.00017389270027654447, 0.9997526026398025, 0.9989615835729346, 0.9957442704140249, 0.0002778304325931989, 0.003611795623711586, 0.9991244254572241, 0.00026395279534021705, 0.00026395279534021705, 0.00026395279534021705, 0.00026395279534021705, 0.9990613303627215, 0.0031741047930622206, 0.9950818526250061, 0.0007935261982655551, 0.9993493195355218, 0.024906143066851627, 0.0033656950090340037, 0.00013462780036136015, 0.7183739427282178, 0.2486575472674322, 0.003904206210479444, 0.0006731390018068007, 0.00013462780036136015, 0.005295760915575947, 0.00496477585835245, 0.007943641373363921, 0.9817016797248912, 0.9992858018907003, 0.0009682320376841612, 0.9987313468712123, 0.9996498598284602, 0.9951458899042361, 0.0005490460082230268, 0.0038433220575611877, 0.9860883262602153, 0.0032562080118664237, 0.00976862403559927, 0.999122109474264, 0.9986642935814517, 0.9990516154747863, 0.9996418459246378, 0.9988187526866885, 0.9985861791686409, 0.998523143046467, 0.9993950247646386, 0.00039580000980777766, 0.012573918150116195, 0.0021867683739332515, 0.0008200381402249693, 0.969831773839397, 0.0008200381402249693, 0.004646882794608159, 0.008747073495733006, 0.0005466920934833129, 0.0005171232080156413, 0.0005171232080156413, 0.997530668262172, 0.0010342464160312825, 0.9996332235085765, 0.00022130467644644155, 0.9989126416716372, 0.00020681833118863188, 0.9995529946346579, 0.9997434538341663, 0.9993795460962486, 0.9994254565326397, 0.00024105951299535072, 0.00024105951299535072, 0.9748446705531982, 0.006026487824883768, 0.0025311248864511825, 0.00012052975649767536, 0.015909927857693146, 0.9902673505699784, 0.00824286103387799, 0.0011240265046197258, 0.989356441878878, 0.00035755563493996314, 0.010369113413258932, 0.00030271716933070265, 0.9938204669126968, 0.0009081515079921079, 0.0015135858466535132, 0.0030271716933070263, 0.00030271716933070265, 0.9988977059523891, 0.9985619099149566, 0.000284169000809748, 0.000284169000809748, 0.9962965168389766, 0.000568338001619496, 0.002273352006477984, 0.0002939511516907496, 0.0005879023033814992, 0.0002939511516907496, 0.9985520622934765, 0.9994852859864987, 0.9997306915976892, 0.9954229320397863, 0.00022268969396863227, 0.004008414491435381, 0.00022268969396863227, 0.99921856630798, 0.008314410586018763, 0.005160668639597853, 0.9859744139765009, 0.999338946398783, 0.008883491140066315, 0.9642625837490164, 0.02422770310927177, 0.0016151802072847845, 0.00040379505182119613, 0.0008075901036423923, 0.0003628936817093288, 4.0321520189925425e-05, 8.064304037985085e-05, 0.00024192912113955254, 8.064304037985085e-05, 4.0321520189925425e-05, 0.0001612860807597017, 0.9989253411852124, 0.8652380692658164, 0.0005928318391680825, 0.13131225237573027, 0.00029641591958404125, 0.001185663678336165, 0.0008892477587521238, 0.9994791531021145, 0.0005341706977006983, 0.00022893029901458498, 0.0027471635881750195, 0.0024419231894889063, 7.631009967152832e-05, 0.000992031295729868, 0.992870706826255, 0.00022893029901458498, 0.028819471720335835, 0.023551396244575522, 0.0018593207561506992, 0.91757479316037, 0.02324150945188374, 0.0009296603780753496, 0.004028528304993182, 0.9991147553696043, 0.00015276004749636786, 0.9918709883939165, 0.007485242327322025, 0.0003055200949927357, 0.0011102366288526103, 0.0004625985953552543, 0.00018503943814210172, 0.0004625985953552543, 0.00018503943814210172, 0.9961598152380046, 0.001295276066994712, 9.251971907105086e-05, 0.99844226411199, 0.9998029690480703, 0.9988581883178086, 0.0004915640690540396, 0.9992658397148716, 0.0006271801699715887, 0.9984708305947693, 0.9984087942331769, 0.9990086798857913, 0.9996486809715879, 0.9997507932060252, 0.0009479168791892377, 0.9972085569070781, 0.9995339776126353, 0.998917773836244, 0.0017595374418694076, 0.0003199158985217105, 0.0007997897463042762, 0.00015995794926085524, 0.9968579397936498, 0.00015995794926085524, 0.9996030878230466, 0.0002769415992461792, 9.231386641539308e-05, 0.00046156933207696537, 0.004984948786431226, 0.00018462773283078616, 9.231386641539308e-05, 0.9937587719617065, 9.231386641539308e-05, 0.9973789931504837, 0.9974214200351663, 0.0003067719769651245, 0.9994631009523756, 0.8019257088903872, 0.0013018274494973818, 0.062162260713499985, 0.13408822729823033, 0.998420526121357, 0.00048514116915517833, 0.0009702823383103567, 0.9995288260520927, 0.0006068721029864644, 0.00020229070099548813, 0.00020229070099548813, 0.00020229070099548813, 0.00040458140199097625, 0.00020229070099548813, 0.9983046094127339, 0.00020229070099548813, 0.9991237312381492, 0.0007229549430087911, 0.0002680336367032934, 0.09568800830307572, 0.0002680336367032934, 0.00120615136516482, 0.0005360672734065867, 0.0001786890911355289, 0.890586430219476, 0.011302085014322203, 0.9995999507404276, 0.005095247546218843, 0.0014557850132053839, 0.0007278925066026919, 0.9924814327527705, 0.00019580889974249362, 0.00019580889974249362, 0.019776698873991857, 0.00019580889974249362, 0.00019580889974249362, 0.003132942395879898, 0.9764989830158157, 0.6672066189303733, 0.3325190083509986, 0.998732387417669, 0.999457843416902, 0.9991522227569802, 0.0004278917729073453, 0.004706809501980798, 0.0008557835458146906, 0.001283675318722036, 0.9927089131450411, 0.0009767527262085135, 0.0012558249336966601, 0.0006976805187203667, 0.00013953610374407334, 0.996985461251404, 0.9992824817888943, 0.0061969682251313595, 0.0033983374137817133, 0.0061969682251313595, 0.00019990220081068903, 0.980320392775619, 0.0035982396145924026, 0.0060232398167028205, 0.8314580630306851, 0.0030116199083514102, 0.15083196374326646, 0.00878389139935828, 0.00025096832569595085, 0.9995524492189554, 0.9992027263279627, 0.9997913518594873, 0.9996587508295244, 0.9993798453191484, 0.9983501378815407, 0.0006639345042348229, 0.0011065575070580381, 0.9981148713663504, 0.9997624385641619, 0.00038061080564245556, 0.9987227540058033, 0.00038061080564245556, 0.9988706062132122, 0.0005555453872153572, 0.0019233512848577865, 0.9312414368037906, 0.001018244797865887, 0.0035072876370936105, 0.006788298652439247, 0.027153194609756987, 0.02749260954237895, 0.001018244797865887, 0.9996336435933806, 0.9996429711035922, 0.9881744111556854, 0.0003289778981703857, 0.00015978926482561592, 0.00753829355236141, 0.00092113811487708, 0.0002913804240937702, 0.0024250370779417005, 0.00015978926482561592, 0.9994861484661254, 0.9985421876158479, 0.24129813925657315, 0.7582570953507105, 0.00018984904740879083, 0.9990395678339213, 0.9966887788408525, 0.00044062280231691093, 0.0026437368139014656, 0.00044062280231691093, 0.9994977542605236, 0.00030389107761037503, 0.999890639295014, 0.9972883030424772, 0.002616573508732137, 0.9113032957680385, 0.00030468181068807706, 0.0877483614781662, 0.00030468181068807706, 0.0005380101175584005, 0.002152040470233602, 0.9937046871303657, 0.0016140303526752016, 0.0005380101175584005, 0.0005380101175584005, 0.0005380101175584005, 0.1016552334311271, 0.0010891632153335047, 0.5709030520373121, 0.0010891632153335047, 0.11363602879979566, 0.20766711972358823, 0.0025413808357781778, 0.001633744823000257, 0.9967700792466346, 0.0024168308121671088, 0.0006905230891906025, 0.9913208613533732, 0.00020280705019504362, 0.00020280705019504362, 0.007098246756826527, 0.0006084211505851309, 0.00020280705019504362, 0.00040561410039008724, 0.9987685008071774, 0.0008514650475764514, 0.0017445511354689561, 0.9978832494882429, 0.9985980610776609, 0.9984128702771878, 0.009623490561673786, 0.0007181709374383422, 0.0004309025624630053, 0.11734913117742511, 0.004165391437142385, 0.02786503237260768, 0.7965952038066092, 0.043233890433788204, 0.998778228735538, 0.9918022695205825, 0.00810148885976152, 0.0006374661339150753, 0.00031873306695753763, 0.0006374661339150753, 0.9852039099657488, 0.002549864535660301, 0.0009561992008726128, 0.007012127473065828, 0.0028685976026178385, 0.0003279916709497705, 0.0049198750642465575, 0.9944707463197041, 0.993122440459143, 0.0001857345128967913, 0.0003714690257935826, 0.0001857345128967913, 0.0003714690257935826, 0.0003714690257935826, 0.005014831848213365, 0.0001857345128967913, 0.9983134919673441, 0.0013092635960227465, 0.0001394713963180189, 0.014086611028119908, 0.0004184141889540567, 0.0008368283779081134, 0.9804839161156729, 0.004044670493222548, 0.0006157798399269062, 0.0006157798399269062, 0.998179120521515, 0.6714403799380384, 0.00021964029438601188, 0.3200159089204193, 0.00021964029438601188, 0.002855323827018155, 0.004612446182106249, 0.0006589208831580356, 0.00021964029438601188, 0.0003635669660082542, 0.000999809156522699, 0.00027267522450619066, 0.9929922759100442, 0.003635669660082542, 0.0008180256735185719, 0.0009089174150206355, 0.00041553131443957563, 0.0027009535438572417, 0.0008310626288791513, 0.9941586697966847, 0.00020776565721978782, 0.0014543596005385147, 0.00020776565721978782, 0.00024360543202795642, 0.9992694821786773, 0.00319805206231857, 0.0004797078093477855, 0.9563774692363683, 0.0252646112923167, 0.00639610412463714, 0.004317370284130069, 0.000319805206231857, 0.0036777598716663555, 0.9994380902010184, 0.999705469753413, 0.9992753369511292, 0.9985684703917324, 0.0037500632641664666, 0.9947042808201553, 0.00023437895401040416, 0.0004687579080208083, 0.00023437895401040416, 0.0007031368620312125, 0.0004274766797269548, 0.9990130005218932, 0.0307988484878112, 0.0001999925226481247, 0.0003999850452962494, 0.0003999850452962494, 0.04339837741464306, 0.010799596222998732, 0.9141658210245779, 0.007316497535131485, 0.0004064720852850825, 0.9917918880956014, 0.9986991668098847, 0.00014281205008127848, 0.00028562410016255696, 0.9955428011165922, 0.003855925352194519, 0.00036935087365691467, 0.004432210483882976, 0.9928151483897866, 0.002216105241941488, 0.0005767374998324648, 0.0005767374998324648, 0.9983326122099967, 0.0002883687499162324, 0.9998619997150108, 0.0010829168753217705, 0.9984493590466724, 0.00036097229177392353, 0.0003377124333652524, 0.0003377124333652524, 0.9989533778944166, 0.00018331098715553055, 0.00018331098715553055, 0.008248994421998876, 0.9913458185371093, 7.190221454656638e-05, 0.001509946505477894, 0.00021570664363969913, 0.0003595110727328319, 0.9739154960332416, 0.02358392637127377, 7.190221454656638e-05, 0.00014380442909313275, 0.03355473142860085, 0.00031655407008114003, 0.00031655407008114003, 0.965173359677396, 0.00031655407008114003, 0.00031655407008114003, 0.9990198158071345, 0.001549675678637215, 0.9979911370423664, 0.9990799267072255, 0.9997237284762684, 0.0001886813048339759, 0.010754834375536627, 0.0011320878290038555, 0.0037736260966795185, 0.0005660439145019278, 0.0003773626096679518, 0.8892549896825285, 0.09415197111215398, 0.000800912492265035, 0.9725079937328188, 0.0004004562461325175, 0.001001140615331294, 0.021824865414222204, 0.00020022812306625876, 0.0030034218459938813, 0.00025017398123429365, 0.015510786836526208, 0.004503131662217286, 0.9744276569075738, 0.0027519137935772303, 0.00025017398123429365, 0.0025017398123429366, 0.9997014853820314, 0.9997104588764093, 0.00121098095373822, 0.00161464127165096, 0.00080732063582548, 0.00040366031791274, 0.9958300042907295, 0.0006905664543810935, 0.0002301888181270312, 0.03314718981029249, 0.002532076999397343, 0.0057547204531757795, 0.9573552945903226, 0.0002301888181270312, 0.9993464120643029, 0.0003920543005352306, 0.0005291063629806812, 0.0005291063629806812, 0.0005291063629806812, 0.9984237069445454, 0.002160017658499481, 0.00015428697560710577, 0.9951509926658322, 0.0012342958048568462, 0.00030857395121421154, 0.0007714348780355288, 0.0014493496707548353, 0.9628952176251215, 0.0018446268536879723, 0.0002635181219554246, 0.0332032833663835, 0.0001317590609777123, 0.0002635181219554246, 0.0007648394602885834, 0.0010197859470514447, 0.9978605491898386, 0.9989470889903892, 0.0009078790469900184, 0.9986669516890203, 0.9991853203149891, 0.9992584307131515, 0.0008403966604136328, 0.0037817849718613477, 0.9950296459297412, 0.0004201983302068164, 0.9993280813295122, 5.335645983844028e-05, 0.00010671291967688055, 0.00016006937951532082, 0.018141196345069693, 0.9813320093485935, 5.335645983844028e-05, 0.00016006937951532082, 0.9993473711336013, 0.9994052943325152, 0.9998966468581904, 0.00031468504208515555, 0.00031468504208515555, 0.00031468504208515555, 0.9988103235782838, 0.012616398971323979, 0.01647856192172928, 0.00025747753002702, 0.9688879454916762, 0.00025747753002702, 0.0012873876501351, 0.00016261386250668498, 0.0006504554500267399, 0.997798660341019, 0.0011382970375467948, 0.0010183016074167648, 0.998444726072138, 0.0005091508037083824, 0.999295747649413, 0.0002719172102447382, 0.9850288714137213, 0.0047713992694959585, 0.0031809328463306393, 0.0037110883207190793, 0.0031809328463306393, 0.00044767994813026585, 0.9575874090506387, 0.03939583543546339, 0.002238399740651329, 0.001099849967628866, 0.00036661665587628867, 0.00036661665587628867, 0.9924312874571135, 0.00549924983814433, 0.9994724732239764, 0.0009479232518151175, 0.0009479232518151175, 0.9978472097440471, 0.0006243993185266506, 0.9990389096426409, 0.0010105540588496804, 0.9943851939080854, 0.0016842567647494672, 0.0006737027058997868, 0.0003368513529498934, 0.0016842567647494672, 0.0005227325746466319, 0.003136395447879791, 0.9958055547018337, 0.004302794671005482, 0.9953798338926014, 0.993501787490758, 0.0041656259433574755, 0.0006942709905595793, 0.0006942709905595793, 0.000364617781282071, 0.9899372761808228, 0.001458471125128284, 0.004375413375384852, 0.00364617781282071, 0.0006345669837483706, 0.0003172834918741853, 0.9988084324199353, 0.0046487585905475165, 0.0003099172393698344, 0.0003099172393698344, 0.8466938979583876, 0.147830523179411, 0.998100227444796, 0.9981153516293387, 0.9996717059648379, 0.00363611754800132, 0.9956901885610282, 0.9987315348375517, 0.9994686155673477, 0.0002485004016825827, 0.027567624221241482, 0.9567379329089832, 0.0001178103599198354, 0.0007068621595190124, 0.0002356207198396708, 0.014726294989979424, 0.0009493315829770712, 0.0009493315829770712, 0.9977474937089018, 0.0003940343768520704, 0.0003940343768520704, 0.9984831109431465, 0.0003940343768520704, 0.998687632013861, 0.995405101651054, 0.00045218281419642065, 0.0001507276047321402, 0.0019594588615178227, 0.0018087312567856826, 0.0001507276047321402, 0.9816584789496939, 0.018062810915709725, 0.9933731040492244, 0.9627841299997691, 0.011337402212578626, 0.014022576420820934, 0.006563759175703416, 0.0011934107592188028, 0.003878584967461109, 0.9985497291704007, 0.0005846309889756445, 0.9996589235147845, 0.9997393719369104, 0.00028174950185425556, 0.00028174950185425556, 0.9985202345714816, 0.00028174950185425556, 0.00028174950185425556, 0.0002633725297997416, 0.0005267450595994832, 0.9984452604708205, 0.0005267450595994832, 0.9986869443347782, 0.001400472520362477, 0.975289063180429, 0.0002800945040724954, 0.0005601890081449908, 0.0011203780162899815, 0.02128718230950965, 0.9980387791184293, 0.000710347885493544, 0.000710347885493544, 0.0010912955764942926, 0.9985354524922777, 0.00026247321271365446, 0.0265097944840791, 0.0018373124889955812, 0.9695760477642396, 0.0020997857017092357, 0.00031971113357183174, 0.999417003545546, 0.9983278097986812, 0.0002183410201557648, 0.9995651902730913, 0.0738378044309463, 0.4967270479900024, 0.002275433110352737, 0.0009101732441410946, 0.00022754331103527365, 0.42402696011423247, 0.0010239448996587316, 0.0009101732441410946, 0.9996546920873393, 0.030181986411216877, 0.9694719371427135, 0.0020692722172169654, 0.0006503426968396176, 0.0004138544434433931, 0.0009459530135848984, 0.0001182441266981123, 0.005557473954811278, 0.0001182441266981123, 0.9900580728432943, 0.9860416758359738, 0.013587188446558695, 0.0050888635525170554, 0.002180941522507309, 0.00036349025375121823, 0.00036349025375121823, 0.9817871753820404, 0.010541217358785328, 0.9998696213095782, 0.0001504390888159692, 0.0027079035986874453, 0.9969598415834279, 0.001225458801184157, 0.00040848626706138565, 0.00594007113351765, 0.9706484718434901, 0.0013786411513321767, 0.0028764241305572575, 0.012424790623117148, 0.005123098599394879, 0.9985029813462712, 0.00026812647189749497, 0.0008043794156924848, 0.00022720016759456935, 0.9996807374161051, 0.9988900145181457, 0.0002910221342663419, 0.0002910221342663419, 0.9990789869363518, 0.0009479232518151175, 0.0009479232518151175, 0.9978472097440471, 0.004094473400118299, 0.00044094328924350915, 6.299189846335845e-05, 0.0002519675938534338, 0.9172880254234257, 6.299189846335845e-05, 0.07596822954681029, 0.001826765055437395, 0.999441494484694, 0.0008400622527797006, 0.9988340185550642, 0.00029036060846441387, 0.0017784587268445348, 0.0017058685747284314, 0.015026161488033417, 0.942220174467023, 0.008130097037003587, 0.002286589791657259, 0.028564224857686712, 0.14771715873886013, 0.004529657337818538, 0.0012582381493940384, 0.026423001137274808, 0.00025164762987880767, 0.8196163305152766, 0.0009561149588093416, 0.0009561149588093416, 0.9981840169969526, 0.9991407427388234, 0.00036640935179120483, 0.9995647116864068, 0.9989728041426134, 0.0008499896579230502, 0.004533278175589601, 0.0022666390877948005, 0.011616525324948354, 0.8582062246163065, 0.09746548077517643, 0.005666597719487002, 0.019549762132230156, 0.0005507732904518837, 0.22448359796102038, 0.35087157408576847, 0.001768272143029732, 0.004087317576511347, 0.2901995479323057, 0.12757648690940737, 0.0004638090866963231, 0.0005416426890927968, 0.0016249280672783902, 0.9971641906198387, 0.9998089145417943, 0.002163748367409036, 0.9953242490081564, 0.9979862602865818, 0.9672371649274191, 0.00024363656547290153, 0.00012181828273645077, 0.02862729644306593, 0.0035327301993570725, 0.9997690160576508, 0.01640008927851378, 0.00018850677331625035, 0.015080541865300027, 0.965343186152518, 0.00018850677331625035, 0.0003770135466325007, 0.0024505880531112546, 0.0015417081333869245, 0.003083416266773849, 0.0010278054222579497, 0.9928600379011793, 0.0005139027111289748, 0.0003761170774670426, 0.0011283512324011277, 0.9982147235975309, 0.005349430499340415, 0.993535137286588, 0.02785770507917457, 0.0004037348562199213, 0.0004037348562199213, 0.9713860640651306, 0.0010026964693234833, 0.007687339598146705, 0.012700821944764122, 0.9782975219032786, 0.00034530961336193294, 8.632740334048323e-05, 0.9945780138857074, 0.0015538932601286983, 0.0007769466300643491, 0.0019855302768311146, 0.00034530961336193294, 0.0002589822100214497, 0.00413045579173837, 0.9956463685985341, 0.9997568870141604, 0.0003483746537900136, 0.007315867729590285, 0.0001161248845966712, 0.0002322497691933424, 0.6281195007833945, 0.0013934986151600544, 0.3620773901724208, 0.0002322497691933424, 0.9998645986457935, 0.9995448830486918, 0.9995524456376581, 0.9988187444650659, 0.014805679638105168, 0.009870453092070113, 0.9749128772813417, 0.0004112688788362547, 0.9989905423595358, 0.9980068536997245, 0.9748073010668509, 0.025038585443162474, 0.010066218883790837, 0.0007947014908255925, 0.9822510426604323, 0.006622512423546604, 0.9982684945438255, 0.9990612502722581, 0.000520399447436664, 0.000520399447436664, 0.9986465396309581, 0.0006841105033706317, 0.00013682210067412633, 0.9706159821822522, 0.019291916195051814, 0.005472884026965053, 0.00027364420134825266, 0.000820932604044758, 0.0028732641141566533, 0.999280998657476, 0.9989898546779709, 0.9994762185534883, 0.0009172242476693072, 0.0004586121238346536, 0.0004586121238346536, 0.0018344484953386143, 0.011923915219700994, 0.9841816177491666, 0.000324404509893205, 0.9991658904710714, 0.9000025994301717, 0.00019762902929955462, 0.00019762902929955462, 0.0962453372688831, 0.0017786612636959914, 0.0013834032050968822, 0.008309193635994106, 0.00026803850438690666, 0.00026803850438690666, 0.9901342352052331, 0.00080411551316072, 0.0005203234859637938, 0.0010406469719275876, 0.9958991521347014, 0.002081293943855175, 0.0005203234859637938, 0.000572623769408013, 0.000190874589802671, 0.014029282350496318, 0.9793775202775049, 9.54372949013355e-05, 0.000763498359210684, 0.0025768069623360586, 0.002290495077632052, 0.9987883104148929, 0.0002033777866859892, 0.0002033777866859892, 0.0006101333600579676, 0.9996036939774787, 0.0007845554336197772, 0.9987390669979763, 0.0037764926844059774, 0.003167380961114691, 0.014496859014332623, 0.000182733516987386, 0.9707413534093235, 6.091117232912867e-05, 0.007370251851824569, 0.00024364468931651468, 0.8778435735638975, 0.12011482290476476, 0.00026457009450388713, 0.00185199066152721, 0.9191144457206283, 0.08076334220752047, 0.00058786036321127, 0.9987747570959479, 0.9988421889123396, 0.00010838574981978996, 0.009646331733961306, 0.00021677149963957991, 0.9884780383564844, 0.0003251572494593699, 0.0008670859985583197, 0.00021677149963957991, 0.999462040975953, 0.00399411865297458, 0.9805561293052595, 0.0014977944948654676, 0.01372978286960012, 0.0005327080906240777, 0.007990621359361166, 0.9908370485607846, 0.999552695961174, 0.0018104807236602658, 0.0018104807236602658, 0.9957643980131461, 0.001422698935627202, 0.00012933626687520018, 0.7542891084161675, 0.006337477076884809, 0.00012933626687520018, 0.0004526769340632006, 0.0008406857346888012, 0.23636202771442832, 0.9996304950347149, 0.6512327723507261, 0.0004421132195184834, 0.0002210566097592417, 0.0002210566097592417, 0.0002210566097592417, 0.34750099054152794, 0.9994924177946412, 0.9984345785168812, 0.0014704485692443022, 0.9993761152586196, 0.01739426920181873, 0.9820710368270087, 0.9907784631846089, 0.00016688200491571652, 0.00016688200491571652, 0.0006675280196628661, 0.0020025840589885983, 0.00033376400983143304, 0.0008344100245785826, 0.005006460147471496, 0.0003438225877856959, 0.9986900099881847, 0.0005730376463094932, 0.00011460752926189864, 0.00011460752926189864, 0.00011460752926189864, 0.9993757229700556, 0.004047800802915458, 0.0003373167335762882, 0.0013492669343051528, 0.0013492669343051528, 0.9927231469150162, 0.040041320211262825, 0.0036704543526990922, 0.00016683883421359508, 0.48750307357212486, 0.0073409087053981845, 0.005839359197475829, 0.4554700174031146, 0.00016683883421359508, 0.9992415403558885, 0.9986643859051225, 0.0006138072439490612, 0.9951531030910994, 0.004617879828729, 0.9985840784644202, 0.9997730459116378, 0.0010280396682802826, 0.9992545575684347, 0.9992603987588363, 0.9989583061570272, 0.992850022993446, 0.0010750947731385447, 0.0008959123109487872, 0.00017918246218975745, 0.0030461018572258765, 0.0010750947731385447, 0.0007167298487590298, 0.9997133385451336, 0.04778945899192375, 0.7255758204877252, 0.01104101293951342, 0.0014831211411286682, 0.010217056749997492, 0.00032958247580637073, 0.00016479123790318537, 0.20335238757253074, 0.9989489791769249, 0.0011849928578611208, 0.00029995802651898814, 0.0008998740795569645, 0.03959445950050643, 0.9589658107812051, 0.028648458296345228, 0.9705538676493541, 0.00034937144263835643, 0.0009714310010229319, 0.0003238103336743106, 0.0006476206673486213, 0.0009714310010229319, 0.9937739140464593, 0.0003238103336743106, 0.002590482669394485, 0.999096833282331, 0.0005496589950205378, 0.9946661587197221, 0.998521954508162, 0.9958030701001847, 0.0008165666831489828, 0.0002041416707872457, 0.0002041416707872457, 0.0002041416707872457, 0.0002041416707872457, 0.0024497000494469487, 0.9994795369257352, 0.9993864401031864, 0.9994154453688623, 0.0006266202063589028, 0.0006266202063589028, 0.9916264765629635, 0.00689282226994793, 0.0003501129334195795, 0.9995724249128994, 0.9995863349003716, 0.0003243830390720012, 0.9971120598643604, 0.0003016067936673806, 0.0021112475556716646, 0.0003016067936673806, 0.0001625735440138738, 0.852698238352768, 0.0001625735440138738, 0.14680391024452805, 0.9980162221223629, 0.00030104132175079825, 0.0009031239652523948, 0.00030104132175079825, 0.9970488576386438, 0.0006020826435015965, 0.0009031239652523948, 0.9996729304043845, 0.999428929282058, 0.9984512336279444, 0.9997283796791104, 0.002936987572544987, 0.9966177829502656, 0.9995402734412765, 0.0002746169978326489, 0.0030207869761591376, 0.0002746169978326489, 0.9952120001455196, 0.0002746169978326489, 0.0002746169978326489, 0.0008238509934979467, 0.00030965123891394384, 0.00030965123891394384, 0.9791172174458904, 0.01610186442352508, 0.00030965123891394384, 0.0006193024778278877, 0.0030965123891394386, 0.9995405697406583, 0.0003805431228552504, 0.0011416293685657512, 0.9212949004325611, 0.07001993460536607, 0.006849776211394507, 0.0003805431228552504, 0.9987529897724013, 0.9984930418181688, 0.99918493135847, 0.9994645254398605, 0.9987758129455001, 0.999430491646892, 0.997454098535371, 0.0003697012967143703, 0.0022182077802862217, 0.00045845543248900725, 0.9989743873935468, 0.9992350471632079, 0.0021648118086463435, 0.9958134319773181, 0.0004704902989193481, 0.0004704902989193481, 0.9960279628122599, 0.0028229417935160886, 0.0004704902989193481, 0.9995937087027384, 0.9964586903910098, 0.0003050072514205723, 0.0012200290056822891, 0.0018300435085234338, 0.0003050072514205723, 0.9992761105940434, 0.0003745804076296008, 0.0003745804076296008, 0.0001872902038148004, 0.035397848520997276, 0.8885047268974131, 0.07285588928395736, 0.0007491608152592016, 0.0013110314267036028, 0.9989512588974779, 0.0005427608035302788, 0.0002713804017651394, 0.9994364418892042, 0.9988156646127884, 0.9996298407869582, 0.00021554587503390692, 0.9992706766571924, 0.00021554587503390692, 0.00028951401981070483, 0.9996919104063637, 0.01347801055843606, 0.9819292275593938, 0.0008423756599022537, 0.002807918866340846, 0.0002807918866340846, 0.0016682034255355617, 0.01000922055321337, 0.0008341017127677808, 0.9871593770606687, 0.0003113156300320346, 0.009339468900961038, 0.0043584188204484845, 0.0043584188204484845, 0.979398972080781, 0.0003113156300320346, 0.0018678937801922077, 0.9989870817774131, 0.0006311094053898387, 0.1430514652216968, 0.018617727459000245, 0.00021036980179661293, 0.805190416376536, 0.016514029441034115, 0.00042073960359322585, 0.015356995531152743, 0.9997120853187142, 0.9987995362909844, 0.0006138903111806911, 0.0004970220907902204, 0.999511424579133, 0.013897427929545547, 0.0112502988001083, 0.919215590197084, 0.003308911411796559, 0.00044118818823954116, 0.03948634284743893, 0.0017647527529581646, 0.010588516517748989, 0.00028294515704769337, 0.00084883547114308, 0.0019806160993338534, 0.996532843121976, 0.9972794643123719, 0.0004576075853375827, 0.00015253586177919423, 0.00015253586177919423, 0.001982966203129525, 0.9996929480582044, 0.99891711382644, 0.0004045836832022843, 0.0004045836832022843, 0.0034316008985793615, 0.0001492000390686679, 0.0008952002344120074, 0.001492000390686679, 0.9062410373030888, 0.08474562219100336, 0.003133200820442026, 0.9901683082334136, 0.006321987314448213, 0.0003109174089072892, 0.0010363913630242973, 0.00020727827260485945, 0.0006218348178145784, 0.0013473087719315865, 0.00010363913630242973, 0.0002727680734162971, 0.014456707891063746, 0.004364289174660753, 0.980601223931588, 0.0002727680734162971, 0.9644101211468971, 0.01569811237535643, 0.0006825266250154969, 0.01706316562538742, 0.002047579875046491, 0.026768247802282565, 0.0027966826062086263, 0.0007990521732024646, 0.0023971565196073937, 0.952869716543939, 0.011586256511435737, 0.0027966826062086263, 0.016920447671771425, 0.0010412583182628568, 0.0002603145795657142, 0.9061550514682511, 0.0002603145795657142, 0.07549122807405712, 0.9994565004990009, 0.9987956532088123, 0.9992335097208587, 0.00809131510657005, 0.9420260380487953, 0.006281415674837275, 0.0022623742896659676, 0.030927987348139466, 0.00428520306630848, 0.004205354561967328, 0.001889747936073926, 0.9976385971441855, 9.9723970126368e-05, 9.9723970126368e-05, 0.001396135581769152, 0.000299171910379104, 0.000299171910379104, 0.000199447940252736, 0.000333215525729842, 0.9963144219322276, 0.000333215525729842, 0.0016660776286492101, 0.000666431051459684, 0.9994173700091968, 0.000354356181503268, 0.8391154377997386, 0.16016899403947712, 0.000177178090751634, 0.9995284327020432, 0.7337691406736528, 0.003944995379965875, 0.005987939416019633, 0.008664900566710763, 0.0006340171146373729, 0.0012680342292747458, 0.21007100398318287, 0.03564585111183452, 0.00020055491907621992, 0.01077982690034682, 0.00012534682442263745, 0.00020055491907621992, 0.0006016647572286598, 0.00020055491907621992, 0.9820672999864799, 0.005816092653210377, 0.00039881384686929055, 0.9986298725607035, 0.00039881384686929055, 0.0001329379489564302, 0.0001329379489564302, 0.0001329379489564302, 0.0002658758979128604, 0.0013617235309269636, 0.00045390784364232123, 0.001815631374569285, 0.002269539218211606, 0.00045390784364232123, 0.9940581775766835, 0.9997625739084007, 0.9871588046086142, 0.00016233494566824768, 0.00032466989133649537, 0.012175120925118577, 0.9991103465137838, 0.9997075971393188, 0.0011571648479656, 0.9916902747065194, 0.005207241815845201, 0.0003857216159885334, 0.0007714432319770668, 0.0005785824239828, 0.0007750294420906231, 0.9827373325709101, 0.00038751472104531156, 0.00019375736052265578, 0.007169022339338264, 0.008525323862996854, 0.00019375736052265578, 0.0006830687224394176, 0.05249871038177239, 0.0004879062303138698, 0.00029274373818832187, 0.0004879062303138698, 0.9416590245057687, 0.0017564624291299311, 0.002146787413381027, 0.9988783205633579, 0.000834846128887065, 0.00020871153222176624, 0.00020871153222176624, 0.00020871153222176624, 0.9984759701489296, 0.0022016029898440596, 0.9976930882309997, 0.998921856911875, 0.004307750754197338, 0.8230675774353048, 0.01809255316762882, 0.0014359169180657796, 0.10252446794989666, 0.013210435646205172, 0.01981565346930776, 0.01751818640040251, 0.988760330908394, 0.0018934514188211297, 0.002272141702585356, 0.0037869028376422594, 0.0003786902837642259, 0.0026508319863495816, 0.0007573805675284518, 0.0008872317026762819, 0.00029574390089209395, 0.00029574390089209395, 0.9966569460063567, 0.0008872317026762819, 0.0005914878017841879, 0.0008872317026762819, 0.9958336419202891, 0.999830729343358, 0.9997505631243114, 0.001810891607622147, 0.9909198876908388, 0.0068813881089641584, 0.9987551263854673, 0.9986839427495797, 0.0003571830982652288, 0.0003571830982652288, 0.9977040448545919, 0.0026537859982772942, 0.0003317232497846618, 0.0003317232497846618, 0.9938428563548467, 0.0019903394987079706, 0.0006634464995693236, 0.002277333299164913, 0.07600599885962898, 0.00028466666239561415, 0.002277333299164913, 0.00028466666239561415, 0.9180499862258557, 0.0008539999871868425, 0.0010047681654501907, 0.0005023840827250954, 0.0005023840827250954, 0.9977347882920394, 0.9996478968557608, 0.6297932012468913, 0.03579766315251207, 0.005176622857838755, 0.052248795115982696, 0.19679940796834455, 0.0018863964651446314, 0.07330624402922509, 0.005045013802130991, 0.9993940520181647, 0.9984522539243961, 0.0007428960222651756, 0.9988974586009677, 0.9990762461138674, 0.9993010825656883, 0.9948065948002104, 0.004813580297420373, 0.9995587391506475, 0.9993756574900922, 0.998780719110322, 0.000155225523260083, 0.9994971442716744, 0.000155225523260083, 0.000155225523260083, 0.9226530794616766, 0.00022503733645406747, 0.039381533879461805, 0.00045007467290813494, 0.002925485373902877, 0.030605077757753178, 0.0036005973832650795, 0.9989456265682333, 0.0009977059519503024, 0.1823806480165153, 0.000798164761560242, 0.8083413622701351, 0.0025940354750707867, 0.004788988569361452, 0.9991228398467165, 0.9944813422068286, 0.00031009708207260014, 0.0009302912462178004, 0.0015504854103630006, 0.00031009708207260014, 0.002480776656580801, 0.06491851941575222, 0.0017440796260948359, 0.00029067993768247264, 0.020153809012651437, 0.9029487797543209, 0.006976318504379343, 0.0009689331256082422, 0.00184097293865566, 0.0009518606389390781, 0.0006345737592927187, 0.0013144742156777744, 0.00045326697092337053, 0.0014504543069547857, 0.0002719601825540223, 0.9607899982662684, 0.03417632960762214, 0.0005866062620116968, 0.9960574328958611, 0.0005866062620116968, 0.0017598187860350903, 0.0005866062620116968, 0.0037662238440404876, 0.9922287909117575, 0.0017119199291093126, 0.0013695359432874502, 0.00034238398582186254, 0.00034238398582186254, 0.0004755776454575034, 0.9991886331062145, 0.9993821742369646], \"Term\": [\"ability\", \"ability\", \"ability\", \"ability\", \"ability\", \"ability\", \"ability\", \"ability\", \"abraham\", \"abraham\", \"abundance\", \"abundance\", \"abundance\", \"abundance\", \"abundance\", \"abundance\", \"abundance\", \"accept\", \"accept\", \"acceptance\", \"acceptance\", \"acceptance\", \"acceptance\", \"achievement\", \"achievement\", \"achievement\", \"achievement\", \"achievement\", \"act\", \"act\", \"act\", \"act\", \"act\", \"act\", \"act\", \"act\", \"action\", \"action\", \"action\", \"action\", \"action\", \"action\", \"action\", \"action\", \"activity\", \"aim\", \"aim\", \"aim\", \"aim\", \"albert\", \"alcott\", \"allow\", \"allow\", \"allow\", \"allow\", \"allow\", \"amp\", \"amp\", \"amp\", \"amp\", \"amp\", \"amp\", \"amp\", \"amp\", \"andrew\", \"angel\", \"anger\", \"anger\", \"anger\", \"annaeus\", \"answer\", \"answer\", \"answer\", \"answer\", \"answer\", \"art\", \"art\", \"art\", \"ashamed\", \"ask\", \"ask\", \"ask\", \"ask\", \"ask\", \"ask\", \"ask\", \"ask\", \"asset\", \"asset\", \"asset\", \"asset\", \"attain\", \"attempt\", \"attempt\", \"attention\", \"attract\", \"attract\", \"attract\", \"avoid\", \"avoid\", \"avoid\", \"axe\", \"ayn\", \"babe\", \"bach\", \"bag\", \"balance\", \"balfour\", \"beauty\", \"beauty\", \"begin\", \"begin\", \"begin\", \"begin\", \"begin\", \"begin\", \"begin\", \"begin\", \"benefit\", \"benefit\", \"benefit\", \"benefit\", \"benjamin\", \"benjamin\", \"bertrand\", \"bind\", \"bind\", \"bite\", \"blessing\", \"block\", \"body\", \"body\", \"body\", \"body\", \"body\", \"body\", \"body\", \"bonaparte\", \"bonaparte\", \"bonaparte\", \"brault\", \"brault\", \"brault\", \"bring\", \"bring\", \"bring\", \"bring\", \"bring\", \"bring\", \"brinkley\", \"brown\", \"build\", \"build\", \"build\", \"build\", \"build\", \"business\", \"business\", \"business\", \"business\", \"c\", \"car\", \"care\", \"care\", \"care\", \"care\", \"carl\", \"carnegie\", \"carnegie\", \"carnegie\", \"celebrate\", \"challenge\", \"challenge\", \"challenge\", \"challenge\", \"challenge\", \"challenge\", \"change\", \"change\", \"change\", \"change\", \"change\", \"change\", \"change\", \"change\", \"character\", \"character\", \"character\", \"character\", \"character\", \"character\", \"child\", \"choice\", \"choice\", \"choice\", \"choice\", \"choice\", \"choice\", \"choice\", \"choice\", \"choose\", \"choose\", \"choose\", \"choose\", \"choose\", \"choose\", \"choose\", \"chop\", \"churchill\", \"churchill\", \"churchill\", \"churchill\", \"come\", \"come\", \"come\", \"come\", \"come\", \"come\", \"come\", \"come\", \"complicated\", \"conflict\", \"confuciu\", \"confuciu\", \"conscience\", \"consist\", \"consist\", \"contemplate\", \"contentment\", \"control\", \"controversy\", \"cope\", \"cope\", \"corner\", \"counsel\", \"courage\", \"courage\", \"courage\", \"courage\", \"courage\", \"courage\", \"covey\", \"create\", \"create\", \"create\", \"create\", \"create\", \"create\", \"create\", \"create\", \"culture\", \"cycle\", \"dalai\", \"dalai\", \"dance\", \"dance\", \"dance\", \"dance\", \"danger\", \"danger\", \"danger\", \"darkness\", \"david\", \"david\", \"david\", \"david\", \"david\", \"david\", \"david\", \"david\", \"dawn\", \"dawn\", \"day\", \"day\", \"day\", \"day\", \"day\", \"day\", \"day\", \"day\", \"death\", \"decide\", \"decide\", \"decide\", \"decide\", \"decision\", \"decision\", \"decision\", \"decision\", \"decision\", \"decision\", \"decision\", \"define\", \"define\", \"delight\", \"denis\", \"describe\", \"deserve\", \"deserve\", \"deserve\", \"deserve\", \"deserve\", \"desire\", \"desire\", \"desire\", \"desire\", \"desire\", \"dictate\", \"difference\", \"difference\", \"difference\", \"difference\", \"difference\", \"difference\", \"difficulty\", \"difficulty\", \"difficulty\", \"difficulty\", \"difficulty\", \"difficulty\", \"dig\", \"discourage\", \"discouragement\", \"discover\", \"disraeli\", \"distance\", \"dog\", \"dog\", \"dog\", \"donald\", \"door\", \"door\", \"door\", \"dr\", \"dr\", \"dream\", \"dream\", \"dream\", \"dream\", \"dream\", \"dream\", \"dream\", \"dream\", \"drucker\", \"dwell\", \"dyer\", \"dyer\", \"dyer\", \"dyer\", \"dyer\", \"dyer\", \"dyer\", \"dyer\", \"ease\", \"edge\", \"edison\", \"edison\", \"edison\", \"eggleston\", \"ego\", \"ego\", \"ego\", \"ego\", \"einstein\", \"einstein\", \"eleanor\", \"eliot\", \"eliot\", \"emerson\", \"emerson\", \"emerson\", \"emerson\", \"emotion\", \"emotion\", \"emotion\", \"emotion\", \"emotion\", \"emotion\", \"emotion\", \"end\", \"end\", \"end\", \"end\", \"end\", \"end\", \"end\", \"end\", \"enemy\", \"enemy\", \"enemy\", \"energy\", \"energy\", \"energy\", \"energy\", \"energy\", \"energy\", \"energy\", \"enjoy\", \"enjoy\", \"enthusiasm\", \"enthusiasm\", \"envy\", \"evidence\", \"experience\", \"experience\", \"experience\", \"experience\", \"experience\", \"experience\", \"experience\", \"experience\", \"explain\", \"eye\", \"eye\", \"fact\", \"fact\", \"fact\", \"fact\", \"fact\", \"fact\", \"fact\", \"fact\", \"fail\", \"fail\", \"fail\", \"failure\", \"failure\", \"failure\", \"failure\", \"failure\", \"failure\", \"failure\", \"failure\", \"faith\", \"faith\", \"fall\", \"fall\", \"fall\", \"fall\", \"fall\", \"fall\", \"fantasy\", \"fantasy\", \"fantasy\", \"fear\", \"fear\", \"fear\", \"fear\", \"fear\", \"fear\", \"fear\", \"fear\", \"feel\", \"feel\", \"feel\", \"feel\", \"feel\", \"feel\", \"feel\", \"feeling\", \"feeling\", \"feeling\", \"feeling\", \"feeling\", \"feeling\", \"feeling\", \"fight\", \"fight\", \"find\", \"find\", \"find\", \"find\", \"find\", \"find\", \"find\", \"find\", \"finger\", \"fire\", \"fitzgerald\", \"floor\", \"fool\", \"fool\", \"fool\", \"fool\", \"fool\", \"fool\", \"foot\", \"foot\", \"forget\", \"forget\", \"forget\", \"forget\", \"forget\", \"forget\", \"forget\", \"fortune\", \"fortune\", \"fortune\", \"foundation\", \"franklin\", \"franklin\", \"franklin\", \"franklin\", \"freedom\", \"freedom\", \"freedom\", \"freedom\", \"frustration\", \"frustration\", \"frustration\", \"frustration\", \"fuller\", \"game\", \"game\", \"game\", \"gandhi\", \"gandhi\", \"gandhi\", \"george\", \"george\", \"george\", \"george\", \"get\", \"get\", \"get\", \"get\", \"get\", \"get\", \"get\", \"get\", \"gift\", \"gift\", \"gift\", \"gift\", \"gift\", \"gift\", \"gilbert\", \"giving\", \"giving\", \"glasgow\", \"glory\", \"go\", \"go\", \"go\", \"go\", \"go\", \"go\", \"go\", \"go\", \"goal\", \"goal\", \"goal\", \"goal\", \"goal\", \"goal\", \"goal\", \"god\", \"god\", \"god\", \"god\", \"god\", \"god\", \"god\", \"goethe\", \"greatness\", \"guidance\", \"guidance\", \"guidance\", \"guidance\", \"guidance\", \"habit\", \"habit\", \"habit\", \"habit\", \"habit\", \"habit\", \"habit\", \"hand\", \"hand\", \"hang\", \"hang\", \"hang\", \"hang\", \"happen\", \"happen\", \"happen\", \"happen\", \"happen\", \"happen\", \"happiness\", \"happiness\", \"happiness\", \"happiness\", \"happiness\", \"happiness\", \"happiness\", \"harm\", \"harm\", \"harm\", \"harmony\", \"harry\", \"harry\", \"harvest\", \"hate\", \"hay\", \"hay\", \"hay\", \"hay\", \"heal\", \"heart\", \"heart\", \"heart\", \"heart\", \"heart\", \"heart\", \"heart\", \"height\", \"helen\", \"hell\", \"help\", \"help\", \"help\", \"help\", \"hemingway\", \"hemingway\", \"hemingway\", \"hemingway\", \"hemingway\", \"hemingway\", \"henry\", \"henry\", \"henry\", \"henry\", \"hill\", \"hill\", \"hill\", \"history\", \"history\", \"hoffer\", \"hoffer\", \"hoffer\", \"hoffer\", \"hoffer\", \"honor\", \"honor\", \"honor\", \"honor\", \"hope\", \"hope\", \"hope\", \"hope\", \"hope\", \"howard\", \"huie\", \"huie\", \"huie\", \"hurt\", \"hurt\", \"idea\", \"idea\", \"idea\", \"idea\", \"idea\", \"idea\", \"ignorance\", \"ignorance\", \"ignorance\", \"impact\", \"impact\", \"inspiration\", \"inspiration\", \"inspiration\", \"inspiration\", \"inspire\", \"inspire\", \"inspire\", \"inspire\", \"inspire\", \"intent\", \"intent\", \"intent\", \"intention\", \"intention\", \"intention\", \"intention\", \"intention\", \"interest\", \"iv\", \"jack\", \"jefferson\", \"jefferson\", \"jerry\", \"jim\", \"jim\", \"john\", \"john\", \"john\", \"john\", \"john\", \"john\", \"jonathan\", \"jonathan\", \"jonathan\", \"journey\", \"journey\", \"journey\", \"journey\", \"jr\", \"judge\", \"judge\", \"judge\", \"judge\", \"judge\", \"judge\", \"jung\", \"jung\", \"kaufman\", \"keep\", \"keep\", \"keep\", \"keep\", \"keep\", \"keep\", \"keller\", \"keller\", \"kennedy\", \"kill\", \"kind\", \"kind\", \"kind\", \"kind\", \"kind\", \"king\", \"king\", \"king\", \"king\", \"knot\", \"know\", \"know\", \"know\", \"know\", \"know\", \"know\", \"knowledge\", \"knowledge\", \"knowledge\", \"lady\", \"lady\", \"lama\", \"lama\", \"lama\", \"lama\", \"lama\", \"lao\", \"lao\", \"lay\", \"leader\", \"leader\", \"learn\", \"learn\", \"learn\", \"learn\", \"learn\", \"learn\", \"learn\", \"learn\", \"lengthen\", \"lesson\", \"lesson\", \"let\", \"let\", \"let\", \"let\", \"let\", \"let\", \"let\", \"let\", \"letter\", \"letter\", \"level\", \"level\", \"level\", \"level\", \"level\", \"level\", \"lewis\", \"lie\", \"lie\", \"lie\", \"life\", \"life\", \"life\", \"life\", \"life\", \"life\", \"life\", \"life\", \"limit\", \"limit\", \"limit\", \"lincoln\", \"lincoln\", \"listener\", \"living\", \"living\", \"living\", \"lockwood\", \"lockwood\", \"lockwood\", \"look\", \"look\", \"look\", \"look\", \"look\", \"look\", \"look\", \"look\", \"louisa\", \"louise\", \"louise\", \"love\", \"love\", \"love\", \"love\", \"love\", \"love\", \"love\", \"love\", \"loving\", \"loving\", \"loving\", \"loving\", \"loving\", \"loving\", \"lucas\", \"lucas\", \"lucas\", \"lucius\", \"mahatma\", \"mahatma\", \"mail\", \"make\", \"make\", \"make\", \"make\", \"make\", \"make\", \"make\", \"make\", \"man\", \"man\", \"man\", \"man\", \"man\", \"man\", \"man\", \"man\", \"mandela\", \"mandela\", \"mandela\", \"martin\", \"marx\", \"marx\", \"material\", \"matter\", \"matter\", \"matter\", \"matter\", \"matter\", \"maya\", \"mean\", \"mean\", \"mean\", \"mean\", \"mean\", \"mean\", \"mean\", \"meaning\", \"meaning\", \"meaning\", \"meaning\", \"meaning\", \"mediocrity\", \"mediocrity\", \"mediocrity\", \"meditate\", \"meditate\", \"meet\", \"meet\", \"meet\", \"meet\", \"michael\", \"michael\", \"michael\", \"michael\", \"mind\", \"mind\", \"mind\", \"mind\", \"mind\", \"mind\", \"mind\", \"mind\", \"miracle\", \"miracle\", \"mlk\", \"moment\", \"moment\", \"moment\", \"moment\", \"moment\", \"moment\", \"moment\", \"moment\", \"monroe\", \"motivation\", \"music\", \"nader\", \"napoleon\", \"napoleon\", \"napoleon\", \"napoleon\", \"necessity\", \"news\", \"night\", \"night\", \"obstacle\", \"obstacle\", \"obstacle\", \"obstacle\", \"occasion\", \"onassis\", \"opinion\", \"opinion\", \"opinion\", \"opportunity\", \"opportunity\", \"opportunity\", \"opportunity\", \"opportunity\", \"opportunity\", \"opportunity\", \"opportunity\", \"optimism\", \"optimist\", \"page\", \"pain\", \"pain\", \"pain\", \"pain\", \"pain\", \"pain\", \"pass\", \"pass\", \"passion\", \"passion\", \"passion\", \"passion\", \"passion\", \"passion\", \"path\", \"path\", \"path\", \"path\", \"path\", \"patience\", \"patience\", \"patience\", \"patience\", \"patience\", \"peace\", \"peace\", \"peace\", \"peace\", \"peace\", \"peace\", \"peace\", \"peace\", \"peale\", \"peale\", \"peale\", \"peale\", \"percent\", \"perfection\", \"perfection\", \"person\", \"person\", \"person\", \"person\", \"person\", \"person\", \"person\", \"person\", \"pessimist\", \"pessimist\", \"pessimist\", \"pessimist\", \"peter\", \"peter\", \"pickford\", \"pickford\", \"picture\", \"place\", \"place\", \"place\", \"place\", \"place\", \"place\", \"place\", \"plant\", \"play\", \"play\", \"play\", \"play\", \"point\", \"point\", \"point\", \"possession\", \"possibility\", \"possibility\", \"possibility\", \"power\", \"power\", \"power\", \"power\", \"power\", \"power\", \"power\", \"power\", \"ppl\", \"practice\", \"practice\", \"practice\", \"practice\", \"practice\", \"practice\", \"preach\", \"presence\", \"presence\", \"pressure\", \"prevent\", \"prevent\", \"problem\", \"problem\", \"problem\", \"problem\", \"problem\", \"problem\", \"problem\", \"problem\", \"proverb\", \"proverb\", \"proverb\", \"proverb\", \"proverb\", \"proverb\", \"pull\", \"push\", \"push\", \"push\", \"push\", \"push\", \"question\", \"question\", \"question\", \"question\", \"question\", \"question\", \"question\", \"question\", \"r\", \"race\", \"race\", \"rain\", \"rain\", \"rainbow\", \"ralph\", \"rand\", \"rand\", \"rate\", \"realise\", \"reality\", \"reality\", \"reality\", \"reality\", \"reality\", \"reality\", \"reality\", \"reap\", \"reason\", \"reason\", \"reason\", \"reason\", \"reason\", \"reason\", \"reason\", \"reason\", \"recovery\", \"recovery\", \"refuse\", \"refuse\", \"refuse\", \"refuse\", \"release\", \"release\", \"release\", \"remember\", \"remember\", \"remember\", \"remember\", \"remember\", \"remember\", \"remember\", \"respect\", \"respect\", \"response\", \"rest\", \"result\", \"result\", \"result\", \"result\", \"result\", \"result\", \"result\", \"reward\", \"rice\", \"richard\", \"rise\", \"rise\", \"rise\", \"rise\", \"risk\", \"risk\", \"robert\", \"robert\", \"rohn\", \"rohn\", \"rohn\", \"rohn\", \"roosevelt\", \"roosevelt\", \"roosevelt\", \"roosevelt\", \"rowling\", \"rule\", \"rule\", \"rule\", \"rule\", \"rule\", \"rule\", \"ruth\", \"sail\", \"say\", \"saying\", \"sea\", \"sea\", \"seed\", \"self\", \"self\", \"self\", \"self\", \"self\", \"self\", \"self\", \"send\", \"send\", \"send\", \"send\", \"send\", \"send\", \"send\", \"seneca\", \"sense\", \"sense\", \"sense\", \"sense\", \"sense\", \"sense\", \"seus\", \"seuss\", \"shade\", \"shadow\", \"shakur\", \"shell\", \"shine\", \"shine\", \"shine\", \"show\", \"show\", \"shut\", \"signify\", \"signify\", \"silence\", \"silence\", \"silence\", \"silence\", \"silence\", \"situation\", \"solve\", \"solve\", \"solve\", \"solve\", \"solve\", \"sorrow\", \"soul\", \"soul\", \"soul\", \"soul\", \"soul\", \"soul\", \"soul\", \"soul\", \"speak\", \"speak\", \"speak\", \"specie\", \"speed\", \"spell\", \"spirit\", \"spirit\", \"spirit\", \"stand\", \"stand\", \"start\", \"start\", \"start\", \"start\", \"start\", \"state\", \"state\", \"state\", \"state\", \"stay\", \"stay\", \"stay\", \"stay\", \"stay\", \"stay\", \"stay\", \"steer\", \"step\", \"step\", \"step\", \"step\", \"step\", \"step\", \"step\", \"step\", \"stephen\", \"stevenson\", \"stevenson\", \"stone\", \"stone\", \"stop\", \"stop\", \"stop\", \"stop\", \"stop\", \"stop\", \"stop\", \"stop\", \"storm\", \"storm\", \"storm\", \"storm\", \"strength\", \"strength\", \"strength\", \"strength\", \"strength\", \"strike\", \"stuff\", \"stuff\", \"stuff\", \"succeed\", \"succeed\", \"succeed\", \"succeed\", \"succeed\", \"succeed\", \"succeed\", \"success\", \"success\", \"success\", \"success\", \"success\", \"success\", \"success\", \"success\", \"suit\", \"suit\", \"suit\", \"suit\", \"suit\", \"sun\", \"sun\", \"sun\", \"sun\", \"sun\", \"take\", \"take\", \"take\", \"take\", \"take\", \"take\", \"take\", \"talk\", \"talk\", \"talk\", \"talk\", \"talk\", \"talk\", \"tall\", \"tennis\", \"thatcher\", \"thing\", \"thing\", \"thing\", \"thing\", \"thing\", \"thing\", \"thing\", \"thing\", \"think\", \"think\", \"think\", \"think\", \"think\", \"think\", \"think\", \"thinking\", \"thinking\", \"thinking\", \"thinking\", \"thinking\", \"thirsty\", \"thomas\", \"thomas\", \"thomas\", \"thomas\", \"thoreau\", \"thought\", \"thought\", \"thought\", \"thought\", \"thought\", \"thought\", \"thought\", \"thought\", \"time\", \"time\", \"time\", \"time\", \"time\", \"time\", \"time\", \"time\", \"today\", \"today\", \"today\", \"today\", \"today\", \"today\", \"today\", \"tolerance\", \"tolerance\", \"tolerance\", \"tolerance\", \"tolerance\", \"tolerance\", \"tomorrow\", \"treat\", \"treat\", \"treat\", \"treat\", \"trouble\", \"truman\", \"trust\", \"trust\", \"trust\", \"trust\", \"trust\", \"trust\", \"truth\", \"truth\", \"truth\", \"truth\", \"truth\", \"truth\", \"truth\", \"try\", \"try\", \"try\", \"try\", \"try\", \"try\", \"try\", \"try\", \"twain\", \"tzu\", \"tzu\", \"tzu\", \"tzu\", \"tzu\", \"understanding\", \"understanding\", \"universe\", \"unk\", \"unk\", \"unk\", \"unk\", \"unk\", \"unk\", \"unk\", \"unk\", \"use\", \"use\", \"use\", \"use\", \"use\", \"use\", \"use\", \"value\", \"value\", \"value\", \"value\", \"value\", \"value\", \"value\", \"vaughn\", \"victory\", \"vincent\", \"voltaire\", \"voltaire\", \"voltaire\", \"waitley\", \"waldo\", \"waldo\", \"waldo\", \"wall\", \"want\", \"want\", \"want\", \"want\", \"want\", \"want\", \"waste\", \"waste\", \"waste\", \"waste\", \"waste\", \"waste\", \"waste\", \"watch\", \"watch\", \"watch\", \"watch\", \"water\", \"way\", \"way\", \"way\", \"way\", \"way\", \"way\", \"way\", \"way\", \"wear\", \"weather\", \"weather\", \"welch\", \"wife\", \"wilde\", \"win\", \"win\", \"windshield\", \"winner\", \"winning\", \"winston\", \"winston\", \"winston\", \"winston\", \"wisdom\", \"wisdom\", \"wisdom\", \"wisdom\", \"wisdom\", \"wisdom\", \"wisdom\", \"wise\", \"woman\", \"woman\", \"woman\", \"woman\", \"woman\", \"woman\", \"wooden\", \"word\", \"word\", \"word\", \"word\", \"word\", \"word\", \"work\", \"work\", \"work\", \"work\", \"work\", \"work\", \"work\", \"work\", \"world\", \"world\", \"world\", \"world\", \"world\", \"world\", \"world\", \"world\", \"worry\", \"worry\", \"worry\", \"worry\", \"worry\", \"year\", \"year\", \"year\", \"year\", \"year\", \"year\", \"yogi\", \"yogi\", \"zen\"]}, \"R\": 30, \"lambda.step\": 0.01, \"plot.opts\": {\"xlab\": \"PC1\", \"ylab\": \"PC2\"}, \"topic.order\": [4, 2, 1, 5, 8, 6, 7, 3]};\n",
              "\n",
              "function LDAvis_load_lib(url, callback){\n",
              "  var s = document.createElement('script');\n",
              "  s.src = url;\n",
              "  s.async = true;\n",
              "  s.onreadystatechange = s.onload = callback;\n",
              "  s.onerror = function(){console.warn(\"failed to load library \" + url);};\n",
              "  document.getElementsByTagName(\"head\")[0].appendChild(s);\n",
              "}\n",
              "\n",
              "if(typeof(LDAvis) !== \"undefined\"){\n",
              "   // already loaded: just create the visualization\n",
              "   !function(LDAvis){\n",
              "       new LDAvis(\"#\" + \"ldavis_el741402865986228086844452499\", ldavis_el741402865986228086844452499_data);\n",
              "   }(LDAvis);\n",
              "}else if(typeof define === \"function\" && define.amd){\n",
              "   // require.js is available: use it to load d3/LDAvis\n",
              "   require.config({paths: {d3: \"https://cdnjs.cloudflare.com/ajax/libs/d3/3.5.5/d3.min\"}});\n",
              "   require([\"d3\"], function(d3){\n",
              "      window.d3 = d3;\n",
              "      LDAvis_load_lib(\"https://cdn.rawgit.com/bmabey/pyLDAvis/files/ldavis.v1.0.0.js\", function(){\n",
              "        new LDAvis(\"#\" + \"ldavis_el741402865986228086844452499\", ldavis_el741402865986228086844452499_data);\n",
              "      });\n",
              "    });\n",
              "}else{\n",
              "    // require.js not available: dynamically load d3 & LDAvis\n",
              "    LDAvis_load_lib(\"https://cdnjs.cloudflare.com/ajax/libs/d3/3.5.5/d3.min.js\", function(){\n",
              "         LDAvis_load_lib(\"https://cdn.rawgit.com/bmabey/pyLDAvis/files/ldavis.v1.0.0.js\", function(){\n",
              "                 new LDAvis(\"#\" + \"ldavis_el741402865986228086844452499\", ldavis_el741402865986228086844452499_data);\n",
              "            })\n",
              "         });\n",
              "}\n",
              "</script>"
            ],
            "text/plain": [
              "PreparedData(topic_coordinates=              x         y  topics  cluster       Freq\n",
              "topic                                                \n",
              "3      0.294870  0.097503       1        1  13.896215\n",
              "1     -0.197722  0.145241       2        1  13.380348\n",
              "0     -0.158345 -0.082232       3        1  12.807796\n",
              "4      0.219181  0.089010       4        1  12.753820\n",
              "7      0.024154 -0.103180       5        1  12.466873\n",
              "5     -0.186974  0.129864       6        1  11.797444\n",
              "6     -0.008413  0.098364       7        1  11.746143\n",
              "2      0.013249 -0.374570       8        1  11.151361, topic_info=         Term           Freq          Total Category  logprob  loglift\n",
              "1463     dyer  106390.000000  106390.000000  Default  30.0000  30.0000\n",
              "78       life   58753.000000   58753.000000  Default  29.0000  29.0000\n",
              "119      time   39889.000000   39889.000000  Default  28.0000  28.0000\n",
              "72      thing   37571.000000   37571.000000  Default  27.0000  27.0000\n",
              "58     change   24800.000000   24800.000000  Default  26.0000  26.0000\n",
              "...       ...            ...            ...      ...      ...      ...\n",
              "113      meet    2405.998502    2476.873088   Topic8  -4.8477   2.1646\n",
              "13       pain    2145.545855    2180.491854   Topic8  -4.9623   2.1775\n",
              "1027   loving    3257.326266    3973.810524   Topic8  -4.5447   1.9948\n",
              "175   ability    3258.906339    5713.465146   Topic8  -4.5443   1.6322\n",
              "354     power    3654.794009   15463.566781   Topic8  -4.4296   0.7512\n",
              "\n",
              "[505 rows x 6 columns], token_table=      Topic      Freq     Term\n",
              "term                          \n",
              "175       1  0.012077  ability\n",
              "175       2  0.000525  ability\n",
              "175       3  0.297893  ability\n",
              "175       4  0.004026  ability\n",
              "175       5  0.109566  ability\n",
              "...     ...       ...      ...\n",
              "48        5  0.000342     year\n",
              "48        7  0.000342     year\n",
              "3490      4  0.000476     yogi\n",
              "3490      5  0.999189     yogi\n",
              "3498      3  0.999382      zen\n",
              "\n",
              "[1532 rows x 3 columns], R=30, lambda_step=0.01, plot_opts={'xlab': 'PC1', 'ylab': 'PC2'}, topic_order=[4, 2, 1, 5, 8, 6, 7, 3])"
            ]
          },
          "metadata": {
            "tags": []
          },
          "execution_count": 22
        }
      ]
    },
    {
      "cell_type": "code",
      "metadata": {
        "id": "fVuRRLtlp7Qf"
      },
      "source": [
        ""
      ],
      "execution_count": 22,
      "outputs": []
    },
    {
      "cell_type": "code",
      "metadata": {
        "colab": {
          "base_uri": "https://localhost:8080/"
        },
        "id": "QRxGl2jqqCig",
        "outputId": "7a3e2055-266e-4f1c-c3c7-3728798e90c9"
      },
      "source": [
        "# number optimal of topics\n",
        "num_topics = 7\n",
        "# build optimal LDA model\n",
        "optimal_model = gensim.models.LdaMulticore(corpus=corpus,\n",
        "                                       id2word=id2word,\n",
        "                                       num_topics=num_topics,\n",
        "                                        alpha=.5,\n",
        "                                        eta=.1,\n",
        "                                        random_state=222\n",
        "                                        )\n",
        "# filtering for words \n",
        "words = [re.findall(r'\"([^\"]*)\"',t[1]) for t in optimal_model.print_topics()]\n",
        "\n",
        "# create topic sorted by 10 most relevent words\n",
        "topics = [' '.join(t[0:10]) for t in words]\n",
        "\n",
        "\n",
        "# print most relevent words for each topic\n",
        "for id, t in enumerate(topics): \n",
        "    print(f\"------ Topic {id} ------\")\n",
        "    print(t, end=\"\\n\\n\")"
      ],
      "execution_count": 23,
      "outputs": [
        {
          "output_type": "stream",
          "text": [
            "------ Topic 0 ------\n",
            "man mind power act matter happiness opportunity happen winston churchill\n",
            "\n",
            "------ Topic 1 ------\n",
            "thing think proverb dream man john today judge robert thomas\n",
            "\n",
            "------ Topic 2 ------\n",
            "change let desire go leader decision tzu forget talk water\n",
            "\n",
            "------ Topic 3 ------\n",
            "dyer way amp thought success strength einstein place problem action\n",
            "\n",
            "------ Topic 4 ------\n",
            "life body love peace create get control respect napoleon mean\n",
            "\n",
            "------ Topic 5 ------\n",
            "heart come try lincoln ask man learn amp franklin courage\n",
            "\n",
            "------ Topic 6 ------\n",
            "time world love person look day choice feel moment fall\n",
            "\n"
          ],
          "name": "stdout"
        }
      ]
    },
    {
      "cell_type": "code",
      "metadata": {
        "colab": {
          "base_uri": "https://localhost:8080/"
        },
        "id": "n_QcrPvVqCij",
        "outputId": "8f915700-e0c8-46c7-d721-a34c1e57dc26"
      },
      "source": [
        "# Compute Perplexity\n",
        "## a measure of how good the model is. lower the better\n",
        "base_perplexity = optimal_model.log_perplexity(corpus)\n",
        "print('\\nPerplexity: ', base_perplexity) \n",
        "\n",
        "# Compute Coherence Score\n",
        "coherence_model = CoherenceModel(model=optimal_model, texts=tweets_cleaned['nouns_verbs'], \n",
        "                                   dictionary=id2word, coherence='c_v')\n",
        "coherence_lda_model_base = coherence_model.get_coherence()\n",
        "print('\\nCoherence Score: ', coherence_lda_model_base)"
      ],
      "execution_count": 24,
      "outputs": [
        {
          "output_type": "stream",
          "text": [
            "\n",
            "Perplexity:  -6.944416918060987\n",
            "\n",
            "Coherence Score:  0.5703983543287552\n"
          ],
          "name": "stdout"
        }
      ]
    },
    {
      "cell_type": "code",
      "metadata": {
        "colab": {
          "base_uri": "https://localhost:8080/",
          "height": 881
        },
        "id": "d8_oUiC2qCik",
        "outputId": "26f7b823-b3d6-4dbe-c204-cf312b91cc64"
      },
      "source": [
        "# topic distance visualization \n",
        "pyLDAvis.enable_notebook()\n",
        "pyLDAvis.gensim.prepare(optimal_model, corpus, id2word)"
      ],
      "execution_count": 25,
      "outputs": [
        {
          "output_type": "execute_result",
          "data": {
            "text/html": [
              "\n",
              "<link rel=\"stylesheet\" type=\"text/css\" href=\"https://cdn.rawgit.com/bmabey/pyLDAvis/files/ldavis.v1.0.0.css\">\n",
              "\n",
              "\n",
              "<div id=\"ldavis_el741402865986224482576418045\"></div>\n",
              "<script type=\"text/javascript\">\n",
              "\n",
              "var ldavis_el741402865986224482576418045_data = {\"mdsDat\": {\"x\": [0.11877312994032634, 0.2231004160330583, -0.1803662008719742, -0.2763687477620725, 0.002738868935419192, 0.2060183816298883, -0.09389584790464545], \"y\": [-0.09955084715787063, -0.020294719375267303, 0.018814256114200425, -0.0751029077587356, -0.28328926978324004, 0.14305068340624943, 0.31637280455466377], \"topics\": [1, 2, 3, 4, 5, 6, 7], \"cluster\": [1, 1, 1, 1, 1, 1, 1], \"Freq\": [15.838854180485274, 14.85905196355298, 14.671363939355398, 14.27147348910816, 13.700605655584166, 13.479049423573688, 13.17960134834034]}, \"tinfo\": {\"Term\": [\"dyer\", \"life\", \"thing\", \"time\", \"change\", \"world\", \"heart\", \"love\", \"person\", \"look\", \"let\", \"man\", \"day\", \"way\", \"choice\", \"mind\", \"amp\", \"power\", \"come\", \"think\", \"thought\", \"act\", \"try\", \"success\", \"proverb\", \"lincoln\", \"feel\", \"body\", \"ask\", \"dream\", \"discover\", \"albert\", \"percent\", \"einstein\", \"vincent\", \"strike\", \"jim\", \"ruth\", \"optimism\", \"case\", \"wooden\", \"martin\", \"babe\", \"harder\", \"glasgow\", \"peale\", \"edge\", \"winner\", \"jr\", \"describe\", \"expertise\", \"rowling\", \"race\", \"eggleston\", \"balfour\", \"brinkley\", \"denis\", \"foundation\", \"consequence\", \"lay\", \"dyer\", \"energy\", \"failure\", \"result\", \"success\", \"attract\", \"solve\", \"win\", \"bonaparte\", \"word\", \"rohn\", \"king\", \"passion\", \"enemy\", \"reality\", \"enjoy\", \"action\", \"strength\", \"avoid\", \"problem\", \"use\", \"thought\", \"wisdom\", \"keep\", \"hemingway\", \"place\", \"way\", \"amp\", \"practice\", \"work\", \"step\", \"presence\", \"control\", \"seneca\", \"lengthen\", \"confuciu\", \"dalai\", \"music\", \"universe\", \"giving\", \"harmony\", \"benefit\", \"frustration\", \"having\", \"lucius\", \"annaeus\", \"complicated\", \"floor\", \"activity\", \"noise\", \"evidence\", \"strengthen\", \"height\", \"possession\", \"wear\", \"limit\", \"bite\", \"iv\", \"contemplate\", \"material\", \"contentment\", \"body\", \"mean\", \"allow\", \"self\", \"stay\", \"send\", \"eliot\", \"feeling\", \"value\", \"sense\", \"hay\", \"attempt\", \"order\", \"fact\", \"consist\", \"god\", \"silence\", \"louise\", \"emotion\", \"obstacle\", \"life\", \"impact\", \"napoleon\", \"begin\", \"respect\", \"understanding\", \"honor\", \"create\", \"woman\", \"peace\", \"lama\", \"gift\", \"make\", \"get\", \"experience\", \"pessimist\", \"love\", \"work\", \"bind\", \"fuller\", \"light\", \"tomorrow\", \"shine\", \"robert\", \"conflict\", \"kennedy\", \"plant\", \"rice\", \"lewis\", \"reap\", \"seed\", \"harvest\", \"discourage\", \"drucker\", \"history\", \"shadow\", \"goethe\", \"motivation\", \"gogh\", \"thatcher\", \"speed\", \"mail\", \"van\", \"controversy\", \"mlk\", \"jerry\", \"axe\", \"tennis\", \"think\", \"proverb\", \"today\", \"thing\", \"thomas\", \"speak\", \"judge\", \"brault\", \"monroe\", \"goal\", \"fool\", \"trust\", \"ego\", \"letter\", \"dr\", \"stevenson\", \"speech\", \"inspire\", \"year\", \"peter\", \"ppl\", \"dream\", \"know\", \"aim\", \"reason\", \"john\", \"start\", \"edison\", \"unk\", \"man\", \"day\", \"ralph\", \"kill\", \"eleanor\", \"spirit\", \"helen\", \"fire\", \"jung\", \"covey\", \"carl\", \"stephen\", \"attain\", \"hand\", \"winston\", \"child\", \"optimist\", \"zen\", \"car\", \"bertrand\", \"stuff\", \"tongue\", \"mountain\", \"counsel\", \"seus\", \"weather\", \"realise\", \"block\", \"foot\", \"seuss\", \"distance\", \"steer\", \"mind\", \"happen\", \"care\", \"bring\", \"waldo\", \"thinking\", \"saying\", \"game\", \"wind\", \"expectation\", \"stone\", \"idea\", \"act\", \"keller\", \"opportunity\", \"truth\", \"treat\", \"churchill\", \"happiness\", \"matter\", \"play\", \"end\", \"release\", \"dog\", \"stop\", \"power\", \"lose\", \"habit\", \"roosevelt\", \"man\", \"difficulty\", \"find\", \"emerson\", \"discouragement\", \"alcott\", \"louisa\", \"stand\", \"lincoln\", \"sail\", \"trouble\", \"celebrate\", \"anger\", \"andrew\", \"risk\", \"heal\", \"ship\", \"jack\", \"shell\", \"welch\", \"heart\", \"didion\", \"tall\", \"fail\", \"eye\", \"howard\", \"death\", \"conscience\", \"beauty\", \"mahatma\", \"pass\", \"bag\", \"gandhi\", \"angel\", \"come\", \"abraham\", \"benjamin\", \"define\", \"refuse\", \"huie\", \"lockwood\", \"kind\", \"jonathan\", \"intent\", \"franklin\", \"acceptance\", \"courage\", \"storm\", \"ask\", \"accept\", \"blessing\", \"build\", \"hope\", \"remember\", \"suit\", \"try\", \"carnegie\", \"succeed\", \"learn\", \"question\", \"soul\", \"get\", \"amp\", \"man\", \"thoreau\", \"finger\", \"glory\", \"situation\", \"living\", \"lady\", \"sorrow\", \"fight\", \"answer\", \"david\", \"interest\", \"mandela\", \"journey\", \"wall\", \"laughing\", \"kindness\", \"conversation\", \"culture\", \"cycle\", \"response\", \"ease\", \"henry\", \"miracle\", \"remedy\", \"raise\", \"lie\", \"tenzin\", \"lifetime\", \"excuse\", \"lucas\", \"look\", \"person\", \"choice\", \"george\", \"abundance\", \"mediocrity\", \"voltaire\", \"health\", \"teresa\", \"point\", \"time\", \"rise\", \"world\", \"difference\", \"path\", \"fall\", \"level\", \"waste\", \"feel\", \"intention\", \"love\", \"day\", \"moment\", \"criticize\", \"way\", \"life\", \"victory\", \"dwell\", \"maya\", \"truman\", \"dig\", \"lao\", \"water\", \"spell\", \"version\", \"page\", \"solution\", \"rate\", \"windshield\", \"nader\", \"thirsty\", \"corner\", \"reward\", \"leader\", \"explain\", \"ashamed\", \"specie\", \"garland\", \"wife\", \"shakur\", \"ben\", \"delight\", \"intelligence\", \"dictate\", \"richard\", \"ayn\", \"change\", \"tzu\", \"help\", \"wait\", \"desire\", \"business\", \"pull\", \"go\", \"harry\", \"guidance\", \"rabindranath\", \"hell\", \"opinion\", \"pickford\", \"bach\", \"wilde\", \"let\", \"fortune\", \"watch\", \"talk\", \"push\", \"decision\", \"decide\", \"test\", \"need\", \"michael\", \"pain\", \"harm\", \"forget\", \"meet\", \"loving\", \"challenge\", \"power\", \"defeat\"], \"Freq\": [110188.0, 60056.0, 38847.0, 39074.0, 24886.0, 21635.0, 18385.0, 27529.0, 17237.0, 16533.0, 16850.0, 33945.0, 22186.0, 22931.0, 12860.0, 11629.0, 23706.0, 15541.0, 10514.0, 10436.0, 13562.0, 10543.0, 10099.0, 9922.0, 9112.0, 8609.0, 11430.0, 8418.0, 8112.0, 9191.0, 1994.1414927909166, 3207.9024331085566, 2015.4528220795362, 6021.644446833656, 3678.7979966424664, 1438.2069678775529, 4147.780687773393, 1240.0507674591465, 1050.5396064726692, 1048.315831462204, 1074.0436813530036, 2041.6240073258193, 713.1145019099077, 875.6228182452531, 713.9425107949033, 5071.979959669505, 682.9468593528652, 875.0144996730788, 660.8916352408633, 767.0238073477187, 709.8477936581002, 554.7117021659308, 1684.9234988174667, 550.757783551792, 550.2558370720016, 529.9714192987026, 2080.892040964791, 530.0439733807814, 1010.3153394388647, 531.2370849527438, 107118.33002976363, 5055.377800991282, 5522.617977312367, 5002.808692654511, 9794.459148610777, 3754.292775269526, 3356.48832584612, 3162.6516030438006, 2752.8657418494627, 3280.011760185256, 3376.509399173355, 2730.3931416342652, 5023.641803842385, 2976.5122041582345, 5632.281216150386, 1199.3892492696134, 5871.073482522684, 6600.627847082348, 1884.2091295170662, 5945.539220164508, 2683.3229330360955, 12600.96015340075, 4321.979844639703, 3289.989239363538, 2781.7646766525863, 5971.7154755772535, 16217.642121064162, 14655.35591004568, 3640.2679764337804, 5158.048266244181, 3190.3239631763095, 4171.842418641865, 5383.83023753098, 2981.7370768323426, 1743.053750835006, 2079.1677083565437, 3327.6384356557196, 1504.1661582227011, 1349.669644704069, 1318.9334716974033, 1329.2708221354148, 1975.3541305109497, 3130.019383912266, 1324.2798981637602, 697.6466288056578, 697.6510999368461, 667.9327751886951, 670.64632373302, 764.9959913747771, 669.2612243691269, 662.4289553914617, 1325.2888517251235, 697.4219306808284, 659.128927617851, 1076.6632305149533, 3776.459716869717, 2507.915703404582, 664.4266472933898, 662.251156578885, 658.9797155057448, 861.888828923446, 8376.533762472587, 4801.549685822437, 3128.8490891063175, 3725.4073896561567, 2881.6130383912287, 3282.701474342469, 2735.8573960850003, 4374.4318461795965, 3390.7909756913778, 2660.3704320573324, 2172.8866135441594, 2086.978869673114, 1941.6100277799067, 3143.072423329746, 1605.2740357861624, 3602.2043233250756, 2149.065758398722, 2166.5322799513983, 1851.2243033280108, 3760.2156216100375, 53905.49187115633, 2120.970501837183, 4808.110642754373, 3625.8130375651913, 5295.274061909195, 2409.108460663675, 2230.1030134488474, 7352.000116396243, 4389.294647293415, 7817.797616819406, 3122.3737495801174, 2661.7747477722905, 2893.2181923472763, 6914.156508684705, 4294.226221530512, 3064.6135840185602, 7930.643640709158, 2948.485369314727, 4210.142566637905, 2709.166330924442, 2606.507748123349, 4124.541084869208, 2831.024907238785, 6465.121079776179, 2367.5514725124826, 2163.43114814774, 1721.013177175188, 1695.2034114221876, 1692.9038456416906, 1484.0376728730025, 1479.0852749571175, 1480.6475932982253, 1453.7484408969851, 1639.513379848234, 3840.882385145828, 1281.2062400056857, 1245.6273116611335, 1431.3466011977382, 1462.0075095806433, 1442.3009578509805, 1419.5134463481747, 1166.54655759498, 1461.8800481492187, 975.8883958949774, 975.8821965917541, 974.7632223599487, 977.6620541186979, 975.5250791545575, 10418.629400160124, 9096.535186100988, 7779.8264758238365, 38129.36677645891, 5850.672444357086, 3844.4945124906035, 6838.792535155815, 2926.204312487478, 2885.545336937943, 5182.68963202436, 4438.296086737989, 5326.9699609513345, 2367.185713622308, 2143.769776188538, 1873.778097922777, 1703.3030828699375, 1726.1674281611774, 2840.021599077179, 3041.912428573615, 2824.762295979539, 1788.3370466071924, 8679.113932870816, 3577.893289514967, 3451.9786781735256, 5605.78493842291, 7779.831735838692, 3518.731272420619, 4389.280262585773, 2950.08102278085, 8166.124972580966, 4650.7206595568505, 4694.5313916585565, 4574.48429859026, 2801.480332883239, 4643.8433468667035, 2053.469212718492, 2226.125468080487, 2737.4031242599226, 2758.992991042998, 1576.5143774181138, 1942.1849226147124, 1528.0919099864693, 2547.6541676927463, 6303.757943169723, 3096.2413035974437, 937.7288286492812, 928.7249037839093, 929.2863642161759, 923.1801051195432, 2494.0383054734643, 919.4214724422202, 1853.3084315624624, 929.0276995320837, 952.2438371424844, 1362.2401530414295, 922.9825660707946, 721.1679207513056, 2350.0041973876014, 722.7056553444783, 700.4906898555685, 717.0227986307787, 11590.83850278913, 6502.116386085413, 4515.464528184489, 3287.5208680021024, 2820.8952600195007, 3020.1078171940717, 2739.682041444885, 2801.3432798891954, 2237.624031543446, 2360.8732307645855, 2040.750512133891, 2956.255740955638, 10355.48813333396, 1731.6770058830177, 7196.68049331954, 5108.8762163211895, 6107.910676579569, 6266.972919568336, 7437.7614610132505, 8016.531503690251, 3956.2952565036726, 5413.700714282051, 2877.7766382435357, 3562.1874942042386, 4166.973118947982, 11534.934769255942, 3715.7562877170744, 3584.847288027484, 5135.788673180955, 17145.184826932305, 3437.348297514865, 3770.4323918982805, 2880.600843607467, 1700.4292958986655, 1629.7319253453409, 1629.726662513786, 3397.2247820364337, 8606.155468656156, 1637.1083100526018, 1299.0830423970783, 1443.334536185553, 3496.5389745969087, 1558.62159794268, 2794.0937601888822, 1235.3456788611677, 1474.557512378659, 1166.784930205248, 983.8610098716532, 979.4588267037497, 18373.740673268934, 946.7817301520416, 984.0263504963343, 3005.7778269756377, 5497.8629458238265, 948.3760172577205, 938.9149372577289, 798.2301521278273, 2463.246029921706, 2683.0229282180544, 2990.3679053276346, 720.7450007197207, 2913.805109006443, 728.3769836128283, 10459.225124127848, 5189.05507696972, 4437.981649850427, 4400.682208344104, 3281.3642470675477, 3106.5901722520566, 3106.5901722520566, 3486.624501658468, 3102.025893872264, 3093.4022180865063, 6875.866269937086, 2882.697037968951, 6081.33588839231, 3462.5765191517908, 7993.270665660303, 3306.865472794234, 1982.0423598317393, 3364.7681981268734, 2596.9082680525503, 2891.7420911345325, 3545.9524017761573, 9632.912853678841, 3320.0162362834635, 5808.149670344843, 7399.823253873654, 4235.348249916245, 3812.4657002675267, 5639.0826100674185, 6896.719713689977, 7727.558019276144, 2295.669449421015, 1711.1326165053044, 1487.8941457854376, 1422.1855379606607, 3355.047318386256, 1802.1592633989164, 1034.648796100357, 4010.4319962417767, 3718.8149375725548, 4838.944605753789, 443.88954602683003, 1815.3759239018223, 2495.1059189139532, 328.2297651954024, 766.0219576938778, 766.8572973062217, 1237.3556029165381, 199.12610803469494, 199.1067562879937, 240.3509377102994, 1224.186318596192, 6026.510688548886, 4748.450401567632, 767.1079854853392, 964.5557771511635, 6418.9263142586815, 764.8586955064403, 765.0575201414446, 779.861584794047, 1024.9158814807488, 16436.48187122815, 17113.79317836272, 12773.057889132122, 5326.31176639941, 4357.904624899185, 2594.2205172360063, 2692.85341455433, 1467.459046450576, 1778.6199454137209, 1828.380815457549, 36911.74654381404, 3068.4706022870523, 20260.835065187184, 4714.0364806290145, 3449.486258559961, 6511.076009676574, 2558.918271300544, 3287.154918802184, 9874.122912986826, 2879.1662500011917, 18791.214491194256, 15454.071400226454, 6832.400782559333, 2158.367231684333, 5991.425044103814, 2572.976657276466, 3438.511231978762, 2812.270571871837, 2487.052841789084, 2232.196818927631, 2270.997332486642, 3163.4528522988944, 4128.561962485913, 1721.6401465069039, 1678.856977589539, 1672.094057526572, 1983.0852701508536, 1679.2155853283737, 1397.7970231708232, 1136.9919932461207, 1134.7882010289707, 1090.767624466897, 1364.9679613005976, 5251.206017912107, 894.3594315814449, 1100.3346039126777, 840.1600485819924, 839.4653621081509, 842.3670471742191, 839.9649659720664, 841.6359936567451, 836.229201494614, 1397.5848117677244, 836.5810589701296, 1712.4147303850768, 615.6135518068572, 24850.40048272552, 4833.925665332767, 3217.0391426323763, 3457.1760475696365, 7111.639341065474, 3399.6337654179115, 2172.0227778643157, 5585.213097106264, 2228.7391652989313, 2492.093938435895, 1927.711510090436, 3347.5477211071316, 1940.5604675620327, 1717.1937480585182, 1705.9307649537775, 1632.291298621236, 16128.417649194998, 2473.883246809823, 2018.9149928230659, 4268.627226254886, 2951.2414492001785, 5019.124877220032, 2747.6287002740983, 3348.2922751512438, 2983.2299345305755, 2965.18378057291, 2119.409875501469, 3595.3890390838096, 4508.248411074556, 2413.4992725572797, 3023.9967997944823, 2536.115611915758, 3928.4352182944726, 2590.552604184048], \"Total\": [110188.0, 60056.0, 38847.0, 39074.0, 24886.0, 21635.0, 18385.0, 27529.0, 17237.0, 16533.0, 16850.0, 33945.0, 22186.0, 22931.0, 12860.0, 11629.0, 23706.0, 15541.0, 10514.0, 10436.0, 13562.0, 10543.0, 10099.0, 9922.0, 9112.0, 8609.0, 11430.0, 8418.0, 8112.0, 9191.0, 1994.8337225652197, 3209.0275002016297, 2016.161855910639, 6023.859224860948, 3680.277853837454, 1438.8214734980775, 4149.589937247705, 1240.6634158567035, 1051.1904779049253, 1049.024900988593, 1074.825970268952, 2043.2616922276045, 713.7255935995722, 876.3845770314342, 714.5739342862356, 5076.51097796414, 683.5654434256984, 875.8079382884671, 661.5584661235891, 767.8010029286656, 710.58525486297, 555.3259893411205, 1686.8066889460113, 551.3741358357056, 550.8891746175448, 530.5944401509856, 2083.3896497234164, 530.6925514281443, 1011.561352242399, 531.9127550373568, 110188.17340178353, 5063.194464015423, 5538.453513117981, 5020.9185138734365, 9922.267775604898, 3768.7084702747497, 3366.208694299298, 3172.216440708752, 2761.9378885201913, 3298.638611121615, 3398.564032985721, 2742.358059518464, 5077.944444773343, 2997.4382204967287, 5709.426814639884, 1201.1789751780236, 5979.100088887347, 6775.746961153468, 1898.085739915892, 6185.571441527264, 2730.399446778637, 13562.798148102587, 4495.138605268299, 3402.8083628367667, 2852.806118951593, 6849.072349098946, 22931.069902993226, 23706.498154233945, 4246.547684887941, 8242.763461830831, 8368.940419510327, 4172.511024435458, 5385.321436129709, 2982.844880482132, 1743.7178521083863, 2079.9976957107247, 3329.003896183067, 1504.8834401454628, 1350.3382620970758, 1319.6687158616107, 1330.1478032854477, 1976.8039522617155, 3132.4437648083876, 1325.355875649924, 698.2525525849248, 698.2634649125823, 668.5310639936177, 671.2548002940614, 765.6964433563998, 669.8893721367314, 663.0627507464751, 1326.5991211017163, 698.114716284793, 659.7842409791524, 1077.7679870082673, 3780.4815640425904, 2510.6693005887582, 665.219136956502, 663.0542520096151, 659.7853085996513, 863.1733001108156, 8418.211572700831, 4816.800964198944, 3138.4296563122043, 3744.919715367955, 2889.5913975314425, 3296.246591915543, 2742.8631454820584, 4410.309711582515, 3410.153197212164, 2670.773437526697, 2180.5898748416184, 2094.006078022664, 1947.7757647068565, 3169.318231893819, 1608.8521776461532, 3656.408471549005, 2162.346830832201, 2180.9045408751876, 1861.571333126319, 3856.184687952025, 60056.85731654764, 2138.782131016104, 4991.175535478636, 3731.9289324180168, 5614.018553283418, 2445.162298369606, 2254.2286132765244, 9446.135450111766, 5122.601105914762, 10773.47805959317, 3449.202515250885, 2823.4723055804757, 3233.175043384527, 13085.722970505138, 6225.268176696356, 3642.926642826298, 27529.911180794043, 8242.763461830831, 4210.82677575583, 2709.757253888954, 2607.126076455965, 4125.596148929054, 2831.817501352349, 6467.0704651046035, 2368.3310424727424, 2164.159602936931, 1721.6033761923632, 1695.7911564326355, 1693.5040296584177, 1484.6225735116454, 1479.6714648248874, 1481.2344810718491, 1454.3387494744118, 1640.207188051891, 3842.614177299082, 1281.7905436278274, 1246.2156106909404, 1432.0376237730102, 1462.7355580810708, 1443.0254445096832, 1420.2664454916087, 1167.2202657871362, 1462.7427949001822, 976.4717939395068, 976.465677906916, 975.3483847854391, 978.2535017706786, 976.1394730162349, 10436.937900708132, 9112.932304025639, 7791.007207139167, 38847.14872461493, 5880.88856915164, 3848.0848034788837, 6886.836890458295, 2928.370759067241, 2887.967453596384, 5217.856018801035, 4465.88250942145, 5372.23474600964, 2373.6294778603774, 2148.7977332223177, 1876.389080564775, 1704.3877827666877, 1727.7588604955524, 2857.468369958029, 3066.32560569127, 2869.443511155308, 1791.261537303481, 9191.60946235214, 3663.799336807599, 3537.7577080372193, 6051.653408691045, 8616.932191681719, 3670.6724890680584, 5469.512072657878, 3667.287012087136, 33945.672067410575, 22186.649862703845, 4695.2521461529695, 4575.212958268203, 2802.1276364713394, 4644.964733512664, 2054.145944511514, 2226.8765361521682, 2738.3735145301034, 2760.0505767842546, 1577.1619576785051, 1943.121986266774, 1528.8616078948066, 2549.025308178816, 6307.398312650352, 3098.101163785757, 938.3187070793114, 929.3165365451121, 929.8906789134184, 923.7813203802943, 2495.7383599833142, 920.0752450049941, 1854.7580747190348, 929.7629341398075, 952.9980412148633, 1363.3361961485218, 923.7276207886839, 721.7618588564555, 2351.979658986668, 723.3317666980728, 701.1141641706681, 717.6725541844961, 11629.726429955657, 6526.458302421458, 4524.980650848952, 3295.0992708907293, 2823.744020104878, 3026.432057366925, 2743.9442802299523, 2809.6525942625603, 2240.5980436840414, 2366.419086625441, 2042.6183569993727, 2971.674876138489, 10543.20837539729, 1734.403226606282, 7340.460613849107, 5181.625304351584, 6225.28635563277, 6406.156791618355, 7638.990112385226, 8261.274045540993, 4012.8223402138947, 5574.10194457098, 2912.656907100253, 3688.205304756723, 4578.016006307428, 15541.960180053931, 4003.2086358777756, 3871.9555387053447, 6211.381536203351, 33945.672067410575, 3915.8502052775607, 6415.012575639855, 3246.6322087126155, 1701.0365658951823, 1630.3226281848788, 1630.3184703381332, 3398.5528796624376, 8609.754091323251, 1637.8487297886866, 1299.695883273354, 1444.0247201137822, 3498.2825056650463, 1559.4151660843286, 2795.547536090354, 1236.005961157511, 1475.388937803758, 1167.5054441434515, 984.4702583166323, 980.0662299763948, 18385.156805300077, 947.3881629112872, 984.6766986505331, 3007.7660249134856, 5501.514362767503, 949.0097199862948, 939.5829939395395, 798.8168003564882, 2465.0656114041594, 2685.1868871044317, 2992.8184427787965, 721.3402327314762, 2916.2332523884506, 728.9925400121551, 10514.119471695927, 5194.25359193859, 4442.457662433359, 4410.226471652809, 3285.341349568061, 3109.509023332292, 3109.509023332292, 3493.9846419886717, 3104.95238512213, 3097.593328970645, 6944.146421415175, 2888.749146309584, 6143.001283610832, 3479.925649832642, 8112.938782884914, 3328.270596477502, 1985.529759317533, 3394.9054860729248, 2612.299125690654, 2915.554351464404, 3601.1975960448517, 10099.675159888924, 3368.2751126764847, 6352.753352601019, 8929.030821987631, 6259.137020570767, 5055.626688104241, 13085.722970505138, 23706.498154233945, 33945.672067410575, 2296.264069501623, 1711.752804889096, 1488.6329004946842, 1423.2027032370288, 3357.762016232285, 1803.7586215790552, 1035.7955239421797, 4015.965174736109, 3724.0146778132935, 4845.828256720521, 444.54827583696317, 1818.2069518053436, 2499.3537925974597, 328.8217891185197, 767.7808336946597, 768.6835367345175, 1240.4256258507787, 199.71695519596784, 199.7099536566842, 241.10924633963896, 1228.3253461170607, 6047.639623000641, 4766.855076497906, 770.2771548153353, 968.6162579392964, 6446.544234894273, 768.2861824154731, 768.5475623452014, 784.0746817800767, 1030.5714579877686, 16533.547352456186, 17237.950553023504, 12860.41447064373, 5382.739517646554, 4407.273491088668, 2615.30479844156, 2718.8887883111406, 1477.6108107171697, 1795.151759148113, 1848.2195316053812, 39074.292729473855, 3130.987236026912, 21635.771162500376, 4898.65415545732, 3583.269688008006, 6968.708285353444, 2646.2541961258553, 3484.421868382239, 11430.758612528587, 3112.4156749446047, 27529.911180794043, 22186.649862703845, 8599.126101544805, 2289.6473876326013, 22931.069902993226, 60056.85731654764, 3439.0828831725385, 2812.9917895140247, 2487.6983403868617, 2232.7903197461087, 2271.619809919381, 3164.442805518514, 4129.941064323096, 1722.218586029801, 1679.4571194918278, 1672.7067651377454, 1983.862254439075, 1679.8781532098271, 1398.439871111041, 1137.5598849969826, 1135.3637806806719, 1091.3403879317298, 1365.7686467087792, 5254.510764068788, 894.930814244499, 1101.0865745003575, 840.7472396290343, 840.0559303655656, 842.9962274250245, 840.6198335330444, 842.3151142387089, 836.9394603550917, 1398.8072425055689, 837.327712235086, 1713.9956007729813, 616.1867542383255, 24886.415204524917, 4844.392147037268, 3221.0816994854645, 3467.884017849871, 7195.095609161379, 3414.805871936409, 2174.183874552485, 5644.965235836596, 2232.108493922666, 2501.3245713964598, 1929.8881699803992, 3370.1076700750464, 1943.6473034176536, 1718.7945369734211, 1708.512411132743, 1634.2150196549003, 16850.147945226712, 2489.5081278993703, 2026.743885892789, 4359.2744525131975, 2991.0428820623974, 5171.389526713484, 2778.7291911952907, 3421.0099460247193, 3036.7783579465436, 3024.1033081858855, 2139.2461320827747, 3886.5040911662527, 5034.508783663715, 2476.7528520287874, 3972.0346282128967, 2960.8649848725513, 15541.960180053931, 4041.0247308308008], \"Category\": [\"Default\", \"Default\", \"Default\", \"Default\", \"Default\", \"Default\", \"Default\", \"Default\", \"Default\", \"Default\", \"Default\", \"Default\", \"Default\", \"Default\", \"Default\", \"Default\", \"Default\", \"Default\", \"Default\", \"Default\", \"Default\", \"Default\", \"Default\", \"Default\", \"Default\", \"Default\", \"Default\", \"Default\", \"Default\", \"Default\", \"Topic1\", \"Topic1\", \"Topic1\", \"Topic1\", \"Topic1\", \"Topic1\", \"Topic1\", \"Topic1\", \"Topic1\", \"Topic1\", \"Topic1\", \"Topic1\", \"Topic1\", \"Topic1\", \"Topic1\", \"Topic1\", \"Topic1\", \"Topic1\", \"Topic1\", \"Topic1\", \"Topic1\", \"Topic1\", \"Topic1\", \"Topic1\", \"Topic1\", \"Topic1\", \"Topic1\", \"Topic1\", \"Topic1\", \"Topic1\", \"Topic1\", \"Topic1\", \"Topic1\", \"Topic1\", \"Topic1\", \"Topic1\", \"Topic1\", \"Topic1\", \"Topic1\", \"Topic1\", \"Topic1\", \"Topic1\", \"Topic1\", \"Topic1\", \"Topic1\", \"Topic1\", \"Topic1\", \"Topic1\", \"Topic1\", \"Topic1\", \"Topic1\", \"Topic1\", \"Topic1\", \"Topic1\", \"Topic1\", \"Topic1\", \"Topic1\", \"Topic1\", \"Topic1\", \"Topic1\", \"Topic1\", \"Topic2\", \"Topic2\", \"Topic2\", \"Topic2\", \"Topic2\", \"Topic2\", \"Topic2\", \"Topic2\", \"Topic2\", \"Topic2\", \"Topic2\", \"Topic2\", \"Topic2\", \"Topic2\", \"Topic2\", \"Topic2\", \"Topic2\", \"Topic2\", \"Topic2\", \"Topic2\", \"Topic2\", \"Topic2\", \"Topic2\", \"Topic2\", \"Topic2\", \"Topic2\", \"Topic2\", \"Topic2\", \"Topic2\", \"Topic2\", \"Topic2\", \"Topic2\", \"Topic2\", \"Topic2\", \"Topic2\", \"Topic2\", \"Topic2\", \"Topic2\", \"Topic2\", \"Topic2\", \"Topic2\", \"Topic2\", \"Topic2\", \"Topic2\", \"Topic2\", \"Topic2\", \"Topic2\", \"Topic2\", \"Topic2\", \"Topic2\", \"Topic2\", \"Topic2\", \"Topic2\", \"Topic2\", \"Topic2\", \"Topic2\", \"Topic2\", \"Topic2\", \"Topic2\", \"Topic2\", \"Topic2\", \"Topic2\", \"Topic2\", \"Topic2\", \"Topic2\", \"Topic2\", \"Topic2\", \"Topic2\", \"Topic3\", \"Topic3\", \"Topic3\", \"Topic3\", \"Topic3\", \"Topic3\", \"Topic3\", \"Topic3\", \"Topic3\", \"Topic3\", \"Topic3\", \"Topic3\", \"Topic3\", \"Topic3\", \"Topic3\", \"Topic3\", \"Topic3\", \"Topic3\", \"Topic3\", \"Topic3\", \"Topic3\", \"Topic3\", \"Topic3\", \"Topic3\", \"Topic3\", \"Topic3\", \"Topic3\", \"Topic3\", \"Topic3\", \"Topic3\", \"Topic3\", \"Topic3\", \"Topic3\", \"Topic3\", \"Topic3\", \"Topic3\", \"Topic3\", \"Topic3\", \"Topic3\", \"Topic3\", \"Topic3\", \"Topic3\", \"Topic3\", \"Topic3\", \"Topic3\", \"Topic3\", \"Topic3\", \"Topic3\", \"Topic3\", \"Topic3\", \"Topic3\", \"Topic3\", \"Topic3\", \"Topic3\", \"Topic3\", \"Topic3\", \"Topic3\", \"Topic3\", \"Topic3\", \"Topic3\", \"Topic3\", \"Topic4\", \"Topic4\", \"Topic4\", \"Topic4\", \"Topic4\", \"Topic4\", \"Topic4\", \"Topic4\", \"Topic4\", \"Topic4\", \"Topic4\", \"Topic4\", \"Topic4\", \"Topic4\", \"Topic4\", \"Topic4\", \"Topic4\", \"Topic4\", \"Topic4\", \"Topic4\", \"Topic4\", \"Topic4\", \"Topic4\", \"Topic4\", \"Topic4\", \"Topic4\", \"Topic4\", \"Topic4\", \"Topic4\", \"Topic4\", \"Topic4\", \"Topic4\", \"Topic4\", \"Topic4\", \"Topic4\", \"Topic4\", \"Topic4\", \"Topic4\", \"Topic4\", \"Topic4\", \"Topic4\", \"Topic4\", \"Topic4\", \"Topic4\", \"Topic4\", \"Topic4\", \"Topic4\", \"Topic4\", \"Topic4\", \"Topic4\", \"Topic4\", \"Topic4\", \"Topic4\", \"Topic4\", \"Topic4\", \"Topic4\", \"Topic4\", \"Topic4\", \"Topic4\", \"Topic4\", \"Topic4\", \"Topic4\", \"Topic4\", \"Topic5\", \"Topic5\", \"Topic5\", \"Topic5\", \"Topic5\", \"Topic5\", \"Topic5\", \"Topic5\", \"Topic5\", \"Topic5\", \"Topic5\", \"Topic5\", \"Topic5\", \"Topic5\", \"Topic5\", \"Topic5\", \"Topic5\", \"Topic5\", \"Topic5\", \"Topic5\", \"Topic5\", \"Topic5\", \"Topic5\", \"Topic5\", \"Topic5\", \"Topic5\", \"Topic5\", \"Topic5\", \"Topic5\", \"Topic5\", \"Topic5\", \"Topic5\", \"Topic5\", \"Topic5\", \"Topic5\", \"Topic5\", \"Topic5\", \"Topic5\", \"Topic5\", \"Topic5\", \"Topic5\", \"Topic5\", \"Topic5\", \"Topic5\", \"Topic5\", \"Topic5\", \"Topic5\", \"Topic5\", \"Topic5\", \"Topic5\", \"Topic5\", \"Topic5\", \"Topic5\", \"Topic5\", \"Topic5\", \"Topic5\", \"Topic5\", \"Topic5\", \"Topic5\", \"Topic5\", \"Topic6\", \"Topic6\", \"Topic6\", \"Topic6\", \"Topic6\", \"Topic6\", \"Topic6\", \"Topic6\", \"Topic6\", \"Topic6\", \"Topic6\", \"Topic6\", \"Topic6\", \"Topic6\", \"Topic6\", \"Topic6\", \"Topic6\", \"Topic6\", \"Topic6\", \"Topic6\", \"Topic6\", \"Topic6\", \"Topic6\", \"Topic6\", \"Topic6\", \"Topic6\", \"Topic6\", \"Topic6\", \"Topic6\", \"Topic6\", \"Topic6\", \"Topic6\", \"Topic6\", \"Topic6\", \"Topic6\", \"Topic6\", \"Topic6\", \"Topic6\", \"Topic6\", \"Topic6\", \"Topic6\", \"Topic6\", \"Topic6\", \"Topic6\", \"Topic6\", \"Topic6\", \"Topic6\", \"Topic6\", \"Topic6\", \"Topic6\", \"Topic6\", \"Topic6\", \"Topic6\", \"Topic6\", \"Topic6\", \"Topic6\", \"Topic7\", \"Topic7\", \"Topic7\", \"Topic7\", \"Topic7\", \"Topic7\", \"Topic7\", \"Topic7\", \"Topic7\", \"Topic7\", \"Topic7\", \"Topic7\", \"Topic7\", \"Topic7\", \"Topic7\", \"Topic7\", \"Topic7\", \"Topic7\", \"Topic7\", \"Topic7\", \"Topic7\", \"Topic7\", \"Topic7\", \"Topic7\", \"Topic7\", \"Topic7\", \"Topic7\", \"Topic7\", \"Topic7\", \"Topic7\", \"Topic7\", \"Topic7\", \"Topic7\", \"Topic7\", \"Topic7\", \"Topic7\", \"Topic7\", \"Topic7\", \"Topic7\", \"Topic7\", \"Topic7\", \"Topic7\", \"Topic7\", \"Topic7\", \"Topic7\", \"Topic7\", \"Topic7\", \"Topic7\", \"Topic7\", \"Topic7\", \"Topic7\", \"Topic7\", \"Topic7\", \"Topic7\", \"Topic7\", \"Topic7\", \"Topic7\", \"Topic7\", \"Topic7\", \"Topic7\", \"Topic7\", \"Topic7\", \"Topic7\", \"Topic7\"], \"logprob\": [30.0, 29.0, 28.0, 27.0, 26.0, 25.0, 24.0, 23.0, 22.0, 21.0, 20.0, 19.0, 18.0, 17.0, 16.0, 15.0, 14.0, 13.0, 12.0, 11.0, 10.0, 9.0, 8.0, 7.0, 6.0, 5.0, 4.0, 3.0, 2.0, 1.0, -5.386300086975098, -4.910900115966797, -5.375699996948242, -4.281199932098389, -4.77400016784668, -5.713200092315674, -4.6539998054504395, -5.861400127410889, -6.027200222015381, -6.029399871826172, -6.005099773406982, -5.362800121307373, -6.414700031280518, -6.209400177001953, -6.41349983215332, -4.4527997970581055, -6.457900047302246, -6.210100173950195, -6.490699768066406, -6.341800212860107, -6.419300079345703, -6.665900230407715, -5.554800033569336, -6.672999858856201, -6.673900127410889, -6.71150016784668, -5.343800067901611, -6.711299896240234, -6.066299915313721, -6.709099769592285, -1.4026000499725342, -4.456099987030029, -4.367700099945068, -4.466599941253662, -3.7946999073028564, -4.753600120544434, -4.865699768066406, -4.925099849700928, -5.063899993896484, -4.888700008392334, -4.8597002029418945, -5.0721001625061035, -4.462399959564209, -4.985799789428711, -4.3480000495910645, -5.894700050354004, -4.30649995803833, -4.1894001960754395, -5.442999839782715, -4.293900012969971, -5.0894999504089355, -3.542799949645996, -4.612800121307373, -4.885700225830078, -5.053500175476074, -4.2895002365112305, -3.2904000282287598, -3.391700029373169, -4.7845001220703125, -4.435999870300293, -4.916399955749512, -4.5843000411987305, -4.3292999267578125, -4.920199871063232, -5.457099914550781, -5.280700206756592, -4.810400009155273, -5.604499816894531, -5.712800025939941, -5.735899925231934, -5.728099822998047, -5.331900119781494, -4.871699810028076, -5.731800079345703, -6.372700214385986, -6.372700214385986, -6.416299819946289, -6.412199974060059, -6.280600070953369, -6.414299964904785, -6.424499988555908, -5.731100082397461, -6.3730998039245605, -6.429500102996826, -5.938799858093262, -4.683899879455566, -5.093200206756592, -6.421500205993652, -6.424799919128418, -6.429800033569336, -6.161300182342529, -3.8873000144958496, -4.44379997253418, -4.872000217437744, -4.697500228881836, -4.9542999267578125, -4.823999881744385, -5.006199836730957, -4.536900043487549, -4.791600227355957, -5.034200191497803, -5.236599922180176, -5.2769999504089355, -5.3491997718811035, -4.867499828338623, -5.539400100708008, -4.731100082397461, -5.247700214385986, -5.23960018157959, -5.3968000411987305, -4.688199996948242, -2.0255000591278076, -5.260799884796143, -4.442399978637695, -4.724599838256836, -4.345900058746338, -5.133399963378906, -5.210599899291992, -4.0177001953125, -4.5335001945495605, -3.9563000202178955, -4.874100208282471, -5.033699989318848, -4.950300216674805, -4.079100131988525, -4.5553998947143555, -4.8927998542785645, -3.941999912261963, -4.931399822235107, -4.5625, -5.003300189971924, -5.041999816894531, -4.583000183105469, -4.9593000411987305, -4.133600234985352, -5.1381001472473145, -5.228300094604492, -5.457099914550781, -5.4721999168396, -5.473499774932861, -5.605199813842773, -5.60860013961792, -5.607500076293945, -5.625800132751465, -5.5055999755859375, -4.654300212860107, -5.752200126647949, -5.780300140380859, -5.64139986038208, -5.620200157165527, -5.633699893951416, -5.649700164794922, -5.845900058746338, -5.620299816131592, -6.024400234222412, -6.024400234222412, -6.0254998207092285, -6.022600173950195, -6.024799823760986, -3.656399965286255, -3.792099952697754, -3.9484000205993652, -2.3589999675750732, -4.233399868011475, -4.653299808502197, -4.077400207519531, -4.926300048828125, -4.940299987792969, -4.354700088500977, -4.509699821472168, -4.327199935913086, -5.138299942016602, -5.237400054931641, -5.372000217437744, -5.467400074005127, -5.454100131988525, -4.956200122833252, -4.887499809265137, -4.961599826812744, -5.418700218200684, -3.839099884033203, -4.725200176239014, -4.761000156402588, -4.276199817657471, -3.9484000205993652, -4.7418999671936035, -4.5208001136779785, -4.918099880218506, -3.9000000953674316, -4.4629998207092285, -4.425899982452393, -4.451900005340576, -4.942200183868408, -4.436800003051758, -5.252799987792969, -5.172100067138672, -4.9653000831604, -4.957499980926514, -5.517099857330322, -5.308499813079834, -5.548299789428711, -5.037199974060059, -4.131199836730957, -4.842199802398682, -6.036600112915039, -6.046299934387207, -6.0457000732421875, -6.052299976348877, -5.0584001541137695, -6.056399822235107, -5.355400085449219, -6.046000003814697, -6.021299839019775, -5.6631999015808105, -6.052499771118164, -6.299200057983398, -5.1178998947143555, -6.297100067138672, -6.3282999992370605, -6.304999828338623, -3.5220999717712402, -4.100200176239014, -4.464799880981445, -4.782199859619141, -4.935299873352051, -4.867099761962891, -4.9644999504089355, -4.942200183868408, -5.166900157928467, -5.11329984664917, -5.258999824523926, -4.888400077819824, -3.6347999572753906, -5.423299789428711, -3.998699903488159, -4.341400146484375, -4.162799835205078, -4.1371002197265625, -3.9658000469207764, -3.8907999992370605, -4.5970001220703125, -4.283400058746338, -4.915299892425537, -4.702000141143799, -4.545199871063232, -3.5269999504089355, -4.659800052642822, -4.6956000328063965, -4.336100101470947, -3.1305999755859375, -4.737599849700928, -4.645199775695801, -4.914299964904785, -5.400599956512451, -5.4430999755859375, -5.4430999755859375, -4.708600044250488, -3.7790000438690186, -5.438600063323975, -5.669899940490723, -5.564599990844727, -4.679800033569336, -5.48769998550415, -4.9039998054504395, -5.720200061798096, -5.5432000160217285, -5.777299880981445, -5.947800159454346, -5.952300071716309, -3.0206000804901123, -5.986199855804443, -5.9475998878479, -4.830999851226807, -4.227200031280518, -5.984499931335449, -5.99459981918335, -6.156899929046631, -5.03000020980835, -4.9446001052856445, -4.836100101470947, -6.258999824523926, -4.862100124359131, -6.248499870300293, -3.5840001106262207, -4.284999847412109, -4.441299915313721, -4.44980001449585, -4.743299961090088, -4.797999858856201, -4.797999858856201, -4.682600021362305, -4.799499988555908, -4.802299976348877, -4.003499984741211, -4.872799873352051, -4.126299858093262, -4.689499855041504, -3.8529000282287598, -4.735499858856201, -5.247399806976318, -4.718200206756592, -4.977200031280518, -4.869699954986572, -4.6656999588012695, -3.666300058364868, -4.731599807739258, -4.172299861907959, -3.9300999641418457, -4.488100051879883, -4.593200206756592, -4.2017998695373535, -4.000500202178955, -3.886699914932251, -5.084199905395508, -5.3780999183654785, -5.517899990081787, -5.563000202178955, -4.704800128936768, -5.326200008392334, -5.881199836730957, -4.526299953460693, -4.601799964904785, -4.338500022888184, -6.727399826049805, -5.318900108337402, -5.000899791717529, -7.029300212860107, -6.18179988861084, -6.180699825286865, -5.702199935913086, -7.5289998054504395, -7.529099941253662, -7.34089994430542, -5.712900161743164, -4.119100093841553, -4.357399940490723, -6.180300235748291, -5.951300144195557, -4.056000232696533, -6.183300018310547, -6.183000087738037, -6.163899898529053, -5.890600204467773, -3.1157000064849854, -3.0752999782562256, -3.3678998947143555, -4.242599964141846, -4.44320011138916, -4.961900234222412, -4.924600124359131, -5.531700134277344, -5.339399814605713, -5.311800003051758, -2.3066999912261963, -4.794000148773193, -2.9065001010894775, -4.364699840545654, -4.677000045776367, -4.0416998863220215, -4.975599765777588, -4.725200176239014, -3.6252999305725098, -4.857699871063232, -2.981800079345703, -3.177299976348877, -3.993499994277954, -5.145899772644043, -4.124899864196777, -4.970200061798096, -4.657700061798096, -4.858799934387207, -4.9816999435424805, -5.089799880981445, -5.072500228881836, -4.741099834442139, -4.474800109863281, -5.3495001792907715, -5.374599933624268, -5.378699779510498, -5.208099842071533, -5.3744001388549805, -5.5578999519348145, -5.764400005340576, -5.766300201416016, -5.8059000968933105, -5.581600189208984, -4.234300136566162, -6.00439977645874, -5.797100067138672, -6.06689977645874, -6.067699909210205, -6.064300060272217, -6.0671000480651855, -6.065199851989746, -6.071599960327148, -5.558000087738037, -6.071199893951416, -5.354800224304199, -6.377900123596191, -2.6798999309539795, -4.3171000480651855, -4.724299907684326, -4.652299880981445, -3.930999994277954, -4.669099807739258, -5.117099761962891, -4.172599792480469, -5.091300010681152, -4.979599952697754, -5.236400127410889, -4.684500217437744, -5.229800224304199, -5.352099895477295, -5.35860013961792, -5.4028000831604, -3.1122000217437744, -4.986999988555908, -5.190199851989746, -4.441500186920166, -4.810500144958496, -4.2795000076293945, -4.881999969482422, -4.684299945831299, -4.799699783325195, -4.805799961090088, -5.141600131988525, -4.613100051879883, -4.3867998123168945, -5.01170015335083, -4.786200046539307, -4.962100028991699, -4.524499893188477, -4.940899848937988], \"loglift\": [30.0, 29.0, 28.0, 27.0, 26.0, 25.0, 24.0, 23.0, 22.0, 21.0, 20.0, 19.0, 18.0, 17.0, 16.0, 15.0, 14.0, 13.0, 12.0, 11.0, 10.0, 9.0, 8.0, 7.0, 6.0, 5.0, 4.0, 3.0, 2.0, 1.0, 1.8424, 1.8424, 1.8424, 1.8423, 1.8423, 1.8423, 1.8423, 1.8422, 1.8421, 1.842, 1.842, 1.8419, 1.8418, 1.8418, 1.8418, 1.8418, 1.8418, 1.8418, 1.8417, 1.8417, 1.8417, 1.8416, 1.8416, 1.8416, 1.8416, 1.8415, 1.8415, 1.8415, 1.8415, 1.8414, 1.8144, 1.8412, 1.8398, 1.8391, 1.8297, 1.8389, 1.8398, 1.8397, 1.8394, 1.837, 1.8362, 1.8383, 1.832, 1.8357, 1.8291, 1.8412, 1.8245, 1.8165, 1.8354, 1.8031, 1.8253, 1.7691, 1.8034, 1.809, 1.8175, 1.7056, 1.4963, 1.3618, 1.6887, 1.3739, 0.8783, 1.9064, 1.9063, 1.9062, 1.9062, 1.9062, 1.9062, 1.9061, 1.9061, 1.906, 1.9059, 1.9058, 1.9058, 1.9057, 1.9057, 1.9057, 1.9057, 1.9057, 1.9056, 1.9056, 1.9056, 1.9056, 1.9056, 1.9056, 1.9055, 1.9055, 1.9055, 1.9054, 1.9053, 1.9053, 1.9051, 1.9016, 1.9034, 1.9035, 1.9013, 1.9038, 1.9024, 1.904, 1.8984, 1.9009, 1.9027, 1.903, 1.9032, 1.9034, 1.8982, 1.9043, 1.8916, 1.9004, 1.8999, 1.901, 1.8814, 1.7985, 1.8982, 1.8692, 1.8777, 1.8481, 1.8917, 1.8958, 1.6559, 1.7521, 1.5859, 1.807, 1.8476, 1.7955, 1.2686, 1.5352, 1.7337, 0.662, 0.8785, 1.9191, 1.9191, 1.919, 1.919, 1.919, 1.919, 1.9189, 1.9189, 1.9189, 1.9189, 1.9189, 1.9189, 1.9189, 1.9189, 1.9189, 1.9188, 1.9188, 1.9188, 1.9188, 1.9188, 1.9188, 1.9188, 1.9187, 1.9187, 1.9187, 1.9187, 1.9187, 1.9187, 1.9187, 1.9186, 1.9175, 1.9175, 1.9178, 1.9006, 1.9141, 1.9183, 1.9123, 1.9185, 1.9184, 1.9125, 1.9131, 1.9108, 1.9166, 1.9169, 1.9179, 1.9186, 1.9184, 1.9131, 1.9113, 1.9036, 1.9176, 1.8619, 1.8955, 1.8947, 1.8427, 1.8171, 1.877, 1.6992, 1.7017, 0.4945, 0.3568, 1.9468, 1.9467, 1.9467, 1.9467, 1.9466, 1.9466, 1.9466, 1.9465, 1.9465, 1.9464, 1.9464, 1.9464, 1.9463, 1.9463, 1.9463, 1.9463, 1.9463, 1.9463, 1.9462, 1.9462, 1.9461, 1.9461, 1.9461, 1.9461, 1.9461, 1.9461, 1.9461, 1.946, 1.946, 1.946, 1.9436, 1.9432, 1.9448, 1.9446, 1.9459, 1.9448, 1.9454, 1.9439, 1.9456, 1.9446, 1.946, 1.9417, 1.9289, 1.9453, 1.9271, 1.9328, 1.9279, 1.9249, 1.9202, 1.9168, 1.9327, 1.9177, 1.9349, 1.9121, 1.8528, 1.6487, 1.8724, 1.8699, 1.7568, 1.2639, 1.8166, 1.4155, 1.8273, 1.9874, 1.9874, 1.9874, 1.9873, 1.9873, 1.9873, 1.9873, 1.9873, 1.9872, 1.9872, 1.9872, 1.9872, 1.9872, 1.9871, 1.9871, 1.9871, 1.9871, 1.9871, 1.9871, 1.9871, 1.9871, 1.9871, 1.987, 1.987, 1.987, 1.9869, 1.9869, 1.9869, 1.9869, 1.9869, 1.9825, 1.9867, 1.9867, 1.9856, 1.9865, 1.9868, 1.9868, 1.9856, 1.9868, 1.9864, 1.9778, 1.9856, 1.9776, 1.9827, 1.9729, 1.9813, 1.986, 1.9788, 1.9818, 1.9795, 1.9723, 1.9404, 1.9733, 1.8981, 1.7999, 1.5972, 1.7055, 1.1459, 0.753, 0.5078, 2.0038, 2.0037, 2.0035, 2.0033, 2.0032, 2.0031, 2.0029, 2.0027, 2.0026, 2.0026, 2.0026, 2.0025, 2.0023, 2.0022, 2.0017, 2.0017, 2.0016, 2.0011, 2.001, 2.0009, 2.0007, 2.0005, 2.0002, 1.9999, 1.9998, 1.9997, 1.9996, 1.9995, 1.9986, 1.9985, 1.9981, 1.9968, 1.9972, 1.9935, 1.9928, 1.9959, 1.9944, 1.9971, 1.9948, 1.9932, 1.9471, 1.9839, 1.9384, 1.9656, 1.966, 1.9361, 1.9705, 1.9458, 1.8576, 1.9261, 1.6221, 1.6424, 1.774, 1.945, 0.6619, -1.1462, 2.0263, 2.0262, 2.0262, 2.0262, 2.0262, 2.0262, 2.0262, 2.0262, 2.0261, 2.0261, 2.0261, 2.0261, 2.026, 2.026, 2.026, 2.026, 2.0259, 2.0259, 2.0259, 2.0258, 2.0258, 2.0258, 2.0258, 2.0257, 2.0257, 2.0257, 2.0256, 2.0256, 2.0256, 2.0256, 2.0251, 2.0243, 2.0252, 2.0234, 2.0148, 2.022, 2.0255, 2.0159, 2.025, 2.0228, 2.0254, 2.0198, 2.0249, 2.0256, 2.025, 2.0253, 1.9827, 2.0202, 2.0226, 2.0055, 2.0131, 1.9966, 2.0152, 2.005, 2.0087, 2.0068, 2.0172, 1.9486, 1.9161, 2.0006, 1.7538, 1.8717, 0.6512, 1.5819]}, \"token.table\": {\"Topic\": [4, 5, 1, 2, 3, 4, 5, 6, 7, 2, 3, 4, 5, 6, 7, 1, 4, 5, 1, 2, 3, 4, 5, 6, 7, 1, 2, 3, 4, 5, 6, 7, 2, 2, 3, 4, 5, 1, 5, 2, 3, 5, 7, 1, 2, 3, 4, 5, 6, 7, 5, 5, 2, 5, 2, 3, 4, 5, 6, 7, 1, 2, 3, 4, 5, 6, 4, 2, 3, 1, 2, 6, 1, 2, 7, 3, 7, 1, 2, 7, 5, 1, 5, 7, 1, 2, 3, 4, 5, 6, 7, 7, 2, 4, 5, 4, 3, 2, 4, 5, 7, 4, 1, 2, 3, 4, 5, 7, 1, 4, 7, 2, 3, 6, 2, 3, 4, 5, 6, 7, 1, 1, 3, 4, 5, 6, 7, 3, 4, 6, 7, 4, 2, 4, 5, 6, 7, 4, 1, 4, 5, 1, 5, 1, 3, 5, 6, 7, 1, 2, 3, 4, 5, 6, 7, 4, 5, 1, 2, 3, 4, 5, 6, 7, 1, 4, 7, 1, 2, 3, 4, 5, 6, 7, 2, 3, 2, 5, 1, 7, 2, 4, 2, 2, 1, 2, 3, 3, 5, 6, 7, 4, 1, 2, 4, 5, 7, 4, 1, 2, 3, 4, 5, 6, 7, 2, 3, 5, 6, 7, 6, 6, 2, 3, 1, 2, 3, 4, 5, 6, 7, 1, 2, 3, 4, 5, 6, 7, 5, 1, 2, 3, 4, 5, 7, 1, 2, 3, 4, 5, 6, 7, 4, 7, 2, 5, 7, 1, 3, 6, 1, 1, 2, 3, 4, 5, 7, 7, 5, 1, 2, 4, 6, 7, 1, 2, 4, 5, 6, 7, 7, 3, 5, 1, 4, 2, 3, 4, 5, 7, 1, 2, 3, 1, 2, 3, 4, 5, 6, 7, 3, 7, 1, 2, 3, 4, 5, 6, 7, 3, 5, 6, 1, 1, 2, 3, 1, 2, 3, 4, 1, 2, 7, 4, 2, 6, 3, 4, 5, 6, 7, 1, 2, 3, 5, 7, 1, 2, 3, 4, 5, 6, 7, 1, 4, 7, 1, 2, 4, 5, 6, 7, 1, 4, 2, 1, 4, 6, 1, 2, 4, 5, 1, 2, 3, 4, 5, 6, 7, 1, 7, 3, 5, 1, 2, 3, 4, 5, 6, 7, 1, 2, 5, 1, 2, 3, 4, 5, 6, 7, 1, 2, 4, 5, 6, 7, 1, 2, 3, 4, 5, 6, 7, 1, 2, 4, 5, 6, 7, 1, 2, 6, 1, 2, 3, 4, 5, 6, 7, 6, 4, 2, 1, 2, 3, 4, 5, 4, 5, 1, 2, 3, 4, 5, 6, 7, 2, 7, 1, 4, 5, 2, 5, 3, 3, 4, 5, 3, 4, 5, 7, 1, 2, 3, 4, 6, 1, 2, 3, 4, 5, 6, 7, 1, 2, 4, 5, 6, 7, 2, 1, 6, 1, 2, 3, 4, 5, 6, 7, 1, 2, 3, 4, 6, 7, 1, 2, 3, 4, 5, 6, 7, 3, 3, 1, 2, 4, 6, 7, 1, 2, 3, 4, 5, 6, 7, 2, 4, 1, 2, 3, 4, 6, 7, 1, 2, 4, 5, 6, 7, 1, 2, 6, 7, 2, 4, 7, 3, 2, 2, 3, 7, 5, 1, 2, 4, 6, 1, 2, 3, 4, 5, 6, 7, 2, 4, 6, 7, 1, 2, 3, 5, 6, 7, 1, 2, 3, 4, 6, 3, 5, 6, 7, 3, 5, 1, 2, 4, 5, 6, 2, 4, 5, 7, 5, 4, 5, 6, 3, 4, 5, 6, 7, 1, 2, 1, 3, 4, 5, 7, 1, 7, 1, 4, 5, 6, 1, 2, 6, 7, 6, 2, 5, 3, 1, 5, 7, 1, 2, 3, 4, 5, 6, 4, 5, 2, 4, 6, 7, 1, 3, 4, 5, 6, 7, 4, 1, 3, 4, 5, 6, 7, 4, 5, 3, 4, 1, 3, 5, 6, 7, 2, 6, 1, 3, 5, 6, 1, 2, 3, 4, 6, 7, 2, 6, 2, 5, 7, 2, 6, 1, 4, 6, 7, 1, 2, 3, 4, 5, 6, 7, 2, 1, 2, 3, 4, 5, 6, 7, 2, 3, 1, 2, 4, 6, 3, 3, 4, 6, 1, 2, 3, 4, 5, 6, 7, 5, 6, 3, 2, 6, 3, 5, 1, 2, 6, 4, 5, 6, 1, 2, 3, 4, 5, 6, 7, 1, 2, 3, 4, 5, 6, 7, 5, 2, 3, 1, 2, 3, 4, 5, 6, 7, 1, 2, 4, 5, 6, 7, 1, 2, 3, 6, 2, 4, 5, 3, 1, 2, 3, 4, 5, 6, 7, 1, 2, 3, 4, 5, 6, 7, 4, 5, 6, 1, 6, 2, 2, 4, 5, 6, 7, 7, 1, 2, 5, 7, 2, 4, 6, 2, 3, 4, 5, 6, 7, 1, 2, 3, 4, 6, 7, 1, 2, 3, 4, 5, 6, 7, 4, 5, 6, 3, 1, 2, 3, 4, 5, 6, 7, 3, 4, 3, 4, 7, 2, 7, 1, 2, 4, 6, 2, 3, 4, 5, 7, 2, 1, 2, 3, 5, 1, 3, 7, 1, 2, 3, 4, 5, 6, 7, 1, 4, 2, 3, 5, 7, 1, 2, 3, 4, 5, 6, 7, 4, 5, 1, 2, 3, 4, 6, 7, 1, 3, 5, 6, 7, 1, 2, 3, 4, 5, 6, 7, 1, 5, 7, 1, 1, 2, 3, 4, 5, 6, 7, 2, 3, 4, 3, 5, 2, 7, 1, 2, 3, 4, 5, 6, 7, 3, 1, 2, 4, 5, 7, 1, 4, 6, 2, 1, 2, 3, 4, 5, 6, 7, 1, 3, 1, 2, 4, 7, 2, 1, 2, 3, 4, 5, 6, 7, 1, 2, 3, 4, 5, 6, 7, 4, 6, 7, 1, 5, 7, 1, 2, 3, 4, 5, 6, 7, 2, 7, 1, 7, 1, 2, 4, 6, 4, 7, 4, 1, 2, 3, 6, 7, 3, 1, 2, 3, 4, 5, 6, 7, 1, 5, 1, 2, 4, 2, 3, 4, 5, 6, 7, 1, 3, 4, 5, 6, 7, 1, 2, 3, 4, 5, 6, 7, 6, 1, 2, 3, 4, 5, 6, 7, 7, 3, 2, 7, 1, 2, 4, 6, 7, 4, 5, 2, 3, 1, 5, 7, 3, 4, 5, 1, 1, 5, 4, 7, 3, 1, 2, 3, 4, 5, 7, 2, 6, 7, 2, 1, 2, 4, 5, 4, 4, 3, 7, 5, 3, 5, 1, 2, 3, 5, 6, 7, 1, 2, 4, 6, 7, 6, 1, 2, 3, 4, 5, 6, 7, 2, 3, 5, 7, 3, 4, 3, 7, 4, 1, 5, 1, 3, 4, 6, 7, 1, 2, 3, 4, 7, 4, 1, 2, 3, 4, 5, 6, 7, 4, 2, 3, 1, 4, 1, 2, 3, 4, 5, 6, 7, 2, 4, 5, 7, 1, 4, 6, 7, 2, 7, 1, 2, 4, 1, 2, 3, 4, 5, 6, 7, 1, 2, 3, 4, 5, 6, 7, 1, 4, 5, 6, 2, 3, 4, 5, 7, 5, 3, 2, 4, 6, 1, 3, 5, 6, 1, 2, 3, 4, 5, 7, 3, 1, 2, 3, 4, 5, 6, 7, 2, 3, 4, 5, 6, 7, 2, 3, 4, 5, 7, 7, 1, 2, 3, 4, 5, 6, 1, 2, 3, 4, 5, 6, 7, 1, 2, 3, 4, 5, 6, 7, 1, 2, 3, 4, 5, 7, 3, 4, 2, 4, 5, 6, 5, 7, 1, 3, 4, 5, 6, 2, 3, 4, 5, 6, 7, 1, 2, 3, 4, 5, 6, 7, 1, 3, 4, 5, 6, 7, 1, 2, 5, 2, 1, 2, 3, 4, 5, 6, 7, 1, 2, 3, 4, 5, 6, 7, 1, 2, 3, 4, 5, 6, 7, 3, 7, 7, 1, 3, 3, 5, 6, 7, 1, 2, 3, 4, 5, 6, 7, 4, 7, 6, 1, 2, 3, 4, 6, 7, 3, 4, 5, 7, 5, 7, 1, 2, 3, 4, 5, 6, 7, 2, 4, 6, 5, 7, 6, 7, 1, 4, 5, 4, 5, 7, 7, 1, 1, 4, 7, 1, 2, 3, 4, 5, 6, 7, 1, 2, 3, 4, 5, 7, 1, 1, 2, 3, 5, 6, 7, 1, 2, 3, 4, 5, 6, 7, 1, 2, 3, 4, 5, 6, 7, 1, 2, 3, 4, 5, 6, 4], \"Freq\": [0.0009626022125219167, 0.9989885761552452, 0.00022689765044578246, 0.0011344882522289124, 0.0013613859026746947, 0.00022689765044578246, 0.007714520115156604, 0.9888199606427199, 0.0006806929513373473, 0.0027041070547344356, 0.0003004563394149373, 0.0009013690182448118, 0.9936091144451975, 0.0003004563394149373, 0.002103194375904561, 0.0010385117738009686, 0.0010385117738009686, 0.9980098146227309, 0.00018969557736021092, 0.00037939115472042183, 0.00436299827928485, 0.9821488517824919, 0.000853630098120949, 0.0015175646188816873, 0.010338408966131495, 0.9819203413088435, 0.003344984981464294, 0.00535197597034287, 0.0018397417398053617, 0.00284323723424465, 0.0005017477472196441, 0.004348480475903582, 0.9990904445718111, 0.00028266492013519185, 0.9757593043066823, 0.02317852345108573, 0.0008479947604055756, 0.9996798094745012, 0.9998021077673209, 0.9969954221235328, 0.0006372613755982952, 0.0019117841267948855, 0.0003186306877991476, 0.6181849341330339, 0.07246958149713764, 0.0008858330683584927, 0.014468606783188715, 0.29093288916516785, 0.001982578772040436, 0.0010545631766172533, 0.9997337680860376, 0.9986384771342947, 0.00028585455816693497, 0.9996333899097716, 0.999622685525133, 0.000268527405640407, 0.000268527405640407, 0.000537054811280814, 0.9986534215766738, 0.9990131797757587, 0.0002465197943092098, 0.014051628275624959, 0.0002465197943092098, 0.0001232598971546049, 0.985216357956757, 0.0001232598971546049, 0.9994364382686063, 0.996654222690089, 0.0028653211960424215, 0.9960972119783843, 0.003184114689328879, 0.0002653428907774066, 0.9925789759547342, 0.0015805397706285577, 0.005268465902095192, 0.9997408629049427, 0.999696919420872, 0.9989833717522826, 0.0011706089970244938, 0.9985294744618933, 0.9995283325176694, 0.998385928316413, 0.9991620460751214, 0.00040566871541823846, 0.01018240183244293, 0.9716155011694227, 0.0026795794295902445, 0.0008038738288770734, 0.005895074745098539, 0.006966906516934636, 0.0018757056007131713, 0.9996258950677933, 0.9990874399762042, 0.00090040250328666, 0.9989965773965492, 0.999154215004074, 0.9998036547690373, 0.9989368171315385, 0.0007966003326407803, 0.9982222581651224, 0.0015109317732065427, 0.9989444456684611, 0.00023758015378061307, 0.9951044741100978, 0.00023758015378061307, 0.00023758015378061307, 0.003920072537380115, 0.00023758015378061307, 0.9967639067636745, 0.00036206462287093153, 0.0028965169829674522, 0.0003414868137525471, 0.9991904170399528, 0.0003414868137525471, 0.00030348099337525593, 0.00030348099337525593, 0.9978455062178414, 0.00030348099337525593, 0.0009104429801257678, 0.00030348099337525593, 0.9988796713534795, 0.00029455901028831155, 0.00029455901028831155, 0.00029455901028831155, 0.9911910696201685, 0.00029455901028831155, 0.007953093277784411, 0.0002928424154995778, 0.0011713696619983112, 0.002928424154995778, 0.9956642126985646, 0.9990421681455511, 0.0013259725207607933, 0.997794321872497, 0.0002209954201267989, 0.0002209954201267989, 0.0002209954201267989, 0.9998973106866313, 0.002671990766469327, 0.011281738791759382, 0.9856677049642407, 0.9990229965107339, 0.999290372180262, 0.002701913137165339, 0.13948626570616063, 0.0006754782842913348, 0.0003377391421456674, 0.8565064644814125, 0.0005223733467902723, 0.0004420082165148458, 8.036513027542651e-05, 8.036513027542651e-05, 8.036513027542651e-05, 0.00024109539082627952, 0.9985367436721744, 0.9993217898077965, 0.0003227783558810712, 0.0009330958988446457, 0.0017884338061189043, 0.00023327397471116143, 0.002566013721822776, 0.0009330958988446457, 0.993202826328555, 0.0003110319662815486, 0.00015609983216588976, 0.978277648183631, 0.021541776838892787, 0.00123643259285726, 0.00123643259285726, 0.0004755509972527923, 0.00019022039890111692, 0.994757576053391, 0.0019973141884617276, 9.511019945055846e-05, 0.9992056255539641, 0.9998602211993148, 0.9995203380692286, 0.9989774872585007, 0.9984564927881656, 0.0009885707849387779, 0.9976056360555206, 0.0018646834318794777, 0.998410006411361, 0.9986407131561357, 0.00018568993733430222, 0.9997546226078831, 0.9995168381284181, 0.0016123497921354593, 0.0008061748960677297, 0.9972383464357816, 0.9996881010402494, 0.9991794315391661, 0.007488196384188509, 0.00016278687791714151, 0.0008139343895857075, 0.9899070046141375, 0.0013022950233371321, 0.9996193632127283, 0.002328994763645878, 0.7783077046511133, 0.0002117267966950798, 0.004869716323986835, 0.0006351803900852394, 0.2133147476702929, 0.0003175901950426197, 0.0004367484728877654, 0.04804233201765419, 0.008298220984867542, 0.9425032044917977, 0.0004367484728877654, 0.9964101435691108, 0.9964450762534116, 0.9996984394688699, 0.0003003901560904056, 0.00061908921263138, 0.00020636307087712667, 0.00020636307087712667, 0.00020636307087712667, 0.00020636307087712667, 0.998590899974416, 0.00020636307087712667, 0.0003155050466527227, 0.0006310100933054454, 0.2096305674259733, 0.0003605771961745402, 0.0003155050466527227, 0.6965449987101681, 0.09226269007116047, 0.9993795184211508, 0.005398151085585869, 0.0007197534780781158, 0.004678397607507752, 0.0003598767390390579, 0.0003598767390390579, 0.988941278879331, 0.00019337162571768577, 0.018176932817462462, 0.00019337162571768577, 0.00038674325143537154, 0.00019337162571768577, 0.010635439414472718, 0.9705321894770649, 0.35881987777439117, 0.6411740022851362, 0.0020407115275935237, 0.9979079369932331, 0.9988775050053285, 0.9988529991383351, 0.0004799870250544619, 0.0004799870250544619, 0.9989567571211677, 0.002362720514561922, 0.00027796711936022613, 0.008477997140486897, 0.00013898355968011307, 0.00013898355968011307, 0.9884510764449641, 0.9996086212957037, 0.9995902810205118, 0.012044124391649768, 0.0010206885077669295, 0.015922740721164102, 0.9623051251226612, 0.008573783465242207, 0.006128937201850613, 0.0022983514506939797, 0.8777148817816898, 0.11185310393377368, 0.0012768619170522109, 0.0005107447668208844, 0.9997271506804639, 0.999767076635664, 0.9993906269177484, 0.9995820591181166, 0.9984108662645746, 0.01681034402288773, 0.011658786983615685, 0.9657813775730016, 0.00460928787724341, 0.0013556729050715913, 0.0010658770191723879, 0.0005329385095861939, 0.9987267669645274, 0.0031550513670952763, 0.0005439743736371166, 0.9442307177593071, 0.00065276924836454, 0.020997410822392704, 0.02817787255440264, 0.00228469236927589, 0.9998736817803261, 0.999647425379014, 0.9721369970387963, 0.006153110438883324, 0.0003630153651258598, 0.0001724322984347834, 0.0003720907492540063, 0.020673725043917717, 0.00011797999366590443, 0.0008141165556512899, 0.0024423496669538696, 0.9964786641171789, 0.9991728027928611, 0.19727536673589718, 0.0001828316651861883, 0.8024481785021805, 0.9993214483389966, 0.0016851829812990255, 0.9972070291836983, 0.00042129574532475636, 0.9996913565221984, 0.00016600653545702397, 0.00016600653545702397, 0.9995975784769179, 0.9974978170189194, 0.0021874952127607884, 0.0003080114825807538, 0.8873810813151517, 0.0003080114825807538, 0.11150015669423288, 0.0009240344477422614, 0.0005371805969533287, 0.9943212849606116, 0.003760264178673301, 0.0005371805969533287, 0.0005371805969533287, 0.011661071262485286, 0.00035880219269185496, 0.0005382032890377824, 0.9712775356168513, 0.013993285514982343, 0.0012558076744214922, 0.0008970054817296373, 0.9931814372830203, 0.0036698004064874786, 0.003002563968944301, 0.9983815624555481, 0.00039500754201999926, 0.00019750377100999963, 0.00039500754201999926, 0.00019750377100999963, 0.00039500754201999926, 0.9981859695989928, 0.0008325154041693018, 0.998397209396428, 0.0025507774278075404, 0.0012753887139037702, 0.9948031968449408, 0.0004225794178435313, 0.001267738253530594, 0.9977100055285774, 0.0004225794178435313, 0.03726747080044967, 0.6897694811083227, 0.0004819069500058147, 0.000642542600007753, 0.04610243155055627, 0.2231229178526922, 0.002570170400031012, 0.9991763762912828, 0.9989599036822921, 0.0005453044020575579, 0.9993612008374844, 0.0003155252728920353, 0.9916959326996669, 0.0003155252728920353, 0.0006310505457840706, 0.0009465758186761059, 0.0022086769102442473, 0.0037863032747044237, 0.0003324726696548026, 0.0003324726696548026, 0.9994128449823365, 0.9972097783106099, 0.00018055581718461159, 0.00018055581718461159, 0.00036111163436922317, 0.0012638907202922813, 0.0005416674515538348, 0.00018055581718461159, 0.0002869972336485258, 0.0001434986168242629, 0.058977931514772056, 0.001434986168242629, 0.9343194941427758, 0.004878952972024939, 8.748325757696943e-05, 0.034293436970172016, 0.004461646136425441, 0.004811579166733318, 0.08818312363758518, 0.8638096853149961, 0.004286679621271502, 0.0018139315656200087, 0.9917670835027397, 0.0024941559027275117, 0.0004534828914050022, 0.0015871901199175076, 0.0015871901199175076, 0.0007470184300582565, 0.0004980122867055043, 0.9985146348445362, 0.11769267652989655, 0.004520645853466225, 0.0009353060386481846, 0.5876839609506093, 0.007482448309185477, 0.0004676530193240923, 0.28137123329332886, 0.9995602140174995, 0.9996063831389221, 0.999620411959885, 0.0049262379728055306, 0.00022391990785479687, 0.9937565510595885, 0.00022391990785479687, 0.0006717597235643905, 0.9991583009746263, 0.00042517374509558564, 0.026814929877182127, 0.0003972582204026982, 0.0001986291102013491, 0.0001986291102013491, 0.035554610726041484, 0.04151348403208196, 0.8954200287876817, 0.0056236008403045875, 0.9937706056366822, 0.9986950044309449, 0.00964841406474056, 0.9901864941665088, 0.9992198535738, 0.000319239569831885, 0.9997205454887639, 0.0010677476660730717, 0.996920404223558, 0.0014236635547640957, 0.0003429080987198061, 0.0003429080987198061, 0.9992341996695149, 0.9987430237352101, 0.000185779006530344, 0.009474729333047544, 0.000557337019591032, 0.000371558013060688, 0.9894589887806122, 0.0005349341427888859, 0.5283620947489082, 0.03568774924034425, 0.0030567665302222054, 0.4309276615980754, 0.00038209581627777567, 0.0010698682855777718, 0.04604259788313149, 0.9428107351145848, 0.0007083476597404845, 0.0017708691493512113, 0.007437650427275087, 0.0010625214896107268, 0.9994932698990487, 0.9991968160904037, 0.9995748444801442, 0.00017714900946627315, 0.00017714900946627315, 0.005314470283988195, 0.0005314470283988195, 0.0003542980189325463, 0.0040744272177242824, 0.9893772178691356, 0.00038329919277066643, 0.0007665983855413329, 0.9933198580651821, 0.00038329919277066643, 0.0013415471746973326, 0.004024641524091997, 0.0002734924196191786, 0.9851196954682814, 0.0002734924196191786, 0.0038288938746685007, 0.008478265008194538, 0.0010939696784767145, 0.0008204772588575359, 0.9998269876503787, 0.9994971352976229, 0.0011993645424132765, 0.0003997881808044255, 0.001599152723217702, 0.0003997881808044255, 0.9962721465646284, 0.0005165348568720225, 0.009555894852132416, 0.00025826742843601124, 0.9258887309431003, 0.006714953139336293, 0.05630229939905045, 0.0007748022853080337, 0.00039230681499763647, 0.9995977646139776, 0.0021451144481848135, 0.00015322246058462952, 0.00045966738175388857, 0.9962524387212612, 0.00045966738175388857, 0.00045966738175388857, 0.0011781662062120156, 0.000523629424983118, 0.9736889157561079, 0.024217860905469207, 0.0001309073562457795, 0.000261814712491559, 0.9995611777734189, 0.056606141364946544, 0.018011044979755718, 0.9249958100317401, 0.9991370859068348, 0.0008960137938838434, 0.9986073732835435, 0.9998416988837044, 0.998976972392974, 0.9965193478474856, 0.0027515490506603377, 0.0009171830168867792, 0.9991861194936561, 0.0006767681941326907, 0.004737377358928835, 0.0013535363882653815, 0.9928189407926573, 5.439170362211541e-05, 0.00027195851811057705, 5.439170362211541e-05, 0.00010878340724423082, 0.9993931623527486, 5.439170362211541e-05, 5.439170362211541e-05, 0.9984032476915466, 0.9994421309184113, 0.006527981344735523, 0.9934400700988423, 0.0003104547146878454, 0.0003104547146878454, 0.0003104547146878454, 0.0003104547146878454, 0.0003104547146878454, 0.9987328171507986, 0.9751801854036916, 0.00245372440612, 0.022083519655080004, 0.00035053205801714287, 0.00035053205801714287, 0.00016535376813736673, 0.00016535376813736673, 0.9965871605639093, 0.002976367826472601, 0.9995799273034962, 0.0002602395020316314, 0.0008872214593589943, 0.9892519271852787, 0.00044361072967949715, 0.008872214593589943, 0.00044361072967949715, 0.000382804553339815, 0.00153121821335926, 0.9941434250234995, 0.00382804553339815, 0.9989360277718657, 0.0006431883570663219, 0.999193112702531, 0.00032159417853316094, 0.0010095317035147256, 0.9947252385298431, 0.0016825528391912095, 0.0003365105678382419, 0.002019063407029451, 0.007948448677156075, 0.9916858614263548, 0.00034996012922259857, 0.9938867669921799, 0.0013998405168903943, 0.0013998405168903943, 0.0027996810337807885, 0.0007148947829357688, 0.9994229065442048, 0.0003228312737657877, 0.0006456625475315754, 0.9985171297575814, 0.0003228312737657877, 0.016064692258976592, 0.00514070152287251, 0.9250049802718723, 0.053334778299802287, 0.9987666674987528, 0.9981673152668461, 0.9995670734162423, 0.9996428099016992, 0.9996168447312267, 0.00024098766748583092, 0.00024098766748583092, 0.09376887064052747, 0.000348151747427701, 0.9028735316625046, 0.0002321011649518007, 0.00011605058247590035, 0.0026691633969457076, 0.0006441322609594002, 0.9990491367480296, 0.00040010341991669274, 0.0008002068398333855, 0.9982580326921484, 0.00040010341991669274, 0.999155832549674, 0.9930538662060412, 0.0002904090850141954, 0.004936954445241322, 0.0007260227125354885, 0.0010164317975496838, 0.9994984195827138, 0.9668484525697111, 0.0002938749095956569, 0.01998349385250467, 0.007052997830295765, 0.0014693745479782843, 0.004408123643934853, 0.9986143783813269, 0.0011531343861216246, 0.9994641786422048, 0.9997348848503301, 0.00028620618075494167, 0.00028620618075494167, 0.9980009522924816, 0.0011448247230197667, 0.00028620618075494167, 0.001300925481308146, 0.997809844163348, 0.9954936375009199, 0.0029171974725301685, 0.00036464968406627106, 0.0007292993681325421, 0.0008188221363165616, 0.00027294071210552055, 0.9765818679135525, 0.0005458814242110411, 0.0008188221363165616, 0.02074349412001956, 0.0005543979044849, 0.9990250238817898, 0.9051367631201309, 0.09451460114579202, 0.9995440570087101, 0.0013024550185602732, 0.9976805442171692, 0.998284013630595, 0.00038062535025645583, 0.00019031267512822792, 0.9993318570983248, 0.07470015652286925, 0.0005599711883273557, 0.08679553419074014, 0.004479769506618846, 0.8287573587244865, 0.0002239884753309423, 0.004479769506618846, 0.9995883209502511, 0.0041542661956169655, 0.022136304156644686, 0.0014836664984346304, 0.0011275865388103191, 0.01341234514584906, 0.00047477327949908176, 0.9571429314701488, 0.0018615060590191689, 0.9977672476342745, 0.0007557852918771075, 0.024563021986005993, 0.007179960272832521, 0.967027280956759, 0.9997023746920051, 0.0001551218705034451, 0.004033168633089572, 0.995727286761614, 0.003346828471902373, 0.8975661133228727, 0.0008325443959956153, 0.014136603844005547, 0.012371609724494841, 0.04284273461793436, 0.028889290541047847, 0.0026023112920910917, 0.9953840692248426, 0.9999516415960457, 0.9988145520705044, 0.0007935496970899135, 0.0003484420075392564, 0.9995639722942802, 0.00029781741385057753, 0.00029781741385057753, 0.9991774234686875, 0.0006431883570663219, 0.999193112702531, 0.00032159417853316094, 0.002479806609312377, 0.0006048308803200919, 0.0017540095529282665, 0.00012096617606401838, 6.048308803200919e-05, 0.994100034894103, 0.0008467632324481287, 0.008992786355764431, 0.0007493988629803692, 0.012240181428679364, 0.928255391611684, 0.04846112647273054, 0.0002497996209934564, 0.0012489981049672821, 0.9998046575905705, 0.9936244156428746, 0.006419354784956273, 0.0005448619104323372, 0.2880866541092577, 0.0022157717690915045, 0.004140950519285762, 0.005085377830701813, 0.6825666772622698, 0.017399257006472633, 0.00025176014148948177, 0.02567953443192714, 0.14325152050751513, 0.06696819763620215, 0.002265841273405336, 0.7613226678641929, 0.001940670862266144, 0.000970335431133072, 0.0029110062933992162, 0.9945938169113988, 0.9996383076810963, 0.0003724135570609571, 0.9991855735945478, 0.9998112902991899, 0.0003092934921807351, 0.8947860728788666, 0.002783641429626616, 0.0012371739687229405, 0.060312230975243346, 0.03464087112424233, 0.005876576351433967, 0.0002651295276207072, 0.0012667299652989344, 0.24056085806118832, 0.5050717501174472, 0.22765788771698056, 0.024981093269151076, 0.00020621185481610558, 0.000549992397183981, 0.000549992397183981, 0.9982362008889256, 0.9993825107021759, 0.0004894135703732497, 0.9988097513093795, 0.00024209340943961256, 0.970431431738687, 0.02106212662124629, 0.007989082511507215, 0.00024209340943961256, 0.9997192825289448, 0.0018684600146223276, 0.9969272211351574, 0.00020760666829136972, 0.0008304266731654789, 0.00038236461027253585, 0.007264927595178182, 0.991853799046958, 0.0004037544558315005, 0.013727651498271019, 0.0004037544558315005, 0.008882598028293012, 0.002422526734989003, 0.9742595019214108, 0.0056215010757016915, 0.0026454122709184433, 0.004629471474107276, 0.002314735737053638, 0.004298794940242471, 0.9804559229091481, 0.0003439461817172987, 0.0011178250905812207, 0.000257959636287974, 0.9966700480713023, 0.0012038116360105454, 0.0003439461817172987, 8.598654542932467e-05, 0.000209781917837258, 0.003566292603233386, 0.996044545891301, 0.9995230985405302, 0.040236646830640405, 0.01535039705677611, 0.13326935626564712, 0.000581454433968792, 0.009652143603881948, 0.7944993385749575, 0.0062797078868629536, 0.9993187410772466, 0.000692528580095112, 0.9992754214304256, 0.9990521272056998, 0.0005391538732896383, 0.9994129511150861, 0.9995078193206645, 0.014625812993571574, 0.9633001215492072, 0.02183854268903153, 0.0002003536026516654, 0.013501149958050946, 0.000329296340440267, 0.002305074383081869, 0.001317185361761068, 0.9822909835333165, 0.9986723596854589, 0.018152657526674686, 0.9750570328613831, 0.0012966183947624775, 0.0054457972580024055, 0.0005144966364224768, 0.0010289932728449536, 0.9986379712960275, 0.0004086936989131114, 0.004904324386957337, 0.00027246246594207427, 0.9804561836925543, 0.0024521621934786683, 0.0012260810967393342, 0.010626036171740896, 0.9998187979163349, 0.9996603424008209, 0.9970346870458542, 0.001540218363098642, 0.0010268122420657613, 0.9995774721831252, 0.0018698175679792354, 0.00046745439199480886, 0.00046745439199480886, 0.0023372719599740444, 0.00420708952795328, 0.00046745439199480886, 0.990535856637, 0.0003341331988957913, 0.999058264698416, 0.9893767162362583, 0.001181580473212092, 0.002363160946424184, 0.00039386015773736397, 0.005710972287191777, 0.0009846503943434098, 0.035163415252186976, 0.00027907472422370616, 0.00027907472422370616, 0.9625287238475626, 0.0013953736211185308, 0.00148512856400658, 0.7256709445877152, 0.001113846423004935, 0.24114775058056842, 0.008539489243037835, 0.019121030261584716, 0.0030630776632635712, 0.9991114019089645, 0.00019698568649624695, 0.0003939713729924939, 0.9994237288503238, 0.0012762538059456982, 0.0002320461465355815, 0.0007541499762406398, 0.004698934467345525, 5.801153663389537e-05, 0.9928094379524854, 0.0002320461465355815, 0.8413564972645389, 0.042822712421947164, 0.11584092719270322, 0.9845114528365767, 0.015333983690198009, 0.0005818031058912212, 0.998955932815227, 0.8719428990680275, 0.0018980672618694504, 0.00014600517398995772, 0.12235233580358457, 0.0004380155219698731, 0.002044072435859408, 0.0011680413919196617, 0.9996495265978755, 0.011463253565705595, 0.001993609315774886, 0.9858398066506812, 0.0002492011644718608, 0.0002492011644718608, 0.0005410612662075865, 0.009739102791736558, 0.9890599946274681, 0.998811367519193, 0.0011581550712696227, 0.002766703781366321, 0.00012868389680773586, 0.7421843748386165, 0.0003217097420193397, 0.0006434194840386794, 0.25273517333039325, 0.0011165315384434305, 0.9981791953684269, 0.8571668729762665, 0.00023548540466380947, 0.0021193686419742853, 0.14034930117963046, 0.9998775259232473, 0.9612693113656591, 0.000484999652555832, 0.000161666550851944, 0.000161666550851944, 0.001454998957667496, 0.001293332406815552, 0.035081641534871845, 0.00032920248937597725, 0.00010973416312532574, 0.9982516819510883, 0.0009876074681279318, 0.00010973416312532574, 0.00010973416312532574, 0.00021946832625065147, 0.00045994269928334886, 0.00045994269928334886, 0.9989955428434337, 0.012035935765379972, 0.0010029946471149978, 0.9866124012121193, 0.007509022385279895, 0.019651271348711214, 0.0038343944095046273, 0.0001597664337293595, 0.6766108468438374, 0.29205304085726913, 0.0001597664337293595, 0.001036329478106658, 0.9990216168948182, 0.9989289294630791, 0.0005928361599187412, 0.0020648011878872893, 0.0010324005939436446, 0.0010324005939436446, 0.9962665731556171, 0.9999462976332003, 0.9994772518422547, 0.9992122994134758, 0.9864387762285789, 0.008582297591477337, 0.003678127539204573, 0.000700595721753252, 0.0005254467913149391, 0.999580651996842, 0.04659883521997599, 0.0019829291582968505, 0.9263584051176786, 0.019829291582968506, 0.0003304881930494751, 0.0003304881930494751, 0.004626834702692651, 0.0009131471225644251, 0.9986785697112929, 0.011329861721631241, 0.00034332914307973455, 0.9881012737834761, 0.0012982340106396353, 0.0012982340106396353, 0.0012982340106396353, 0.0012982340106396353, 0.9957454861606003, 0.0012982340106396353, 0.0024009156256970788, 0.0006859758930563082, 0.0010289638395844622, 0.9919211413594216, 0.0003429879465281541, 0.003772867411809695, 0.00017812552461465226, 0.9431746528345837, 0.0003562510492293045, 0.00017812552461465226, 0.0003562510492293045, 0.0003562510492293045, 0.05557516367977151, 0.9953994035629956, 0.9964312279070203, 0.0001991667455340836, 0.0011950004732045017, 0.0003983334910681672, 0.0001991667455340836, 0.0001991667455340836, 0.0015933339642726688, 0.9994372057737366, 0.9995334588049747, 0.0005834320692241088, 0.9988357025116743, 0.0019163284765139259, 0.00031938807941898765, 0.00031938807941898765, 0.9798826276574542, 0.017246956288625333, 0.0003577116779772331, 0.9994464282683893, 0.0001546295197177545, 0.9996798449752828, 0.9936549575713668, 0.0058848383628745445, 0.0002942419181437272, 0.0003219895587387281, 0.8268691868410537, 0.1727473982633276, 0.9994129766166585, 0.9994652732979593, 0.9994818020899915, 0.9985625509022283, 0.0014577555487623772, 0.9995462068162767, 0.0002670284214361977, 0.9946808698498366, 0.002670284214361977, 0.0002670284214361977, 0.0005340568428723955, 0.0016021705286171865, 0.9959813103946678, 0.0015168768053528292, 0.002427002888564527, 0.9997167534632255, 0.0003744233733753405, 0.9959661731784056, 0.0018721168668767024, 0.001497693493501362, 0.9989527352925185, 0.9995413353687101, 0.9993832505382744, 0.9992626470274449, 0.999522323490568, 0.9997113156649541, 0.9997363828657025, 0.00046246050159082946, 0.9938276179186925, 0.004162144514317465, 0.0009249210031816589, 0.9991549318770311, 0.9995653657721721, 0.9969673020224247, 0.0005941402276653305, 0.00029707011383266527, 0.0014853505691633264, 0.00029707011383266527, 0.9992319681599395, 0.0021757935620291577, 0.23656810001698841, 0.002966991220948851, 0.0021757935620291577, 0.754011368950468, 0.0009889970736496171, 0.0009889970736496171, 0.00025986953278574947, 0.9989384840284209, 0.0005197390655714989, 0.9991112196462708, 0.9989819988565719, 0.0005787844721069363, 0.9998123975311431, 0.999873078811497, 0.9997923055247969, 0.0002942428837827368, 0.9995430762099567, 0.039229868758070524, 0.9586799177753484, 0.0013621482207663378, 0.00027242964415326754, 0.0005448592883065351, 0.00034606969028710873, 0.9973728474074474, 0.0006921393805742175, 0.0010382090708613261, 0.00034606969028710873, 0.9990628676259463, 0.3811713120293249, 0.0002389788790152507, 0.2929881056726974, 0.08065537166764712, 0.15581422911794346, 0.001314383834583879, 0.08782473803810464, 0.9994225857796352, 0.0005867209388093163, 0.9991857587922656, 0.0004895677141906285, 0.9992077046630727, 0.010048020788180477, 0.0015290466416796376, 0.014853595947745052, 0.9102196222684358, 0.03800773080746528, 0.0013106114071539752, 0.024027875797822878, 0.0005747249226707429, 0.0031609870746890857, 0.9951362036043914, 0.0011494498453414857, 0.9742099340256768, 0.0007379260218343257, 0.02213778065502977, 0.0028041188829704376, 0.9987945709624863, 0.0007538072233679141, 0.999429065027727, 0.0004006830267282848, 0.9993034686603424, 0.07697449796312143, 0.0003148241225485539, 0.002990829164211262, 0.00015741206127427694, 0.9142492518810006, 0.005037185960776862, 0.00015741206127427694, 0.987072735940441, 0.0006047004712724776, 0.009876774364117134, 0.00040313364751498506, 0.0008062672950299701, 0.0010078341187874627, 0.00010078341187874627, 0.0002776854014059898, 0.014439640873111467, 0.9846724333856397, 0.0002776854014059898, 0.0002293959719428729, 0.018581073727372704, 0.0016057718036001103, 0.0002293959719428729, 0.9792914042241243, 0.9993127707282395, 0.9998571177376897, 0.0013015983143885579, 0.0026031966287771158, 0.9957227105072468, 0.0011141119349982408, 0.0005570559674991204, 0.0072417275774885655, 0.9910025661809352, 0.000292311339568603, 0.000584622679137206, 0.0020461793769802213, 0.001461556697843015, 0.016661746355410373, 0.9786583648756829, 0.9992893787745845, 0.00731070385662687, 0.0014672891543229987, 0.9815134765821336, 0.0038355453332302946, 0.002136578944014191, 0.002754384903729138, 0.000952450854560543, 0.0007665083452740685, 0.9982813061763149, 9.581354315925856e-05, 0.0005748812589555514, 0.00019162708631851713, 9.581354315925856e-05, 0.0006608441762740421, 0.00033042208813702104, 0.9978747061738035, 0.0006608441762740421, 0.0006608441762740421, 0.9996795910818523, 0.002720677294232105, 0.00017004233088950657, 0.9949176780345029, 0.00017004233088950657, 0.002040507970674079, 0.9998850003772953, 0.9290855664443298, 0.020865900746269768, 0.009068925059332796, 0.01105966470650341, 0.0012534286667370532, 0.013419059843890805, 0.015336068393018062, 0.0003326995600407646, 0.0006909913939308189, 0.04598931610717339, 0.00028151501234218546, 0.00023033046464360628, 0.9446620123249773, 0.007831235797882613, 0.00038505932804823966, 0.00012835310934941323, 0.9985871907384348, 0.0005134124373976529, 0.00012835310934941323, 0.00025670621869882646, 0.9998554999307897, 0.9988313510108748, 0.00032127036183489903, 0.9811596850437816, 0.00032127036183489903, 0.018151775443671796, 0.9994645799203415, 0.9996460394246968, 0.0016752804792614419, 0.9915799014473001, 0.00316441868304939, 0.002792134132102403, 0.0007445691018939742, 0.0009649481979719657, 0.0030878342335102903, 0.9859840686877546, 0.005210720269048615, 0.004438761710671042, 0.0003859792791887863, 0.000495065427436479, 0.00019802617097459163, 0.04227858750307531, 0.0005940785129237748, 0.9537930524991205, 0.0018812486242586204, 0.0006930915984110707, 0.0012385454806067833, 0.00020642424676779722, 0.00020642424676779722, 0.00020642424676779722, 0.0006192727403033916, 0.9978548088755318, 0.007361474537703327, 0.9852106756292952, 0.007361474537703327, 0.9997494982504973, 0.0038175359479246983, 0.00872579645239931, 0.8044093604555614, 0.015270143791698793, 0.005453622782749569, 0.020178404296173406, 0.14233955462976375, 0.9826401053389607, 0.008057429115712686, 0.001464987111947761, 0.0051274548918171636, 0.00036624677798694025, 0.0018312338899347013, 0.00036624677798694025, 0.0014662097890756206, 0.9943834789510859, 0.0005864839156302482, 0.0002932419578151241, 0.0011729678312604964, 0.0011729678312604964, 0.0011729678312604964, 0.9994921903544683, 0.9997278171103492, 0.9999758996292459, 0.999652783325552, 0.00027171861465766564, 0.004413567797105043, 0.0003677973164254202, 0.9904781731336567, 0.004781365113530463, 0.0005767205563120371, 0.00028836027815601855, 0.0005767205563120371, 0.00028836027815601855, 0.001441801390780093, 0.00028836027815601855, 0.9968614815853561, 0.9990282334073696, 0.0007082794990481173, 0.9975008069850764, 0.0008609749660975615, 0.001434958276829269, 0.05395443120878052, 0.0002869916553658538, 0.9433415711875615, 0.0002869916553658538, 0.001973609012881262, 0.000986804506440631, 0.0004934022532203155, 0.9961791492518169, 0.0002421342058942678, 0.9997721361374318, 0.7072500353715743, 0.008634573128842749, 0.013998474617972335, 0.0032270626845169867, 0.0010902238799043874, 0.26126125058028743, 0.004578940295598427, 0.9992874282614396, 0.9990199070835963, 0.0007334947922787051, 0.9989120837512987, 0.9988182302688738, 0.0006119145816021025, 0.9986445971746313, 0.9970946368632108, 0.0003152370018536866, 0.0025218960148294927, 0.9988404686456971, 0.000446309414050803, 0.000892618828101606, 0.9996854558282213, 0.9990774937595953, 0.00015854397493723568, 0.9994612180043337, 0.00031708794987447136, 0.9614831442426757, 0.0013347753043628074, 0.0002224625507271346, 0.025138268232166208, 0.003781863362361288, 0.0057840263189054995, 0.0022246255072713456, 0.00019521332606697788, 0.8567912881079659, 0.13860146150755429, 0.0023425599128037346, 0.0011712799564018673, 0.0007808533042679115, 0.999231531157788, 0.9943496049980214, 0.00030315536737744557, 0.00030315536737744557, 0.002122087571642119, 0.0006063107347548911, 0.0024252429390195646, 0.6257610113264536, 0.35764704563598004, 0.011161305359060436, 0.0004852741460461059, 0.0016984595111613706, 0.0007279112190691588, 0.0025476892667420556, 0.007395160486690474, 0.0014790320973380947, 0.0014328123442962793, 0.005869908636310563, 0.003189162959885267, 0.9364584163802231, 0.044232303661017394, 0.0022828625854369846, 0.002608985811927982, 0.9920668549856152, 0.002608985811927982, 0.00032612322649099777, 0.00032612322649099777, 0.9996593878052694], \"Term\": [\"abraham\", \"abraham\", \"abundance\", \"abundance\", \"abundance\", \"abundance\", \"abundance\", \"abundance\", \"abundance\", \"accept\", \"accept\", \"accept\", \"accept\", \"accept\", \"accept\", \"acceptance\", \"acceptance\", \"acceptance\", \"act\", \"act\", \"act\", \"act\", \"act\", \"act\", \"act\", \"action\", \"action\", \"action\", \"action\", \"action\", \"action\", \"action\", \"activity\", \"aim\", \"aim\", \"aim\", \"aim\", \"albert\", \"alcott\", \"allow\", \"allow\", \"allow\", \"allow\", \"amp\", \"amp\", \"amp\", \"amp\", \"amp\", \"amp\", \"amp\", \"andrew\", \"angel\", \"anger\", \"anger\", \"annaeus\", \"answer\", \"answer\", \"answer\", \"answer\", \"ashamed\", \"ask\", \"ask\", \"ask\", \"ask\", \"ask\", \"ask\", \"attain\", \"attempt\", \"attempt\", \"attract\", \"attract\", \"attract\", \"avoid\", \"avoid\", \"avoid\", \"axe\", \"ayn\", \"babe\", \"bach\", \"bach\", \"bag\", \"balfour\", \"beauty\", \"beauty\", \"begin\", \"begin\", \"begin\", \"begin\", \"begin\", \"begin\", \"begin\", \"ben\", \"benefit\", \"benjamin\", \"benjamin\", \"bertrand\", \"bind\", \"bite\", \"bite\", \"blessing\", \"blessing\", \"block\", \"body\", \"body\", \"body\", \"body\", \"body\", \"body\", \"bonaparte\", \"bonaparte\", \"bonaparte\", \"brault\", \"brault\", \"brault\", \"bring\", \"bring\", \"bring\", \"bring\", \"bring\", \"bring\", \"brinkley\", \"build\", \"build\", \"build\", \"build\", \"build\", \"build\", \"business\", \"business\", \"business\", \"business\", \"car\", \"care\", \"care\", \"care\", \"care\", \"care\", \"carl\", \"carnegie\", \"carnegie\", \"carnegie\", \"case\", \"celebrate\", \"challenge\", \"challenge\", \"challenge\", \"challenge\", \"challenge\", \"change\", \"change\", \"change\", \"change\", \"change\", \"change\", \"change\", \"child\", \"child\", \"choice\", \"choice\", \"choice\", \"choice\", \"choice\", \"choice\", \"choice\", \"churchill\", \"churchill\", \"churchill\", \"come\", \"come\", \"come\", \"come\", \"come\", \"come\", \"come\", \"complicated\", \"conflict\", \"confuciu\", \"conscience\", \"consequence\", \"consequence\", \"consist\", \"consist\", \"contemplate\", \"contentment\", \"control\", \"control\", \"controversy\", \"conversation\", \"conversation\", \"conversation\", \"corner\", \"counsel\", \"courage\", \"courage\", \"courage\", \"courage\", \"courage\", \"covey\", \"create\", \"create\", \"create\", \"create\", \"create\", \"create\", \"create\", \"criticize\", \"criticize\", \"criticize\", \"criticize\", \"criticize\", \"culture\", \"cycle\", \"dalai\", \"dalai\", \"david\", \"david\", \"david\", \"david\", \"david\", \"david\", \"david\", \"day\", \"day\", \"day\", \"day\", \"day\", \"day\", \"day\", \"death\", \"decide\", \"decide\", \"decide\", \"decide\", \"decide\", \"decide\", \"decision\", \"decision\", \"decision\", \"decision\", \"decision\", \"decision\", \"decision\", \"defeat\", \"defeat\", \"define\", \"define\", \"delight\", \"denis\", \"denis\", \"denis\", \"describe\", \"desire\", \"desire\", \"desire\", \"desire\", \"desire\", \"desire\", \"dictate\", \"didion\", \"difference\", \"difference\", \"difference\", \"difference\", \"difference\", \"difficulty\", \"difficulty\", \"difficulty\", \"difficulty\", \"difficulty\", \"difficulty\", \"dig\", \"discourage\", \"discouragement\", \"discover\", \"distance\", \"dog\", \"dog\", \"dog\", \"dog\", \"dog\", \"dr\", \"dr\", \"dr\", \"dream\", \"dream\", \"dream\", \"dream\", \"dream\", \"dream\", \"dream\", \"drucker\", \"dwell\", \"dyer\", \"dyer\", \"dyer\", \"dyer\", \"dyer\", \"dyer\", \"dyer\", \"ease\", \"ease\", \"ease\", \"edge\", \"edison\", \"edison\", \"edison\", \"eggleston\", \"ego\", \"ego\", \"ego\", \"einstein\", \"einstein\", \"einstein\", \"eleanor\", \"eliot\", \"eliot\", \"emerson\", \"emerson\", \"emerson\", \"emerson\", \"emerson\", \"emotion\", \"emotion\", \"emotion\", \"emotion\", \"emotion\", \"end\", \"end\", \"end\", \"end\", \"end\", \"end\", \"end\", \"enemy\", \"enemy\", \"enemy\", \"energy\", \"energy\", \"energy\", \"energy\", \"energy\", \"energy\", \"enjoy\", \"enjoy\", \"evidence\", \"excuse\", \"excuse\", \"excuse\", \"expectation\", \"expectation\", \"expectation\", \"expectation\", \"experience\", \"experience\", \"experience\", \"experience\", \"experience\", \"experience\", \"experience\", \"expertise\", \"explain\", \"eye\", \"eye\", \"fact\", \"fact\", \"fact\", \"fact\", \"fact\", \"fact\", \"fact\", \"fail\", \"fail\", \"fail\", \"failure\", \"failure\", \"failure\", \"failure\", \"failure\", \"failure\", \"failure\", \"fall\", \"fall\", \"fall\", \"fall\", \"fall\", \"fall\", \"feel\", \"feel\", \"feel\", \"feel\", \"feel\", \"feel\", \"feel\", \"feeling\", \"feeling\", \"feeling\", \"feeling\", \"feeling\", \"feeling\", \"fight\", \"fight\", \"fight\", \"find\", \"find\", \"find\", \"find\", \"find\", \"find\", \"find\", \"finger\", \"fire\", \"floor\", \"fool\", \"fool\", \"fool\", \"fool\", \"fool\", \"foot\", \"foot\", \"forget\", \"forget\", \"forget\", \"forget\", \"forget\", \"forget\", \"forget\", \"fortune\", \"fortune\", \"foundation\", \"franklin\", \"franklin\", \"frustration\", \"frustration\", \"fuller\", \"game\", \"game\", \"game\", \"gandhi\", \"gandhi\", \"gandhi\", \"garland\", \"george\", \"george\", \"george\", \"george\", \"george\", \"get\", \"get\", \"get\", \"get\", \"get\", \"get\", \"get\", \"gift\", \"gift\", \"gift\", \"gift\", \"gift\", \"gift\", \"giving\", \"glasgow\", \"glory\", \"go\", \"go\", \"go\", \"go\", \"go\", \"go\", \"go\", \"goal\", \"goal\", \"goal\", \"goal\", \"goal\", \"goal\", \"god\", \"god\", \"god\", \"god\", \"god\", \"god\", \"god\", \"goethe\", \"gogh\", \"guidance\", \"guidance\", \"guidance\", \"guidance\", \"guidance\", \"habit\", \"habit\", \"habit\", \"habit\", \"habit\", \"habit\", \"habit\", \"hand\", \"hand\", \"happen\", \"happen\", \"happen\", \"happen\", \"happen\", \"happen\", \"happiness\", \"happiness\", \"happiness\", \"happiness\", \"happiness\", \"happiness\", \"harder\", \"harm\", \"harm\", \"harm\", \"harmony\", \"harry\", \"harry\", \"harvest\", \"having\", \"hay\", \"hay\", \"hay\", \"heal\", \"health\", \"health\", \"health\", \"health\", \"heart\", \"heart\", \"heart\", \"heart\", \"heart\", \"heart\", \"heart\", \"height\", \"helen\", \"hell\", \"hell\", \"help\", \"help\", \"help\", \"help\", \"help\", \"help\", \"hemingway\", \"hemingway\", \"hemingway\", \"hemingway\", \"hemingway\", \"henry\", \"henry\", \"henry\", \"henry\", \"history\", \"history\", \"honor\", \"honor\", \"honor\", \"honor\", \"honor\", \"hope\", \"hope\", \"hope\", \"hope\", \"howard\", \"huie\", \"huie\", \"huie\", \"idea\", \"idea\", \"idea\", \"idea\", \"idea\", \"impact\", \"impact\", \"inspire\", \"inspire\", \"inspire\", \"inspire\", \"inspire\", \"intelligence\", \"intelligence\", \"intent\", \"intent\", \"intent\", \"intent\", \"intention\", \"intention\", \"intention\", \"intention\", \"interest\", \"iv\", \"jack\", \"jerry\", \"jim\", \"jim\", \"jim\", \"john\", \"john\", \"john\", \"john\", \"john\", \"john\", \"jonathan\", \"jonathan\", \"journey\", \"journey\", \"journey\", \"journey\", \"jr\", \"judge\", \"judge\", \"judge\", \"judge\", \"judge\", \"jung\", \"keep\", \"keep\", \"keep\", \"keep\", \"keep\", \"keep\", \"keller\", \"keller\", \"kennedy\", \"kill\", \"kind\", \"kind\", \"kind\", \"kind\", \"kind\", \"kindness\", \"kindness\", \"king\", \"king\", \"king\", \"king\", \"know\", \"know\", \"know\", \"know\", \"know\", \"know\", \"lady\", \"lady\", \"lama\", \"lama\", \"lao\", \"laughing\", \"laughing\", \"lay\", \"leader\", \"leader\", \"leader\", \"learn\", \"learn\", \"learn\", \"learn\", \"learn\", \"learn\", \"learn\", \"lengthen\", \"let\", \"let\", \"let\", \"let\", \"let\", \"let\", \"let\", \"letter\", \"letter\", \"level\", \"level\", \"level\", \"level\", \"lewis\", \"lie\", \"lie\", \"lie\", \"life\", \"life\", \"life\", \"life\", \"life\", \"life\", \"life\", \"lifetime\", \"lifetime\", \"light\", \"limit\", \"limit\", \"lincoln\", \"lincoln\", \"living\", \"living\", \"living\", \"lockwood\", \"lockwood\", \"lockwood\", \"look\", \"look\", \"look\", \"look\", \"look\", \"look\", \"look\", \"lose\", \"lose\", \"lose\", \"lose\", \"lose\", \"lose\", \"lose\", \"louisa\", \"louise\", \"louise\", \"love\", \"love\", \"love\", \"love\", \"love\", \"love\", \"love\", \"loving\", \"loving\", \"loving\", \"loving\", \"loving\", \"loving\", \"lucas\", \"lucas\", \"lucas\", \"lucas\", \"lucius\", \"mahatma\", \"mahatma\", \"mail\", \"make\", \"make\", \"make\", \"make\", \"make\", \"make\", \"make\", \"man\", \"man\", \"man\", \"man\", \"man\", \"man\", \"man\", \"mandela\", \"mandela\", \"mandela\", \"martin\", \"martin\", \"material\", \"matter\", \"matter\", \"matter\", \"matter\", \"matter\", \"maya\", \"mean\", \"mean\", \"mean\", \"mean\", \"mediocrity\", \"mediocrity\", \"mediocrity\", \"meet\", \"meet\", \"meet\", \"meet\", \"meet\", \"meet\", \"michael\", \"michael\", \"michael\", \"michael\", \"michael\", \"michael\", \"mind\", \"mind\", \"mind\", \"mind\", \"mind\", \"mind\", \"mind\", \"miracle\", \"miracle\", \"miracle\", \"mlk\", \"moment\", \"moment\", \"moment\", \"moment\", \"moment\", \"moment\", \"moment\", \"monroe\", \"monroe\", \"motivation\", \"mountain\", \"mountain\", \"music\", \"nader\", \"napoleon\", \"napoleon\", \"napoleon\", \"napoleon\", \"need\", \"need\", \"need\", \"need\", \"need\", \"noise\", \"obstacle\", \"obstacle\", \"obstacle\", \"obstacle\", \"opinion\", \"opinion\", \"opinion\", \"opportunity\", \"opportunity\", \"opportunity\", \"opportunity\", \"opportunity\", \"opportunity\", \"opportunity\", \"optimism\", \"optimist\", \"order\", \"order\", \"order\", \"page\", \"pain\", \"pain\", \"pain\", \"pain\", \"pain\", \"pain\", \"pain\", \"pass\", \"pass\", \"passion\", \"passion\", \"passion\", \"passion\", \"passion\", \"passion\", \"path\", \"path\", \"path\", \"path\", \"path\", \"peace\", \"peace\", \"peace\", \"peace\", \"peace\", \"peace\", \"peace\", \"peale\", \"peale\", \"peale\", \"percent\", \"person\", \"person\", \"person\", \"person\", \"person\", \"person\", \"person\", \"pessimist\", \"pessimist\", \"pessimist\", \"peter\", \"peter\", \"pickford\", \"pickford\", \"place\", \"place\", \"place\", \"place\", \"place\", \"place\", \"place\", \"plant\", \"play\", \"play\", \"play\", \"play\", \"play\", \"point\", \"point\", \"point\", \"possession\", \"power\", \"power\", \"power\", \"power\", \"power\", \"power\", \"power\", \"ppl\", \"ppl\", \"practice\", \"practice\", \"practice\", \"practice\", \"presence\", \"problem\", \"problem\", \"problem\", \"problem\", \"problem\", \"problem\", \"problem\", \"proverb\", \"proverb\", \"proverb\", \"proverb\", \"proverb\", \"proverb\", \"proverb\", \"pull\", \"pull\", \"pull\", \"push\", \"push\", \"push\", \"question\", \"question\", \"question\", \"question\", \"question\", \"question\", \"question\", \"rabindranath\", \"rabindranath\", \"race\", \"race\", \"raise\", \"raise\", \"raise\", \"raise\", \"ralph\", \"rate\", \"realise\", \"reality\", \"reality\", \"reality\", \"reality\", \"reality\", \"reap\", \"reason\", \"reason\", \"reason\", \"reason\", \"reason\", \"reason\", \"reason\", \"refuse\", \"refuse\", \"release\", \"release\", \"release\", \"remedy\", \"remedy\", \"remedy\", \"remedy\", \"remedy\", \"remedy\", \"remember\", \"remember\", \"remember\", \"remember\", \"remember\", \"remember\", \"respect\", \"respect\", \"respect\", \"respect\", \"respect\", \"respect\", \"respect\", \"response\", \"result\", \"result\", \"result\", \"result\", \"result\", \"result\", \"result\", \"reward\", \"rice\", \"richard\", \"richard\", \"rise\", \"rise\", \"rise\", \"rise\", \"rise\", \"risk\", \"risk\", \"robert\", \"robert\", \"rohn\", \"rohn\", \"rohn\", \"roosevelt\", \"roosevelt\", \"roosevelt\", \"rowling\", \"ruth\", \"sail\", \"saying\", \"saying\", \"seed\", \"self\", \"self\", \"self\", \"self\", \"self\", \"self\", \"send\", \"send\", \"send\", \"seneca\", \"sense\", \"sense\", \"sense\", \"sense\", \"seus\", \"seuss\", \"shadow\", \"shakur\", \"shell\", \"shine\", \"ship\", \"silence\", \"silence\", \"silence\", \"silence\", \"situation\", \"solution\", \"solve\", \"solve\", \"solve\", \"solve\", \"solve\", \"sorrow\", \"soul\", \"soul\", \"soul\", \"soul\", \"soul\", \"soul\", \"soul\", \"speak\", \"speak\", \"speak\", \"specie\", \"speech\", \"speech\", \"speed\", \"spell\", \"spirit\", \"stand\", \"stand\", \"start\", \"start\", \"start\", \"start\", \"start\", \"stay\", \"stay\", \"stay\", \"stay\", \"stay\", \"steer\", \"step\", \"step\", \"step\", \"step\", \"step\", \"step\", \"step\", \"stephen\", \"stevenson\", \"stevenson\", \"stone\", \"stone\", \"stop\", \"stop\", \"stop\", \"stop\", \"stop\", \"stop\", \"stop\", \"storm\", \"storm\", \"storm\", \"storm\", \"strength\", \"strength\", \"strength\", \"strength\", \"strengthen\", \"strengthen\", \"strike\", \"stuff\", \"stuff\", \"succeed\", \"succeed\", \"succeed\", \"succeed\", \"succeed\", \"succeed\", \"succeed\", \"success\", \"success\", \"success\", \"success\", \"success\", \"success\", \"success\", \"suit\", \"suit\", \"suit\", \"suit\", \"talk\", \"talk\", \"talk\", \"talk\", \"talk\", \"tall\", \"tennis\", \"tenzin\", \"tenzin\", \"tenzin\", \"teresa\", \"teresa\", \"teresa\", \"teresa\", \"test\", \"test\", \"test\", \"test\", \"test\", \"test\", \"thatcher\", \"thing\", \"thing\", \"thing\", \"thing\", \"thing\", \"thing\", \"thing\", \"think\", \"think\", \"think\", \"think\", \"think\", \"think\", \"thinking\", \"thinking\", \"thinking\", \"thinking\", \"thinking\", \"thirsty\", \"thomas\", \"thomas\", \"thomas\", \"thomas\", \"thomas\", \"thoreau\", \"thought\", \"thought\", \"thought\", \"thought\", \"thought\", \"thought\", \"thought\", \"time\", \"time\", \"time\", \"time\", \"time\", \"time\", \"time\", \"today\", \"today\", \"today\", \"today\", \"today\", \"today\", \"tomorrow\", \"tongue\", \"treat\", \"treat\", \"treat\", \"treat\", \"trouble\", \"truman\", \"trust\", \"trust\", \"trust\", \"trust\", \"trust\", \"truth\", \"truth\", \"truth\", \"truth\", \"truth\", \"truth\", \"try\", \"try\", \"try\", \"try\", \"try\", \"try\", \"try\", \"tzu\", \"tzu\", \"tzu\", \"tzu\", \"tzu\", \"tzu\", \"understanding\", \"understanding\", \"understanding\", \"universe\", \"unk\", \"unk\", \"unk\", \"unk\", \"unk\", \"unk\", \"unk\", \"use\", \"use\", \"use\", \"use\", \"use\", \"use\", \"use\", \"value\", \"value\", \"value\", \"value\", \"value\", \"value\", \"value\", \"van\", \"version\", \"victory\", \"vincent\", \"vincent\", \"voltaire\", \"voltaire\", \"voltaire\", \"voltaire\", \"wait\", \"wait\", \"wait\", \"wait\", \"wait\", \"wait\", \"wait\", \"waldo\", \"waldo\", \"wall\", \"waste\", \"waste\", \"waste\", \"waste\", \"waste\", \"waste\", \"watch\", \"watch\", \"watch\", \"watch\", \"water\", \"water\", \"way\", \"way\", \"way\", \"way\", \"way\", \"way\", \"way\", \"wear\", \"weather\", \"weather\", \"welch\", \"wife\", \"wilde\", \"wilde\", \"win\", \"win\", \"win\", \"wind\", \"wind\", \"wind\", \"windshield\", \"winner\", \"winston\", \"winston\", \"winston\", \"wisdom\", \"wisdom\", \"wisdom\", \"wisdom\", \"wisdom\", \"wisdom\", \"wisdom\", \"woman\", \"woman\", \"woman\", \"woman\", \"woman\", \"woman\", \"wooden\", \"word\", \"word\", \"word\", \"word\", \"word\", \"word\", \"work\", \"work\", \"work\", \"work\", \"work\", \"work\", \"work\", \"world\", \"world\", \"world\", \"world\", \"world\", \"world\", \"world\", \"year\", \"year\", \"year\", \"year\", \"year\", \"year\", \"zen\"]}, \"R\": 30, \"lambda.step\": 0.01, \"plot.opts\": {\"xlab\": \"PC1\", \"ylab\": \"PC2\"}, \"topic.order\": [4, 5, 2, 1, 6, 7, 3]};\n",
              "\n",
              "function LDAvis_load_lib(url, callback){\n",
              "  var s = document.createElement('script');\n",
              "  s.src = url;\n",
              "  s.async = true;\n",
              "  s.onreadystatechange = s.onload = callback;\n",
              "  s.onerror = function(){console.warn(\"failed to load library \" + url);};\n",
              "  document.getElementsByTagName(\"head\")[0].appendChild(s);\n",
              "}\n",
              "\n",
              "if(typeof(LDAvis) !== \"undefined\"){\n",
              "   // already loaded: just create the visualization\n",
              "   !function(LDAvis){\n",
              "       new LDAvis(\"#\" + \"ldavis_el741402865986224482576418045\", ldavis_el741402865986224482576418045_data);\n",
              "   }(LDAvis);\n",
              "}else if(typeof define === \"function\" && define.amd){\n",
              "   // require.js is available: use it to load d3/LDAvis\n",
              "   require.config({paths: {d3: \"https://cdnjs.cloudflare.com/ajax/libs/d3/3.5.5/d3.min\"}});\n",
              "   require([\"d3\"], function(d3){\n",
              "      window.d3 = d3;\n",
              "      LDAvis_load_lib(\"https://cdn.rawgit.com/bmabey/pyLDAvis/files/ldavis.v1.0.0.js\", function(){\n",
              "        new LDAvis(\"#\" + \"ldavis_el741402865986224482576418045\", ldavis_el741402865986224482576418045_data);\n",
              "      });\n",
              "    });\n",
              "}else{\n",
              "    // require.js not available: dynamically load d3 & LDAvis\n",
              "    LDAvis_load_lib(\"https://cdnjs.cloudflare.com/ajax/libs/d3/3.5.5/d3.min.js\", function(){\n",
              "         LDAvis_load_lib(\"https://cdn.rawgit.com/bmabey/pyLDAvis/files/ldavis.v1.0.0.js\", function(){\n",
              "                 new LDAvis(\"#\" + \"ldavis_el741402865986224482576418045\", ldavis_el741402865986224482576418045_data);\n",
              "            })\n",
              "         });\n",
              "}\n",
              "</script>"
            ],
            "text/plain": [
              "PreparedData(topic_coordinates=              x         y  topics  cluster       Freq\n",
              "topic                                                \n",
              "3      0.118773 -0.099551       1        1  15.838854\n",
              "4      0.223100 -0.020295       2        1  14.859052\n",
              "1     -0.180366  0.018814       3        1  14.671364\n",
              "0     -0.276369 -0.075103       4        1  14.271473\n",
              "5      0.002739 -0.283289       5        1  13.700606\n",
              "6      0.206018  0.143051       6        1  13.479049\n",
              "2     -0.093896  0.316373       7        1  13.179601, topic_info=           Term           Freq          Total Category  logprob  loglift\n",
              "1463       dyer  110188.000000  110188.000000  Default  30.0000  30.0000\n",
              "78         life   60056.000000   60056.000000  Default  29.0000  29.0000\n",
              "72        thing   38847.000000   38847.000000  Default  28.0000  28.0000\n",
              "119        time   39074.000000   39074.000000  Default  27.0000  27.0000\n",
              "58       change   24886.000000   24886.000000  Default  26.0000  26.0000\n",
              "...         ...            ...            ...      ...      ...      ...\n",
              "113        meet    2413.499273    2476.752852   Topic7  -5.0117   2.0006\n",
              "1027     loving    3023.996800    3972.034628   Topic7  -4.7862   1.7538\n",
              "206   challenge    2536.115612    2960.864985   Topic7  -4.9621   1.8717\n",
              "354       power    3928.435218   15541.960180   Topic7  -4.5245   0.6512\n",
              "2080     defeat    2590.552604    4041.024731   Topic7  -4.9409   1.5819\n",
              "\n",
              "[463 rows x 6 columns], token_table=      Topic      Freq       Term\n",
              "term                            \n",
              "133       4  0.000963    abraham\n",
              "133       5  0.998989    abraham\n",
              "27        1  0.000227  abundance\n",
              "27        2  0.001134  abundance\n",
              "27        3  0.001361  abundance\n",
              "...     ...       ...        ...\n",
              "48        3  0.992067       year\n",
              "48        4  0.002609       year\n",
              "48        5  0.000326       year\n",
              "48        6  0.000326       year\n",
              "3498      4  0.999659        zen\n",
              "\n",
              "[1353 rows x 3 columns], R=30, lambda_step=0.01, plot_opts={'xlab': 'PC1', 'ylab': 'PC2'}, topic_order=[4, 5, 2, 1, 6, 7, 3])"
            ]
          },
          "metadata": {
            "tags": []
          },
          "execution_count": 25
        }
      ]
    }
  ]
}
